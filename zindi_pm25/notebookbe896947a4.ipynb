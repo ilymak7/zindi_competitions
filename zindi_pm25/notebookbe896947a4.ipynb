{
 "cells": [
  {
   "cell_type": "code",
   "execution_count": 2,
   "metadata": {
    "_cell_guid": "b1076dfc-b9ad-4769-8c92-a6c4dae69d19",
    "_uuid": "8f2839f25d086af736a60e9eeb907d3b93b6e0e5",
    "execution": {
     "iopub.execute_input": "2022-09-09T20:58:08.644808Z",
     "iopub.status.busy": "2022-09-09T20:58:08.644404Z",
     "iopub.status.idle": "2022-09-09T20:58:12.010396Z",
     "shell.execute_reply": "2022-09-09T20:58:12.009060Z",
     "shell.execute_reply.started": "2022-09-09T20:58:08.644763Z"
    }
   },
   "outputs": [],
   "source": [
    "import pandas as pd\n",
    "import seaborn as sns\n",
    "import matplotlib.pyplot as plt\n",
    "import numpy as np\n",
    "import seaborn as sns\n",
    "from datetime import datetime, timedelta\n",
    "\n",
    "from datetime import datetime as dt\n",
    "import itertools\n",
    "from tqdm import tqdm\n",
    "from scipy.stats import norm, t\n",
    "%matplotlib inline\n",
    "from sklearn.model_selection import StratifiedKFold\n",
    "from sklearn import metrics\n",
    "from sklearn.preprocessing import LabelEncoder\n",
    "# from sklearn.ensemble import RandomForestClassifier\n",
    "from sklearn.datasets import make_classification\n",
    "from sklearn.preprocessing import StandardScaler,MinMaxScaler\n",
    "pd.set_option('display.max_columns', None)\n",
    "import warnings\n",
    "warnings.filterwarnings('ignore')\n",
    "import lightgbm as lgb \n",
    "from sklearn.ensemble import RandomForestClassifier\n",
    "from xgboost import XGBClassifier\n",
    "from sklearn.linear_model import LinearRegression\n",
    "from sklearn.metrics import accuracy_score,log_loss\n",
    "# import lightgbm as lgb\n",
    "import gc\n",
    "\n",
    "from sklearn.model_selection import StratifiedKFold,KFold\n",
    "from sklearn import metrics\n",
    "import xgboost as xgb\n",
    "\n",
    "\n",
    "# You can write up to 20GB to the current directory (/kaggle/working/) that gets preserved as output when you create a version using \"Save & Run All\" \n",
    "# You can also write temporary files to /kaggle/temp/, but they won't be saved outside of the current session"
   ]
  },
  {
   "cell_type": "code",
   "execution_count": 6,
   "metadata": {
    "execution": {
     "iopub.execute_input": "2022-09-09T20:58:12.013291Z",
     "iopub.status.busy": "2022-09-09T20:58:12.012906Z",
     "iopub.status.idle": "2022-09-09T20:58:12.018362Z",
     "shell.execute_reply": "2022-09-09T20:58:12.017428Z",
     "shell.execute_reply.started": "2022-09-09T20:58:12.013258Z"
    }
   },
   "outputs": [],
   "source": [
    "# ss"
   ]
  },
  {
   "cell_type": "code",
   "execution_count": 11,
   "metadata": {
    "execution": {
     "iopub.execute_input": "2022-09-09T21:09:47.534178Z",
     "iopub.status.busy": "2022-09-09T21:09:47.533762Z",
     "iopub.status.idle": "2022-09-09T21:09:47.756550Z",
     "shell.execute_reply": "2022-09-09T21:09:47.755360Z",
     "shell.execute_reply.started": "2022-09-09T21:09:47.534145Z"
    }
   },
   "outputs": [],
   "source": [
    "train_ori = pd.read_csv('train.csv',parse_dates=['date'])\n",
    "test_ori = pd.read_csv('test.csv',parse_dates=['date'])\n",
    "ss =pd.read_csv('SampleSubmission.csv')"
   ]
  },
  {
   "cell_type": "code",
   "execution_count": 5,
   "metadata": {
    "execution": {
     "iopub.execute_input": "2022-09-09T21:09:51.709462Z",
     "iopub.status.busy": "2022-09-09T21:09:51.709051Z",
     "iopub.status.idle": "2022-09-09T21:09:51.720891Z",
     "shell.execute_reply": "2022-09-09T21:09:51.719747Z",
     "shell.execute_reply.started": "2022-09-09T21:09:51.709424Z"
    }
   },
   "outputs": [],
   "source": [
    "# train.site_latitude.sort_values().unique()\n"
   ]
  },
  {
   "cell_type": "code",
   "execution_count": 6,
   "metadata": {
    "execution": {
     "iopub.execute_input": "2022-09-09T20:58:12.517243Z",
     "iopub.status.busy": "2022-09-09T20:58:12.516874Z",
     "iopub.status.idle": "2022-09-09T20:58:12.561912Z",
     "shell.execute_reply": "2022-09-09T20:58:12.560715Z",
     "shell.execute_reply.started": "2022-09-09T20:58:12.517208Z"
    }
   },
   "outputs": [],
   "source": [
    "# a = train.site_latitude.unique()\n",
    "def get_prev(df,shifts = 1,col = 'pm2_5'):\n",
    "    df['shifted_'+str(shifts)] = df.shift(shifts)[col].values\n",
    "    return df\n",
    "def target_encode(df_train,df_test,target,groupss):\n",
    "    groupss_target_mean = df_train.groupby(groupss)[target].mean()\n",
    "    groupss_target_max = df_train.groupby(groupss)[target].max()\n",
    "    groupss_target_min = df_train.groupby(groupss)[target].min()\n",
    "    groupss_target_std = df_train.groupby(groupss)[target].std()\n",
    "    groupss_target_median = df_train.groupby(groupss)[target].apply(lambda x : np.median(x))\n",
    "    groupss_target_q95 = df_train.groupby(groupss)[target].apply(lambda x : np.quantile(x,0.95))\n",
    "    groupss_target_q05 = df_train.groupby(groupss)[target].apply(lambda x : np.quantile(x,0.05))\n",
    "    groupss_target_skew = df_train.groupby(groupss)[target].skew()\n",
    "    groupss_target_kurt = df_train.groupby(groupss)[target].apply(lambda x : x.kurtosis())\n",
    "    # groupss_target_mean = df_train.groupby(groupss)[target].mean()\n",
    "    df_test[groupss+target+'enc'] = df_test[groupss].map(groupss_target_mean)\n",
    "    df_test[groupss+target+'enc'].fillna((df_test[groupss+target+'enc'].mean()), inplace=True)\n",
    "    df_test[groupss+target+'enc1'] = df_test[groupss].map(groupss_target_max)\n",
    "    df_test[groupss+target+'enc1'].fillna((df_test[groupss+target+'enc1'].mean()), inplace=True)\n",
    "    df_test[groupss+target+'enc2'] = df_test[groupss].map(groupss_target_min)\n",
    "    df_test[groupss+target+'enc2'].fillna((df_test[groupss+target+'enc2'].mean()), inplace=True)\n",
    "    df_test[groupss+target+'enc3'] = df_test[groupss].map(groupss_target_std)\n",
    "    df_test[groupss+target+'enc3'].fillna((df_test[groupss+target+'enc3'].mean()), inplace=True)\n",
    "    df_test[groupss+target+'enc4'] = df_test[groupss].map(groupss_target_median)\n",
    "    df_test[groupss+target+'enc4'].fillna((df_test[groupss+target+'enc4'].mean()), inplace=True)\n",
    "    df_test[groupss+target+'enc5'] = df_test[groupss].map(groupss_target_q95)\n",
    "    df_test[groupss+target+'enc5'].fillna((df_test[groupss+target+'enc5'].mean()), inplace=True)\n",
    "    df_test[groupss+target+'enc6'] = df_test[groupss].map(groupss_target_q05)\n",
    "    df_test[groupss+target+'enc6'].fillna((df_test[groupss+target+'enc6'].mean()), inplace=True)\n",
    "    df_test[groupss+target+'enc7'] = df_test[groupss].map(groupss_target_skew)\n",
    "    df_test[groupss+target+'enc7'].fillna((df_test[groupss+target+'enc7'].mean()), inplace=True)\n",
    "    df_test[groupss+target+'enc8'] = df_test[groupss].map(groupss_target_kurt)\n",
    "    df_test[groupss+target+'enc8'].fillna((df_test[groupss+target+'enc8'].mean()), inplace=True)\n",
    "    tmp =np.repeat(np.nan, df_train.shape[0])\n",
    "    kf = KFold(n_splits = 5, shuffle=True,random_state = 19910325)\n",
    "    for idx_1, idx_2 in kf.split(df_train):\n",
    "        target_mean = df_train.iloc[idx_1].groupby(groupss)[target].apply(lambda x : x.skew())\n",
    "        tmp[idx_2] = df_train[groupss].iloc[idx_2].map(target_mean)\n",
    "    df_train[groupss+target+'enc7'] = tmp\n",
    "    tmp =np.repeat(np.nan, df_train.shape[0])\n",
    "    kf = KFold(n_splits = 5, shuffle=True,random_state = 19910325)\n",
    "    for idx_1, idx_2 in kf.split(df_train):\n",
    "        target_mean = df_train.iloc[idx_1].groupby(groupss)[target].apply(lambda x : x.kurtosis())\n",
    "\n",
    "        tmp[idx_2] = df_train[groupss].iloc[idx_2].map(target_mean)\n",
    "    df_train[groupss+target+'enc8'] = tmp\n",
    "    \n",
    "    tmp =np.repeat(np.nan, df_train.shape[0])\n",
    "    kf = KFold(n_splits = 5, shuffle=True,random_state = 19910325)\n",
    "    for idx_1, idx_2 in kf.split(df_train):\n",
    "        target_mean = df_train.iloc[idx_1].groupby(groupss)[target].apply(lambda x : np.quantile(x,0.05))\n",
    "\n",
    "        tmp[idx_2] = df_train[groupss].iloc[idx_2].map(target_mean)\n",
    "    df_train[groupss+target+'enc6'] = tmp\n",
    "    # from sklearn.model_selection import KFold\n",
    "    tmp = np.repeat(np.nan, df_train.shape[0])\n",
    "    kf = KFold(n_splits = 5, shuffle=True,random_state = 1991032)\n",
    "    for idx_1, idx_2 in kf.split(df_train):\n",
    "        target_mean = df_train.iloc[idx_1].groupby(groupss)[target].apply(lambda x : np.quantile(x,0.95))\n",
    "\n",
    "        tmp[idx_2] = df_train[groupss].iloc[idx_2].map(target_mean)\n",
    "    df_train[groupss+target+'enc5'] = tmp\n",
    "\n",
    "\n",
    "\n",
    "    # from sklearn.model_selection import KFold\n",
    "    tmp = np.repeat(np.nan, df_train.shape[0])\n",
    "    kf = KFold(n_splits = 5, shuffle=True,random_state = 1991035)\n",
    "    for idx_1, idx_2 in kf.split(df_train):\n",
    "        target_mean = df_train.iloc[idx_1].groupby(groupss)[target].apply(lambda x : np.median(x))\n",
    "\n",
    "        tmp[idx_2] = df_train[groupss].iloc[idx_2].map(target_mean)\n",
    "    df_train[groupss+target+'enc4'] = tmp\n",
    "\n",
    "\n",
    "\n",
    "    # from sklearn.model_selection import KFold\n",
    "    tmp = np.repeat(np.nan, df_train.shape[0])\n",
    "    kf = KFold(n_splits = 5, shuffle=True,random_state = 1910325)\n",
    "    for idx_1, idx_2 in kf.split(df_train):\n",
    "        target_mean = df_train.iloc[idx_1].groupby(groupss)[target].mean()\n",
    "\n",
    "        tmp[idx_2] = df_train[groupss].iloc[idx_2].map(target_mean)\n",
    "    df_train[groupss+target+'enc'] = tmp\n",
    "\n",
    "\n",
    "\n",
    "    # from sklearn.model_selection import KFold\n",
    "    tmp = np.repeat(np.nan, df_train.shape[0])\n",
    "    kf = KFold(n_splits = 5, shuffle=True,random_state = 1991025)\n",
    "    for idx_1, idx_2 in kf.split(df_train):\n",
    "        target_max = df_train.iloc[idx_1].groupby(groupss)[target].max()\n",
    "\n",
    "        tmp[idx_2] = df_train[groupss].iloc[idx_2].map(target_max)\n",
    "    df_train[groupss+target+'enc1'] = tmp\n",
    "    # from sklearn.model_selection import KFold/\n",
    "    tmp = np.repeat(np.nan, df_train.shape[0])\n",
    "    kf = KFold(n_splits = 5, shuffle=True,random_state = 1990325)\n",
    "    for idx_1, idx_2 in kf.split(df_train):\n",
    "        target_min = df_train.iloc[idx_1].groupby(groupss)[target].min()\n",
    "\n",
    "        tmp[idx_2] = df_train[groupss].iloc[idx_2].map(target_min)\n",
    "    df_train[groupss+target+'enc2'] = tmp\n",
    "    # from sklearn.model_selection import KFold\n",
    "    tmp = np.repeat(np.nan, df_train.shape[0])\n",
    "    kf = KFold(n_splits = 5, shuffle=True,random_state = 19910325)\n",
    "    for idx_1, idx_2 in kf.split(df_train):\n",
    "        target_std = df_train.iloc[idx_1].groupby(groupss)[target].std()\n",
    "\n",
    "        tmp[idx_2] = df_train[groupss].iloc[idx_2].map(target_std)\n",
    "    df_train[groupss+target+'enc3'] = tmp\n",
    "    df_train[groupss+target+'enc'].fillna((df_train[groupss+target+'enc'].mean()), inplace=True)\n",
    "    df_train[groupss+target+'enc1'].fillna((df_train[groupss+target+'enc1'].mean()), inplace=True)\n",
    "    df_train[groupss+target+'enc2'].fillna((df_train[groupss+target+'enc2'].mean()), inplace=True)\n",
    "    df_train[groupss+target+'enc3'].fillna((df_train[groupss+target+'enc3'].mean()), inplace=True)\n",
    "    df_train[groupss+target+'enc4'].fillna((df_train[groupss+target+'enc4'].mean()), inplace=True)\n",
    "    df_train[groupss+target+'enc5'].fillna((df_train[groupss+target+'enc5'].mean()), inplace=True)\n",
    "    df_train[groupss+target+'enc6'].fillna((df_train[groupss+target+'enc6'].mean()), inplace=True)\n",
    "    return df_train, df_test\n"
   ]
  },
  {
   "cell_type": "code",
   "execution_count": 222,
   "metadata": {},
   "outputs": [
    {
     "data": {
      "text/plain": [
       "date\n",
       "2019-03-14    31.415000\n",
       "2019-03-15    28.940000\n",
       "2019-03-16    34.349272\n",
       "2019-03-17    43.131879\n",
       "2019-03-18    30.584458\n",
       "                ...    \n",
       "2020-08-16    88.384117\n",
       "2020-08-17    95.950134\n",
       "2020-08-18    68.006909\n",
       "2020-08-19    51.505567\n",
       "2020-08-20    58.179890\n",
       "Freq: D, Name: pm2_5, Length: 526, dtype: float64"
      ]
     },
     "execution_count": 222,
     "metadata": {},
     "output_type": "execute_result"
    }
   ],
   "source": [
    "# train.resample('d')['pm2_5'].mean()\n",
    "train"
   ]
  },
  {
   "cell_type": "code",
   "execution_count": 535,
   "metadata": {},
   "outputs": [],
   "source": [
    "from sklearn.preprocessing import RobustScaler"
   ]
  },
  {
   "cell_type": "code",
   "execution_count": 584,
   "metadata": {
    "execution": {
     "iopub.execute_input": "2022-09-09T20:58:12.564823Z",
     "iopub.status.busy": "2022-09-09T20:58:12.564062Z",
     "iopub.status.idle": "2022-09-09T20:58:21.851425Z",
     "shell.execute_reply": "2022-09-09T20:58:21.850057Z",
     "shell.execute_reply.started": "2022-09-09T20:58:12.564758Z"
    }
   },
   "outputs": [],
   "source": [
    "def preprocess(train,test):\n",
    "    le = LabelEncoder()\n",
    "    train['Train']=1\n",
    "    test['Train']=0\n",
    "#     home_teams=train['Home Team'].unique()\n",
    "    all_data=pd.concat([train,test])\n",
    "    all_data['month'] = all_data.date.dt.month\n",
    "    all_data['year'] = all_data.date.dt.year\n",
    "    all_data['day'] = all_data.date.dt.day\n",
    "    all_data['week'] = all_data.date.dt.week\n",
    "    all_data['dow'] = all_data.date.dt.dayofweek\n",
    "    all_data['woy'] = all_data.date.dt.weekofyear\n",
    "    all_data[['site_latitude','site_longitude']] =  all_data[['site_latitude','site_longitude']] .round(5)\n",
    "#     for c in all_data.drop(['date','pm2_5'], axis = 1).select_dtypes(exclude = 'object').columns:\n",
    "#         all_data[c] = all_data[c].fillna(all_data[c].min()-(all_data[c].max()-all_data[c].min()))\n",
    "    all_data['device'] = le.fit_transform(all_data['device'].values.reshape(-1,1))\n",
    "    le =LabelEncoder()\n",
    "    all_data['site_code'] = le.fit_transform(all_data['site_latitude'].values.reshape(-1,1))\n",
    "    all_data = get_prev(all_data.reset_index(drop = True),shifts = 1,col = 'pm2_5')\n",
    "    train = all_data.loc[all_data.Train == 1].reset_index(drop = True)\n",
    "    test = all_data.loc[all_data.Train == 0].reset_index(drop = True)\n",
    "#     scale= all_data.drop('pm2_5',axis = 1).select_dtypes(include = 'float').columns\n",
    "#     rs = RobustScaler()\n",
    "#     train[scale] = rs.fit_transform(train[scale])\n",
    "#     test[scale] = rs.transform(test[scale])\n",
    "    train,test = target_encode(train,test,target = 'pm2_5',groupss = 'site_latitude')\n",
    "    return train, test\n",
    "def _get_X_Y_DF_from_CV(train_X, train_Y, train_index, validation_index):\n",
    "        X_train, X_validation = (\n",
    "            train_X.iloc[train_index],\n",
    "            train_X.iloc[validation_index],\n",
    "        )\n",
    "        y_train, y_validation = (\n",
    "            train_Y.iloc[train_index],\n",
    "            train_Y.iloc[validation_index],\n",
    "        )\n",
    "        return X_train, X_validation, y_train, y_validation\n",
    "    \n",
    "\n",
    "def train_lgb(X,y,test_data,params,seed_lgb,shuffle_lgb,kf):\n",
    "    features_importance= pd.DataFrame({'Feature':[], 'Importance':[]})\n",
    "    models =[]\n",
    "    train_X = X.copy()\n",
    "    train_Y = y.copy()\n",
    "    test_X = test_data.copy()\n",
    "    print(f\"Shape of train_X : {train_X.shape}, test_X: {test_X.shape}, train_Y: {train_Y.shape}\")\n",
    "\n",
    "    predictors = list(train_X.columns)\n",
    "    # print(f\"List of features to be used {list(predictors)}\")\n",
    "\n",
    "    # Selecting n_splits to be 3, since class 42 has \n",
    "    # just 3 instances\n",
    "    kf = GroupKFold(n_splits=K_FOLDS)\n",
    "    y_oof_lgb = np.zeros(shape=(len(train_X),))\n",
    "    y_predicted_lgb = np.zeros(shape=(len(test_X),))\n",
    "    cv_scores = []\n",
    "    fold = 0\n",
    "    n_folds = K_FOLDS\n",
    "    for train_index, validation_index in kf.split(train_X,train_Y,groups = train_X['site_code']):\n",
    "        fold += 1\n",
    "        print(f\"fold {fold} of {n_folds}\")\n",
    "\n",
    "        X_train, X_validation, y_train, y_validation = _get_X_Y_DF_from_CV(\n",
    "            train_X, train_Y, train_index, validation_index\n",
    "        )\n",
    "\n",
    "        lgb_train = lgb.Dataset(X_train, y_train)\n",
    "        lgb_eval = lgb.Dataset(X_validation, y_validation, reference=lgb_train)\n",
    "\n",
    "        model = lgb.train(\n",
    "            lgb_params,\n",
    "            lgb_train,\n",
    "            valid_sets=[lgb_train, lgb_eval],\n",
    "            verbose_eval=100,\n",
    "            early_stopping_rounds=EARLY_STOPPING_ROUNDS,\n",
    "            num_boost_round=N_ESTIMATORS,\n",
    "            feature_name=predictors,\n",
    "            categorical_feature=\"auto\",\n",
    "        )\n",
    "        del lgb_train, lgb_eval, train_index, X_train, y_train\n",
    "        gc.collect()\n",
    "\n",
    "        y_oof_lgb[validation_index] = model.predict(\n",
    "            X_validation, num_iteration=model.best_iteration\n",
    "        )\n",
    "\n",
    "        y_predicted_lgb += model.predict(\n",
    "            test_data.values, num_iteration=model.best_iteration\n",
    "        )\n",
    "        fold_importance_df= pd.DataFrame({'Feature':[], 'Importance':[]})\n",
    "        fold_importance_df['Feature']= predictors\n",
    "        fold_importance_df['Importance']= model.feature_importance()\n",
    "        fold_importance_df[\"fold\"] = fold + 1\n",
    "        features_importance = pd.concat([features_importance, fold_importance_df], axis=0)\n",
    "        models.append(model)\n",
    "\n",
    "        best_iteration = model.best_iteration\n",
    "        print(f\"Best number of iterations for fold {fold} is: {best_iteration}\")\n",
    "\n",
    "        cv_oof_score = metrics.mean_absolute_error(y_validation, y_oof_lgb[validation_index])\n",
    "        cv_scores.append(cv_oof_score)\n",
    "        print(f\"CV OOF Score for fold {fold} is {cv_oof_score}\")\n",
    "\n",
    "        del validation_index, X_validation, y_validation\n",
    "        gc.collect()\n",
    "\n",
    "    y_predicted_lgb /= n_folds\n",
    "    oof_score = round(metrics.mean_absolute_error(train_Y, y_oof_lgb), 5)\n",
    "    avg_cv_scores = round(sum(cv_scores) / len(cv_scores), 5)\n",
    "    std_cv_scores = round(np.array(cv_scores).std(), 5)\n",
    "    return y_predicted_lgb,models,y_oof_lgb,oof_score,features_importance\n",
    "def train_catbo(train_X, train_Y,test_X,params,seed_cat,shuffle_cat):\n",
    "# model.fit(train_pool,plot=True,eval_set=test_pool)\n",
    "    kf = KFold(random_state=seed_cat,n_splits=K_FOLDS, shuffle=shuffle_cat)\n",
    "    y_oof = np.zeros(shape=(len(train_X),))\n",
    "    y_predicted = np.zeros(shape=(len(test_X),))\n",
    "    cv_scores = []\n",
    "    models = []\n",
    "    fold = 0\n",
    "    n_folds = kf.get_n_splits()\n",
    "    for train_index, validation_index in kf.split(X=train_X, y=train_Y):\n",
    "        fold += 1\n",
    "        print(f\"fold {fold} of {n_folds}\")\n",
    "\n",
    "        X_train, X_validation, y_train, y_validation = _get_X_Y_DF_from_CV(\n",
    "            train_X, train_Y, train_index, validation_index\n",
    "        )\n",
    "\n",
    "        train_pool = Pool(data=X_train, label=y_train)\n",
    "        eval_pool = Pool(data=X_validation, label=y_validation.values) \n",
    "        model = CatBoostRegressor(**params)\n",
    "        model.fit(train_pool,plot=True,eval_set=eval_pool)\n",
    "        del train_index, X_train, y_train\n",
    "        gc.collect()\n",
    "        models.append(model)\n",
    "        y_oof[validation_index] = model.predict(\n",
    "            X_validation )\n",
    "\n",
    "        y_predicted += model.predict(\n",
    "            test_X.values\n",
    "        )\n",
    "\n",
    "    #     best_iteration = model.best_iteration\n",
    "    #     print(f\"Best number of iterations for fold {fold} is: {best_iteration}\")\n",
    "\n",
    "        cv_oof_score = metrics.mean_absolute_error(y_validation, y_oof[validation_index])\n",
    "        cv_scores.append(cv_oof_score)\n",
    "        print(f\"CV OOF Score for fold {fold} is {cv_oof_score}\")\n",
    "\n",
    "        del validation_index, X_validation, y_validation\n",
    "        gc.collect()\n",
    "\n",
    "    y_predicted /= n_folds\n",
    "    oof_score = round(metrics.mean_absolute_error(train_Y, y_oof), 5)\n",
    "    avg_cv_scores = round(sum(cv_scores) / len(cv_scores), 5)\n",
    "    std_cv_scores = round(np.array(cv_scores).std(), 5)\n",
    "    return y_predicted,models,y_oof,oof_score\n",
    "def train_xgb(X,y,test_data,params,num_iter=1500,es = 100,ve = 100,seed_xgb=42,shuffle_xgb=True):\n",
    "    features = X.columns\n",
    "    X = X.values\n",
    "    # y = train['target'].values\n",
    "    y_oof = np.zeros(shape=(len(X),))\n",
    "    y_predicted = np.zeros(shape=(len(test_data), ))\n",
    "    cv_scores = []\n",
    "    models = []\n",
    "    kf = KFold(random_state=seed_xgb,n_splits=K_FOLDS, shuffle=shuffle_xgb)\n",
    "\n",
    "    for i, (train_index, test_index) in enumerate(kf.split(X, y)):\n",
    "        print(' xgb kfold: {}  of  {} : '.format(i+1, K_FOLDS ))\n",
    "        X_train, X_valid = X[train_index], X[test_index]\n",
    "        y_train, y_valid = y[train_index], y[test_index]\n",
    "        d_train = xgb.DMatrix(X_train, y_train) \n",
    "        d_valid = xgb.DMatrix(X_valid, y_valid) \n",
    "        watchlist = [(d_train, 'train'), (d_valid, 'valid')]\n",
    "        xgb_model = xgb.train(params, d_train, num_iter, watchlist,\n",
    "                              early_stopping_rounds=es, \n",
    "                            verbose_eval=ve)\n",
    "        models.append(xgb_model)\n",
    "        y_oof[test_index] = xgb_model.predict(xgb.DMatrix(X_valid), \n",
    "                            ntree_limit=xgb_model.best_ntree_limit)\n",
    "        y_predicted += xgb_model.predict(xgb.DMatrix(test_data[features].values), \n",
    "                            ntree_limit=xgb_model.best_ntree_limit) \n",
    "        \n",
    "        cv_oof_score = metrics.mean_absolute_error(y_valid, y_oof[test_index])\n",
    "        cv_scores.append(cv_oof_score)\n",
    "        print(f\"CV OOF Score for fold {i+1} is {cv_oof_score}\")\n",
    "\n",
    "#         del validation_index, X_validation, y_validation\n",
    "#         gc.collect()\n",
    "\n",
    "    y_predicted /= K_FOLDS\n",
    "    oof_score = round(metrics.mean_absolute_error(y, y_oof), 5)\n",
    "    avg_cv_scores = round(sum(cv_scores) / len(cv_scores), 5)\n",
    "    std_cv_scores = round(np.array(cv_scores).std(), 5)\n",
    "    return y_predicted,models,y_oof,oof_score \n",
    "def train_keras(X,train,test_data):\n",
    "#     train ['Original_score'] = le.inverse_transform(train.Score)\n",
    "#     scaler = MinMaxScaler(feature_range=(0, 1))\n",
    "#     X_scaled = scaler.fit_transform(X)\n",
    "#     X_scaled = pd.DataFrame(X_scaled)\n",
    "#     Y = pd.get_dummies(train['Original_score'])\n",
    "    X_scaled = X.values\n",
    "    Y = Y.values\n",
    "    inp = len(X.columns)\n",
    "    y_oof = np.zeros(shape=(len(X), NUM_CLASSES))\n",
    "    y_predicted = np.zeros(shape=(len(test_data), NUM_CLASSES))\n",
    "    cv_scores = []\n",
    "    models = []\n",
    "    kf = KFold(random_state=SEED,n_splits=K_FOLDS, shuffle=True)\n",
    "    for i, (train_index, test_index) in enumerate(kf.split(X_scaled, Y)):\n",
    "        print(' keras kfold: {}  of  {} : '.format(i+1, K_FOLDS ))\n",
    "        X_train, X_valid = X_scaled[train_index], X_scaled[test_index]\n",
    "        y_train, y_valid = Y[train_index], Y[test_index]\n",
    "#         np.random.seed(SEED)\n",
    "        my_model = baseline_model(inp)\n",
    "        my_model.fit(X_train, y_train,\n",
    "                     validation_data=(X_valid, y_valid),\n",
    "                     epochs=1000,\n",
    "                     callbacks=[EarlyStopping(patience=20)],\n",
    "                     verbose=0)\n",
    "        \n",
    "        models.append(my_model)\n",
    "        y_oof[test_index] = my_model.predict(X_valid)\n",
    "        y_predicted += my_model.predict(test_data.values) \n",
    "        del my_model\n",
    "        gc.collect()\n",
    "        cv_oof_score = metrics.log_loss(y_valid, y_oof[test_index])\n",
    "        cv_scores.append(cv_oof_score)\n",
    "        print(f\"CV OOF Score for fold {i+1} is {cv_oof_score}\")\n",
    "\n",
    "#         del validation_index, X_validation, y_validation\n",
    "#         gc.collect()\n",
    "\n",
    "    y_predicted /= K_FOLDS\n",
    "    oof_score = round(metrics.log_loss(y, y_oof), 5)\n",
    "    avg_cv_scores = round(sum(cv_scores) / len(cv_scores), 5)\n",
    "    std_cv_scores = round(np.array(cv_scores).std(), 5)\n",
    "    return y_predicted,models,y_oof,oof_score \n",
    "from matplotlib import pyplot as plt\n",
    "# Keras imports\n",
    "import numpy as np\n",
    "import pandas as pd\n",
    "from keras.models import Sequential\n",
    "from keras.layers import Dense,Dropout\n",
    "from keras.wrappers.scikit_learn import KerasClassifier\n",
    "from sklearn.model_selection import cross_val_score\n",
    "from sklearn.model_selection import KFold\n",
    "from sklearn.preprocessing import MinMaxScaler\n",
    "import matplotlib.pyplot as plt\n",
    "from sklearn.ensemble import RandomForestClassifier\n",
    "from keras.callbacks import EarlyStopping\n",
    "import os \n",
    "import random\n",
    "import numpy as np \n",
    "\n",
    "DEFAULT_RANDOM_SEED = 2021\n",
    "\n",
    "def seedBasic(seed=DEFAULT_RANDOM_SEED):\n",
    "    random.seed(seed)\n",
    "    os.environ['PYTHONHASHSEED'] = str(seed)\n",
    "    np.random.seed(seed)\n",
    "    \n",
    "# tensorflow random seed \n",
    "import tensorflow as tf \n",
    "def seedTF(seed=DEFAULT_RANDOM_SEED):\n",
    "    tf.random.set_seed(seed)\n",
    "    \n",
    "# torch random seed\n",
    "import torch\n",
    "def seedTorch(seed=DEFAULT_RANDOM_SEED):\n",
    "    torch.manual_seed(seed)\n",
    "    torch.cuda.manual_seed(seed)\n",
    "    torch.backends.cudnn.deterministic = True\n",
    "    torch.backends.cudnn.benchmark = False\n",
    "      \n",
    "# basic + tensorflow + torch \n",
    "def seedEverything(seed=DEFAULT_RANDOM_SEED):\n",
    "    seedBasic(seed)\n",
    "    seedTF(seed)\n",
    "    seedTorch(seed)\n",
    "seedEverything(42)\n",
    "seed = 42\n",
    "\n",
    "def display_importances(feature_importance_df_):\n",
    "    cols = feature_importance_df_[[\"Feature\", \"Importance\"]].groupby(\"Feature\").mean().sort_values(by=\"Importance\", ascending=False)[:10].index\n",
    "    best_features = feature_importance_df_[[\"Feature\", \"Importance\"]].groupby(\"Feature\").mean().sort_values(by=\"Importance\", ascending=False)[:50]\n",
    "    best_features.reset_index(inplace=True)\n",
    "    print(best_features.dtypes)\n",
    "    plt.figure(figsize=(8, 10))\n",
    "    sns.barplot(x=\"Importance\", y=\"Feature\", data=best_features)\n",
    "    plt.title('LightGBM Features (avg over folds)')\n",
    "    plt.tight_layout()\n",
    "def preds_to_sub(test,preds,name = None,log = False):\n",
    "    if log :\n",
    "        test['pm2_5'] = np.exp(preds)\n",
    "    else:\n",
    "        test['pm2_5'] = preds\n",
    "    sub = test[['ID','pm2_5']]\n",
    "    if name:\n",
    "        sub.to_csv(name+'.csv', index = False)\n",
    "    return sub\n",
    "\n",
    "# def preds_to_sub(test,le,y_predicted,save = False):\n",
    "#     Test = test.copy()\n",
    "#     cols=le.inverse_transform([*range(3)])\n",
    "#     Test[cols]= y_predicted\n",
    "#     submit = Test[[\"Game_ID\",'Away win', 'Draw', 'Home Win']]\n",
    "#     submit.drop_duplicates(subset = [\"Game_ID\"], inplace=True)\n",
    "#     submit = submit.reset_index(drop=True)\n",
    "#     if save:\n",
    "#         submit.to_csv(\"submission_gbm15.csv\", index=False)\n",
    "#     return submit   "
   ]
  },
  {
   "cell_type": "code",
   "execution_count": 609,
   "metadata": {
    "execution": {
     "iopub.execute_input": "2022-09-09T20:58:21.853674Z",
     "iopub.status.busy": "2022-09-09T20:58:21.852936Z",
     "iopub.status.idle": "2022-09-09T20:58:22.409342Z",
     "shell.execute_reply": "2022-09-09T20:58:22.408002Z",
     "shell.execute_reply.started": "2022-09-09T20:58:21.853620Z"
    }
   },
   "outputs": [],
   "source": [
    "# sns.distplot(train['pm2_5'])\n",
    "# train.loc[train.pm2_5 == train.pm2_5.max() ]\n",
    "# plt.plot(train.loc[(train.site_latitude == 0.2182)& (train.site_longitude == 32.6176),'date'],\n",
    "# train.loc[(train.site_latitude == 0.2182)& (train.site_longitude == 32.6176),'pm2_5'])\n",
    "# test.date.min()\n",
    "# test.device.isin(train.device.unique()).all()\n",
    "train,test = preprocess(train_ori.sort_values(by = 'date' ).reset_index(drop = True) ,\n",
    "                        test_ori.sort_values(by = 'date' ).reset_index(drop = True) )\n",
    "# for c in train.select_dtypes(exclude = 'object').columns:\n",
    "#     print(train[c].min())\n",
    "#      all_data[c] = all_data[c].fillna(all_data[c].min()-1)"
   ]
  },
  {
   "cell_type": "code",
   "execution_count": 544,
   "metadata": {
    "execution": {
     "iopub.execute_input": "2022-09-09T20:58:22.411600Z",
     "iopub.status.busy": "2022-09-09T20:58:22.411183Z",
     "iopub.status.idle": "2022-09-09T20:58:22.416442Z",
     "shell.execute_reply": "2022-09-09T20:58:22.415245Z",
     "shell.execute_reply.started": "2022-09-09T20:58:22.411547Z"
    }
   },
   "outputs": [],
   "source": [
    "# []\n",
    "# train.sort_values(by = 'date').reset_index(drop = True, inplace = True)\n",
    "# PurgedGroupTimeSeriesSplit().split(train,y)[0]\n",
    "# train['pm2_5']"
   ]
  },
  {
   "cell_type": "code",
   "execution_count": 128,
   "metadata": {
    "execution": {
     "iopub.execute_input": "2022-09-09T20:58:22.419925Z",
     "iopub.status.busy": "2022-09-09T20:58:22.419529Z",
     "iopub.status.idle": "2022-09-09T20:58:22.431033Z",
     "shell.execute_reply": "2022-09-09T20:58:22.429732Z",
     "shell.execute_reply.started": "2022-09-09T20:58:22.419869Z"
    }
   },
   "outputs": [],
   "source": [
    "# train.columns\n",
    "import numpy as np\n",
    "from sklearn.model_selection import KFold\n",
    "from sklearn.model_selection._split import _BaseKFold, indexable, _num_samples\n",
    "from sklearn.utils.validation import _deprecate_positional_args\n",
    "\n",
    "# modified code for group gaps; source\n",
    "# https://github.com/getgaurav2/scikit-learn/blob/d4a3af5cc9da3a76f0266932644b884c99724c57/sklearn/model_selection/_split.py#L2243\n",
    "class PurgedGroupTimeSeriesSplit(_BaseKFold):\n",
    "    \"\"\"Time Series cross-validator variant with non-overlapping groups.\n",
    "    Allows for a gap in groups to avoid potentially leaking info from\n",
    "    train into test if the model has windowed or lag features.\n",
    "    Provides train/test indices to split time series data samples\n",
    "    that are observed at fixed time intervals according to a\n",
    "    third-party provided group.\n",
    "    In each split, test indices must be higher than before, and thus shuffling\n",
    "    in cross validator is inappropriate.\n",
    "    This cross-validation object is a variation of :class:`KFold`.\n",
    "    In the kth split, it returns first k folds as train set and the\n",
    "    (k+1)th fold as test set.\n",
    "    The same group will not appear in two different folds (the number of\n",
    "    distinct groups has to be at least equal to the number of folds).\n",
    "    Note that unlike standard cross-validation methods, successive\n",
    "    training sets are supersets of those that come before them.\n",
    "    Read more in the :ref:`User Guide <cross_validation>`.\n",
    "    Parameters\n",
    "    ----------\n",
    "    n_splits : int, default=5\n",
    "        Number of splits. Must be at least 2.\n",
    "    max_train_group_size : int, default=Inf\n",
    "        Maximum group size for a single training set.\n",
    "    group_gap : int, default=None\n",
    "        Gap between train and test\n",
    "    max_test_group_size : int, default=Inf\n",
    "        We discard this number of groups from the end of each train split\n",
    "    \"\"\"\n",
    "\n",
    "    @_deprecate_positional_args\n",
    "    def __init__(self,\n",
    "                 n_splits=5,\n",
    "                 *,\n",
    "                 max_train_group_size=np.inf,\n",
    "                 max_test_group_size=np.inf,\n",
    "                 group_gap=None,\n",
    "                 verbose=False\n",
    "                 ):\n",
    "        super().__init__(n_splits, shuffle=False, random_state=None)\n",
    "        self.max_train_group_size = max_train_group_size\n",
    "        self.group_gap = group_gap\n",
    "        self.max_test_group_size = max_test_group_size\n",
    "        self.verbose = verbose\n",
    "\n",
    "    def split(self, X, y=None, groups=None):\n",
    "        \"\"\"Generate indices to split data into training and test set.\n",
    "        Parameters\n",
    "        ----------\n",
    "        X : array-like of shape (n_samples, n_features)\n",
    "            Training data, where n_samples is the number of samples\n",
    "            and n_features is the number of features.\n",
    "        y : array-like of shape (n_samples,)\n",
    "            Always ignored, exists for compatibility.\n",
    "        groups : array-like of shape (n_samples,)\n",
    "            Group labels for the samples used while splitting the dataset into\n",
    "            train/test set.\n",
    "        Yields\n",
    "        ------\n",
    "        train : ndarray\n",
    "            The training set indices for that split.\n",
    "        test : ndarray\n",
    "            The testing set indices for that split.\n",
    "        \"\"\"\n",
    "        if groups is None:\n",
    "            raise ValueError(\n",
    "                \"The 'groups' parameter should not be None\")\n",
    "        X, y, groups = indexable(X, y, groups)\n",
    "        n_samples = _num_samples(X)\n",
    "        n_splits = self.n_splits\n",
    "        group_gap = self.group_gap\n",
    "        max_test_group_size = self.max_test_group_size\n",
    "        max_train_group_size = self.max_train_group_size\n",
    "        n_folds = n_splits + 1\n",
    "        group_dict = {}\n",
    "        u, ind = np.unique(groups, return_index=True)\n",
    "        unique_groups = u[np.argsort(ind)]\n",
    "        n_samples = _num_samples(X)\n",
    "        n_groups = _num_samples(unique_groups)\n",
    "        for idx in np.arange(n_samples):\n",
    "            if (groups[idx] in group_dict):\n",
    "                group_dict[groups[idx]].append(idx)\n",
    "            else:\n",
    "                group_dict[groups[idx]] = [idx]\n",
    "        if n_folds > n_groups:\n",
    "            raise ValueError(\n",
    "                (\"Cannot have number of folds={0} greater than\"\n",
    "                 \" the number of groups={1}\").format(n_folds,\n",
    "                                                     n_groups))\n",
    "\n",
    "        group_test_size = min(n_groups // n_folds, max_test_group_size)\n",
    "        group_test_starts = range(n_groups - n_splits * group_test_size,\n",
    "                                  n_groups, group_test_size)\n",
    "        for group_test_start in group_test_starts:\n",
    "            train_array = []\n",
    "            test_array = []\n",
    "\n",
    "            group_st = max(0, group_test_start - group_gap - max_train_group_size)\n",
    "            for train_group_idx in unique_groups[group_st:(group_test_start - group_gap)]:\n",
    "                train_array_tmp = group_dict[train_group_idx]\n",
    "                \n",
    "                train_array = np.sort(np.unique(\n",
    "                                      np.concatenate((train_array,\n",
    "                                                      train_array_tmp)),\n",
    "                                      axis=None), axis=None)\n",
    "\n",
    "            train_end = train_array.size\n",
    " \n",
    "            for test_group_idx in unique_groups[group_test_start:\n",
    "                                                group_test_start +\n",
    "                                                group_test_size]:\n",
    "                test_array_tmp = group_dict[test_group_idx]\n",
    "                test_array = np.sort(np.unique(\n",
    "                                              np.concatenate((test_array,\n",
    "                                                              test_array_tmp)),\n",
    "                                     axis=None), axis=None)\n",
    "\n",
    "            test_array  = test_array[group_gap:]\n",
    "            \n",
    "            \n",
    "            if self.verbose > 0:\n",
    "                    pass\n",
    "                    \n",
    "            yield [int(i) for i in train_array], [int(i) for i in test_array]"
   ]
  },
  {
   "cell_type": "code",
   "execution_count": 136,
   "metadata": {
    "execution": {
     "iopub.execute_input": "2022-09-09T20:58:22.432993Z",
     "iopub.status.busy": "2022-09-09T20:58:22.432612Z",
     "iopub.status.idle": "2022-09-09T20:58:22.444752Z",
     "shell.execute_reply": "2022-09-09T20:58:22.443443Z",
     "shell.execute_reply.started": "2022-09-09T20:58:22.432961Z"
    }
   },
   "outputs": [],
   "source": [
    "# add_cols\n",
    "# cv = PurgedGroupTimeSeriesSplit(n_splits = n_splits, group_gap = 1)\n",
    "# train.date - train.date.min()\n",
    "# import numpy as np\n",
    "\n",
    "# group_kfold.get_n_splits(X, y, groups)\n",
    "# train.columns"
   ]
  },
  {
   "cell_type": "code",
   "execution_count": 620,
   "metadata": {
    "execution": {
     "iopub.execute_input": "2022-09-09T20:58:22.446558Z",
     "iopub.status.busy": "2022-09-09T20:58:22.446152Z",
     "iopub.status.idle": "2022-09-09T20:58:22.459835Z",
     "shell.execute_reply": "2022-09-09T20:58:22.458740Z",
     "shell.execute_reply.started": "2022-09-09T20:58:22.446501Z"
    }
   },
   "outputs": [],
   "source": [
    "drop_cols = ['ID','date','Train','pm2_5','shifted_1','mean'\n",
    "             , 'site_latitudepm2_5enc7',\n",
    "       'site_latitudepm2_5enc8', 'site_latitudepm2_5enc6',\n",
    "       'site_latitudepm2_5enc5', 'site_latitudepm2_5enc4',\n",
    "       'site_latitudepm2_5enc', 'site_latitudepm2_5enc1',\n",
    "       'site_latitudepm2_5enc2', 'site_latitudepm2_5enc3']"
   ]
  },
  {
   "cell_type": "code",
   "execution_count": 611,
   "metadata": {},
   "outputs": [],
   "source": [
    "train['mean'] = train['site_latitude'].map(train.groupby('site_latitude')['pm2_5'].mean())\n",
    "test['mean'] = test['site_latitude'].map(train.groupby('site_latitude')['pm2_5'].mean())\n"
   ]
  },
  {
   "cell_type": "code",
   "execution_count": 612,
   "metadata": {},
   "outputs": [],
   "source": [
    "# train['pm2_5'] = train['pm2_5'] - train['mean']"
   ]
  },
  {
   "cell_type": "code",
   "execution_count": 613,
   "metadata": {
    "execution": {
     "iopub.execute_input": "2022-09-09T20:58:30.872183Z",
     "iopub.status.busy": "2022-09-09T20:58:30.871133Z",
     "iopub.status.idle": "2022-09-09T20:58:30.878401Z",
     "shell.execute_reply": "2022-09-09T20:58:30.877023Z",
     "shell.execute_reply.started": "2022-09-09T20:58:30.872138Z"
    }
   },
   "outputs": [],
   "source": [
    "y = train['pm2_5']\n",
    "# train = train.sort_values(by = 'date' ).reset_index(drop = True) \n",
    "# test = test"
   ]
  },
  {
   "cell_type": "code",
   "execution_count": 614,
   "metadata": {},
   "outputs": [
    {
     "data": {
      "text/plain": [
       "Index(['ID', 'date', 'device', 'site_latitude', 'site_longitude', 'humidity',\n",
       "       'temp_mean', 'SulphurDioxide_SO2_column_number_density',\n",
       "       'SulphurDioxide_SO2_column_number_density_amf',\n",
       "       'SulphurDioxide_SO2_slant_column_number_density',\n",
       "       'SulphurDioxide_cloud_fraction', 'SulphurDioxide_sensor_azimuth_angle',\n",
       "       'SulphurDioxide_sensor_zenith_angle',\n",
       "       'SulphurDioxide_solar_azimuth_angle',\n",
       "       'SulphurDioxide_solar_zenith_angle',\n",
       "       'SulphurDioxide_SO2_column_number_density_15km',\n",
       "       'CarbonMonoxide_CO_column_number_density',\n",
       "       'CarbonMonoxide_H2O_column_number_density',\n",
       "       'CarbonMonoxide_cloud_height', 'CarbonMonoxide_sensor_altitude',\n",
       "       'CarbonMonoxide_sensor_azimuth_angle',\n",
       "       'CarbonMonoxide_sensor_zenith_angle',\n",
       "       'CarbonMonoxide_solar_azimuth_angle',\n",
       "       'CarbonMonoxide_solar_zenith_angle',\n",
       "       'NitrogenDioxide_NO2_column_number_density',\n",
       "       'NitrogenDioxide_tropospheric_NO2_column_number_density',\n",
       "       'NitrogenDioxide_stratospheric_NO2_column_number_density',\n",
       "       'NitrogenDioxide_NO2_slant_column_number_density',\n",
       "       'NitrogenDioxide_tropopause_pressure',\n",
       "       'NitrogenDioxide_absorbing_aerosol_index',\n",
       "       'NitrogenDioxide_cloud_fraction', 'NitrogenDioxide_sensor_altitude',\n",
       "       'NitrogenDioxide_sensor_azimuth_angle',\n",
       "       'NitrogenDioxide_sensor_zenith_angle',\n",
       "       'NitrogenDioxide_solar_azimuth_angle',\n",
       "       'NitrogenDioxide_solar_zenith_angle',\n",
       "       'Formaldehyde_tropospheric_HCHO_column_number_density',\n",
       "       'Formaldehyde_tropospheric_HCHO_column_number_density_amf',\n",
       "       'Formaldehyde_HCHO_slant_column_number_density',\n",
       "       'Formaldehyde_cloud_fraction', 'Formaldehyde_solar_zenith_angle',\n",
       "       'Formaldehyde_solar_azimuth_angle', 'Formaldehyde_sensor_zenith_angle',\n",
       "       'Formaldehyde_sensor_azimuth_angle',\n",
       "       'UvAerosolIndex_absorbing_aerosol_index',\n",
       "       'UvAerosolIndex_sensor_altitude', 'UvAerosolIndex_sensor_azimuth_angle',\n",
       "       'UvAerosolIndex_sensor_zenith_angle',\n",
       "       'UvAerosolIndex_solar_azimuth_angle',\n",
       "       'UvAerosolIndex_solar_zenith_angle', 'Ozone_O3_column_number_density',\n",
       "       'Ozone_O3_column_number_density_amf',\n",
       "       'Ozone_O3_slant_column_number_density',\n",
       "       'Ozone_O3_effective_temperature', 'Ozone_cloud_fraction',\n",
       "       'Ozone_sensor_azimuth_angle', 'Ozone_sensor_zenith_angle',\n",
       "       'Ozone_solar_azimuth_angle', 'Ozone_solar_zenith_angle',\n",
       "       'Cloud_cloud_fraction', 'Cloud_cloud_top_pressure',\n",
       "       'Cloud_cloud_top_height', 'Cloud_cloud_base_pressure',\n",
       "       'Cloud_cloud_base_height', 'Cloud_cloud_optical_depth',\n",
       "       'Cloud_surface_albedo', 'Cloud_sensor_azimuth_angle',\n",
       "       'Cloud_sensor_zenith_angle', 'Cloud_solar_azimuth_angle',\n",
       "       'Cloud_solar_zenith_angle', 'pm2_5', 'Train', 'month', 'year', 'day',\n",
       "       'week', 'dow', 'woy', 'site_code', 'shifted_1',\n",
       "       'site_latitudepm2_5enc7', 'site_latitudepm2_5enc8',\n",
       "       'site_latitudepm2_5enc6', 'site_latitudepm2_5enc5',\n",
       "       'site_latitudepm2_5enc4', 'site_latitudepm2_5enc',\n",
       "       'site_latitudepm2_5enc1', 'site_latitudepm2_5enc2',\n",
       "       'site_latitudepm2_5enc3', 'mean'],\n",
       "      dtype='object')"
      ]
     },
     "execution_count": 614,
     "metadata": {},
     "output_type": "execute_result"
    }
   ],
   "source": [
    "train.columns"
   ]
  },
  {
   "cell_type": "code",
   "execution_count": 615,
   "metadata": {
    "execution": {
     "iopub.execute_input": "2022-09-09T20:58:36.511780Z",
     "iopub.status.busy": "2022-09-09T20:58:36.511220Z",
     "iopub.status.idle": "2022-09-09T20:59:01.575759Z",
     "shell.execute_reply": "2022-09-09T20:59:01.574534Z",
     "shell.execute_reply.started": "2022-09-09T20:58:36.511733Z"
    }
   },
   "outputs": [
    {
     "name": "stdout",
     "output_type": "stream",
     "text": [
      "Shape of train_X : (9923, 75), test_X: (4254, 75), train_Y: (9923,)\n",
      "fold 1 of 2\n",
      "Training until validation scores don't improve for 30 rounds\n",
      "[100]\ttraining's l1: 15.7702\tvalid_1's l1: 15.9287\n",
      "[200]\ttraining's l1: 12.9871\tvalid_1's l1: 14.443\n",
      "[300]\ttraining's l1: 11.3766\tvalid_1's l1: 13.7876\n",
      "[400]\ttraining's l1: 10.2329\tvalid_1's l1: 13.3234\n",
      "[500]\ttraining's l1: 9.48107\tvalid_1's l1: 13.0555\n",
      "[600]\ttraining's l1: 8.92123\tvalid_1's l1: 12.8905\n",
      "[700]\ttraining's l1: 8.47752\tvalid_1's l1: 12.7478\n",
      "[800]\ttraining's l1: 8.13354\tvalid_1's l1: 12.661\n",
      "[900]\ttraining's l1: 7.85347\tvalid_1's l1: 12.6142\n",
      "[1000]\ttraining's l1: 7.59228\tvalid_1's l1: 12.5578\n",
      "[1100]\ttraining's l1: 7.34912\tvalid_1's l1: 12.5114\n",
      "[1200]\ttraining's l1: 7.12739\tvalid_1's l1: 12.468\n",
      "[1300]\ttraining's l1: 6.92857\tvalid_1's l1: 12.4321\n",
      "[1400]\ttraining's l1: 6.7378\tvalid_1's l1: 12.3872\n",
      "[1500]\ttraining's l1: 6.56536\tvalid_1's l1: 12.3533\n",
      "[1600]\ttraining's l1: 6.4071\tvalid_1's l1: 12.3254\n",
      "[1700]\ttraining's l1: 6.25166\tvalid_1's l1: 12.3038\n",
      "[1800]\ttraining's l1: 6.10495\tvalid_1's l1: 12.2903\n",
      "[1900]\ttraining's l1: 5.97036\tvalid_1's l1: 12.2684\n",
      "[2000]\ttraining's l1: 5.84191\tvalid_1's l1: 12.2601\n",
      "[2100]\ttraining's l1: 5.71956\tvalid_1's l1: 12.2468\n",
      "[2200]\ttraining's l1: 5.60592\tvalid_1's l1: 12.2378\n",
      "[2300]\ttraining's l1: 5.49589\tvalid_1's l1: 12.2343\n",
      "[2400]\ttraining's l1: 5.38514\tvalid_1's l1: 12.2263\n",
      "[2500]\ttraining's l1: 5.28712\tvalid_1's l1: 12.2189\n",
      "[2600]\ttraining's l1: 5.19499\tvalid_1's l1: 12.2114\n",
      "[2700]\ttraining's l1: 5.10299\tvalid_1's l1: 12.2065\n",
      "[2800]\ttraining's l1: 5.01556\tvalid_1's l1: 12.1987\n",
      "Early stopping, best iteration is:\n",
      "[2856]\ttraining's l1: 4.9653\tvalid_1's l1: 12.196\n",
      "Best number of iterations for fold 1 is: 2856\n",
      "CV OOF Score for fold 1 is 12.196024067962629\n",
      "fold 2 of 2\n",
      "Training until validation scores don't improve for 30 rounds\n",
      "[100]\ttraining's l1: 13.0893\tvalid_1's l1: 17.7654\n",
      "[200]\ttraining's l1: 10.4565\tvalid_1's l1: 16.3615\n",
      "[300]\ttraining's l1: 9.01322\tvalid_1's l1: 15.6769\n",
      "[400]\ttraining's l1: 8.05961\tvalid_1's l1: 15.2456\n",
      "[500]\ttraining's l1: 7.41367\tvalid_1's l1: 14.9566\n",
      "[600]\ttraining's l1: 6.89347\tvalid_1's l1: 14.7844\n",
      "[700]\ttraining's l1: 6.50084\tvalid_1's l1: 14.6071\n",
      "[800]\ttraining's l1: 6.17151\tvalid_1's l1: 14.4984\n",
      "[900]\ttraining's l1: 5.91282\tvalid_1's l1: 14.4408\n",
      "[1000]\ttraining's l1: 5.68117\tvalid_1's l1: 14.3945\n",
      "[1100]\ttraining's l1: 5.46979\tvalid_1's l1: 14.3448\n",
      "[1200]\ttraining's l1: 5.28282\tvalid_1's l1: 14.3103\n",
      "[1300]\ttraining's l1: 5.11255\tvalid_1's l1: 14.2811\n",
      "[1400]\ttraining's l1: 4.95317\tvalid_1's l1: 14.2516\n",
      "[1500]\ttraining's l1: 4.81049\tvalid_1's l1: 14.2262\n",
      "[1600]\ttraining's l1: 4.6822\tvalid_1's l1: 14.1989\n",
      "Early stopping, best iteration is:\n",
      "[1621]\ttraining's l1: 4.65602\tvalid_1's l1: 14.1924\n",
      "Best number of iterations for fold 2 is: 1621\n",
      "CV OOF Score for fold 2 is 14.192423493461245\n"
     ]
    }
   ],
   "source": [
    "\n",
    "SEED = 42\n",
    "NUM_CLASSES = 3\n",
    "EARLY_STOPPING_ROUNDS = 30\n",
    "N_ESTIMATORS = 10000\n",
    "K_FOLDS = 2\n",
    "from sklearn.model_selection import GroupKFold\n",
    "# X = np.array([[1, 2], [3, 4], [5, 6], [7, 8]])\n",
    "# y = np.array([1, 2, 3, 4])\n",
    "# groups = np.array([0, 0, 2, 2])\n",
    "kf = GroupKFold(n_splits=K_FOLDS)\n",
    "# Define Parameters for LGBM\n",
    "lgb_params = {\n",
    "    \"objective\": \"regression\",\n",
    "    \"boosting_type\": \"gbdt\",\n",
    "    \"learning_rate\": 0.01,\n",
    "#     \"num_class\": NUM_CLASSES,\n",
    "    \"num_leaves\": 20,\n",
    "#     \"tree_learner\": \"feature\",\n",
    "    \"n_jobs\": 4,\n",
    "    \"seed\": SEED,\n",
    "    \"max_depth\": -1,\n",
    "#     \"max_bin\": 255,\n",
    "#     'reg_lambda': 0.1,  # L1 regularization term on weights\n",
    "#     'reg_lambda': 1,\n",
    "    \"metric\": \"mae\",\n",
    "    \"verbose\": -1,\n",
    "}\n",
    "y_predicted_lgb,models_lgb,y_oof_lgb,oof_score_lgb,features_importance_lgb = train_lgb(train.drop(drop_cols,axis = 1),\n",
    "                                                                                       y,test.drop(drop_cols,axis = 1),\n",
    "                                                                                       lgb_params,kf=kf,seed_lgb = 32,shuffle_lgb = False)"
   ]
  },
  {
   "cell_type": "code",
   "execution_count": 616,
   "metadata": {},
   "outputs": [],
   "source": [
    "# y_predicted_lgb\n",
    "train['preds'] = y_oof_lgb"
   ]
  },
  {
   "cell_type": "code",
   "execution_count": 617,
   "metadata": {},
   "outputs": [],
   "source": [
    "train['errors'] = abs(train['preds']-train['pm2_5'])"
   ]
  },
  {
   "cell_type": "code",
   "execution_count": 631,
   "metadata": {},
   "outputs": [
    {
     "data": {
      "text/plain": [
       "[<matplotlib.lines.Line2D at 0x206e64a4648>]"
      ]
     },
     "execution_count": 631,
     "metadata": {},
     "output_type": "execute_result"
    },
    {
     "data": {
      "image/png": "[encoded data removed]",
      "text/plain": [
       "<Figure size 432x288 with 1 Axes>"
      ]
     },
     "metadata": {
      "needs_background": "light"
     },
     "output_type": "display_data"
    }
   ],
   "source": [
    "# train.corr()['errors'].sort_values(ascending = False,key = abs)\n",
    "a.index = a.date\n",
    "plt.plot(a['pm2_5'].resample('M').mean())\n",
    "plt.plot(a['pm2_5'].resample('W').mean())"
   ]
  },
  {
   "cell_type": "code",
   "execution_count": 599,
   "metadata": {},
   "outputs": [
    {
     "name": "stdout",
     "output_type": "stream",
     "text": [
      "Shape of train_X : (9923, 84), test_X: (4254, 84), train_Y: (9923,)\n",
      "Training until validation scores don't improve for 30 rounds\n",
      "[100]\ttraining's l1: 15.0894\tvalid_1's l1: 16.0851\n",
      "[200]\ttraining's l1: 12.0212\tvalid_1's l1: 14.9079\n",
      "Early stopping, best iteration is:\n",
      "[220]\ttraining's l1: 11.6211\tvalid_1's l1: 14.9039\n",
      "Best number of iterations for fold 0 is: 220\n",
      "CV OOF Score for fold 0 is 14.903934846628784\n"
     ]
    }
   ],
   "source": [
    "X = train.drop(drop_cols,axis = 1).copy()\n",
    "test_data  = test.drop(drop_cols,axis = 1).copy()\n",
    "features_importance= pd.DataFrame({'Feature':[], 'Importance':[]})\n",
    "models =[]\n",
    "train_X = X.copy()\n",
    "train_Y = y.copy()\n",
    "test_X = test_data.copy()\n",
    "print(f\"Shape of train_X : {train_X.shape}, test_X: {test_X.shape}, train_Y: {train_Y.shape}\")\n",
    "\n",
    "predictors = list(train_X.columns)\n",
    "# print(f\"List of features to be used {list(predictors)}\")\n",
    "\n",
    "# Selecting n_splits to be 3, since class 42 has \n",
    "# just 3 instances\n",
    "# kf = KFold(random_state=seed_lgb,n_splits=K_FOLDS, shuffle=shuffle_lgb)\n",
    "y_oof_lgb = np.zeros(shape=(len(train_X),))\n",
    "y_predicted_lgb = np.zeros(shape=(len(test_X),))\n",
    "cv_scores = []\n",
    "fold = 0\n",
    "# n_folds = K_FOLDS\n",
    "# for train_index, validation_index in kf.split(train_X,train_Y):\n",
    "train_index =  train.loc[train.date<train.date.max()-timedelta(days = 130)].index.tolist()\n",
    "validation_index = train.loc[train.date>=train.date.max()-timedelta(days = 130)].index.tolist()\n",
    "X_train, X_validation, y_train, y_validation = _get_X_Y_DF_from_CV(\n",
    "        train_X, train_Y, train_index, validation_index\n",
    "    )\n",
    "\n",
    "lgb_train = lgb.Dataset(X_train, y_train)\n",
    "lgb_eval = lgb.Dataset(X_validation, y_validation, reference=lgb_train)\n",
    "\n",
    "model = lgb.train(\n",
    "        lgb_params,\n",
    "        lgb_train,\n",
    "        valid_sets=[lgb_train, lgb_eval],\n",
    "        verbose_eval=100,\n",
    "        early_stopping_rounds=EARLY_STOPPING_ROUNDS,\n",
    "        num_boost_round=N_ESTIMATORS,\n",
    "        feature_name=predictors,\n",
    "        categorical_feature=\"auto\",\n",
    "    )\n",
    "y_oof_lgb = model.predict(\n",
    "        X, num_iteration=model.best_iteration\n",
    "    )\n",
    "\n",
    "y_predicted_lgb += model.predict(\n",
    "        test_data.values, num_iteration=model.best_iteration\n",
    "    )\n",
    "fold_importance_df= pd.DataFrame({'Feature':[], 'Importance':[]})\n",
    "fold_importance_df['Feature']= predictors\n",
    "fold_importance_df['Importance']= model.feature_importance()\n",
    "fold_importance_df[\"fold\"] = fold + 1\n",
    "features_importance = pd.concat([features_importance, fold_importance_df], axis=0)\n",
    "models.append(model)\n",
    "\n",
    "best_iteration = model.best_iteration\n",
    "print(f\"Best number of iterations for fold {fold} is: {best_iteration}\")\n",
    "\n",
    "cv_oof_score = metrics.mean_absolute_error(y_validation, y_oof_lgb[validation_index])\n",
    "cv_scores.append(cv_oof_score)\n",
    "print(f\"CV OOF Score for fold {fold} is {cv_oof_score}\")\n",
    "\n",
    "# y_predicted_lgb /= n_folds\n",
    "oof_score = round(metrics.mean_absolute_error(train_Y, y_oof_lgb), 5)\n",
    "avg_cv_scores = round(sum(cv_scores) / len(cv_scores), 5)\n",
    "std_cv_scores = round(np.array(cv_scores).std(), 5)\n",
    "#     return y_predicted_lgb,models,y_oof_lgb,oof_score,features_importance"
   ]
  },
  {
   "cell_type": "code",
   "execution_count": 600,
   "metadata": {
    "execution": {
     "iopub.execute_input": "2022-09-09T20:59:04.101280Z",
     "iopub.status.busy": "2022-09-09T20:59:04.100890Z",
     "iopub.status.idle": "2022-09-09T20:59:05.841215Z",
     "shell.execute_reply": "2022-09-09T20:59:05.840013Z",
     "shell.execute_reply.started": "2022-09-09T20:59:04.101245Z"
    }
   },
   "outputs": [
    {
     "name": "stdout",
     "output_type": "stream",
     "text": [
      "Feature        object\n",
      "Importance    float64\n",
      "dtype: object\n"
     ]
    },
    {
     "data": {
      "image/png": "[encoded data removed]",
      "text/plain": [
       "<Figure size 576x720 with 1 Axes>"
      ]
     },
     "metadata": {
      "needs_background": "light"
     },
     "output_type": "display_data"
    }
   ],
   "source": [
    "display_importances(features_importance_lgb)\n",
    "# pvp = train.sort_values(by = 'date').pivot(index = 'site_latitude', columns = 'date',values = 'pm2_5')"
   ]
  },
  {
   "cell_type": "code",
   "execution_count": 369,
   "metadata": {},
   "outputs": [],
   "source": [
    "# pvp.shape\n",
    "# pvp.iloc[0]\n",
    "# for i in range(pvp.shape[0]):\n",
    "# i = 1\n",
    "# plt.plot(train.loc[train.site_latitude == train.site_latitude.unique()[i] ].groupby('site_latitude')['pm2_5'].expanding().mean().reset_index(0)['pm2_5'].values)"
   ]
  },
  {
   "cell_type": "code",
   "execution_count": 484,
   "metadata": {},
   "outputs": [],
   "source": [
    "# train['date']"
   ]
  },
  {
   "cell_type": "code",
   "execution_count": 362,
   "metadata": {},
   "outputs": [],
   "source": [
    "# train.loc[train.site_latitude == train.site_latitude.unique()[i],['date','pm2_5']]\n",
    "# train.loc[train.date<train.date.min()+ timedelta(days = 200)]\n",
    "def cust_split(X,y,n_splits):\n",
    "    tr = []\n",
    "#     val = []\n",
    "    sizes = X['date'].max() - X['date'].min() \n",
    "    for i in range(n_splits):\n",
    "        tr.append((X.loc[X.date< (((i+1)/n_splits)*sizes + X['date'].min())].index.tolist(),X.loc[X.date>= (((i+1)/n_splits)*sizes + X['date'].min())].index.tolist()))\n",
    "    return tr\n",
    "# train.site_latitude.unique().shape[0]"
   ]
  },
  {
   "cell_type": "code",
   "execution_count": 363,
   "metadata": {},
   "outputs": [],
   "source": [
    "# tr= cust_split(train,y,5)"
   ]
  },
  {
   "cell_type": "code",
   "execution_count": 485,
   "metadata": {},
   "outputs": [],
   "source": [
    "# val[3]\n",
    "# tr"
   ]
  },
  {
   "cell_type": "code",
   "execution_count": null,
   "metadata": {},
   "outputs": [],
   "source": []
  },
  {
   "cell_type": "code",
   "execution_count": 513,
   "metadata": {
    "execution": {
     "iopub.execute_input": "2022-09-09T16:13:24.526206Z",
     "iopub.status.busy": "2022-09-09T16:13:24.525797Z",
     "iopub.status.idle": "2022-09-09T16:13:24.533624Z",
     "shell.execute_reply": "2022-09-09T16:13:24.532827Z",
     "shell.execute_reply.started": "2022-09-09T16:13:24.526173Z"
    }
   },
   "outputs": [
    {
     "data": {
      "text/plain": [
       "[<matplotlib.lines.Line2D at 0x206e4d55788>]"
      ]
     },
     "execution_count": 513,
     "metadata": {},
     "output_type": "execute_result"
    },
    {
     "data": {
      "image/png": "[encoded data removed]",
      "text/plain": [
       "<Figure size 432x288 with 1 Axes>"
      ]
     },
     "metadata": {
      "needs_background": "light"
     },
     "output_type": "display_data"
    }
   ],
   "source": [
    "# plt.pl\n",
    "# train.groupby('site_latitude').size().sort_values()\n",
    "plt.plot(train.loc[train.site_latitude == 0.35799].sort_values(by = 'date')['pm2_5'].values)\n",
    "plt.axhline(y = train.loc[train.site_latitude == 0.35799].sort_values(by = 'date')['pm2_5'].mean(),color = 'red')\n",
    "plt.axhline(y = train.loc[train.site_latitude == 0.35799].sort_values(by = 'date')['pm2_5'].median(),color = 'green')\n",
    "plt.plot(test.loc[test.site_latitude == 0.35799].sort_values(by = 'date')['pm2_5'].values)"
   ]
  },
  {
   "cell_type": "code",
   "execution_count": null,
   "metadata": {},
   "outputs": [],
   "source": []
  },
  {
   "cell_type": "code",
   "execution_count": 213,
   "metadata": {
    "execution": {
     "iopub.execute_input": "2022-09-09T21:05:36.210832Z",
     "iopub.status.busy": "2022-09-09T21:05:36.210279Z",
     "iopub.status.idle": "2022-09-09T21:05:36.222981Z",
     "shell.execute_reply": "2022-09-09T21:05:36.221745Z",
     "shell.execute_reply.started": "2022-09-09T21:05:36.210787Z"
    }
   },
   "outputs": [],
   "source": [
    "# train.resample('M')\n",
    "# train.index = train.date\n",
    "# X = [[0], [1], [2], [3]]\n",
    "# y = [0, 0, 1, 1]\n",
    "from sklearn.neighbors import KNeighborsRegressor\n",
    "neigh = KNeighborsRegressor(n_neighbors=10)\n",
    "neigh.fit(train.drop(drop_cols,axis = 1).fillna(-1000), y)\n",
    "\n",
    "neigh_preds = neigh.predict(test.drop(drop_cols,axis = 1).fillna(-1000))\n",
    "# means"
   ]
  },
  {
   "cell_type": "code",
   "execution_count": 195,
   "metadata": {},
   "outputs": [],
   "source": [
    "means = train.groupby('site_latitude').apply(lambda x : x['pm2_5'].resample('Y').mean()).reset_index()"
   ]
  },
  {
   "cell_type": "code",
   "execution_count": 197,
   "metadata": {},
   "outputs": [
    {
     "data": {
      "text/plain": [
       "[<matplotlib.lines.Line2D at 0x206d3415ec8>]"
      ]
     },
     "execution_count": 197,
     "metadata": {},
     "output_type": "execute_result"
    },
    {
     "data": {
      "image/png": "[encoded data removed]",
      "text/plain": [
       "<Figure size 432x288 with 1 Axes>"
      ]
     },
     "metadata": {
      "needs_background": "light"
     },
     "output_type": "display_data"
    }
   ],
   "source": [
    "plt.plot(means.loc[means.site_latitude == means.site_latitude.unique()[3],'pm2_5' ].values)\n",
    "plt.plot(means.loc[means.site_latitude == means.site_latitude.unique()[1],'pm2_5' ].values)\n",
    "plt.plot(means.loc[means.site_latitude == means.site_latitude.unique()[2],'pm2_5' ].values)\n",
    "# "
   ]
  },
  {
   "cell_type": "code",
   "execution_count": 593,
   "metadata": {
    "execution": {
     "iopub.execute_input": "2022-09-09T21:01:26.672687Z",
     "iopub.status.busy": "2022-09-09T21:01:26.672254Z",
     "iopub.status.idle": "2022-09-09T21:01:26.683982Z",
     "shell.execute_reply": "2022-09-09T21:01:26.682522Z",
     "shell.execute_reply.started": "2022-09-09T21:01:26.672652Z"
    }
   },
   "outputs": [],
   "source": [
    "def anal(i,preds,y_oof,log = False):\n",
    "    if log:\n",
    "        test['pm2_5'] = np.exp(preds)\n",
    "    else:\n",
    "        test['pm2_5'] = preds\n",
    "\n",
    "    all_data = pd.concat([train,test])\n",
    "    a = all_data.groupby('site_latitude').get_group(all_data.site_latitude.unique()[i])[['date','pm2_5','Train']]\n",
    "    y1 = a.loc[a.Train == 1].sort_values(by = 'date')['pm2_5'].values\n",
    "    y2 = a.loc[a.Train == 0].sort_values(by = 'date')['pm2_5'].values\n",
    "    x1 = range(len(y1))\n",
    "    x2 = range(len(y1),len(y1)+len(y2))\n",
    "    if log :\n",
    "        y3 = np.exp(y_oof[a.loc[a.Train == 1].index])\n",
    "    else:\n",
    "        y3 = y_oof[a.loc[a.Train == 1].index]\n",
    "    plt.plot(x1,y1,label = 'true')\n",
    "    plt.plot(x1,y3)\n",
    "    plt.plot(x2,y2)\n",
    "    "
   ]
  },
  {
   "cell_type": "code",
   "execution_count": 594,
   "metadata": {},
   "outputs": [],
   "source": [
    "# train_ori.describe()"
   ]
  },
  {
   "cell_type": "code",
   "execution_count": 601,
   "metadata": {
    "execution": {
     "iopub.execute_input": "2022-09-09T21:04:09.247675Z",
     "iopub.status.busy": "2022-09-09T21:04:09.247243Z",
     "iopub.status.idle": "2022-09-09T21:04:09.284198Z",
     "shell.execute_reply": "2022-09-09T21:04:09.282680Z",
     "shell.execute_reply.started": "2022-09-09T21:04:09.247637Z"
    }
   },
   "outputs": [
    {
     "data": {
      "image/png": "[encoded data removed]",
      "text/plain": [
       "<Figure size 432x288 with 1 Axes>"
      ]
     },
     "metadata": {
      "needs_background": "light"
     },
     "output_type": "display_data"
    }
   ],
   "source": [
    "# anal(4,y_predicted_lgb,y_oof_lgb)\n",
    "anal(2,y_predicted_lgb,y_oof_lgb)\n",
    "# sns.distplot(test['pm2_5'])\n",
    "# plt.plot(np.log(train.pm2_5.sort_values(ascending = False)).values)\n",
    "# np.exp(5)\n",
    "# sns.distplot(np.log(train.pm2_5),fit = norm)\n",
    "# sns.distplot(train.groupby('site_latitude')['pm2_5'].diff().dropna())\n",
    "# test['pm2_5'] = test['site_latitude'].map(train.groupby('site_latitude')['pm2_5'].mean())\n",
    "# sns.distplot(train['pm2_5'])\n",
    "# train.groupby('site_latitude')['site_longitude'].unique()"
   ]
  },
  {
   "cell_type": "code",
   "execution_count": 602,
   "metadata": {},
   "outputs": [
    {
     "data": {
      "text/html": [
       "<div>\n",
       "<style scoped>\n",
       "    .dataframe tbody tr th:only-of-type {\n",
       "        vertical-align: middle;\n",
       "    }\n",
       "\n",
       "    .dataframe tbody tr th {\n",
       "        vertical-align: top;\n",
       "    }\n",
       "\n",
       "    .dataframe thead th {\n",
       "        text-align: right;\n",
       "    }\n",
       "</style>\n",
       "<table border=\"1\" class=\"dataframe\">\n",
       "  <thead>\n",
       "    <tr style=\"text-align: right;\">\n",
       "      <th></th>\n",
       "      <th>ID</th>\n",
       "      <th>pm2_5</th>\n",
       "    </tr>\n",
       "  </thead>\n",
       "  <tbody>\n",
       "    <tr>\n",
       "      <th>0</th>\n",
       "      <td>ID_OC21YTIKX2</td>\n",
       "      <td>65.724431</td>\n",
       "    </tr>\n",
       "    <tr>\n",
       "      <th>1</th>\n",
       "      <td>ID_ZS2RAN8HZT</td>\n",
       "      <td>76.561677</td>\n",
       "    </tr>\n",
       "    <tr>\n",
       "      <th>2</th>\n",
       "      <td>ID_X5RLD131U1</td>\n",
       "      <td>67.751355</td>\n",
       "    </tr>\n",
       "    <tr>\n",
       "      <th>3</th>\n",
       "      <td>ID_3O2ZUT59OO</td>\n",
       "      <td>69.447611</td>\n",
       "    </tr>\n",
       "    <tr>\n",
       "      <th>4</th>\n",
       "      <td>ID_WGF1986WB4</td>\n",
       "      <td>59.923627</td>\n",
       "    </tr>\n",
       "    <tr>\n",
       "      <th>...</th>\n",
       "      <td>...</td>\n",
       "      <td>...</td>\n",
       "    </tr>\n",
       "    <tr>\n",
       "      <th>4249</th>\n",
       "      <td>ID_FO4YN5QN6I</td>\n",
       "      <td>53.686750</td>\n",
       "    </tr>\n",
       "    <tr>\n",
       "      <th>4250</th>\n",
       "      <td>ID_CEVYPKUPGM</td>\n",
       "      <td>53.800929</td>\n",
       "    </tr>\n",
       "    <tr>\n",
       "      <th>4251</th>\n",
       "      <td>ID_YWYBKXUSYM</td>\n",
       "      <td>53.263759</td>\n",
       "    </tr>\n",
       "    <tr>\n",
       "      <th>4252</th>\n",
       "      <td>ID_Y7HLFD3N76</td>\n",
       "      <td>51.118309</td>\n",
       "    </tr>\n",
       "    <tr>\n",
       "      <th>4253</th>\n",
       "      <td>ID_87NCNY5L2X</td>\n",
       "      <td>54.417139</td>\n",
       "    </tr>\n",
       "  </tbody>\n",
       "</table>\n",
       "<p>4254 rows × 2 columns</p>\n",
       "</div>"
      ],
      "text/plain": [
       "                 ID      pm2_5\n",
       "0     ID_OC21YTIKX2  65.724431\n",
       "1     ID_ZS2RAN8HZT  76.561677\n",
       "2     ID_X5RLD131U1  67.751355\n",
       "3     ID_3O2ZUT59OO  69.447611\n",
       "4     ID_WGF1986WB4  59.923627\n",
       "...             ...        ...\n",
       "4249  ID_FO4YN5QN6I  53.686750\n",
       "4250  ID_CEVYPKUPGM  53.800929\n",
       "4251  ID_YWYBKXUSYM  53.263759\n",
       "4252  ID_Y7HLFD3N76  51.118309\n",
       "4253  ID_87NCNY5L2X  54.417139\n",
       "\n",
       "[4254 rows x 2 columns]"
      ]
     },
     "execution_count": 602,
     "metadata": {},
     "output_type": "execute_result"
    }
   ],
   "source": [
    "test[['ID','pm2_5']]"
   ]
  },
  {
   "cell_type": "code",
   "execution_count": 603,
   "metadata": {},
   "outputs": [],
   "source": [
    "# test[['ID','pm2_5']].to_csv('moyene.csv',index = False)\n",
    "# test[['pm2_5']].isna().sum()\n",
    "test[['ID','pm2_5']].to_csv('002_folds_bis.csv',index = False)"
   ]
  },
  {
   "cell_type": "code",
   "execution_count": 415,
   "metadata": {
    "execution": {
     "iopub.execute_input": "2022-09-09T12:54:01.425935Z",
     "iopub.status.busy": "2022-09-09T12:54:01.425413Z",
     "iopub.status.idle": "2022-09-09T12:54:01.456049Z",
     "shell.execute_reply": "2022-09-09T12:54:01.454849Z",
     "shell.execute_reply.started": "2022-09-09T12:54:01.425897Z"
    }
   },
   "outputs": [],
   "source": [
    "# sub = preds_to_sub(test,np.exp(y_predicted_lgb))\n",
    "# i = 0\n",
    "\n",
    "# [i for i in test.site_latitude.unique() if i not in train.site_latitude.unique() ]\n",
    "# abs(train['site_latitude']-0.33261).argmin()\n",
    "# train.loc[680]\n",
    "# test.loc[test.site_latitude == 0.33261]\n",
    "# train.groupby('site_latitude').size()\n",
    "# i = 3\n",
    "# (train.loc[train.site_latitude == train.site_latitude.unique()[i]].dropna()['pm2_5'].mean(), \n",
    "# train.loc[train.site_latitude == train.site_latitude.unique()[i]]['pm2_5'].mean())\n"
   ]
  },
  {
   "cell_type": "code",
   "execution_count": 422,
   "metadata": {},
   "outputs": [],
   "source": [
    "# train.Train"
   ]
  },
  {
   "cell_type": "code",
   "execution_count": 568,
   "metadata": {},
   "outputs": [],
   "source": [
    "\n",
    "all_data = pd.concat([train, test])\n",
    "train = all_data.loc[all_data.Train == 1].reset_index(drop = True) \n",
    "test = all_data.loc[all_data.Train == 0].reset_index(drop = True)"
   ]
  },
  {
   "cell_type": "code",
   "execution_count": 440,
   "metadata": {},
   "outputs": [
    {
     "data": {
      "text/plain": [
       "pm2_5                                                     1.000000\n",
       "CarbonMonoxide_CO_column_number_density                   0.677449\n",
       "NitrogenDioxide_NO2_column_number_density                 0.545556\n",
       "NitrogenDioxide_tropospheric_NO2_column_number_density    0.506764\n",
       "humidity                                                 -0.455418\n",
       "                                                            ...   \n",
       "device                                                         NaN\n",
       "site_latitude                                                  NaN\n",
       "site_longitude                                                 NaN\n",
       "Train                                                          NaN\n",
       "site_code                                                      NaN\n",
       "Name: pm2_5, Length: 86, dtype: float64"
      ]
     },
     "execution_count": 440,
     "metadata": {},
     "output_type": "execute_result"
    }
   ],
   "source": [
    "# sub.loc[sub.ID == 'ID_3E7KH74OPM']\n",
    "# sub.to_csv('exp.csv',index = False)\n",
    "# sub\n",
    "train.drop('shifted_1',axis = 1).groupby('site_code').get_group(8).corr()['pm2_5'].sort_values(ascending = False, key = abs)"
   ]
  },
  {
   "cell_type": "code",
   "execution_count": 476,
   "metadata": {},
   "outputs": [
    {
     "data": {
      "text/plain": [
       "<AxesSubplot:xlabel='pm2_5', ylabel='Density'>"
      ]
     },
     "execution_count": 476,
     "metadata": {},
     "output_type": "execute_result"
    },
    {
     "data": {
      "image/png": "[encoded data removed]",
      "text/plain": [
       "<Figure size 432x288 with 1 Axes>"
      ]
     },
     "metadata": {
      "needs_background": "light"
     },
     "output_type": "display_data"
    }
   ],
   "source": [
    "\n",
    "# lim = a.date.min() + (a.date.max() - a.date.min())/2\n",
    "# a1 = a[a.date<lim]\n",
    "# a2 = a[a.date>=lim]\n",
    "# sns.distplot(((a1['pm2_5']).diff().dropna()))\n",
    "# sns.distplot(((a2['pm2_5']).diff().dropna()))\n"
   ]
  },
  {
   "cell_type": "code",
   "execution_count": 656,
   "metadata": {},
   "outputs": [
    {
     "data": {
      "text/plain": [
       "7424    440.920000\n",
       "3391    293.105317\n",
       "3390    277.510000\n",
       "1579    266.071800\n",
       "5225    247.904367\n",
       "           ...    \n",
       "6439      4.055550\n",
       "6113      3.681824\n",
       "3859      1.798678\n",
       "6209      1.348777\n",
       "7073      1.160400\n",
       "Name: pm2_5, Length: 9923, dtype: float64"
      ]
     },
     "execution_count": 656,
     "metadata": {},
     "output_type": "execute_result"
    }
   ],
   "source": [
    "# a = train.groupby('site_code').get_group(2)\n",
    "# a.index = a.date\n",
    "# plt.plot(a['pm2_5'].resample('W').mean())\n",
    "# a.iloc[232]\n",
    "# train.loc[train.date == a.iloc[232]['date'] ].describe()['pm2_5']\n",
    "train['pm2_5'].sort_values(ascending = False)"
   ]
  },
  {
   "cell_type": "code",
   "execution_count": 646,
   "metadata": {},
   "outputs": [
    {
     "name": "stdout",
     "output_type": "stream",
     "text": [
      "1\n",
      "87.22123988095238\n",
      "0\n",
      "133.3394286484594\n",
      "20\n",
      "128.94185634920635\n",
      "7\n",
      "143.95665119047618\n",
      "22\n",
      "113.07569642857145\n",
      "4\n",
      "106.49472181677018\n",
      "11\n",
      "97.85995357142858\n",
      "8\n",
      "93.30252440476191\n",
      "25\n",
      "94.86477391304348\n",
      "21\n",
      "155.94473324808186\n",
      "29\n",
      "126.10053162013355\n",
      "14\n",
      "179.42421363636365\n",
      "2\n",
      "440.92\n",
      "26\n",
      "136.30302976190475\n",
      "24\n",
      "93.89376923076922\n",
      "13\n",
      "86.4045\n",
      "3\n",
      "83.33044513457557\n",
      "31\n",
      "92.84578674948241\n",
      "15\n",
      "92.07378623188404\n",
      "9\n",
      "85.45515527950313\n",
      "18\n",
      "105.51810300207039\n",
      "23\n",
      "114.14940217391305\n",
      "16\n",
      "86.06447722567289\n",
      "19\n",
      "98.56124223602485\n",
      "33\n",
      "95.1801708074534\n",
      "12\n",
      "93.57944444444445\n",
      "5\n",
      "93.81192028985507\n",
      "32\n",
      "115.07087789115647\n",
      "34\n",
      "100.32092995580808\n",
      "30\n",
      "109.85841045918366\n",
      "6\n",
      "120.63593154761905\n",
      "10\n",
      "74.15428463564214\n",
      "28\n",
      "81.19387300724637\n",
      "27\n",
      "56.75566571428572\n"
     ]
    },
    {
     "data": {
      "image/png": "[encoded data removed]",
      "text/plain": [
       "<Figure size 432x288 with 1 Axes>"
      ]
     },
     "metadata": {
      "needs_background": "light"
     },
     "output_type": "display_data"
    }
   ],
   "source": [
    "# a = train.groupby('site_code').get_group(1)\n",
    "# a.index = a.date\n",
    "# plt.plot(a['pm2_5'].resample('M').mean())\n",
    "for i in train.site_code.unique():\n",
    "    \n",
    "    b = train.groupby('site_code').get_group(i)\n",
    "    b.index = b.date\n",
    "    print(i)\n",
    "    print(b['pm2_5'].resample('W').mean().max())\n",
    "    plt.plot(b['pm2_5'].resample('W').mean())"
   ]
  },
  {
   "cell_type": "code",
   "execution_count": 465,
   "metadata": {},
   "outputs": [
    {
     "data": {
      "text/plain": [
       "Timestamp('2019-12-01 00:00:00')"
      ]
     },
     "execution_count": 465,
     "metadata": {},
     "output_type": "execute_result"
    }
   ],
   "source": []
  },
  {
   "cell_type": "code",
   "execution_count": 471,
   "metadata": {},
   "outputs": [
    {
     "data": {
      "text/plain": [
       "<AxesSubplot:xlabel='pm2_5', ylabel='Density'>"
      ]
     },
     "execution_count": 471,
     "metadata": {},
     "output_type": "execute_result"
    },
    {
     "data": {
      "image/png": "[encoded data removed]",
      "text/plain": [
       "<Figure size 432x288 with 1 Axes>"
      ]
     },
     "metadata": {
      "needs_background": "light"
     },
     "output_type": "display_data"
    }
   ],
   "source": []
  },
  {
   "cell_type": "code",
   "execution_count": 159,
   "metadata": {
    "execution": {
     "iopub.execute_input": "2022-09-09T12:09:58.778759Z",
     "iopub.status.busy": "2022-09-09T12:09:58.778367Z",
     "iopub.status.idle": "2022-09-09T12:09:58.784367Z",
     "shell.execute_reply": "2022-09-09T12:09:58.783557Z",
     "shell.execute_reply.started": "2022-09-09T12:09:58.778729Z"
    }
   },
   "outputs": [
    {
     "data": {
      "text/plain": [
       "(4254,)"
      ]
     },
     "execution_count": 159,
     "metadata": {},
     "output_type": "execute_result"
    }
   ],
   "source": [
    "(y_predicted_lgb+test['mean'].values).shape"
   ]
  },
  {
   "cell_type": "code",
   "execution_count": 160,
   "metadata": {
    "execution": {
     "iopub.execute_input": "2022-09-09T12:10:01.796702Z",
     "iopub.status.busy": "2022-09-09T12:10:01.795134Z",
     "iopub.status.idle": "2022-09-09T12:10:01.804526Z",
     "shell.execute_reply": "2022-09-09T12:10:01.802827Z",
     "shell.execute_reply.started": "2022-09-09T12:10:01.796619Z"
    }
   },
   "outputs": [
    {
     "data": {
      "text/plain": [
       "(4254, 89)"
      ]
     },
     "execution_count": 160,
     "metadata": {},
     "output_type": "execute_result"
    }
   ],
   "source": [
    "test.shape"
   ]
  },
  {
   "cell_type": "code",
   "execution_count": 48,
   "metadata": {
    "execution": {
     "iopub.execute_input": "2022-09-09T12:10:07.081605Z",
     "iopub.status.busy": "2022-09-09T12:10:07.079961Z",
     "iopub.status.idle": "2022-09-09T12:10:07.097170Z",
     "shell.execute_reply": "2022-09-09T12:10:07.096214Z",
     "shell.execute_reply.started": "2022-09-09T12:10:07.081554Z"
    }
   },
   "outputs": [],
   "source": [
    "sub"
   ]
  },
  {
   "cell_type": "code",
   "execution_count": 49,
   "metadata": {
    "execution": {
     "iopub.execute_input": "2022-09-09T12:10:12.229637Z",
     "iopub.status.busy": "2022-09-09T12:10:12.229232Z",
     "iopub.status.idle": "2022-09-09T12:10:12.252490Z",
     "shell.execute_reply": "2022-09-09T12:10:12.251338Z",
     "shell.execute_reply.started": "2022-09-09T12:10:12.229606Z"
    }
   },
   "outputs": [],
   "source": [
    "sub.to_csv('lgb_5.csv',index = False)"
   ]
  },
  {
   "cell_type": "code",
   "execution_count": 60,
   "metadata": {
    "execution": {
     "iopub.execute_input": "2022-09-09T14:53:41.074585Z",
     "iopub.status.busy": "2022-09-09T14:53:41.074154Z",
     "iopub.status.idle": "2022-09-09T14:58:07.832176Z",
     "shell.execute_reply": "2022-09-09T14:58:07.830796Z",
     "shell.execute_reply.started": "2022-09-09T14:53:41.074544Z"
    }
   },
   "outputs": [],
   "source": [
    "from catboost import Pool, CatBoostRegressor\n",
    "params_cat = {'iterations':1500,\n",
    "        'learning_rate':0.01,\n",
    "        'random_strength':0.1,\n",
    "        'depth':8,\n",
    "        'loss_function':'MAE',\n",
    "        'eval_metric':'MAE',\n",
    "        'verbose' : 100}\n",
    "y_predicted_cat,models_cat,y_oof_cat,oof_score_cat =train_catbo(train.drop(drop_cols,axis = 1),\n",
    "                                                                y,test.drop(drop_cols,axis = 1),params_cat,42,\n",
    "                                                               True)"
   ]
  },
  {
   "cell_type": "code",
   "execution_count": null,
   "metadata": {},
   "outputs": [],
   "source": []
  }
 ],
 "metadata": {
  "kernelspec": {
   "display_name": "Python 3 (ipykernel)",
   "language": "python",
   "name": "python3"
  },
  "language_info": {
   "codemirror_mode": {
    "name": "ipython",
    "version": 3
   },
   "file_extension": ".py",
   "mimetype": "text/x-python",
   "name": "python",
   "nbconvert_exporter": "python",
   "pygments_lexer": "ipython3",
   "version": "3.7.4"
  }
 },
 "nbformat": 4,
 "nbformat_minor": 4
}
