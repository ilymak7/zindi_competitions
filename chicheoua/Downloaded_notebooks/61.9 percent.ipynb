{
 "cells": [
  {
   "cell_type": "code",
   "execution_count": 13,
   "metadata": {},
   "outputs": [],
   "source": [
    "import numpy as np\n",
    "import pandas as pd\n",
    "from matplotlib import pyplot as plt\n",
    "%matplotlib inline\n",
    "import seaborn as sns\n",
    "import re\n",
    "from sklearn.linear_model import LogisticRegression\n",
    "from sklearn.preprocessing import LabelBinarizer,LabelEncoder\n",
    "from sklearn.metrics import accuracy_score, f1_score,precision_score, recall_score\n",
    "from sklearn.model_selection import train_test_split\n",
    "from sklearn.feature_extraction.text import CountVectorizer\n",
    "from sklearn.feature_extraction.text import TfidfVectorizer\n",
    "# \n",
    "# vect\n",
    "from sklearn.feature_extraction.text import CountVectorizer\n",
    "\n",
    "train_df = pd.read_csv('../Translated/cleaned/train.csv')\n",
    "test_df = pd.read_csv('../Translated/cleaned/test.csv')\n",
    "cols_target = train_df.Label.unique().tolist()\n",
    "le = LabelEncoder()\n",
    "# y_train = lb.fit_transform(train_df['Label'])\n",
    "train_df['label'] = le.fit_transform(train_df['Label'])\n",
    "# y_train = pd.DataFrame(y_train, columns= lb.classes_)\n",
    "# y_train\n",
    "\n",
    "# train_df = pd.concat([train_df, y_train], axis = 1)\n",
    "train_df\n",
    "def clean_text(text):\n",
    "    text = text.lower()\n",
    "#     text = re.sub(r\"what's\", \"what is \", text)\n",
    "#     text = re.sub(r\"\\'s\", \" \", text)\n",
    "#     text = re.sub(r\"\\'ve\", \" have \", text)\n",
    "#     text = re.sub(r\"can't\", \"cannot \", text)\n",
    "#     text = re.sub(r\"n't\", \" not \", text)\n",
    "#     text = re.sub(r\"i'm\", \"i am \", text)\n",
    "#     text = re.sub(r\"\\'re\", \" are \", text)\n",
    "#     text = re.sub(r\"\\'d\", \" would \", text)\n",
    "#     text = re.sub(r\"\\'ll\", \" will \", text)\n",
    "#     text = re.sub(r\"\\'scuse\", \" excuse \", text)\n",
    "#     text = re.sub('\\W', ' ', text)\n",
    "    text = re.sub('\\s+', ' ', text)\n",
    "    text = text.strip(' ')\n",
    "    return text\n",
    "train_df['Text'] = train_df['Text'].map(lambda com : clean_text(com))\n",
    "test_df['Text'] = test_df['Text'].map(lambda com : clean_text(com))\n",
    "X = train_df.Text\n",
    "test_X = test_df.Text\n",
    "# import and instantiate TfidfVectorizer\n",
    "other_stop_w = pd.read_csv('words_shared_by_all.csv')\n",
    "stopw = [item for sublist in other_stop_w.values.tolist() for item in sublist]\n",
    "tfidf_vect = TfidfVectorizer(max_features=45000,ngram_range=(1, 3), max_df=0.7)\n",
    "count_vect = CountVectorizer(stop_words = stopw)\n",
    "\n",
    "X_tfidf = tfidf_vect.fit_transform(X)\n",
    "test_X_tfidf = tfidf_vect.transform(test_X)\n",
    "\n",
    "X_count = count_vect.fit_transform(X)\n",
    "test_X_count = count_vect.transform(test_X)\n",
    "\n",
    "# vectorizer\n",
    "\n",
    "# X_tfidf_train, X_tfidf_test, y_tfidf_train, y_tfidf_test = train_test_split(X_tfidf, train_df['label'], test_size=0.2, random_state = 0,stratify = train_df['Label'])\n",
    "\n",
    "# X_count_train, X_count_test, y_count_train, y_count_test = train_test_split(X_count, train_df['label'], test_size=0.2, random_state = 0,stratify = train_df['Label'])\n",
    "\n",
    "# logreg_tfidf = LogisticRegression(C=12.0,max_iter = 1000,random_state = 0, multi_class = 'ovr', solver = 'liblinear')\n",
    "\n",
    "# logreg_count = LogisticRegression(C=12.0,max_iter = 1000,random_state = 0, multi_class = 'ovr', solver = 'liblinear')\n",
    "\n",
    "\n",
    "# logreg_tfidf.fit(X_tfidf_train,y_tfidf_train)\n",
    "\n",
    "# logreg_count.fit(X_count_train,y_count_train)\n",
    "\n",
    "# # precision_score(logreg_tfidf.predict(X_tfidf_test),y_tfidf_test, average=None)\n",
    "\n",
    "\n",
    "\n",
    "\n"
   ]
  },
  {
   "cell_type": "code",
   "execution_count": 14,
   "metadata": {},
   "outputs": [],
   "source": [
    "# train_df['label']\n",
    "# train_df"
   ]
  },
  {
   "cell_type": "code",
   "execution_count": 15,
   "metadata": {},
   "outputs": [],
   "source": [
    "# pd.DataFrame({'label' : lb.classes_,\n",
    "#               'precision' : precision_score(logreg_tfidf.predict(X_tfidf_test),y_tfidf_test, average=None),\n",
    "#               'recall' : recall_score(logreg_tfidf.predict(X_tfidf_test),y_tfidf_test,average = None),\n",
    "#              'accuracy' : accuracy_score(logreg_tfidf.predict(X_tfidf_test),y_tfidf_test)})"
   ]
  },
  {
   "cell_type": "code",
   "execution_count": 16,
   "metadata": {},
   "outputs": [],
   "source": [
    "# def evaluate_model_vect(count_vect, train_df,model,lb):\n",
    "# #     lb = LabelEncoder()\n",
    "#     y = lb.fit_transform(train_df['Label'])\n",
    "#     X = train_df.Text\n",
    "#     X_count = count_vect.fit_transform(X)\n",
    "#     X_count_train, X_count_test, y_count_train, y_count_test = train_test_split(X_count, y, test_size=0.2, random_state = 0,stratify = train_df['Label'])\n",
    "#     model.fit(X_count_train,y_count_train)\n",
    "#     results = pd.DataFrame({'label' : lb.classes_,\n",
    "#               'precision' : precision_score(model.predict(X_count_test),y_count_test, average=None),\n",
    "#               'recall' : recall_score(model.predict(X_count_test),y_count_test,average = None),\n",
    "#              'accuracy' : accuracy_score(model.predict(X_count_test),y_count_test)})\n",
    "#     return results\n"
   ]
  },
  {
   "cell_type": "code",
   "execution_count": 17,
   "metadata": {},
   "outputs": [],
   "source": [
    "# evaluate_model_vect(tfidf_vect, train_df,logreg_tfidf,LabelEncoder())"
   ]
  },
  {
   "cell_type": "code",
   "execution_count": 18,
   "metadata": {},
   "outputs": [],
   "source": [
    "# logreg_tfidf = LogisticRegression(C=12.0,max_iter = 1000,random_state = 0, solver = 'liblinear')\n",
    "# count_vectorizer = CountVectorizer(ngram_range=(1,3))\n",
    "from sklearn.feature_extraction.text import HashingVectorizer\n",
    "\n",
    "hash_vectorizer = HashingVectorizer(n_features=10000,norm=None,alternate_sign=False)"
   ]
  },
  {
   "cell_type": "code",
   "execution_count": 19,
   "metadata": {},
   "outputs": [],
   "source": [
    "# evaluate_model_vect(hash_vectorizer, train_df,logreg_tfidf,LabelEncoder())\n",
    "\n",
    "X_hash = hash_vectorizer.fit_transform(X)\n",
    "test_hash = hash_vectorizer.transform(test_X)"
   ]
  },
  {
   "cell_type": "code",
   "execution_count": 20,
   "metadata": {},
   "outputs": [
    {
     "data": {
      "text/plain": [
       "<1436x10000 sparse matrix of type '<class 'numpy.float64'>'\n",
       "\twith 260379 stored elements in Compressed Sparse Row format>"
      ]
     },
     "execution_count": 20,
     "metadata": {},
     "output_type": "execute_result"
    }
   ],
   "source": [
    "X_hash"
   ]
  },
  {
   "cell_type": "markdown",
   "metadata": {},
   "source": [
    "# keras"
   ]
  },
  {
   "cell_type": "code",
   "execution_count": 21,
   "metadata": {},
   "outputs": [],
   "source": [
    "from tensorflow import keras\n",
    "layers = keras.layers\n",
    "models = keras.models\n",
    "# Build the model\n",
    "from keras import backend as K \n",
    "\n",
    "# Do some code, e.g. train and save model\n",
    "\n",
    "K.clear_session()\n",
    "seed_value= 0\n",
    "\n",
    "# 1. Set the `PYTHONHASHSEED` environment variable at a fixed value\n",
    "import os\n",
    "os.environ['PYTHONHASHSEED']=str(seed_value)\n",
    "\n",
    "# 2. Set the `python` built-in pseudo-random generator at a fixed value\n",
    "import random\n",
    "random.seed(seed_value)\n",
    "\n",
    "# 3. Set the `numpy` pseudo-random generator at a fixed value\n",
    "import numpy as np\n",
    "np.random.seed(seed_value)\n",
    "\n",
    "# 4. Set the `tensorflow` pseudo-random generator at a fixed value\n",
    "import tensorflow as tf\n",
    "tf.random.set_seed(seed_value)\n",
    "\n",
    "model = models.Sequential()\n",
    "model.add(layers.Dense(1000, input_shape=(45000,)))\n",
    "# model.add(layers.BatchNormalization())\n",
    "model.add(layers.Activation('linear'))\n",
    "model.add(layers.Dropout(0.2))\n",
    "# model.add(layers.Dense(2048))\n",
    "# model.add(layers.BatchNormalization())\n",
    "# model.add(layers.Activation('relu'))\n",
    "# model.add(layers.Dense(512))\n",
    "# # model.add(layers.BatchNormalization())\n",
    "# model.add(layers.Activation('relu'))\n",
    "# model.add(layers.Dense(128))\n",
    "# # model.add(layers.BatchNormalization())\n",
    "# model.add(layers.Activation('relu'))\n",
    "\n",
    "# model.add(layers.Dropout(drop_ratio))\n",
    "model.add(layers.Dense(20))\n",
    "model.add(layers.Activation('softmax'))\n",
    "\n",
    "model.compile(loss='categorical_crossentropy',\n",
    "              optimizer='adam',\n",
    "              metrics=['accuracy'])"
   ]
  },
  {
   "cell_type": "code",
   "execution_count": 22,
   "metadata": {},
   "outputs": [],
   "source": [
    "cols_target = train_df.Label.unique().tolist()\n",
    "from sklearn.preprocessing import LabelBinarizer\n",
    "lb = LabelBinarizer()\n",
    "y_train = lb.fit_transform(train_df['Label'])\n",
    "\n",
    "y_train = pd.DataFrame(y_train, columns= lb.classes_)\n",
    "# y_train\n",
    "\n",
    "train_df = pd.concat([train_df, y_train], axis = 1)\n",
    "# train_df\n",
    "\n",
    "X_train, X_test, y_train, y_test = train_test_split(X_tfidf, train_df[cols_target], test_size=0.1, random_state = 0,stratify = train_df['Label'])"
   ]
  },
  {
   "cell_type": "code",
   "execution_count": 23,
   "metadata": {},
   "outputs": [
    {
     "name": "stdout",
     "output_type": "stream",
     "text": [
      "Epoch 1/6\n",
      "73/73 [==============================] - 19s 259ms/step - loss: 2.0935 - accuracy: 0.4045 - val_loss: 1.5037 - val_accuracy: 0.6154\n",
      "Epoch 2/6\n",
      "73/73 [==============================] - 18s 244ms/step - loss: 0.4349 - accuracy: 0.9312 - val_loss: 1.2082 - val_accuracy: 0.6538\n",
      "Epoch 3/6\n",
      "73/73 [==============================] - 18s 249ms/step - loss: 0.0510 - accuracy: 0.9966 - val_loss: 1.1488 - val_accuracy: 0.6538\n",
      "Epoch 4/6\n",
      "73/73 [==============================] - 18s 250ms/step - loss: 0.0266 - accuracy: 0.9974 - val_loss: 1.1429 - val_accuracy: 0.6385\n",
      "Epoch 5/6\n",
      "73/73 [==============================] - 19s 263ms/step - loss: 0.0247 - accuracy: 0.9957 - val_loss: 1.1290 - val_accuracy: 0.6538\n",
      "Epoch 6/6\n",
      "73/73 [==============================] - 19s 266ms/step - loss: 0.0150 - accuracy: 0.9974 - val_loss: 1.1287 - val_accuracy: 0.6538\n"
     ]
    }
   ],
   "source": [
    "history = model.fit(X_train.toarray(), y_train,\n",
    "                    batch_size=16,\n",
    "                    epochs=6,\n",
    "                    verbose=1,\n",
    "                   validation_split = 0.1)"
   ]
  },
  {
   "cell_type": "code",
   "execution_count": 24,
   "metadata": {},
   "outputs": [
    {
     "name": "stdout",
     "output_type": "stream",
     "text": [
      "5/5 [==============================] - 0s 27ms/step - loss: 1.2633 - accuracy: 0.6806\n"
     ]
    },
    {
     "data": {
      "text/plain": [
       "[1.2633183002471924, 0.6805555820465088]"
      ]
     },
     "execution_count": 24,
     "metadata": {},
     "output_type": "execute_result"
    }
   ],
   "source": [
    "model.evaluate(X_test.toarray(),y_test)"
   ]
  },
  {
   "cell_type": "code",
   "execution_count": 25,
   "metadata": {},
   "outputs": [],
   "source": [
    "preds = model.predict(test_X_tfidf.toarray())\n",
    "\n"
   ]
  },
  {
   "cell_type": "code",
   "execution_count": 26,
   "metadata": {},
   "outputs": [
    {
     "data": {
      "text/plain": [
       "array(['SOCIAL ISSUES', 'RELIGION', 'RELATIONSHIPS', 'SOCIAL ISSUES',\n",
       "       'SOCIAL ISSUES', 'RELIGION', 'POLITICS', 'ECONOMY', 'POLITICS',\n",
       "       'POLITICS', 'SPORTS', 'SOCIAL', 'RELIGION', 'SOCIAL ISSUES',\n",
       "       'LAW/ORDER', 'POLITICS', 'SOCIAL', 'SOCIAL', 'RELIGION', 'HEALTH',\n",
       "       'RELIGION', 'POLITICS', 'SOCIAL ISSUES', 'ECONOMY',\n",
       "       'SOCIAL ISSUES', 'POLITICS', 'RELIGION', 'RELIGION', 'FARMING',\n",
       "       'FARMING', 'SOCIAL ISSUES', 'POLITICS', 'SPORTS', 'SOCIAL',\n",
       "       'HEALTH', 'HEALTH', 'POLITICS', 'HEALTH', 'SOCIAL ISSUES',\n",
       "       'SPORTS', 'POLITICS', 'SOCIAL', 'SOCIAL', 'RELIGION', 'CULTURE',\n",
       "       'WILDLIFE/ENVIRONMENT', 'LAW/ORDER', 'EDUCATION', 'RELATIONSHIPS',\n",
       "       'SOCIAL ISSUES', 'SOCIAL ISSUES', 'RELIGION', 'POLITICS',\n",
       "       'EDUCATION', 'POLITICS', 'POLITICS', 'SOCIAL ISSUES',\n",
       "       'SOCIAL ISSUES', 'POLITICS', 'POLITICS', 'SOCIAL ISSUES', 'SOCIAL',\n",
       "       'POLITICS', 'LAW/ORDER', 'RELATIONSHIPS', 'HEALTH', 'ECONOMY',\n",
       "       'HEALTH', 'LAW/ORDER', 'MUSIC', 'HEALTH', 'SOCIAL ISSUES',\n",
       "       'SOCIAL', 'SOCIAL ISSUES', 'FARMING', 'SPORTS', 'POLITICS',\n",
       "       'EDUCATION', 'ECONOMY', 'RELIGION', 'POLITICS', 'SOCIAL ISSUES',\n",
       "       'EDUCATION', 'POLITICS', 'POLITICS', 'SOCIAL', 'RELIGION',\n",
       "       'HEALTH', 'LOCALCHIEFS', 'SOCIAL', 'RELATIONSHIPS',\n",
       "       'SOCIAL ISSUES', 'RELATIONSHIPS', 'LAW/ORDER', 'SOCIAL ISSUES',\n",
       "       'POLITICS', 'RELIGION', 'SOCIAL', 'RELATIONSHIPS', 'SPORTS',\n",
       "       'LOCALCHIEFS', 'LAW/ORDER', 'POLITICS', 'SOCIAL ISSUES',\n",
       "       'POLITICS', 'ECONOMY', 'LAW/ORDER', 'ECONOMY', 'POLITICS',\n",
       "       'EDUCATION', 'POLITICS', 'POLITICS', 'HEALTH', 'RELIGION',\n",
       "       'SOCIAL ISSUES', 'RELIGION', 'RELIGION', 'LAW/ORDER', 'RELIGION',\n",
       "       'FARMING', 'ECONOMY', 'HEALTH', 'POLITICS', 'EDUCATION',\n",
       "       'POLITICS', 'LAW/ORDER', 'POLITICS', 'SOCIAL ISSUES', 'RELIGION',\n",
       "       'HEALTH', 'ECONOMY', 'POLITICS', 'ECONOMY', 'LAW/ORDER',\n",
       "       'SOCIAL ISSUES', 'SOCIAL', 'SOCIAL ISSUES', 'SOCIAL', 'RELIGION',\n",
       "       'SOCIAL ISSUES', 'FARMING', 'SOCIAL ISSUES', 'RELIGION',\n",
       "       'RELIGION', 'POLITICS', 'RELIGION', 'FARMING', 'POLITICS',\n",
       "       'POLITICS', 'SOCIAL ISSUES', 'POLITICS', 'POLITICS', 'POLITICS',\n",
       "       'SOCIAL', 'SOCIAL ISSUES', 'HEALTH', 'LAW/ORDER', 'POLITICS',\n",
       "       'POLITICS', 'LAW/ORDER', 'ECONOMY', 'ECONOMY', 'LOCALCHIEFS',\n",
       "       'RELIGION', 'SPORTS', 'SOCIAL', 'SPORTS', 'SOCIAL ISSUES',\n",
       "       'ECONOMY', 'LAW/ORDER', 'POLITICS', 'FARMING', 'RELIGION',\n",
       "       'SOCIAL ISSUES', 'HEALTH', 'RELIGION', 'POLITICS', 'POLITICS',\n",
       "       'RELIGION', 'SOCIAL', 'POLITICS', 'SOCIAL', 'SOCIAL ISSUES',\n",
       "       'RELIGION', 'FARMING', 'SOCIAL', 'WILDLIFE/ENVIRONMENT',\n",
       "       'POLITICS', 'FARMING', 'HEALTH', 'POLITICS', 'HEALTH', 'EDUCATION',\n",
       "       'HEALTH', 'SPORTS', 'RELIGION', 'SOCIAL', 'SPORTS', 'POLITICS',\n",
       "       'POLITICS', 'SOCIAL', 'POLITICS', 'HEALTH', 'POLITICS', 'RELIGION',\n",
       "       'RELATIONSHIPS', 'LAW/ORDER', 'LAW/ORDER', 'HEALTH',\n",
       "       'SOCIAL ISSUES', 'SOCIAL ISSUES', 'EDUCATION', 'POLITICS',\n",
       "       'HEALTH', 'HEALTH', 'LAW/ORDER', 'RELIGION', 'SOCIAL ISSUES',\n",
       "       'HEALTH', 'RELATIONSHIPS', 'LAW/ORDER', 'HEALTH', 'HEALTH',\n",
       "       'SPORTS', 'SOCIAL', 'POLITICS', 'POLITICS', 'SOCIAL ISSUES',\n",
       "       'ECONOMY', 'HEALTH', 'ECONOMY', 'RELATIONSHIPS', 'POLITICS',\n",
       "       'SOCIAL', 'LAW/ORDER', 'SOCIAL', 'SOCIAL', 'LAW/ORDER', 'HEALTH',\n",
       "       'RELATIONSHIPS', 'SOCIAL ISSUES', 'POLITICS', 'POLITICS',\n",
       "       'SOCIAL ISSUES', 'SOCIAL ISSUES', 'POLITICS', 'SOCIAL', 'POLITICS',\n",
       "       'RELIGION', 'SOCIAL', 'SOCIAL ISSUES', 'SOCIAL', 'SOCIAL',\n",
       "       'POLITICS', 'SOCIAL ISSUES', 'LOCALCHIEFS', 'HEALTH', 'SPORTS',\n",
       "       'SOCIAL ISSUES', 'POLITICS', 'HEALTH', 'POLITICS', 'HEALTH',\n",
       "       'RELIGION', 'SOCIAL ISSUES', 'SOCIAL ISSUES', 'LAW/ORDER',\n",
       "       'POLITICS', 'SOCIAL', 'RELIGION', 'POLITICS', 'OPINION/ESSAY',\n",
       "       'SOCIAL', 'LAW/ORDER', 'POLITICS', 'WILDLIFE/ENVIRONMENT',\n",
       "       'HEALTH', 'SOCIAL ISSUES', 'POLITICS', 'LAW/ORDER', 'POLITICS',\n",
       "       'SOCIAL', 'SOCIAL ISSUES', 'SOCIAL ISSUES', 'POLITICS', 'RELIGION',\n",
       "       'LAW/ORDER', 'LAW/ORDER', 'FARMING', 'POLITICS', 'LAW/ORDER',\n",
       "       'RELIGION', 'POLITICS', 'SOCIAL ISSUES', 'POLITICS', 'POLITICS',\n",
       "       'POLITICS', 'HEALTH', 'POLITICS', 'LAW/ORDER', 'SOCIAL ISSUES',\n",
       "       'HEALTH', 'SOCIAL', 'SOCIAL', 'LAW/ORDER', 'FARMING', 'LAW/ORDER',\n",
       "       'WILDLIFE/ENVIRONMENT', 'SOCIAL ISSUES', 'SOCIAL ISSUES', 'SPORTS',\n",
       "       'POLITICS', 'RELIGION', 'POLITICS', 'POLITICS', 'SOCIAL ISSUES',\n",
       "       'POLITICS', 'ECONOMY', 'LAW/ORDER', 'FARMING', 'POLITICS',\n",
       "       'HEALTH', 'FARMING', 'SOCIAL', 'POLITICS', 'FARMING',\n",
       "       'SOCIAL ISSUES', 'RELIGION', 'SOCIAL ISSUES', 'RELIGION',\n",
       "       'RELIGION', 'CULTURE', 'SOCIAL', 'EDUCATION', 'SOCIAL ISSUES',\n",
       "       'FARMING', 'SOCIAL ISSUES', 'ECONOMY', 'MUSIC', 'POLITICS',\n",
       "       'HEALTH', 'SOCIAL', 'HEALTH', 'RELIGION', 'POLITICS', 'POLITICS',\n",
       "       'SOCIAL', 'RELIGION', 'SOCIAL ISSUES', 'SOCIAL ISSUES', 'POLITICS',\n",
       "       'SOCIAL ISSUES', 'LAW/ORDER', 'POLITICS', 'SOCIAL ISSUES',\n",
       "       'ECONOMY', 'SOCIAL ISSUES', 'HEALTH', 'POLITICS', 'RELIGION',\n",
       "       'POLITICS', 'FARMING', 'POLITICS', 'RELIGION', 'POLITICS',\n",
       "       'FARMING', 'FARMING', 'FARMING', 'SOCIAL ISSUES', 'LAW/ORDER',\n",
       "       'POLITICS', 'SOCIAL ISSUES', 'LAW/ORDER', 'RELIGION', 'SOCIAL',\n",
       "       'HEALTH', 'POLITICS', 'POLITICS', 'POLITICS', 'POLITICS', 'SPORTS',\n",
       "       'SOCIAL ISSUES', 'POLITICS', 'ECONOMY', 'SOCIAL', 'LAW/ORDER',\n",
       "       'LAW/ORDER', 'SOCIAL', 'POLITICS', 'WILDLIFE/ENVIRONMENT',\n",
       "       'POLITICS', 'SOCIAL ISSUES', 'LAW/ORDER', 'LAW/ORDER', 'POLITICS',\n",
       "       'HEALTH', 'HEALTH', 'ECONOMY', 'POLITICS', 'SOCIAL',\n",
       "       'WILDLIFE/ENVIRONMENT', 'RELATIONSHIPS', 'EDUCATION', 'SOCIAL',\n",
       "       'POLITICS', 'POLITICS', 'FARMING', 'SOCIAL', 'SOCIAL ISSUES',\n",
       "       'POLITICS', 'SOCIAL', 'RELIGION', 'POLITICS', 'HEALTH', 'RELIGION',\n",
       "       'RELIGION', 'LAW/ORDER', 'RELIGION', 'POLITICS', 'POLITICS',\n",
       "       'LAW/ORDER', 'LAW/ORDER', 'POLITICS', 'LAW/ORDER', 'ECONOMY',\n",
       "       'LAW/ORDER', 'ECONOMY', 'RELIGION', 'RELIGION', 'POLITICS',\n",
       "       'LAW/ORDER', 'POLITICS', 'LAW/ORDER', 'RELIGION', 'HEALTH',\n",
       "       'POLITICS', 'HEALTH', 'FARMING', 'RELIGION', 'HEALTH', 'ECONOMY',\n",
       "       'LAW/ORDER', 'SPORTS', 'POLITICS', 'SOCIAL ISSUES', 'SOCIAL',\n",
       "       'POLITICS', 'POLITICS', 'POLITICS', 'SPORTS',\n",
       "       'WILDLIFE/ENVIRONMENT', 'SOCIAL', 'SOCIAL ISSUES', 'POLITICS',\n",
       "       'SPORTS', 'POLITICS', 'POLITICS', 'SOCIAL ISSUES',\n",
       "       'ARTS AND CRAFTS', 'SOCIAL', 'POLITICS', 'POLITICS', 'LOCALCHIEFS',\n",
       "       'SOCIAL ISSUES', 'POLITICS', 'SOCIAL ISSUES', 'HEALTH', 'HEALTH',\n",
       "       'EDUCATION', 'POLITICS', 'HEALTH', 'POLITICS', 'FARMING',\n",
       "       'POLITICS', 'POLITICS', 'SOCIAL', 'ECONOMY', 'RELATIONSHIPS',\n",
       "       'SOCIAL', 'SOCIAL', 'POLITICS', 'POLITICS', 'LAW/ORDER',\n",
       "       'SOCIAL ISSUES', 'ECONOMY', 'POLITICS', 'RELIGION', 'SOCIAL',\n",
       "       'SOCIAL', 'HEALTH', 'EDUCATION', 'EDUCATION', 'LAW/ORDER',\n",
       "       'RELIGION', 'RELIGION', 'SOCIAL', 'LAW/ORDER', 'LAW/ORDER',\n",
       "       'FARMING', 'LAW/ORDER', 'SPORTS', 'POLITICS', 'SOCIAL ISSUES',\n",
       "       'POLITICS', 'SOCIAL ISSUES', 'ECONOMY', 'FARMING', 'HEALTH',\n",
       "       'SOCIAL', 'WILDLIFE/ENVIRONMENT', 'FARMING', 'LAW/ORDER',\n",
       "       'RELIGION', 'FARMING', 'POLITICS', 'RELIGION',\n",
       "       'WILDLIFE/ENVIRONMENT', 'POLITICS', 'HEALTH', 'RELATIONSHIPS',\n",
       "       'SOCIAL', 'SPORTS', 'LAW/ORDER', 'RELIGION', 'LAW/ORDER',\n",
       "       'POLITICS', 'POLITICS', 'SOCIAL ISSUES', 'POLITICS', 'HEALTH',\n",
       "       'ECONOMY', 'FARMING', 'SOCIAL ISSUES', 'SOCIAL', 'RELIGION',\n",
       "       'POLITICS', 'RELIGION', 'SOCIAL', 'FARMING', 'SOCIAL', 'POLITICS',\n",
       "       'LOCALCHIEFS', 'POLITICS', 'RELIGION', 'POLITICS', 'SOCIAL',\n",
       "       'WILDLIFE/ENVIRONMENT', 'FARMING', 'SOCIAL ISSUES', 'LAW/ORDER',\n",
       "       'HEALTH', 'ECONOMY', 'RELIGION', 'SOCIAL', 'ECONOMY', 'RELIGION',\n",
       "       'SOCIAL', 'HEALTH', 'SPORTS', 'RELIGION', 'RELATIONSHIPS',\n",
       "       'RELATIONSHIPS', 'POLITICS', 'POLITICS', 'POLITICS', 'POLITICS',\n",
       "       'SOCIAL ISSUES', 'RELIGION', 'POLITICS', 'POLITICS', 'ECONOMY',\n",
       "       'SOCIAL', 'POLITICS', 'SOCIAL', 'SOCIAL ISSUES', 'SOCIAL ISSUES',\n",
       "       'SOCIAL', 'SOCIAL', 'ECONOMY', 'SOCIAL', 'POLITICS', 'RELIGION',\n",
       "       'LAW/ORDER', 'POLITICS', 'FARMING', 'LAW/ORDER', 'SPORTS',\n",
       "       'POLITICS', 'SOCIAL', 'POLITICS', 'SOCIAL ISSUES', 'POLITICS',\n",
       "       'SPORTS', 'SOCIAL ISSUES', 'POLITICS', 'SOCIAL ISSUES', 'POLITICS',\n",
       "       'RELIGION', 'LAW/ORDER', 'ECONOMY', 'SPORTS', 'POLITICS',\n",
       "       'RELIGION', 'FARMING', 'POLITICS', 'SOCIAL ISSUES', 'SOCIAL',\n",
       "       'SPORTS', 'SOCIAL ISSUES', 'ECONOMY', 'SOCIAL ISSUES',\n",
       "       'LOCALCHIEFS', 'ECONOMY', 'POLITICS', 'POLITICS', 'POLITICS',\n",
       "       'RELATIONSHIPS', 'LAW/ORDER', 'SOCIAL ISSUES', 'POLITICS'],\n",
       "      dtype='<U20')"
      ]
     },
     "execution_count": 26,
     "metadata": {},
     "output_type": "execute_result"
    }
   ],
   "source": [
    "lb.inverse_transform(pd.DataFrame(preds,columns = cols_target)[lb.classes_].values)\n",
    "# lb.classes_\n",
    "# y_train"
   ]
  },
  {
   "cell_type": "code",
   "execution_count": 27,
   "metadata": {},
   "outputs": [],
   "source": [
    "test_df['Label'] = lb.inverse_transform(pd.DataFrame(preds,columns = cols_target)[lb.classes_].values)\n"
   ]
  },
  {
   "cell_type": "code",
   "execution_count": 28,
   "metadata": {},
   "outputs": [],
   "source": [
    "sub = test_df[['ID','Label']]\n",
    "sub.to_csv('submission_keras_gram4.csv', index = False)"
   ]
  },
  {
   "cell_type": "code",
   "execution_count": null,
   "metadata": {},
   "outputs": [],
   "source": []
  }
 ],
 "metadata": {
  "kernelspec": {
   "display_name": "Python 3",
   "language": "python",
   "name": "python3"
  },
  "language_info": {
   "codemirror_mode": {
    "name": "ipython",
    "version": 3
   },
   "file_extension": ".py",
   "mimetype": "text/x-python",
   "name": "python",
   "nbconvert_exporter": "python",
   "pygments_lexer": "ipython3",
   "version": "3.7.4"
  }
 },
 "nbformat": 4,
 "nbformat_minor": 4
}
