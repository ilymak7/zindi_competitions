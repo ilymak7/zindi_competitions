{
 "cells": [
  {
   "cell_type": "markdown",
   "metadata": {
    "_cell_guid": "a3cb0ee3-7bca-4b2b-8a27-be198d18818e",
    "_uuid": "075ab0f3fc310e293828b3681f1d80642f88c106"
   },
   "source": [
    "# Introduction\n",
    "\n",
    "![](https://www.walldevil.com/wallpapers/a74/wallpapers-pumpkin-halloween-cuties-spooky-nature.jpg)\n",
    "\n",
    "In this notebook, I shall conduct a very basic attempt at topic modelling this Spooky Author dataset. Topic modelling is the process in which we try uncover abstract themes or \"topics\" based on the underlying documents and words in a corpus of text. I will introduce two standard topic modelling techniques here with the first technique known as Latent Dirichlet Allocation (LDA) and the second Non-negative Matrix Factorization (NMF). I will also take the opportunity to introduce some Natural Language Processing basics such as Tokenization, Stemming and vectorization of the raw text which should also hopefully come in handy when making predictions with learning models. \n",
    "\n",
    "The outline of this notebook is as follows:\n",
    "\n",
    "1. **Exploratory Data Analysis (EDA) and Wordclouds** - Analyzing the data by generating simple statistics such word frequencies over the different authors as well as plotting some wordclouds (with image masks).\n",
    "\n",
    "\n",
    "2. **Natural Language Processing (NLP) with NLTK (Natural Language Toolkit) ** - Introducing basic text processing methods such as tokenizations, stop word removal, stemming and vectorizing text via term frequencies (TF) as well as the inverse document frequencies (TF-IDF)\n",
    "\n",
    "3. **Topic Modelling with LDA and NNMF** - Implementing the two topic modelling techniques of Latent Dirichlet Allocation (LDA) and Non-negative Matrix Factorization (NMF).\n",
    "\n",
    "So, are you brave enough to take the next step and continue reading through this ghastly notebook? \n",
    "\n",
    "---\n",
    "\n",
    "**\"*Because they pop! Pop, pop! Pop, pop! Pop, pop, pop!*\" **- Pennywise, The Dancing Clown"
   ]
  },
  {
   "cell_type": "code",
   "execution_count": 1,
   "metadata": {
    "_cell_guid": "01b01111-7458-454b-825f-b0581431b79a",
    "_kg_hide-input": true,
    "_uuid": "d1e0f3d0e6455394ae3470b8d861f7258dfe49b1"
   },
   "outputs": [
    {
     "data": {
      "text/html": [
       "        <script type=\"text/javascript\">\n",
       "        window.PlotlyConfig = {MathJaxConfig: 'local'};\n",
       "        if (window.MathJax) {MathJax.Hub.Config({SVG: {font: \"STIX-Web\"}});}\n",
       "        if (typeof require !== 'undefined') {\n",
       "        require.undef(\"plotly\");\n",
       "        requirejs.config({\n",
       "            paths: {\n",
       "                'plotly': ['https://cdn.plot.ly/plotly-latest.min']\n",
       "            }\n",
       "        });\n",
       "        require(['plotly'], function(Plotly) {\n",
       "            window._Plotly = Plotly;\n",
       "        });\n",
       "        }\n",
       "        </script>\n",
       "        "
      ]
     },
     "metadata": {},
     "output_type": "display_data"
    }
   ],
   "source": [
    "import base64\n",
    "import numpy as np\n",
    "import pandas as pd\n",
    "\n",
    "# Plotly imports\n",
    "import plotly.offline as py\n",
    "py.init_notebook_mode(connected=True)\n",
    "import plotly.graph_objs as go\n",
    "import plotly.tools as tls\n",
    "\n",
    "# Other imports\n",
    "from collections import Counter\n",
    "# from scipy import imread\n",
    "from sklearn.feature_extraction.text import TfidfVectorizer, CountVectorizer\n",
    "from sklearn.decomposition import NMF, LatentDirichletAllocation\n",
    "from matplotlib import pyplot as plt\n",
    "%matplotlib inline"
   ]
  },
  {
   "cell_type": "code",
   "execution_count": 2,
   "metadata": {
    "_cell_guid": "e7f8d60d-5cd0-48af-80f9-c8cb8f4f47b6",
    "_uuid": "95e5065366bde322d4ad610a9888fb9c187328f0"
   },
   "outputs": [],
   "source": [
    "# Loading in the training data with Pandas\n",
    "train = pd.read_csv(\"../Translated/cleaned/train.csv\")\n",
    "test = pd.read_csv(\"../Translated/cleaned/test.csv\")"
   ]
  },
  {
   "cell_type": "markdown",
   "metadata": {
    "_cell_guid": "0e41fb5c-e937-45db-b0ba-743017896b1a",
    "_uuid": "0060aa157588b45653d3cb2b9c03bad3ff36900e"
   },
   "source": [
    "---"
   ]
  },
  {
   "cell_type": "markdown",
   "metadata": {
    "_cell_guid": "624cc24b-893e-470d-83b1-2a3f585f6394",
    "_uuid": "97ee6de5cf262e0dcff70fb9bc74466b1ffe1bd8"
   },
   "source": [
    "# 1. The Authors and their works EDA\n",
    "\n",
    "First step, let us take a look at a quick peek of what the first three rows in the data has in store for us and who exactly are the authors"
   ]
  },
  {
   "cell_type": "code",
   "execution_count": 3,
   "metadata": {
    "_cell_guid": "3bbe47be-677c-4925-8f4b-fcae4dfa792c",
    "_kg_hide-input": true,
    "_uuid": "b0c55dbcfcd55a3bfd7f5521161a2fb21f56eaa6"
   },
   "outputs": [
    {
     "data": {
      "text/html": [
       "<div>\n",
       "<style scoped>\n",
       "    .dataframe tbody tr th:only-of-type {\n",
       "        vertical-align: middle;\n",
       "    }\n",
       "\n",
       "    .dataframe tbody tr th {\n",
       "        vertical-align: top;\n",
       "    }\n",
       "\n",
       "    .dataframe thead th {\n",
       "        text-align: right;\n",
       "    }\n",
       "</style>\n",
       "<table border=\"1\" class=\"dataframe\">\n",
       "  <thead>\n",
       "    <tr style=\"text-align: right;\">\n",
       "      <th></th>\n",
       "      <th>ID</th>\n",
       "      <th>Text</th>\n",
       "      <th>Label</th>\n",
       "    </tr>\n",
       "  </thead>\n",
       "  <tbody>\n",
       "    <tr>\n",
       "      <th>0</th>\n",
       "      <td>ID_AASHwXxg</td>\n",
       "      <td>Mwangonde: Khansala wachinyamata Akamati achi...</td>\n",
       "      <td>POLITICS</td>\n",
       "    </tr>\n",
       "    <tr>\n",
       "      <th>1</th>\n",
       "      <td>ID_AGoFySzn</td>\n",
       "      <td>MCP siidakhutire ndi kalembera Chipani cha Ma...</td>\n",
       "      <td>POLITICS</td>\n",
       "    </tr>\n",
       "    <tr>\n",
       "      <th>2</th>\n",
       "      <td>ID_AGrrkBGP</td>\n",
       "      <td>Bungwe la MANEPO Lapempha Boma Liganizire Anth...</td>\n",
       "      <td>HEALTH</td>\n",
       "    </tr>\n",
       "    <tr>\n",
       "      <th>3</th>\n",
       "      <td>ID_AIJeigeG</td>\n",
       "      <td>Ndale zogawanitsa miyambo zanyanya Si zachile...</td>\n",
       "      <td>POLITICS</td>\n",
       "    </tr>\n",
       "    <tr>\n",
       "      <th>4</th>\n",
       "      <td>ID_APMprMbV</td>\n",
       "      <td>Nanga wapolisi ataphofomoka? Masiku ano sichi...</td>\n",
       "      <td>LAW/ORDER</td>\n",
       "    </tr>\n",
       "  </tbody>\n",
       "</table>\n",
       "</div>"
      ],
      "text/plain": [
       "            ID                                               Text      Label\n",
       "0  ID_AASHwXxg   Mwangonde: Khansala wachinyamata Akamati achi...   POLITICS\n",
       "1  ID_AGoFySzn   MCP siidakhutire ndi kalembera Chipani cha Ma...   POLITICS\n",
       "2  ID_AGrrkBGP  Bungwe la MANEPO Lapempha Boma Liganizire Anth...     HEALTH\n",
       "3  ID_AIJeigeG   Ndale zogawanitsa miyambo zanyanya Si zachile...   POLITICS\n",
       "4  ID_APMprMbV   Nanga wapolisi ataphofomoka? Masiku ano sichi...  LAW/ORDER"
      ]
     },
     "execution_count": 3,
     "metadata": {},
     "output_type": "execute_result"
    }
   ],
   "source": [
    "train.head()"
   ]
  },
  {
   "cell_type": "markdown",
   "metadata": {
    "_cell_guid": "178ee8ea-a97e-49bf-be63-38396ee454b2",
    "_uuid": "aa3c93c40e62d21d3762651b35c25edcb5d3d746"
   },
   "source": [
    "According to the competition page there are three distinct author initials we have already been provided with a mapping of these initials to the actual author which is as follows:\n",
    "\n",
    "*(Links to their Wikipedia page profiles if you click on their names)*\n",
    "\n",
    "1. **[EAP - Edgar Allen Poe](https://en.wikipedia.org/wiki/Edgar_Allan_Poe)** : American writer who wrote poetry and short stories that revolved around tales of mystery and the grisly and the grim. Arguably his most famous work is the poem - \"The Raven\" and he is also widely considered the pioneer of the genre of the detective fiction. \n",
    "\n",
    "2. **[HPL - HP Lovecraft](https://en.wikipedia.org/wiki/H._P._Lovecraft)** : Best known for authoring works of horror fiction, the stories that he is most celebrated for revolve around the fictional mythology of the infamous creature \"Cthulhu\" - a hybrid chimera mix of Octopus head and humanoid body with wings on the back.\n",
    "\n",
    "3. **[MWS - Mary Shelley](https://en.wikipedia.org/wiki/Mary_Shelley)** : Seemed to have been involved in a whole panoply of literary pursuits - novelist, dramatist, travel-writer, biographer. She is most celebrated for the classic tale of Frankenstein where the scientist Frankenstein a.k.a \"The Modern Prometheus\" creates the Monster that comes to be associated with his name.\n",
    "\n",
    "Next, let us take a look at how large the training data is:"
   ]
  },
  {
   "cell_type": "code",
   "execution_count": 4,
   "metadata": {
    "_cell_guid": "07a6f9b7-5868-4030-8583-e277b40fb7ed",
    "_uuid": "5bf348db30d05a178a3ca0d2d85c083ba72f9a44"
   },
   "outputs": [
    {
     "data": {
      "text/html": [
       "<div>\n",
       "<style scoped>\n",
       "    .dataframe tbody tr th:only-of-type {\n",
       "        vertical-align: middle;\n",
       "    }\n",
       "\n",
       "    .dataframe tbody tr th {\n",
       "        vertical-align: top;\n",
       "    }\n",
       "\n",
       "    .dataframe thead th {\n",
       "        text-align: right;\n",
       "    }\n",
       "</style>\n",
       "<table border=\"1\" class=\"dataframe\">\n",
       "  <thead>\n",
       "    <tr style=\"text-align: right;\">\n",
       "      <th></th>\n",
       "      <th>ID</th>\n",
       "      <th>Text</th>\n",
       "    </tr>\n",
       "  </thead>\n",
       "  <tbody>\n",
       "    <tr>\n",
       "      <th>0</th>\n",
       "      <td>ID_AASHwXxg</td>\n",
       "      <td>Mwangonde: Khansala wachinyamata Akamati achi...</td>\n",
       "    </tr>\n",
       "    <tr>\n",
       "      <th>1</th>\n",
       "      <td>ID_AGoFySzn</td>\n",
       "      <td>MCP siidakhutire ndi kalembera Chipani cha Ma...</td>\n",
       "    </tr>\n",
       "    <tr>\n",
       "      <th>2</th>\n",
       "      <td>ID_AGrrkBGP</td>\n",
       "      <td>Bungwe la MANEPO Lapempha Boma Liganizire Anth...</td>\n",
       "    </tr>\n",
       "    <tr>\n",
       "      <th>3</th>\n",
       "      <td>ID_AIJeigeG</td>\n",
       "      <td>Ndale zogawanitsa miyambo zanyanya Si zachile...</td>\n",
       "    </tr>\n",
       "    <tr>\n",
       "      <th>4</th>\n",
       "      <td>ID_APMprMbV</td>\n",
       "      <td>Nanga wapolisi ataphofomoka? Masiku ano sichi...</td>\n",
       "    </tr>\n",
       "    <tr>\n",
       "      <th>...</th>\n",
       "      <td>...</td>\n",
       "      <td>...</td>\n",
       "    </tr>\n",
       "    <tr>\n",
       "      <th>2051</th>\n",
       "      <td>ID_zdpOUWyJ</td>\n",
       "      <td>Kanyongolo Wapempha Oyimira Milandu Kuti Atsat...</td>\n",
       "    </tr>\n",
       "    <tr>\n",
       "      <th>2052</th>\n",
       "      <td>ID_zhnOomuu</td>\n",
       "      <td>Amandimenya\\nZikomo gogo,\\nNdine mtsikana wa z...</td>\n",
       "    </tr>\n",
       "    <tr>\n",
       "      <th>2053</th>\n",
       "      <td>ID_zmWHvBJb</td>\n",
       "      <td>Apolisi athotha gulu la MYP Asilikali 56 a gu...</td>\n",
       "    </tr>\n",
       "    <tr>\n",
       "      <th>2054</th>\n",
       "      <td>ID_zphjdFIb</td>\n",
       "      <td>Mwambo wa ukwati wa Chitonga Mtundu wina uliw...</td>\n",
       "    </tr>\n",
       "    <tr>\n",
       "      <th>2055</th>\n",
       "      <td>ID_ztdtrNxt</td>\n",
       "      <td>Mwapasa autsa mapiri Pamene pali kusamvana pa...</td>\n",
       "    </tr>\n",
       "  </tbody>\n",
       "</table>\n",
       "<p>2056 rows × 2 columns</p>\n",
       "</div>"
      ],
      "text/plain": [
       "               ID                                               Text\n",
       "0     ID_AASHwXxg   Mwangonde: Khansala wachinyamata Akamati achi...\n",
       "1     ID_AGoFySzn   MCP siidakhutire ndi kalembera Chipani cha Ma...\n",
       "2     ID_AGrrkBGP  Bungwe la MANEPO Lapempha Boma Liganizire Anth...\n",
       "3     ID_AIJeigeG   Ndale zogawanitsa miyambo zanyanya Si zachile...\n",
       "4     ID_APMprMbV   Nanga wapolisi ataphofomoka? Masiku ano sichi...\n",
       "...           ...                                                ...\n",
       "2051  ID_zdpOUWyJ  Kanyongolo Wapempha Oyimira Milandu Kuti Atsat...\n",
       "2052  ID_zhnOomuu  Amandimenya\\nZikomo gogo,\\nNdine mtsikana wa z...\n",
       "2053  ID_zmWHvBJb   Apolisi athotha gulu la MYP Asilikali 56 a gu...\n",
       "2054  ID_zphjdFIb   Mwambo wa ukwati wa Chitonga Mtundu wina uliw...\n",
       "2055  ID_ztdtrNxt   Mwapasa autsa mapiri Pamene pali kusamvana pa...\n",
       "\n",
       "[2056 rows x 2 columns]"
      ]
     },
     "execution_count": 4,
     "metadata": {},
     "output_type": "execute_result"
    }
   ],
   "source": [
    "# print(train.shape)\n",
    "all_data = pd.concat([train[['ID', 'Text']], test[['ID', 'Text']]], axis = 0, ignore_index = True )\n",
    "all_data"
   ]
  },
  {
   "cell_type": "markdown",
   "metadata": {
    "_cell_guid": "cf0a6e25-b953-40df-be64-f0316e420954",
    "_uuid": "e90aef77086b604ed50757bb54a74e37d92a2a1e"
   },
   "source": [
    "## Summary statistics of the training set\n",
    "\n",
    "Here we can visualize some basic statistics in the data, like the distribution of entries for each author. For this purpose, I will invoke the handy Plot.ly visualisation library and plot some simple bar plots. Unhide the cell below if you want to see the Plot.ly code."
   ]
  },
  {
   "cell_type": "code",
   "execution_count": 5,
   "metadata": {
    "_cell_guid": "82236bf0-454b-41ee-ae54-7c6b396e20d7",
    "_kg_hide-input": false,
    "_uuid": "21eaa1db422ced4253fa2472e29c99a4ab8124ba"
   },
   "outputs": [
    {
     "data": {
      "application/vnd.plotly.v1+json": {
       "config": {
        "linkText": "Export to plot.ly",
        "plotlyServerURL": "https://plot.ly",
        "showLink": false
       },
       "data": [
        {
         "marker": {
          "color": [
           9791,
           7074,
           6734,
           6487,
           6277,
           5717,
           5415,
           4912,
           4541,
           4148,
           3770,
           3129,
           3108,
           3050,
           2991,
           2953,
           2935,
           2566,
           2349,
           2232,
           2142,
           2055,
           2040,
           2009,
           1890,
           1868,
           1728,
           1725,
           1672,
           1479,
           1387,
           1383,
           1361,
           1357,
           1272,
           1264,
           1244,
           1221,
           1210,
           1172,
           1155,
           1105,
           1098,
           1083,
           1082,
           1080,
           1078,
           1044,
           1032,
           1026,
           986,
           947,
           919,
           901,
           891,
           886,
           873,
           847,
           837,
           830,
           825,
           787,
           784,
           783,
           780,
           764,
           759,
           753,
           745,
           742,
           735,
           723,
           719,
           710,
           703,
           700,
           690,
           684,
           677,
           676,
           673,
           670,
           665,
           646,
           645,
           620,
           616,
           606,
           604,
           604,
           593,
           587,
           587,
           586,
           577,
           571,
           570,
           556
          ],
          "colorscale": [
           [
            0,
            "rgb(0,0,131)"
           ],
           [
            0.2,
            "rgb(0,60,170)"
           ],
           [
            0.4,
            "rgb(5,255,255)"
           ],
           [
            0.6,
            "rgb(255,255,0)"
           ],
           [
            0.8,
            "rgb(250,0,0)"
           ],
           [
            1,
            "rgb(128,0,0)"
           ]
          ]
         },
         "text": "Word counts",
         "type": "bar",
         "x": [
          "wa",
          "ya",
          "a",
          "la",
          "pa",
          "ku",
          "anthu",
          "ndipo",
          "za",
          "kwa",
          "cha",
          "omwe",
          "chifukwa",
          "ntchito",
          "komanso",
          "koma",
          "adati",
          "zomwe",
          "adatero",
          "ena",
          "ngati",
          "boma",
          "mwa",
          "mu",
          "dziko",
          "amene",
          "wati",
          "mdziko",
          "Iye",
          "ali",
          "yemwe",
          "yomwe",
          "pomwe",
          "ndiye",
          "ndalama",
          "mboma",
          "izi",
          "chaka",
          "bungwe",
          "ati",
          "nthawi",
          "akuti",
          "zaka",
          "Koma",
          "Malawi",
          "kapena",
          "bwino",
          "pamene"
         ],
         "y": [
          9791,
          7074,
          6734,
          6487,
          6277,
          5717,
          5415,
          4912,
          4541,
          4148,
          3770,
          3129,
          3108,
          3050,
          2991,
          2953,
          2935,
          2566,
          2349,
          2232,
          2142,
          2055,
          2040,
          2009,
          1890,
          1868,
          1728,
          1725,
          1672,
          1479,
          1387,
          1383,
          1361,
          1357,
          1272,
          1264,
          1244,
          1221,
          1210,
          1172,
          1155,
          1105,
          1098,
          1083,
          1082,
          1080,
          1078,
          1044
         ]
        }
       ],
       "layout": {
        "template": {
         "data": {
          "bar": [
           {
            "error_x": {
             "color": "#2a3f5f"
            },
            "error_y": {
             "color": "#2a3f5f"
            },
            "marker": {
             "line": {
              "color": "#E5ECF6",
              "width": 0.5
             }
            },
            "type": "bar"
           }
          ],
          "barpolar": [
           {
            "marker": {
             "line": {
              "color": "#E5ECF6",
              "width": 0.5
             }
            },
            "type": "barpolar"
           }
          ],
          "carpet": [
           {
            "aaxis": {
             "endlinecolor": "#2a3f5f",
             "gridcolor": "white",
             "linecolor": "white",
             "minorgridcolor": "white",
             "startlinecolor": "#2a3f5f"
            },
            "baxis": {
             "endlinecolor": "#2a3f5f",
             "gridcolor": "white",
             "linecolor": "white",
             "minorgridcolor": "white",
             "startlinecolor": "#2a3f5f"
            },
            "type": "carpet"
           }
          ],
          "choropleth": [
           {
            "colorbar": {
             "outlinewidth": 0,
             "ticks": ""
            },
            "type": "choropleth"
           }
          ],
          "contour": [
           {
            "colorbar": {
             "outlinewidth": 0,
             "ticks": ""
            },
            "colorscale": [
             [
              0,
              "#0d0887"
             ],
             [
              0.1111111111111111,
              "#46039f"
             ],
             [
              0.2222222222222222,
              "#7201a8"
             ],
             [
              0.3333333333333333,
              "#9c179e"
             ],
             [
              0.4444444444444444,
              "#bd3786"
             ],
             [
              0.5555555555555556,
              "#d8576b"
             ],
             [
              0.6666666666666666,
              "#ed7953"
             ],
             [
              0.7777777777777778,
              "#fb9f3a"
             ],
             [
              0.8888888888888888,
              "#fdca26"
             ],
             [
              1,
              "#f0f921"
             ]
            ],
            "type": "contour"
           }
          ],
          "contourcarpet": [
           {
            "colorbar": {
             "outlinewidth": 0,
             "ticks": ""
            },
            "type": "contourcarpet"
           }
          ],
          "heatmap": [
           {
            "colorbar": {
             "outlinewidth": 0,
             "ticks": ""
            },
            "colorscale": [
             [
              0,
              "#0d0887"
             ],
             [
              0.1111111111111111,
              "#46039f"
             ],
             [
              0.2222222222222222,
              "#7201a8"
             ],
             [
              0.3333333333333333,
              "#9c179e"
             ],
             [
              0.4444444444444444,
              "#bd3786"
             ],
             [
              0.5555555555555556,
              "#d8576b"
             ],
             [
              0.6666666666666666,
              "#ed7953"
             ],
             [
              0.7777777777777778,
              "#fb9f3a"
             ],
             [
              0.8888888888888888,
              "#fdca26"
             ],
             [
              1,
              "#f0f921"
             ]
            ],
            "type": "heatmap"
           }
          ],
          "heatmapgl": [
           {
            "colorbar": {
             "outlinewidth": 0,
             "ticks": ""
            },
            "colorscale": [
             [
              0,
              "#0d0887"
             ],
             [
              0.1111111111111111,
              "#46039f"
             ],
             [
              0.2222222222222222,
              "#7201a8"
             ],
             [
              0.3333333333333333,
              "#9c179e"
             ],
             [
              0.4444444444444444,
              "#bd3786"
             ],
             [
              0.5555555555555556,
              "#d8576b"
             ],
             [
              0.6666666666666666,
              "#ed7953"
             ],
             [
              0.7777777777777778,
              "#fb9f3a"
             ],
             [
              0.8888888888888888,
              "#fdca26"
             ],
             [
              1,
              "#f0f921"
             ]
            ],
            "type": "heatmapgl"
           }
          ],
          "histogram": [
           {
            "marker": {
             "colorbar": {
              "outlinewidth": 0,
              "ticks": ""
             }
            },
            "type": "histogram"
           }
          ],
          "histogram2d": [
           {
            "colorbar": {
             "outlinewidth": 0,
             "ticks": ""
            },
            "colorscale": [
             [
              0,
              "#0d0887"
             ],
             [
              0.1111111111111111,
              "#46039f"
             ],
             [
              0.2222222222222222,
              "#7201a8"
             ],
             [
              0.3333333333333333,
              "#9c179e"
             ],
             [
              0.4444444444444444,
              "#bd3786"
             ],
             [
              0.5555555555555556,
              "#d8576b"
             ],
             [
              0.6666666666666666,
              "#ed7953"
             ],
             [
              0.7777777777777778,
              "#fb9f3a"
             ],
             [
              0.8888888888888888,
              "#fdca26"
             ],
             [
              1,
              "#f0f921"
             ]
            ],
            "type": "histogram2d"
           }
          ],
          "histogram2dcontour": [
           {
            "colorbar": {
             "outlinewidth": 0,
             "ticks": ""
            },
            "colorscale": [
             [
              0,
              "#0d0887"
             ],
             [
              0.1111111111111111,
              "#46039f"
             ],
             [
              0.2222222222222222,
              "#7201a8"
             ],
             [
              0.3333333333333333,
              "#9c179e"
             ],
             [
              0.4444444444444444,
              "#bd3786"
             ],
             [
              0.5555555555555556,
              "#d8576b"
             ],
             [
              0.6666666666666666,
              "#ed7953"
             ],
             [
              0.7777777777777778,
              "#fb9f3a"
             ],
             [
              0.8888888888888888,
              "#fdca26"
             ],
             [
              1,
              "#f0f921"
             ]
            ],
            "type": "histogram2dcontour"
           }
          ],
          "mesh3d": [
           {
            "colorbar": {
             "outlinewidth": 0,
             "ticks": ""
            },
            "type": "mesh3d"
           }
          ],
          "parcoords": [
           {
            "line": {
             "colorbar": {
              "outlinewidth": 0,
              "ticks": ""
             }
            },
            "type": "parcoords"
           }
          ],
          "pie": [
           {
            "automargin": true,
            "type": "pie"
           }
          ],
          "scatter": [
           {
            "marker": {
             "colorbar": {
              "outlinewidth": 0,
              "ticks": ""
             }
            },
            "type": "scatter"
           }
          ],
          "scatter3d": [
           {
            "line": {
             "colorbar": {
              "outlinewidth": 0,
              "ticks": ""
             }
            },
            "marker": {
             "colorbar": {
              "outlinewidth": 0,
              "ticks": ""
             }
            },
            "type": "scatter3d"
           }
          ],
          "scattercarpet": [
           {
            "marker": {
             "colorbar": {
              "outlinewidth": 0,
              "ticks": ""
             }
            },
            "type": "scattercarpet"
           }
          ],
          "scattergeo": [
           {
            "marker": {
             "colorbar": {
              "outlinewidth": 0,
              "ticks": ""
             }
            },
            "type": "scattergeo"
           }
          ],
          "scattergl": [
           {
            "marker": {
             "colorbar": {
              "outlinewidth": 0,
              "ticks": ""
             }
            },
            "type": "scattergl"
           }
          ],
          "scattermapbox": [
           {
            "marker": {
             "colorbar": {
              "outlinewidth": 0,
              "ticks": ""
             }
            },
            "type": "scattermapbox"
           }
          ],
          "scatterpolar": [
           {
            "marker": {
             "colorbar": {
              "outlinewidth": 0,
              "ticks": ""
             }
            },
            "type": "scatterpolar"
           }
          ],
          "scatterpolargl": [
           {
            "marker": {
             "colorbar": {
              "outlinewidth": 0,
              "ticks": ""
             }
            },
            "type": "scatterpolargl"
           }
          ],
          "scatterternary": [
           {
            "marker": {
             "colorbar": {
              "outlinewidth": 0,
              "ticks": ""
             }
            },
            "type": "scatterternary"
           }
          ],
          "surface": [
           {
            "colorbar": {
             "outlinewidth": 0,
             "ticks": ""
            },
            "colorscale": [
             [
              0,
              "#0d0887"
             ],
             [
              0.1111111111111111,
              "#46039f"
             ],
             [
              0.2222222222222222,
              "#7201a8"
             ],
             [
              0.3333333333333333,
              "#9c179e"
             ],
             [
              0.4444444444444444,
              "#bd3786"
             ],
             [
              0.5555555555555556,
              "#d8576b"
             ],
             [
              0.6666666666666666,
              "#ed7953"
             ],
             [
              0.7777777777777778,
              "#fb9f3a"
             ],
             [
              0.8888888888888888,
              "#fdca26"
             ],
             [
              1,
              "#f0f921"
             ]
            ],
            "type": "surface"
           }
          ],
          "table": [
           {
            "cells": {
             "fill": {
              "color": "#EBF0F8"
             },
             "line": {
              "color": "white"
             }
            },
            "header": {
             "fill": {
              "color": "#C8D4E3"
             },
             "line": {
              "color": "white"
             }
            },
            "type": "table"
           }
          ]
         },
         "layout": {
          "annotationdefaults": {
           "arrowcolor": "#2a3f5f",
           "arrowhead": 0,
           "arrowwidth": 1
          },
          "coloraxis": {
           "colorbar": {
            "outlinewidth": 0,
            "ticks": ""
           }
          },
          "colorscale": {
           "diverging": [
            [
             0,
             "#8e0152"
            ],
            [
             0.1,
             "#c51b7d"
            ],
            [
             0.2,
             "#de77ae"
            ],
            [
             0.3,
             "#f1b6da"
            ],
            [
             0.4,
             "#fde0ef"
            ],
            [
             0.5,
             "#f7f7f7"
            ],
            [
             0.6,
             "#e6f5d0"
            ],
            [
             0.7,
             "#b8e186"
            ],
            [
             0.8,
             "#7fbc41"
            ],
            [
             0.9,
             "#4d9221"
            ],
            [
             1,
             "#276419"
            ]
           ],
           "sequential": [
            [
             0,
             "#0d0887"
            ],
            [
             0.1111111111111111,
             "#46039f"
            ],
            [
             0.2222222222222222,
             "#7201a8"
            ],
            [
             0.3333333333333333,
             "#9c179e"
            ],
            [
             0.4444444444444444,
             "#bd3786"
            ],
            [
             0.5555555555555556,
             "#d8576b"
            ],
            [
             0.6666666666666666,
             "#ed7953"
            ],
            [
             0.7777777777777778,
             "#fb9f3a"
            ],
            [
             0.8888888888888888,
             "#fdca26"
            ],
            [
             1,
             "#f0f921"
            ]
           ],
           "sequentialminus": [
            [
             0,
             "#0d0887"
            ],
            [
             0.1111111111111111,
             "#46039f"
            ],
            [
             0.2222222222222222,
             "#7201a8"
            ],
            [
             0.3333333333333333,
             "#9c179e"
            ],
            [
             0.4444444444444444,
             "#bd3786"
            ],
            [
             0.5555555555555556,
             "#d8576b"
            ],
            [
             0.6666666666666666,
             "#ed7953"
            ],
            [
             0.7777777777777778,
             "#fb9f3a"
            ],
            [
             0.8888888888888888,
             "#fdca26"
            ],
            [
             1,
             "#f0f921"
            ]
           ]
          },
          "colorway": [
           "#636efa",
           "#EF553B",
           "#00cc96",
           "#ab63fa",
           "#FFA15A",
           "#19d3f3",
           "#FF6692",
           "#B6E880",
           "#FF97FF",
           "#FECB52"
          ],
          "font": {
           "color": "#2a3f5f"
          },
          "geo": {
           "bgcolor": "white",
           "lakecolor": "white",
           "landcolor": "#E5ECF6",
           "showlakes": true,
           "showland": true,
           "subunitcolor": "white"
          },
          "hoverlabel": {
           "align": "left"
          },
          "hovermode": "closest",
          "mapbox": {
           "style": "light"
          },
          "paper_bgcolor": "white",
          "plot_bgcolor": "#E5ECF6",
          "polar": {
           "angularaxis": {
            "gridcolor": "white",
            "linecolor": "white",
            "ticks": ""
           },
           "bgcolor": "#E5ECF6",
           "radialaxis": {
            "gridcolor": "white",
            "linecolor": "white",
            "ticks": ""
           }
          },
          "scene": {
           "xaxis": {
            "backgroundcolor": "#E5ECF6",
            "gridcolor": "white",
            "gridwidth": 2,
            "linecolor": "white",
            "showbackground": true,
            "ticks": "",
            "zerolinecolor": "white"
           },
           "yaxis": {
            "backgroundcolor": "#E5ECF6",
            "gridcolor": "white",
            "gridwidth": 2,
            "linecolor": "white",
            "showbackground": true,
            "ticks": "",
            "zerolinecolor": "white"
           },
           "zaxis": {
            "backgroundcolor": "#E5ECF6",
            "gridcolor": "white",
            "gridwidth": 2,
            "linecolor": "white",
            "showbackground": true,
            "ticks": "",
            "zerolinecolor": "white"
           }
          },
          "shapedefaults": {
           "line": {
            "color": "#2a3f5f"
           }
          },
          "ternary": {
           "aaxis": {
            "gridcolor": "white",
            "linecolor": "white",
            "ticks": ""
           },
           "baxis": {
            "gridcolor": "white",
            "linecolor": "white",
            "ticks": ""
           },
           "bgcolor": "#E5ECF6",
           "caxis": {
            "gridcolor": "white",
            "linecolor": "white",
            "ticks": ""
           }
          },
          "title": {
           "x": 0.05
          },
          "xaxis": {
           "automargin": true,
           "gridcolor": "white",
           "linecolor": "white",
           "ticks": "",
           "title": {
            "standoff": 15
           },
           "zerolinecolor": "white",
           "zerolinewidth": 2
          },
          "yaxis": {
           "automargin": true,
           "gridcolor": "white",
           "linecolor": "white",
           "ticks": "",
           "title": {
            "standoff": 15
           },
           "zerolinecolor": "white",
           "zerolinewidth": 2
          }
         }
        },
        "title": {
         "text": "Top 50 (Uncleaned) Word frequencies in the training dataset"
        }
       }
      },
      "text/html": [
       "<div>\n",
       "        \n",
       "        \n",
       "            <div id=\"b5cd75cb-37aa-4568-9615-201d67f27d34\" class=\"plotly-graph-div\" style=\"height:525px; width:100%;\"></div>\n",
       "            <script type=\"text/javascript\">\n",
       "                require([\"plotly\"], function(Plotly) {\n",
       "                    window.PLOTLYENV=window.PLOTLYENV || {};\n",
       "                    \n",
       "                if (document.getElementById(\"b5cd75cb-37aa-4568-9615-201d67f27d34\")) {\n",
       "                    Plotly.newPlot(\n",
       "                        'b5cd75cb-37aa-4568-9615-201d67f27d34',\n",
       "                        [{\"marker\": {\"color\": [9791, 7074, 6734, 6487, 6277, 5717, 5415, 4912, 4541, 4148, 3770, 3129, 3108, 3050, 2991, 2953, 2935, 2566, 2349, 2232, 2142, 2055, 2040, 2009, 1890, 1868, 1728, 1725, 1672, 1479, 1387, 1383, 1361, 1357, 1272, 1264, 1244, 1221, 1210, 1172, 1155, 1105, 1098, 1083, 1082, 1080, 1078, 1044, 1032, 1026, 986, 947, 919, 901, 891, 886, 873, 847, 837, 830, 825, 787, 784, 783, 780, 764, 759, 753, 745, 742, 735, 723, 719, 710, 703, 700, 690, 684, 677, 676, 673, 670, 665, 646, 645, 620, 616, 606, 604, 604, 593, 587, 587, 586, 577, 571, 570, 556], \"colorscale\": [[0.0, \"rgb(0,0,131)\"], [0.2, \"rgb(0,60,170)\"], [0.4, \"rgb(5,255,255)\"], [0.6, \"rgb(255,255,0)\"], [0.8, \"rgb(250,0,0)\"], [1.0, \"rgb(128,0,0)\"]]}, \"text\": \"Word counts\", \"type\": \"bar\", \"x\": [\"wa\", \"ya\", \"a\", \"la\", \"pa\", \"ku\", \"anthu\", \"ndipo\", \"za\", \"kwa\", \"cha\", \"omwe\", \"chifukwa\", \"ntchito\", \"komanso\", \"koma\", \"adati\", \"zomwe\", \"adatero\", \"ena\", \"ngati\", \"boma\", \"mwa\", \"mu\", \"dziko\", \"amene\", \"wati\", \"mdziko\", \"Iye\", \"ali\", \"yemwe\", \"yomwe\", \"pomwe\", \"ndiye\", \"ndalama\", \"mboma\", \"izi\", \"chaka\", \"bungwe\", \"ati\", \"nthawi\", \"akuti\", \"zaka\", \"Koma\", \"Malawi\", \"kapena\", \"bwino\", \"pamene\"], \"y\": [9791, 7074, 6734, 6487, 6277, 5717, 5415, 4912, 4541, 4148, 3770, 3129, 3108, 3050, 2991, 2953, 2935, 2566, 2349, 2232, 2142, 2055, 2040, 2009, 1890, 1868, 1728, 1725, 1672, 1479, 1387, 1383, 1361, 1357, 1272, 1264, 1244, 1221, 1210, 1172, 1155, 1105, 1098, 1083, 1082, 1080, 1078, 1044]}],\n",
       "                        {\"template\": {\"data\": {\"bar\": [{\"error_x\": {\"color\": \"#2a3f5f\"}, \"error_y\": {\"color\": \"#2a3f5f\"}, \"marker\": {\"line\": {\"color\": \"#E5ECF6\", \"width\": 0.5}}, \"type\": \"bar\"}], \"barpolar\": [{\"marker\": {\"line\": {\"color\": \"#E5ECF6\", \"width\": 0.5}}, \"type\": \"barpolar\"}], \"carpet\": [{\"aaxis\": {\"endlinecolor\": \"#2a3f5f\", \"gridcolor\": \"white\", \"linecolor\": \"white\", \"minorgridcolor\": \"white\", \"startlinecolor\": \"#2a3f5f\"}, \"baxis\": {\"endlinecolor\": \"#2a3f5f\", \"gridcolor\": \"white\", \"linecolor\": \"white\", \"minorgridcolor\": \"white\", \"startlinecolor\": \"#2a3f5f\"}, \"type\": \"carpet\"}], \"choropleth\": [{\"colorbar\": {\"outlinewidth\": 0, \"ticks\": \"\"}, \"type\": \"choropleth\"}], \"contour\": [{\"colorbar\": {\"outlinewidth\": 0, \"ticks\": \"\"}, \"colorscale\": [[0.0, \"#0d0887\"], [0.1111111111111111, \"#46039f\"], [0.2222222222222222, \"#7201a8\"], [0.3333333333333333, \"#9c179e\"], [0.4444444444444444, \"#bd3786\"], [0.5555555555555556, \"#d8576b\"], [0.6666666666666666, \"#ed7953\"], [0.7777777777777778, \"#fb9f3a\"], [0.8888888888888888, \"#fdca26\"], [1.0, \"#f0f921\"]], \"type\": \"contour\"}], \"contourcarpet\": [{\"colorbar\": {\"outlinewidth\": 0, \"ticks\": \"\"}, \"type\": \"contourcarpet\"}], \"heatmap\": [{\"colorbar\": {\"outlinewidth\": 0, \"ticks\": \"\"}, \"colorscale\": [[0.0, \"#0d0887\"], [0.1111111111111111, \"#46039f\"], [0.2222222222222222, \"#7201a8\"], [0.3333333333333333, \"#9c179e\"], [0.4444444444444444, \"#bd3786\"], [0.5555555555555556, \"#d8576b\"], [0.6666666666666666, \"#ed7953\"], [0.7777777777777778, \"#fb9f3a\"], [0.8888888888888888, \"#fdca26\"], [1.0, \"#f0f921\"]], \"type\": \"heatmap\"}], \"heatmapgl\": [{\"colorbar\": {\"outlinewidth\": 0, \"ticks\": \"\"}, \"colorscale\": [[0.0, \"#0d0887\"], [0.1111111111111111, \"#46039f\"], [0.2222222222222222, \"#7201a8\"], [0.3333333333333333, \"#9c179e\"], [0.4444444444444444, \"#bd3786\"], [0.5555555555555556, \"#d8576b\"], [0.6666666666666666, \"#ed7953\"], [0.7777777777777778, \"#fb9f3a\"], [0.8888888888888888, \"#fdca26\"], [1.0, \"#f0f921\"]], \"type\": \"heatmapgl\"}], \"histogram\": [{\"marker\": {\"colorbar\": {\"outlinewidth\": 0, \"ticks\": \"\"}}, \"type\": \"histogram\"}], \"histogram2d\": [{\"colorbar\": {\"outlinewidth\": 0, \"ticks\": \"\"}, \"colorscale\": [[0.0, \"#0d0887\"], [0.1111111111111111, \"#46039f\"], [0.2222222222222222, \"#7201a8\"], [0.3333333333333333, \"#9c179e\"], [0.4444444444444444, \"#bd3786\"], [0.5555555555555556, \"#d8576b\"], [0.6666666666666666, \"#ed7953\"], [0.7777777777777778, \"#fb9f3a\"], [0.8888888888888888, \"#fdca26\"], [1.0, \"#f0f921\"]], \"type\": \"histogram2d\"}], \"histogram2dcontour\": [{\"colorbar\": {\"outlinewidth\": 0, \"ticks\": \"\"}, \"colorscale\": [[0.0, \"#0d0887\"], [0.1111111111111111, \"#46039f\"], [0.2222222222222222, \"#7201a8\"], [0.3333333333333333, \"#9c179e\"], [0.4444444444444444, \"#bd3786\"], [0.5555555555555556, \"#d8576b\"], [0.6666666666666666, \"#ed7953\"], [0.7777777777777778, \"#fb9f3a\"], [0.8888888888888888, \"#fdca26\"], [1.0, \"#f0f921\"]], \"type\": \"histogram2dcontour\"}], \"mesh3d\": [{\"colorbar\": {\"outlinewidth\": 0, \"ticks\": \"\"}, \"type\": \"mesh3d\"}], \"parcoords\": [{\"line\": {\"colorbar\": {\"outlinewidth\": 0, \"ticks\": \"\"}}, \"type\": \"parcoords\"}], \"pie\": [{\"automargin\": true, \"type\": \"pie\"}], \"scatter\": [{\"marker\": {\"colorbar\": {\"outlinewidth\": 0, \"ticks\": \"\"}}, \"type\": \"scatter\"}], \"scatter3d\": [{\"line\": {\"colorbar\": {\"outlinewidth\": 0, \"ticks\": \"\"}}, \"marker\": {\"colorbar\": {\"outlinewidth\": 0, \"ticks\": \"\"}}, \"type\": \"scatter3d\"}], \"scattercarpet\": [{\"marker\": {\"colorbar\": {\"outlinewidth\": 0, \"ticks\": \"\"}}, \"type\": \"scattercarpet\"}], \"scattergeo\": [{\"marker\": {\"colorbar\": {\"outlinewidth\": 0, \"ticks\": \"\"}}, \"type\": \"scattergeo\"}], \"scattergl\": [{\"marker\": {\"colorbar\": {\"outlinewidth\": 0, \"ticks\": \"\"}}, \"type\": \"scattergl\"}], \"scattermapbox\": [{\"marker\": {\"colorbar\": {\"outlinewidth\": 0, \"ticks\": \"\"}}, \"type\": \"scattermapbox\"}], \"scatterpolar\": [{\"marker\": {\"colorbar\": {\"outlinewidth\": 0, \"ticks\": \"\"}}, \"type\": \"scatterpolar\"}], \"scatterpolargl\": [{\"marker\": {\"colorbar\": {\"outlinewidth\": 0, \"ticks\": \"\"}}, \"type\": \"scatterpolargl\"}], \"scatterternary\": [{\"marker\": {\"colorbar\": {\"outlinewidth\": 0, \"ticks\": \"\"}}, \"type\": \"scatterternary\"}], \"surface\": [{\"colorbar\": {\"outlinewidth\": 0, \"ticks\": \"\"}, \"colorscale\": [[0.0, \"#0d0887\"], [0.1111111111111111, \"#46039f\"], [0.2222222222222222, \"#7201a8\"], [0.3333333333333333, \"#9c179e\"], [0.4444444444444444, \"#bd3786\"], [0.5555555555555556, \"#d8576b\"], [0.6666666666666666, \"#ed7953\"], [0.7777777777777778, \"#fb9f3a\"], [0.8888888888888888, \"#fdca26\"], [1.0, \"#f0f921\"]], \"type\": \"surface\"}], \"table\": [{\"cells\": {\"fill\": {\"color\": \"#EBF0F8\"}, \"line\": {\"color\": \"white\"}}, \"header\": {\"fill\": {\"color\": \"#C8D4E3\"}, \"line\": {\"color\": \"white\"}}, \"type\": \"table\"}]}, \"layout\": {\"annotationdefaults\": {\"arrowcolor\": \"#2a3f5f\", \"arrowhead\": 0, \"arrowwidth\": 1}, \"coloraxis\": {\"colorbar\": {\"outlinewidth\": 0, \"ticks\": \"\"}}, \"colorscale\": {\"diverging\": [[0, \"#8e0152\"], [0.1, \"#c51b7d\"], [0.2, \"#de77ae\"], [0.3, \"#f1b6da\"], [0.4, \"#fde0ef\"], [0.5, \"#f7f7f7\"], [0.6, \"#e6f5d0\"], [0.7, \"#b8e186\"], [0.8, \"#7fbc41\"], [0.9, \"#4d9221\"], [1, \"#276419\"]], \"sequential\": [[0.0, \"#0d0887\"], [0.1111111111111111, \"#46039f\"], [0.2222222222222222, \"#7201a8\"], [0.3333333333333333, \"#9c179e\"], [0.4444444444444444, \"#bd3786\"], [0.5555555555555556, \"#d8576b\"], [0.6666666666666666, \"#ed7953\"], [0.7777777777777778, \"#fb9f3a\"], [0.8888888888888888, \"#fdca26\"], [1.0, \"#f0f921\"]], \"sequentialminus\": [[0.0, \"#0d0887\"], [0.1111111111111111, \"#46039f\"], [0.2222222222222222, \"#7201a8\"], [0.3333333333333333, \"#9c179e\"], [0.4444444444444444, \"#bd3786\"], [0.5555555555555556, \"#d8576b\"], [0.6666666666666666, \"#ed7953\"], [0.7777777777777778, \"#fb9f3a\"], [0.8888888888888888, \"#fdca26\"], [1.0, \"#f0f921\"]]}, \"colorway\": [\"#636efa\", \"#EF553B\", \"#00cc96\", \"#ab63fa\", \"#FFA15A\", \"#19d3f3\", \"#FF6692\", \"#B6E880\", \"#FF97FF\", \"#FECB52\"], \"font\": {\"color\": \"#2a3f5f\"}, \"geo\": {\"bgcolor\": \"white\", \"lakecolor\": \"white\", \"landcolor\": \"#E5ECF6\", \"showlakes\": true, \"showland\": true, \"subunitcolor\": \"white\"}, \"hoverlabel\": {\"align\": \"left\"}, \"hovermode\": \"closest\", \"mapbox\": {\"style\": \"light\"}, \"paper_bgcolor\": \"white\", \"plot_bgcolor\": \"#E5ECF6\", \"polar\": {\"angularaxis\": {\"gridcolor\": \"white\", \"linecolor\": \"white\", \"ticks\": \"\"}, \"bgcolor\": \"#E5ECF6\", \"radialaxis\": {\"gridcolor\": \"white\", \"linecolor\": \"white\", \"ticks\": \"\"}}, \"scene\": {\"xaxis\": {\"backgroundcolor\": \"#E5ECF6\", \"gridcolor\": \"white\", \"gridwidth\": 2, \"linecolor\": \"white\", \"showbackground\": true, \"ticks\": \"\", \"zerolinecolor\": \"white\"}, \"yaxis\": {\"backgroundcolor\": \"#E5ECF6\", \"gridcolor\": \"white\", \"gridwidth\": 2, \"linecolor\": \"white\", \"showbackground\": true, \"ticks\": \"\", \"zerolinecolor\": \"white\"}, \"zaxis\": {\"backgroundcolor\": \"#E5ECF6\", \"gridcolor\": \"white\", \"gridwidth\": 2, \"linecolor\": \"white\", \"showbackground\": true, \"ticks\": \"\", \"zerolinecolor\": \"white\"}}, \"shapedefaults\": {\"line\": {\"color\": \"#2a3f5f\"}}, \"ternary\": {\"aaxis\": {\"gridcolor\": \"white\", \"linecolor\": \"white\", \"ticks\": \"\"}, \"baxis\": {\"gridcolor\": \"white\", \"linecolor\": \"white\", \"ticks\": \"\"}, \"bgcolor\": \"#E5ECF6\", \"caxis\": {\"gridcolor\": \"white\", \"linecolor\": \"white\", \"ticks\": \"\"}}, \"title\": {\"x\": 0.05}, \"xaxis\": {\"automargin\": true, \"gridcolor\": \"white\", \"linecolor\": \"white\", \"ticks\": \"\", \"title\": {\"standoff\": 15}, \"zerolinecolor\": \"white\", \"zerolinewidth\": 2}, \"yaxis\": {\"automargin\": true, \"gridcolor\": \"white\", \"linecolor\": \"white\", \"ticks\": \"\", \"title\": {\"standoff\": 15}, \"zerolinecolor\": \"white\", \"zerolinewidth\": 2}}}, \"title\": {\"text\": \"Top 50 (Uncleaned) Word frequencies in the training dataset\"}},\n",
       "                        {\"responsive\": true}\n",
       "                    ).then(function(){\n",
       "                            \n",
       "var gd = document.getElementById('b5cd75cb-37aa-4568-9615-201d67f27d34');\n",
       "var x = new MutationObserver(function (mutations, observer) {{\n",
       "        var display = window.getComputedStyle(gd).display;\n",
       "        if (!display || display === 'none') {{\n",
       "            console.log([gd, 'removed!']);\n",
       "            Plotly.purge(gd);\n",
       "            observer.disconnect();\n",
       "        }}\n",
       "}});\n",
       "\n",
       "// Listen for the removal of the full notebook cells\n",
       "var notebookContainer = gd.closest('#notebook-container');\n",
       "if (notebookContainer) {{\n",
       "    x.observe(notebookContainer, {childList: true});\n",
       "}}\n",
       "\n",
       "// Listen for the clearing of the current output cell\n",
       "var outputEl = gd.closest('.output');\n",
       "if (outputEl) {{\n",
       "    x.observe(outputEl, {childList: true});\n",
       "}}\n",
       "\n",
       "                        })\n",
       "                };\n",
       "                });\n",
       "            </script>\n",
       "        </div>"
      ]
     },
     "metadata": {},
     "output_type": "display_data"
    }
   ],
   "source": [
    "all_words = all_data['Text'].str.split(expand=True).unstack().value_counts()\n",
    "data = [go.Bar(\n",
    "            x = all_words.index.values[2:50],\n",
    "            y = all_words.values[2:50],\n",
    "            marker= dict(colorscale='Jet',\n",
    "                         color = all_words.values[2:100]\n",
    "                        ),\n",
    "            text='Word counts'\n",
    "    )]\n",
    "\n",
    "layout = go.Layout(\n",
    "    title='Top 50 (Uncleaned) Word frequencies in the training dataset'\n",
    ")\n",
    "\n",
    "fig = go.Figure(data=data, layout=layout)\n",
    "\n",
    "py.iplot(fig, filename='basic-bar')"
   ]
  },
  {
   "cell_type": "markdown",
   "metadata": {
    "_cell_guid": "311422ae-29c8-4694-9041-aa5c1601b8a0",
    "_uuid": "58dd795e28474ff99c36b3196ee1767dcf206eed"
   },
   "source": [
    "Notice anything odd about the words that appear in this word frequency plot? Do these words actually tell us much about the themes and concepts that Mary Shelley wants to portray to the reader in her stories? \n",
    "\n",
    "These words are all so commonly occuring words which you could find just anywhere else. Not just in spooky stories and novels by our three authors but also in newspapers, kid book, religious texts - really almost every other english text. Therefore we must find some way to preprocess our dataset first to strip out all these commonly occurring words which do not bring much to the table."
   ]
  },
  {
   "cell_type": "markdown",
   "metadata": {
    "_cell_guid": "bbfe7efe-74a4-45ad-bfba-d926ed9819d4",
    "_uuid": "fe3ad42b8d423aafe9190490f180db59c0669e8a"
   },
   "source": [
    "## WordClouds to visualise each author's work\n",
    "\n",
    "One very handy visualization tool for a data scientist when it comes to any sort of natural language processing is plotting \"Word Cloud\". A word cloud (as the name suggests) is an image that is made up of a mixture of distinct words which may make up a text or book and where the size of each word is proportional to its word frequency in that text (number of times the word appears). Here instead of dealing with an actual book or text, our words can simply be taken from the column \"text\"\n",
    "\n",
    "**Store the text of each author in  a Python list**\n",
    "\n",
    "We first create three different python lists that store the texts of Edgar Allen Poe, HP Lovecraft and Mary Shelley respectively as follows:"
   ]
  },
  {
   "cell_type": "code",
   "execution_count": 6,
   "metadata": {
    "_cell_guid": "78d367b4-7efe-43b2-9ec2-b1a602cbf132",
    "_uuid": "e8a631a23de198d48d472b10111448972f11aee5"
   },
   "outputs": [],
   "source": [
    "# eap = train[train.author==\"EAP\"][\"text\"].values\n",
    "# hpl = train[train.author==\"HPL\"][\"text\"].values\n",
    "# mws = train[train.author==\"MWS\"][\"text\"].values"
   ]
  },
  {
   "cell_type": "markdown",
   "metadata": {
    "_cell_guid": "a27e06c7-d219-40be-b2b4-0d982fb9b47a",
    "_uuid": "e8efa4d45bc38f9524b079c9eec497969c2e0f91"
   },
   "source": [
    "Next to create our wordclouds, I will import the python module \"wordcloud\". "
   ]
  },
  {
   "cell_type": "code",
   "execution_count": 7,
   "metadata": {
    "_cell_guid": "4be02b75-9ec5-4167-895c-055cb679be55",
    "_uuid": "52d17124aa7a9628ec382784c572a738b5bea7a8"
   },
   "outputs": [],
   "source": [
    "from wordcloud import WordCloud, STOPWORDS"
   ]
  },
  {
   "cell_type": "markdown",
   "metadata": {
    "_cell_guid": "a698e137-5526-46cc-8188-38f9d05b5844",
    "_uuid": "236f9d322896163101b09c5b4f612ad4ebfa0971"
   },
   "source": [
    "But generating a normal wordcloud is rather boring so I would like to introduce to you a technique of importing pictures (something relevant) and using the outline of that picture as a mask for our wordclouds. Therefore the pictures that I have chosen are the ones I feel most representative for their authors:\n",
    "\n",
    "1. ) The Raven for Edgar Allen Poe 2.) Octopus Cthulu-thingy for HP Lovecraft and 3.) Frankenstein for Mary Shelly\n",
    "\n",
    "The way I am loading in the pictures on Kaggle is a sort of a feature hack although readers familiar to my work know this trick. I first derive the Base64 encoding of whatever images I want to use and then use that particular encoding and re-convert the picture back on the notebook. The cell below contains the Base64 encoding of the three images I will use but I have hidden them so that I do not pollute this notebook with just long streteches of text - unhide them if you want to see the encoding."
   ]
  },
  {
   "cell_type": "markdown",
   "metadata": {
    "_cell_guid": "245cc1f1-f0bf-4c06-85e1-d6cf2fb40d52",
    "_uuid": "c66a004440ddd98f95d30f24659a7ab684b998fc"
   },
   "source": [
    "To decode the image, I import the \"codecs\" module and save it as a new image here in this notebook. Once the image is saved, I can simply load it as a mask as follows:"
   ]
  },
  {
   "cell_type": "markdown",
   "metadata": {
    "_cell_guid": "05937068-0a5e-4c6b-b40a-7a330032a2cb",
    "_uuid": "87f658344ed7a57ac0de56ae1c3a682e579e0c99"
   },
   "source": [
    "Finally plotting the word clouds via the following few lines (unhide to see the code):"
   ]
  },
  {
   "cell_type": "markdown",
   "metadata": {
    "_cell_guid": "d67381d1-d765-449e-a9b9-6e3b127580aa",
    "_uuid": "a026400479d03567e4c6455b7d90215d2ff2f8cf"
   },
   "source": [
    "Well there you have it, three separate word clouds, one for each of our spooky authors. Right off the bat, you can see from these word clouds some of the choice words that were favoured by the different authors. \n",
    "\n",
    "For example, you can see the HP lovecraft favours words like \"dream\", \"time\", \"strange\", \"past\", \"ancient\" which seem to resonate with themes that the author was famous for, themes around the hidden psyche and esoteric nature of fate and chance as well as the infamous creature Cthulhu and mentions of ancient cults and rituals associated with it.\n",
    "\n",
    "On the other hand, one can see that Mary Shelley's words revolve around primal instincts and themes of morality which range from the positive to negative ends of the spectrum, such as \"friend\", \"fear\", \"hope\", \"spirit\" etc. - themes which resonate in her works such as Frankenstein\n",
    "\n",
    "However, as you can see from the word clouds, there are still a handful of words that seem to be quite out of place. Words such as \"us\", \"go\", \"he\" which seem to appear commonly every where in text "
   ]
  },
  {
   "cell_type": "markdown",
   "metadata": {
    "_cell_guid": "263dc0b2-0991-4e63-81d3-3c9f77279cfb",
    "_uuid": "dfdb5bcd1cb2cf9275fa53e233dd87298817a366"
   },
   "source": [
    "---"
   ]
  },
  {
   "cell_type": "markdown",
   "metadata": {
    "_cell_guid": "9dc7e717-a262-48c1-8684-b0fca2398d35",
    "_uuid": "245126697b14d9e76cb43924c71ec02a1ad76ebf"
   },
   "source": [
    "# 2. Natural Language Processing\n",
    "\n",
    "![](https://s-media-cache-ak0.pinimg.com/originals/d8/ca/04/d8ca049fd1ad2d92818763e55c57f49a.jpg)\n",
    "\n",
    "In almost all Natural Language Processing (the field that explores interactions between a computer and human languages) tasks that you will come across (be it topic modelling, or word clustering or document-text classification etc), one will generally always have to undergo these few pre-processing steps to convert the input raw text into a form that is readable by your model and the machine. You certainly can't expect to feed a Random Forest model a paragraph of words and expect it to immediately predict which author that paragraph came from. Behind the scenes, text pre-processing can be boiled down to these few simple steps:\n",
    "\n",
    "1. **Tokenization** - Segregation of the text into its individual constitutent words. \n",
    "2. **Stopwords** - Throw away any words that occur too frequently as its frequency of occurrence will not be useful in helping detecting relevant texts. (as an aside also consider throwing away words that occur very infrequently).\n",
    "3. **Stemming**  - combine variants of words into a single parent word that still conveys the same meaning\n",
    "4. **Vectorization** - Converting text into vector format. One of the simplest is the famous bag-of-words approach, where you create a matrix (for each document or text in the corpus). In the simplest form, this matrix stores word frequencies (word counts) and is oft referred to as vectorization of the raw text. \n",
    "\n",
    "**Natural Language Toolkit (NLTK)**: To make our Natural Language Processing endeavours more convenient, let me introduce to you one of the most handy toolkits that on NLP - the Natural Language Toolkit, also more commonly referred to as the  [NLTK](http://www.nltk.org/) module. To import the toolkit, it is as easier as:\n",
    "\n"
   ]
  },
  {
   "cell_type": "code",
   "execution_count": 8,
   "metadata": {
    "_cell_guid": "23501048-7657-44aa-b51c-d59ecf74e376",
    "_uuid": "154104c7c211060f269cfaf7a5bdbc03721796c6"
   },
   "outputs": [],
   "source": [
    "import nltk"
   ]
  },
  {
   "cell_type": "markdown",
   "metadata": {
    "_cell_guid": "6a9618ba-2ec0-4a6f-8169-060b7bed5427",
    "_uuid": "3d3ac7816eee311d2016a48bb681f3fb6556bddf"
   },
   "source": [
    "## 2a. Tokenization\n",
    "\n",
    "The concept of tokenization is the act of taking a sequence of characters (think of Python strings) in a given document and dicing it up into its individual constituent pieces, which are the eponymous \"tokens\" of this method. One could loosely think of them as singular words in a sentence. One could naively implement the \"split( )\" method on a string which separates it into a python list based on the identifier in the argument. It is actually not that trivial to \n",
    "\n",
    "Here we split the first sentence of the text in the training data just on a space as follows:"
   ]
  },
  {
   "cell_type": "code",
   "execution_count": 9,
   "metadata": {
    "_cell_guid": "d4494207-f146-4e40-8a77-7ef2a938df43",
    "_uuid": "12c4f0926f03ef50994829b9da509683b62d6c06"
   },
   "outputs": [
    {
     "name": "stdout",
     "output_type": "stream",
     "text": [
      " Mwangonde: Khansala wachinyamata Akamati achinyamata ndi atsogoleri a mawa, ambiri amaganiza kuti izi ndi nkhambakamwa chabe. Koma achinyamata ena, monga Lusubilo Mwangonde, akukwaniritsa akupherezetsa mawuwa osati pongolota kuti adzakhala, koma kutsogolera kumene chifukwa nthawi yawo yakwana. DAILES BANDA adacheza ndi Mwangonde, khansala wachinyama, yemwe akuimira Jumbo Ward mumzinda wa Mzuzu, motere:  Chisale watuluka nkumangidwanso  Sipakala waimitsa Nyumba ya Malamulo  Pa Wenela pasintha zedi Ali ndi masomphenya: Mwangonde Tikudziweni  Ndine Lusubilo Mwangonde, ndili ndi zaka 27 zakubadwa. Ndinabadwa mbanja la ana asanu ndipo ndine wachinayi kubadwa. Ndimachokera mmudzi mwa Mwamalopa, kwa Paramount Chief Kyungu mboma la Karonga. Sindili pabanja pakadalipano.\n",
      " Mbiri ya maphunziro anu ndi yotani? Maphunziro anga a pulaimale ndidachitira kusukula yapulaiveti ya Viphya mumzinda wa Mzuzu ndipo asekondale ndidachitira pa Phwezi Boys mboma la Rumphi. Ndili ndi diploma ya Accounting ndipo pakadalipano ndikupanga digiri komanso Chartered Accounting kusukulu ya Malawi College of Accountancy (MCA).\n",
      " Mudayamba bwanji zandale? Kuyambira ndili wachichepere, zaka 12, ndakhala ndikukhala mumaudindo a utgogoleri. Ichi ndi china mwa zinthu zomwe zidandilimbikitsa kuti ndikhoza kudzapambana pazisankho. Koma chachikulu chomwe chidandichititsa kuti ndilowe ukhansala chidali chifukwa chakuti ndinkafuna kupereka mpata kwa anthu kuti azitha kuyankhula zakukhosi kwawo polimbikitsa demokalase ndi chitukuko.\n",
      " Ntchito mukugwira ndi zomwe munkayembekezera? Eya, ndiponso ndinkayembekezera zambiri.\n",
      " Masomphenya anu ndi otani pandale? Ine ndine munthu wokhulupirira Mulungu ndipo ndili ndi chikhulupiriro choti Iye ndi amene adzandionetsere zomwe ndikuyera kuchita ndi tsogolo langa.\n",
      " Zinthu zina zomwe mumachita ndi chiyani pambali pa ukhansala? Ndikakhala sindikugwira ntchito yaukhansala ndimakhala ndikuchita bizinesi, nthawi zina ndimakhala ndili kusukulu komwe ndikuchita maphuro anga a digiri. Kuonjezera pamenepo ndili ndi bungwe lomwe ndidayambitsa ndi anzanga ena la Centre for Participatory Democracy lomwe limalimbikitsa demokalase.\n",
      " Zomwe mwakwanitsa ndi zotani? Ndathandiza kuti ntchito yopala misewu ya kudera la Moyale itheke. Misewuyi yakhala nthawi yaitali osapalidwa. Ndidathandiziranso kuti ochita malonda ayambe kumanga mashopu anjerwa ndi kusiya kumangira matabwa kapena zigwagwa. Ndidakwanitsanso kukaimirira khonsolo ya Mzuzu ku Nyumba ya Malamulo. Ndaonanso kuti ntchitoyi yandithandiza kusintha momwe ndimaonera zinthu komanso ndimakumana ndi anthu osiyanasiyana omwe amandiphunzitsa zinthu zambiri.\n",
      "\n",
      "==========================================================================================\n",
      "['', 'Mwangonde:', 'Khansala', 'wachinyamata', 'Akamati', 'achinyamata', 'ndi', 'atsogoleri', 'a', 'mawa,', 'ambiri', 'amaganiza', 'kuti', 'izi', 'ndi', 'nkhambakamwa', 'chabe.', 'Koma', 'achinyamata', 'ena,', 'monga', 'Lusubilo', 'Mwangonde,', 'akukwaniritsa', 'akupherezetsa', 'mawuwa', 'osati', 'pongolota', 'kuti', 'adzakhala,', 'koma', 'kutsogolera', 'kumene', 'chifukwa', 'nthawi', 'yawo', 'yakwana.', 'DAILES', 'BANDA', 'adacheza', 'ndi', 'Mwangonde,', 'khansala', 'wachinyama,', 'yemwe', 'akuimira', 'Jumbo', 'Ward', 'mumzinda', 'wa', 'Mzuzu,', 'motere:', '', 'Chisale', 'watuluka', 'nkumangidwanso', '', 'Sipakala', 'waimitsa', 'Nyumba', 'ya', 'Malamulo', '', 'Pa', 'Wenela', 'pasintha', 'zedi', 'Ali', 'ndi', 'masomphenya:', 'Mwangonde', 'Tikudziweni', '', 'Ndine', 'Lusubilo', 'Mwangonde,', 'ndili', 'ndi', 'zaka', '27', 'zakubadwa.', 'Ndinabadwa', 'mbanja', 'la', 'ana', 'asanu', 'ndipo', 'ndine', 'wachinayi', 'kubadwa.', 'Ndimachokera', 'mmudzi', 'mwa', 'Mwamalopa,', 'kwa', 'Paramount', 'Chief', 'Kyungu', 'mboma', 'la', 'Karonga.', 'Sindili', 'pabanja', 'pakadalipano.\\n', 'Mbiri', 'ya', 'maphunziro', 'anu', 'ndi', 'yotani?', 'Maphunziro', 'anga', 'a', 'pulaimale', 'ndidachitira', 'kusukula', 'yapulaiveti', 'ya', 'Viphya', 'mumzinda', 'wa', 'Mzuzu', 'ndipo', 'asekondale', 'ndidachitira', 'pa', 'Phwezi', 'Boys', 'mboma', 'la', 'Rumphi.', 'Ndili', 'ndi', 'diploma', 'ya', 'Accounting', 'ndipo', 'pakadalipano', 'ndikupanga', 'digiri', 'komanso', 'Chartered', 'Accounting', 'kusukulu', 'ya', 'Malawi', 'College', 'of', 'Accountancy', '(MCA).\\n', 'Mudayamba', 'bwanji', 'zandale?', 'Kuyambira', 'ndili', 'wachichepere,', 'zaka', '12,', 'ndakhala', 'ndikukhala', 'mumaudindo', 'a', 'utgogoleri.', 'Ichi', 'ndi', 'china', 'mwa', 'zinthu', 'zomwe', 'zidandilimbikitsa', 'kuti', 'ndikhoza', 'kudzapambana', 'pazisankho.', 'Koma', 'chachikulu', 'chomwe', 'chidandichititsa', 'kuti', 'ndilowe', 'ukhansala', 'chidali', 'chifukwa', 'chakuti', 'ndinkafuna', 'kupereka', 'mpata', 'kwa', 'anthu', 'kuti', 'azitha', 'kuyankhula', 'zakukhosi', 'kwawo', 'polimbikitsa', 'demokalase', 'ndi', 'chitukuko.\\n', 'Ntchito', 'mukugwira', 'ndi', 'zomwe', 'munkayembekezera?', 'Eya,', 'ndiponso', 'ndinkayembekezera', 'zambiri.\\n', 'Masomphenya', 'anu', 'ndi', 'otani', 'pandale?', 'Ine', 'ndine', 'munthu', 'wokhulupirira', 'Mulungu', 'ndipo', 'ndili', 'ndi', 'chikhulupiriro', 'choti', 'Iye', 'ndi', 'amene', 'adzandionetsere', 'zomwe', 'ndikuyera', 'kuchita', 'ndi', 'tsogolo', 'langa.\\n', 'Zinthu', 'zina', 'zomwe', 'mumachita', 'ndi', 'chiyani', 'pambali', 'pa', 'ukhansala?', 'Ndikakhala', 'sindikugwira', 'ntchito', 'yaukhansala', 'ndimakhala', 'ndikuchita', 'bizinesi,', 'nthawi', 'zina', 'ndimakhala', 'ndili', 'kusukulu', 'komwe', 'ndikuchita', 'maphuro', 'anga', 'a', 'digiri.', 'Kuonjezera', 'pamenepo', 'ndili', 'ndi', 'bungwe', 'lomwe', 'ndidayambitsa', 'ndi', 'anzanga', 'ena', 'la', 'Centre', 'for', 'Participatory', 'Democracy', 'lomwe', 'limalimbikitsa', 'demokalase.\\n', 'Zomwe', 'mwakwanitsa', 'ndi', 'zotani?', 'Ndathandiza', 'kuti', 'ntchito', 'yopala', 'misewu', 'ya', 'kudera', 'la', 'Moyale', 'itheke.', 'Misewuyi', 'yakhala', 'nthawi', 'yaitali', 'osapalidwa.', 'Ndidathandiziranso', 'kuti', 'ochita', 'malonda', 'ayambe', 'kumanga', 'mashopu', 'anjerwa', 'ndi', 'kusiya', 'kumangira', 'matabwa', 'kapena', 'zigwagwa.', 'Ndidakwanitsanso', 'kukaimirira', 'khonsolo', 'ya', 'Mzuzu', 'ku', 'Nyumba', 'ya', 'Malamulo.', 'Ndaonanso', 'kuti', 'ntchitoyi', 'yandithandiza', 'kusintha', 'momwe', 'ndimaonera', 'zinthu', 'komanso', 'ndimakumana', 'ndi', 'anthu', 'osiyanasiyana', 'omwe', 'amandiphunzitsa', 'zinthu', 'zambiri.\\n']\n"
     ]
    }
   ],
   "source": [
    "# Storing the first text element as a string\n",
    "first_text = all_data.Text.values[0]\n",
    "print(first_text)\n",
    "print(\"=\"*90)\n",
    "print(first_text.split(\" \"))"
   ]
  },
  {
   "cell_type": "markdown",
   "metadata": {
    "_cell_guid": "f265ba84-773b-4488-b056-830d0dfe0ca3",
    "_uuid": "25df56d59982058eba6ccc54953936f138a5fe0e"
   },
   "source": [
    "However as you can see from this first attempt at tokenization, the segregation of the sentence into its individual elements (or terms) is not entirely accurate. As an example, look at the second element of the list which contains the term \"process,\". The punctuation mark (comma) has also been included and is being treated along with the word \"process\" as a term in itself. Ideally we would like the comma and the word to be in two different and separate elements of the list. Trying to do this with pure python list operations will be quite complex so this is where the NLTK library comes into play. There is a convenient method \"word_tokenize( )\" (TreebankWord tokenizer) which strips out singular words as well as punctuations into separate elements automatically as follows:"
   ]
  },
  {
   "cell_type": "code",
   "execution_count": 10,
   "metadata": {
    "_cell_guid": "6f779581-98b0-4474-81d8-45be1f84a218",
    "_uuid": "f9e25a4080f6b310e787f4940cb058b332052a07"
   },
   "outputs": [
    {
     "name": "stdout",
     "output_type": "stream",
     "text": [
      "['Mwangonde', ':', 'Khansala', 'wachinyamata', 'Akamati', 'achinyamata', 'ndi', 'atsogoleri', 'a', 'mawa', ',', 'ambiri', 'amaganiza', 'kuti', 'izi', 'ndi', 'nkhambakamwa', 'chabe', '.', 'Koma', 'achinyamata', 'ena', ',', 'monga', 'Lusubilo', 'Mwangonde', ',', 'akukwaniritsa', 'akupherezetsa', 'mawuwa', 'osati', 'pongolota', 'kuti', 'adzakhala', ',', 'koma', 'kutsogolera', 'kumene', 'chifukwa', 'nthawi', 'yawo', 'yakwana', '.', 'DAILES', 'BANDA', 'adacheza', 'ndi', 'Mwangonde', ',', 'khansala', 'wachinyama', ',', 'yemwe', 'akuimira', 'Jumbo', 'Ward', 'mumzinda', 'wa', 'Mzuzu', ',', 'motere', ':', 'Chisale', 'watuluka', 'nkumangidwanso', 'Sipakala', 'waimitsa', 'Nyumba', 'ya', 'Malamulo', 'Pa', 'Wenela', 'pasintha', 'zedi', 'Ali', 'ndi', 'masomphenya', ':', 'Mwangonde', 'Tikudziweni', 'Ndine', 'Lusubilo', 'Mwangonde', ',', 'ndili', 'ndi', 'zaka', '27', 'zakubadwa', '.', 'Ndinabadwa', 'mbanja', 'la', 'ana', 'asanu', 'ndipo', 'ndine', 'wachinayi', 'kubadwa', '.', 'Ndimachokera', 'mmudzi', 'mwa', 'Mwamalopa', ',', 'kwa', 'Paramount', 'Chief', 'Kyungu', 'mboma', 'la', 'Karonga', '.', 'Sindili', 'pabanja', 'pakadalipano', '.', 'Mbiri', 'ya', 'maphunziro', 'anu', 'ndi', 'yotani', '?', 'Maphunziro', 'anga', 'a', 'pulaimale', 'ndidachitira', 'kusukula', 'yapulaiveti', 'ya', 'Viphya', 'mumzinda', 'wa', 'Mzuzu', 'ndipo', 'asekondale', 'ndidachitira', 'pa', 'Phwezi', 'Boys', 'mboma', 'la', 'Rumphi', '.', 'Ndili', 'ndi', 'diploma', 'ya', 'Accounting', 'ndipo', 'pakadalipano', 'ndikupanga', 'digiri', 'komanso', 'Chartered', 'Accounting', 'kusukulu', 'ya', 'Malawi', 'College', 'of', 'Accountancy', '(', 'MCA', ')', '.', 'Mudayamba', 'bwanji', 'zandale', '?', 'Kuyambira', 'ndili', 'wachichepere', ',', 'zaka', '12', ',', 'ndakhala', 'ndikukhala', 'mumaudindo', 'a', 'utgogoleri', '.', 'Ichi', 'ndi', 'china', 'mwa', 'zinthu', 'zomwe', 'zidandilimbikitsa', 'kuti', 'ndikhoza', 'kudzapambana', 'pazisankho', '.', 'Koma', 'chachikulu', 'chomwe', 'chidandichititsa', 'kuti', 'ndilowe', 'ukhansala', 'chidali', 'chifukwa', 'chakuti', 'ndinkafuna', 'kupereka', 'mpata', 'kwa', 'anthu', 'kuti', 'azitha', 'kuyankhula', 'zakukhosi', 'kwawo', 'polimbikitsa', 'demokalase', 'ndi', 'chitukuko', '.', 'Ntchito', 'mukugwira', 'ndi', 'zomwe', 'munkayembekezera', '?', 'Eya', ',', 'ndiponso', 'ndinkayembekezera', 'zambiri', '.', 'Masomphenya', 'anu', 'ndi', 'otani', 'pandale', '?', 'Ine', 'ndine', 'munthu', 'wokhulupirira', 'Mulungu', 'ndipo', 'ndili', 'ndi', 'chikhulupiriro', 'choti', 'Iye', 'ndi', 'amene', 'adzandionetsere', 'zomwe', 'ndikuyera', 'kuchita', 'ndi', 'tsogolo', 'langa', '.', 'Zinthu', 'zina', 'zomwe', 'mumachita', 'ndi', 'chiyani', 'pambali', 'pa', 'ukhansala', '?', 'Ndikakhala', 'sindikugwira', 'ntchito', 'yaukhansala', 'ndimakhala', 'ndikuchita', 'bizinesi', ',', 'nthawi', 'zina', 'ndimakhala', 'ndili', 'kusukulu', 'komwe', 'ndikuchita', 'maphuro', 'anga', 'a', 'digiri', '.', 'Kuonjezera', 'pamenepo', 'ndili', 'ndi', 'bungwe', 'lomwe', 'ndidayambitsa', 'ndi', 'anzanga', 'ena', 'la', 'Centre', 'for', 'Participatory', 'Democracy', 'lomwe', 'limalimbikitsa', 'demokalase', '.', 'Zomwe', 'mwakwanitsa', 'ndi', 'zotani', '?', 'Ndathandiza', 'kuti', 'ntchito', 'yopala', 'misewu', 'ya', 'kudera', 'la', 'Moyale', 'itheke', '.', 'Misewuyi', 'yakhala', 'nthawi', 'yaitali', 'osapalidwa', '.', 'Ndidathandiziranso', 'kuti', 'ochita', 'malonda', 'ayambe', 'kumanga', 'mashopu', 'anjerwa', 'ndi', 'kusiya', 'kumangira', 'matabwa', 'kapena', 'zigwagwa', '.', 'Ndidakwanitsanso', 'kukaimirira', 'khonsolo', 'ya', 'Mzuzu', 'ku', 'Nyumba', 'ya', 'Malamulo', '.', 'Ndaonanso', 'kuti', 'ntchitoyi', 'yandithandiza', 'kusintha', 'momwe', 'ndimaonera', 'zinthu', 'komanso', 'ndimakumana', 'ndi', 'anthu', 'osiyanasiyana', 'omwe', 'amandiphunzitsa', 'zinthu', 'zambiri', '.']\n"
     ]
    },
    {
     "name": "stderr",
     "output_type": "stream",
     "text": [
      "[nltk_data] Downloading package punkt to\n",
      "[nltk_data]     C:\\Users\\amakr\\AppData\\Roaming\\nltk_data...\n",
      "[nltk_data]   Package punkt is already up-to-date!\n"
     ]
    }
   ],
   "source": [
    "import nltk\n",
    "nltk.download('punkt')\n",
    "first_text_list = nltk.word_tokenize(first_text)\n",
    "print(first_text_list)"
   ]
  },
  {
   "cell_type": "markdown",
   "metadata": {
    "_cell_guid": "061e26ac-280f-4399-9b33-6a3cde26ea3b",
    "_uuid": "35c495ac87055092c021facb767b107c5568ec4d"
   },
   "source": [
    "## 2b. Stopword Removal\n",
    "\n",
    "As alluded to above stopwords are generally words that appear so commonly and at such a high frequency in the corpus that they don't actually contribute much to the learning or predictive process as a learning model would fail to distinguish it from other texts. Stopwordsinclude terms such as \"to\" or \"the\" and therefore, it would be to our benefit to remove them during the pre-processing phase. Conveniently, NLTK comes with a predefined list of 153 english stopwords. (unhide the second cell below to see this list)"
   ]
  },
  {
   "cell_type": "code",
   "execution_count": 11,
   "metadata": {
    "_cell_guid": "14cfe2ca-aa80-4c11-a9b0-ea6be14f4b7a",
    "_uuid": "c7a755cb95368dd2d51d8b301e2eace87f2ad052"
   },
   "outputs": [
    {
     "data": {
      "text/plain": [
       "179"
      ]
     },
     "execution_count": 11,
     "metadata": {},
     "output_type": "execute_result"
    }
   ],
   "source": [
    "stopwords = nltk.corpus.stopwords.words('english')\n",
    "len(stopwords)"
   ]
  },
  {
   "cell_type": "code",
   "execution_count": 12,
   "metadata": {
    "_cell_guid": "1539116d-b3b5-425c-8f1d-93eaf1e9161e",
    "_kg_hide-input": true,
    "_kg_hide-output": true,
    "_uuid": "b181096c21ef2d66c3734105e26d255434244b7b"
   },
   "outputs": [],
   "source": [
    "# print(stopwords)\n",
    "# type(pd.read_csv('words_shared_by_all.csv').values.tolist()[0])\n",
    "import itertools\n",
    "# list2d = [[1,2,3], [4,5,6], [7], [8,9]]\n",
    "merged = list(itertools.chain(*(pd.read_csv('words_shared_by_all.csv').values.tolist())))"
   ]
  },
  {
   "cell_type": "code",
   "execution_count": 13,
   "metadata": {},
   "outputs": [],
   "source": [
    "stopwords = stopwords + merged "
   ]
  },
  {
   "cell_type": "markdown",
   "metadata": {
    "_cell_guid": "e54202f3-b39d-497b-9612-5f6f50529036",
    "_uuid": "dc35cb71dd9f6fb43d4fc4c160e1638af6f2f276"
   },
   "source": [
    "To filter out stop words from our tokenized list of words, we can simply use a list comprehension as follows:"
   ]
  },
  {
   "cell_type": "code",
   "execution_count": 14,
   "metadata": {
    "_cell_guid": "5966d89b-2aca-4554-9409-566ec4cf160a",
    "_uuid": "2360c210667caf51d4c23fbefadc742edd0bb352"
   },
   "outputs": [
    {
     "name": "stdout",
     "output_type": "stream",
     "text": [
      "['Mwangonde', ':', 'Khansala', 'wachinyamata', 'Akamati', 'achinyamata', 'atsogoleri', 'mawa', ',', 'ambiri', 'amaganiza', 'nkhambakamwa', 'chabe', '.', 'achinyamata', ',', 'Lusubilo', 'Mwangonde', ',', 'akukwaniritsa', 'akupherezetsa', 'mawuwa', 'osati', 'pongolota', 'adzakhala', ',', 'kutsogolera', 'kumene', 'yawo', 'yakwana', '.', 'DAILES', 'BANDA', 'adacheza', 'Mwangonde', ',', 'khansala', 'wachinyama', ',', 'akuimira', 'Jumbo', 'Ward', 'mumzinda', 'Mzuzu', ',', 'motere', ':', 'Chisale', 'watuluka', 'nkumangidwanso', 'Sipakala', 'waimitsa', 'Wenela', 'pasintha', 'zedi', 'masomphenya', ':', 'Mwangonde', 'Tikudziweni', 'Ndine', 'Lusubilo', 'Mwangonde', ',', 'ndili', 'zaka', '27', 'zakubadwa', '.', 'Ndinabadwa', 'mbanja', 'ana', 'asanu', 'ndine', 'wachinayi', 'kubadwa', '.', 'Ndimachokera', 'mmudzi', 'Mwamalopa', ',', 'Paramount', 'Chief', 'Kyungu', 'Karonga', '.', 'Sindili', 'pabanja', 'pakadalipano', '.', 'Mbiri', 'maphunziro', 'anu', 'yotani', '?', 'Maphunziro', 'anga', 'pulaimale', 'ndidachitira', 'kusukula', 'yapulaiveti', 'Viphya', 'mumzinda', 'Mzuzu', 'asekondale', 'ndidachitira', 'Phwezi', 'Boys', 'Rumphi', '.', 'Ndili', 'diploma', 'Accounting', 'pakadalipano', 'ndikupanga', 'digiri', 'Chartered', 'Accounting', 'kusukulu', 'Malawi', 'College', 'Accountancy', '(', 'MCA', ')', '.', 'Mudayamba', 'zandale', '?', 'Kuyambira', 'ndili', 'wachichepere', ',', 'zaka', '12', ',', 'ndakhala', 'ndikukhala', 'mumaudindo', 'utgogoleri', '.', 'Ichi', 'china', 'zidandilimbikitsa', 'ndikhoza', 'kudzapambana', 'pazisankho', '.', 'chachikulu', 'chidandichititsa', 'ndilowe', 'ukhansala', 'chidali', 'chakuti', 'ndinkafuna', 'kupereka', 'mpata', 'azitha', 'kuyankhula', 'zakukhosi', 'kwawo', 'polimbikitsa', 'demokalase', 'chitukuko', '.', 'mukugwira', 'munkayembekezera', '?', 'Eya', ',', 'ndiponso', 'ndinkayembekezera', '.', 'Masomphenya', 'anu', 'otani', 'pandale', '?', 'Ine', 'ndine', 'munthu', 'wokhulupirira', 'Mulungu', 'ndili', 'chikhulupiriro', 'choti', 'adzandionetsere', 'ndikuyera', 'kuchita', 'tsogolo', 'langa', '.', 'mumachita', 'chiyani', 'pambali', 'ukhansala', '?', 'Ndikakhala', 'sindikugwira', 'yaukhansala', 'ndimakhala', 'ndikuchita', 'bizinesi', ',', 'ndimakhala', 'ndili', 'kusukulu', 'ndikuchita', 'maphuro', 'anga', 'digiri', '.', 'Kuonjezera', 'pamenepo', 'ndili', 'bungwe', 'ndidayambitsa', 'anzanga', 'Centre', 'Participatory', 'Democracy', 'limalimbikitsa', 'demokalase', '.', 'mwakwanitsa', 'zotani', '?', 'Ndathandiza', 'yopala', 'misewu', 'kudera', 'Moyale', 'itheke', '.', 'Misewuyi', 'yakhala', 'yaitali', 'osapalidwa', '.', 'Ndidathandiziranso', 'ochita', 'malonda', 'ayambe', 'kumanga', 'mashopu', 'anjerwa', 'kusiya', 'kumangira', 'matabwa', 'zigwagwa', '.', 'Ndidakwanitsanso', 'kukaimirira', 'khonsolo', 'Mzuzu', '.', 'Ndaonanso', 'ntchitoyi', 'yandithandiza', 'kusintha', 'ndimaonera', 'ndimakumana', 'osiyanasiyana', 'amandiphunzitsa', '.']\n",
      "==========================================================================================\n",
      "Length of original list: 375 words\n",
      "Length of list after stopwords removal: 264 words\n"
     ]
    }
   ],
   "source": [
    "first_text_list_cleaned = [word for word in first_text_list if word.lower() not in stopwords]\n",
    "print(first_text_list_cleaned)\n",
    "print(\"=\"*90)\n",
    "print(\"Length of original list: {0} words\\n\"\n",
    "      \"Length of list after stopwords removal: {1} words\"\n",
    "      .format(len(first_text_list), len(first_text_list_cleaned)))"
   ]
  },
  {
   "cell_type": "markdown",
   "metadata": {
    "_cell_guid": "c980fcb1-5cdc-4061-b94d-47ab6b860144",
    "_uuid": "be431b48073ed91c54920d4883edd3c8b597d0ae"
   },
   "source": [
    "As you can see, our list with stopwords removed is now substantially shorter than before where commonly occuring words such as \"I\", \"me\", \"to\" and \"the\" have been removed."
   ]
  },
  {
   "cell_type": "markdown",
   "metadata": {
    "_cell_guid": "7495e09a-e8b6-4e7b-bdbd-cd75a3ce27a6",
    "_uuid": "265c9f86933af289e043337db3462bd02845c6c1"
   },
   "source": [
    "## 2c. Stemming and Lemmatization\n",
    "\n",
    "After removal of stopwords, the next stage of NLP that I would like to introduce is the process of Stemming.  The work at this stage attempts to reduce as many different variations of similar words into a single term ( different branches all reduced to single word *stem*). Therefore if we have \"running\", \"runs\" and \"run\", you would really want these three distinct words to collapse into just the word \"run\". (However of course you lose granularity of the past, present or future tense). \n",
    "\n",
    "We can turn to NLTK again which provides various stemmers which include variants such as the Porter stemming algorithm, the lancaster stemmer and the Snowball stemmer. In the following example, I will create a porter stemmer instance as follows:"
   ]
  },
  {
   "cell_type": "code",
   "execution_count": 17,
   "metadata": {
    "_cell_guid": "1efb1808-e2e2-4c7d-8ccb-06490de56a5d",
    "_uuid": "9212fd761ea6c97b2b801bcd3b478d83e6b5f82e"
   },
   "outputs": [],
   "source": [
    "stemmer = nltk.stem.PorterStemmer()"
   ]
  },
  {
   "cell_type": "markdown",
   "metadata": {
    "_cell_guid": "b33b3723-64b6-4996-9d27-bacf3c8c7211",
    "_uuid": "09e18504e483a896b0484baf92a46b3f7c014ea9"
   },
   "source": [
    "And now we can use stemmer to see if it can reduce our these test words (\"running\", \"runs\", \"run\") into their a single stemmed word. Conveniently we can test the stemmer on the fly as follows:"
   ]
  },
  {
   "cell_type": "code",
   "execution_count": 18,
   "metadata": {
    "_cell_guid": "dd728b18-0e9b-4f2d-b2e5-68dde30073db",
    "_uuid": "c72a6846f9bdf62a0c8dc29239eeb528de5bb98a"
   },
   "outputs": [
    {
     "name": "stdout",
     "output_type": "stream",
     "text": [
      "The stemmed form of running is: run\n",
      "The stemmed form of runs is: run\n",
      "The stemmed form of run is: run\n"
     ]
    }
   ],
   "source": [
    "print(\"The stemmed form of running is: {}\".format(stemmer.stem(\"running\")))\n",
    "print(\"The stemmed form of runs is: {}\".format(stemmer.stem(\"runs\")))\n",
    "print(\"The stemmed form of run is: {}\".format(stemmer.stem(\"run\")))"
   ]
  },
  {
   "cell_type": "markdown",
   "metadata": {
    "_cell_guid": "33b0cd45-db7e-4309-be16-b509d1dd9073",
    "_uuid": "1634de190898f3232bc53d741f7fc6f7207c9438"
   },
   "source": [
    "As we can see, the stemmer has successfully reduced the given words above into a base form and this will be most in helping us reduce the size of our dataset of words when we come to learning and classification tasks.\n",
    "\n",
    "However there is one flaw with stemming and that is the fact that the process involves quite a [crude heuristic in chopping off the ends of words](https://nlp.stanford.edu/IR-book/html/htmledition/stemming-and-lemmatization-1.html) in the hope of reducing a particular word into a human recognizable base form. Therefore this process does not take into account vocabulary or word forms when collapsing words as this example will illustrate:"
   ]
  },
  {
   "cell_type": "code",
   "execution_count": 19,
   "metadata": {
    "_cell_guid": "8812bd89-c2d9-4916-9e47-db51ae8c939a",
    "_uuid": "09944cdd9990bfc060adeb33fb839e38bebd1951"
   },
   "outputs": [
    {
     "name": "stdout",
     "output_type": "stream",
     "text": [
      "The stemmed form of leaves is: leav\n"
     ]
    }
   ],
   "source": [
    "print(\"The stemmed form of leaves is: {}\".format(stemmer.stem(\"leaves\")))"
   ]
  },
  {
   "cell_type": "markdown",
   "metadata": {
    "_cell_guid": "a051ac61-9948-44f1-b5fc-112c77a851c8",
    "_uuid": "9ea2b6d17255ff5a421213b58722a0c8174facbd"
   },
   "source": [
    "### Lemmatization to the rescue\n",
    "\n",
    "Therefore we turn to another that we could use in lieu of stemming. This method is called lemmatization which aims to achieve the same effect as the former method. However unlike a stemmer, lemmatizing the dataset aims to reduce words based on an actual dictionary or vocabulary (the Lemma) and therefore will not chop off words into stemmed forms that do not carry any lexical meaning. Here we can utilize NLTK once again to initialize a lemmatizer (WordNet variant) and inspect how it collapses words as follows:"
   ]
  },
  {
   "cell_type": "code",
   "execution_count": 20,
   "metadata": {
    "_cell_guid": "afdc99cc-a30d-40ba-8cba-a4f72637fd6e",
    "_uuid": "fd50d5b556e74060707dcc26dd2599b179db4f31"
   },
   "outputs": [
    {
     "name": "stdout",
     "output_type": "stream",
     "text": [
      "The lemmatized form of leaves is: leaf\n"
     ]
    }
   ],
   "source": [
    "from nltk.stem import WordNetLemmatizer\n",
    "lemm = WordNetLemmatizer()\n",
    "print(\"The lemmatized form of leaves is: {}\".format(lemm.lemmatize(\"leaves\")))"
   ]
  },
  {
   "cell_type": "markdown",
   "metadata": {
    "_cell_guid": "849d2968-5a45-4aaa-b5c2-e985e5e08016",
    "_uuid": "5b4c03ed72e67882014cfcbfca7339f649a02c97"
   },
   "source": [
    "Brilliant, now we see that our lemmatizer is working and collapsing words into a form that makes much more lexical sense."
   ]
  },
  {
   "cell_type": "markdown",
   "metadata": {
    "_cell_guid": "fa4f6d1f-eb70-4325-84d1-92212259f98c",
    "_uuid": "2ace49576cca7bf5476d2a7e7989e0be76394701"
   },
   "source": [
    "## 2d. Vectorizing Raw Text\n",
    "\n",
    "In the vast collection of NLP literature, there are many different purposes for analyzing raw text, where in some cases you would like to compare the similarity of one body of text to another (Clustering techniques/Distance measurements), text classification (the purpose of this competition) as well as uncovering the topics that comprise a body of text (the aim of this notebook). With the purpose of uncovering topics at the back of our minds we must now think of how to feed the raw text into a machine learning model. Having already discussed tokenization, stopword removals and stemming (or maybe lemmatizing) we have now arrived at a reasonably cleaner text dataset then we started out with. However at this juncture, our raw text though human readable is still unfortunately not yet machine readable. A machine can read in bits and numbers and therefore we will first need to convert our text into numbers for which we utilise a very common approach known as the Bag-of-Words\n",
    "\n",
    "**The Bag of Words approach**\n",
    "\n",
    "This approach uses the counts of words as a starting block and records the occurrence of each word (from the entire text) in a vector specific to that particular word. For example given these two sentences \"I love to eat Burgers\", \"I love to eat Fries\", we first tokenize to obtain our vocabulary of 6 words from which we can get the word counts for - [I, love, to, eat, Burgers, Fries]. \n",
    "\n",
    "Vectorizing the text via the Bag of Words approach, we get six distinct vectors one for each word. So you ask since we now have rows consisting of numbers (instead of text) what forms the columns (or features)? Well each word now becomes an individual feature/column in this new transformed dataset. To illustrate this point, I shall utilize the Scikit-learn library to implement a vectorizer that generates a vector of word counts (term frequencies) - via the CountVectorizer method as follows."
   ]
  },
  {
   "cell_type": "code",
   "execution_count": 21,
   "metadata": {
    "_cell_guid": "d6883542-1769-451e-98af-a327db924b93",
    "_uuid": "e63eb93cf0e6126d01429f4783981d0afabc6994"
   },
   "outputs": [],
   "source": [
    "# Defining our sentence\n",
    "sentence = [\"I love to eat Burgers\", \n",
    "            \"I love to eat Fries\"]\n",
    "vectorizer = CountVectorizer(min_df=0)\n",
    "sentence_transform = vectorizer.fit_transform(sentence)"
   ]
  },
  {
   "cell_type": "markdown",
   "metadata": {
    "_cell_guid": "7fda51ee-c804-4f42-86f2-836526b3ef23",
    "_uuid": "0051e63fcc23edad22d610fdf7aee4cf7b91c619"
   },
   "source": [
    "**Fitting the vectorizer to the dataset**\n",
    "\n",
    "Here we initialize and create a simple term frequency object via the CountVectorizer function simply called \"vectorizer\". The parameters that I have provided explicitly (the rest are left as default) are the bare minimum. Here \"min_df\" in the parameter refers to the minimum document frequency and the vectorizer will simply drop all words that occur less than that value set (either integer or in fraction form).  For a detailed read up on this method as well as the rest of the parameters that one could use, I refer you to the [Sklearn website](http://scikit-learn.org/stable/modules/generated/sklearn.feature_extraction.text.CountVectorizer.html).\n",
    "\n",
    "Finally we apply the fit_transform method is actually comprised of two steps. The first step is the fit method where the vectorizer is mapped to the the dataset that you provide. Once this is done,  the actual vectorizing operation is performed via the transform method where the raw text is turned into its vector form as shown below:"
   ]
  },
  {
   "cell_type": "code",
   "execution_count": 22,
   "metadata": {
    "_cell_guid": "f3a0d078-e106-4ee6-b471-fd324a544f81",
    "_uuid": "6c265b6fe17994bec7e302854d870e51d50a9aaa"
   },
   "outputs": [
    {
     "name": "stdout",
     "output_type": "stream",
     "text": [
      "The features are:\n",
      " ['burgers', 'eat', 'fries', 'love', 'to']\n",
      "\n",
      "The vectorized array looks like:\n",
      " [[1 1 0 1 1]\n",
      " [0 1 1 1 1]]\n"
     ]
    }
   ],
   "source": [
    "print(\"The features are:\\n {}\".format(vectorizer.get_feature_names()))\n",
    "print(\"\\nThe vectorized array looks like:\\n {}\".format(sentence_transform.toarray()))"
   ]
  },
  {
   "cell_type": "code",
   "execution_count": 23,
   "metadata": {
    "_cell_guid": "41bbc164-a059-4cf7-bf22-18973f0200d2",
    "_uuid": "f86e4bdb8f4e281bad241366637569a9218c182a"
   },
   "outputs": [
    {
     "data": {
      "text/plain": [
       "<2x5 sparse matrix of type '<class 'numpy.int64'>'\n",
       "\twith 8 stored elements in Compressed Sparse Row format>"
      ]
     },
     "execution_count": 23,
     "metadata": {},
     "output_type": "execute_result"
    }
   ],
   "source": [
    "sentence_transform"
   ]
  },
  {
   "cell_type": "markdown",
   "metadata": {
    "_cell_guid": "c3cc1c14-f9f5-46ae-9c40-5a753d66c18c",
    "_uuid": "2fb99a8569606d4c7ab34a17bbb167581a5f560d"
   },
   "source": [
    "**Sparse matrix vector ouptuts**\n",
    "\n",
    "From the output of the vectorized text, we can see that the features consist of the words in the corpus of text that we fed into the vectorizer (here the corpus being the two sentences we defined earlier). Simply call the get_feature_names attribute from the vectorizer to inspect it. \n",
    "\n",
    "With regards to the transformed text, one would be tempted to inspect the values by simplying calling it. However when you try to call it you really just get a message which states \"*sparse matrix of type class 'numpy.int64' with 8 stored elements in Compressed Sparse Row format*\". Therefore this means that the vectorizer returns the transformed raw text as a matrix where most of its values are zero or almost negligible, hence the term sparse. Thinking about this, it does make sense that our returned matrices contain quite a high degree of sparsity due to"
   ]
  },
  {
   "cell_type": "markdown",
   "metadata": {
    "_cell_guid": "6e7b34be-f0bd-4613-809d-5cd545ce9b49",
    "_uuid": "f648e42baafdead7dee89eb1e031bb9cccd92653"
   },
   "source": [
    "---"
   ]
  },
  {
   "cell_type": "markdown",
   "metadata": {
    "_cell_guid": "cd5d67e8-4e5e-4f6a-8e24-660401fe2403",
    "_uuid": "0b74584921e17f65034fcf5cbe67529cb6b46928"
   },
   "source": [
    "# 3. Topic modelling\n",
    "\n",
    "![](http://tlccentre.ie/wp-content/uploads/2015/10/Halloween1.jpg)\n",
    "\n",
    "Arriving at our *Final Destination* (pun intended), I will implement two different topic modelling techniques as follows:\n",
    "\n",
    "1. **Latent Dirichlet Allocation** - Probabilistic, generative model which uncovers the topics latent to a dataset by assigning weights to words in a corpus, where each topic will assign different probability weights to each word. \n",
    "\n",
    "2. **Non-negative Matrix Factorization** - Approximation method that takes an input matrix and approximates the factorization of this matrix into two other matrices, with the caveat that the values in the matrix be non-negative.\n",
    "\n"
   ]
  },
  {
   "cell_type": "code",
   "execution_count": 15,
   "metadata": {
    "_cell_guid": "5920dd1e-ab4c-4b5e-93b6-2ae7adab4a4f",
    "_uuid": "0d381c586da71139c91910ef64cce3211a499881"
   },
   "outputs": [],
   "source": [
    "# Define helper function to print top words\n",
    "def print_top_words(model, feature_names, n_top_words):\n",
    "    for index, topic in enumerate(model.components_):\n",
    "        message = \"\\nTopic #{}:\".format(index)\n",
    "        message += \" \".join([feature_names[i] for i in topic.argsort()[:-n_top_words - 1 :-1]])\n",
    "        print(message)\n",
    "        print(\"=\"*70)"
   ]
  },
  {
   "cell_type": "markdown",
   "metadata": {
    "_cell_guid": "951d1106-1277-4719-bf8c-2999a5ddfa66",
    "_uuid": "3c4c26a4a38ad831a826112c0b8823988be164ae"
   },
   "source": [
    "## 3a. Putting all the preprocessing steps together\n",
    "\n",
    "This is now the perfect opportunity to piece together all the text preprocessing steps that was mentioned in the previous section. So you're asking yourself, do we really need to go through all the effort and steps again in defining tokenization, stopword removals, stemming/lemmatizing etc? \n",
    "\n",
    "Thankfully we do not need to go through all of that again. I conveniently omitted a key detail about Sklearn vectorizers but will mention it at this juncture. When you vectorize the raw text with CountVectorizer, the dual stages of tokenizing and stopwords filtering are automatically included as a high-level component. Here unlike the NLTK  tokenizer that you were introduced to in the Section 2a earlier, Sklearn's tokenizer discards all single character terms like ('a', 'w' etc) and also lower cases all terms by default. Filtering out stopwords in Sklearn is as convenient as passing the value 'english' into the argument \"stop_words\" where a built-in English stopword list is automatically used.\n",
    "\n",
    "Unfortunately, there is no built-in lemmatizer in the vectorizer so we are left with a couple of options. Either implementing it separately everytime before feeding the data for vectorizing or somehow extend the sklearn implementation to include this functionality. Luckily for us, we have the latter option where we can extend the CountVectorizer class by overwriting the \"build_analyzer\" method as follows:\n",
    "\n",
    "### Extending the CountVectorizer class with a lemmatizer"
   ]
  },
  {
   "cell_type": "code",
   "execution_count": 17,
   "metadata": {
    "_cell_guid": "b2457aea-9cf6-4f19-b3f5-569c8a0bd497",
    "_uuid": "5026625d9bed4ccbafc7413d6e1578e4ef4d9d32"
   },
   "outputs": [
    {
     "data": {
      "text/html": [
       "<div>\n",
       "<style scoped>\n",
       "    .dataframe tbody tr th:only-of-type {\n",
       "        vertical-align: middle;\n",
       "    }\n",
       "\n",
       "    .dataframe tbody tr th {\n",
       "        vertical-align: top;\n",
       "    }\n",
       "\n",
       "    .dataframe thead th {\n",
       "        text-align: right;\n",
       "    }\n",
       "</style>\n",
       "<table border=\"1\" class=\"dataframe\">\n",
       "  <thead>\n",
       "    <tr style=\"text-align: right;\">\n",
       "      <th></th>\n",
       "      <th>ID</th>\n",
       "      <th>Text</th>\n",
       "    </tr>\n",
       "  </thead>\n",
       "  <tbody>\n",
       "    <tr>\n",
       "      <th>0</th>\n",
       "      <td>ID_AASHwXxg</td>\n",
       "      <td>Mwangonde: Khansala wachinyamata Akamati achi...</td>\n",
       "    </tr>\n",
       "    <tr>\n",
       "      <th>1</th>\n",
       "      <td>ID_AGoFySzn</td>\n",
       "      <td>MCP siidakhutire ndi kalembera Chipani cha Ma...</td>\n",
       "    </tr>\n",
       "    <tr>\n",
       "      <th>2</th>\n",
       "      <td>ID_AGrrkBGP</td>\n",
       "      <td>Bungwe la MANEPO Lapempha Boma Liganizire Anth...</td>\n",
       "    </tr>\n",
       "    <tr>\n",
       "      <th>3</th>\n",
       "      <td>ID_AIJeigeG</td>\n",
       "      <td>Ndale zogawanitsa miyambo zanyanya Si zachile...</td>\n",
       "    </tr>\n",
       "    <tr>\n",
       "      <th>4</th>\n",
       "      <td>ID_APMprMbV</td>\n",
       "      <td>Nanga wapolisi ataphofomoka? Masiku ano sichi...</td>\n",
       "    </tr>\n",
       "    <tr>\n",
       "      <th>...</th>\n",
       "      <td>...</td>\n",
       "      <td>...</td>\n",
       "    </tr>\n",
       "    <tr>\n",
       "      <th>2051</th>\n",
       "      <td>ID_zdpOUWyJ</td>\n",
       "      <td>Kanyongolo Wapempha Oyimira Milandu Kuti Atsat...</td>\n",
       "    </tr>\n",
       "    <tr>\n",
       "      <th>2052</th>\n",
       "      <td>ID_zhnOomuu</td>\n",
       "      <td>Amandimenya\\nZikomo gogo,\\nNdine mtsikana wa z...</td>\n",
       "    </tr>\n",
       "    <tr>\n",
       "      <th>2053</th>\n",
       "      <td>ID_zmWHvBJb</td>\n",
       "      <td>Apolisi athotha gulu la MYP Asilikali 56 a gu...</td>\n",
       "    </tr>\n",
       "    <tr>\n",
       "      <th>2054</th>\n",
       "      <td>ID_zphjdFIb</td>\n",
       "      <td>Mwambo wa ukwati wa Chitonga Mtundu wina uliw...</td>\n",
       "    </tr>\n",
       "    <tr>\n",
       "      <th>2055</th>\n",
       "      <td>ID_ztdtrNxt</td>\n",
       "      <td>Mwapasa autsa mapiri Pamene pali kusamvana pa...</td>\n",
       "    </tr>\n",
       "  </tbody>\n",
       "</table>\n",
       "<p>2056 rows × 2 columns</p>\n",
       "</div>"
      ],
      "text/plain": [
       "               ID                                               Text\n",
       "0     ID_AASHwXxg   Mwangonde: Khansala wachinyamata Akamati achi...\n",
       "1     ID_AGoFySzn   MCP siidakhutire ndi kalembera Chipani cha Ma...\n",
       "2     ID_AGrrkBGP  Bungwe la MANEPO Lapempha Boma Liganizire Anth...\n",
       "3     ID_AIJeigeG   Ndale zogawanitsa miyambo zanyanya Si zachile...\n",
       "4     ID_APMprMbV   Nanga wapolisi ataphofomoka? Masiku ano sichi...\n",
       "...           ...                                                ...\n",
       "2051  ID_zdpOUWyJ  Kanyongolo Wapempha Oyimira Milandu Kuti Atsat...\n",
       "2052  ID_zhnOomuu  Amandimenya\\nZikomo gogo,\\nNdine mtsikana wa z...\n",
       "2053  ID_zmWHvBJb   Apolisi athotha gulu la MYP Asilikali 56 a gu...\n",
       "2054  ID_zphjdFIb   Mwambo wa ukwati wa Chitonga Mtundu wina uliw...\n",
       "2055  ID_ztdtrNxt   Mwapasa autsa mapiri Pamene pali kusamvana pa...\n",
       "\n",
       "[2056 rows x 2 columns]"
      ]
     },
     "execution_count": 17,
     "metadata": {},
     "output_type": "execute_result"
    }
   ],
   "source": [
    "# lemm = WordNetLemmatizer()\n",
    "# class LemmaCountVectorizer(CountVectorizer):\n",
    "#     def build_analyzer(self):\n",
    "#         analyzer = super(LemmaCountVectorizer, self).build_analyzer()\n",
    "#         return lambda doc: (lemm.lemmatize(w) for w in analyzer(doc))\n",
    "all_data"
   ]
  },
  {
   "cell_type": "markdown",
   "metadata": {
    "_cell_guid": "139ca1ba-dd2b-406e-a845-64c4e2770c3b",
    "_uuid": "2f438bd6e29ac342a201671981ee3343371ae632"
   },
   "source": [
    "Here we have utilised some subtle concepts from Object-Oriented Programming (OOP). We have essentially inherited and subclassed the original Sklearn's CountVectorizer class and overwritten the build_analyzer method by implementing the lemmatizer for each list in the raw text matrix."
   ]
  },
  {
   "cell_type": "code",
   "execution_count": 24,
   "metadata": {
    "_cell_guid": "8ef3d4d1-54bb-46f2-a4d4-8737723b8b35",
    "_uuid": "1f4d855483f4fc3d68deb5008662cdb8ddd1d405"
   },
   "outputs": [
    {
     "name": "stdout",
     "output_type": "stream",
     "text": [
      "Removing stop words\n"
     ]
    },
    {
     "data": {
      "text/plain": [
       "0       [mwangonde, khansala, wachinyamata, akamati, a...\n",
       "1       [mcp, siidakhutire, kalembera, chipani, malawi...\n",
       "2       [bungwe, manepo, lapempha, boma, liganizire, a...\n",
       "3       [ndale, zogawanitsa, miyambo, zanyanya, si, za...\n",
       "4       [nanga, wapolisi, ataphofomoka, ano, sichikhal...\n",
       "                              ...                        \n",
       "2051    [kanyongolo, wapempha, oyimira, milandu, atsat...\n",
       "2052    [amandimenya, zikomo, gogo, ndine, mtsikana, z...\n",
       "2053    [apolisi, athotha, gulu, myp, asilikali, gulu,...\n",
       "2054    [mwambo, ukwati, chitonga, mtundu, wina, uliwo...\n",
       "2055    [mwapasa, autsa, mapiri, kusamvana, pakati, ap...\n",
       "Name: Text, Length: 2056, dtype: object"
      ]
     },
     "execution_count": 24,
     "metadata": {},
     "output_type": "execute_result"
    }
   ],
   "source": [
    "# Storing the entire training text in a list\n",
    "# text = list(all_data.Text.values)\n",
    "# # Calling our overwritten Count vectorizer\n",
    "# tf_vectorizer = LemmaCountVectorizer(max_df=0.95, \n",
    "#                                      min_df=2,\n",
    "#                                      stop_words='english',\n",
    "#                                      decode_error='ignore')\n",
    "# tf = tf_vectorizer.fit_transform(text)\n",
    "all_data = pd.concat([train[['ID', 'Text']], test[['ID', 'Text']]], axis = 0, ignore_index = True )\n",
    "import re\n",
    "def clean_str(string):\n",
    "    \"\"\"\n",
    "    Tokenization/string cleaning for all datasets except for SST.\n",
    "    Every dataset is lower cased except for TREC\n",
    "    \"\"\"\n",
    "    string = re.sub(r\"[^A-Za-z0-9(),!?\\'\\`]\", \" \", string)     \n",
    "    string = re.sub(r\",\", \" \", string) \n",
    "    string = re.sub(r\"!\", \" \", string) \n",
    "    string = re.sub(r\"\\(\", \" \", string) \n",
    "    string = re.sub(r\"\\)\", \" \", string) \n",
    "    string = re.sub(r\"\\?\", \" \", string) \n",
    "    string = re.sub(r\"\\s{2,}\", \" \", string)   \n",
    "    string = re.sub(\" \\d+\", \" \", string)\n",
    "    return  string.strip().lower()\n",
    "all_data['Text'] = all_data.Text.apply(lambda x: clean_str(x))\n",
    "print('Removing stop words')\n",
    "import tqdm\n",
    "\n",
    "all_data['Text'].apply(lambda x: [item for item in x.split() if item not in stopwords]) \n"
   ]
  },
  {
   "cell_type": "code",
   "execution_count": 28,
   "metadata": {},
   "outputs": [
    {
     "data": {
      "text/plain": [
       "TfidfVectorizer()"
      ]
     },
     "execution_count": 28,
     "metadata": {},
     "output_type": "execute_result"
    }
   ],
   "source": [
    "# all_data['Text'][0]\n",
    "from sklearn.feature_extraction.text import TfidfVectorizer\n",
    "tf_vectorizer = TfidfVectorizer()\n",
    "tf_vectorizer.fit(all_data.Text)"
   ]
  },
  {
   "cell_type": "code",
   "execution_count": 30,
   "metadata": {},
   "outputs": [],
   "source": [
    "tf = tf_vectorizer.transform(all_data.Text)"
   ]
  },
  {
   "cell_type": "markdown",
   "metadata": {
    "_cell_guid": "bdde4aac-a975-4429-ae9d-c93ec0692f09",
    "_uuid": "c50a9903005de438405ee583ddee2882c5756e68"
   },
   "source": [
    "**Revisiting our Term frequencies**\n",
    "\n",
    "Having implemented our lemmatized count vectorizer, let us revist the plots for the term frquencies of the top 50 words (by frequency). As you can see from the plot, all our prior preprocessing efforts have not gone to waste. With the removal of stopwords, the remaining words seem much more meaningful where you can see that all the stopwords in the earlier term frequency plot "
   ]
  },
  {
   "cell_type": "code",
   "execution_count": 31,
   "metadata": {
    "_cell_guid": "d7c8263b-1161-4648-82d3-a72b012712d9",
    "_kg_hide-input": true,
    "_uuid": "2ca4b9012ee62e9a87623ea0737f1ec556fcfa91"
   },
   "outputs": [
    {
     "data": {
      "application/vnd.plotly.v1+json": {
       "config": {
        "linkText": "Export to plot.ly",
        "plotlyServerURL": "https://plot.ly",
        "showLink": false
       },
       "data": [
        {
         "marker": {
          "color": [
           197.58685482877965,
           137.85006047707236,
           104.82066152431625,
           82.14163101730603,
           79.21741283275517,
           78.6680098788167,
           78.089070088257,
           68.69537372520215,
           59.99390412241813,
           57.03881091052137,
           52.58299117409567,
           51.94526292490786,
           51.89214254210574,
           50.523642886056486,
           50.48425662641871,
           46.81198823893893,
           45.90188120602006,
           42.803330047824666,
           41.74733712811076,
           41.64125864562951,
           38.96200921252531,
           38.8764221797023,
           38.871436448771014,
           38.74707233546808,
           37.48705569299898,
           36.83584665670905,
           36.82954579048977,
           35.52334011203003,
           34.40010330919624,
           33.890597284605384,
           32.93422854409072,
           32.54985946043053,
           30.250254568068016,
           29.6713491002477,
           29.38700081713339,
           27.91567859981318,
           27.8249359395922,
           27.256085661840608,
           26.762468993977865,
           26.673929306172738,
           26.401844934918476,
           26.303167393625277,
           26.207245237864136,
           26.177517430852937,
           26.14713474729214,
           26.095865354663875,
           25.937445455364312,
           25.758458986671364,
           25.707361200552814,
           25.701693590907144
          ],
          "colorscale": [
           [
            0,
            "rgb(0,0,131)"
           ],
           [
            0.2,
            "rgb(0,60,170)"
           ],
           [
            0.4,
            "rgb(5,255,255)"
           ],
           [
            0.6,
            "rgb(255,255,0)"
           ],
           [
            0.8,
            "rgb(250,0,0)"
           ],
           [
            1,
            "rgb(128,0,0)"
           ]
          ]
         },
         "text": "Word counts",
         "type": "bar",
         "x": [
          "ndi",
          "kuti",
          "wa",
          "anthu",
          "pa",
          "ya",
          "la",
          "ku",
          "ndipo",
          "za",
          "ntchito",
          "kwa",
          "cha",
          "omwe",
          "koma",
          "boma",
          "adati",
          "komanso",
          "chifukwa",
          "mu",
          "adatero",
          "zomwe",
          "dziko",
          "ena",
          "iye",
          "wati",
          "mdziko",
          "papa",
          "ngati",
          "amene",
          "bungwe",
          "mwa",
          "muno",
          "ndalama",
          "izi",
          "ati",
          "chaka",
          "apolisi",
          "pomwe",
          "lino",
          "ali",
          "malamulo",
          "mboma",
          "mpingo",
          "malawi",
          "zaka",
          "ana",
          "ndiye",
          "yemwe",
          "yomwe"
         ],
         "y": [
          197.58685482877965,
          137.85006047707236,
          104.82066152431625,
          82.14163101730603,
          79.21741283275517,
          78.6680098788167,
          78.089070088257,
          68.69537372520215,
          59.99390412241813,
          57.03881091052137,
          52.58299117409567,
          51.94526292490786,
          51.89214254210574,
          50.523642886056486,
          50.48425662641871,
          46.81198823893893,
          45.90188120602006,
          42.803330047824666,
          41.74733712811076,
          41.64125864562951,
          38.96200921252531,
          38.8764221797023,
          38.871436448771014,
          38.74707233546808,
          37.48705569299898,
          36.83584665670905,
          36.82954579048977,
          35.52334011203003,
          34.40010330919624,
          33.890597284605384,
          32.93422854409072,
          32.54985946043053,
          30.250254568068016,
          29.6713491002477,
          29.38700081713339,
          27.91567859981318,
          27.8249359395922,
          27.256085661840608,
          26.762468993977865,
          26.673929306172738,
          26.401844934918476,
          26.303167393625277,
          26.207245237864136,
          26.177517430852937,
          26.14713474729214,
          26.095865354663875,
          25.937445455364312,
          25.758458986671364,
          25.707361200552814,
          25.701693590907144
         ]
        }
       ],
       "layout": {
        "template": {
         "data": {
          "bar": [
           {
            "error_x": {
             "color": "#2a3f5f"
            },
            "error_y": {
             "color": "#2a3f5f"
            },
            "marker": {
             "line": {
              "color": "#E5ECF6",
              "width": 0.5
             }
            },
            "type": "bar"
           }
          ],
          "barpolar": [
           {
            "marker": {
             "line": {
              "color": "#E5ECF6",
              "width": 0.5
             }
            },
            "type": "barpolar"
           }
          ],
          "carpet": [
           {
            "aaxis": {
             "endlinecolor": "#2a3f5f",
             "gridcolor": "white",
             "linecolor": "white",
             "minorgridcolor": "white",
             "startlinecolor": "#2a3f5f"
            },
            "baxis": {
             "endlinecolor": "#2a3f5f",
             "gridcolor": "white",
             "linecolor": "white",
             "minorgridcolor": "white",
             "startlinecolor": "#2a3f5f"
            },
            "type": "carpet"
           }
          ],
          "choropleth": [
           {
            "colorbar": {
             "outlinewidth": 0,
             "ticks": ""
            },
            "type": "choropleth"
           }
          ],
          "contour": [
           {
            "colorbar": {
             "outlinewidth": 0,
             "ticks": ""
            },
            "colorscale": [
             [
              0,
              "#0d0887"
             ],
             [
              0.1111111111111111,
              "#46039f"
             ],
             [
              0.2222222222222222,
              "#7201a8"
             ],
             [
              0.3333333333333333,
              "#9c179e"
             ],
             [
              0.4444444444444444,
              "#bd3786"
             ],
             [
              0.5555555555555556,
              "#d8576b"
             ],
             [
              0.6666666666666666,
              "#ed7953"
             ],
             [
              0.7777777777777778,
              "#fb9f3a"
             ],
             [
              0.8888888888888888,
              "#fdca26"
             ],
             [
              1,
              "#f0f921"
             ]
            ],
            "type": "contour"
           }
          ],
          "contourcarpet": [
           {
            "colorbar": {
             "outlinewidth": 0,
             "ticks": ""
            },
            "type": "contourcarpet"
           }
          ],
          "heatmap": [
           {
            "colorbar": {
             "outlinewidth": 0,
             "ticks": ""
            },
            "colorscale": [
             [
              0,
              "#0d0887"
             ],
             [
              0.1111111111111111,
              "#46039f"
             ],
             [
              0.2222222222222222,
              "#7201a8"
             ],
             [
              0.3333333333333333,
              "#9c179e"
             ],
             [
              0.4444444444444444,
              "#bd3786"
             ],
             [
              0.5555555555555556,
              "#d8576b"
             ],
             [
              0.6666666666666666,
              "#ed7953"
             ],
             [
              0.7777777777777778,
              "#fb9f3a"
             ],
             [
              0.8888888888888888,
              "#fdca26"
             ],
             [
              1,
              "#f0f921"
             ]
            ],
            "type": "heatmap"
           }
          ],
          "heatmapgl": [
           {
            "colorbar": {
             "outlinewidth": 0,
             "ticks": ""
            },
            "colorscale": [
             [
              0,
              "#0d0887"
             ],
             [
              0.1111111111111111,
              "#46039f"
             ],
             [
              0.2222222222222222,
              "#7201a8"
             ],
             [
              0.3333333333333333,
              "#9c179e"
             ],
             [
              0.4444444444444444,
              "#bd3786"
             ],
             [
              0.5555555555555556,
              "#d8576b"
             ],
             [
              0.6666666666666666,
              "#ed7953"
             ],
             [
              0.7777777777777778,
              "#fb9f3a"
             ],
             [
              0.8888888888888888,
              "#fdca26"
             ],
             [
              1,
              "#f0f921"
             ]
            ],
            "type": "heatmapgl"
           }
          ],
          "histogram": [
           {
            "marker": {
             "colorbar": {
              "outlinewidth": 0,
              "ticks": ""
             }
            },
            "type": "histogram"
           }
          ],
          "histogram2d": [
           {
            "colorbar": {
             "outlinewidth": 0,
             "ticks": ""
            },
            "colorscale": [
             [
              0,
              "#0d0887"
             ],
             [
              0.1111111111111111,
              "#46039f"
             ],
             [
              0.2222222222222222,
              "#7201a8"
             ],
             [
              0.3333333333333333,
              "#9c179e"
             ],
             [
              0.4444444444444444,
              "#bd3786"
             ],
             [
              0.5555555555555556,
              "#d8576b"
             ],
             [
              0.6666666666666666,
              "#ed7953"
             ],
             [
              0.7777777777777778,
              "#fb9f3a"
             ],
             [
              0.8888888888888888,
              "#fdca26"
             ],
             [
              1,
              "#f0f921"
             ]
            ],
            "type": "histogram2d"
           }
          ],
          "histogram2dcontour": [
           {
            "colorbar": {
             "outlinewidth": 0,
             "ticks": ""
            },
            "colorscale": [
             [
              0,
              "#0d0887"
             ],
             [
              0.1111111111111111,
              "#46039f"
             ],
             [
              0.2222222222222222,
              "#7201a8"
             ],
             [
              0.3333333333333333,
              "#9c179e"
             ],
             [
              0.4444444444444444,
              "#bd3786"
             ],
             [
              0.5555555555555556,
              "#d8576b"
             ],
             [
              0.6666666666666666,
              "#ed7953"
             ],
             [
              0.7777777777777778,
              "#fb9f3a"
             ],
             [
              0.8888888888888888,
              "#fdca26"
             ],
             [
              1,
              "#f0f921"
             ]
            ],
            "type": "histogram2dcontour"
           }
          ],
          "mesh3d": [
           {
            "colorbar": {
             "outlinewidth": 0,
             "ticks": ""
            },
            "type": "mesh3d"
           }
          ],
          "parcoords": [
           {
            "line": {
             "colorbar": {
              "outlinewidth": 0,
              "ticks": ""
             }
            },
            "type": "parcoords"
           }
          ],
          "pie": [
           {
            "automargin": true,
            "type": "pie"
           }
          ],
          "scatter": [
           {
            "marker": {
             "colorbar": {
              "outlinewidth": 0,
              "ticks": ""
             }
            },
            "type": "scatter"
           }
          ],
          "scatter3d": [
           {
            "line": {
             "colorbar": {
              "outlinewidth": 0,
              "ticks": ""
             }
            },
            "marker": {
             "colorbar": {
              "outlinewidth": 0,
              "ticks": ""
             }
            },
            "type": "scatter3d"
           }
          ],
          "scattercarpet": [
           {
            "marker": {
             "colorbar": {
              "outlinewidth": 0,
              "ticks": ""
             }
            },
            "type": "scattercarpet"
           }
          ],
          "scattergeo": [
           {
            "marker": {
             "colorbar": {
              "outlinewidth": 0,
              "ticks": ""
             }
            },
            "type": "scattergeo"
           }
          ],
          "scattergl": [
           {
            "marker": {
             "colorbar": {
              "outlinewidth": 0,
              "ticks": ""
             }
            },
            "type": "scattergl"
           }
          ],
          "scattermapbox": [
           {
            "marker": {
             "colorbar": {
              "outlinewidth": 0,
              "ticks": ""
             }
            },
            "type": "scattermapbox"
           }
          ],
          "scatterpolar": [
           {
            "marker": {
             "colorbar": {
              "outlinewidth": 0,
              "ticks": ""
             }
            },
            "type": "scatterpolar"
           }
          ],
          "scatterpolargl": [
           {
            "marker": {
             "colorbar": {
              "outlinewidth": 0,
              "ticks": ""
             }
            },
            "type": "scatterpolargl"
           }
          ],
          "scatterternary": [
           {
            "marker": {
             "colorbar": {
              "outlinewidth": 0,
              "ticks": ""
             }
            },
            "type": "scatterternary"
           }
          ],
          "surface": [
           {
            "colorbar": {
             "outlinewidth": 0,
             "ticks": ""
            },
            "colorscale": [
             [
              0,
              "#0d0887"
             ],
             [
              0.1111111111111111,
              "#46039f"
             ],
             [
              0.2222222222222222,
              "#7201a8"
             ],
             [
              0.3333333333333333,
              "#9c179e"
             ],
             [
              0.4444444444444444,
              "#bd3786"
             ],
             [
              0.5555555555555556,
              "#d8576b"
             ],
             [
              0.6666666666666666,
              "#ed7953"
             ],
             [
              0.7777777777777778,
              "#fb9f3a"
             ],
             [
              0.8888888888888888,
              "#fdca26"
             ],
             [
              1,
              "#f0f921"
             ]
            ],
            "type": "surface"
           }
          ],
          "table": [
           {
            "cells": {
             "fill": {
              "color": "#EBF0F8"
             },
             "line": {
              "color": "white"
             }
            },
            "header": {
             "fill": {
              "color": "#C8D4E3"
             },
             "line": {
              "color": "white"
             }
            },
            "type": "table"
           }
          ]
         },
         "layout": {
          "annotationdefaults": {
           "arrowcolor": "#2a3f5f",
           "arrowhead": 0,
           "arrowwidth": 1
          },
          "coloraxis": {
           "colorbar": {
            "outlinewidth": 0,
            "ticks": ""
           }
          },
          "colorscale": {
           "diverging": [
            [
             0,
             "#8e0152"
            ],
            [
             0.1,
             "#c51b7d"
            ],
            [
             0.2,
             "#de77ae"
            ],
            [
             0.3,
             "#f1b6da"
            ],
            [
             0.4,
             "#fde0ef"
            ],
            [
             0.5,
             "#f7f7f7"
            ],
            [
             0.6,
             "#e6f5d0"
            ],
            [
             0.7,
             "#b8e186"
            ],
            [
             0.8,
             "#7fbc41"
            ],
            [
             0.9,
             "#4d9221"
            ],
            [
             1,
             "#276419"
            ]
           ],
           "sequential": [
            [
             0,
             "#0d0887"
            ],
            [
             0.1111111111111111,
             "#46039f"
            ],
            [
             0.2222222222222222,
             "#7201a8"
            ],
            [
             0.3333333333333333,
             "#9c179e"
            ],
            [
             0.4444444444444444,
             "#bd3786"
            ],
            [
             0.5555555555555556,
             "#d8576b"
            ],
            [
             0.6666666666666666,
             "#ed7953"
            ],
            [
             0.7777777777777778,
             "#fb9f3a"
            ],
            [
             0.8888888888888888,
             "#fdca26"
            ],
            [
             1,
             "#f0f921"
            ]
           ],
           "sequentialminus": [
            [
             0,
             "#0d0887"
            ],
            [
             0.1111111111111111,
             "#46039f"
            ],
            [
             0.2222222222222222,
             "#7201a8"
            ],
            [
             0.3333333333333333,
             "#9c179e"
            ],
            [
             0.4444444444444444,
             "#bd3786"
            ],
            [
             0.5555555555555556,
             "#d8576b"
            ],
            [
             0.6666666666666666,
             "#ed7953"
            ],
            [
             0.7777777777777778,
             "#fb9f3a"
            ],
            [
             0.8888888888888888,
             "#fdca26"
            ],
            [
             1,
             "#f0f921"
            ]
           ]
          },
          "colorway": [
           "#636efa",
           "#EF553B",
           "#00cc96",
           "#ab63fa",
           "#FFA15A",
           "#19d3f3",
           "#FF6692",
           "#B6E880",
           "#FF97FF",
           "#FECB52"
          ],
          "font": {
           "color": "#2a3f5f"
          },
          "geo": {
           "bgcolor": "white",
           "lakecolor": "white",
           "landcolor": "#E5ECF6",
           "showlakes": true,
           "showland": true,
           "subunitcolor": "white"
          },
          "hoverlabel": {
           "align": "left"
          },
          "hovermode": "closest",
          "mapbox": {
           "style": "light"
          },
          "paper_bgcolor": "white",
          "plot_bgcolor": "#E5ECF6",
          "polar": {
           "angularaxis": {
            "gridcolor": "white",
            "linecolor": "white",
            "ticks": ""
           },
           "bgcolor": "#E5ECF6",
           "radialaxis": {
            "gridcolor": "white",
            "linecolor": "white",
            "ticks": ""
           }
          },
          "scene": {
           "xaxis": {
            "backgroundcolor": "#E5ECF6",
            "gridcolor": "white",
            "gridwidth": 2,
            "linecolor": "white",
            "showbackground": true,
            "ticks": "",
            "zerolinecolor": "white"
           },
           "yaxis": {
            "backgroundcolor": "#E5ECF6",
            "gridcolor": "white",
            "gridwidth": 2,
            "linecolor": "white",
            "showbackground": true,
            "ticks": "",
            "zerolinecolor": "white"
           },
           "zaxis": {
            "backgroundcolor": "#E5ECF6",
            "gridcolor": "white",
            "gridwidth": 2,
            "linecolor": "white",
            "showbackground": true,
            "ticks": "",
            "zerolinecolor": "white"
           }
          },
          "shapedefaults": {
           "line": {
            "color": "#2a3f5f"
           }
          },
          "ternary": {
           "aaxis": {
            "gridcolor": "white",
            "linecolor": "white",
            "ticks": ""
           },
           "baxis": {
            "gridcolor": "white",
            "linecolor": "white",
            "ticks": ""
           },
           "bgcolor": "#E5ECF6",
           "caxis": {
            "gridcolor": "white",
            "linecolor": "white",
            "ticks": ""
           }
          },
          "title": {
           "x": 0.05
          },
          "xaxis": {
           "automargin": true,
           "gridcolor": "white",
           "linecolor": "white",
           "ticks": "",
           "title": {
            "standoff": 15
           },
           "zerolinecolor": "white",
           "zerolinewidth": 2
          },
          "yaxis": {
           "automargin": true,
           "gridcolor": "white",
           "linecolor": "white",
           "ticks": "",
           "title": {
            "standoff": 15
           },
           "zerolinecolor": "white",
           "zerolinewidth": 2
          }
         }
        },
        "title": {
         "text": "Top 50 Word frequencies after Preprocessing"
        }
       }
      },
      "text/html": [
       "<div>\n",
       "        \n",
       "        \n",
       "            <div id=\"34bf2e16-146a-421e-a4bd-413392ea715a\" class=\"plotly-graph-div\" style=\"height:525px; width:100%;\"></div>\n",
       "            <script type=\"text/javascript\">\n",
       "                require([\"plotly\"], function(Plotly) {\n",
       "                    window.PLOTLYENV=window.PLOTLYENV || {};\n",
       "                    \n",
       "                if (document.getElementById(\"34bf2e16-146a-421e-a4bd-413392ea715a\")) {\n",
       "                    Plotly.newPlot(\n",
       "                        '34bf2e16-146a-421e-a4bd-413392ea715a',\n",
       "                        [{\"marker\": {\"color\": [197.58685482877965, 137.85006047707236, 104.82066152431625, 82.14163101730603, 79.21741283275517, 78.6680098788167, 78.089070088257, 68.69537372520215, 59.99390412241813, 57.03881091052137, 52.58299117409567, 51.94526292490786, 51.89214254210574, 50.523642886056486, 50.48425662641871, 46.81198823893893, 45.90188120602006, 42.803330047824666, 41.74733712811076, 41.64125864562951, 38.96200921252531, 38.8764221797023, 38.871436448771014, 38.74707233546808, 37.48705569299898, 36.83584665670905, 36.82954579048977, 35.52334011203003, 34.40010330919624, 33.890597284605384, 32.93422854409072, 32.54985946043053, 30.250254568068016, 29.6713491002477, 29.38700081713339, 27.91567859981318, 27.8249359395922, 27.256085661840608, 26.762468993977865, 26.673929306172738, 26.401844934918476, 26.303167393625277, 26.207245237864136, 26.177517430852937, 26.14713474729214, 26.095865354663875, 25.937445455364312, 25.758458986671364, 25.707361200552814, 25.701693590907144], \"colorscale\": [[0.0, \"rgb(0,0,131)\"], [0.2, \"rgb(0,60,170)\"], [0.4, \"rgb(5,255,255)\"], [0.6, \"rgb(255,255,0)\"], [0.8, \"rgb(250,0,0)\"], [1.0, \"rgb(128,0,0)\"]]}, \"text\": \"Word counts\", \"type\": \"bar\", \"x\": [\"ndi\", \"kuti\", \"wa\", \"anthu\", \"pa\", \"ya\", \"la\", \"ku\", \"ndipo\", \"za\", \"ntchito\", \"kwa\", \"cha\", \"omwe\", \"koma\", \"boma\", \"adati\", \"komanso\", \"chifukwa\", \"mu\", \"adatero\", \"zomwe\", \"dziko\", \"ena\", \"iye\", \"wati\", \"mdziko\", \"papa\", \"ngati\", \"amene\", \"bungwe\", \"mwa\", \"muno\", \"ndalama\", \"izi\", \"ati\", \"chaka\", \"apolisi\", \"pomwe\", \"lino\", \"ali\", \"malamulo\", \"mboma\", \"mpingo\", \"malawi\", \"zaka\", \"ana\", \"ndiye\", \"yemwe\", \"yomwe\"], \"y\": [197.58685482877965, 137.85006047707236, 104.82066152431625, 82.14163101730603, 79.21741283275517, 78.6680098788167, 78.089070088257, 68.69537372520215, 59.99390412241813, 57.03881091052137, 52.58299117409567, 51.94526292490786, 51.89214254210574, 50.523642886056486, 50.48425662641871, 46.81198823893893, 45.90188120602006, 42.803330047824666, 41.74733712811076, 41.64125864562951, 38.96200921252531, 38.8764221797023, 38.871436448771014, 38.74707233546808, 37.48705569299898, 36.83584665670905, 36.82954579048977, 35.52334011203003, 34.40010330919624, 33.890597284605384, 32.93422854409072, 32.54985946043053, 30.250254568068016, 29.6713491002477, 29.38700081713339, 27.91567859981318, 27.8249359395922, 27.256085661840608, 26.762468993977865, 26.673929306172738, 26.401844934918476, 26.303167393625277, 26.207245237864136, 26.177517430852937, 26.14713474729214, 26.095865354663875, 25.937445455364312, 25.758458986671364, 25.707361200552814, 25.701693590907144]}],\n",
       "                        {\"template\": {\"data\": {\"bar\": [{\"error_x\": {\"color\": \"#2a3f5f\"}, \"error_y\": {\"color\": \"#2a3f5f\"}, \"marker\": {\"line\": {\"color\": \"#E5ECF6\", \"width\": 0.5}}, \"type\": \"bar\"}], \"barpolar\": [{\"marker\": {\"line\": {\"color\": \"#E5ECF6\", \"width\": 0.5}}, \"type\": \"barpolar\"}], \"carpet\": [{\"aaxis\": {\"endlinecolor\": \"#2a3f5f\", \"gridcolor\": \"white\", \"linecolor\": \"white\", \"minorgridcolor\": \"white\", \"startlinecolor\": \"#2a3f5f\"}, \"baxis\": {\"endlinecolor\": \"#2a3f5f\", \"gridcolor\": \"white\", \"linecolor\": \"white\", \"minorgridcolor\": \"white\", \"startlinecolor\": \"#2a3f5f\"}, \"type\": \"carpet\"}], \"choropleth\": [{\"colorbar\": {\"outlinewidth\": 0, \"ticks\": \"\"}, \"type\": \"choropleth\"}], \"contour\": [{\"colorbar\": {\"outlinewidth\": 0, \"ticks\": \"\"}, \"colorscale\": [[0.0, \"#0d0887\"], [0.1111111111111111, \"#46039f\"], [0.2222222222222222, \"#7201a8\"], [0.3333333333333333, \"#9c179e\"], [0.4444444444444444, \"#bd3786\"], [0.5555555555555556, \"#d8576b\"], [0.6666666666666666, \"#ed7953\"], [0.7777777777777778, \"#fb9f3a\"], [0.8888888888888888, \"#fdca26\"], [1.0, \"#f0f921\"]], \"type\": \"contour\"}], \"contourcarpet\": [{\"colorbar\": {\"outlinewidth\": 0, \"ticks\": \"\"}, \"type\": \"contourcarpet\"}], \"heatmap\": [{\"colorbar\": {\"outlinewidth\": 0, \"ticks\": \"\"}, \"colorscale\": [[0.0, \"#0d0887\"], [0.1111111111111111, \"#46039f\"], [0.2222222222222222, \"#7201a8\"], [0.3333333333333333, \"#9c179e\"], [0.4444444444444444, \"#bd3786\"], [0.5555555555555556, \"#d8576b\"], [0.6666666666666666, \"#ed7953\"], [0.7777777777777778, \"#fb9f3a\"], [0.8888888888888888, \"#fdca26\"], [1.0, \"#f0f921\"]], \"type\": \"heatmap\"}], \"heatmapgl\": [{\"colorbar\": {\"outlinewidth\": 0, \"ticks\": \"\"}, \"colorscale\": [[0.0, \"#0d0887\"], [0.1111111111111111, \"#46039f\"], [0.2222222222222222, \"#7201a8\"], [0.3333333333333333, \"#9c179e\"], [0.4444444444444444, \"#bd3786\"], [0.5555555555555556, \"#d8576b\"], [0.6666666666666666, \"#ed7953\"], [0.7777777777777778, \"#fb9f3a\"], [0.8888888888888888, \"#fdca26\"], [1.0, \"#f0f921\"]], \"type\": \"heatmapgl\"}], \"histogram\": [{\"marker\": {\"colorbar\": {\"outlinewidth\": 0, \"ticks\": \"\"}}, \"type\": \"histogram\"}], \"histogram2d\": [{\"colorbar\": {\"outlinewidth\": 0, \"ticks\": \"\"}, \"colorscale\": [[0.0, \"#0d0887\"], [0.1111111111111111, \"#46039f\"], [0.2222222222222222, \"#7201a8\"], [0.3333333333333333, \"#9c179e\"], [0.4444444444444444, \"#bd3786\"], [0.5555555555555556, \"#d8576b\"], [0.6666666666666666, \"#ed7953\"], [0.7777777777777778, \"#fb9f3a\"], [0.8888888888888888, \"#fdca26\"], [1.0, \"#f0f921\"]], \"type\": \"histogram2d\"}], \"histogram2dcontour\": [{\"colorbar\": {\"outlinewidth\": 0, \"ticks\": \"\"}, \"colorscale\": [[0.0, \"#0d0887\"], [0.1111111111111111, \"#46039f\"], [0.2222222222222222, \"#7201a8\"], [0.3333333333333333, \"#9c179e\"], [0.4444444444444444, \"#bd3786\"], [0.5555555555555556, \"#d8576b\"], [0.6666666666666666, \"#ed7953\"], [0.7777777777777778, \"#fb9f3a\"], [0.8888888888888888, \"#fdca26\"], [1.0, \"#f0f921\"]], \"type\": \"histogram2dcontour\"}], \"mesh3d\": [{\"colorbar\": {\"outlinewidth\": 0, \"ticks\": \"\"}, \"type\": \"mesh3d\"}], \"parcoords\": [{\"line\": {\"colorbar\": {\"outlinewidth\": 0, \"ticks\": \"\"}}, \"type\": \"parcoords\"}], \"pie\": [{\"automargin\": true, \"type\": \"pie\"}], \"scatter\": [{\"marker\": {\"colorbar\": {\"outlinewidth\": 0, \"ticks\": \"\"}}, \"type\": \"scatter\"}], \"scatter3d\": [{\"line\": {\"colorbar\": {\"outlinewidth\": 0, \"ticks\": \"\"}}, \"marker\": {\"colorbar\": {\"outlinewidth\": 0, \"ticks\": \"\"}}, \"type\": \"scatter3d\"}], \"scattercarpet\": [{\"marker\": {\"colorbar\": {\"outlinewidth\": 0, \"ticks\": \"\"}}, \"type\": \"scattercarpet\"}], \"scattergeo\": [{\"marker\": {\"colorbar\": {\"outlinewidth\": 0, \"ticks\": \"\"}}, \"type\": \"scattergeo\"}], \"scattergl\": [{\"marker\": {\"colorbar\": {\"outlinewidth\": 0, \"ticks\": \"\"}}, \"type\": \"scattergl\"}], \"scattermapbox\": [{\"marker\": {\"colorbar\": {\"outlinewidth\": 0, \"ticks\": \"\"}}, \"type\": \"scattermapbox\"}], \"scatterpolar\": [{\"marker\": {\"colorbar\": {\"outlinewidth\": 0, \"ticks\": \"\"}}, \"type\": \"scatterpolar\"}], \"scatterpolargl\": [{\"marker\": {\"colorbar\": {\"outlinewidth\": 0, \"ticks\": \"\"}}, \"type\": \"scatterpolargl\"}], \"scatterternary\": [{\"marker\": {\"colorbar\": {\"outlinewidth\": 0, \"ticks\": \"\"}}, \"type\": \"scatterternary\"}], \"surface\": [{\"colorbar\": {\"outlinewidth\": 0, \"ticks\": \"\"}, \"colorscale\": [[0.0, \"#0d0887\"], [0.1111111111111111, \"#46039f\"], [0.2222222222222222, \"#7201a8\"], [0.3333333333333333, \"#9c179e\"], [0.4444444444444444, \"#bd3786\"], [0.5555555555555556, \"#d8576b\"], [0.6666666666666666, \"#ed7953\"], [0.7777777777777778, \"#fb9f3a\"], [0.8888888888888888, \"#fdca26\"], [1.0, \"#f0f921\"]], \"type\": \"surface\"}], \"table\": [{\"cells\": {\"fill\": {\"color\": \"#EBF0F8\"}, \"line\": {\"color\": \"white\"}}, \"header\": {\"fill\": {\"color\": \"#C8D4E3\"}, \"line\": {\"color\": \"white\"}}, \"type\": \"table\"}]}, \"layout\": {\"annotationdefaults\": {\"arrowcolor\": \"#2a3f5f\", \"arrowhead\": 0, \"arrowwidth\": 1}, \"coloraxis\": {\"colorbar\": {\"outlinewidth\": 0, \"ticks\": \"\"}}, \"colorscale\": {\"diverging\": [[0, \"#8e0152\"], [0.1, \"#c51b7d\"], [0.2, \"#de77ae\"], [0.3, \"#f1b6da\"], [0.4, \"#fde0ef\"], [0.5, \"#f7f7f7\"], [0.6, \"#e6f5d0\"], [0.7, \"#b8e186\"], [0.8, \"#7fbc41\"], [0.9, \"#4d9221\"], [1, \"#276419\"]], \"sequential\": [[0.0, \"#0d0887\"], [0.1111111111111111, \"#46039f\"], [0.2222222222222222, \"#7201a8\"], [0.3333333333333333, \"#9c179e\"], [0.4444444444444444, \"#bd3786\"], [0.5555555555555556, \"#d8576b\"], [0.6666666666666666, \"#ed7953\"], [0.7777777777777778, \"#fb9f3a\"], [0.8888888888888888, \"#fdca26\"], [1.0, \"#f0f921\"]], \"sequentialminus\": [[0.0, \"#0d0887\"], [0.1111111111111111, \"#46039f\"], [0.2222222222222222, \"#7201a8\"], [0.3333333333333333, \"#9c179e\"], [0.4444444444444444, \"#bd3786\"], [0.5555555555555556, \"#d8576b\"], [0.6666666666666666, \"#ed7953\"], [0.7777777777777778, \"#fb9f3a\"], [0.8888888888888888, \"#fdca26\"], [1.0, \"#f0f921\"]]}, \"colorway\": [\"#636efa\", \"#EF553B\", \"#00cc96\", \"#ab63fa\", \"#FFA15A\", \"#19d3f3\", \"#FF6692\", \"#B6E880\", \"#FF97FF\", \"#FECB52\"], \"font\": {\"color\": \"#2a3f5f\"}, \"geo\": {\"bgcolor\": \"white\", \"lakecolor\": \"white\", \"landcolor\": \"#E5ECF6\", \"showlakes\": true, \"showland\": true, \"subunitcolor\": \"white\"}, \"hoverlabel\": {\"align\": \"left\"}, \"hovermode\": \"closest\", \"mapbox\": {\"style\": \"light\"}, \"paper_bgcolor\": \"white\", \"plot_bgcolor\": \"#E5ECF6\", \"polar\": {\"angularaxis\": {\"gridcolor\": \"white\", \"linecolor\": \"white\", \"ticks\": \"\"}, \"bgcolor\": \"#E5ECF6\", \"radialaxis\": {\"gridcolor\": \"white\", \"linecolor\": \"white\", \"ticks\": \"\"}}, \"scene\": {\"xaxis\": {\"backgroundcolor\": \"#E5ECF6\", \"gridcolor\": \"white\", \"gridwidth\": 2, \"linecolor\": \"white\", \"showbackground\": true, \"ticks\": \"\", \"zerolinecolor\": \"white\"}, \"yaxis\": {\"backgroundcolor\": \"#E5ECF6\", \"gridcolor\": \"white\", \"gridwidth\": 2, \"linecolor\": \"white\", \"showbackground\": true, \"ticks\": \"\", \"zerolinecolor\": \"white\"}, \"zaxis\": {\"backgroundcolor\": \"#E5ECF6\", \"gridcolor\": \"white\", \"gridwidth\": 2, \"linecolor\": \"white\", \"showbackground\": true, \"ticks\": \"\", \"zerolinecolor\": \"white\"}}, \"shapedefaults\": {\"line\": {\"color\": \"#2a3f5f\"}}, \"ternary\": {\"aaxis\": {\"gridcolor\": \"white\", \"linecolor\": \"white\", \"ticks\": \"\"}, \"baxis\": {\"gridcolor\": \"white\", \"linecolor\": \"white\", \"ticks\": \"\"}, \"bgcolor\": \"#E5ECF6\", \"caxis\": {\"gridcolor\": \"white\", \"linecolor\": \"white\", \"ticks\": \"\"}}, \"title\": {\"x\": 0.05}, \"xaxis\": {\"automargin\": true, \"gridcolor\": \"white\", \"linecolor\": \"white\", \"ticks\": \"\", \"title\": {\"standoff\": 15}, \"zerolinecolor\": \"white\", \"zerolinewidth\": 2}, \"yaxis\": {\"automargin\": true, \"gridcolor\": \"white\", \"linecolor\": \"white\", \"ticks\": \"\", \"title\": {\"standoff\": 15}, \"zerolinecolor\": \"white\", \"zerolinewidth\": 2}}}, \"title\": {\"text\": \"Top 50 Word frequencies after Preprocessing\"}},\n",
       "                        {\"responsive\": true}\n",
       "                    ).then(function(){\n",
       "                            \n",
       "var gd = document.getElementById('34bf2e16-146a-421e-a4bd-413392ea715a');\n",
       "var x = new MutationObserver(function (mutations, observer) {{\n",
       "        var display = window.getComputedStyle(gd).display;\n",
       "        if (!display || display === 'none') {{\n",
       "            console.log([gd, 'removed!']);\n",
       "            Plotly.purge(gd);\n",
       "            observer.disconnect();\n",
       "        }}\n",
       "}});\n",
       "\n",
       "// Listen for the removal of the full notebook cells\n",
       "var notebookContainer = gd.closest('#notebook-container');\n",
       "if (notebookContainer) {{\n",
       "    x.observe(notebookContainer, {childList: true});\n",
       "}}\n",
       "\n",
       "// Listen for the clearing of the current output cell\n",
       "var outputEl = gd.closest('.output');\n",
       "if (outputEl) {{\n",
       "    x.observe(outputEl, {childList: true});\n",
       "}}\n",
       "\n",
       "                        })\n",
       "                };\n",
       "                });\n",
       "            </script>\n",
       "        </div>"
      ]
     },
     "metadata": {},
     "output_type": "display_data"
    },
    {
     "data": {
      "application/vnd.plotly.v1+json": {
       "config": {
        "linkText": "Export to plot.ly",
        "plotlyServerURL": "https://plot.ly",
        "showLink": false
       },
       "data": [
        {
         "marker": {
          "color": [
           0.016014549040218883,
           0.016014549040218883,
           0.016014549040218883,
           0.016014549040218883,
           0.016014549040218883,
           0.016014549040218883,
           0.016014549040218883,
           0.016014549040218883,
           0.016014549040218883,
           0.016014549040218883,
           0.016014549040218883,
           0.016014549040218883,
           0.016014549040218883,
           0.016014549040218883,
           0.016014549040218883,
           0.016014549040218883,
           0.016014549040218883,
           0.016014549040218883,
           0.016014549040218883,
           0.016014549040218883,
           0.016014549040218883,
           0.016014549040218883,
           0.016014549040218883,
           0.016014549040218883,
           0.016014549040218883,
           0.016014549040218883,
           0.016014549040218883,
           0.016014549040218883,
           0.016014549040218883,
           0.016014549040218883,
           0.016014549040218883,
           0.016014549040218883,
           0.016014549040218883,
           0.016014549040218883,
           0.016014549040218883,
           0.016014549040218883,
           0.016014549040218883,
           0.016014549040218883,
           0.016014549040218883,
           0.016014549040218883,
           0.016014549040218883,
           0.016014549040218883,
           0.016014549040218883,
           0.016014549040218883,
           0.016014549040218883,
           0.016014549040218883,
           0.016014549040218883,
           0.016014549040218883,
           0.016014549040218883,
           0.016014549040218883,
           0.016014549040218883,
           0.016014549040218883,
           0.016014549040218883,
           0.016014549040218883,
           0.016014549040218883,
           0.016014549040218883,
           0.016014549040218883,
           0.016014549040218883,
           0.016014549040218883,
           0.016014549040218883,
           0.016014549040218883,
           0.016014549040218883,
           0.016014549040218883,
           0.016014549040218883,
           0.016014549040218883,
           0.016014549040218883,
           0.016014549040218883,
           0.016014549040218883,
           0.016014549040218883,
           0.016014549040218883,
           0.016014549040218883,
           0.016014549040218883,
           0.016014549040218883,
           0.016014549040218883,
           0.016014549040218883,
           0.016014549040218883,
           0.016014549040218883,
           0.016014549040218883,
           0.016014549040218883,
           0.016014549040218883,
           0.016014549040218883,
           0.016014549040218883,
           0.016014549040218883,
           0.016014549040218883,
           0.016014549040218883,
           0.016014549040218883,
           0.016014549040218883,
           0.016014549040218883,
           0.016014549040218883,
           0.016014549040218883,
           0.016014549040218883,
           0.016014549040218883,
           0.016014549040218883,
           0.016014549040218883,
           0.016014549040218883,
           0.016014549040218883,
           0.016014549040218883,
           0.016014549040218883,
           0.016014549040218883,
           0.016014549040218883
          ],
          "colorscale": [
           [
            0,
            "rgb(12,51,131)"
           ],
           [
            0.25,
            "rgb(10,136,186)"
           ],
           [
            0.5,
            "rgb(242,211,56)"
           ],
           [
            0.75,
            "rgb(242,143,56)"
           ],
           [
            1,
            "rgb(217,30,30)"
           ]
          ]
         },
         "text": "Word counts",
         "type": "bar",
         "x": [
          "flourished",
          "flown",
          "forces",
          "founding",
          "fury",
          "got",
          "governed",
          "grooming",
          "grossly",
          "guerrilla",
          "half",
          "happening",
          "hero",
          "hold",
          "honour",
          "humiliated",
          "hyperinflation",
          "installing",
          "interests",
          "invaded",
          "kenyas",
          "kept",
          "lancaster",
          "largest",
          "legacy",
          "less",
          "liberation",
          "madgen",
          "marked",
          "marred",
          "mast",
          "mellowed",
          "military",
          "militias",
          "morgan",
          "mostly",
          "motorcycles",
          "mutodi",
          "names",
          "negotiator",
          "negotiators",
          "nerve",
          "oppressive",
          "ousted",
          "overwhelming",
          "passion",
          "perceptions",
          "politician",
          "popular",
          "powerful",
          "praised",
          "primarily",
          "prime",
          "probably",
          "profile",
          "promising",
          "pushed",
          "quickly",
          "raids",
          "ramaphosa",
          "ran",
          "reaction",
          "recalled",
          "reform",
          "regard",
          "remembered",
          "replacing",
          "reports",
          "repression",
          "republics",
          "reputation",
          "resulted",
          "rival",
          "ruthless",
          "sad",
          "saddened",
          "sadness",
          "shabbiest",
          "shaping",
          "sharing",
          "shingai",
          "singapores",
          "skilled",
          "slid",
          "sorts",
          "soured",
          "stones",
          "strongman",
          "terror",
          "threats",
          "tool",
          "tractors",
          "tsvangirai",
          "utmost",
          "vicious",
          "walden",
          "whatever",
          "window",
          "zimbabweans",
          "zimbabwes"
         ],
         "y": [
          0.016014549040218883,
          0.016014549040218883,
          0.016014549040218883,
          0.016014549040218883,
          0.016014549040218883,
          0.016014549040218883,
          0.016014549040218883,
          0.016014549040218883,
          0.016014549040218883,
          0.016014549040218883,
          0.016014549040218883,
          0.016014549040218883,
          0.016014549040218883,
          0.016014549040218883,
          0.016014549040218883,
          0.016014549040218883,
          0.016014549040218883,
          0.016014549040218883,
          0.016014549040218883,
          0.016014549040218883,
          0.016014549040218883,
          0.016014549040218883,
          0.016014549040218883,
          0.016014549040218883,
          0.016014549040218883,
          0.016014549040218883,
          0.016014549040218883,
          0.016014549040218883,
          0.016014549040218883,
          0.016014549040218883,
          0.016014549040218883,
          0.016014549040218883,
          0.016014549040218883,
          0.016014549040218883,
          0.016014549040218883,
          0.016014549040218883,
          0.016014549040218883,
          0.016014549040218883,
          0.016014549040218883,
          0.016014549040218883,
          0.016014549040218883,
          0.016014549040218883,
          0.016014549040218883,
          0.016014549040218883,
          0.016014549040218883,
          0.016014549040218883,
          0.016014549040218883,
          0.016014549040218883,
          0.016014549040218883,
          0.016014549040218883,
          0.016014549040218883,
          0.016014549040218883,
          0.016014549040218883,
          0.016014549040218883,
          0.016014549040218883,
          0.016014549040218883,
          0.016014549040218883,
          0.016014549040218883,
          0.016014549040218883,
          0.016014549040218883,
          0.016014549040218883,
          0.016014549040218883,
          0.016014549040218883,
          0.016014549040218883,
          0.016014549040218883,
          0.016014549040218883,
          0.016014549040218883,
          0.016014549040218883,
          0.016014549040218883,
          0.016014549040218883,
          0.016014549040218883,
          0.016014549040218883,
          0.016014549040218883,
          0.016014549040218883,
          0.016014549040218883,
          0.016014549040218883,
          0.016014549040218883,
          0.016014549040218883,
          0.016014549040218883,
          0.016014549040218883,
          0.016014549040218883,
          0.016014549040218883,
          0.016014549040218883,
          0.016014549040218883,
          0.016014549040218883,
          0.016014549040218883,
          0.016014549040218883,
          0.016014549040218883,
          0.016014549040218883,
          0.016014549040218883,
          0.016014549040218883,
          0.016014549040218883,
          0.016014549040218883,
          0.016014549040218883,
          0.016014549040218883,
          0.016014549040218883,
          0.016014549040218883,
          0.016014549040218883,
          0.016014549040218883,
          0.016014549040218883
         ]
        }
       ],
       "layout": {
        "template": {
         "data": {
          "bar": [
           {
            "error_x": {
             "color": "#2a3f5f"
            },
            "error_y": {
             "color": "#2a3f5f"
            },
            "marker": {
             "line": {
              "color": "#E5ECF6",
              "width": 0.5
             }
            },
            "type": "bar"
           }
          ],
          "barpolar": [
           {
            "marker": {
             "line": {
              "color": "#E5ECF6",
              "width": 0.5
             }
            },
            "type": "barpolar"
           }
          ],
          "carpet": [
           {
            "aaxis": {
             "endlinecolor": "#2a3f5f",
             "gridcolor": "white",
             "linecolor": "white",
             "minorgridcolor": "white",
             "startlinecolor": "#2a3f5f"
            },
            "baxis": {
             "endlinecolor": "#2a3f5f",
             "gridcolor": "white",
             "linecolor": "white",
             "minorgridcolor": "white",
             "startlinecolor": "#2a3f5f"
            },
            "type": "carpet"
           }
          ],
          "choropleth": [
           {
            "colorbar": {
             "outlinewidth": 0,
             "ticks": ""
            },
            "type": "choropleth"
           }
          ],
          "contour": [
           {
            "colorbar": {
             "outlinewidth": 0,
             "ticks": ""
            },
            "colorscale": [
             [
              0,
              "#0d0887"
             ],
             [
              0.1111111111111111,
              "#46039f"
             ],
             [
              0.2222222222222222,
              "#7201a8"
             ],
             [
              0.3333333333333333,
              "#9c179e"
             ],
             [
              0.4444444444444444,
              "#bd3786"
             ],
             [
              0.5555555555555556,
              "#d8576b"
             ],
             [
              0.6666666666666666,
              "#ed7953"
             ],
             [
              0.7777777777777778,
              "#fb9f3a"
             ],
             [
              0.8888888888888888,
              "#fdca26"
             ],
             [
              1,
              "#f0f921"
             ]
            ],
            "type": "contour"
           }
          ],
          "contourcarpet": [
           {
            "colorbar": {
             "outlinewidth": 0,
             "ticks": ""
            },
            "type": "contourcarpet"
           }
          ],
          "heatmap": [
           {
            "colorbar": {
             "outlinewidth": 0,
             "ticks": ""
            },
            "colorscale": [
             [
              0,
              "#0d0887"
             ],
             [
              0.1111111111111111,
              "#46039f"
             ],
             [
              0.2222222222222222,
              "#7201a8"
             ],
             [
              0.3333333333333333,
              "#9c179e"
             ],
             [
              0.4444444444444444,
              "#bd3786"
             ],
             [
              0.5555555555555556,
              "#d8576b"
             ],
             [
              0.6666666666666666,
              "#ed7953"
             ],
             [
              0.7777777777777778,
              "#fb9f3a"
             ],
             [
              0.8888888888888888,
              "#fdca26"
             ],
             [
              1,
              "#f0f921"
             ]
            ],
            "type": "heatmap"
           }
          ],
          "heatmapgl": [
           {
            "colorbar": {
             "outlinewidth": 0,
             "ticks": ""
            },
            "colorscale": [
             [
              0,
              "#0d0887"
             ],
             [
              0.1111111111111111,
              "#46039f"
             ],
             [
              0.2222222222222222,
              "#7201a8"
             ],
             [
              0.3333333333333333,
              "#9c179e"
             ],
             [
              0.4444444444444444,
              "#bd3786"
             ],
             [
              0.5555555555555556,
              "#d8576b"
             ],
             [
              0.6666666666666666,
              "#ed7953"
             ],
             [
              0.7777777777777778,
              "#fb9f3a"
             ],
             [
              0.8888888888888888,
              "#fdca26"
             ],
             [
              1,
              "#f0f921"
             ]
            ],
            "type": "heatmapgl"
           }
          ],
          "histogram": [
           {
            "marker": {
             "colorbar": {
              "outlinewidth": 0,
              "ticks": ""
             }
            },
            "type": "histogram"
           }
          ],
          "histogram2d": [
           {
            "colorbar": {
             "outlinewidth": 0,
             "ticks": ""
            },
            "colorscale": [
             [
              0,
              "#0d0887"
             ],
             [
              0.1111111111111111,
              "#46039f"
             ],
             [
              0.2222222222222222,
              "#7201a8"
             ],
             [
              0.3333333333333333,
              "#9c179e"
             ],
             [
              0.4444444444444444,
              "#bd3786"
             ],
             [
              0.5555555555555556,
              "#d8576b"
             ],
             [
              0.6666666666666666,
              "#ed7953"
             ],
             [
              0.7777777777777778,
              "#fb9f3a"
             ],
             [
              0.8888888888888888,
              "#fdca26"
             ],
             [
              1,
              "#f0f921"
             ]
            ],
            "type": "histogram2d"
           }
          ],
          "histogram2dcontour": [
           {
            "colorbar": {
             "outlinewidth": 0,
             "ticks": ""
            },
            "colorscale": [
             [
              0,
              "#0d0887"
             ],
             [
              0.1111111111111111,
              "#46039f"
             ],
             [
              0.2222222222222222,
              "#7201a8"
             ],
             [
              0.3333333333333333,
              "#9c179e"
             ],
             [
              0.4444444444444444,
              "#bd3786"
             ],
             [
              0.5555555555555556,
              "#d8576b"
             ],
             [
              0.6666666666666666,
              "#ed7953"
             ],
             [
              0.7777777777777778,
              "#fb9f3a"
             ],
             [
              0.8888888888888888,
              "#fdca26"
             ],
             [
              1,
              "#f0f921"
             ]
            ],
            "type": "histogram2dcontour"
           }
          ],
          "mesh3d": [
           {
            "colorbar": {
             "outlinewidth": 0,
             "ticks": ""
            },
            "type": "mesh3d"
           }
          ],
          "parcoords": [
           {
            "line": {
             "colorbar": {
              "outlinewidth": 0,
              "ticks": ""
             }
            },
            "type": "parcoords"
           }
          ],
          "pie": [
           {
            "automargin": true,
            "type": "pie"
           }
          ],
          "scatter": [
           {
            "marker": {
             "colorbar": {
              "outlinewidth": 0,
              "ticks": ""
             }
            },
            "type": "scatter"
           }
          ],
          "scatter3d": [
           {
            "line": {
             "colorbar": {
              "outlinewidth": 0,
              "ticks": ""
             }
            },
            "marker": {
             "colorbar": {
              "outlinewidth": 0,
              "ticks": ""
             }
            },
            "type": "scatter3d"
           }
          ],
          "scattercarpet": [
           {
            "marker": {
             "colorbar": {
              "outlinewidth": 0,
              "ticks": ""
             }
            },
            "type": "scattercarpet"
           }
          ],
          "scattergeo": [
           {
            "marker": {
             "colorbar": {
              "outlinewidth": 0,
              "ticks": ""
             }
            },
            "type": "scattergeo"
           }
          ],
          "scattergl": [
           {
            "marker": {
             "colorbar": {
              "outlinewidth": 0,
              "ticks": ""
             }
            },
            "type": "scattergl"
           }
          ],
          "scattermapbox": [
           {
            "marker": {
             "colorbar": {
              "outlinewidth": 0,
              "ticks": ""
             }
            },
            "type": "scattermapbox"
           }
          ],
          "scatterpolar": [
           {
            "marker": {
             "colorbar": {
              "outlinewidth": 0,
              "ticks": ""
             }
            },
            "type": "scatterpolar"
           }
          ],
          "scatterpolargl": [
           {
            "marker": {
             "colorbar": {
              "outlinewidth": 0,
              "ticks": ""
             }
            },
            "type": "scatterpolargl"
           }
          ],
          "scatterternary": [
           {
            "marker": {
             "colorbar": {
              "outlinewidth": 0,
              "ticks": ""
             }
            },
            "type": "scatterternary"
           }
          ],
          "surface": [
           {
            "colorbar": {
             "outlinewidth": 0,
             "ticks": ""
            },
            "colorscale": [
             [
              0,
              "#0d0887"
             ],
             [
              0.1111111111111111,
              "#46039f"
             ],
             [
              0.2222222222222222,
              "#7201a8"
             ],
             [
              0.3333333333333333,
              "#9c179e"
             ],
             [
              0.4444444444444444,
              "#bd3786"
             ],
             [
              0.5555555555555556,
              "#d8576b"
             ],
             [
              0.6666666666666666,
              "#ed7953"
             ],
             [
              0.7777777777777778,
              "#fb9f3a"
             ],
             [
              0.8888888888888888,
              "#fdca26"
             ],
             [
              1,
              "#f0f921"
             ]
            ],
            "type": "surface"
           }
          ],
          "table": [
           {
            "cells": {
             "fill": {
              "color": "#EBF0F8"
             },
             "line": {
              "color": "white"
             }
            },
            "header": {
             "fill": {
              "color": "#C8D4E3"
             },
             "line": {
              "color": "white"
             }
            },
            "type": "table"
           }
          ]
         },
         "layout": {
          "annotationdefaults": {
           "arrowcolor": "#2a3f5f",
           "arrowhead": 0,
           "arrowwidth": 1
          },
          "coloraxis": {
           "colorbar": {
            "outlinewidth": 0,
            "ticks": ""
           }
          },
          "colorscale": {
           "diverging": [
            [
             0,
             "#8e0152"
            ],
            [
             0.1,
             "#c51b7d"
            ],
            [
             0.2,
             "#de77ae"
            ],
            [
             0.3,
             "#f1b6da"
            ],
            [
             0.4,
             "#fde0ef"
            ],
            [
             0.5,
             "#f7f7f7"
            ],
            [
             0.6,
             "#e6f5d0"
            ],
            [
             0.7,
             "#b8e186"
            ],
            [
             0.8,
             "#7fbc41"
            ],
            [
             0.9,
             "#4d9221"
            ],
            [
             1,
             "#276419"
            ]
           ],
           "sequential": [
            [
             0,
             "#0d0887"
            ],
            [
             0.1111111111111111,
             "#46039f"
            ],
            [
             0.2222222222222222,
             "#7201a8"
            ],
            [
             0.3333333333333333,
             "#9c179e"
            ],
            [
             0.4444444444444444,
             "#bd3786"
            ],
            [
             0.5555555555555556,
             "#d8576b"
            ],
            [
             0.6666666666666666,
             "#ed7953"
            ],
            [
             0.7777777777777778,
             "#fb9f3a"
            ],
            [
             0.8888888888888888,
             "#fdca26"
            ],
            [
             1,
             "#f0f921"
            ]
           ],
           "sequentialminus": [
            [
             0,
             "#0d0887"
            ],
            [
             0.1111111111111111,
             "#46039f"
            ],
            [
             0.2222222222222222,
             "#7201a8"
            ],
            [
             0.3333333333333333,
             "#9c179e"
            ],
            [
             0.4444444444444444,
             "#bd3786"
            ],
            [
             0.5555555555555556,
             "#d8576b"
            ],
            [
             0.6666666666666666,
             "#ed7953"
            ],
            [
             0.7777777777777778,
             "#fb9f3a"
            ],
            [
             0.8888888888888888,
             "#fdca26"
            ],
            [
             1,
             "#f0f921"
            ]
           ]
          },
          "colorway": [
           "#636efa",
           "#EF553B",
           "#00cc96",
           "#ab63fa",
           "#FFA15A",
           "#19d3f3",
           "#FF6692",
           "#B6E880",
           "#FF97FF",
           "#FECB52"
          ],
          "font": {
           "color": "#2a3f5f"
          },
          "geo": {
           "bgcolor": "white",
           "lakecolor": "white",
           "landcolor": "#E5ECF6",
           "showlakes": true,
           "showland": true,
           "subunitcolor": "white"
          },
          "hoverlabel": {
           "align": "left"
          },
          "hovermode": "closest",
          "mapbox": {
           "style": "light"
          },
          "paper_bgcolor": "white",
          "plot_bgcolor": "#E5ECF6",
          "polar": {
           "angularaxis": {
            "gridcolor": "white",
            "linecolor": "white",
            "ticks": ""
           },
           "bgcolor": "#E5ECF6",
           "radialaxis": {
            "gridcolor": "white",
            "linecolor": "white",
            "ticks": ""
           }
          },
          "scene": {
           "xaxis": {
            "backgroundcolor": "#E5ECF6",
            "gridcolor": "white",
            "gridwidth": 2,
            "linecolor": "white",
            "showbackground": true,
            "ticks": "",
            "zerolinecolor": "white"
           },
           "yaxis": {
            "backgroundcolor": "#E5ECF6",
            "gridcolor": "white",
            "gridwidth": 2,
            "linecolor": "white",
            "showbackground": true,
            "ticks": "",
            "zerolinecolor": "white"
           },
           "zaxis": {
            "backgroundcolor": "#E5ECF6",
            "gridcolor": "white",
            "gridwidth": 2,
            "linecolor": "white",
            "showbackground": true,
            "ticks": "",
            "zerolinecolor": "white"
           }
          },
          "shapedefaults": {
           "line": {
            "color": "#2a3f5f"
           }
          },
          "ternary": {
           "aaxis": {
            "gridcolor": "white",
            "linecolor": "white",
            "ticks": ""
           },
           "baxis": {
            "gridcolor": "white",
            "linecolor": "white",
            "ticks": ""
           },
           "bgcolor": "#E5ECF6",
           "caxis": {
            "gridcolor": "white",
            "linecolor": "white",
            "ticks": ""
           }
          },
          "title": {
           "x": 0.05
          },
          "xaxis": {
           "automargin": true,
           "gridcolor": "white",
           "linecolor": "white",
           "ticks": "",
           "title": {
            "standoff": 15
           },
           "zerolinecolor": "white",
           "zerolinewidth": 2
          },
          "yaxis": {
           "automargin": true,
           "gridcolor": "white",
           "linecolor": "white",
           "ticks": "",
           "title": {
            "standoff": 15
           },
           "zerolinecolor": "white",
           "zerolinewidth": 2
          }
         }
        },
        "title": {
         "text": "Bottom 100 Word frequencies after Preprocessing"
        }
       }
      },
      "text/html": [
       "<div>\n",
       "        \n",
       "        \n",
       "            <div id=\"f8888bce-682e-4fc8-a6e8-e906cb144b7d\" class=\"plotly-graph-div\" style=\"height:525px; width:100%;\"></div>\n",
       "            <script type=\"text/javascript\">\n",
       "                require([\"plotly\"], function(Plotly) {\n",
       "                    window.PLOTLYENV=window.PLOTLYENV || {};\n",
       "                    \n",
       "                if (document.getElementById(\"f8888bce-682e-4fc8-a6e8-e906cb144b7d\")) {\n",
       "                    Plotly.newPlot(\n",
       "                        'f8888bce-682e-4fc8-a6e8-e906cb144b7d',\n",
       "                        [{\"marker\": {\"color\": [0.016014549040218883, 0.016014549040218883, 0.016014549040218883, 0.016014549040218883, 0.016014549040218883, 0.016014549040218883, 0.016014549040218883, 0.016014549040218883, 0.016014549040218883, 0.016014549040218883, 0.016014549040218883, 0.016014549040218883, 0.016014549040218883, 0.016014549040218883, 0.016014549040218883, 0.016014549040218883, 0.016014549040218883, 0.016014549040218883, 0.016014549040218883, 0.016014549040218883, 0.016014549040218883, 0.016014549040218883, 0.016014549040218883, 0.016014549040218883, 0.016014549040218883, 0.016014549040218883, 0.016014549040218883, 0.016014549040218883, 0.016014549040218883, 0.016014549040218883, 0.016014549040218883, 0.016014549040218883, 0.016014549040218883, 0.016014549040218883, 0.016014549040218883, 0.016014549040218883, 0.016014549040218883, 0.016014549040218883, 0.016014549040218883, 0.016014549040218883, 0.016014549040218883, 0.016014549040218883, 0.016014549040218883, 0.016014549040218883, 0.016014549040218883, 0.016014549040218883, 0.016014549040218883, 0.016014549040218883, 0.016014549040218883, 0.016014549040218883, 0.016014549040218883, 0.016014549040218883, 0.016014549040218883, 0.016014549040218883, 0.016014549040218883, 0.016014549040218883, 0.016014549040218883, 0.016014549040218883, 0.016014549040218883, 0.016014549040218883, 0.016014549040218883, 0.016014549040218883, 0.016014549040218883, 0.016014549040218883, 0.016014549040218883, 0.016014549040218883, 0.016014549040218883, 0.016014549040218883, 0.016014549040218883, 0.016014549040218883, 0.016014549040218883, 0.016014549040218883, 0.016014549040218883, 0.016014549040218883, 0.016014549040218883, 0.016014549040218883, 0.016014549040218883, 0.016014549040218883, 0.016014549040218883, 0.016014549040218883, 0.016014549040218883, 0.016014549040218883, 0.016014549040218883, 0.016014549040218883, 0.016014549040218883, 0.016014549040218883, 0.016014549040218883, 0.016014549040218883, 0.016014549040218883, 0.016014549040218883, 0.016014549040218883, 0.016014549040218883, 0.016014549040218883, 0.016014549040218883, 0.016014549040218883, 0.016014549040218883, 0.016014549040218883, 0.016014549040218883, 0.016014549040218883, 0.016014549040218883], \"colorscale\": [[0.0, \"rgb(12,51,131)\"], [0.25, \"rgb(10,136,186)\"], [0.5, \"rgb(242,211,56)\"], [0.75, \"rgb(242,143,56)\"], [1.0, \"rgb(217,30,30)\"]]}, \"text\": \"Word counts\", \"type\": \"bar\", \"x\": [\"flourished\", \"flown\", \"forces\", \"founding\", \"fury\", \"got\", \"governed\", \"grooming\", \"grossly\", \"guerrilla\", \"half\", \"happening\", \"hero\", \"hold\", \"honour\", \"humiliated\", \"hyperinflation\", \"installing\", \"interests\", \"invaded\", \"kenyas\", \"kept\", \"lancaster\", \"largest\", \"legacy\", \"less\", \"liberation\", \"madgen\", \"marked\", \"marred\", \"mast\", \"mellowed\", \"military\", \"militias\", \"morgan\", \"mostly\", \"motorcycles\", \"mutodi\", \"names\", \"negotiator\", \"negotiators\", \"nerve\", \"oppressive\", \"ousted\", \"overwhelming\", \"passion\", \"perceptions\", \"politician\", \"popular\", \"powerful\", \"praised\", \"primarily\", \"prime\", \"probably\", \"profile\", \"promising\", \"pushed\", \"quickly\", \"raids\", \"ramaphosa\", \"ran\", \"reaction\", \"recalled\", \"reform\", \"regard\", \"remembered\", \"replacing\", \"reports\", \"repression\", \"republics\", \"reputation\", \"resulted\", \"rival\", \"ruthless\", \"sad\", \"saddened\", \"sadness\", \"shabbiest\", \"shaping\", \"sharing\", \"shingai\", \"singapores\", \"skilled\", \"slid\", \"sorts\", \"soured\", \"stones\", \"strongman\", \"terror\", \"threats\", \"tool\", \"tractors\", \"tsvangirai\", \"utmost\", \"vicious\", \"walden\", \"whatever\", \"window\", \"zimbabweans\", \"zimbabwes\"], \"y\": [0.016014549040218883, 0.016014549040218883, 0.016014549040218883, 0.016014549040218883, 0.016014549040218883, 0.016014549040218883, 0.016014549040218883, 0.016014549040218883, 0.016014549040218883, 0.016014549040218883, 0.016014549040218883, 0.016014549040218883, 0.016014549040218883, 0.016014549040218883, 0.016014549040218883, 0.016014549040218883, 0.016014549040218883, 0.016014549040218883, 0.016014549040218883, 0.016014549040218883, 0.016014549040218883, 0.016014549040218883, 0.016014549040218883, 0.016014549040218883, 0.016014549040218883, 0.016014549040218883, 0.016014549040218883, 0.016014549040218883, 0.016014549040218883, 0.016014549040218883, 0.016014549040218883, 0.016014549040218883, 0.016014549040218883, 0.016014549040218883, 0.016014549040218883, 0.016014549040218883, 0.016014549040218883, 0.016014549040218883, 0.016014549040218883, 0.016014549040218883, 0.016014549040218883, 0.016014549040218883, 0.016014549040218883, 0.016014549040218883, 0.016014549040218883, 0.016014549040218883, 0.016014549040218883, 0.016014549040218883, 0.016014549040218883, 0.016014549040218883, 0.016014549040218883, 0.016014549040218883, 0.016014549040218883, 0.016014549040218883, 0.016014549040218883, 0.016014549040218883, 0.016014549040218883, 0.016014549040218883, 0.016014549040218883, 0.016014549040218883, 0.016014549040218883, 0.016014549040218883, 0.016014549040218883, 0.016014549040218883, 0.016014549040218883, 0.016014549040218883, 0.016014549040218883, 0.016014549040218883, 0.016014549040218883, 0.016014549040218883, 0.016014549040218883, 0.016014549040218883, 0.016014549040218883, 0.016014549040218883, 0.016014549040218883, 0.016014549040218883, 0.016014549040218883, 0.016014549040218883, 0.016014549040218883, 0.016014549040218883, 0.016014549040218883, 0.016014549040218883, 0.016014549040218883, 0.016014549040218883, 0.016014549040218883, 0.016014549040218883, 0.016014549040218883, 0.016014549040218883, 0.016014549040218883, 0.016014549040218883, 0.016014549040218883, 0.016014549040218883, 0.016014549040218883, 0.016014549040218883, 0.016014549040218883, 0.016014549040218883, 0.016014549040218883, 0.016014549040218883, 0.016014549040218883, 0.016014549040218883]}],\n",
       "                        {\"template\": {\"data\": {\"bar\": [{\"error_x\": {\"color\": \"#2a3f5f\"}, \"error_y\": {\"color\": \"#2a3f5f\"}, \"marker\": {\"line\": {\"color\": \"#E5ECF6\", \"width\": 0.5}}, \"type\": \"bar\"}], \"barpolar\": [{\"marker\": {\"line\": {\"color\": \"#E5ECF6\", \"width\": 0.5}}, \"type\": \"barpolar\"}], \"carpet\": [{\"aaxis\": {\"endlinecolor\": \"#2a3f5f\", \"gridcolor\": \"white\", \"linecolor\": \"white\", \"minorgridcolor\": \"white\", \"startlinecolor\": \"#2a3f5f\"}, \"baxis\": {\"endlinecolor\": \"#2a3f5f\", \"gridcolor\": \"white\", \"linecolor\": \"white\", \"minorgridcolor\": \"white\", \"startlinecolor\": \"#2a3f5f\"}, \"type\": \"carpet\"}], \"choropleth\": [{\"colorbar\": {\"outlinewidth\": 0, \"ticks\": \"\"}, \"type\": \"choropleth\"}], \"contour\": [{\"colorbar\": {\"outlinewidth\": 0, \"ticks\": \"\"}, \"colorscale\": [[0.0, \"#0d0887\"], [0.1111111111111111, \"#46039f\"], [0.2222222222222222, \"#7201a8\"], [0.3333333333333333, \"#9c179e\"], [0.4444444444444444, \"#bd3786\"], [0.5555555555555556, \"#d8576b\"], [0.6666666666666666, \"#ed7953\"], [0.7777777777777778, \"#fb9f3a\"], [0.8888888888888888, \"#fdca26\"], [1.0, \"#f0f921\"]], \"type\": \"contour\"}], \"contourcarpet\": [{\"colorbar\": {\"outlinewidth\": 0, \"ticks\": \"\"}, \"type\": \"contourcarpet\"}], \"heatmap\": [{\"colorbar\": {\"outlinewidth\": 0, \"ticks\": \"\"}, \"colorscale\": [[0.0, \"#0d0887\"], [0.1111111111111111, \"#46039f\"], [0.2222222222222222, \"#7201a8\"], [0.3333333333333333, \"#9c179e\"], [0.4444444444444444, \"#bd3786\"], [0.5555555555555556, \"#d8576b\"], [0.6666666666666666, \"#ed7953\"], [0.7777777777777778, \"#fb9f3a\"], [0.8888888888888888, \"#fdca26\"], [1.0, \"#f0f921\"]], \"type\": \"heatmap\"}], \"heatmapgl\": [{\"colorbar\": {\"outlinewidth\": 0, \"ticks\": \"\"}, \"colorscale\": [[0.0, \"#0d0887\"], [0.1111111111111111, \"#46039f\"], [0.2222222222222222, \"#7201a8\"], [0.3333333333333333, \"#9c179e\"], [0.4444444444444444, \"#bd3786\"], [0.5555555555555556, \"#d8576b\"], [0.6666666666666666, \"#ed7953\"], [0.7777777777777778, \"#fb9f3a\"], [0.8888888888888888, \"#fdca26\"], [1.0, \"#f0f921\"]], \"type\": \"heatmapgl\"}], \"histogram\": [{\"marker\": {\"colorbar\": {\"outlinewidth\": 0, \"ticks\": \"\"}}, \"type\": \"histogram\"}], \"histogram2d\": [{\"colorbar\": {\"outlinewidth\": 0, \"ticks\": \"\"}, \"colorscale\": [[0.0, \"#0d0887\"], [0.1111111111111111, \"#46039f\"], [0.2222222222222222, \"#7201a8\"], [0.3333333333333333, \"#9c179e\"], [0.4444444444444444, \"#bd3786\"], [0.5555555555555556, \"#d8576b\"], [0.6666666666666666, \"#ed7953\"], [0.7777777777777778, \"#fb9f3a\"], [0.8888888888888888, \"#fdca26\"], [1.0, \"#f0f921\"]], \"type\": \"histogram2d\"}], \"histogram2dcontour\": [{\"colorbar\": {\"outlinewidth\": 0, \"ticks\": \"\"}, \"colorscale\": [[0.0, \"#0d0887\"], [0.1111111111111111, \"#46039f\"], [0.2222222222222222, \"#7201a8\"], [0.3333333333333333, \"#9c179e\"], [0.4444444444444444, \"#bd3786\"], [0.5555555555555556, \"#d8576b\"], [0.6666666666666666, \"#ed7953\"], [0.7777777777777778, \"#fb9f3a\"], [0.8888888888888888, \"#fdca26\"], [1.0, \"#f0f921\"]], \"type\": \"histogram2dcontour\"}], \"mesh3d\": [{\"colorbar\": {\"outlinewidth\": 0, \"ticks\": \"\"}, \"type\": \"mesh3d\"}], \"parcoords\": [{\"line\": {\"colorbar\": {\"outlinewidth\": 0, \"ticks\": \"\"}}, \"type\": \"parcoords\"}], \"pie\": [{\"automargin\": true, \"type\": \"pie\"}], \"scatter\": [{\"marker\": {\"colorbar\": {\"outlinewidth\": 0, \"ticks\": \"\"}}, \"type\": \"scatter\"}], \"scatter3d\": [{\"line\": {\"colorbar\": {\"outlinewidth\": 0, \"ticks\": \"\"}}, \"marker\": {\"colorbar\": {\"outlinewidth\": 0, \"ticks\": \"\"}}, \"type\": \"scatter3d\"}], \"scattercarpet\": [{\"marker\": {\"colorbar\": {\"outlinewidth\": 0, \"ticks\": \"\"}}, \"type\": \"scattercarpet\"}], \"scattergeo\": [{\"marker\": {\"colorbar\": {\"outlinewidth\": 0, \"ticks\": \"\"}}, \"type\": \"scattergeo\"}], \"scattergl\": [{\"marker\": {\"colorbar\": {\"outlinewidth\": 0, \"ticks\": \"\"}}, \"type\": \"scattergl\"}], \"scattermapbox\": [{\"marker\": {\"colorbar\": {\"outlinewidth\": 0, \"ticks\": \"\"}}, \"type\": \"scattermapbox\"}], \"scatterpolar\": [{\"marker\": {\"colorbar\": {\"outlinewidth\": 0, \"ticks\": \"\"}}, \"type\": \"scatterpolar\"}], \"scatterpolargl\": [{\"marker\": {\"colorbar\": {\"outlinewidth\": 0, \"ticks\": \"\"}}, \"type\": \"scatterpolargl\"}], \"scatterternary\": [{\"marker\": {\"colorbar\": {\"outlinewidth\": 0, \"ticks\": \"\"}}, \"type\": \"scatterternary\"}], \"surface\": [{\"colorbar\": {\"outlinewidth\": 0, \"ticks\": \"\"}, \"colorscale\": [[0.0, \"#0d0887\"], [0.1111111111111111, \"#46039f\"], [0.2222222222222222, \"#7201a8\"], [0.3333333333333333, \"#9c179e\"], [0.4444444444444444, \"#bd3786\"], [0.5555555555555556, \"#d8576b\"], [0.6666666666666666, \"#ed7953\"], [0.7777777777777778, \"#fb9f3a\"], [0.8888888888888888, \"#fdca26\"], [1.0, \"#f0f921\"]], \"type\": \"surface\"}], \"table\": [{\"cells\": {\"fill\": {\"color\": \"#EBF0F8\"}, \"line\": {\"color\": \"white\"}}, \"header\": {\"fill\": {\"color\": \"#C8D4E3\"}, \"line\": {\"color\": \"white\"}}, \"type\": \"table\"}]}, \"layout\": {\"annotationdefaults\": {\"arrowcolor\": \"#2a3f5f\", \"arrowhead\": 0, \"arrowwidth\": 1}, \"coloraxis\": {\"colorbar\": {\"outlinewidth\": 0, \"ticks\": \"\"}}, \"colorscale\": {\"diverging\": [[0, \"#8e0152\"], [0.1, \"#c51b7d\"], [0.2, \"#de77ae\"], [0.3, \"#f1b6da\"], [0.4, \"#fde0ef\"], [0.5, \"#f7f7f7\"], [0.6, \"#e6f5d0\"], [0.7, \"#b8e186\"], [0.8, \"#7fbc41\"], [0.9, \"#4d9221\"], [1, \"#276419\"]], \"sequential\": [[0.0, \"#0d0887\"], [0.1111111111111111, \"#46039f\"], [0.2222222222222222, \"#7201a8\"], [0.3333333333333333, \"#9c179e\"], [0.4444444444444444, \"#bd3786\"], [0.5555555555555556, \"#d8576b\"], [0.6666666666666666, \"#ed7953\"], [0.7777777777777778, \"#fb9f3a\"], [0.8888888888888888, \"#fdca26\"], [1.0, \"#f0f921\"]], \"sequentialminus\": [[0.0, \"#0d0887\"], [0.1111111111111111, \"#46039f\"], [0.2222222222222222, \"#7201a8\"], [0.3333333333333333, \"#9c179e\"], [0.4444444444444444, \"#bd3786\"], [0.5555555555555556, \"#d8576b\"], [0.6666666666666666, \"#ed7953\"], [0.7777777777777778, \"#fb9f3a\"], [0.8888888888888888, \"#fdca26\"], [1.0, \"#f0f921\"]]}, \"colorway\": [\"#636efa\", \"#EF553B\", \"#00cc96\", \"#ab63fa\", \"#FFA15A\", \"#19d3f3\", \"#FF6692\", \"#B6E880\", \"#FF97FF\", \"#FECB52\"], \"font\": {\"color\": \"#2a3f5f\"}, \"geo\": {\"bgcolor\": \"white\", \"lakecolor\": \"white\", \"landcolor\": \"#E5ECF6\", \"showlakes\": true, \"showland\": true, \"subunitcolor\": \"white\"}, \"hoverlabel\": {\"align\": \"left\"}, \"hovermode\": \"closest\", \"mapbox\": {\"style\": \"light\"}, \"paper_bgcolor\": \"white\", \"plot_bgcolor\": \"#E5ECF6\", \"polar\": {\"angularaxis\": {\"gridcolor\": \"white\", \"linecolor\": \"white\", \"ticks\": \"\"}, \"bgcolor\": \"#E5ECF6\", \"radialaxis\": {\"gridcolor\": \"white\", \"linecolor\": \"white\", \"ticks\": \"\"}}, \"scene\": {\"xaxis\": {\"backgroundcolor\": \"#E5ECF6\", \"gridcolor\": \"white\", \"gridwidth\": 2, \"linecolor\": \"white\", \"showbackground\": true, \"ticks\": \"\", \"zerolinecolor\": \"white\"}, \"yaxis\": {\"backgroundcolor\": \"#E5ECF6\", \"gridcolor\": \"white\", \"gridwidth\": 2, \"linecolor\": \"white\", \"showbackground\": true, \"ticks\": \"\", \"zerolinecolor\": \"white\"}, \"zaxis\": {\"backgroundcolor\": \"#E5ECF6\", \"gridcolor\": \"white\", \"gridwidth\": 2, \"linecolor\": \"white\", \"showbackground\": true, \"ticks\": \"\", \"zerolinecolor\": \"white\"}}, \"shapedefaults\": {\"line\": {\"color\": \"#2a3f5f\"}}, \"ternary\": {\"aaxis\": {\"gridcolor\": \"white\", \"linecolor\": \"white\", \"ticks\": \"\"}, \"baxis\": {\"gridcolor\": \"white\", \"linecolor\": \"white\", \"ticks\": \"\"}, \"bgcolor\": \"#E5ECF6\", \"caxis\": {\"gridcolor\": \"white\", \"linecolor\": \"white\", \"ticks\": \"\"}}, \"title\": {\"x\": 0.05}, \"xaxis\": {\"automargin\": true, \"gridcolor\": \"white\", \"linecolor\": \"white\", \"ticks\": \"\", \"title\": {\"standoff\": 15}, \"zerolinecolor\": \"white\", \"zerolinewidth\": 2}, \"yaxis\": {\"automargin\": true, \"gridcolor\": \"white\", \"linecolor\": \"white\", \"ticks\": \"\", \"title\": {\"standoff\": 15}, \"zerolinecolor\": \"white\", \"zerolinewidth\": 2}}}, \"title\": {\"text\": \"Bottom 100 Word frequencies after Preprocessing\"}},\n",
       "                        {\"responsive\": true}\n",
       "                    ).then(function(){\n",
       "                            \n",
       "var gd = document.getElementById('f8888bce-682e-4fc8-a6e8-e906cb144b7d');\n",
       "var x = new MutationObserver(function (mutations, observer) {{\n",
       "        var display = window.getComputedStyle(gd).display;\n",
       "        if (!display || display === 'none') {{\n",
       "            console.log([gd, 'removed!']);\n",
       "            Plotly.purge(gd);\n",
       "            observer.disconnect();\n",
       "        }}\n",
       "}});\n",
       "\n",
       "// Listen for the removal of the full notebook cells\n",
       "var notebookContainer = gd.closest('#notebook-container');\n",
       "if (notebookContainer) {{\n",
       "    x.observe(notebookContainer, {childList: true});\n",
       "}}\n",
       "\n",
       "// Listen for the clearing of the current output cell\n",
       "var outputEl = gd.closest('.output');\n",
       "if (outputEl) {{\n",
       "    x.observe(outputEl, {childList: true});\n",
       "}}\n",
       "\n",
       "                        })\n",
       "                };\n",
       "                });\n",
       "            </script>\n",
       "        </div>"
      ]
     },
     "metadata": {},
     "output_type": "display_data"
    }
   ],
   "source": [
    "feature_names = tf_vectorizer.get_feature_names()\n",
    "count_vec = np.asarray(tf.sum(axis=0)).ravel()\n",
    "zipped = list(zip(feature_names, count_vec))\n",
    "x, y = (list(x) for x in zip(*sorted(zipped, key=lambda x: x[1], reverse=True)))\n",
    "# Now I want to extract out on the top 15 and bottom 15 words\n",
    "Y = np.concatenate([y[0:15], y[-16:-1]])\n",
    "X = np.concatenate([x[0:15], x[-16:-1]])\n",
    "\n",
    "# Plotting the Plot.ly plot for the Top 50 word frequencies\n",
    "data = [go.Bar(\n",
    "            x = x[0:50],\n",
    "            y = y[0:50],\n",
    "            marker= dict(colorscale='Jet',\n",
    "                         color = y[0:50]\n",
    "                        ),\n",
    "            text='Word counts'\n",
    "    )]\n",
    "\n",
    "layout = go.Layout(\n",
    "    title='Top 50 Word frequencies after Preprocessing'\n",
    ")\n",
    "\n",
    "fig = go.Figure(data=data, layout=layout)\n",
    "\n",
    "py.iplot(fig, filename='basic-bar')\n",
    "\n",
    "# Plotting the Plot.ly plot for the Top 50 word frequencies\n",
    "data = [go.Bar(\n",
    "            x = x[-100:],\n",
    "            y = y[-100:],\n",
    "            marker= dict(colorscale='Portland',\n",
    "                         color = y[-100:]\n",
    "                        ),\n",
    "            text='Word counts'\n",
    "    )]\n",
    "\n",
    "layout = go.Layout(\n",
    "    title='Bottom 100 Word frequencies after Preprocessing'\n",
    ")\n",
    "\n",
    "fig = go.Figure(data=data, layout=layout)\n",
    "\n",
    "py.iplot(fig, filename='basic-bar')"
   ]
  },
  {
   "cell_type": "markdown",
   "metadata": {
    "_cell_guid": "fd387f8f-cf4c-4a4f-bfce-c22af2c7e69a",
    "_uuid": "5189dc27414c9b89d26bb1255075d91ae11b47ac"
   },
   "source": [
    "## 3b. Latent Dirichlet Allocation\n",
    "\n",
    "Finally we arrive on the subject of topic modelling and the implementation of a couple of unsupervised learning algorithms. The first method that I will touch upon is [Latent Dirichlet Allocation](http://scikit-learn.org/stable/modules/generated/sklearn.decomposition.LatentDirichletAllocation.html). Now there are a couple of different implements of this LDA algorithm but in this notebook, I will be using Sklearn's implementation. Another very well-known LDA implementation is Radim Rehurek's [gensim](https://radimrehurek.com/gensim/), so check it out as well."
   ]
  },
  {
   "cell_type": "markdown",
   "metadata": {
    "_cell_guid": "5e9aae62-cfe9-41fc-89f7-db7bc52856d3",
    "_uuid": "1bde06819b79a77474cff57b4082c451c7649ef8"
   },
   "source": [
    "**Corpus - Document - Word : Topic Generation**\n",
    "\n",
    "In LDA, the modelling process revolves around three things: the text corpus, its collection of documents, D and the words W in the documents. Therefore the algorithm attempts to uncover K topics from this corpus via the following way (illustrated by the diagram)\n",
    "\n",
    "![Three_Level Bayesian Model](http://scikit-learn.org/stable/_images/lda_model_graph.png)\n",
    "\n",
    "Model each topic, $\\kappa$ via a Dirichlet prior distribution given by $\\beta_{k}$:\n",
    "\n",
    "![](http://scikit-learn.org/stable/_images/math/2c1ff5b3d6f342d7dad0395210c8a13947de451c.png)\n",
    "\n",
    "Model each document d by another Dirichlet distribution parameterized by $\\alpha$:\n",
    "\n",
    "![](http://scikit-learn.org/stable/_images/math/530c80986933767c9d182af83075c13d72cdef97.png)\n",
    "\n",
    "Subsequently for document d, we generate a topic via a multinomial distribution which we then backtrack and use to generate the correspondings words related to that topic via another multinomial distribution:\n",
    "\n",
    "![](http://scikit-learn.org/stable/_images/math/0bb078c0fe621366a147231b5c8240efacdb895b.png)\n",
    "![](http://scikit-learn.org/stable/_images/math/f7960e06327c64a1e9da6769e68aa4342b7de73d.png)\n",
    "\n",
    "\n",
    "*(Image source: http://scikit-learn.org/stable/modules/decomposition.html#latentdirichletallocation)*\n",
    "\n",
    "The LDA algorithm first models documents via a mixture model of topics. From these topics, words are then assigned weights based on the probability distribution of these topics. It is this probabilistic assignment over words that allow a user of LDA to say how likely a particular word falls into a topic. Subsequently from the collection of words assigned to a particular topic, are we thus able to gain an insight as to what that topic may actually represent from a lexical point of view.\n",
    "\n",
    "From a standard LDA model, there are really a few key parameters that we have to keep in mind and consider programmatically tuning before we invoke the model:\n",
    "1. n_components: The number of topics that you specify to the model\n",
    "2. $\\alpha$ parameter: This is the dirichlet parameter that can be linked to the document topic prior \n",
    "3. $\\beta$ parameter: This is the dirichlet parameter linked to the topic word prior\n",
    "\n",
    "To invoke the  algorithm, we simply create an LDA instance through the Sklearn's *LatentDirichletAllocation* function. The various parameters would ideally have been obtained through some sort of validation scheme. In this instance, the optimal value of n_components (or topic number) was found by conducting a KMeans + Latent Semantic Analysis Scheme (as shown in this paper here) whereby the number of Kmeans clusters and number of LSA dimensions were iterated through and the best silhouette mean score."
   ]
  },
  {
   "cell_type": "code",
   "execution_count": 125,
   "metadata": {},
   "outputs": [
    {
     "data": {
      "text/plain": [
       "DBSCAN(eps=5)"
      ]
     },
     "execution_count": 125,
     "metadata": {},
     "output_type": "execute_result"
    }
   ],
   "source": [
    "from sklearn.cluster import KMeans,AffinityPropagation,AgglomerativeClustering,DBSCAN\n",
    "km = DBSCAN(eps = 5)\n",
    "km.fit(tf)"
   ]
  },
  {
   "cell_type": "code",
   "execution_count": 50,
   "metadata": {},
   "outputs": [
    {
     "name": "stdout",
     "output_type": "stream",
     "text": [
      "Naive Bayes Accuracy Score ->  21.52777777777778\n"
     ]
    }
   ],
   "source": [
    "# len(set(km.labels_.tolist()))\n",
    "from sklearn import model_selection, naive_bayes, svm\n",
    "from sklearn.metrics import accuracy_score\n",
    "from sklearn.metrics import classification_report\n",
    "from sklearn.metrics import confusion_matrix\n",
    "def train_test_split(data, train_size):\n",
    "    train = data[:train_size]\n",
    "    test = data[train_size:]\n",
    "    return train, test\n",
    "train_size = int(len(train) * .9)\n",
    "from sklearn.preprocessing import LabelBinarizer, LabelEncoder\n",
    "le = LabelEncoder()\n",
    "le.fit(train.Label)\n",
    "train_cat, test_cat = train_test_split(train['Label'], train_size)\n",
    "train_text, test_text = train_test_split(all_data['Text'][:train.shape[0]], train_size)\n",
    "x_train = tf_vectorizer.transform(train_text)\n",
    "y_train = le.transform(train_cat)\n",
    "x_test = tf_vectorizer.transform(test_text)\n",
    "y_test = le.transform(test_cat)\n",
    "\n",
    "Naive = naive_bayes.MultinomialNB()\n",
    "Naive.fit(x_train,y_train)\n",
    "# predict the labels on validation dataset\n",
    "predictions_NB = Naive.predict(x_test)\n",
    "# Use accuracy_score function to get the accuracy\n",
    "print(\"Naive Bayes Accuracy Score -> \",accuracy_score(predictions_NB, y_test)*100)"
   ]
  },
  {
   "cell_type": "code",
   "execution_count": 73,
   "metadata": {},
   "outputs": [
    {
     "data": {
      "text/plain": [
       "0.0"
      ]
     },
     "execution_count": 73,
     "metadata": {},
     "output_type": "execute_result"
    }
   ],
   "source": [
    "tf.min()"
   ]
  },
  {
   "cell_type": "code",
   "execution_count": 70,
   "metadata": {},
   "outputs": [
    {
     "name": "stdout",
     "output_type": "stream",
     "text": [
      "SVM Accuracy Score ->  62.5\n"
     ]
    }
   ],
   "source": [
    "# (all_data['ID'][:train.shape[0]] == train.ID).all()\n",
    "SVM = svm.SVC(C=5, kernel='linear', gamma='scale')\n",
    "SVM.fit(x_train,y_train)\n",
    "# predict the labels on validation dataset\n",
    "predictions_SVM = SVM.predict(x_test)\n",
    "# Use accuracy_score function to get the accuracy\n",
    "print(\"SVM Accuracy Score -> \",accuracy_score(predictions_SVM, y_test)*100)"
   ]
  },
  {
   "cell_type": "code",
   "execution_count": 60,
   "metadata": {},
   "outputs": [],
   "source": [
    "\n",
    "test['Label'] = le.inverse_transform(SVM.predict(tf[train.shape[0]:]))\n",
    "# test\n",
    "# tf\n",
    "sub = test[['ID','Label']]\n",
    "sub.to_csv('SVM2.csv',index = False)"
   ]
  },
  {
   "cell_type": "code",
   "execution_count": 32,
   "metadata": {
    "_cell_guid": "3139e960-cb84-449f-9d93-17e8b9bdfbc1",
    "_uuid": "d109dd3b8edb163fad340b226f3574792a1e76bf"
   },
   "outputs": [],
   "source": [
    "lda = LatentDirichletAllocation(n_components=20, max_iter=10,\n",
    "                                learning_method = 'online',\n",
    "                                learning_offset = 50.,\n",
    "                                random_state = 0)"
   ]
  },
  {
   "cell_type": "code",
   "execution_count": 33,
   "metadata": {
    "_cell_guid": "2fcb75b1-4e40-4191-9fdd-8173c3565dee",
    "_uuid": "61f88a2d591c19fe493172703b625fa9eac39568"
   },
   "outputs": [
    {
     "data": {
      "text/plain": [
       "LatentDirichletAllocation(learning_method='online', learning_offset=50.0,\n",
       "                          n_components=20, random_state=0)"
      ]
     },
     "execution_count": 33,
     "metadata": {},
     "output_type": "execute_result"
    }
   ],
   "source": [
    "##\n",
    "# from sklearn.preprocessing import LabelEncoder\n",
    "# le = LabelEncoder()\n",
    "# y_train = le.fit_transform(train.Label)\n",
    "lda.fit(tf)\n",
    "# tf[:train.shape[0]].shape"
   ]
  },
  {
   "cell_type": "markdown",
   "metadata": {
    "_cell_guid": "83b4227f-9bca-4a42-8038-91d57c75bd38",
    "_uuid": "33dba856c6a1bf17c8beeff6873502083cecfa65"
   },
   "source": [
    "### Topics generated by LDA\n",
    "\n",
    "We will utilise our helper function we defined earlier \"print_top_words\" to return the top 10 words attributed to each of the LDA generated topics. To select the number of topics, this is handled through the parameter n_components in the function."
   ]
  },
  {
   "cell_type": "code",
   "execution_count": 34,
   "metadata": {},
   "outputs": [
    {
     "data": {
      "text/plain": [
       "2056"
      ]
     },
     "execution_count": 34,
     "metadata": {},
     "output_type": "execute_result"
    }
   ],
   "source": [
    "# dir(lda)\n",
    "# lda.transform(train.Text[0])\n",
    "# test = pd.read_csv('../Translated/cleaned/test.csv')\n",
    "\n",
    "# text_test = list(test.Text.values)\n",
    "# tf = tf_vectorizer.fit_transform(text_test)\n",
    "lda_top = np.argmax(lda.transform(tf),axis=1)\n",
    "len(lda_top)"
   ]
  },
  {
   "cell_type": "code",
   "execution_count": 47,
   "metadata": {},
   "outputs": [
    {
     "data": {
      "text/plain": [
       "<2056x63439 sparse matrix of type '<class 'numpy.float64'>'\n",
       "\twith 373357 stored elements in Compressed Sparse Row format>"
      ]
     },
     "execution_count": 47,
     "metadata": {},
     "output_type": "execute_result"
    }
   ],
   "source": [
    "# lda_top\n",
    "tf"
   ]
  },
  {
   "cell_type": "code",
   "execution_count": 42,
   "metadata": {},
   "outputs": [
    {
     "data": {
      "text/html": [
       "<div>\n",
       "<style scoped>\n",
       "    .dataframe tbody tr th:only-of-type {\n",
       "        vertical-align: middle;\n",
       "    }\n",
       "\n",
       "    .dataframe tbody tr th {\n",
       "        vertical-align: top;\n",
       "    }\n",
       "\n",
       "    .dataframe thead th {\n",
       "        text-align: right;\n",
       "    }\n",
       "</style>\n",
       "<table border=\"1\" class=\"dataframe\">\n",
       "  <thead>\n",
       "    <tr style=\"text-align: right;\">\n",
       "      <th></th>\n",
       "      <th>ID</th>\n",
       "      <th>Text</th>\n",
       "      <th>Label</th>\n",
       "      <th>lda_top</th>\n",
       "    </tr>\n",
       "  </thead>\n",
       "  <tbody>\n",
       "    <tr>\n",
       "      <th>0</th>\n",
       "      <td>ID_AASHwXxg</td>\n",
       "      <td>Mwangonde: Khansala wachinyamata Akamati achi...</td>\n",
       "      <td>POLITICS</td>\n",
       "      <td>4</td>\n",
       "    </tr>\n",
       "    <tr>\n",
       "      <th>1</th>\n",
       "      <td>ID_AGoFySzn</td>\n",
       "      <td>MCP siidakhutire ndi kalembera Chipani cha Ma...</td>\n",
       "      <td>POLITICS</td>\n",
       "      <td>4</td>\n",
       "    </tr>\n",
       "    <tr>\n",
       "      <th>2</th>\n",
       "      <td>ID_AGrrkBGP</td>\n",
       "      <td>Bungwe la MANEPO Lapempha Boma Liganizire Anth...</td>\n",
       "      <td>HEALTH</td>\n",
       "      <td>4</td>\n",
       "    </tr>\n",
       "    <tr>\n",
       "      <th>3</th>\n",
       "      <td>ID_AIJeigeG</td>\n",
       "      <td>Ndale zogawanitsa miyambo zanyanya Si zachile...</td>\n",
       "      <td>POLITICS</td>\n",
       "      <td>4</td>\n",
       "    </tr>\n",
       "    <tr>\n",
       "      <th>4</th>\n",
       "      <td>ID_APMprMbV</td>\n",
       "      <td>Nanga wapolisi ataphofomoka? Masiku ano sichi...</td>\n",
       "      <td>LAW/ORDER</td>\n",
       "      <td>4</td>\n",
       "    </tr>\n",
       "    <tr>\n",
       "      <th>...</th>\n",
       "      <td>...</td>\n",
       "      <td>...</td>\n",
       "      <td>...</td>\n",
       "      <td>...</td>\n",
       "    </tr>\n",
       "    <tr>\n",
       "      <th>1431</th>\n",
       "      <td>ID_zmTmmEio</td>\n",
       "      <td>Eni Minibus Ati Ali ndi Ufulu Wokweza Mitengo ...</td>\n",
       "      <td>TRANSPORT</td>\n",
       "      <td>4</td>\n",
       "    </tr>\n",
       "    <tr>\n",
       "      <th>1432</th>\n",
       "      <td>ID_znOlIaGQ</td>\n",
       "      <td>Kachali apepesa: Kulankhula motumbwa kuthe An...</td>\n",
       "      <td>POLITICS</td>\n",
       "      <td>4</td>\n",
       "    </tr>\n",
       "    <tr>\n",
       "      <th>1433</th>\n",
       "      <td>ID_znracTjN</td>\n",
       "      <td>Mawu supports non-fiction writers The Malawi ...</td>\n",
       "      <td>EDUCATION</td>\n",
       "      <td>2</td>\n",
       "    </tr>\n",
       "    <tr>\n",
       "      <th>1434</th>\n",
       "      <td>ID_ztdsmmva</td>\n",
       "      <td>Tame Mwawa: Phwete ndiye kudya kwake Sewero l...</td>\n",
       "      <td>SOCIAL ISSUES</td>\n",
       "      <td>4</td>\n",
       "    </tr>\n",
       "    <tr>\n",
       "      <th>1435</th>\n",
       "      <td>ID_zteydTpN</td>\n",
       "      <td>PAC iunguza za boma la chifedulo Nthumwi zomw...</td>\n",
       "      <td>POLITICS</td>\n",
       "      <td>4</td>\n",
       "    </tr>\n",
       "  </tbody>\n",
       "</table>\n",
       "<p>1436 rows × 4 columns</p>\n",
       "</div>"
      ],
      "text/plain": [
       "               ID                                               Text  \\\n",
       "0     ID_AASHwXxg   Mwangonde: Khansala wachinyamata Akamati achi...   \n",
       "1     ID_AGoFySzn   MCP siidakhutire ndi kalembera Chipani cha Ma...   \n",
       "2     ID_AGrrkBGP  Bungwe la MANEPO Lapempha Boma Liganizire Anth...   \n",
       "3     ID_AIJeigeG   Ndale zogawanitsa miyambo zanyanya Si zachile...   \n",
       "4     ID_APMprMbV   Nanga wapolisi ataphofomoka? Masiku ano sichi...   \n",
       "...           ...                                                ...   \n",
       "1431  ID_zmTmmEio  Eni Minibus Ati Ali ndi Ufulu Wokweza Mitengo ...   \n",
       "1432  ID_znOlIaGQ   Kachali apepesa: Kulankhula motumbwa kuthe An...   \n",
       "1433  ID_znracTjN   Mawu supports non-fiction writers The Malawi ...   \n",
       "1434  ID_ztdsmmva   Tame Mwawa: Phwete ndiye kudya kwake Sewero l...   \n",
       "1435  ID_zteydTpN   PAC iunguza za boma la chifedulo Nthumwi zomw...   \n",
       "\n",
       "              Label  lda_top  \n",
       "0          POLITICS        4  \n",
       "1          POLITICS        4  \n",
       "2            HEALTH        4  \n",
       "3          POLITICS        4  \n",
       "4         LAW/ORDER        4  \n",
       "...             ...      ...  \n",
       "1431      TRANSPORT        4  \n",
       "1432       POLITICS        4  \n",
       "1433      EDUCATION        2  \n",
       "1434  SOCIAL ISSUES        4  \n",
       "1435       POLITICS        4  \n",
       "\n",
       "[1436 rows x 4 columns]"
      ]
     },
     "execution_count": 42,
     "metadata": {},
     "output_type": "execute_result"
    }
   ],
   "source": [
    "train['lda_top'] = lda_top[:train.shape[0]]\n",
    "# train['lda_top'] = (lda.labels_)[:train.shape[0]]\n",
    "train"
   ]
  },
  {
   "cell_type": "code",
   "execution_count": 43,
   "metadata": {},
   "outputs": [
    {
     "data": {
      "text/plain": [
       "4    277\n",
       "2      2\n",
       "Name: lda_top, dtype: int64"
      ]
     },
     "execution_count": 43,
     "metadata": {},
     "output_type": "execute_result"
    }
   ],
   "source": [
    "train.groupby('Label').get_group('POLITICS').lda_top.value_counts()"
   ]
  },
  {
   "cell_type": "code",
   "execution_count": 44,
   "metadata": {},
   "outputs": [
    {
     "data": {
      "text/plain": [
       "4    126\n",
       "2      1\n",
       "Name: lda_top, dtype: int64"
      ]
     },
     "execution_count": 44,
     "metadata": {},
     "output_type": "execute_result"
    }
   ],
   "source": [
    "train.groupby('Label').get_group('HEALTH').lda_top.value_counts()"
   ]
  },
  {
   "cell_type": "code",
   "execution_count": 45,
   "metadata": {},
   "outputs": [
    {
     "data": {
      "text/plain": [
       "4    132\n",
       "2      2\n",
       "Name: lda_top, dtype: int64"
      ]
     },
     "execution_count": 45,
     "metadata": {},
     "output_type": "execute_result"
    }
   ],
   "source": [
    "train.groupby('Label').get_group('SOCIAL ISSUES').lda_top.value_counts()"
   ]
  },
  {
   "cell_type": "code",
   "execution_count": 46,
   "metadata": {},
   "outputs": [
    {
     "data": {
      "text/plain": [
       "4    132\n",
       "2      4\n",
       "Name: lda_top, dtype: int64"
      ]
     },
     "execution_count": 46,
     "metadata": {},
     "output_type": "execute_result"
    }
   ],
   "source": [
    "train.groupby('Label').get_group('LAW/ORDER').lda_top.value_counts()"
   ]
  },
  {
   "cell_type": "code",
   "execution_count": 88,
   "metadata": {},
   "outputs": [
    {
     "data": {
      "text/plain": [
       "array(['POLITICS', 'HEALTH', 'LAW/ORDER', 'RELIGION', 'FARMING',\n",
       "       'WILDLIFE/ENVIRONMENT', 'SOCIAL ISSUES', 'SOCIAL', 'OPINION/ESSAY',\n",
       "       'LOCALCHIEFS', 'WITCHCRAFT', 'ECONOMY', 'SPORTS', 'RELATIONSHIPS',\n",
       "       'TRANSPORT', 'CULTURE', 'EDUCATION', 'MUSIC', 'ARTS AND CRAFTS',\n",
       "       'FLOODING'], dtype=object)"
      ]
     },
     "execution_count": 88,
     "metadata": {},
     "output_type": "execute_result"
    }
   ],
   "source": [
    "train.Label.unique()"
   ]
  },
  {
   "cell_type": "code",
   "execution_count": 30,
   "metadata": {
    "_cell_guid": "5fd40ac5-d55a-47d9-9a09-7dd4e4bf3b76",
    "_uuid": "aae615ba55d2869acc555de0b1d764b620b87119"
   },
   "outputs": [
    {
     "name": "stdout",
     "output_type": "stream",
     "text": [
      "\n",
      "Topics in LDA model: \n",
      "\n",
      "Topic #0:shasha kasudze opititsa nkhaza nyerere alindi liphunzitse champiti zonga muthu kuti lachilungamo adzigwiritsa yokhuza ndikufunika zampingo awachita horace pa wawachita wa zamomwe kubwedzeretsa la za ku tinayamba zimathera kwa anthu koma azipezeka mbiya omwe red adaluza ya amayi kuuna anakhazikitsa\n",
      "======================================================================\n",
      "\n",
      "Topic #1:kuti wa ya pa la anthu ku za ndipo kwa ntchito cha adati omwe komanso koma boma zomwe adatero chifukwa iye ena dziko mu mwa mdziko wati ngati malamulo izi bungwe amene ndalama muno mboma pomwe yomwe lino chaka yemwe\n",
      "======================================================================\n",
      "\n",
      "Topic #2:andalewo gonapamuhanya sembereka ayao zokaikitsa atumbuka andale kuti govt amalowerera mtunduwo mazangazime lidawauza adzetsa udadza losunga firearm zachilendonso wa pay yochoka pamalowo limadza ku gwiragwira move wachikhalidwe csos cha pa amaphangira chiyao la koma kusakhale ndipo ntchito chimkuzamawu ulu ya\n",
      "======================================================================\n",
      "\n",
      "Topic #3:said party country school world district malawi bank year mr zomba time capital health secondary piringu good violence ngambi election government work flame chisale watuluka office nkumangidwanso political africa sipakala church waimitsa result point council fight body supporter match like\n",
      "======================================================================\n",
      "\n",
      "Topic #4:kuti ngati chifukwa pa anthu gogo adatero palibe wa pete kabaza kwambiri kodi ndipo ya red moya papa uja ku mwati patuma munthu mbuzi ndili yomwe anasankha koma mabungwe la chake bwanji kumanda ndalama francisco adandipeza ndiye ntchito anzanga gervazzio\n",
      "======================================================================\n",
      "\n",
      "Topic #5:madambwewo mafumu ya la kuti wa ku boma anthu mfumu za kwa south africa dziko ena pokhumudwa mboma mnyoni komanso lino wati ntchito ndale ndipo omwe malamulo pa zwelithini akuti izi adatero chifukwa pamene ufumu adati koma bwino mdziko kabunduli\n",
      "======================================================================\n",
      "\n",
      "Topic #6:kuti cha kwa chifukwa pa zisankho komanso ena anthu ya wa ntchito bungweli ku la za zipani kunje izi mpingo woyera nazo koma bungwe tsiku malawi adatero mtsogoleri omwe adati msonda chaka ufulu ndanga mec papa ndipo amene banda chisankho\n",
      "======================================================================\n",
      "\n",
      "Topic #7:saulosi kaunda mapaketi coffee den nkumbira laston wagundidwa atengedwa amathawitsa kuchipatalako udakumana kuti woganiziridwayo akutuluka ku ya wa khofi za cha kuoloka adati amamuganizira anthu pa ndipo ataledzera apolisi kwa ntchito chifukwa mzuzu chidachitika ena komwe mmudzi mboma adatero iye\n",
      "======================================================================\n",
      "\n",
      "Topic #8:mafomu mafomuwa kamenyagwaza maunitsi kuti ziwayendere nkukula wa pa anthu mwai mkalemberayu ena ya ntchitoyu la za ndipo zikumachitika adatero boma kwa amene akalemberayu apitenso mkalembera yemwe ngati koma chifukwa munthu adati komanso ku mboma malo iye munthali pamalo cha\n",
      "======================================================================\n",
      "\n",
      "Topic #9:kuti ndipo koma wa ku ngati chifukwa pa ndiye kwa za kapena mkazi mwana kodi wina zaka amene nthawi wenela ya mwamuna munthu ena komanso ali banja naye cha bwanji ukwati ake la zedi ayi adali ndili anthu bwino anatchereza\n",
      "======================================================================\n",
      "\n",
      "Topic #10:thailand mphete mota engel makangala da silva vale kuti tidzagwirizane njanjiyi owaposa awakwezere zinalepherabe sitikusinthika amatitsina tisanabwerere inathotha port kudzatithandiza kudutsira ayiimitsa sichioneka idatsetserekera kukalankhula mabewula lisanadziwike akukambiranabe zipakire imange lachiwiriro mpakuti atamvana litamveka akumatula moatize auzana yosaposa apakire sakuthanso\n",
      "======================================================================\n",
      "\n",
      "Topic #11:boxing nkhonya share kammwamba kayuni robbed nyirongo bout judge promotion boxer point donor draw kuti pa imf budget mzuzu alexander met tempo map seven round performance upper ernest sporting wilfred 11 joe violet partner ya centre ku cha wamawa osgood\n",
      "======================================================================\n",
      "\n",
      "Topic #12:wa pa cha dr chilima kuti papa la mpingo dziko ku anthu ya woyera kwa kukhala mtsogoleri wachiwiri yomwe utm komanso izi wati lino kayuni chaka zomwe chisankho iye ndale omwe chipani ntcheu ziwawa wakhazikitsa mzuzu said iwo vatican za\n",
      "======================================================================\n",
      "\n",
      "Topic #13:bahamas mphepoyi kuti wa cha anthu ndipo ya kilometer ikuomba la koma nkati pa ku za ntchito malamulo adati omwe kwa mmasukulu chifukwa yemwe adatero boma chipani ena yomwe mvula zomwe mphanvu chisankho iye ngati komanso izi momwe bungwe kwambiri\n",
      "======================================================================\n",
      "\n",
      "Topic #14:la ya ku pa kuti wa kwa africa komanso zomwe ndili china ntchito za koma ndipo kaamba ka zinthu dziko banja anthu nthawi bungwe ena omwe mdziko ma kuno wailesiyi akuno maulendo morocco komwe chifukwa malonda izi malamulo tsiku mzuzu\n",
      "======================================================================\n",
      "\n",
      "Topic #15:likodzo luhanga kukodza chotenga mthupi ta mchikhodzodzo zimanyamula monyentchera mmatumbo tikulangiza magazi timadontho limatha azithamangira walangizanso kudzadza mmadzi chiwindi kapamba kudzithandiza zooneka kutupa amakula chiberekero azikula patchire akapanda amene kuti chimbudzi akuda pachiopsezo madziwo chifukwa ali koopsa munthu anthu kwa\n",
      "======================================================================\n",
      "\n",
      "Topic #16:kupatsirana 060 presidenti akusonkhana ghana opemphelera zikhalabe kupitiliza chotchinga akupemphera motalikirana mizikiti apemphedwa zolowera omwe ola anthu mzipata chomaliza zotseka wa komanso monga osaposa pa opempherera ya matchalitchi malo ndipo mec ladza ayambanso la mphuno mdzikolo pomwe cha kukamwa kwa\n",
      "======================================================================\n",
      "\n",
      "Topic #17:kuti wa pa adati kayuni bout mec adatero phiri chifukwa la anthu nawo ku uve round ana koma bungwe boxer fight mmanja komanso said mzuzu draw chirwa make swira ndipo mmaso izi judge nyirongo iye chisale maso boxing nthawi mkuluyu\n",
      "======================================================================\n",
      "\n",
      "Topic #18:court police year mangochi state brother said kasambara daudi road mugabe village convict girl charge authority witness magistrate vehicle traditional drug accused house man officer district lutepo child hard public victim manondo time lilongwe dpp imprisonment according person told labour\n",
      "======================================================================\n",
      "\n",
      "Topic #19:maya liwonde chipala mlenje njovu mlenjeyu ipha akanadziwa sasimba sakadapita sadabwererenso abalewa kunkhalango lidapezeka mozemba wadi adasamukira kuti patchire chizolowezi imfayi makina ya pa agalu cha lino sister mwa dziko mnkhalango mu adati matani chipani wa omwe kwa za komanso\n",
      "======================================================================\n",
      "\n",
      "Topic #20:othawa kheli luwani unhcr lisa makala renamo owen frelimo ecrp nkhondowa kapise dhlakama pulogalamuyi resilience sudala telemu enhancing ndamanga ndikulipirira mleranthaka pachiweniweni mbaula pootcha kuti irish masewerowo ndagula secondary ndidamukonda akupha fm kumisasa chikuse anthu embassy pulogalamu pa ku la\n",
      "======================================================================\n",
      "\n",
      "Topic #21:radio maria bambo wailesiyi wayilesiyi ziyaye ku chinangwa kuti mariatona faith parish kimu mbewu awiriwa mwale mu wa ya mangochi zaka ambuye la chamba wabwino kuthandiza grade kamba malawi magistrate brenda pa akakhale koyamba ndipo ukayidi ozunguza bongo pomwe lalamula\n",
      "======================================================================\n"
     ]
    }
   ],
   "source": [
    "n_top_words = 40\n",
    "print(\"\\nTopics in LDA model: \")\n",
    "tf_feature_names = tf_vectorizer.get_feature_names()\n",
    "print_top_words(lda, tf_feature_names, n_top_words)"
   ]
  },
  {
   "cell_type": "code",
   "execution_count": null,
   "metadata": {
    "_cell_guid": "cc98f5f0-9d3a-429c-bd73-24df9b3e047c",
    "_uuid": "604ba328b3b4bed30114fdd345f6eb9b937afb61"
   },
   "outputs": [],
   "source": [
    "first_topic = lda.components_[0]\n",
    "second_topic = lda.components_[1]\n",
    "third_topic = lda.components_[2]\n",
    "fourth_topic = lda.components_[3]"
   ]
  },
  {
   "cell_type": "code",
   "execution_count": null,
   "metadata": {
    "_cell_guid": "5b0cbf55-cc66-4b06-9578-da04affe5d8b",
    "_uuid": "dd631641530a698e2c22cfb222da9da223888c75"
   },
   "outputs": [],
   "source": [
    "first_topic.shape"
   ]
  },
  {
   "cell_type": "markdown",
   "metadata": {
    "_cell_guid": "6eb1a021-f48d-47fc-8917-e8ab62aabf2d",
    "_uuid": "982f80f378c5c5179b1b9392a19a0d8544816220"
   },
   "source": [
    "### Word Cloud visualizations of the topics"
   ]
  },
  {
   "cell_type": "code",
   "execution_count": null,
   "metadata": {
    "_cell_guid": "f528a4f9-5e19-41cf-a0f1-b3bb09317a19",
    "_uuid": "6b74a68927757081d0bc3444d16f3ffa3254f3fa"
   },
   "outputs": [],
   "source": [
    "first_topic_words = [tf_feature_names[i] for i in first_topic.argsort()[:-50 - 1 :-1]]\n",
    "second_topic_words = [tf_feature_names[i] for i in second_topic.argsort()[:-50 - 1 :-1]]\n",
    "third_topic_words = [tf_feature_names[i] for i in third_topic.argsort()[:-50 - 1 :-1]]\n",
    "fourth_topic_words = [tf_feature_names[i] for i in fourth_topic.argsort()[:-50 - 1 :-1]]"
   ]
  },
  {
   "cell_type": "markdown",
   "metadata": {
    "_cell_guid": "80904ac8-1724-4853-b416-f07210021b35",
    "_uuid": "d51bee99ddbfa150ce54d55a73284638bbffeb10"
   },
   "source": [
    "### Word cloud of First Topic"
   ]
  },
  {
   "cell_type": "code",
   "execution_count": null,
   "metadata": {
    "_cell_guid": "ac6f38fc-7f72-4c09-9d31-e099a7c2366e",
    "_uuid": "07ba1967a58b142e2138430d51d9e6b71b2e1e48"
   },
   "outputs": [],
   "source": [
    "# Generating the wordcloud with the values under the category dataframe\n",
    "firstcloud = WordCloud(\n",
    "                          stopwords=STOPWORDS,\n",
    "                          background_color='black',\n",
    "                          width=2500,\n",
    "                          height=1800\n",
    "                         ).generate(\" \".join(first_topic_words))\n",
    "plt.imshow(firstcloud)\n",
    "plt.axis('off')\n",
    "plt.show()"
   ]
  },
  {
   "cell_type": "code",
   "execution_count": null,
   "metadata": {
    "_cell_guid": "ec04f41c-7fa4-4617-a1c1-b07e49ff3c69",
    "_uuid": "568f50984b8bc102d4baaa30f4cd66610e54f979"
   },
   "outputs": [],
   "source": [
    "# Generating the wordcloud with the values under the category dataframe\n",
    "cloud = WordCloud(\n",
    "                          stopwords=STOPWORDS,\n",
    "                          background_color='black',\n",
    "                          width=2500,\n",
    "                          height=1800\n",
    "                         ).generate(\" \".join(second_topic_words))\n",
    "plt.imshow(cloud)\n",
    "plt.axis('off')\n",
    "plt.show()"
   ]
  },
  {
   "cell_type": "code",
   "execution_count": null,
   "metadata": {
    "_cell_guid": "b69e8ae7-e31a-467c-bbf0-d0ce96ac8b91",
    "_uuid": "d19352a6abdda236088d86e6659a2604e96f1410"
   },
   "outputs": [],
   "source": [
    "# Generating the wordcloud with the values under the category dataframe\n",
    "cloud = WordCloud(\n",
    "                          stopwords=STOPWORDS,\n",
    "                          background_color='black',\n",
    "                          width=2500,\n",
    "                          height=1800\n",
    "                         ).generate(\" \".join(third_topic_words))\n",
    "plt.imshow(cloud)\n",
    "plt.axis('off')\n",
    "plt.show()"
   ]
  },
  {
   "cell_type": "code",
   "execution_count": null,
   "metadata": {
    "_cell_guid": "669e96a3-4e89-4cb1-887e-535c83bbbd62",
    "_uuid": "db4b46f60d34dfa9149dda688dc573b71b77da55"
   },
   "outputs": [],
   "source": [
    "# Generating the wordcloud with the values under the category dataframe\n",
    "cloud = WordCloud(\n",
    "                          stopwords=STOPWORDS,\n",
    "                          background_color='black',\n",
    "                          width=2500,\n",
    "                          height=1800\n",
    "                         ).generate(\" \".join(fourth_topic_words))\n",
    "plt.imshow(cloud)\n",
    "plt.axis('off')\n",
    "plt.show()"
   ]
  },
  {
   "cell_type": "markdown",
   "metadata": {
    "_cell_guid": "48fd7d40-92e4-4612-bc92-b5cddf57cb02",
    "_uuid": "9a0a83277b3264079483e79fc0ae3d8bc6f9e8bb"
   },
   "source": [
    "# Conclusion"
   ]
  },
  {
   "cell_type": "code",
   "execution_count": null,
   "metadata": {
    "_cell_guid": "8d99cd60-8a17-4c14-81da-fb845d9912b2",
    "_uuid": "739edef2e127c1db90b9ee774056ff4daea4271b"
   },
   "outputs": [],
   "source": []
  }
 ],
 "metadata": {
  "kernelspec": {
   "display_name": "Python 3",
   "language": "python",
   "name": "python3"
  },
  "language_info": {
   "codemirror_mode": {
    "name": "ipython",
    "version": 3
   },
   "file_extension": ".py",
   "mimetype": "text/x-python",
   "name": "python",
   "nbconvert_exporter": "python",
   "pygments_lexer": "ipython3",
   "version": "3.7.4"
  }
 },
 "nbformat": 4,
 "nbformat_minor": 1
}
