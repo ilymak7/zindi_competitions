{
 "cells": [
  {
   "cell_type": "markdown",
   "metadata": {
    "_cell_guid": "d49b7eaa-0bf7-48e0-9fe6-51ba03036ba1",
    "_uuid": "9dacb7a2a5a9e582d7e597be4ea479cedd79489a"
   },
   "source": [
    "# Classifying multi-label comments with Logistic Regression\n",
    "#### Rhodium Beng\n",
    "Started on 20 December 2017\n",
    "\n",
    "This kernel is inspired by:\n",
    "- kernel by Jeremy Howard : _NB-SVM strong linear baseline + EDA (0.052 lb)_\n",
    "- kernel by Issac : _logistic regression (0.055 lb)_\n",
    "- _Solving Multi-Label Classification problems_, https://www.analyticsvidhya.com/blog/2017/08/introduction-to-multi-label-classification/"
   ]
  },
  {
   "cell_type": "code",
   "execution_count": 1,
   "metadata": {
    "_cell_guid": "8f6a95ee-cc95-4c9f-a8f7-72ae58ec13d6",
    "_uuid": "5c5f4cc8865644748e11336736bbe584adebe7b1"
   },
   "outputs": [
    {
     "name": "stderr",
     "output_type": "stream",
     "text": [
      "C:\\Users\\amakr\\AppData\\Local\\Continuum\\anaconda3\\lib\\site-packages\\statsmodels\\tools\\_testing.py:19: FutureWarning: pandas.util.testing is deprecated. Use the functions in the public API at pandas.testing instead.\n",
      "  import pandas.util.testing as tm\n"
     ]
    }
   ],
   "source": [
    "import numpy as np\n",
    "import pandas as pd\n",
    "from matplotlib import pyplot as plt\n",
    "%matplotlib inline\n",
    "import seaborn as sns\n",
    "import re"
   ]
  },
  {
   "cell_type": "markdown",
   "metadata": {
    "_cell_guid": "80d61838-9025-4cba-bb0e-58175586b21b",
    "_uuid": "4f65d03ddbfd127307d3e415003346eb898b4d6b"
   },
   "source": [
    "## Load training and test data"
   ]
  },
  {
   "cell_type": "code",
   "execution_count": 2,
   "metadata": {
    "_cell_guid": "094fff47-db10-447c-965e-08056f718bde",
    "_uuid": "4e35cd5fcae1581dbd6bc51f14728e27fe63fe70"
   },
   "outputs": [],
   "source": [
    "train_df = pd.read_csv('../Translated/cleaned/train.csv')\n",
    "test_df = pd.read_csv('../Translated/cleaned/test.csv')"
   ]
  },
  {
   "cell_type": "markdown",
   "metadata": {
    "_cell_guid": "09986b08-eda6-4438-9cbe-52a61d8d57fa",
    "_uuid": "89d1c9a4f9598427e8a20d66fa9e56796ad720f6"
   },
   "source": [
    "## Examine the data (EDA)"
   ]
  },
  {
   "cell_type": "code",
   "execution_count": 3,
   "metadata": {
    "_cell_guid": "c4c7137d-6bc7-4b41-b50a-e511883155e9",
    "_kg_hide-output": true,
    "_uuid": "9e53b7599d707a9420a75c37c7ac6d05bed9df7b"
   },
   "outputs": [
    {
     "data": {
      "text/html": [
       "<div>\n",
       "<style scoped>\n",
       "    .dataframe tbody tr th:only-of-type {\n",
       "        vertical-align: middle;\n",
       "    }\n",
       "\n",
       "    .dataframe tbody tr th {\n",
       "        vertical-align: top;\n",
       "    }\n",
       "\n",
       "    .dataframe thead th {\n",
       "        text-align: right;\n",
       "    }\n",
       "</style>\n",
       "<table border=\"1\" class=\"dataframe\">\n",
       "  <thead>\n",
       "    <tr style=\"text-align: right;\">\n",
       "      <th></th>\n",
       "      <th>ID</th>\n",
       "      <th>Text</th>\n",
       "      <th>Label</th>\n",
       "    </tr>\n",
       "  </thead>\n",
       "  <tbody>\n",
       "    <tr>\n",
       "      <th>1214</th>\n",
       "      <td>ID_tBlVTsLf</td>\n",
       "      <td>Atumiki a Dayosizi ya Dedza Asulidwa za Chibal...</td>\n",
       "      <td>RELIGION</td>\n",
       "    </tr>\n",
       "    <tr>\n",
       "      <th>76</th>\n",
       "      <td>ID_DQZTUqjC</td>\n",
       "      <td>Papa Alalika za Kulolerana Wolemba: Thokozani ...</td>\n",
       "      <td>SOCIAL</td>\n",
       "    </tr>\n",
       "    <tr>\n",
       "      <th>530</th>\n",
       "      <td>ID_TfrZKjLJ</td>\n",
       "      <td>Ku Machinga akonzekera ulimi wa fodya Alimi a...</td>\n",
       "      <td>FARMING</td>\n",
       "    </tr>\n",
       "    <tr>\n",
       "      <th>1006</th>\n",
       "      <td>ID_lqJVcryZ</td>\n",
       "      <td>Gondwe azaza pamsonkhano Nduna ya za chuma Go...</td>\n",
       "      <td>POLITICS</td>\n",
       "    </tr>\n",
       "    <tr>\n",
       "      <th>813</th>\n",
       "      <td>ID_drZICSvK</td>\n",
       "      <td>Bungwe La Amayi Ku Mphakati Wa St. Clara Lalim...</td>\n",
       "      <td>RELIGION</td>\n",
       "    </tr>\n",
       "  </tbody>\n",
       "</table>\n",
       "</div>"
      ],
      "text/plain": [
       "               ID                                               Text     Label\n",
       "1214  ID_tBlVTsLf  Atumiki a Dayosizi ya Dedza Asulidwa za Chibal...  RELIGION\n",
       "76    ID_DQZTUqjC  Papa Alalika za Kulolerana Wolemba: Thokozani ...    SOCIAL\n",
       "530   ID_TfrZKjLJ   Ku Machinga akonzekera ulimi wa fodya Alimi a...   FARMING\n",
       "1006  ID_lqJVcryZ   Gondwe azaza pamsonkhano Nduna ya za chuma Go...  POLITICS\n",
       "813   ID_drZICSvK  Bungwe La Amayi Ku Mphakati Wa St. Clara Lalim...  RELIGION"
      ]
     },
     "execution_count": 3,
     "metadata": {},
     "output_type": "execute_result"
    }
   ],
   "source": [
    "train_df.sample(5)"
   ]
  },
  {
   "cell_type": "markdown",
   "metadata": {
    "_cell_guid": "40597119-1274-4d5b-a054-b4b17dbcbb36",
    "_uuid": "6c824d91ae1e801e1489e93e1a9932c8c0cb0e0a"
   },
   "source": [
    "In the training data, the comments are labelled as one or more of the six categories; toxic, severe toxic, obscene, threat, insult and identity hate. This is essentially a multi-label classification problem."
   ]
  },
  {
   "cell_type": "code",
   "execution_count": 4,
   "metadata": {
    "_cell_guid": "7e29bebb-d9b7-44ab-a6ba-9f98e6507d5e",
    "_uuid": "7f7f2581edb2f42a64812dec31622a011dceff80"
   },
   "outputs": [],
   "source": [
    "cols_target = train_df.Label.unique().tolist()"
   ]
  },
  {
   "cell_type": "code",
   "execution_count": 5,
   "metadata": {
    "_cell_guid": "ce00e980-da07-4412-ae4c-5152cc2036e0",
    "_uuid": "e4a226272e319458391e117e8fb7f16b17c4884f"
   },
   "outputs": [
    {
     "data": {
      "text/html": [
       "<div>\n",
       "<style scoped>\n",
       "    .dataframe tbody tr th:only-of-type {\n",
       "        vertical-align: middle;\n",
       "    }\n",
       "\n",
       "    .dataframe tbody tr th {\n",
       "        vertical-align: top;\n",
       "    }\n",
       "\n",
       "    .dataframe thead th {\n",
       "        text-align: right;\n",
       "    }\n",
       "</style>\n",
       "<table border=\"1\" class=\"dataframe\">\n",
       "  <thead>\n",
       "    <tr style=\"text-align: right;\">\n",
       "      <th></th>\n",
       "      <th>ID</th>\n",
       "      <th>Text</th>\n",
       "      <th>Label</th>\n",
       "    </tr>\n",
       "  </thead>\n",
       "  <tbody>\n",
       "    <tr>\n",
       "      <th>count</th>\n",
       "      <td>1436</td>\n",
       "      <td>1436</td>\n",
       "      <td>1436</td>\n",
       "    </tr>\n",
       "    <tr>\n",
       "      <th>unique</th>\n",
       "      <td>1436</td>\n",
       "      <td>1436</td>\n",
       "      <td>20</td>\n",
       "    </tr>\n",
       "    <tr>\n",
       "      <th>top</th>\n",
       "      <td>ID_mGNngPhu</td>\n",
       "      <td>Chimanga chikololedwa chochepaUnduna Kauniuni...</td>\n",
       "      <td>POLITICS</td>\n",
       "    </tr>\n",
       "    <tr>\n",
       "      <th>freq</th>\n",
       "      <td>1</td>\n",
       "      <td>1</td>\n",
       "      <td>279</td>\n",
       "    </tr>\n",
       "  </tbody>\n",
       "</table>\n",
       "</div>"
      ],
      "text/plain": [
       "                 ID                                               Text  \\\n",
       "count          1436                                               1436   \n",
       "unique         1436                                               1436   \n",
       "top     ID_mGNngPhu   Chimanga chikololedwa chochepaUnduna Kauniuni...   \n",
       "freq              1                                                  1   \n",
       "\n",
       "           Label  \n",
       "count       1436  \n",
       "unique        20  \n",
       "top     POLITICS  \n",
       "freq         279  "
      ]
     },
     "execution_count": 5,
     "metadata": {},
     "output_type": "execute_result"
    }
   ],
   "source": [
    "# check missing values in numeric columns\n",
    "train_df.describe()"
   ]
  },
  {
   "cell_type": "markdown",
   "metadata": {
    "_cell_guid": "b2be6443-eb4e-4e12-81b3-faf2ea692ca4",
    "_uuid": "474f4cf26190a2f2011ca0908052973fec1b1520"
   },
   "source": [
    "There are no missing numeric values. \n",
    "As the mean values are very small (some way below 0.05), there would be many not labelled as positive in the six categories. From this I guess that there would be many comments which are not labelled in any of the six categories. Let's take a look."
   ]
  },
  {
   "cell_type": "code",
   "execution_count": 6,
   "metadata": {
    "_uuid": "f0a52911f77fade7ece075fdc0d9df9433029eec"
   },
   "outputs": [
    {
     "data": {
      "text/html": [
       "<div>\n",
       "<style scoped>\n",
       "    .dataframe tbody tr th:only-of-type {\n",
       "        vertical-align: middle;\n",
       "    }\n",
       "\n",
       "    .dataframe tbody tr th {\n",
       "        vertical-align: top;\n",
       "    }\n",
       "\n",
       "    .dataframe thead th {\n",
       "        text-align: right;\n",
       "    }\n",
       "</style>\n",
       "<table border=\"1\" class=\"dataframe\">\n",
       "  <thead>\n",
       "    <tr style=\"text-align: right;\">\n",
       "      <th></th>\n",
       "      <th>ID</th>\n",
       "      <th>Text</th>\n",
       "      <th>Label</th>\n",
       "      <th>ARTS AND CRAFTS</th>\n",
       "      <th>CULTURE</th>\n",
       "      <th>ECONOMY</th>\n",
       "      <th>EDUCATION</th>\n",
       "      <th>FARMING</th>\n",
       "      <th>FLOODING</th>\n",
       "      <th>HEALTH</th>\n",
       "      <th>...</th>\n",
       "      <th>OPINION/ESSAY</th>\n",
       "      <th>POLITICS</th>\n",
       "      <th>RELATIONSHIPS</th>\n",
       "      <th>RELIGION</th>\n",
       "      <th>SOCIAL</th>\n",
       "      <th>SOCIAL ISSUES</th>\n",
       "      <th>SPORTS</th>\n",
       "      <th>TRANSPORT</th>\n",
       "      <th>WILDLIFE/ENVIRONMENT</th>\n",
       "      <th>WITCHCRAFT</th>\n",
       "    </tr>\n",
       "  </thead>\n",
       "  <tbody>\n",
       "    <tr>\n",
       "      <th>0</th>\n",
       "      <td>ID_AASHwXxg</td>\n",
       "      <td>Mwangonde: Khansala wachinyamata Akamati achi...</td>\n",
       "      <td>POLITICS</td>\n",
       "      <td>0</td>\n",
       "      <td>0</td>\n",
       "      <td>0</td>\n",
       "      <td>0</td>\n",
       "      <td>0</td>\n",
       "      <td>0</td>\n",
       "      <td>0</td>\n",
       "      <td>...</td>\n",
       "      <td>0</td>\n",
       "      <td>1</td>\n",
       "      <td>0</td>\n",
       "      <td>0</td>\n",
       "      <td>0</td>\n",
       "      <td>0</td>\n",
       "      <td>0</td>\n",
       "      <td>0</td>\n",
       "      <td>0</td>\n",
       "      <td>0</td>\n",
       "    </tr>\n",
       "    <tr>\n",
       "      <th>1</th>\n",
       "      <td>ID_AGoFySzn</td>\n",
       "      <td>MCP siidakhutire ndi kalembera Chipani cha Ma...</td>\n",
       "      <td>POLITICS</td>\n",
       "      <td>0</td>\n",
       "      <td>0</td>\n",
       "      <td>0</td>\n",
       "      <td>0</td>\n",
       "      <td>0</td>\n",
       "      <td>0</td>\n",
       "      <td>0</td>\n",
       "      <td>...</td>\n",
       "      <td>0</td>\n",
       "      <td>1</td>\n",
       "      <td>0</td>\n",
       "      <td>0</td>\n",
       "      <td>0</td>\n",
       "      <td>0</td>\n",
       "      <td>0</td>\n",
       "      <td>0</td>\n",
       "      <td>0</td>\n",
       "      <td>0</td>\n",
       "    </tr>\n",
       "    <tr>\n",
       "      <th>2</th>\n",
       "      <td>ID_AGrrkBGP</td>\n",
       "      <td>Bungwe la MANEPO Lapempha Boma Liganizire Anth...</td>\n",
       "      <td>HEALTH</td>\n",
       "      <td>0</td>\n",
       "      <td>0</td>\n",
       "      <td>0</td>\n",
       "      <td>0</td>\n",
       "      <td>0</td>\n",
       "      <td>0</td>\n",
       "      <td>1</td>\n",
       "      <td>...</td>\n",
       "      <td>0</td>\n",
       "      <td>0</td>\n",
       "      <td>0</td>\n",
       "      <td>0</td>\n",
       "      <td>0</td>\n",
       "      <td>0</td>\n",
       "      <td>0</td>\n",
       "      <td>0</td>\n",
       "      <td>0</td>\n",
       "      <td>0</td>\n",
       "    </tr>\n",
       "    <tr>\n",
       "      <th>3</th>\n",
       "      <td>ID_AIJeigeG</td>\n",
       "      <td>Ndale zogawanitsa miyambo zanyanya Si zachile...</td>\n",
       "      <td>POLITICS</td>\n",
       "      <td>0</td>\n",
       "      <td>0</td>\n",
       "      <td>0</td>\n",
       "      <td>0</td>\n",
       "      <td>0</td>\n",
       "      <td>0</td>\n",
       "      <td>0</td>\n",
       "      <td>...</td>\n",
       "      <td>0</td>\n",
       "      <td>1</td>\n",
       "      <td>0</td>\n",
       "      <td>0</td>\n",
       "      <td>0</td>\n",
       "      <td>0</td>\n",
       "      <td>0</td>\n",
       "      <td>0</td>\n",
       "      <td>0</td>\n",
       "      <td>0</td>\n",
       "    </tr>\n",
       "    <tr>\n",
       "      <th>4</th>\n",
       "      <td>ID_APMprMbV</td>\n",
       "      <td>Nanga wapolisi ataphofomoka? Masiku ano sichi...</td>\n",
       "      <td>LAW/ORDER</td>\n",
       "      <td>0</td>\n",
       "      <td>0</td>\n",
       "      <td>0</td>\n",
       "      <td>0</td>\n",
       "      <td>0</td>\n",
       "      <td>0</td>\n",
       "      <td>0</td>\n",
       "      <td>...</td>\n",
       "      <td>0</td>\n",
       "      <td>0</td>\n",
       "      <td>0</td>\n",
       "      <td>0</td>\n",
       "      <td>0</td>\n",
       "      <td>0</td>\n",
       "      <td>0</td>\n",
       "      <td>0</td>\n",
       "      <td>0</td>\n",
       "      <td>0</td>\n",
       "    </tr>\n",
       "    <tr>\n",
       "      <th>...</th>\n",
       "      <td>...</td>\n",
       "      <td>...</td>\n",
       "      <td>...</td>\n",
       "      <td>...</td>\n",
       "      <td>...</td>\n",
       "      <td>...</td>\n",
       "      <td>...</td>\n",
       "      <td>...</td>\n",
       "      <td>...</td>\n",
       "      <td>...</td>\n",
       "      <td>...</td>\n",
       "      <td>...</td>\n",
       "      <td>...</td>\n",
       "      <td>...</td>\n",
       "      <td>...</td>\n",
       "      <td>...</td>\n",
       "      <td>...</td>\n",
       "      <td>...</td>\n",
       "      <td>...</td>\n",
       "      <td>...</td>\n",
       "      <td>...</td>\n",
       "    </tr>\n",
       "    <tr>\n",
       "      <th>1431</th>\n",
       "      <td>ID_zmTmmEio</td>\n",
       "      <td>Eni Minibus Ati Ali ndi Ufulu Wokweza Mitengo ...</td>\n",
       "      <td>TRANSPORT</td>\n",
       "      <td>0</td>\n",
       "      <td>0</td>\n",
       "      <td>0</td>\n",
       "      <td>0</td>\n",
       "      <td>0</td>\n",
       "      <td>0</td>\n",
       "      <td>0</td>\n",
       "      <td>...</td>\n",
       "      <td>0</td>\n",
       "      <td>0</td>\n",
       "      <td>0</td>\n",
       "      <td>0</td>\n",
       "      <td>0</td>\n",
       "      <td>0</td>\n",
       "      <td>0</td>\n",
       "      <td>1</td>\n",
       "      <td>0</td>\n",
       "      <td>0</td>\n",
       "    </tr>\n",
       "    <tr>\n",
       "      <th>1432</th>\n",
       "      <td>ID_znOlIaGQ</td>\n",
       "      <td>Kachali apepesa: Kulankhula motumbwa kuthe An...</td>\n",
       "      <td>POLITICS</td>\n",
       "      <td>0</td>\n",
       "      <td>0</td>\n",
       "      <td>0</td>\n",
       "      <td>0</td>\n",
       "      <td>0</td>\n",
       "      <td>0</td>\n",
       "      <td>0</td>\n",
       "      <td>...</td>\n",
       "      <td>0</td>\n",
       "      <td>1</td>\n",
       "      <td>0</td>\n",
       "      <td>0</td>\n",
       "      <td>0</td>\n",
       "      <td>0</td>\n",
       "      <td>0</td>\n",
       "      <td>0</td>\n",
       "      <td>0</td>\n",
       "      <td>0</td>\n",
       "    </tr>\n",
       "    <tr>\n",
       "      <th>1433</th>\n",
       "      <td>ID_znracTjN</td>\n",
       "      <td>Mawu supports non-fiction writers The Malawi ...</td>\n",
       "      <td>EDUCATION</td>\n",
       "      <td>0</td>\n",
       "      <td>0</td>\n",
       "      <td>0</td>\n",
       "      <td>1</td>\n",
       "      <td>0</td>\n",
       "      <td>0</td>\n",
       "      <td>0</td>\n",
       "      <td>...</td>\n",
       "      <td>0</td>\n",
       "      <td>0</td>\n",
       "      <td>0</td>\n",
       "      <td>0</td>\n",
       "      <td>0</td>\n",
       "      <td>0</td>\n",
       "      <td>0</td>\n",
       "      <td>0</td>\n",
       "      <td>0</td>\n",
       "      <td>0</td>\n",
       "    </tr>\n",
       "    <tr>\n",
       "      <th>1434</th>\n",
       "      <td>ID_ztdsmmva</td>\n",
       "      <td>Tame Mwawa: Phwete ndiye kudya kwake Sewero l...</td>\n",
       "      <td>SOCIAL ISSUES</td>\n",
       "      <td>0</td>\n",
       "      <td>0</td>\n",
       "      <td>0</td>\n",
       "      <td>0</td>\n",
       "      <td>0</td>\n",
       "      <td>0</td>\n",
       "      <td>0</td>\n",
       "      <td>...</td>\n",
       "      <td>0</td>\n",
       "      <td>0</td>\n",
       "      <td>0</td>\n",
       "      <td>0</td>\n",
       "      <td>0</td>\n",
       "      <td>1</td>\n",
       "      <td>0</td>\n",
       "      <td>0</td>\n",
       "      <td>0</td>\n",
       "      <td>0</td>\n",
       "    </tr>\n",
       "    <tr>\n",
       "      <th>1435</th>\n",
       "      <td>ID_zteydTpN</td>\n",
       "      <td>PAC iunguza za boma la chifedulo Nthumwi zomw...</td>\n",
       "      <td>POLITICS</td>\n",
       "      <td>0</td>\n",
       "      <td>0</td>\n",
       "      <td>0</td>\n",
       "      <td>0</td>\n",
       "      <td>0</td>\n",
       "      <td>0</td>\n",
       "      <td>0</td>\n",
       "      <td>...</td>\n",
       "      <td>0</td>\n",
       "      <td>1</td>\n",
       "      <td>0</td>\n",
       "      <td>0</td>\n",
       "      <td>0</td>\n",
       "      <td>0</td>\n",
       "      <td>0</td>\n",
       "      <td>0</td>\n",
       "      <td>0</td>\n",
       "      <td>0</td>\n",
       "    </tr>\n",
       "  </tbody>\n",
       "</table>\n",
       "<p>1436 rows × 23 columns</p>\n",
       "</div>"
      ],
      "text/plain": [
       "               ID                                               Text  \\\n",
       "0     ID_AASHwXxg   Mwangonde: Khansala wachinyamata Akamati achi...   \n",
       "1     ID_AGoFySzn   MCP siidakhutire ndi kalembera Chipani cha Ma...   \n",
       "2     ID_AGrrkBGP  Bungwe la MANEPO Lapempha Boma Liganizire Anth...   \n",
       "3     ID_AIJeigeG   Ndale zogawanitsa miyambo zanyanya Si zachile...   \n",
       "4     ID_APMprMbV   Nanga wapolisi ataphofomoka? Masiku ano sichi...   \n",
       "...           ...                                                ...   \n",
       "1431  ID_zmTmmEio  Eni Minibus Ati Ali ndi Ufulu Wokweza Mitengo ...   \n",
       "1432  ID_znOlIaGQ   Kachali apepesa: Kulankhula motumbwa kuthe An...   \n",
       "1433  ID_znracTjN   Mawu supports non-fiction writers The Malawi ...   \n",
       "1434  ID_ztdsmmva   Tame Mwawa: Phwete ndiye kudya kwake Sewero l...   \n",
       "1435  ID_zteydTpN   PAC iunguza za boma la chifedulo Nthumwi zomw...   \n",
       "\n",
       "              Label  ARTS AND CRAFTS  CULTURE  ECONOMY  EDUCATION  FARMING  \\\n",
       "0          POLITICS                0        0        0          0        0   \n",
       "1          POLITICS                0        0        0          0        0   \n",
       "2            HEALTH                0        0        0          0        0   \n",
       "3          POLITICS                0        0        0          0        0   \n",
       "4         LAW/ORDER                0        0        0          0        0   \n",
       "...             ...              ...      ...      ...        ...      ...   \n",
       "1431      TRANSPORT                0        0        0          0        0   \n",
       "1432       POLITICS                0        0        0          0        0   \n",
       "1433      EDUCATION                0        0        0          1        0   \n",
       "1434  SOCIAL ISSUES                0        0        0          0        0   \n",
       "1435       POLITICS                0        0        0          0        0   \n",
       "\n",
       "      FLOODING  HEALTH  ...  OPINION/ESSAY  POLITICS  RELATIONSHIPS  RELIGION  \\\n",
       "0            0       0  ...              0         1              0         0   \n",
       "1            0       0  ...              0         1              0         0   \n",
       "2            0       1  ...              0         0              0         0   \n",
       "3            0       0  ...              0         1              0         0   \n",
       "4            0       0  ...              0         0              0         0   \n",
       "...        ...     ...  ...            ...       ...            ...       ...   \n",
       "1431         0       0  ...              0         0              0         0   \n",
       "1432         0       0  ...              0         1              0         0   \n",
       "1433         0       0  ...              0         0              0         0   \n",
       "1434         0       0  ...              0         0              0         0   \n",
       "1435         0       0  ...              0         1              0         0   \n",
       "\n",
       "      SOCIAL  SOCIAL ISSUES  SPORTS  TRANSPORT  WILDLIFE/ENVIRONMENT  \\\n",
       "0          0              0       0          0                     0   \n",
       "1          0              0       0          0                     0   \n",
       "2          0              0       0          0                     0   \n",
       "3          0              0       0          0                     0   \n",
       "4          0              0       0          0                     0   \n",
       "...      ...            ...     ...        ...                   ...   \n",
       "1431       0              0       0          1                     0   \n",
       "1432       0              0       0          0                     0   \n",
       "1433       0              0       0          0                     0   \n",
       "1434       0              1       0          0                     0   \n",
       "1435       0              0       0          0                     0   \n",
       "\n",
       "      WITCHCRAFT  \n",
       "0              0  \n",
       "1              0  \n",
       "2              0  \n",
       "3              0  \n",
       "4              0  \n",
       "...          ...  \n",
       "1431           0  \n",
       "1432           0  \n",
       "1433           0  \n",
       "1434           0  \n",
       "1435           0  \n",
       "\n",
       "[1436 rows x 23 columns]"
      ]
     },
     "execution_count": 6,
     "metadata": {},
     "output_type": "execute_result"
    }
   ],
   "source": [
    "# unlabelled_in_all = train_df[(train_df['toxic']!=1) & (train_df['severe_toxic']!=1) & (train_df['obscene']!=1) & \n",
    "#                             (train_df['threat']!=1) & (train_df['insult']!=1) & (train_df['identity_hate']!=1)]\n",
    "# print('Percentage of unlabelled comments is ', len(unlabelled_in_all)/len(train_df)*100)\n",
    "\n",
    "from sklearn.preprocessing import LabelBinarizer\n",
    "lb = LabelBinarizer()\n",
    "y_train = lb.fit_transform(train_df['Label'])\n",
    "\n",
    "y_train = pd.DataFrame(y_train, columns= lb.classes_)\n",
    "y_train\n",
    "\n",
    "train_df = pd.concat([train_df, y_train], axis = 1)\n",
    "train_df"
   ]
  },
  {
   "cell_type": "code",
   "execution_count": 7,
   "metadata": {
    "_cell_guid": "997cc605-71a0-4ceb-a64b-e3e44c172aea",
    "_uuid": "99f1db4864c5c538f2a925d7b6733bb4b1c68707"
   },
   "outputs": [],
   "source": [
    "# # check for any 'null' comment\n",
    "# no_comment = train_df[train_df['comment_text'].isnull()]\n",
    "# len(no_comment)"
   ]
  },
  {
   "cell_type": "code",
   "execution_count": 8,
   "metadata": {
    "_cell_guid": "af5ba625-bd5d-4ad3-948b-5641b10d62fb",
    "_kg_hide-output": true,
    "_uuid": "964e57595bb6e87a47aa82557c9d63aae3c24bd0"
   },
   "outputs": [],
   "source": [
    "# test_df.head()"
   ]
  },
  {
   "cell_type": "code",
   "execution_count": 9,
   "metadata": {
    "_cell_guid": "6bd65c22-9c8a-4756-a7bf-16187a6044d1",
    "_uuid": "c616bcb0dcf611679dcb5009def9d71d6727cd0e"
   },
   "outputs": [],
   "source": [
    "# no_comment = test_df[test_df['comment_text'].isnull()]\n",
    "# no_comment"
   ]
  },
  {
   "cell_type": "markdown",
   "metadata": {
    "_cell_guid": "ecce8833-b5b4-40b4-a164-015b7380b8b1",
    "_uuid": "ad7f31ff8035dc60d37c8070f8bbaa9e7afac32f"
   },
   "source": [
    "All rows in the training and test data contain comments, so there's no need to clean up null fields."
   ]
  },
  {
   "cell_type": "code",
   "execution_count": 10,
   "metadata": {
    "_cell_guid": "b3dcbd9f-dbb8-4a5a-96b2-b93882516e27",
    "_uuid": "e497fc6688e16602e3f49a11939f32324d295a8d"
   },
   "outputs": [
    {
     "name": "stdout",
     "output_type": "stream",
     "text": [
      "Total rows in test is 620\n",
      "Total rows in train is 1436\n",
      "POLITICS                279\n",
      "HEALTH                  127\n",
      "LAW/ORDER               136\n",
      "RELIGION                147\n",
      "FARMING                  78\n",
      "WILDLIFE/ENVIRONMENT     36\n",
      "SOCIAL ISSUES           134\n",
      "SOCIAL                  152\n",
      "OPINION/ESSAY            26\n",
      "LOCALCHIEFS              25\n",
      "WITCHCRAFT               16\n",
      "ECONOMY                  86\n",
      "SPORTS                   49\n",
      "RELATIONSHIPS            39\n",
      "TRANSPORT                11\n",
      "CULTURE                  23\n",
      "EDUCATION                43\n",
      "MUSIC                    15\n",
      "ARTS AND CRAFTS           7\n",
      "FLOODING                  7\n",
      "dtype: int64\n"
     ]
    }
   ],
   "source": [
    "# let's see the total rows in train, test data and the numbers for the various categories\n",
    "print('Total rows in test is {}'.format(len(test_df)))\n",
    "print('Total rows in train is {}'.format(len(train_df)))\n",
    "print(train_df[cols_target].sum())"
   ]
  },
  {
   "cell_type": "markdown",
   "metadata": {
    "_cell_guid": "981dff09-3acf-4014-b38a-22afc02a6654",
    "_uuid": "2ff9ed83ba328872d446add97695285dc49f4165",
    "collapsed": true
   },
   "source": [
    "As mentioned earlier, majority of the comments in the training data are not labelled in one or more of these categories."
   ]
  },
  {
   "cell_type": "code",
   "execution_count": 11,
   "metadata": {
    "_cell_guid": "b26588a7-9a7f-4183-98b2-fb94a70bedaa",
    "_uuid": "1e97432af65b6b75b436daabc83bdf57775a59c1"
   },
   "outputs": [],
   "source": [
    "# Let's look at the character length for the rows in the training data and record these\n",
    "train_df['char_length'] = train_df['Text'].apply(lambda x: len(str(x)))"
   ]
  },
  {
   "cell_type": "code",
   "execution_count": 12,
   "metadata": {
    "_cell_guid": "d5ac5111-5bba-44c9-a039-7bb01a5bfd59",
    "_uuid": "448c3492fc2fe24f30bd7b97047d69f16b58ca2f",
    "scrolled": true
   },
   "outputs": [
    {
     "data": {
      "image/png": "[encoded data removed]",
      "text/plain": [
       "<Figure size 432x288 with 1 Axes>"
      ]
     },
     "metadata": {},
     "output_type": "display_data"
    }
   ],
   "source": [
    "# look at the histogram plot for text length\n",
    "sns.set()\n",
    "train_df['char_length'].hist()\n",
    "plt.show()"
   ]
  },
  {
   "cell_type": "markdown",
   "metadata": {
    "_cell_guid": "5b482de7-5fd1-4ef7-b7b4-2abf84ebdc25",
    "_uuid": "d28a801b4057518f87e20c46a77f9dc8757ab944"
   },
   "source": [
    "Most of the text length are within 500 characters, with some up to 5,000 characters long."
   ]
  },
  {
   "cell_type": "markdown",
   "metadata": {
    "_cell_guid": "f16a287f-27d4-4afa-82a1-dd441c2fd36c",
    "_uuid": "e1e0ecc1df6989b0ee73874f273f0dbbfc4c9d5e"
   },
   "source": [
    "Next, let's examine the correlations among the target variables."
   ]
  },
  {
   "cell_type": "code",
   "execution_count": 13,
   "metadata": {
    "_cell_guid": "64164a2c-770f-469d-9020-e91714a9b2a8",
    "_uuid": "fab22b3f850c80a10d665ae43ee09b5107a79887"
   },
   "outputs": [],
   "source": [
    "data = train_df[cols_target]"
   ]
  },
  {
   "cell_type": "code",
   "execution_count": 14,
   "metadata": {
    "_cell_guid": "7fc7803b-a7f1-414d-84fa-d1d2201c8bb7",
    "_kg_hide-output": false,
    "_uuid": "58968a44d8fdb3b93ac57f1ca20f81ffb71d164f",
    "scrolled": true
   },
   "outputs": [
    {
     "data": {
      "text/plain": [
       "<matplotlib.axes._subplots.AxesSubplot at 0x267c76d1ec8>"
      ]
     },
     "execution_count": 14,
     "metadata": {},
     "output_type": "execute_result"
    },
    {
     "data": {
      "image/png": "[encoded data removed]",
      "text/plain": [
       "<Figure size 504x504 with 2 Axes>"
      ]
     },
     "metadata": {},
     "output_type": "display_data"
    }
   ],
   "source": [
    "colormap = plt.cm.plasma\n",
    "plt.figure(figsize=(7,7))\n",
    "plt.title('Correlation of features & targets',y=1.05,size=14)\n",
    "sns.heatmap(data.astype(float).corr(),linewidths=0.1,vmax=1.0,square=True,cmap=colormap,\n",
    "           linecolor='white',annot=True)"
   ]
  },
  {
   "cell_type": "markdown",
   "metadata": {
    "_cell_guid": "095fd031-32a0-400b-9357-af0c8f50dd6b",
    "_uuid": "4f9da9651b4e007088b19a06165d0727fb4f4e07"
   },
   "source": [
    "Indeed, it looks like some of the labels are higher correlated, e.g. insult-obscene has the highest at 0.74, followed by toxic-obscene and toxic-insult."
   ]
  },
  {
   "cell_type": "markdown",
   "metadata": {
    "_cell_guid": "caa00f5d-7e26-48cb-92b3-acc1f1de0aca",
    "_uuid": "b677d6a32b7b72e08ba3b46bce572a223db964de"
   },
   "source": [
    "What about the character length & distribution of the comment text in the test data?"
   ]
  },
  {
   "cell_type": "code",
   "execution_count": 15,
   "metadata": {
    "_cell_guid": "0993d06b-495e-428a-933a-6ffec6bdcef3",
    "_uuid": "36e4d00a5afc15e6b04ffa1e79421396d051f614"
   },
   "outputs": [],
   "source": [
    "test_df['char_length'] = test_df['Text'].apply(lambda x: len(str(x)))"
   ]
  },
  {
   "cell_type": "code",
   "execution_count": 16,
   "metadata": {},
   "outputs": [
    {
     "data": {
      "text/html": [
       "<div>\n",
       "<style scoped>\n",
       "    .dataframe tbody tr th:only-of-type {\n",
       "        vertical-align: middle;\n",
       "    }\n",
       "\n",
       "    .dataframe tbody tr th {\n",
       "        vertical-align: top;\n",
       "    }\n",
       "\n",
       "    .dataframe thead th {\n",
       "        text-align: right;\n",
       "    }\n",
       "</style>\n",
       "<table border=\"1\" class=\"dataframe\">\n",
       "  <thead>\n",
       "    <tr style=\"text-align: right;\">\n",
       "      <th></th>\n",
       "      <th>POLITICS</th>\n",
       "      <th>HEALTH</th>\n",
       "      <th>LAW/ORDER</th>\n",
       "      <th>RELIGION</th>\n",
       "      <th>FARMING</th>\n",
       "      <th>WILDLIFE/ENVIRONMENT</th>\n",
       "      <th>SOCIAL ISSUES</th>\n",
       "      <th>SOCIAL</th>\n",
       "      <th>OPINION/ESSAY</th>\n",
       "      <th>LOCALCHIEFS</th>\n",
       "      <th>WITCHCRAFT</th>\n",
       "      <th>ECONOMY</th>\n",
       "      <th>SPORTS</th>\n",
       "      <th>RELATIONSHIPS</th>\n",
       "      <th>TRANSPORT</th>\n",
       "      <th>CULTURE</th>\n",
       "      <th>EDUCATION</th>\n",
       "      <th>MUSIC</th>\n",
       "      <th>ARTS AND CRAFTS</th>\n",
       "      <th>FLOODING</th>\n",
       "    </tr>\n",
       "  </thead>\n",
       "  <tbody>\n",
       "    <tr>\n",
       "      <th>POLITICS</th>\n",
       "      <td>1.000000</td>\n",
       "      <td>-0.152956</td>\n",
       "      <td>-0.158830</td>\n",
       "      <td>-0.165832</td>\n",
       "      <td>-0.117688</td>\n",
       "      <td>-0.078745</td>\n",
       "      <td>-0.157537</td>\n",
       "      <td>-0.168956</td>\n",
       "      <td>-0.066683</td>\n",
       "      <td>-0.065364</td>\n",
       "      <td>-0.052126</td>\n",
       "      <td>-0.123942</td>\n",
       "      <td>-0.092299</td>\n",
       "      <td>-0.082048</td>\n",
       "      <td>-0.043144</td>\n",
       "      <td>-0.062651</td>\n",
       "      <td>-0.086277</td>\n",
       "      <td>-0.050453</td>\n",
       "      <td>-0.034369</td>\n",
       "      <td>-0.034369</td>\n",
       "    </tr>\n",
       "    <tr>\n",
       "      <th>HEALTH</th>\n",
       "      <td>-0.152956</td>\n",
       "      <td>1.000000</td>\n",
       "      <td>-0.100746</td>\n",
       "      <td>-0.105188</td>\n",
       "      <td>-0.074650</td>\n",
       "      <td>-0.049948</td>\n",
       "      <td>-0.099926</td>\n",
       "      <td>-0.107170</td>\n",
       "      <td>-0.042297</td>\n",
       "      <td>-0.041461</td>\n",
       "      <td>-0.033063</td>\n",
       "      <td>-0.078617</td>\n",
       "      <td>-0.058545</td>\n",
       "      <td>-0.052043</td>\n",
       "      <td>-0.027367</td>\n",
       "      <td>-0.039740</td>\n",
       "      <td>-0.054726</td>\n",
       "      <td>-0.032002</td>\n",
       "      <td>-0.021800</td>\n",
       "      <td>-0.021800</td>\n",
       "    </tr>\n",
       "    <tr>\n",
       "      <th>LAW/ORDER</th>\n",
       "      <td>-0.158830</td>\n",
       "      <td>-0.100746</td>\n",
       "      <td>1.000000</td>\n",
       "      <td>-0.109227</td>\n",
       "      <td>-0.077517</td>\n",
       "      <td>-0.051866</td>\n",
       "      <td>-0.103764</td>\n",
       "      <td>-0.111285</td>\n",
       "      <td>-0.043921</td>\n",
       "      <td>-0.043053</td>\n",
       "      <td>-0.034333</td>\n",
       "      <td>-0.081636</td>\n",
       "      <td>-0.060794</td>\n",
       "      <td>-0.054042</td>\n",
       "      <td>-0.028418</td>\n",
       "      <td>-0.041266</td>\n",
       "      <td>-0.056827</td>\n",
       "      <td>-0.033231</td>\n",
       "      <td>-0.022638</td>\n",
       "      <td>-0.022638</td>\n",
       "    </tr>\n",
       "    <tr>\n",
       "      <th>RELIGION</th>\n",
       "      <td>-0.165832</td>\n",
       "      <td>-0.105188</td>\n",
       "      <td>-0.109227</td>\n",
       "      <td>1.000000</td>\n",
       "      <td>-0.080934</td>\n",
       "      <td>-0.054153</td>\n",
       "      <td>-0.108338</td>\n",
       "      <td>-0.116191</td>\n",
       "      <td>-0.045857</td>\n",
       "      <td>-0.044951</td>\n",
       "      <td>-0.035847</td>\n",
       "      <td>-0.085234</td>\n",
       "      <td>-0.063473</td>\n",
       "      <td>-0.056424</td>\n",
       "      <td>-0.029670</td>\n",
       "      <td>-0.043085</td>\n",
       "      <td>-0.059332</td>\n",
       "      <td>-0.034696</td>\n",
       "      <td>-0.023636</td>\n",
       "      <td>-0.023636</td>\n",
       "    </tr>\n",
       "    <tr>\n",
       "      <th>FARMING</th>\n",
       "      <td>-0.117688</td>\n",
       "      <td>-0.074650</td>\n",
       "      <td>-0.077517</td>\n",
       "      <td>-0.080934</td>\n",
       "      <td>1.000000</td>\n",
       "      <td>-0.038431</td>\n",
       "      <td>-0.076885</td>\n",
       "      <td>-0.082459</td>\n",
       "      <td>-0.032544</td>\n",
       "      <td>-0.031901</td>\n",
       "      <td>-0.025440</td>\n",
       "      <td>-0.060489</td>\n",
       "      <td>-0.045046</td>\n",
       "      <td>-0.040043</td>\n",
       "      <td>-0.021057</td>\n",
       "      <td>-0.030577</td>\n",
       "      <td>-0.042107</td>\n",
       "      <td>-0.024623</td>\n",
       "      <td>-0.016774</td>\n",
       "      <td>-0.016774</td>\n",
       "    </tr>\n",
       "    <tr>\n",
       "      <th>WILDLIFE/ENVIRONMENT</th>\n",
       "      <td>-0.078745</td>\n",
       "      <td>-0.049948</td>\n",
       "      <td>-0.051866</td>\n",
       "      <td>-0.054153</td>\n",
       "      <td>-0.038431</td>\n",
       "      <td>1.000000</td>\n",
       "      <td>-0.051444</td>\n",
       "      <td>-0.055173</td>\n",
       "      <td>-0.021775</td>\n",
       "      <td>-0.021345</td>\n",
       "      <td>-0.017022</td>\n",
       "      <td>-0.040473</td>\n",
       "      <td>-0.030140</td>\n",
       "      <td>-0.026793</td>\n",
       "      <td>-0.014089</td>\n",
       "      <td>-0.020459</td>\n",
       "      <td>-0.028174</td>\n",
       "      <td>-0.016475</td>\n",
       "      <td>-0.011223</td>\n",
       "      <td>-0.011223</td>\n",
       "    </tr>\n",
       "    <tr>\n",
       "      <th>SOCIAL ISSUES</th>\n",
       "      <td>-0.157537</td>\n",
       "      <td>-0.099926</td>\n",
       "      <td>-0.103764</td>\n",
       "      <td>-0.108338</td>\n",
       "      <td>-0.076885</td>\n",
       "      <td>-0.051444</td>\n",
       "      <td>1.000000</td>\n",
       "      <td>-0.110379</td>\n",
       "      <td>-0.043564</td>\n",
       "      <td>-0.042703</td>\n",
       "      <td>-0.034054</td>\n",
       "      <td>-0.080971</td>\n",
       "      <td>-0.060299</td>\n",
       "      <td>-0.053602</td>\n",
       "      <td>-0.028186</td>\n",
       "      <td>-0.040930</td>\n",
       "      <td>-0.056364</td>\n",
       "      <td>-0.032961</td>\n",
       "      <td>-0.022453</td>\n",
       "      <td>-0.022453</td>\n",
       "    </tr>\n",
       "    <tr>\n",
       "      <th>SOCIAL</th>\n",
       "      <td>-0.168956</td>\n",
       "      <td>-0.107170</td>\n",
       "      <td>-0.111285</td>\n",
       "      <td>-0.116191</td>\n",
       "      <td>-0.082459</td>\n",
       "      <td>-0.055173</td>\n",
       "      <td>-0.110379</td>\n",
       "      <td>1.000000</td>\n",
       "      <td>-0.046721</td>\n",
       "      <td>-0.045798</td>\n",
       "      <td>-0.036522</td>\n",
       "      <td>-0.086840</td>\n",
       "      <td>-0.064669</td>\n",
       "      <td>-0.057487</td>\n",
       "      <td>-0.030229</td>\n",
       "      <td>-0.043897</td>\n",
       "      <td>-0.060450</td>\n",
       "      <td>-0.035350</td>\n",
       "      <td>-0.024081</td>\n",
       "      <td>-0.024081</td>\n",
       "    </tr>\n",
       "    <tr>\n",
       "      <th>OPINION/ESSAY</th>\n",
       "      <td>-0.066683</td>\n",
       "      <td>-0.042297</td>\n",
       "      <td>-0.043921</td>\n",
       "      <td>-0.045857</td>\n",
       "      <td>-0.032544</td>\n",
       "      <td>-0.021775</td>\n",
       "      <td>-0.043564</td>\n",
       "      <td>-0.046721</td>\n",
       "      <td>1.000000</td>\n",
       "      <td>-0.018075</td>\n",
       "      <td>-0.014414</td>\n",
       "      <td>-0.034274</td>\n",
       "      <td>-0.025523</td>\n",
       "      <td>-0.022689</td>\n",
       "      <td>-0.011931</td>\n",
       "      <td>-0.017325</td>\n",
       "      <td>-0.023858</td>\n",
       "      <td>-0.013952</td>\n",
       "      <td>-0.009504</td>\n",
       "      <td>-0.009504</td>\n",
       "    </tr>\n",
       "    <tr>\n",
       "      <th>LOCALCHIEFS</th>\n",
       "      <td>-0.065364</td>\n",
       "      <td>-0.041461</td>\n",
       "      <td>-0.043053</td>\n",
       "      <td>-0.044951</td>\n",
       "      <td>-0.031901</td>\n",
       "      <td>-0.021345</td>\n",
       "      <td>-0.042703</td>\n",
       "      <td>-0.045798</td>\n",
       "      <td>-0.018075</td>\n",
       "      <td>1.000000</td>\n",
       "      <td>-0.014129</td>\n",
       "      <td>-0.033596</td>\n",
       "      <td>-0.025019</td>\n",
       "      <td>-0.022240</td>\n",
       "      <td>-0.011695</td>\n",
       "      <td>-0.016982</td>\n",
       "      <td>-0.023386</td>\n",
       "      <td>-0.013676</td>\n",
       "      <td>-0.009316</td>\n",
       "      <td>-0.009316</td>\n",
       "    </tr>\n",
       "    <tr>\n",
       "      <th>WITCHCRAFT</th>\n",
       "      <td>-0.052126</td>\n",
       "      <td>-0.033063</td>\n",
       "      <td>-0.034333</td>\n",
       "      <td>-0.035847</td>\n",
       "      <td>-0.025440</td>\n",
       "      <td>-0.017022</td>\n",
       "      <td>-0.034054</td>\n",
       "      <td>-0.036522</td>\n",
       "      <td>-0.014414</td>\n",
       "      <td>-0.014129</td>\n",
       "      <td>1.000000</td>\n",
       "      <td>-0.026792</td>\n",
       "      <td>-0.019952</td>\n",
       "      <td>-0.017736</td>\n",
       "      <td>-0.009326</td>\n",
       "      <td>-0.013543</td>\n",
       "      <td>-0.018650</td>\n",
       "      <td>-0.010906</td>\n",
       "      <td>-0.007429</td>\n",
       "      <td>-0.007429</td>\n",
       "    </tr>\n",
       "    <tr>\n",
       "      <th>ECONOMY</th>\n",
       "      <td>-0.123942</td>\n",
       "      <td>-0.078617</td>\n",
       "      <td>-0.081636</td>\n",
       "      <td>-0.085234</td>\n",
       "      <td>-0.060489</td>\n",
       "      <td>-0.040473</td>\n",
       "      <td>-0.080971</td>\n",
       "      <td>-0.086840</td>\n",
       "      <td>-0.034274</td>\n",
       "      <td>-0.033596</td>\n",
       "      <td>-0.026792</td>\n",
       "      <td>1.000000</td>\n",
       "      <td>-0.047440</td>\n",
       "      <td>-0.042171</td>\n",
       "      <td>-0.022175</td>\n",
       "      <td>-0.032201</td>\n",
       "      <td>-0.044345</td>\n",
       "      <td>-0.025932</td>\n",
       "      <td>-0.017665</td>\n",
       "      <td>-0.017665</td>\n",
       "    </tr>\n",
       "    <tr>\n",
       "      <th>SPORTS</th>\n",
       "      <td>-0.092299</td>\n",
       "      <td>-0.058545</td>\n",
       "      <td>-0.060794</td>\n",
       "      <td>-0.063473</td>\n",
       "      <td>-0.045046</td>\n",
       "      <td>-0.030140</td>\n",
       "      <td>-0.060299</td>\n",
       "      <td>-0.064669</td>\n",
       "      <td>-0.025523</td>\n",
       "      <td>-0.025019</td>\n",
       "      <td>-0.019952</td>\n",
       "      <td>-0.047440</td>\n",
       "      <td>1.000000</td>\n",
       "      <td>-0.031405</td>\n",
       "      <td>-0.016514</td>\n",
       "      <td>-0.023980</td>\n",
       "      <td>-0.033023</td>\n",
       "      <td>-0.019311</td>\n",
       "      <td>-0.013155</td>\n",
       "      <td>-0.013155</td>\n",
       "    </tr>\n",
       "    <tr>\n",
       "      <th>RELATIONSHIPS</th>\n",
       "      <td>-0.082048</td>\n",
       "      <td>-0.052043</td>\n",
       "      <td>-0.054042</td>\n",
       "      <td>-0.056424</td>\n",
       "      <td>-0.040043</td>\n",
       "      <td>-0.026793</td>\n",
       "      <td>-0.053602</td>\n",
       "      <td>-0.057487</td>\n",
       "      <td>-0.022689</td>\n",
       "      <td>-0.022240</td>\n",
       "      <td>-0.017736</td>\n",
       "      <td>-0.042171</td>\n",
       "      <td>-0.031405</td>\n",
       "      <td>1.000000</td>\n",
       "      <td>-0.014680</td>\n",
       "      <td>-0.021317</td>\n",
       "      <td>-0.029356</td>\n",
       "      <td>-0.017167</td>\n",
       "      <td>-0.011694</td>\n",
       "      <td>-0.011694</td>\n",
       "    </tr>\n",
       "    <tr>\n",
       "      <th>TRANSPORT</th>\n",
       "      <td>-0.043144</td>\n",
       "      <td>-0.027367</td>\n",
       "      <td>-0.028418</td>\n",
       "      <td>-0.029670</td>\n",
       "      <td>-0.021057</td>\n",
       "      <td>-0.014089</td>\n",
       "      <td>-0.028186</td>\n",
       "      <td>-0.030229</td>\n",
       "      <td>-0.011931</td>\n",
       "      <td>-0.011695</td>\n",
       "      <td>-0.009326</td>\n",
       "      <td>-0.022175</td>\n",
       "      <td>-0.016514</td>\n",
       "      <td>-0.014680</td>\n",
       "      <td>1.000000</td>\n",
       "      <td>-0.011209</td>\n",
       "      <td>-0.015436</td>\n",
       "      <td>-0.009027</td>\n",
       "      <td>-0.006149</td>\n",
       "      <td>-0.006149</td>\n",
       "    </tr>\n",
       "    <tr>\n",
       "      <th>CULTURE</th>\n",
       "      <td>-0.062651</td>\n",
       "      <td>-0.039740</td>\n",
       "      <td>-0.041266</td>\n",
       "      <td>-0.043085</td>\n",
       "      <td>-0.030577</td>\n",
       "      <td>-0.020459</td>\n",
       "      <td>-0.040930</td>\n",
       "      <td>-0.043897</td>\n",
       "      <td>-0.017325</td>\n",
       "      <td>-0.016982</td>\n",
       "      <td>-0.013543</td>\n",
       "      <td>-0.032201</td>\n",
       "      <td>-0.023980</td>\n",
       "      <td>-0.021317</td>\n",
       "      <td>-0.011209</td>\n",
       "      <td>1.000000</td>\n",
       "      <td>-0.022416</td>\n",
       "      <td>-0.013108</td>\n",
       "      <td>-0.008929</td>\n",
       "      <td>-0.008929</td>\n",
       "    </tr>\n",
       "    <tr>\n",
       "      <th>EDUCATION</th>\n",
       "      <td>-0.086277</td>\n",
       "      <td>-0.054726</td>\n",
       "      <td>-0.056827</td>\n",
       "      <td>-0.059332</td>\n",
       "      <td>-0.042107</td>\n",
       "      <td>-0.028174</td>\n",
       "      <td>-0.056364</td>\n",
       "      <td>-0.060450</td>\n",
       "      <td>-0.023858</td>\n",
       "      <td>-0.023386</td>\n",
       "      <td>-0.018650</td>\n",
       "      <td>-0.044345</td>\n",
       "      <td>-0.033023</td>\n",
       "      <td>-0.029356</td>\n",
       "      <td>-0.015436</td>\n",
       "      <td>-0.022416</td>\n",
       "      <td>1.000000</td>\n",
       "      <td>-0.018051</td>\n",
       "      <td>-0.012297</td>\n",
       "      <td>-0.012297</td>\n",
       "    </tr>\n",
       "    <tr>\n",
       "      <th>MUSIC</th>\n",
       "      <td>-0.050453</td>\n",
       "      <td>-0.032002</td>\n",
       "      <td>-0.033231</td>\n",
       "      <td>-0.034696</td>\n",
       "      <td>-0.024623</td>\n",
       "      <td>-0.016475</td>\n",
       "      <td>-0.032961</td>\n",
       "      <td>-0.035350</td>\n",
       "      <td>-0.013952</td>\n",
       "      <td>-0.013676</td>\n",
       "      <td>-0.010906</td>\n",
       "      <td>-0.025932</td>\n",
       "      <td>-0.019311</td>\n",
       "      <td>-0.017167</td>\n",
       "      <td>-0.009027</td>\n",
       "      <td>-0.013108</td>\n",
       "      <td>-0.018051</td>\n",
       "      <td>1.000000</td>\n",
       "      <td>-0.007191</td>\n",
       "      <td>-0.007191</td>\n",
       "    </tr>\n",
       "    <tr>\n",
       "      <th>ARTS AND CRAFTS</th>\n",
       "      <td>-0.034369</td>\n",
       "      <td>-0.021800</td>\n",
       "      <td>-0.022638</td>\n",
       "      <td>-0.023636</td>\n",
       "      <td>-0.016774</td>\n",
       "      <td>-0.011223</td>\n",
       "      <td>-0.022453</td>\n",
       "      <td>-0.024081</td>\n",
       "      <td>-0.009504</td>\n",
       "      <td>-0.009316</td>\n",
       "      <td>-0.007429</td>\n",
       "      <td>-0.017665</td>\n",
       "      <td>-0.013155</td>\n",
       "      <td>-0.011694</td>\n",
       "      <td>-0.006149</td>\n",
       "      <td>-0.008929</td>\n",
       "      <td>-0.012297</td>\n",
       "      <td>-0.007191</td>\n",
       "      <td>1.000000</td>\n",
       "      <td>-0.004899</td>\n",
       "    </tr>\n",
       "    <tr>\n",
       "      <th>FLOODING</th>\n",
       "      <td>-0.034369</td>\n",
       "      <td>-0.021800</td>\n",
       "      <td>-0.022638</td>\n",
       "      <td>-0.023636</td>\n",
       "      <td>-0.016774</td>\n",
       "      <td>-0.011223</td>\n",
       "      <td>-0.022453</td>\n",
       "      <td>-0.024081</td>\n",
       "      <td>-0.009504</td>\n",
       "      <td>-0.009316</td>\n",
       "      <td>-0.007429</td>\n",
       "      <td>-0.017665</td>\n",
       "      <td>-0.013155</td>\n",
       "      <td>-0.011694</td>\n",
       "      <td>-0.006149</td>\n",
       "      <td>-0.008929</td>\n",
       "      <td>-0.012297</td>\n",
       "      <td>-0.007191</td>\n",
       "      <td>-0.004899</td>\n",
       "      <td>1.000000</td>\n",
       "    </tr>\n",
       "  </tbody>\n",
       "</table>\n",
       "</div>"
      ],
      "text/plain": [
       "                      POLITICS    HEALTH  LAW/ORDER  RELIGION   FARMING  \\\n",
       "POLITICS              1.000000 -0.152956  -0.158830 -0.165832 -0.117688   \n",
       "HEALTH               -0.152956  1.000000  -0.100746 -0.105188 -0.074650   \n",
       "LAW/ORDER            -0.158830 -0.100746   1.000000 -0.109227 -0.077517   \n",
       "RELIGION             -0.165832 -0.105188  -0.109227  1.000000 -0.080934   \n",
       "FARMING              -0.117688 -0.074650  -0.077517 -0.080934  1.000000   \n",
       "WILDLIFE/ENVIRONMENT -0.078745 -0.049948  -0.051866 -0.054153 -0.038431   \n",
       "SOCIAL ISSUES        -0.157537 -0.099926  -0.103764 -0.108338 -0.076885   \n",
       "SOCIAL               -0.168956 -0.107170  -0.111285 -0.116191 -0.082459   \n",
       "OPINION/ESSAY        -0.066683 -0.042297  -0.043921 -0.045857 -0.032544   \n",
       "LOCALCHIEFS          -0.065364 -0.041461  -0.043053 -0.044951 -0.031901   \n",
       "WITCHCRAFT           -0.052126 -0.033063  -0.034333 -0.035847 -0.025440   \n",
       "ECONOMY              -0.123942 -0.078617  -0.081636 -0.085234 -0.060489   \n",
       "SPORTS               -0.092299 -0.058545  -0.060794 -0.063473 -0.045046   \n",
       "RELATIONSHIPS        -0.082048 -0.052043  -0.054042 -0.056424 -0.040043   \n",
       "TRANSPORT            -0.043144 -0.027367  -0.028418 -0.029670 -0.021057   \n",
       "CULTURE              -0.062651 -0.039740  -0.041266 -0.043085 -0.030577   \n",
       "EDUCATION            -0.086277 -0.054726  -0.056827 -0.059332 -0.042107   \n",
       "MUSIC                -0.050453 -0.032002  -0.033231 -0.034696 -0.024623   \n",
       "ARTS AND CRAFTS      -0.034369 -0.021800  -0.022638 -0.023636 -0.016774   \n",
       "FLOODING             -0.034369 -0.021800  -0.022638 -0.023636 -0.016774   \n",
       "\n",
       "                      WILDLIFE/ENVIRONMENT  SOCIAL ISSUES    SOCIAL  \\\n",
       "POLITICS                         -0.078745      -0.157537 -0.168956   \n",
       "HEALTH                           -0.049948      -0.099926 -0.107170   \n",
       "LAW/ORDER                        -0.051866      -0.103764 -0.111285   \n",
       "RELIGION                         -0.054153      -0.108338 -0.116191   \n",
       "FARMING                          -0.038431      -0.076885 -0.082459   \n",
       "WILDLIFE/ENVIRONMENT              1.000000      -0.051444 -0.055173   \n",
       "SOCIAL ISSUES                    -0.051444       1.000000 -0.110379   \n",
       "SOCIAL                           -0.055173      -0.110379  1.000000   \n",
       "OPINION/ESSAY                    -0.021775      -0.043564 -0.046721   \n",
       "LOCALCHIEFS                      -0.021345      -0.042703 -0.045798   \n",
       "WITCHCRAFT                       -0.017022      -0.034054 -0.036522   \n",
       "ECONOMY                          -0.040473      -0.080971 -0.086840   \n",
       "SPORTS                           -0.030140      -0.060299 -0.064669   \n",
       "RELATIONSHIPS                    -0.026793      -0.053602 -0.057487   \n",
       "TRANSPORT                        -0.014089      -0.028186 -0.030229   \n",
       "CULTURE                          -0.020459      -0.040930 -0.043897   \n",
       "EDUCATION                        -0.028174      -0.056364 -0.060450   \n",
       "MUSIC                            -0.016475      -0.032961 -0.035350   \n",
       "ARTS AND CRAFTS                  -0.011223      -0.022453 -0.024081   \n",
       "FLOODING                         -0.011223      -0.022453 -0.024081   \n",
       "\n",
       "                      OPINION/ESSAY  LOCALCHIEFS  WITCHCRAFT   ECONOMY  \\\n",
       "POLITICS                  -0.066683    -0.065364   -0.052126 -0.123942   \n",
       "HEALTH                    -0.042297    -0.041461   -0.033063 -0.078617   \n",
       "LAW/ORDER                 -0.043921    -0.043053   -0.034333 -0.081636   \n",
       "RELIGION                  -0.045857    -0.044951   -0.035847 -0.085234   \n",
       "FARMING                   -0.032544    -0.031901   -0.025440 -0.060489   \n",
       "WILDLIFE/ENVIRONMENT      -0.021775    -0.021345   -0.017022 -0.040473   \n",
       "SOCIAL ISSUES             -0.043564    -0.042703   -0.034054 -0.080971   \n",
       "SOCIAL                    -0.046721    -0.045798   -0.036522 -0.086840   \n",
       "OPINION/ESSAY              1.000000    -0.018075   -0.014414 -0.034274   \n",
       "LOCALCHIEFS               -0.018075     1.000000   -0.014129 -0.033596   \n",
       "WITCHCRAFT                -0.014414    -0.014129    1.000000 -0.026792   \n",
       "ECONOMY                   -0.034274    -0.033596   -0.026792  1.000000   \n",
       "SPORTS                    -0.025523    -0.025019   -0.019952 -0.047440   \n",
       "RELATIONSHIPS             -0.022689    -0.022240   -0.017736 -0.042171   \n",
       "TRANSPORT                 -0.011931    -0.011695   -0.009326 -0.022175   \n",
       "CULTURE                   -0.017325    -0.016982   -0.013543 -0.032201   \n",
       "EDUCATION                 -0.023858    -0.023386   -0.018650 -0.044345   \n",
       "MUSIC                     -0.013952    -0.013676   -0.010906 -0.025932   \n",
       "ARTS AND CRAFTS           -0.009504    -0.009316   -0.007429 -0.017665   \n",
       "FLOODING                  -0.009504    -0.009316   -0.007429 -0.017665   \n",
       "\n",
       "                        SPORTS  RELATIONSHIPS  TRANSPORT   CULTURE  EDUCATION  \\\n",
       "POLITICS             -0.092299      -0.082048  -0.043144 -0.062651  -0.086277   \n",
       "HEALTH               -0.058545      -0.052043  -0.027367 -0.039740  -0.054726   \n",
       "LAW/ORDER            -0.060794      -0.054042  -0.028418 -0.041266  -0.056827   \n",
       "RELIGION             -0.063473      -0.056424  -0.029670 -0.043085  -0.059332   \n",
       "FARMING              -0.045046      -0.040043  -0.021057 -0.030577  -0.042107   \n",
       "WILDLIFE/ENVIRONMENT -0.030140      -0.026793  -0.014089 -0.020459  -0.028174   \n",
       "SOCIAL ISSUES        -0.060299      -0.053602  -0.028186 -0.040930  -0.056364   \n",
       "SOCIAL               -0.064669      -0.057487  -0.030229 -0.043897  -0.060450   \n",
       "OPINION/ESSAY        -0.025523      -0.022689  -0.011931 -0.017325  -0.023858   \n",
       "LOCALCHIEFS          -0.025019      -0.022240  -0.011695 -0.016982  -0.023386   \n",
       "WITCHCRAFT           -0.019952      -0.017736  -0.009326 -0.013543  -0.018650   \n",
       "ECONOMY              -0.047440      -0.042171  -0.022175 -0.032201  -0.044345   \n",
       "SPORTS                1.000000      -0.031405  -0.016514 -0.023980  -0.033023   \n",
       "RELATIONSHIPS        -0.031405       1.000000  -0.014680 -0.021317  -0.029356   \n",
       "TRANSPORT            -0.016514      -0.014680   1.000000 -0.011209  -0.015436   \n",
       "CULTURE              -0.023980      -0.021317  -0.011209  1.000000  -0.022416   \n",
       "EDUCATION            -0.033023      -0.029356  -0.015436 -0.022416   1.000000   \n",
       "MUSIC                -0.019311      -0.017167  -0.009027 -0.013108  -0.018051   \n",
       "ARTS AND CRAFTS      -0.013155      -0.011694  -0.006149 -0.008929  -0.012297   \n",
       "FLOODING             -0.013155      -0.011694  -0.006149 -0.008929  -0.012297   \n",
       "\n",
       "                         MUSIC  ARTS AND CRAFTS  FLOODING  \n",
       "POLITICS             -0.050453        -0.034369 -0.034369  \n",
       "HEALTH               -0.032002        -0.021800 -0.021800  \n",
       "LAW/ORDER            -0.033231        -0.022638 -0.022638  \n",
       "RELIGION             -0.034696        -0.023636 -0.023636  \n",
       "FARMING              -0.024623        -0.016774 -0.016774  \n",
       "WILDLIFE/ENVIRONMENT -0.016475        -0.011223 -0.011223  \n",
       "SOCIAL ISSUES        -0.032961        -0.022453 -0.022453  \n",
       "SOCIAL               -0.035350        -0.024081 -0.024081  \n",
       "OPINION/ESSAY        -0.013952        -0.009504 -0.009504  \n",
       "LOCALCHIEFS          -0.013676        -0.009316 -0.009316  \n",
       "WITCHCRAFT           -0.010906        -0.007429 -0.007429  \n",
       "ECONOMY              -0.025932        -0.017665 -0.017665  \n",
       "SPORTS               -0.019311        -0.013155 -0.013155  \n",
       "RELATIONSHIPS        -0.017167        -0.011694 -0.011694  \n",
       "TRANSPORT            -0.009027        -0.006149 -0.006149  \n",
       "CULTURE              -0.013108        -0.008929 -0.008929  \n",
       "EDUCATION            -0.018051        -0.012297 -0.012297  \n",
       "MUSIC                 1.000000        -0.007191 -0.007191  \n",
       "ARTS AND CRAFTS      -0.007191         1.000000 -0.004899  \n",
       "FLOODING             -0.007191        -0.004899  1.000000  "
      ]
     },
     "execution_count": 16,
     "metadata": {},
     "output_type": "execute_result"
    }
   ],
   "source": [
    "data.astype(float).corr()"
   ]
  },
  {
   "cell_type": "code",
   "execution_count": 17,
   "metadata": {
    "_cell_guid": "828b9990-d78e-46c7-b011-1c66e6e6be79",
    "_uuid": "1cc05875b88e54b5a1079eafc088207536dea2f3"
   },
   "outputs": [
    {
     "data": {
      "image/png": "[encoded data removed]",
      "text/plain": [
       "<Figure size 432x288 with 1 Axes>"
      ]
     },
     "metadata": {},
     "output_type": "display_data"
    }
   ],
   "source": [
    "plt.figure()\n",
    "plt.hist(test_df['char_length'])\n",
    "plt.show()"
   ]
  },
  {
   "cell_type": "markdown",
   "metadata": {
    "_cell_guid": "b2bbf246-f098-425a-99e3-2eb2126b975c",
    "_uuid": "db69eb685cd1be44de2224c399cbdeabb5ceaa06"
   },
   "source": [
    "Now, the shape of character length distribution looks similar between the training data and the train data. For the training data, I guess the train data were clipped to 5,000 characters to facilitate the folks who did the labelling of the comment categories."
   ]
  },
  {
   "cell_type": "markdown",
   "metadata": {
    "_cell_guid": "fdf9d2f6-d248-452f-8f94-562755e3a3f3",
    "_uuid": "d88d9cea99dbd77e81a5b3c4b9309df88b04550b"
   },
   "source": [
    "## Clean up the comment text"
   ]
  },
  {
   "cell_type": "code",
   "execution_count": 18,
   "metadata": {
    "_cell_guid": "24392feb-0adc-4e27-bd20-41ed8cadce37",
    "_uuid": "b42586552d4cdc79793b0de8e630f863f2b2c456"
   },
   "outputs": [],
   "source": [
    "def clean_text(text):\n",
    "    text = text.lower()\n",
    "#     text = re.sub(r\"what's\", \"what is \", text)\n",
    "#     text = re.sub(r\"\\'s\", \" \", text)\n",
    "#     text = re.sub(r\"\\'ve\", \" have \", text)\n",
    "#     text = re.sub(r\"can't\", \"cannot \", text)\n",
    "#     text = re.sub(r\"n't\", \" not \", text)\n",
    "#     text = re.sub(r\"i'm\", \"i am \", text)\n",
    "#     text = re.sub(r\"\\'re\", \" are \", text)\n",
    "#     text = re.sub(r\"\\'d\", \" would \", text)\n",
    "#     text = re.sub(r\"\\'ll\", \" will \", text)\n",
    "#     text = re.sub(r\"\\'scuse\", \" excuse \", text)\n",
    "#     text = re.sub('\\W', ' ', text)\n",
    "    text = re.sub('\\s+', ' ', text)\n",
    "    text = text.strip(' ')\n",
    "    return text"
   ]
  },
  {
   "cell_type": "code",
   "execution_count": 19,
   "metadata": {
    "_cell_guid": "7b426494-c856-4cf4-b0d1-4162bc3aef5b",
    "_uuid": "3944cb9d1311fd3729a7dfb13e8ac8c2309962e5"
   },
   "outputs": [],
   "source": [
    "# clean the comment_text in train_df [Thanks to Pulkit Jha for the useful pointer.]\n",
    "train_df['Text'] = train_df['Text'].map(lambda com : clean_text(com))"
   ]
  },
  {
   "cell_type": "code",
   "execution_count": 20,
   "metadata": {
    "_cell_guid": "dc27cc45-e5a9-4f1e-8d07-e28127afaf97",
    "_uuid": "d56d040c687a15a6d13ba29400372108f1960c1b"
   },
   "outputs": [],
   "source": [
    "# clean the comment_text in test_df [Thanks, Pulkit Jha.]\n",
    "test_df['Text'] = test_df['Text'].map(lambda com : clean_text(com))"
   ]
  },
  {
   "cell_type": "markdown",
   "metadata": {
    "_cell_guid": "f5abe72a-13a7-41f6-ae8e-1c34dca97110",
    "_uuid": "cae81f6b1d9bb475fc486d5fbb81981025cc3672"
   },
   "source": [
    "\n",
    "## Define X from entire train & test data for use in tokenization by Vectorizer"
   ]
  },
  {
   "cell_type": "code",
   "execution_count": 21,
   "metadata": {
    "_cell_guid": "30bf94de-36aa-4e8d-8d12-64172d8dc446",
    "_uuid": "b15dba3906f67e764af0a627e46d7b7e486888c5"
   },
   "outputs": [],
   "source": [
    "train_df = train_df.drop('char_length',axis=1)"
   ]
  },
  {
   "cell_type": "code",
   "execution_count": 22,
   "metadata": {
    "_cell_guid": "49547fd7-9633-4f6a-bd46-84d8966f1e8b",
    "_uuid": "061d59552c6ef83bea8ecf9ffbf203286aeab6f8"
   },
   "outputs": [],
   "source": [
    "X = train_df.Text\n",
    "test_X = test_df.Text"
   ]
  },
  {
   "cell_type": "code",
   "execution_count": 23,
   "metadata": {
    "_cell_guid": "083686b8-483a-4fbd-8584-cb9da8357c57",
    "_uuid": "6b1e91df6163a437c5f55e9c4de88dc11a89e5ba"
   },
   "outputs": [
    {
     "name": "stdout",
     "output_type": "stream",
     "text": [
      "(1436,) (620,)\n"
     ]
    }
   ],
   "source": [
    "print(X.shape, test_X.shape)"
   ]
  },
  {
   "cell_type": "markdown",
   "metadata": {
    "_cell_guid": "b2d898ae-79bc-48b8-8544-fb077f876c67",
    "_uuid": "cc4c2aeef221f5a97e1bd5ea1154052172175351"
   },
   "source": [
    "## Vectorize the data"
   ]
  },
  {
   "cell_type": "code",
   "execution_count": 73,
   "metadata": {
    "_cell_guid": "9be5a4f2-0e85-4f9a-ac00-b8e9916116cb",
    "_uuid": "7b7adf15d16408eb99689884906d0d687c2f8407"
   },
   "outputs": [
    {
     "data": {
      "text/plain": [
       "TfidfVectorizer(max_features=5000,\n",
       "                stop_words=['ndi', 'kuti', 'wa', 'a', 'ya', 'pa', 'la', 'anthu',\n",
       "                            'ku', 'ndipo', 'za', 'kwa', 'koma', 'cha',\n",
       "                            'ntchito', 'chifukwa', 'omwe', 'komanso', 'ena',\n",
       "                            'zomwe', 'iye', 'ngati', 'mwa', 'mu', 'dziko',\n",
       "                            'amene', 'izi', 'mdziko', 'ndiye', 'ali', ...])"
      ]
     },
     "execution_count": 73,
     "metadata": {},
     "output_type": "execute_result"
    }
   ],
   "source": [
    "# import and instantiate TfidfVectorizer\n",
    "other_stop_w = pd.read_csv('words_shared_by_all.csv')\n",
    "stopw = [item for sublist in other_stop_w.values.tolist() for item in sublist]\n",
    "# from nltk.corpus import stopwords\n",
    "# other_stop_w1 = ['basi','ameneyu','guleyu','gule','kodi',\n",
    "#                'hahaha','liti','ayi','amenewo','wanji','lino',\n",
    "#                'adati','adatero','naye','wanga','ine','ndili',\n",
    "#                'iwo','imeneyi','yanji','moti','zimene','khokha',\n",
    "#                  'okha','wati',]\n",
    "# L = stopwords.words('english')\n",
    "# stopw = stopw+other_stop_w1\n",
    "from sklearn.feature_extraction.text import CountVectorizer\n",
    "from sklearn.feature_extraction.text import TfidfVectorizer\n",
    "vect = TfidfVectorizer(max_features=5000,stop_words=stopw)\n",
    "vect"
   ]
  },
  {
   "cell_type": "code",
   "execution_count": 74,
   "metadata": {},
   "outputs": [],
   "source": [
    "# X_dtm.shape"
   ]
  },
  {
   "cell_type": "code",
   "execution_count": 75,
   "metadata": {
    "_cell_guid": "283c1d48-c267-431b-834e-37c8d9222b3c",
    "_uuid": "b755b1d4db58eeb5b0ab668d1aaf4a651d3de441"
   },
   "outputs": [
    {
     "data": {
      "text/plain": [
       "<1436x5000 sparse matrix of type '<class 'numpy.float64'>'\n",
       "\twith 146350 stored elements in Compressed Sparse Row format>"
      ]
     },
     "execution_count": 75,
     "metadata": {},
     "output_type": "execute_result"
    }
   ],
   "source": [
    "# learn the vocabulary in the training data, then use it to create a document-term matrix\n",
    "X_dtm = vect.fit_transform(X)\n",
    "# examine the document-term matrix created from X_train\n",
    "X_dtm"
   ]
  },
  {
   "cell_type": "code",
   "execution_count": 76,
   "metadata": {
    "_cell_guid": "54050711-560a-47cf-b4f9-2fbaf59bc2e4",
    "_uuid": "408301ccb78e3f4056a6d2ebbd239594d1a59da0"
   },
   "outputs": [
    {
     "data": {
      "text/plain": [
       "<620x5000 sparse matrix of type '<class 'numpy.float64'>'\n",
       "\twith 61730 stored elements in Compressed Sparse Row format>"
      ]
     },
     "execution_count": 76,
     "metadata": {},
     "output_type": "execute_result"
    }
   ],
   "source": [
    "# transform the test data using the earlier fitted vocabulary, into a document-term matrix\n",
    "test_X_dtm = vect.transform(test_X)\n",
    "# examine the document-term matrix from X_test\n",
    "test_X_dtm"
   ]
  },
  {
   "cell_type": "markdown",
   "metadata": {
    "_cell_guid": "c84eb9f4-4fa5-418c-883c-9d9316092db0",
    "_uuid": "98a540b42db71f1639d47f31d2a4ea851aa1b9e5"
   },
   "source": [
    "## Solving a multi-label classification problem\n",
    "One way to approach a multi-label classification problem is to transform the problem into separate single-class classifier problems. This is known as 'problem transformation'. There are three methods:\n",
    "* _**Binary Relevance.**_ This is probably the simplest which treats each label as a separate single classification problems. The key assumption here though, is that there are no correlation among the various labels.\n",
    "* _**Classifier Chains.**_ In this method, the first classifier is trained on the input X. Then the subsequent classifiers are trained on the input X and all previous classifiers' predictions in the chain. This method attempts to draw the signals from the correlation among preceding target variables.\n",
    "* _**Label Powerset.**_ This method transforms the problem into a multi-class problem  where the multi-class labels are essentially all the unique label combinations. In our case here, where there are six labels, Label Powerset would in effect turn this into a 2^6 or 64-class problem. {Thanks Joshua for pointing out.}"
   ]
  },
  {
   "cell_type": "markdown",
   "metadata": {
    "_cell_guid": "7abd771a-b0f3-47bc-b4ff-13a78aff48e7",
    "_uuid": "389245398dce9573dfa0f7c2facd2849d2174f1f"
   },
   "source": [
    "## Binary Relevance - build a multi-label classifier using Logistic Regression"
   ]
  },
  {
   "cell_type": "code",
   "execution_count": 79,
   "metadata": {
    "_cell_guid": "e30be87f-e0a6-4fd7-bff2-b3c37737cbfe",
    "_uuid": "e7e5707b19c35c8371a0cff7351bc8aadc33acd1"
   },
   "outputs": [
    {
     "data": {
      "text/plain": [
       "0.8951612903225806"
      ]
     },
     "execution_count": 79,
     "metadata": {},
     "output_type": "execute_result"
    }
   ],
   "source": [
    "# import and instantiate the Logistic Regression model\n",
    "from sklearn.linear_model import LogisticRegression\n",
    "from sklearn.naive_bayes import ComplementNB\n",
    "from sklearn.svm import SVC\n",
    "from sklearn.metrics import accuracy_score\n",
    "from sklearn.model_selection import train_test_split\n",
    "X_train, X_test, y_train, y_test = train_test_split(X_dtm, train_df[cols_target], test_size=0.2, shuffle=True,random_state = 0)\n",
    "\n",
    "logreg = LogisticRegression(C=12.0,random_state = 0)\n",
    "# logreg = SVC(C = 12.0,probability = True, random_state = 0)\n",
    "\n",
    "# create submission file\n",
    "submission_binary = pd.read_csv('../data/SampleSubmission.csv')\n",
    "\n",
    "for label in cols_target:\n",
    "#     print('... Processing {}'.format(label))\n",
    "    y = y_train[label]\n",
    "    # train the model using X_dtm & y\n",
    "    logreg.fit(X_train, y)\n",
    "    # compute the training accuracy\n",
    "    y_pred_X = logreg.predict(X_test)\n",
    "#     print('Validation accuracy is {}'.format(accuracy_score(y_test[label], y_pred_X)))\n",
    "    # compute the predicted probabilities for X_test_dtm\n",
    "    test_y_prob = logreg.predict_proba(test_X_dtm)[:,1]\n",
    "    submission_binary[label] = test_y_prob\n",
    "submission_binary = submission_binary[['ID']+list(lb.classes_)]\n",
    "submission_binary['Label'] = lb.inverse_transform(submission_binary[list(lb.classes_)].values)\n",
    "submission_b = submission_binary[['ID','Label']]\n",
    "# submission_b\n",
    "(pd.read_csv('submission_binary.csv').Label == submission_b.Label).sum()/submission_b.shape[0]\n"
   ]
  },
  {
   "cell_type": "code",
   "execution_count": 69,
   "metadata": {},
   "outputs": [
    {
     "data": {
      "text/html": [
       "<div>\n",
       "<style scoped>\n",
       "    .dataframe tbody tr th:only-of-type {\n",
       "        vertical-align: middle;\n",
       "    }\n",
       "\n",
       "    .dataframe tbody tr th {\n",
       "        vertical-align: top;\n",
       "    }\n",
       "\n",
       "    .dataframe thead th {\n",
       "        text-align: right;\n",
       "    }\n",
       "</style>\n",
       "<table border=\"1\" class=\"dataframe\">\n",
       "  <thead>\n",
       "    <tr style=\"text-align: right;\">\n",
       "      <th></th>\n",
       "      <th>ID</th>\n",
       "      <th>Label</th>\n",
       "    </tr>\n",
       "  </thead>\n",
       "  <tbody>\n",
       "    <tr>\n",
       "      <th>0</th>\n",
       "      <td>ID_ADHEtjTi</td>\n",
       "      <td>SOCIAL ISSUES</td>\n",
       "    </tr>\n",
       "    <tr>\n",
       "      <th>1</th>\n",
       "      <td>ID_AHfJktdQ</td>\n",
       "      <td>RELIGION</td>\n",
       "    </tr>\n",
       "    <tr>\n",
       "      <th>2</th>\n",
       "      <td>ID_AUJIHpZr</td>\n",
       "      <td>RELATIONSHIPS</td>\n",
       "    </tr>\n",
       "    <tr>\n",
       "      <th>3</th>\n",
       "      <td>ID_AUKYBbIM</td>\n",
       "      <td>POLITICS</td>\n",
       "    </tr>\n",
       "    <tr>\n",
       "      <th>4</th>\n",
       "      <td>ID_AZnsVPEi</td>\n",
       "      <td>HEALTH</td>\n",
       "    </tr>\n",
       "    <tr>\n",
       "      <th>...</th>\n",
       "      <td>...</td>\n",
       "      <td>...</td>\n",
       "    </tr>\n",
       "    <tr>\n",
       "      <th>615</th>\n",
       "      <td>ID_zdpOUWyJ</td>\n",
       "      <td>LAW/ORDER</td>\n",
       "    </tr>\n",
       "    <tr>\n",
       "      <th>616</th>\n",
       "      <td>ID_zhnOomuu</td>\n",
       "      <td>RELATIONSHIPS</td>\n",
       "    </tr>\n",
       "    <tr>\n",
       "      <th>617</th>\n",
       "      <td>ID_zmWHvBJb</td>\n",
       "      <td>LAW/ORDER</td>\n",
       "    </tr>\n",
       "    <tr>\n",
       "      <th>618</th>\n",
       "      <td>ID_zphjdFIb</td>\n",
       "      <td>SOCIAL ISSUES</td>\n",
       "    </tr>\n",
       "    <tr>\n",
       "      <th>619</th>\n",
       "      <td>ID_ztdtrNxt</td>\n",
       "      <td>POLITICS</td>\n",
       "    </tr>\n",
       "  </tbody>\n",
       "</table>\n",
       "<p>620 rows × 2 columns</p>\n",
       "</div>"
      ],
      "text/plain": [
       "              ID          Label\n",
       "0    ID_ADHEtjTi  SOCIAL ISSUES\n",
       "1    ID_AHfJktdQ       RELIGION\n",
       "2    ID_AUJIHpZr  RELATIONSHIPS\n",
       "3    ID_AUKYBbIM       POLITICS\n",
       "4    ID_AZnsVPEi         HEALTH\n",
       "..           ...            ...\n",
       "615  ID_zdpOUWyJ      LAW/ORDER\n",
       "616  ID_zhnOomuu  RELATIONSHIPS\n",
       "617  ID_zmWHvBJb      LAW/ORDER\n",
       "618  ID_zphjdFIb  SOCIAL ISSUES\n",
       "619  ID_ztdtrNxt       POLITICS\n",
       "\n",
       "[620 rows x 2 columns]"
      ]
     },
     "execution_count": 69,
     "metadata": {},
     "output_type": "execute_result"
    }
   ],
   "source": [
    "# submission_binary\n",
    "# submission_b.ID\n",
    "# (test_df.ID == submission_b.ID).sum()\n",
    "submission_b"
   ]
  },
  {
   "cell_type": "code",
   "execution_count": null,
   "metadata": {},
   "outputs": [],
   "source": [
    "label = 'POLITICS'\n",
    "print('... Processing {}'.format(label))\n",
    "y = y_train[label]\n",
    "# train the model using X_dtm & y\n",
    "logreg.fit(X_train, y)\n",
    "# compute the training accuracy\n",
    "y_pred_X = logreg.predict(X_test)\n",
    "print('Validation accuracy is {}'.format(accuracy_score(y_test[label], y_pred_X)))"
   ]
  },
  {
   "cell_type": "code",
   "execution_count": null,
   "metadata": {},
   "outputs": [],
   "source": [
    "([(y_test[label] == y_pred_X)]).index"
   ]
  },
  {
   "cell_type": "code",
   "execution_count": null,
   "metadata": {},
   "outputs": [],
   "source": [
    "# lb.classes_\n",
    "# submission_binary"
   ]
  },
  {
   "cell_type": "code",
   "execution_count": null,
   "metadata": {},
   "outputs": [],
   "source": [
    "train_df['pred_label'] = submission_b['Label']"
   ]
  },
  {
   "cell_type": "code",
   "execution_count": null,
   "metadata": {},
   "outputs": [],
   "source": [
    "train_df.groupby('Label').get_group(cols_target[0]).pred_label.unique()"
   ]
  },
  {
   "cell_type": "code",
   "execution_count": null,
   "metadata": {},
   "outputs": [],
   "source": [
    "train_df.groupby('Label').get_group(cols_target[1]).pred_label.unique()"
   ]
  },
  {
   "cell_type": "code",
   "execution_count": null,
   "metadata": {},
   "outputs": [],
   "source": [
    "i = i +1\n",
    "train_df.groupby('Label').get_group(cols_target[i]).pred_label.value_counts()\n"
   ]
  },
  {
   "cell_type": "code",
   "execution_count": null,
   "metadata": {},
   "outputs": [],
   "source": []
  },
  {
   "cell_type": "code",
   "execution_count": null,
   "metadata": {},
   "outputs": [],
   "source": [
    "# train_df.groupby('Label').get_group(cols_target[3]).pred_label.unique()\n",
    "i=-1"
   ]
  },
  {
   "cell_type": "code",
   "execution_count": null,
   "metadata": {},
   "outputs": [],
   "source": [
    "train_df.groupby('Label').get_group(cols_target[4]).pred_label.unique()"
   ]
  },
  {
   "cell_type": "code",
   "execution_count": null,
   "metadata": {},
   "outputs": [],
   "source": [
    "# logreg.predict(X_test)\n",
    "# y_pred_X.shape\n",
    "# y_test.shape\n",
    "# cols_target.index(cols_target[0])\n",
    "# y_test\n",
    "# accuracy_score(lb.inverse_transform(submission_binary[cols_target].values), lb.inverse_transform(y_test.values))\n",
    "# (submission_binary[cols_target].values.max(axis =1)>0.7).sum()"
   ]
  },
  {
   "cell_type": "code",
   "execution_count": null,
   "metadata": {},
   "outputs": [],
   "source": []
  },
  {
   "cell_type": "code",
   "execution_count": null,
   "metadata": {},
   "outputs": [],
   "source": [
    "test_X[1]"
   ]
  },
  {
   "cell_type": "code",
   "execution_count": null,
   "metadata": {},
   "outputs": [],
   "source": [
    "train_df.shape"
   ]
  },
  {
   "cell_type": "markdown",
   "metadata": {
    "_cell_guid": "5d0970eb-bc44-4fad-91b7-e2a23c2f986d",
    "_uuid": "ee6d942b861235107e0d94174a8d21c2bad0e9ea"
   },
   "source": [
    "### Create submission file"
   ]
  },
  {
   "cell_type": "code",
   "execution_count": null,
   "metadata": {
    "_cell_guid": "a2816552-c314-4584-ad49-8464e80b1b29",
    "_uuid": "b89e22016a7b4f282940dc23253cbf343c1fbf83"
   },
   "outputs": [],
   "source": [
    "# submission_binary.head()\n",
    "# submission_b"
   ]
  },
  {
   "cell_type": "code",
   "execution_count": 30,
   "metadata": {
    "_cell_guid": "fb1bef7d-586e-437d-a1d3-b0868e7ac321",
    "_uuid": "75d9571cc77eb1805d897af6ca0d86fd28405c6d"
   },
   "outputs": [],
   "source": [
    "# generate submission file\n",
    "submission_b.to_csv('submission_binary11.csv',index=False)"
   ]
  },
  {
   "cell_type": "markdown",
   "metadata": {
    "_cell_guid": "be8c8e90-f798-46d8-b77c-cd0668292646",
    "_uuid": "18644d484121f3bab7a06207bd7fa739b15feff5"
   },
   "source": [
    "#### Binary Relevance with Logistic Regression classifier scored 0.074 on the public leaderboard."
   ]
  },
  {
   "cell_type": "markdown",
   "metadata": {
    "_cell_guid": "5018c7ea-dd27-4d4c-b9ad-ef2140c773e5",
    "_uuid": "0393cd387f508609c0d068c68fb7dbb0be659383"
   },
   "source": [
    "## Classifier Chains - build a multi-label classifier using Logistic Regression"
   ]
  },
  {
   "cell_type": "code",
   "execution_count": null,
   "metadata": {
    "_cell_guid": "b2172222-42b8-4f0a-8d20-160d52af6f62",
    "_uuid": "f1b4fea94c83661d7bbad5c6bc7a5994643128e2"
   },
   "outputs": [],
   "source": [
    "# create submission file\n",
    "submission_chains = pd.read_csv('../data/SampleSubmission.csv')\n",
    "\n",
    "# create a function to add features\n",
    "def add_feature(X, feature_to_add):\n",
    "    '''\n",
    "    Returns sparse feature matrix with added feature.\n",
    "    feature_to_add can also be a list of features.\n",
    "    '''\n",
    "    from scipy.sparse import csr_matrix, hstack\n",
    "    return hstack([X, csr_matrix(feature_to_add).T], 'csr')"
   ]
  },
  {
   "cell_type": "code",
   "execution_count": null,
   "metadata": {},
   "outputs": [],
   "source": [
    "y.shape"
   ]
  },
  {
   "cell_type": "code",
   "execution_count": null,
   "metadata": {
    "_cell_guid": "20c3ff4a-8925-4c78-a8f1-74f080f0b890",
    "_uuid": "3cdc6de563643c7a86f0c54ecff2f720695fe81d"
   },
   "outputs": [],
   "source": [
    "for label in cols_target:\n",
    "    print('... Processing {}'.format(label))\n",
    "    \n",
    "    \n",
    "    \n",
    "#     print('... Processing {}'.format(label))\n",
    "#     y = y_train[label]\n",
    "#     # train the model using X_dtm & y\n",
    "#     logreg.fit(X_train, y)\n",
    "#     # compute the training accuracy\n",
    "#     y_pred_X = logreg.predict(X_test)\n",
    "#     print('Validation accuracy is {}'.format(accuracy_score(y_test[label], y_pred_X)))\n",
    "#     # compute the predicted probabilities for X_test_dtm\n",
    "#     test_y_prob = logreg.predict_proba(test_X_dtm)[:,1]\n",
    "#     submission_binary[label] = test_y_prob\n",
    "    \n",
    "    \n",
    "    y = y_train[label]\n",
    "    # train the model using X_dtm & y\n",
    "    logreg.fit(X_train,y)\n",
    "    # compute the training accuracy\n",
    "    y_pred_X = logreg.predict(X_test)\n",
    "    print('Validation Accuracy is {}'.format(accuracy_score(y_test[label],y_pred_X)))\n",
    "    # make predictions from test_X\n",
    "    test_y = logreg.predict(test_X_dtm)\n",
    "    test_y_prob = logreg.predict_proba(test_X_dtm)[:,1]\n",
    "    submission_chains[label] = test_y_prob\n",
    "    # chain current label to X_dtm\n",
    "    X_dtm = add_feature(X_train, y)\n",
    "    print('Shape of X_dtm is now {}'.format(X_dtm.shape))\n",
    "    # chain current label predictions to test_X_dtm\n",
    "    test_X_dtm = add_feature(test_X_dtm, test_y)\n",
    "    print('Shape of test_X_dtm is now {}'.format(test_X_dtm.shape))"
   ]
  },
  {
   "cell_type": "markdown",
   "metadata": {
    "_cell_guid": "d917c9c5-5140-4b08-86b3-64e0b566bc1b",
    "_uuid": "a0be9c78f3facd8215c0d83c446dcef61af3fc43"
   },
   "source": [
    "### Create submission file"
   ]
  },
  {
   "cell_type": "code",
   "execution_count": null,
   "metadata": {
    "_cell_guid": "4b7db16c-ca27-4fa8-933c-369711f60ea3",
    "_uuid": "f1d85021f64b145d28a55f65e0d3e806a6c91625"
   },
   "outputs": [],
   "source": [
    "# # submission_chains.head()\n",
    "# # add_feature(X_dtm, y)\n",
    "# from scipy.sparse import csr_matrix, hstack\n",
    "# hstack([X, csr_matrix(feature_to_add).T], 'csr')"
   ]
  },
  {
   "cell_type": "code",
   "execution_count": null,
   "metadata": {
    "_cell_guid": "3e1dfebe-ecb4-4a0e-958c-56a2d27e6a7d",
    "_uuid": "da35f9fd53f310366d0b760eb7573ae1b4e122c4"
   },
   "outputs": [],
   "source": [
    "# generate submission file\n",
    "submission_chains.to_csv('submission_chains.csv', index=False)"
   ]
  },
  {
   "cell_type": "markdown",
   "metadata": {
    "_cell_guid": "6f76bfb5-0ad1-42f3-8481-1dc6226a13b9",
    "_uuid": "ecdadaa139a91703da20aab1f5ee77b25023bab4"
   },
   "source": [
    "## Create a combined submission"
   ]
  },
  {
   "cell_type": "code",
   "execution_count": null,
   "metadata": {
    "_cell_guid": "1a5fd709-81a7-4373-ad8a-45b61d4c1167",
    "_uuid": "b056f497fdcc13a46d5c83d988081dc2e5e99f1d"
   },
   "outputs": [],
   "source": [
    "# create submission file\n",
    "submission_combined = pd.read_csv('../input/sample_submission.csv')"
   ]
  },
  {
   "cell_type": "markdown",
   "metadata": {
    "_cell_guid": "62d78056-24e4-409c-a5dd-221b1c9f3b2b",
    "_uuid": "0bb5e1b109a8b043801e5b6360fb858e233a9f2c"
   },
   "source": [
    "Combine using simple average from Binary Relevance and Classifier Chains."
   ]
  },
  {
   "cell_type": "code",
   "execution_count": null,
   "metadata": {
    "_cell_guid": "650d5945-f32f-49a9-b5ac-e932cf64e0dd",
    "_uuid": "81258bf73f51973d923f2695d81cb8523d21b4a0"
   },
   "outputs": [],
   "source": [
    "# corr_targets = ['obscene','insult','toxic']\n",
    "for label in cols_target:\n",
    "    submission_combined[label] = 0.5*(submission_chains[label]+submission_binary[label])"
   ]
  },
  {
   "cell_type": "code",
   "execution_count": null,
   "metadata": {
    "_cell_guid": "3b7c66fd-d82e-46f1-bb41-004ed63c2569",
    "_uuid": "1aeb3dbed4d2af2e1125edc00d5d699e71745cf4"
   },
   "outputs": [],
   "source": [
    "submission_combined.head()"
   ]
  },
  {
   "cell_type": "code",
   "execution_count": null,
   "metadata": {
    "_cell_guid": "3af7d1e1-1d08-43b8-bdb1-0740dd4bdbbd",
    "_uuid": "eded1209e8bb777308d209c161d18c62c8a0c1ef"
   },
   "outputs": [],
   "source": [
    "# generate submission file\n",
    "submission_combined.to_csv('submission_combined.csv', index=False)"
   ]
  },
  {
   "cell_type": "markdown",
   "metadata": {
    "_cell_guid": "7a012382-ad72-4c76-b53c-1f756544e23e",
    "_uuid": "cbbce014f73f54e9bf3e88e096ad66b89b88fcf4"
   },
   "source": [
    "### Thanks for reading my kernel.\n",
    "### Tips and comments are most welcomed & appreciated.\n",
    "### Please upvote if you find it useful."
   ]
  },
  {
   "cell_type": "code",
   "execution_count": null,
   "metadata": {
    "_cell_guid": "2b370cff-d22e-4393-94d5-98b4883a32d8",
    "_uuid": "21a21a9ff3c174753c8d48495e058a1782bf7a76"
   },
   "outputs": [],
   "source": []
  }
 ],
 "metadata": {
  "kernelspec": {
   "display_name": "Python 3",
   "language": "python",
   "name": "python3"
  },
  "language_info": {
   "codemirror_mode": {
    "name": "ipython",
    "version": 3
   },
   "file_extension": ".py",
   "mimetype": "text/x-python",
   "name": "python",
   "nbconvert_exporter": "python",
   "pygments_lexer": "ipython3",
   "version": "3.7.4"
  }
 },
 "nbformat": 4,
 "nbformat_minor": 1
}
