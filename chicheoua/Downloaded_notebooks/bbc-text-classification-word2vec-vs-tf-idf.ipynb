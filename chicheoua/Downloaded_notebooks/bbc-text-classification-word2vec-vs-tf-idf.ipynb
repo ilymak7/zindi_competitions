{
 "cells": [
  {
   "cell_type": "markdown",
   "metadata": {},
   "source": [
    "<h1><font color='dark green'>BBC-text-classification</font></h1>\n",
    "\n",
    "<a href='https://www.linkedin.com/in/rocky-jagtiani-3b390649/'>Myself </a> , along with some of my students at <a href='https://datascience.suvenconsultants.com' >Suven Data Science programme</a> have made many such notebooks to check and enchance our skills in NLP using Machine Learning.\n",
    "\n",
    "> This is a simple Data science project on **`multi-class text classification`** to predict the category a news article belongs to. **Our Hypothesis is  : Does the type of Vectorizing Process (Word2Vec  vs. TfidfVectorizer ) influence the precision , accuracy , recall score of the classifiers ? If yes, who wins !!**\n",
    "\n",
    "> **Tech Stack used** : Python, Scikit-Learn, NLTK, Keras, Pandas, Seaborn, NumPy\n",
    "\n",
    "> Data : Have used the data aviable in kaggle.com itself : bbc-fulltext-and-category/bbc-text.csv"
   ]
  },
  {
   "cell_type": "code",
   "execution_count": 1,
   "metadata": {
    "_cell_guid": "b1076dfc-b9ad-4769-8c92-a6c4dae69d19",
    "_uuid": "8f2839f25d086af736a60e9eeb907d3b93b6e0e5"
   },
   "outputs": [],
   "source": [
    "# This Python 3 environment comes with many helpful analytics libraries installed\n",
    "# It is defined by the kaggle/python Docker image: https://github.com/kaggle/docker-python\n",
    "# For example, here's several helpful packages to load\n",
    "\n",
    "import numpy as np # linear algebra\n",
    "import pandas as pd # data processing, CSV file I/O (e.g. pd.read_csv)\n",
    "\n",
    "# Input data files are available in the read-only \"../input/\" directory\n",
    "# For example, running this (by clicking run or pressing Shift+Enter) will list all files under the input directory\n",
    "\n",
    "import os\n",
    "# for dirname, _, filenames in os.walk('/kaggle/input'):\n",
    "#     for filename in filenames:\n",
    "#         print(os.path.join(dirname, filename))\n",
    "\n",
    "# You can write up to 5GB to the current directory (/kaggle/working/) that gets preserved as output when you create a version using \"Save & Run All\" \n",
    "# You can also write temporary files to /kaggle/temp/, but they won't be saved outside of the current session"
   ]
  },
  {
   "cell_type": "code",
   "execution_count": 2,
   "metadata": {
    "_cell_guid": "79c7e3d0-c299-4dcb-8224-4455121ee9b0",
    "_uuid": "d629ff2d2480ee46fbb7e2d37f6b5fab8052498a"
   },
   "outputs": [
    {
     "name": "stderr",
     "output_type": "stream",
     "text": [
      "C:\\Users\\amakr\\AppData\\Local\\Continuum\\anaconda3\\lib\\site-packages\\statsmodels\\tools\\_testing.py:19: FutureWarning: pandas.util.testing is deprecated. Use the functions in the public API at pandas.testing instead.\n",
      "  import pandas.util.testing as tm\n",
      "[nltk_data] Downloading package punkt to\n",
      "[nltk_data]     C:\\Users\\amakr\\AppData\\Roaming\\nltk_data...\n",
      "[nltk_data]   Package punkt is already up-to-date!\n",
      "[nltk_data] Downloading package stopwords to\n",
      "[nltk_data]     C:\\Users\\amakr\\AppData\\Roaming\\nltk_data...\n",
      "[nltk_data]   Package stopwords is already up-to-date!\n",
      "[nltk_data] Downloading package wordnet to\n",
      "[nltk_data]     C:\\Users\\amakr\\AppData\\Roaming\\nltk_data...\n",
      "[nltk_data]   Package wordnet is already up-to-date!\n"
     ]
    }
   ],
   "source": [
    "## importing all libraries\n",
    "import numpy as np\n",
    "import pandas as pd\n",
    "import seaborn as sns\n",
    "import matplotlib.pyplot as plt\n",
    "import re\n",
    "import nltk\n",
    "nltk.download('punkt')\n",
    "nltk.download('stopwords')\n",
    "nltk.download('wordnet')\n",
    "from sklearn.preprocessing import LabelEncoder\n",
    "from sklearn.model_selection import GridSearchCV\n",
    "from sklearn.model_selection import train_test_split\n",
    "\n",
    "## Case 1 : Would use Word2Vec and then apply different classifiers\n",
    "from gensim.models import Word2Vec  \n",
    "\n",
    "## Case 2 : Would use TfidfVectorizer and then apply different classifiers\n",
    "from sklearn.feature_extraction.text import TfidfVectorizer   \n",
    "\n",
    "## This would help us understand : Does the type of Vectorizing Process influence the precision , accuracy , recall score of the classifiers ??\n",
    "\n",
    "\n",
    "from sklearn.pipeline import Pipeline\n",
    "from sklearn.svm import SVC\n",
    "from sklearn.naive_bayes import GaussianNB\n",
    "from sklearn.naive_bayes import MultinomialNB\n",
    "from sklearn.naive_bayes import ComplementNB\n",
    "\n",
    "from sklearn.tree import DecisionTreeClassifier\n",
    "from sklearn.linear_model import LogisticRegression\n",
    "from sklearn.neural_network import MLPClassifier\n",
    "from sklearn.ensemble import GradientBoostingClassifier\n",
    "from sklearn.metrics import precision_score, recall_score, f1_score, accuracy_score\n",
    "import warnings\n",
    "warnings.filterwarnings(\"ignore\")"
   ]
  },
  {
   "cell_type": "code",
   "execution_count": 3,
   "metadata": {},
   "outputs": [
    {
     "name": "stdout",
     "output_type": "stream",
     "text": [
      "SHAPE OF DATASET:  (1436, 3) \n",
      "\n",
      "COLUMNS IN DATASET:  Index(['ID', 'Text', 'Label'], dtype='object') \n",
      "\n",
      "CATEGORIES:  ['POLITICS' 'HEALTH' 'LAW/ORDER' 'RELIGION' 'FARMING'\n",
      " 'WILDLIFE/ENVIRONMENT' 'SOCIAL ISSUES' 'SOCIAL' 'OPINION/ESSAY'\n",
      " 'LOCALCHIEFS' 'WITCHCRAFT' 'ECONOMY' 'SPORTS' 'RELATIONSHIPS' 'TRANSPORT'\n",
      " 'CULTURE' 'EDUCATION' 'MUSIC' 'ARTS AND CRAFTS' 'FLOODING'] \n",
      "\n",
      "DATA SAMPLE: \n",
      "\n",
      "                ID                                               Text  \\\n",
      "645   ID_YOnNYgBu   A Escom adziwe kuti takwiyaKapito Si zachilen...   \n",
      "1082  ID_orKJtDSn  Dayosizi ya Dedza Yakhazikisa Komiti Yolimbana...   \n",
      "1407  ID_yzCFipJC  Akagwira Jere Zaka Zinayi Kaamba Kobaya Mlamu ...   \n",
      "1193  ID_sOkkMzHm   Chitetezo chachepa, tithandizenianthu Anthu m...   \n",
      "725   ID_bPjSBeOz   Osinthasintha zipani ngosadalilikaAkadaulo An...   \n",
      "\n",
      "              Label  \n",
      "645   OPINION/ESSAY  \n",
      "1082         HEALTH  \n",
      "1407      LAW/ORDER  \n",
      "1193      LAW/ORDER  \n",
      "725        POLITICS   \n",
      "\n",
      "\n",
      "NUMBER OF SAMPLES IN EACH CATEGORY: \n",
      "\n"
     ]
    },
    {
     "data": {
      "text/plain": [
       "<matplotlib.axes._subplots.AxesSubplot at 0x2469be0d108>"
      ]
     },
     "execution_count": 3,
     "metadata": {},
     "output_type": "execute_result"
    },
    {
     "data": {
      "image/png": "[encoded data removed]",
      "text/plain": [
       "<Figure size 432x288 with 1 Axes>"
      ]
     },
     "metadata": {
      "needs_background": "light"
     },
     "output_type": "display_data"
    }
   ],
   "source": [
    "# Read data frame\n",
    "file_url = '../Translated/cleaned/train.csv'\n",
    "df = pd.read_csv(file_url)\n",
    "\n",
    "## Doing basic EDA ( Exploratory Data Analysis )\n",
    "\n",
    "# Description of the dataset\n",
    "print('SHAPE OF DATASET: ', df.shape, '\\n\\nCOLUMNS IN DATASET: ', df.columns, '\\n\\nCATEGORIES: ', df.Label.unique(), '\\n\\nDATA SAMPLE: \\n\\n', df.sample(n=5), '\\n\\n')\n",
    "\n",
    "# Plotting number of samples within each category\n",
    "print('NUMBER OF SAMPLES IN EACH CATEGORY: \\n')\n",
    "sns.countplot(df.Label)"
   ]
  },
  {
   "cell_type": "markdown",
   "metadata": {},
   "source": [
    "**Note :** Data set seems balanced.  Just in case if it was highly imbalanced say any one category had more than 50% entries then , we could have used SMOTHE (Synthetic Minority Over-sampling Technique) over the Minor classes and undersampling of Major class."
   ]
  },
  {
   "cell_type": "code",
   "execution_count": 5,
   "metadata": {},
   "outputs": [
    {
     "name": "stdout",
     "output_type": "stream",
     "text": [
      "Data cleaning in progress...\n"
     ]
    }
   ],
   "source": [
    "# DATA CLEANING\n",
    "print('Data cleaning in progress...')\n",
    "\n",
    "# Tokenize : dividing Sentences into words\n",
    "# df['text_clean'] = df['Text'].apply(nltk.word_tokenize)\n",
    "# print('Tokenization complete.')\n",
    "\n",
    "\n",
    "# Remove stop words\n",
    "stop_words=set(nltk.corpus.stopwords.words(\"english\"))\n",
    "other_stop_w = pd.read_csv('words_shared_by_all.csv')\n",
    "stopw = [item for sublist in other_stop_w.values.tolist() for item in sublist]\n",
    "stop_words = set(list(stop_words)+stopw)\n",
    "# df['text_clean'] = df['text_clean'].apply(lambda x: [item for item in x if item not in stop_words])\n",
    "# print('Stop words removed.')\n",
    "\n",
    "\n",
    "# Remove numbers, punctuation and special characters (only keep words)\n",
    "# regex = '[a-z]+'\n",
    "# df['text_clean'] = df['text_clean'].apply(lambda x: [item for item in x if re.match(regex, item)])\n",
    "# print('Numbers, punctuation and special characters removed.')\n",
    "\n",
    "\n",
    "# Lemmatization : lemma means base form of a word.  // Example : leaf and leaves get lemmatized to leaf\n",
    "# lem = nltk.stem.wordnet.WordNetLemmatizer()\n",
    "# df['text_clean'] = df['text_clean'].apply(lambda x: [lem.lemmatize(item, pos='v') for item in x])\n",
    "# print('Lemmatization complete.\\nData cleaning complete.\\n')"
   ]
  },
  {
   "cell_type": "code",
   "execution_count": null,
   "metadata": {},
   "outputs": [],
   "source": [
    "# df"
   ]
  },
  {
   "cell_type": "markdown",
   "metadata": {},
   "source": [
    "> **Note** : None of the classifiers have a accuracy of classification more than 50%. Now thats horrible to say , that our ML model is misclassifying about 60% of the test data. We can't the classifier Algos. They are all popular standard algos. So what we do ????\n",
    "\n",
    "## **Solution** : Instead of gensim.models.Word2Vec , try to use sklearn.feature_extraction.text.TfidfVectorizer  \n"
   ]
  },
  {
   "cell_type": "code",
   "execution_count": 10,
   "metadata": {},
   "outputs": [
    {
     "name": "stdout",
     "output_type": "stream",
     "text": [
      "Vectorization complete.\n",
      "\n",
      "Naive Bayes : {'alpha': 0.5, 'fit_prior': False}\n",
      "Accuracy: 0.559 \tPrecision: 0.363 \tRecall: 0.339 \t\tF1: 0.331\n",
      "\n",
      "SVC : {'kernel': 'linear'}\n",
      "Accuracy: 0.597 \tPrecision: 0.492 \tRecall: 0.416 \t\tF1: 0.427\n",
      "\n",
      "ComplementNB : {}\n",
      "Accuracy: 0.608 \tPrecision: 0.489 \tRecall: 0.424 \t\tF1: 0.421\n",
      "\n",
      "Logistic Regression : {'C': 12, 'class_weight': None, 'solver': 'liblinear'}\n",
      "Accuracy: 0.594 \tPrecision: 0.489 \tRecall: 0.412 \t\tF1: 0.423\n",
      "\n"
     ]
    }
   ],
   "source": [
    "\n",
    "# Vectorize training and testing data. Here we would pass TfidfVectorizer() to vec \n",
    "def Vectorize(vec, X_train, X_test):    \n",
    "    \n",
    "    X_train_vec = vec.fit_transform(X_train)\n",
    "    X_test_vec = vec.transform(X_test)\n",
    "    \n",
    "    print('Vectorization complete.\\n')\n",
    "    \n",
    "    return X_train_vec, X_test_vec\n",
    "\n",
    "\n",
    "# Use multiple classifiers and grid search for prediction\n",
    "def ML_modeling(models, params, X_train, X_test, y_train, y_test):    \n",
    "    \n",
    "    if not set(models.keys()).issubset(set(params.keys())):\n",
    "        raise ValueError('Some estimators are missing parameters')\n",
    "\n",
    "    for key in models.keys():\n",
    "    \n",
    "        model = models[key]\n",
    "        param = params[key]\n",
    "        gs = GridSearchCV(model, param, cv=5, error_score=0, refit=True)\n",
    "        gs.fit(X_train, y_train)\n",
    "        y_pred = gs.predict(X_test)\n",
    "        \n",
    "        # Print scores for the classifier\n",
    "        print(key, ':', gs.best_params_)\n",
    "        print(\"Accuracy: %1.3f \\tPrecision: %1.3f \\tRecall: %1.3f \\t\\tF1: %1.3f\\n\" % (accuracy_score(y_test, y_pred), precision_score(y_test, y_pred, average='macro'), recall_score(y_test, y_pred, average='macro'), f1_score(y_test, y_pred, average='macro')))\n",
    "    \n",
    "    return\n",
    "\n",
    "\n",
    "## Preparing to make a pipeline \n",
    "# models = {\n",
    "#     'Naive Bayes': MultinomialNB(), \n",
    "#     'Decision Tree': DecisionTreeClassifier(),  \n",
    "#     'Perceptron': MLPClassifier(),\n",
    "#     'Gradient Boosting': GradientBoostingClassifier()   ## This model would take a little longer to run \n",
    "# }\n",
    "\n",
    "# params = {\n",
    "#     'Naive Bayes': { 'alpha': [0.5, 1], 'fit_prior': [True, False] }, \n",
    "#     'Decision Tree': { 'min_samples_split': [1, 2, 5] }, \n",
    "#     'Perceptron': { 'alpha': [0.0001, 0.001], 'activation': ['tanh', 'relu'] },\n",
    "#     'Gradient Boosting': { 'learning_rate': [0.05, 0.1], 'min_samples_split': [2, 5] }\n",
    "# }\n",
    "\n",
    "# Classification using TFIDF vectorizer\n",
    "models = {\n",
    "    'Naive Bayes': MultinomialNB(), \n",
    "    'SVC': SVC(random_state = 0),\n",
    "#     'Decision Tree': DecisionTreeClassifier(random_state = 0),  \n",
    "#     'Perceptron': MLPClassifier(random_state = 0),\n",
    "#     'Gradient Boosting': GradientBoostingClassifier(random_state = 0),\n",
    "    'ComplementNB' : ComplementNB(),\n",
    "    'Logistic Regression' : LogisticRegression(random_state = 0, multi_class = 'ovr', max_iter = 10000)\n",
    "}\n",
    "\n",
    "params = {\n",
    "    'Naive Bayes': { 'alpha': [0.5, 1], 'fit_prior': [True, False] }, \n",
    "    'SVC': { 'kernel': ['linear', 'rbf'] },\n",
    "#     'Decision Tree': { 'min_samples_split': [2, 5] }, \n",
    "#     'Perceptron': { 'activation': ['tanh', 'relu'] },\n",
    "#     'Gradient Boosting': { 'min_samples_split': [2, 5] },\n",
    "    'ComplementNB' : {},\n",
    "    'Logistic Regression' : {'C' : [0.001, 0.1 , 7 , 12, 100], 'solver' : ['liblinear'], 'class_weight' : [None, 'Balanced']}\n",
    "\n",
    "}\n",
    "\n",
    "\n",
    "## splitting the dataset into 80:20.  have kept shuffle=True , so that the data is randomly sampled or simply said shuffled , and then split.\n",
    "X_train, X_test, y_train, y_test = train_test_split(df['Text'], df['Label'], test_size=0.2, shuffle=True,random_state = 0)\n",
    "\n",
    "\n",
    "# Encode label categories to numbers\n",
    "enc = LabelEncoder()\n",
    "df['Label'] = enc.fit_transform(df['Label'])\n",
    "labels = list(enc.classes_)\n",
    "other_stop_w = pd.read_csv('words_shared_by_all.csv')\n",
    "stopw = [item for sublist in other_stop_w.values.tolist() for item in sublist]\n",
    "\n",
    "# Train-test split and vectorize\n",
    "# X_train, X_test, y_train, y_test = train_test_split(df['Text'], df['Label'], test_size=0.2, shuffle=True)\n",
    "X_train_vec, X_test_vec = Vectorize(TfidfVectorizer(max_features=7000,stop_words=stopw), X_train, X_test)\n",
    "\n",
    "ML_modeling(models, params, X_train_vec, X_test_vec, y_train, y_test)\n",
    "## ML_modeling method also prints performance scores for each classifier"
   ]
  },
  {
   "cell_type": "markdown",
   "metadata": {},
   "source": [
    "<span style=\"background-color:yellow\">Conclusion of this Ananlysis</span> : TfidfVectorizer seems to have performed far better than Word2Vec vectorizer.  So with this simple excerise , its proved that we should prefer to use TfidfVectorizer for most Text (NLP) applications."
   ]
  },
  {
   "cell_type": "code",
   "execution_count": null,
   "metadata": {},
   "outputs": [],
   "source": [
    "df['text_clean']"
   ]
  },
  {
   "cell_type": "markdown",
   "metadata": {},
   "source": [
    "## Let's Connect :\n",
    "\n",
    "You can connect with me on Linkedin here (https://www.linkedin.com/in/rocky-jagtiani-3b390649/) as well see our Data Science Programme here ( https://datascience.suvenconsultants.com/ ). Participate with me in my Live Google Classroom sessions, to solve simple real problems.\n",
    "\n",
    "<br>\n",
    "\n",
    "Do read <a href='https://www.linkedin.com/posts/rocky-jagtiani-3b390649_story-traditional-teacher-activity-6675014449620926464-Rsgj'> Rakhee kundu's true story </a>   -->  <b>Rakhee Kundu in below pic , being appreciated by myself ( Prof. Rocky Jagtiani - Data Science Practioner & Trainer )</b>\n",
    "\n",
    "<br>\n",
    "\n",
    "![CertificationPic_In_the_NB](https://drive.google.com/uc?id=1lLSFd1O5hrIRBIWztjBiO6RcyPwyDmyF)\n",
    "\n"
   ]
  }
 ],
 "metadata": {
  "kernelspec": {
   "display_name": "Python 3",
   "language": "python",
   "name": "python3"
  },
  "language_info": {
   "codemirror_mode": {
    "name": "ipython",
    "version": 3
   },
   "file_extension": ".py",
   "mimetype": "text/x-python",
   "name": "python",
   "nbconvert_exporter": "python",
   "pygments_lexer": "ipython3",
   "version": "3.7.4"
  }
 },
 "nbformat": 4,
 "nbformat_minor": 4
}
