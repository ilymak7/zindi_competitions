{
 "cells": [
  {
   "cell_type": "markdown",
   "metadata": {
    "_cell_guid": "d49b7eaa-0bf7-48e0-9fe6-51ba03036ba1",
    "_uuid": "9dacb7a2a5a9e582d7e597be4ea479cedd79489a"
   },
   "source": [
    "# Classifying multi-label comments with Logistic Regression\n",
    "#### Rhodium Beng\n",
    "Started on 20 December 2017\n",
    "\n",
    "This kernel is inspired by:\n",
    "- kernel by Jeremy Howard : _NB-SVM strong linear baseline + EDA (0.052 lb)_\n",
    "- kernel by Issac : _logistic regression (0.055 lb)_\n",
    "- _Solving Multi-Label Classification problems_, https://www.analyticsvidhya.com/blog/2017/08/introduction-to-multi-label-classification/"
   ]
  },
  {
   "cell_type": "code",
   "execution_count": 1,
   "metadata": {
    "_cell_guid": "8f6a95ee-cc95-4c9f-a8f7-72ae58ec13d6",
    "_uuid": "5c5f4cc8865644748e11336736bbe584adebe7b1"
   },
   "outputs": [
    {
     "name": "stderr",
     "output_type": "stream",
     "text": [
      "C:\\Users\\amakr\\AppData\\Local\\Continuum\\anaconda3\\lib\\site-packages\\numpy\\_distributor_init.py:32: UserWarning: loaded more than 1 DLL from .libs:\n",
      "C:\\Users\\amakr\\AppData\\Local\\Continuum\\anaconda3\\lib\\site-packages\\numpy\\.libs\\libopenblas.NOIJJG62EMASZI6NYURL6JBKM4EVBGM7.gfortran-win_amd64.dll\n",
      "C:\\Users\\amakr\\AppData\\Local\\Continuum\\anaconda3\\lib\\site-packages\\numpy\\.libs\\libopenblas.WCDJNK7YVMPZQ2ME2ZZHJJRJ3JIKNDB7.gfortran-win_amd64.dll\n",
      "  stacklevel=1)\n"
     ]
    }
   ],
   "source": [
    "import numpy as np\n",
    "import pandas as pd\n",
    "from matplotlib import pyplot as plt\n",
    "%matplotlib inline\n",
    "import seaborn as sns\n",
    "import re"
   ]
  },
  {
   "cell_type": "markdown",
   "metadata": {
    "_cell_guid": "80d61838-9025-4cba-bb0e-58175586b21b",
    "_uuid": "4f65d03ddbfd127307d3e415003346eb898b4d6b"
   },
   "source": [
    "## Load training and test data\n"
   ]
  },
  {
   "cell_type": "code",
   "execution_count": 3,
   "metadata": {
    "_cell_guid": "094fff47-db10-447c-965e-08056f718bde",
    "_uuid": "4e35cd5fcae1581dbd6bc51f14728e27fe63fe70"
   },
   "outputs": [],
   "source": [
    "train_df = pd.read_csv('../data/train.csv')\n",
    "test_df = pd.read_csv('../data/test.csv')"
   ]
  },
  {
   "cell_type": "markdown",
   "metadata": {
    "_cell_guid": "09986b08-eda6-4438-9cbe-52a61d8d57fa",
    "_uuid": "89d1c9a4f9598427e8a20d66fa9e56796ad720f6"
   },
   "source": [
    "## Examine the data (EDA)"
   ]
  },
  {
   "cell_type": "code",
   "execution_count": 4,
   "metadata": {
    "_cell_guid": "c4c7137d-6bc7-4b41-b50a-e511883155e9",
    "_kg_hide-output": true,
    "_uuid": "9e53b7599d707a9420a75c37c7ac6d05bed9df7b"
   },
   "outputs": [
    {
     "data": {
      "text/html": [
       "<div>\n",
       "<style scoped>\n",
       "    .dataframe tbody tr th:only-of-type {\n",
       "        vertical-align: middle;\n",
       "    }\n",
       "\n",
       "    .dataframe tbody tr th {\n",
       "        vertical-align: top;\n",
       "    }\n",
       "\n",
       "    .dataframe thead th {\n",
       "        text-align: right;\n",
       "    }\n",
       "</style>\n",
       "<table border=\"1\" class=\"dataframe\">\n",
       "  <thead>\n",
       "    <tr style=\"text-align: right;\">\n",
       "      <th></th>\n",
       "      <th>ID</th>\n",
       "      <th>Text</th>\n",
       "      <th>Label</th>\n",
       "    </tr>\n",
       "  </thead>\n",
       "  <tbody>\n",
       "    <tr>\n",
       "      <th>815</th>\n",
       "      <td>ID_dsgepUMD</td>\n",
       "      <td>Apempha Amayi mu Dayosizi ya Dedza Akonde Kuwe...</td>\n",
       "      <td>RELIGION</td>\n",
       "    </tr>\n",
       "    <tr>\n",
       "      <th>1305</th>\n",
       "      <td>ID_vgqzzLKw</td>\n",
       "      <td>Tidakumana Bwanji: Padali pagalaja ku Area 25...</td>\n",
       "      <td>SOCIAL ISSUES</td>\n",
       "    </tr>\n",
       "    <tr>\n",
       "      <th>742</th>\n",
       "      <td>ID_bzYVuAnV</td>\n",
       "      <td>Adandaula zochitika kumgodi wa Kanyika Jere k...</td>\n",
       "      <td>POLITICS</td>\n",
       "    </tr>\n",
       "    <tr>\n",
       "      <th>974</th>\n",
       "      <td>ID_kAnnyaPs</td>\n",
       "      <td>Lamulo la chuma cha pulezidenti liunikidwenso...</td>\n",
       "      <td>POLITICS</td>\n",
       "    </tr>\n",
       "    <tr>\n",
       "      <th>523</th>\n",
       "      <td>ID_TUWimMiu</td>\n",
       "      <td>Msonkhano wa YCW Uli Mkati ku Karonga Msonkhan...</td>\n",
       "      <td>RELIGION</td>\n",
       "    </tr>\n",
       "  </tbody>\n",
       "</table>\n",
       "</div>"
      ],
      "text/plain": [
       "               ID                                               Text  \\\n",
       "815   ID_dsgepUMD  Apempha Amayi mu Dayosizi ya Dedza Akonde Kuwe...   \n",
       "1305  ID_vgqzzLKw   Tidakumana Bwanji: Padali pagalaja ku Area 25...   \n",
       "742   ID_bzYVuAnV   Adandaula zochitika kumgodi wa Kanyika Jere k...   \n",
       "974   ID_kAnnyaPs   Lamulo la chuma cha pulezidenti liunikidwenso...   \n",
       "523   ID_TUWimMiu  Msonkhano wa YCW Uli Mkati ku Karonga Msonkhan...   \n",
       "\n",
       "              Label  \n",
       "815        RELIGION  \n",
       "1305  SOCIAL ISSUES  \n",
       "742        POLITICS  \n",
       "974        POLITICS  \n",
       "523        RELIGION  "
      ]
     },
     "execution_count": 4,
     "metadata": {},
     "output_type": "execute_result"
    }
   ],
   "source": [
    "train_df.sample(5)"
   ]
  },
  {
   "cell_type": "markdown",
   "metadata": {
    "_cell_guid": "40597119-1274-4d5b-a054-b4b17dbcbb36",
    "_uuid": "6c824d91ae1e801e1489e93e1a9932c8c0cb0e0a"
   },
   "source": [
    "In the training data, the comments are labelled as one or more of the six categories; toxic, severe toxic, obscene, threat, insult and identity hate. This is essentially a multi-label classification problem."
   ]
  },
  {
   "cell_type": "code",
   "execution_count": 5,
   "metadata": {
    "_cell_guid": "7e29bebb-d9b7-44ab-a6ba-9f98e6507d5e",
    "_uuid": "7f7f2581edb2f42a64812dec31622a011dceff80"
   },
   "outputs": [],
   "source": [
    "cols_target = train_df.Label.unique().tolist()"
   ]
  },
  {
   "cell_type": "code",
   "execution_count": 6,
   "metadata": {
    "_cell_guid": "ce00e980-da07-4412-ae4c-5152cc2036e0",
    "_uuid": "e4a226272e319458391e117e8fb7f16b17c4884f"
   },
   "outputs": [
    {
     "data": {
      "text/html": [
       "<div>\n",
       "<style scoped>\n",
       "    .dataframe tbody tr th:only-of-type {\n",
       "        vertical-align: middle;\n",
       "    }\n",
       "\n",
       "    .dataframe tbody tr th {\n",
       "        vertical-align: top;\n",
       "    }\n",
       "\n",
       "    .dataframe thead th {\n",
       "        text-align: right;\n",
       "    }\n",
       "</style>\n",
       "<table border=\"1\" class=\"dataframe\">\n",
       "  <thead>\n",
       "    <tr style=\"text-align: right;\">\n",
       "      <th></th>\n",
       "      <th>ID</th>\n",
       "      <th>Text</th>\n",
       "      <th>Label</th>\n",
       "    </tr>\n",
       "  </thead>\n",
       "  <tbody>\n",
       "    <tr>\n",
       "      <th>count</th>\n",
       "      <td>1436</td>\n",
       "      <td>1436</td>\n",
       "      <td>1436</td>\n",
       "    </tr>\n",
       "    <tr>\n",
       "      <th>unique</th>\n",
       "      <td>1436</td>\n",
       "      <td>1436</td>\n",
       "      <td>20</td>\n",
       "    </tr>\n",
       "    <tr>\n",
       "      <th>top</th>\n",
       "      <td>ID_joLKEURk</td>\n",
       "      <td>APM akuzemba PAC Akatswiri a ndale Othirira n...</td>\n",
       "      <td>POLITICS</td>\n",
       "    </tr>\n",
       "    <tr>\n",
       "      <th>freq</th>\n",
       "      <td>1</td>\n",
       "      <td>1</td>\n",
       "      <td>279</td>\n",
       "    </tr>\n",
       "  </tbody>\n",
       "</table>\n",
       "</div>"
      ],
      "text/plain": [
       "                 ID                                               Text  \\\n",
       "count          1436                                               1436   \n",
       "unique         1436                                               1436   \n",
       "top     ID_joLKEURk   APM akuzemba PAC Akatswiri a ndale Othirira n...   \n",
       "freq              1                                                  1   \n",
       "\n",
       "           Label  \n",
       "count       1436  \n",
       "unique        20  \n",
       "top     POLITICS  \n",
       "freq         279  "
      ]
     },
     "execution_count": 6,
     "metadata": {},
     "output_type": "execute_result"
    }
   ],
   "source": [
    "# check missing values in numeric columns\n",
    "train_df.describe()"
   ]
  },
  {
   "cell_type": "markdown",
   "metadata": {
    "_cell_guid": "b2be6443-eb4e-4e12-81b3-faf2ea692ca4",
    "_uuid": "474f4cf26190a2f2011ca0908052973fec1b1520"
   },
   "source": [
    "There are no missing numeric values. \n",
    "As the mean values are very small (some way below 0.05), there would be many not labelled as positive in the six categories. From this I guess that there would be many comments which are not labelled in any of the six categories. Let's take a look."
   ]
  },
  {
   "cell_type": "code",
   "execution_count": 7,
   "metadata": {
    "_uuid": "f0a52911f77fade7ece075fdc0d9df9433029eec"
   },
   "outputs": [
    {
     "data": {
      "text/html": [
       "<div>\n",
       "<style scoped>\n",
       "    .dataframe tbody tr th:only-of-type {\n",
       "        vertical-align: middle;\n",
       "    }\n",
       "\n",
       "    .dataframe tbody tr th {\n",
       "        vertical-align: top;\n",
       "    }\n",
       "\n",
       "    .dataframe thead th {\n",
       "        text-align: right;\n",
       "    }\n",
       "</style>\n",
       "<table border=\"1\" class=\"dataframe\">\n",
       "  <thead>\n",
       "    <tr style=\"text-align: right;\">\n",
       "      <th></th>\n",
       "      <th>ID</th>\n",
       "      <th>Text</th>\n",
       "      <th>Label</th>\n",
       "      <th>ARTS AND CRAFTS</th>\n",
       "      <th>CULTURE</th>\n",
       "      <th>ECONOMY</th>\n",
       "      <th>EDUCATION</th>\n",
       "      <th>FARMING</th>\n",
       "      <th>FLOODING</th>\n",
       "      <th>HEALTH</th>\n",
       "      <th>...</th>\n",
       "      <th>OPINION/ESSAY</th>\n",
       "      <th>POLITICS</th>\n",
       "      <th>RELATIONSHIPS</th>\n",
       "      <th>RELIGION</th>\n",
       "      <th>SOCIAL</th>\n",
       "      <th>SOCIAL ISSUES</th>\n",
       "      <th>SPORTS</th>\n",
       "      <th>TRANSPORT</th>\n",
       "      <th>WILDLIFE/ENVIRONMENT</th>\n",
       "      <th>WITCHCRAFT</th>\n",
       "    </tr>\n",
       "  </thead>\n",
       "  <tbody>\n",
       "    <tr>\n",
       "      <th>0</th>\n",
       "      <td>ID_AASHwXxg</td>\n",
       "      <td>Mwangonde: Khansala wachinyamata Akamati achi...</td>\n",
       "      <td>POLITICS</td>\n",
       "      <td>0</td>\n",
       "      <td>0</td>\n",
       "      <td>0</td>\n",
       "      <td>0</td>\n",
       "      <td>0</td>\n",
       "      <td>0</td>\n",
       "      <td>0</td>\n",
       "      <td>...</td>\n",
       "      <td>0</td>\n",
       "      <td>1</td>\n",
       "      <td>0</td>\n",
       "      <td>0</td>\n",
       "      <td>0</td>\n",
       "      <td>0</td>\n",
       "      <td>0</td>\n",
       "      <td>0</td>\n",
       "      <td>0</td>\n",
       "      <td>0</td>\n",
       "    </tr>\n",
       "    <tr>\n",
       "      <th>1</th>\n",
       "      <td>ID_AGoFySzn</td>\n",
       "      <td>MCP siidakhutire ndi kalembera Chipani cha Ma...</td>\n",
       "      <td>POLITICS</td>\n",
       "      <td>0</td>\n",
       "      <td>0</td>\n",
       "      <td>0</td>\n",
       "      <td>0</td>\n",
       "      <td>0</td>\n",
       "      <td>0</td>\n",
       "      <td>0</td>\n",
       "      <td>...</td>\n",
       "      <td>0</td>\n",
       "      <td>1</td>\n",
       "      <td>0</td>\n",
       "      <td>0</td>\n",
       "      <td>0</td>\n",
       "      <td>0</td>\n",
       "      <td>0</td>\n",
       "      <td>0</td>\n",
       "      <td>0</td>\n",
       "      <td>0</td>\n",
       "    </tr>\n",
       "    <tr>\n",
       "      <th>2</th>\n",
       "      <td>ID_AGrrkBGP</td>\n",
       "      <td>Bungwe la MANEPO Lapempha Boma Liganizire Anth...</td>\n",
       "      <td>HEALTH</td>\n",
       "      <td>0</td>\n",
       "      <td>0</td>\n",
       "      <td>0</td>\n",
       "      <td>0</td>\n",
       "      <td>0</td>\n",
       "      <td>0</td>\n",
       "      <td>1</td>\n",
       "      <td>...</td>\n",
       "      <td>0</td>\n",
       "      <td>0</td>\n",
       "      <td>0</td>\n",
       "      <td>0</td>\n",
       "      <td>0</td>\n",
       "      <td>0</td>\n",
       "      <td>0</td>\n",
       "      <td>0</td>\n",
       "      <td>0</td>\n",
       "      <td>0</td>\n",
       "    </tr>\n",
       "    <tr>\n",
       "      <th>3</th>\n",
       "      <td>ID_AIJeigeG</td>\n",
       "      <td>Ndale zogawanitsa miyambo zanyanya Si zachile...</td>\n",
       "      <td>POLITICS</td>\n",
       "      <td>0</td>\n",
       "      <td>0</td>\n",
       "      <td>0</td>\n",
       "      <td>0</td>\n",
       "      <td>0</td>\n",
       "      <td>0</td>\n",
       "      <td>0</td>\n",
       "      <td>...</td>\n",
       "      <td>0</td>\n",
       "      <td>1</td>\n",
       "      <td>0</td>\n",
       "      <td>0</td>\n",
       "      <td>0</td>\n",
       "      <td>0</td>\n",
       "      <td>0</td>\n",
       "      <td>0</td>\n",
       "      <td>0</td>\n",
       "      <td>0</td>\n",
       "    </tr>\n",
       "    <tr>\n",
       "      <th>4</th>\n",
       "      <td>ID_APMprMbV</td>\n",
       "      <td>Nanga wapolisi ataphofomoka? Masiku ano sichi...</td>\n",
       "      <td>LAW/ORDER</td>\n",
       "      <td>0</td>\n",
       "      <td>0</td>\n",
       "      <td>0</td>\n",
       "      <td>0</td>\n",
       "      <td>0</td>\n",
       "      <td>0</td>\n",
       "      <td>0</td>\n",
       "      <td>...</td>\n",
       "      <td>0</td>\n",
       "      <td>0</td>\n",
       "      <td>0</td>\n",
       "      <td>0</td>\n",
       "      <td>0</td>\n",
       "      <td>0</td>\n",
       "      <td>0</td>\n",
       "      <td>0</td>\n",
       "      <td>0</td>\n",
       "      <td>0</td>\n",
       "    </tr>\n",
       "    <tr>\n",
       "      <th>...</th>\n",
       "      <td>...</td>\n",
       "      <td>...</td>\n",
       "      <td>...</td>\n",
       "      <td>...</td>\n",
       "      <td>...</td>\n",
       "      <td>...</td>\n",
       "      <td>...</td>\n",
       "      <td>...</td>\n",
       "      <td>...</td>\n",
       "      <td>...</td>\n",
       "      <td>...</td>\n",
       "      <td>...</td>\n",
       "      <td>...</td>\n",
       "      <td>...</td>\n",
       "      <td>...</td>\n",
       "      <td>...</td>\n",
       "      <td>...</td>\n",
       "      <td>...</td>\n",
       "      <td>...</td>\n",
       "      <td>...</td>\n",
       "      <td>...</td>\n",
       "    </tr>\n",
       "    <tr>\n",
       "      <th>1431</th>\n",
       "      <td>ID_zmTmmEio</td>\n",
       "      <td>Eni Minibus Ati Ali ndi Ufulu Wokweza Mitengo ...</td>\n",
       "      <td>TRANSPORT</td>\n",
       "      <td>0</td>\n",
       "      <td>0</td>\n",
       "      <td>0</td>\n",
       "      <td>0</td>\n",
       "      <td>0</td>\n",
       "      <td>0</td>\n",
       "      <td>0</td>\n",
       "      <td>...</td>\n",
       "      <td>0</td>\n",
       "      <td>0</td>\n",
       "      <td>0</td>\n",
       "      <td>0</td>\n",
       "      <td>0</td>\n",
       "      <td>0</td>\n",
       "      <td>0</td>\n",
       "      <td>1</td>\n",
       "      <td>0</td>\n",
       "      <td>0</td>\n",
       "    </tr>\n",
       "    <tr>\n",
       "      <th>1432</th>\n",
       "      <td>ID_znOlIaGQ</td>\n",
       "      <td>Kachali apepesa: Kulankhula motumbwa kuthe An...</td>\n",
       "      <td>POLITICS</td>\n",
       "      <td>0</td>\n",
       "      <td>0</td>\n",
       "      <td>0</td>\n",
       "      <td>0</td>\n",
       "      <td>0</td>\n",
       "      <td>0</td>\n",
       "      <td>0</td>\n",
       "      <td>...</td>\n",
       "      <td>0</td>\n",
       "      <td>1</td>\n",
       "      <td>0</td>\n",
       "      <td>0</td>\n",
       "      <td>0</td>\n",
       "      <td>0</td>\n",
       "      <td>0</td>\n",
       "      <td>0</td>\n",
       "      <td>0</td>\n",
       "      <td>0</td>\n",
       "    </tr>\n",
       "    <tr>\n",
       "      <th>1433</th>\n",
       "      <td>ID_znracTjN</td>\n",
       "      <td>Mawu supports non-fiction writers The Malawi ...</td>\n",
       "      <td>EDUCATION</td>\n",
       "      <td>0</td>\n",
       "      <td>0</td>\n",
       "      <td>0</td>\n",
       "      <td>1</td>\n",
       "      <td>0</td>\n",
       "      <td>0</td>\n",
       "      <td>0</td>\n",
       "      <td>...</td>\n",
       "      <td>0</td>\n",
       "      <td>0</td>\n",
       "      <td>0</td>\n",
       "      <td>0</td>\n",
       "      <td>0</td>\n",
       "      <td>0</td>\n",
       "      <td>0</td>\n",
       "      <td>0</td>\n",
       "      <td>0</td>\n",
       "      <td>0</td>\n",
       "    </tr>\n",
       "    <tr>\n",
       "      <th>1434</th>\n",
       "      <td>ID_ztdsmmva</td>\n",
       "      <td>Tame Mwawa: Phwete ndiye kudya kwake Sewero l...</td>\n",
       "      <td>SOCIAL ISSUES</td>\n",
       "      <td>0</td>\n",
       "      <td>0</td>\n",
       "      <td>0</td>\n",
       "      <td>0</td>\n",
       "      <td>0</td>\n",
       "      <td>0</td>\n",
       "      <td>0</td>\n",
       "      <td>...</td>\n",
       "      <td>0</td>\n",
       "      <td>0</td>\n",
       "      <td>0</td>\n",
       "      <td>0</td>\n",
       "      <td>0</td>\n",
       "      <td>1</td>\n",
       "      <td>0</td>\n",
       "      <td>0</td>\n",
       "      <td>0</td>\n",
       "      <td>0</td>\n",
       "    </tr>\n",
       "    <tr>\n",
       "      <th>1435</th>\n",
       "      <td>ID_zteydTpN</td>\n",
       "      <td>PAC iunguza za boma la chifedulo Nthumwi zomw...</td>\n",
       "      <td>POLITICS</td>\n",
       "      <td>0</td>\n",
       "      <td>0</td>\n",
       "      <td>0</td>\n",
       "      <td>0</td>\n",
       "      <td>0</td>\n",
       "      <td>0</td>\n",
       "      <td>0</td>\n",
       "      <td>...</td>\n",
       "      <td>0</td>\n",
       "      <td>1</td>\n",
       "      <td>0</td>\n",
       "      <td>0</td>\n",
       "      <td>0</td>\n",
       "      <td>0</td>\n",
       "      <td>0</td>\n",
       "      <td>0</td>\n",
       "      <td>0</td>\n",
       "      <td>0</td>\n",
       "    </tr>\n",
       "  </tbody>\n",
       "</table>\n",
       "<p>1436 rows × 23 columns</p>\n",
       "</div>"
      ],
      "text/plain": [
       "               ID                                               Text  \\\n",
       "0     ID_AASHwXxg   Mwangonde: Khansala wachinyamata Akamati achi...   \n",
       "1     ID_AGoFySzn   MCP siidakhutire ndi kalembera Chipani cha Ma...   \n",
       "2     ID_AGrrkBGP  Bungwe la MANEPO Lapempha Boma Liganizire Anth...   \n",
       "3     ID_AIJeigeG   Ndale zogawanitsa miyambo zanyanya Si zachile...   \n",
       "4     ID_APMprMbV   Nanga wapolisi ataphofomoka? Masiku ano sichi...   \n",
       "...           ...                                                ...   \n",
       "1431  ID_zmTmmEio  Eni Minibus Ati Ali ndi Ufulu Wokweza Mitengo ...   \n",
       "1432  ID_znOlIaGQ   Kachali apepesa: Kulankhula motumbwa kuthe An...   \n",
       "1433  ID_znracTjN   Mawu supports non-fiction writers The Malawi ...   \n",
       "1434  ID_ztdsmmva   Tame Mwawa: Phwete ndiye kudya kwake Sewero l...   \n",
       "1435  ID_zteydTpN   PAC iunguza za boma la chifedulo Nthumwi zomw...   \n",
       "\n",
       "              Label  ARTS AND CRAFTS  CULTURE  ECONOMY  EDUCATION  FARMING  \\\n",
       "0          POLITICS                0        0        0          0        0   \n",
       "1          POLITICS                0        0        0          0        0   \n",
       "2            HEALTH                0        0        0          0        0   \n",
       "3          POLITICS                0        0        0          0        0   \n",
       "4         LAW/ORDER                0        0        0          0        0   \n",
       "...             ...              ...      ...      ...        ...      ...   \n",
       "1431      TRANSPORT                0        0        0          0        0   \n",
       "1432       POLITICS                0        0        0          0        0   \n",
       "1433      EDUCATION                0        0        0          1        0   \n",
       "1434  SOCIAL ISSUES                0        0        0          0        0   \n",
       "1435       POLITICS                0        0        0          0        0   \n",
       "\n",
       "      FLOODING  HEALTH  ...  OPINION/ESSAY  POLITICS  RELATIONSHIPS  RELIGION  \\\n",
       "0            0       0  ...              0         1              0         0   \n",
       "1            0       0  ...              0         1              0         0   \n",
       "2            0       1  ...              0         0              0         0   \n",
       "3            0       0  ...              0         1              0         0   \n",
       "4            0       0  ...              0         0              0         0   \n",
       "...        ...     ...  ...            ...       ...            ...       ...   \n",
       "1431         0       0  ...              0         0              0         0   \n",
       "1432         0       0  ...              0         1              0         0   \n",
       "1433         0       0  ...              0         0              0         0   \n",
       "1434         0       0  ...              0         0              0         0   \n",
       "1435         0       0  ...              0         1              0         0   \n",
       "\n",
       "      SOCIAL  SOCIAL ISSUES  SPORTS  TRANSPORT  WILDLIFE/ENVIRONMENT  \\\n",
       "0          0              0       0          0                     0   \n",
       "1          0              0       0          0                     0   \n",
       "2          0              0       0          0                     0   \n",
       "3          0              0       0          0                     0   \n",
       "4          0              0       0          0                     0   \n",
       "...      ...            ...     ...        ...                   ...   \n",
       "1431       0              0       0          1                     0   \n",
       "1432       0              0       0          0                     0   \n",
       "1433       0              0       0          0                     0   \n",
       "1434       0              1       0          0                     0   \n",
       "1435       0              0       0          0                     0   \n",
       "\n",
       "      WITCHCRAFT  \n",
       "0              0  \n",
       "1              0  \n",
       "2              0  \n",
       "3              0  \n",
       "4              0  \n",
       "...          ...  \n",
       "1431           0  \n",
       "1432           0  \n",
       "1433           0  \n",
       "1434           0  \n",
       "1435           0  \n",
       "\n",
       "[1436 rows x 23 columns]"
      ]
     },
     "execution_count": 7,
     "metadata": {},
     "output_type": "execute_result"
    }
   ],
   "source": [
    "# unlabelled_in_all = train_df[(train_df['toxic']!=1) & (train_df['severe_toxic']!=1) & (train_df['obscene']!=1) & \n",
    "#                             (train_df['threat']!=1) & (train_df['insult']!=1) & (train_df['identity_hate']!=1)]\n",
    "# print('Percentage of unlabelled comments is ', len(unlabelled_in_all)/len(train_df)*100)\n",
    "\n",
    "from sklearn.preprocessing import LabelBinarizer\n",
    "lb = LabelBinarizer()\n",
    "y_train = lb.fit_transform(train_df['Label'])\n",
    "\n",
    "y_train = pd.DataFrame(y_train, columns= lb.classes_)\n",
    "y_train\n",
    "\n",
    "train_df = pd.concat([train_df, y_train], axis = 1)\n",
    "train_df"
   ]
  },
  {
   "cell_type": "code",
   "execution_count": 8,
   "metadata": {
    "_cell_guid": "997cc605-71a0-4ceb-a64b-e3e44c172aea",
    "_uuid": "99f1db4864c5c538f2a925d7b6733bb4b1c68707"
   },
   "outputs": [],
   "source": [
    "# # check for any 'null' comment\n",
    "# no_comment = train_df[train_df['comment_text'].isnull()]\n",
    "# len(no_comment)"
   ]
  },
  {
   "cell_type": "code",
   "execution_count": 9,
   "metadata": {
    "_cell_guid": "af5ba625-bd5d-4ad3-948b-5641b10d62fb",
    "_kg_hide-output": true,
    "_uuid": "964e57595bb6e87a47aa82557c9d63aae3c24bd0"
   },
   "outputs": [],
   "source": [
    "# test_df.head()"
   ]
  },
  {
   "cell_type": "code",
   "execution_count": 10,
   "metadata": {
    "_cell_guid": "6bd65c22-9c8a-4756-a7bf-16187a6044d1",
    "_uuid": "c616bcb0dcf611679dcb5009def9d71d6727cd0e"
   },
   "outputs": [],
   "source": [
    "# no_comment = test_df[test_df['comment_text'].isnull()]\n",
    "# no_comment"
   ]
  },
  {
   "cell_type": "markdown",
   "metadata": {
    "_cell_guid": "ecce8833-b5b4-40b4-a164-015b7380b8b1",
    "_uuid": "ad7f31ff8035dc60d37c8070f8bbaa9e7afac32f"
   },
   "source": [
    "All rows in the training and test data contain comments, so there's no need to clean up null fields."
   ]
  },
  {
   "cell_type": "code",
   "execution_count": 11,
   "metadata": {
    "_cell_guid": "b3dcbd9f-dbb8-4a5a-96b2-b93882516e27",
    "_uuid": "e497fc6688e16602e3f49a11939f32324d295a8d"
   },
   "outputs": [
    {
     "name": "stdout",
     "output_type": "stream",
     "text": [
      "Total rows in test is 620\n",
      "Total rows in train is 1436\n",
      "POLITICS                279\n",
      "HEALTH                  127\n",
      "LAW/ORDER               136\n",
      "RELIGION                147\n",
      "FARMING                  78\n",
      "WILDLIFE/ENVIRONMENT     36\n",
      "SOCIAL ISSUES           134\n",
      "SOCIAL                  152\n",
      "OPINION/ESSAY            26\n",
      "LOCALCHIEFS              25\n",
      "WITCHCRAFT               16\n",
      "ECONOMY                  86\n",
      "SPORTS                   49\n",
      "RELATIONSHIPS            39\n",
      "TRANSPORT                11\n",
      "CULTURE                  23\n",
      "EDUCATION                43\n",
      "MUSIC                    15\n",
      "ARTS AND CRAFTS           7\n",
      "FLOODING                  7\n",
      "dtype: int64\n"
     ]
    }
   ],
   "source": [
    "# let's see the total rows in train, test data and the numbers for the various categories\n",
    "print('Total rows in test is {}'.format(len(test_df)))\n",
    "print('Total rows in train is {}'.format(len(train_df)))\n",
    "print(train_df[cols_target].sum())"
   ]
  },
  {
   "cell_type": "markdown",
   "metadata": {
    "_cell_guid": "981dff09-3acf-4014-b38a-22afc02a6654",
    "_uuid": "2ff9ed83ba328872d446add97695285dc49f4165",
    "collapsed": true
   },
   "source": [
    "As mentioned earlier, majority of the comments in the training data are not labelled in one or more of these categories."
   ]
  },
  {
   "cell_type": "code",
   "execution_count": 12,
   "metadata": {
    "_cell_guid": "b26588a7-9a7f-4183-98b2-fb94a70bedaa",
    "_uuid": "1e97432af65b6b75b436daabc83bdf57775a59c1"
   },
   "outputs": [],
   "source": [
    "# Let's look at the character length for the rows in the training data and record these\n",
    "train_df['char_length'] = train_df['Text'].apply(lambda x: len(str(x)))"
   ]
  },
  {
   "cell_type": "code",
   "execution_count": 13,
   "metadata": {
    "_cell_guid": "d5ac5111-5bba-44c9-a039-7bb01a5bfd59",
    "_uuid": "448c3492fc2fe24f30bd7b97047d69f16b58ca2f",
    "scrolled": true
   },
   "outputs": [
    {
     "data": {
      "image/png": "[encoded data removed]",
      "text/plain": [
       "<Figure size 432x288 with 1 Axes>"
      ]
     },
     "metadata": {},
     "output_type": "display_data"
    }
   ],
   "source": [
    "# look at the histogram plot for text length\n",
    "sns.set()\n",
    "train_df['char_length'].hist()\n",
    "plt.show()"
   ]
  },
  {
   "cell_type": "markdown",
   "metadata": {
    "_cell_guid": "5b482de7-5fd1-4ef7-b7b4-2abf84ebdc25",
    "_uuid": "d28a801b4057518f87e20c46a77f9dc8757ab944"
   },
   "source": [
    "Most of the text length are within 500 characters, with some up to 5,000 characters long."
   ]
  },
  {
   "cell_type": "markdown",
   "metadata": {
    "_cell_guid": "f16a287f-27d4-4afa-82a1-dd441c2fd36c",
    "_uuid": "e1e0ecc1df6989b0ee73874f273f0dbbfc4c9d5e"
   },
   "source": [
    "Next, let's examine the correlations among the target variables."
   ]
  },
  {
   "cell_type": "code",
   "execution_count": 14,
   "metadata": {
    "_cell_guid": "64164a2c-770f-469d-9020-e91714a9b2a8",
    "_uuid": "fab22b3f850c80a10d665ae43ee09b5107a79887"
   },
   "outputs": [],
   "source": [
    "# data = train_df[cols_target]"
   ]
  },
  {
   "cell_type": "code",
   "execution_count": 15,
   "metadata": {
    "_cell_guid": "7fc7803b-a7f1-414d-84fa-d1d2201c8bb7",
    "_kg_hide-output": false,
    "_uuid": "58968a44d8fdb3b93ac57f1ca20f81ffb71d164f",
    "scrolled": true
   },
   "outputs": [],
   "source": [
    "# colormap = plt.cm.plasma\n",
    "# plt.figure(figsize=(7,7))\n",
    "# plt.title('Correlation of features & targets',y=1.05,size=14)\n",
    "# sns.heatmap(data.astype(float).corr(),linewidths=0.1,vmax=1.0,square=True,cmap=colormap,\n",
    "#            linecolor='white',annot=True)"
   ]
  },
  {
   "cell_type": "markdown",
   "metadata": {
    "_cell_guid": "095fd031-32a0-400b-9357-af0c8f50dd6b",
    "_uuid": "4f9da9651b4e007088b19a06165d0727fb4f4e07"
   },
   "source": [
    "Indeed, it looks like some of the labels are higher correlated, e.g. insult-obscene has the highest at 0.74, followed by toxic-obscene and toxic-insult."
   ]
  },
  {
   "cell_type": "markdown",
   "metadata": {
    "_cell_guid": "caa00f5d-7e26-48cb-92b3-acc1f1de0aca",
    "_uuid": "b677d6a32b7b72e08ba3b46bce572a223db964de"
   },
   "source": [
    "What about the character length & distribution of the comment text in the test data?"
   ]
  },
  {
   "cell_type": "code",
   "execution_count": 16,
   "metadata": {
    "_cell_guid": "0993d06b-495e-428a-933a-6ffec6bdcef3",
    "_uuid": "36e4d00a5afc15e6b04ffa1e79421396d051f614"
   },
   "outputs": [],
   "source": [
    "test_df['char_length'] = test_df['Text'].apply(lambda x: len(str(x)))"
   ]
  },
  {
   "cell_type": "code",
   "execution_count": 17,
   "metadata": {},
   "outputs": [],
   "source": [
    "# # data.astype(float).corr()\n",
    "# train_df[['ARTS AND CRAFTS', 'CULTURE', 'ECONOMY',\n",
    "#        'EDUCATION', 'FARMING', 'FLOODING', 'HEALTH', 'LAW/ORDER',\n",
    "#        'LOCALCHIEFS', 'MUSIC', 'OPINION/ESSAY', 'POLITICS', 'RELATIONSHIPS',\n",
    "#        'RELIGION', 'SOCIAL', 'SOCIAL ISSUES', 'SPORTS', 'TRANSPORT',\n",
    "#        'WILDLIFE/ENVIRONMENT', 'WITCHCRAFT', 'char_length']].corr()['char_length']"
   ]
  },
  {
   "cell_type": "code",
   "execution_count": null,
   "metadata": {},
   "outputs": [],
   "source": []
  },
  {
   "cell_type": "code",
   "execution_count": 18,
   "metadata": {
    "_cell_guid": "828b9990-d78e-46c7-b011-1c66e6e6be79",
    "_uuid": "1cc05875b88e54b5a1079eafc088207536dea2f3"
   },
   "outputs": [
    {
     "data": {
      "image/png": "[encoded data removed]",
      "text/plain": [
       "<Figure size 432x288 with 1 Axes>"
      ]
     },
     "metadata": {},
     "output_type": "display_data"
    }
   ],
   "source": [
    "plt.figure()\n",
    "plt.hist(test_df['char_length'])\n",
    "plt.show()"
   ]
  },
  {
   "cell_type": "markdown",
   "metadata": {
    "_cell_guid": "b2bbf246-f098-425a-99e3-2eb2126b975c",
    "_uuid": "db69eb685cd1be44de2224c399cbdeabb5ceaa06"
   },
   "source": [
    "Now, the shape of character length distribution looks similar between the training data and the train data. For the training data, I guess the train data were clipped to 5,000 characters to facilitate the folks who did the labelling of the comment categories."
   ]
  },
  {
   "cell_type": "markdown",
   "metadata": {
    "_cell_guid": "fdf9d2f6-d248-452f-8f94-562755e3a3f3",
    "_uuid": "d88d9cea99dbd77e81a5b3c4b9309df88b04550b"
   },
   "source": [
    "## Clean up the comment text"
   ]
  },
  {
   "cell_type": "code",
   "execution_count": 19,
   "metadata": {
    "_cell_guid": "24392feb-0adc-4e27-bd20-41ed8cadce37",
    "_uuid": "b42586552d4cdc79793b0de8e630f863f2b2c456"
   },
   "outputs": [],
   "source": [
    "def clean_text(text):\n",
    "    text = text.lower()\n",
    "#     text = re.sub(r\"what's\", \"what is \", text)\n",
    "#     text = re.sub(r\"\\'s\", \" \", text)\n",
    "#     text = re.sub(r\"\\'ve\", \" have \", text)\n",
    "#     text = re.sub(r\"can't\", \"cannot \", text)\n",
    "#     text = re.sub(r\"n't\", \" not \", text)\n",
    "#     text = re.sub(r\"i'm\", \"i am \", text)\n",
    "#     text = re.sub(r\"\\'re\", \" are \", text)\n",
    "#     text = re.sub(r\"\\'d\", \" would \", text)\n",
    "#     text = re.sub(r\"\\'ll\", \" will \", text)\n",
    "#     text = re.sub(r\"\\'scuse\", \" excuse \", text)\n",
    "#     text = re.sub('\\W', ' ', text)\n",
    "    text = re.sub('\\s+', ' ', text)\n",
    "    text = text.strip(' ')\n",
    "    return text"
   ]
  },
  {
   "cell_type": "code",
   "execution_count": 20,
   "metadata": {
    "_cell_guid": "7b426494-c856-4cf4-b0d1-4162bc3aef5b",
    "_uuid": "3944cb9d1311fd3729a7dfb13e8ac8c2309962e5"
   },
   "outputs": [],
   "source": [
    "# clean the comment_text in train_df [Thanks to Pulkit Jha for the useful pointer.]\n",
    "train_df['Text'] = train_df['Text'].map(lambda com : clean_text(com))"
   ]
  },
  {
   "cell_type": "code",
   "execution_count": 21,
   "metadata": {
    "_cell_guid": "dc27cc45-e5a9-4f1e-8d07-e28127afaf97",
    "_uuid": "d56d040c687a15a6d13ba29400372108f1960c1b"
   },
   "outputs": [],
   "source": [
    "# clean the comment_text in test_df [Thanks, Pulkit Jha.]\n",
    "test_df['Text'] = test_df['Text'].map(lambda com : clean_text(com))"
   ]
  },
  {
   "cell_type": "markdown",
   "metadata": {
    "_cell_guid": "f5abe72a-13a7-41f6-ae8e-1c34dca97110",
    "_uuid": "cae81f6b1d9bb475fc486d5fbb81981025cc3672"
   },
   "source": [
    "\n",
    "## Define X from entire train & test data for use in tokenization by Vectorizer"
   ]
  },
  {
   "cell_type": "code",
   "execution_count": 22,
   "metadata": {
    "_cell_guid": "30bf94de-36aa-4e8d-8d12-64172d8dc446",
    "_uuid": "b15dba3906f67e764af0a627e46d7b7e486888c5"
   },
   "outputs": [],
   "source": [
    "# train_df = train_df.drop('char_length',axis=1)\n",
    "# train_df"
   ]
  },
  {
   "cell_type": "code",
   "execution_count": 23,
   "metadata": {
    "_cell_guid": "49547fd7-9633-4f6a-bd46-84d8966f1e8b",
    "_uuid": "061d59552c6ef83bea8ecf9ffbf203286aeab6f8"
   },
   "outputs": [],
   "source": [
    "X = train_df.Text\n",
    "test_X = test_df.Text"
   ]
  },
  {
   "cell_type": "code",
   "execution_count": 24,
   "metadata": {
    "_cell_guid": "083686b8-483a-4fbd-8584-cb9da8357c57",
    "_uuid": "6b1e91df6163a437c5f55e9c4de88dc11a89e5ba"
   },
   "outputs": [
    {
     "name": "stdout",
     "output_type": "stream",
     "text": [
      "(1436,) (620,)\n"
     ]
    }
   ],
   "source": [
    "print(X.shape, test_X.shape)"
   ]
  },
  {
   "cell_type": "markdown",
   "metadata": {
    "_cell_guid": "b2d898ae-79bc-48b8-8544-fb077f876c67",
    "_uuid": "cc4c2aeef221f5a97e1bd5ea1154052172175351"
   },
   "source": [
    "## Vectorize the data"
   ]
  },
  {
   "cell_type": "code",
   "execution_count": 25,
   "metadata": {
    "_cell_guid": "9be5a4f2-0e85-4f9a-ac00-b8e9916116cb",
    "_uuid": "7b7adf15d16408eb99689884906d0d687c2f8407"
   },
   "outputs": [
    {
     "data": {
      "text/plain": [
       "TfidfVectorizer(max_df=0.7, max_features=45000)"
      ]
     },
     "execution_count": 25,
     "metadata": {},
     "output_type": "execute_result"
    }
   ],
   "source": [
    "# import and instantiate TfidfVectorizer\n",
    "# other_stop_w = pd.read_csv('words_shared_by_all.csv')\n",
    "# stopw = [item for sublist in other_stop_w.values.tolist() for item in sublist]\n",
    "\n",
    "from sklearn.feature_extraction.text import CountVectorizer\n",
    "from sklearn.feature_extraction.text import TfidfVectorizer\n",
    "vect = TfidfVectorizer(max_features=45000,max_df = 0.7)\n",
    "vect"
   ]
  },
  {
   "cell_type": "code",
   "execution_count": 26,
   "metadata": {},
   "outputs": [],
   "source": [
    "# X_dtm.shape"
   ]
  },
  {
   "cell_type": "code",
   "execution_count": 27,
   "metadata": {
    "_cell_guid": "283c1d48-c267-431b-834e-37c8d9222b3c",
    "_uuid": "b755b1d4db58eeb5b0ab668d1aaf4a651d3de441"
   },
   "outputs": [],
   "source": [
    "# learn the vocabulary in the training data, then use it to create a document-term matrix\n",
    "X_dtm = vect.fit_transform(X)\n",
    "# examine the document-term matrix created from X_train\n",
    "# np.concatenate([X_dtm.toarray(),train_df['char_length'].values],axis = 0)\n",
    "# X_dtm.toarray().shape\n",
    "# train_df['char_length']\n",
    "train_df['sen_len'] = train_df['Text'].str.split().apply(len).values"
   ]
  },
  {
   "cell_type": "code",
   "execution_count": 29,
   "metadata": {},
   "outputs": [],
   "source": [
    "# train_df[['ARTS AND CRAFTS', 'CULTURE', 'ECONOMY',\n",
    "#        'EDUCATION', 'FARMING', 'FLOODING', 'HEALTH', 'LAW/ORDER',\n",
    "#        'LOCALCHIEFS', 'MUSIC', 'OPINION/ESSAY', 'POLITICS', 'RELATIONSHIPS',\n",
    "#        'RELIGION', 'SOCIAL', 'SOCIAL ISSUES', 'SPORTS', 'TRANSPORT',\n",
    "#        'WILDLIFE/ENVIRONMENT', 'WITCHCRAFT', 'char_length','sen_len']].corr()['sen_len']\n",
    "# train_df[['char_length','sen_len']].values.shape\n",
    "# from sklearn.preprocessing import StandardScaler\n",
    "# scale  = StandardScaler()\n",
    "train_df.drop(['sen_len'], axis = 1 , inplace = True)\n",
    "\n",
    "# scale.fit_transform(train_df[['char_length','sen_len']])"
   ]
  },
  {
   "cell_type": "code",
   "execution_count": 30,
   "metadata": {},
   "outputs": [],
   "source": [
    "# train_df[['char_length','sen_len']] = scale.fit_transform(train_df[['char_length','sen_len']])"
   ]
  },
  {
   "cell_type": "code",
   "execution_count": 112,
   "metadata": {},
   "outputs": [],
   "source": [
    "# train_df[['char_length','sen_len']]"
   ]
  },
  {
   "cell_type": "code",
   "execution_count": 31,
   "metadata": {},
   "outputs": [],
   "source": [
    "# X_dtm = np.concatenate([X_dtm.toarray(),train_df[['char_length','sen_len']].values],axis = 1)"
   ]
  },
  {
   "cell_type": "code",
   "execution_count": 32,
   "metadata": {
    "_cell_guid": "54050711-560a-47cf-b4f9-2fbaf59bc2e4",
    "_uuid": "408301ccb78e3f4056a6d2ebbd239594d1a59da0"
   },
   "outputs": [],
   "source": [
    "# transform the test data using the earlier fitted vocabulary, into a document-term matrix\n",
    "test_X_dtm = vect.transform(test_X)\n",
    "# examine the document-term matrix from X_test\n",
    "# test_X_dtm\n",
    "# test_df['sen_len'] = test_df['Text'].str.split().apply(len).values\n",
    "# test_df[['char_length','sen_len']] = scale.transform(test_df[['char_length','sen_len']])\n",
    "# test_X_dtm = np.concatenate([test_X_dtm.toarray(),test_df[['char_length','sen_len']].values],axis = 1)"
   ]
  },
  {
   "cell_type": "code",
   "execution_count": null,
   "metadata": {},
   "outputs": [],
   "source": []
  },
  {
   "cell_type": "code",
   "execution_count": 33,
   "metadata": {},
   "outputs": [],
   "source": [
    "# from sklearn.decomposition import TruncatedSVD\n",
    "# svd = TruncatedSVD(n_components=1395, random_state=42)\n",
    "# X_svd = svd.fit_transform(X_dtm)\n",
    "# print(f\"Total variance explained: {np.sum(svd.explained_variance_ratio_):.2f}\")"
   ]
  },
  {
   "cell_type": "code",
   "execution_count": 116,
   "metadata": {},
   "outputs": [],
   "source": [
    "from tensorflow import keras\n",
    "layers = keras.layers\n",
    "models = keras.models\n",
    "# Build the model\n",
    "from keras import backend as K \n",
    "\n",
    "# Do some code, e.g. train and save model\n",
    "\n",
    "K.clear_session()\n",
    "seed_value= 0\n",
    "\n",
    "# 1. Set the `PYTHONHASHSEED` environment variable at a fixed value\n",
    "import os\n",
    "os.environ['PYTHONHASHSEED']=str(seed_value)\n",
    "\n",
    "# 2. Set the `python` built-in pseudo-random generator at a fixed value\n",
    "import random\n",
    "random.seed(seed_value)\n",
    "\n",
    "# 3. Set the `numpy` pseudo-random generator at a fixed value\n",
    "import numpy as np\n",
    "np.random.seed(seed_value)\n",
    "\n",
    "# 4. Set the `tensorflow` pseudo-random generator at a fixed value\n",
    "import tensorflow as tf\n",
    "tf.random.set_seed(seed_value)\n",
    "\n",
    "model = models.Sequential()\n",
    "model.add(layers.Dense(1400, input_shape=(45002,)))\n",
    "# model.add(layers.BatchNormalization())\n",
    "model.add(layers.Activation('linear'))\n",
    "model.add(layers.Dropout(0.2))\n",
    "# model.add(layers.Dense(2048))\n",
    "# model.add(layers.BatchNormalization())\n",
    "# model.add(layers.Activation('relu'))\n",
    "# model.add(layers.Dense(512))\n",
    "# # model.add(layers.BatchNormalization())\n",
    "# model.add(layers.Activation('relu'))\n",
    "# model.add(layers.Dense(128))\n",
    "# # model.add(layers.BatchNormalization())\n",
    "# model.add(layers.Activation('relu'))\n",
    "\n",
    "# model.add(layers.Dropout(drop_ratio))\n",
    "model.add(layers.Dense(20))\n",
    "model.add(layers.Activation('softmax'))\n",
    "\n",
    "model.compile(loss='categorical_crossentropy',\n",
    "              optimizer='adam',\n",
    "              metrics=['accuracy'])"
   ]
  },
  {
   "cell_type": "code",
   "execution_count": 117,
   "metadata": {},
   "outputs": [],
   "source": [
    "X_train, X_test, y_train, y_test = train_test_split(X_dtm, train_df[cols_target], test_size=0.1, random_state = 0,stratify = train_df['Label'])"
   ]
  },
  {
   "cell_type": "code",
   "execution_count": 118,
   "metadata": {},
   "outputs": [
    {
     "data": {
      "text/plain": [
       "array([[ 0.        ,  0.        ,  0.        , ...,  0.        ,\n",
       "         0.47036962,  0.55458344],\n",
       "       [ 0.        ,  0.        ,  0.        , ...,  0.        ,\n",
       "        -1.18677041, -1.17373218],\n",
       "       [ 0.        ,  0.        ,  0.        , ...,  0.        ,\n",
       "        -0.77063867, -0.73390993],\n",
       "       ...,\n",
       "       [ 0.        ,  0.        ,  0.        , ...,  0.        ,\n",
       "        -0.67542904, -0.69674185],\n",
       "       [ 0.        ,  0.        ,  0.        , ...,  0.        ,\n",
       "         0.09938037,  0.04661971],\n",
       "       [ 0.        ,  0.        ,  0.        , ...,  0.        ,\n",
       "        -0.70169376, -0.72152057]])"
      ]
     },
     "execution_count": 118,
     "metadata": {},
     "output_type": "execute_result"
    }
   ],
   "source": [
    "X_train"
   ]
  },
  {
   "cell_type": "code",
   "execution_count": 121,
   "metadata": {},
   "outputs": [
    {
     "name": "stdout",
     "output_type": "stream",
     "text": [
      "Epoch 1/4\n",
      "19/19 [==============================] - 7s 358ms/step - loss: 0.0231 - accuracy: 0.9966 - val_loss: 1.1781 - val_accuracy: 0.6615\n",
      "Epoch 2/4\n",
      "19/19 [==============================] - 7s 360ms/step - loss: 0.0177 - accuracy: 0.9974 - val_loss: 1.1709 - val_accuracy: 0.6615\n",
      "Epoch 3/4\n",
      "19/19 [==============================] - 7s 361ms/step - loss: 0.0139 - accuracy: 0.9991 - val_loss: 1.1655 - val_accuracy: 0.6615\n",
      "Epoch 4/4\n",
      "19/19 [==============================] - 7s 357ms/step - loss: 0.0144 - accuracy: 0.9974 - val_loss: 1.1630 - val_accuracy: 0.6538\n"
     ]
    }
   ],
   "source": [
    "history = model.fit(X_train, y_train,\n",
    "                    batch_size=64,\n",
    "                    epochs=4,\n",
    "                    verbose=1,\n",
    "                   validation_split = 0.1)"
   ]
  },
  {
   "cell_type": "code",
   "execution_count": 128,
   "metadata": {},
   "outputs": [
    {
     "data": {
      "text/plain": [
       "True"
      ]
     },
     "execution_count": 128,
     "metadata": {},
     "output_type": "execute_result"
    }
   ],
   "source": [
    "# model.evaluate(X_test,y_test)\n",
    "# X_train\n",
    "(X_dtm[y_train.index.tolist()] == X_train)"
   ]
  },
  {
   "cell_type": "markdown",
   "metadata": {
    "_cell_guid": "c84eb9f4-4fa5-418c-883c-9d9316092db0",
    "_uuid": "98a540b42db71f1639d47f31d2a4ea851aa1b9e5"
   },
   "source": [
    "## Solving a multi-label classification problem\n",
    "One way to approach a multi-label classification problem is to transform the problem into separate single-class classifier problems. This is known as 'problem transformation'. There are three methods:\n",
    "* _**Binary Relevance.**_ This is probably the simplest which treats each label as a separate single classification problems. The key assumption here though, is that there are no correlation among the various labels.\n",
    "* _**Classifier Chains.**_ In this method, the first classifier is trained on the input X. Then the subsequent classifiers are trained on the input X and all previous classifiers' predictions in the chain. This method attempts to draw the signals from the correlation among preceding target variables.\n",
    "* _**Label Powerset.**_ This method transforms the problem into a multi-class problem  where the multi-class labels are essentially all the unique label combinations. In our case here, where there are six labels, Label Powerset would in effect turn this into a 2^6 or 64-class problem. {Thanks Joshua for pointing out.}"
   ]
  },
  {
   "cell_type": "markdown",
   "metadata": {
    "_cell_guid": "7abd771a-b0f3-47bc-b4ff-13a78aff48e7",
    "_uuid": "389245398dce9573dfa0f7c2facd2849d2174f1f"
   },
   "source": [
    "## Binary Relevance - build a multi-label classifier using Logistic Regression"
   ]
  },
  {
   "cell_type": "code",
   "execution_count": 59,
   "metadata": {
    "_cell_guid": "e30be87f-e0a6-4fd7-bff2-b3c37737cbfe",
    "_uuid": "e7e5707b19c35c8371a0cff7351bc8aadc33acd1"
   },
   "outputs": [],
   "source": [
    "# # import and instantiate the Logistic Regression model\n",
    "# from sklearn.linear_model import LogisticRegression\n",
    "# from sklearn.svm import SVC\n",
    "# from sklearn.metrics import accuracy_score\n",
    "# from sklearn.model_selection import train_test_split\n",
    "# X_train, X_test, y_train, y_test = train_test_split(X_dtm, train_df[cols_target], test_size=0.2, random_state = 0,stratify = train_df['Label'])\n",
    "\n",
    "# logreg = LogisticRegression(C=12.0,max_iter = 1000,random_state = 0, solver = 'liblinear',class_weight = 'balanced')\n",
    "# # logreg = SVC(C = 12.0,probability = True, random_state = 0)\n",
    "\n",
    "# # create submission file\n",
    "# submission_binary2 = train_df[['ID']+cols_target]\n",
    "# submission_binary = pd.read_csv('../data/SampleSubmission.csv')\n",
    "\n",
    "# for label in cols_target:\n",
    "#     print('... Processing {}'.format(label))\n",
    "#     y = y_train[label]\n",
    "#     # train the model using X_dtm & y\n",
    "#     logreg.fit(X_train, y)\n",
    "#     # compute the training accuracy\n",
    "#     y_pred_X = logreg.predict(X_test)\n",
    "#     print('Validation accuracy is {}'.format(accuracy_score(y_test[label], y_pred_X)))\n",
    "#     # compute the predicted probabilities for X_test_dtm\n",
    "#     test_y_prob = logreg.predict_proba(X_dtm)[:,1]\n",
    "#     submission_binary2[label] = test_y_prob\n",
    "#     test_y_prob = logreg.predict_proba(test_X_dtm)[:,1]\n",
    "#     submission_binary[label] = test_y_prob"
   ]
  },
  {
   "cell_type": "code",
   "execution_count": 36,
   "metadata": {},
   "outputs": [
    {
     "data": {
      "text/html": [
       "<div>\n",
       "<style scoped>\n",
       "    .dataframe tbody tr th:only-of-type {\n",
       "        vertical-align: middle;\n",
       "    }\n",
       "\n",
       "    .dataframe tbody tr th {\n",
       "        vertical-align: top;\n",
       "    }\n",
       "\n",
       "    .dataframe thead th {\n",
       "        text-align: right;\n",
       "    }\n",
       "</style>\n",
       "<table border=\"1\" class=\"dataframe\">\n",
       "  <thead>\n",
       "    <tr style=\"text-align: right;\">\n",
       "      <th></th>\n",
       "      <th>ID</th>\n",
       "      <th>POLITICS</th>\n",
       "      <th>HEALTH</th>\n",
       "      <th>LAW/ORDER</th>\n",
       "      <th>RELIGION</th>\n",
       "      <th>FARMING</th>\n",
       "      <th>WILDLIFE/ENVIRONMENT</th>\n",
       "      <th>SOCIAL ISSUES</th>\n",
       "      <th>SOCIAL</th>\n",
       "      <th>OPINION/ESSAY</th>\n",
       "      <th>...</th>\n",
       "      <th>WITCHCRAFT</th>\n",
       "      <th>ECONOMY</th>\n",
       "      <th>SPORTS</th>\n",
       "      <th>RELATIONSHIPS</th>\n",
       "      <th>TRANSPORT</th>\n",
       "      <th>CULTURE</th>\n",
       "      <th>EDUCATION</th>\n",
       "      <th>MUSIC</th>\n",
       "      <th>ARTS AND CRAFTS</th>\n",
       "      <th>FLOODING</th>\n",
       "    </tr>\n",
       "  </thead>\n",
       "  <tbody>\n",
       "    <tr>\n",
       "      <th>0</th>\n",
       "      <td>ID_AASHwXxg</td>\n",
       "      <td>0.846175</td>\n",
       "      <td>0.010979</td>\n",
       "      <td>0.030018</td>\n",
       "      <td>0.024206</td>\n",
       "      <td>0.015822</td>\n",
       "      <td>0.014157</td>\n",
       "      <td>0.103508</td>\n",
       "      <td>0.024171</td>\n",
       "      <td>0.030294</td>\n",
       "      <td>...</td>\n",
       "      <td>0.009009</td>\n",
       "      <td>0.073953</td>\n",
       "      <td>0.018831</td>\n",
       "      <td>0.060238</td>\n",
       "      <td>0.005739</td>\n",
       "      <td>0.012468</td>\n",
       "      <td>0.032560</td>\n",
       "      <td>0.063338</td>\n",
       "      <td>0.016151</td>\n",
       "      <td>0.004327</td>\n",
       "    </tr>\n",
       "    <tr>\n",
       "      <th>1</th>\n",
       "      <td>ID_AGoFySzn</td>\n",
       "      <td>0.979331</td>\n",
       "      <td>0.036366</td>\n",
       "      <td>0.035680</td>\n",
       "      <td>0.011837</td>\n",
       "      <td>0.013612</td>\n",
       "      <td>0.022062</td>\n",
       "      <td>0.020058</td>\n",
       "      <td>0.007657</td>\n",
       "      <td>0.004538</td>\n",
       "      <td>...</td>\n",
       "      <td>0.012973</td>\n",
       "      <td>0.043526</td>\n",
       "      <td>0.006606</td>\n",
       "      <td>0.003772</td>\n",
       "      <td>0.006068</td>\n",
       "      <td>0.011711</td>\n",
       "      <td>0.010472</td>\n",
       "      <td>0.004216</td>\n",
       "      <td>0.005209</td>\n",
       "      <td>0.004025</td>\n",
       "    </tr>\n",
       "    <tr>\n",
       "      <th>2</th>\n",
       "      <td>ID_AGrrkBGP</td>\n",
       "      <td>0.099776</td>\n",
       "      <td>0.541948</td>\n",
       "      <td>0.042501</td>\n",
       "      <td>0.030690</td>\n",
       "      <td>0.014449</td>\n",
       "      <td>0.013057</td>\n",
       "      <td>0.040091</td>\n",
       "      <td>0.281044</td>\n",
       "      <td>0.043600</td>\n",
       "      <td>...</td>\n",
       "      <td>0.008612</td>\n",
       "      <td>0.044567</td>\n",
       "      <td>0.008547</td>\n",
       "      <td>0.004782</td>\n",
       "      <td>0.008475</td>\n",
       "      <td>0.007690</td>\n",
       "      <td>0.014107</td>\n",
       "      <td>0.006767</td>\n",
       "      <td>0.009113</td>\n",
       "      <td>0.003449</td>\n",
       "    </tr>\n",
       "    <tr>\n",
       "      <th>3</th>\n",
       "      <td>ID_AIJeigeG</td>\n",
       "      <td>0.934124</td>\n",
       "      <td>0.014104</td>\n",
       "      <td>0.050031</td>\n",
       "      <td>0.024058</td>\n",
       "      <td>0.013603</td>\n",
       "      <td>0.007309</td>\n",
       "      <td>0.082190</td>\n",
       "      <td>0.007679</td>\n",
       "      <td>0.015571</td>\n",
       "      <td>...</td>\n",
       "      <td>0.020137</td>\n",
       "      <td>0.030053</td>\n",
       "      <td>0.010708</td>\n",
       "      <td>0.007322</td>\n",
       "      <td>0.006991</td>\n",
       "      <td>0.094442</td>\n",
       "      <td>0.014605</td>\n",
       "      <td>0.005479</td>\n",
       "      <td>0.004936</td>\n",
       "      <td>0.004956</td>\n",
       "    </tr>\n",
       "    <tr>\n",
       "      <th>4</th>\n",
       "      <td>ID_APMprMbV</td>\n",
       "      <td>0.053886</td>\n",
       "      <td>0.017019</td>\n",
       "      <td>0.936868</td>\n",
       "      <td>0.022953</td>\n",
       "      <td>0.025071</td>\n",
       "      <td>0.010720</td>\n",
       "      <td>0.052500</td>\n",
       "      <td>0.108499</td>\n",
       "      <td>0.056771</td>\n",
       "      <td>...</td>\n",
       "      <td>0.029175</td>\n",
       "      <td>0.021845</td>\n",
       "      <td>0.017558</td>\n",
       "      <td>0.009876</td>\n",
       "      <td>0.020617</td>\n",
       "      <td>0.031289</td>\n",
       "      <td>0.010193</td>\n",
       "      <td>0.010148</td>\n",
       "      <td>0.013576</td>\n",
       "      <td>0.004692</td>\n",
       "    </tr>\n",
       "    <tr>\n",
       "      <th>...</th>\n",
       "      <td>...</td>\n",
       "      <td>...</td>\n",
       "      <td>...</td>\n",
       "      <td>...</td>\n",
       "      <td>...</td>\n",
       "      <td>...</td>\n",
       "      <td>...</td>\n",
       "      <td>...</td>\n",
       "      <td>...</td>\n",
       "      <td>...</td>\n",
       "      <td>...</td>\n",
       "      <td>...</td>\n",
       "      <td>...</td>\n",
       "      <td>...</td>\n",
       "      <td>...</td>\n",
       "      <td>...</td>\n",
       "      <td>...</td>\n",
       "      <td>...</td>\n",
       "      <td>...</td>\n",
       "      <td>...</td>\n",
       "      <td>...</td>\n",
       "    </tr>\n",
       "    <tr>\n",
       "      <th>1431</th>\n",
       "      <td>ID_zmTmmEio</td>\n",
       "      <td>0.020104</td>\n",
       "      <td>0.030378</td>\n",
       "      <td>0.048757</td>\n",
       "      <td>0.031741</td>\n",
       "      <td>0.020078</td>\n",
       "      <td>0.264802</td>\n",
       "      <td>0.047061</td>\n",
       "      <td>0.093825</td>\n",
       "      <td>0.021892</td>\n",
       "      <td>...</td>\n",
       "      <td>0.006036</td>\n",
       "      <td>0.081793</td>\n",
       "      <td>0.009399</td>\n",
       "      <td>0.004947</td>\n",
       "      <td>0.992785</td>\n",
       "      <td>0.005812</td>\n",
       "      <td>0.018487</td>\n",
       "      <td>0.005334</td>\n",
       "      <td>0.006871</td>\n",
       "      <td>0.002097</td>\n",
       "    </tr>\n",
       "    <tr>\n",
       "      <th>1432</th>\n",
       "      <td>ID_znOlIaGQ</td>\n",
       "      <td>0.671227</td>\n",
       "      <td>0.036257</td>\n",
       "      <td>0.042815</td>\n",
       "      <td>0.035348</td>\n",
       "      <td>0.014531</td>\n",
       "      <td>0.014378</td>\n",
       "      <td>0.036230</td>\n",
       "      <td>0.025980</td>\n",
       "      <td>0.055162</td>\n",
       "      <td>...</td>\n",
       "      <td>0.012586</td>\n",
       "      <td>0.102271</td>\n",
       "      <td>0.011706</td>\n",
       "      <td>0.003894</td>\n",
       "      <td>0.008827</td>\n",
       "      <td>0.017278</td>\n",
       "      <td>0.010333</td>\n",
       "      <td>0.008019</td>\n",
       "      <td>0.007524</td>\n",
       "      <td>0.004741</td>\n",
       "    </tr>\n",
       "    <tr>\n",
       "      <th>1433</th>\n",
       "      <td>ID_znracTjN</td>\n",
       "      <td>0.123041</td>\n",
       "      <td>0.058167</td>\n",
       "      <td>0.091346</td>\n",
       "      <td>0.176290</td>\n",
       "      <td>0.013611</td>\n",
       "      <td>0.009730</td>\n",
       "      <td>0.165680</td>\n",
       "      <td>0.067423</td>\n",
       "      <td>0.023180</td>\n",
       "      <td>...</td>\n",
       "      <td>0.007045</td>\n",
       "      <td>0.017157</td>\n",
       "      <td>0.215624</td>\n",
       "      <td>0.004159</td>\n",
       "      <td>0.142433</td>\n",
       "      <td>0.007170</td>\n",
       "      <td>0.945114</td>\n",
       "      <td>0.011856</td>\n",
       "      <td>0.253486</td>\n",
       "      <td>0.003418</td>\n",
       "    </tr>\n",
       "    <tr>\n",
       "      <th>1434</th>\n",
       "      <td>ID_ztdsmmva</td>\n",
       "      <td>0.046542</td>\n",
       "      <td>0.017343</td>\n",
       "      <td>0.049037</td>\n",
       "      <td>0.025178</td>\n",
       "      <td>0.016378</td>\n",
       "      <td>0.007493</td>\n",
       "      <td>0.782909</td>\n",
       "      <td>0.025913</td>\n",
       "      <td>0.087650</td>\n",
       "      <td>...</td>\n",
       "      <td>0.024333</td>\n",
       "      <td>0.021173</td>\n",
       "      <td>0.032915</td>\n",
       "      <td>0.070421</td>\n",
       "      <td>0.005017</td>\n",
       "      <td>0.023565</td>\n",
       "      <td>0.025597</td>\n",
       "      <td>0.352236</td>\n",
       "      <td>0.020496</td>\n",
       "      <td>0.003142</td>\n",
       "    </tr>\n",
       "    <tr>\n",
       "      <th>1435</th>\n",
       "      <td>ID_zteydTpN</td>\n",
       "      <td>0.990883</td>\n",
       "      <td>0.013383</td>\n",
       "      <td>0.014588</td>\n",
       "      <td>0.007649</td>\n",
       "      <td>0.017478</td>\n",
       "      <td>0.007469</td>\n",
       "      <td>0.031295</td>\n",
       "      <td>0.005155</td>\n",
       "      <td>0.054424</td>\n",
       "      <td>...</td>\n",
       "      <td>0.013580</td>\n",
       "      <td>0.037780</td>\n",
       "      <td>0.005467</td>\n",
       "      <td>0.003403</td>\n",
       "      <td>0.007857</td>\n",
       "      <td>0.013026</td>\n",
       "      <td>0.012851</td>\n",
       "      <td>0.004055</td>\n",
       "      <td>0.004785</td>\n",
       "      <td>0.004599</td>\n",
       "    </tr>\n",
       "  </tbody>\n",
       "</table>\n",
       "<p>1436 rows × 21 columns</p>\n",
       "</div>"
      ],
      "text/plain": [
       "               ID  POLITICS    HEALTH  LAW/ORDER  RELIGION   FARMING  \\\n",
       "0     ID_AASHwXxg  0.846175  0.010979   0.030018  0.024206  0.015822   \n",
       "1     ID_AGoFySzn  0.979331  0.036366   0.035680  0.011837  0.013612   \n",
       "2     ID_AGrrkBGP  0.099776  0.541948   0.042501  0.030690  0.014449   \n",
       "3     ID_AIJeigeG  0.934124  0.014104   0.050031  0.024058  0.013603   \n",
       "4     ID_APMprMbV  0.053886  0.017019   0.936868  0.022953  0.025071   \n",
       "...           ...       ...       ...        ...       ...       ...   \n",
       "1431  ID_zmTmmEio  0.020104  0.030378   0.048757  0.031741  0.020078   \n",
       "1432  ID_znOlIaGQ  0.671227  0.036257   0.042815  0.035348  0.014531   \n",
       "1433  ID_znracTjN  0.123041  0.058167   0.091346  0.176290  0.013611   \n",
       "1434  ID_ztdsmmva  0.046542  0.017343   0.049037  0.025178  0.016378   \n",
       "1435  ID_zteydTpN  0.990883  0.013383   0.014588  0.007649  0.017478   \n",
       "\n",
       "      WILDLIFE/ENVIRONMENT  SOCIAL ISSUES    SOCIAL  OPINION/ESSAY  ...  \\\n",
       "0                 0.014157       0.103508  0.024171       0.030294  ...   \n",
       "1                 0.022062       0.020058  0.007657       0.004538  ...   \n",
       "2                 0.013057       0.040091  0.281044       0.043600  ...   \n",
       "3                 0.007309       0.082190  0.007679       0.015571  ...   \n",
       "4                 0.010720       0.052500  0.108499       0.056771  ...   \n",
       "...                    ...            ...       ...            ...  ...   \n",
       "1431              0.264802       0.047061  0.093825       0.021892  ...   \n",
       "1432              0.014378       0.036230  0.025980       0.055162  ...   \n",
       "1433              0.009730       0.165680  0.067423       0.023180  ...   \n",
       "1434              0.007493       0.782909  0.025913       0.087650  ...   \n",
       "1435              0.007469       0.031295  0.005155       0.054424  ...   \n",
       "\n",
       "      WITCHCRAFT   ECONOMY    SPORTS  RELATIONSHIPS  TRANSPORT   CULTURE  \\\n",
       "0       0.009009  0.073953  0.018831       0.060238   0.005739  0.012468   \n",
       "1       0.012973  0.043526  0.006606       0.003772   0.006068  0.011711   \n",
       "2       0.008612  0.044567  0.008547       0.004782   0.008475  0.007690   \n",
       "3       0.020137  0.030053  0.010708       0.007322   0.006991  0.094442   \n",
       "4       0.029175  0.021845  0.017558       0.009876   0.020617  0.031289   \n",
       "...          ...       ...       ...            ...        ...       ...   \n",
       "1431    0.006036  0.081793  0.009399       0.004947   0.992785  0.005812   \n",
       "1432    0.012586  0.102271  0.011706       0.003894   0.008827  0.017278   \n",
       "1433    0.007045  0.017157  0.215624       0.004159   0.142433  0.007170   \n",
       "1434    0.024333  0.021173  0.032915       0.070421   0.005017  0.023565   \n",
       "1435    0.013580  0.037780  0.005467       0.003403   0.007857  0.013026   \n",
       "\n",
       "      EDUCATION     MUSIC  ARTS AND CRAFTS  FLOODING  \n",
       "0      0.032560  0.063338         0.016151  0.004327  \n",
       "1      0.010472  0.004216         0.005209  0.004025  \n",
       "2      0.014107  0.006767         0.009113  0.003449  \n",
       "3      0.014605  0.005479         0.004936  0.004956  \n",
       "4      0.010193  0.010148         0.013576  0.004692  \n",
       "...         ...       ...              ...       ...  \n",
       "1431   0.018487  0.005334         0.006871  0.002097  \n",
       "1432   0.010333  0.008019         0.007524  0.004741  \n",
       "1433   0.945114  0.011856         0.253486  0.003418  \n",
       "1434   0.025597  0.352236         0.020496  0.003142  \n",
       "1435   0.012851  0.004055         0.004785  0.004599  \n",
       "\n",
       "[1436 rows x 21 columns]"
      ]
     },
     "execution_count": 36,
     "metadata": {},
     "output_type": "execute_result"
    }
   ],
   "source": [
    "submission_binary2\n",
    "# train_df.Label"
   ]
  },
  {
   "cell_type": "code",
   "execution_count": 33,
   "metadata": {},
   "outputs": [
    {
     "name": "stdout",
     "output_type": "stream",
     "text": [
      "... Processing POLITICS\n",
      "Validation accuracy is 0.9131944444444444\n"
     ]
    }
   ],
   "source": [
    "label = 'POLITICS'\n",
    "print('... Processing {}'.format(label))\n",
    "y = y_train[label]\n",
    "# train the model using X_dtm & y\n",
    "logreg.fit(X_train, y)\n",
    "# compute the training accuracy\n",
    "y_pred_X = logreg.predict(X_test)\n",
    "print('Validation accuracy is {}'.format(accuracy_score(y_test[label], y_pred_X)))"
   ]
  },
  {
   "cell_type": "code",
   "execution_count": 44,
   "metadata": {},
   "outputs": [
    {
     "ename": "AttributeError",
     "evalue": "'numpy.ndarray' object has no attribute 'index'",
     "output_type": "error",
     "traceback": [
      "\u001b[1;31m---------------------------------------------------------------------------\u001b[0m",
      "\u001b[1;31mAttributeError\u001b[0m                            Traceback (most recent call last)",
      "\u001b[1;32m<ipython-input-44-5163834c5b9a>\u001b[0m in \u001b[0;36m<module>\u001b[1;34m\u001b[0m\n\u001b[1;32m----> 1\u001b[1;33m \u001b[1;33m(\u001b[0m\u001b[0my_pred_X\u001b[0m\u001b[1;33m[\u001b[0m\u001b[1;33m(\u001b[0m\u001b[0my_test\u001b[0m\u001b[1;33m[\u001b[0m\u001b[0mlabel\u001b[0m\u001b[1;33m]\u001b[0m \u001b[1;33m==\u001b[0m \u001b[0my_pred_X\u001b[0m\u001b[1;33m)\u001b[0m\u001b[1;33m]\u001b[0m\u001b[1;33m)\u001b[0m\u001b[1;33m.\u001b[0m\u001b[0mindex\u001b[0m\u001b[1;33m\u001b[0m\u001b[1;33m\u001b[0m\u001b[0m\n\u001b[0m",
      "\u001b[1;31mAttributeError\u001b[0m: 'numpy.ndarray' object has no attribute 'index'"
     ]
    }
   ],
   "source": [
    "([(y_test[label] == y_pred_X)]).index"
   ]
  },
  {
   "cell_type": "code",
   "execution_count": 37,
   "metadata": {},
   "outputs": [
    {
     "data": {
      "text/html": [
       "<div>\n",
       "<style scoped>\n",
       "    .dataframe tbody tr th:only-of-type {\n",
       "        vertical-align: middle;\n",
       "    }\n",
       "\n",
       "    .dataframe tbody tr th {\n",
       "        vertical-align: top;\n",
       "    }\n",
       "\n",
       "    .dataframe thead th {\n",
       "        text-align: right;\n",
       "    }\n",
       "</style>\n",
       "<table border=\"1\" class=\"dataframe\">\n",
       "  <thead>\n",
       "    <tr style=\"text-align: right;\">\n",
       "      <th></th>\n",
       "      <th>ID</th>\n",
       "      <th>Label</th>\n",
       "    </tr>\n",
       "  </thead>\n",
       "  <tbody>\n",
       "    <tr>\n",
       "      <th>0</th>\n",
       "      <td>ID_ADHEtjTi</td>\n",
       "      <td>SOCIAL ISSUES</td>\n",
       "    </tr>\n",
       "    <tr>\n",
       "      <th>1</th>\n",
       "      <td>ID_AHfJktdQ</td>\n",
       "      <td>RELIGION</td>\n",
       "    </tr>\n",
       "    <tr>\n",
       "      <th>2</th>\n",
       "      <td>ID_AUJIHpZr</td>\n",
       "      <td>RELATIONSHIPS</td>\n",
       "    </tr>\n",
       "    <tr>\n",
       "      <th>3</th>\n",
       "      <td>ID_AUKYBbIM</td>\n",
       "      <td>SOCIAL ISSUES</td>\n",
       "    </tr>\n",
       "    <tr>\n",
       "      <th>4</th>\n",
       "      <td>ID_AZnsVPEi</td>\n",
       "      <td>HEALTH</td>\n",
       "    </tr>\n",
       "    <tr>\n",
       "      <th>...</th>\n",
       "      <td>...</td>\n",
       "      <td>...</td>\n",
       "    </tr>\n",
       "    <tr>\n",
       "      <th>615</th>\n",
       "      <td>ID_zdpOUWyJ</td>\n",
       "      <td>SOCIAL</td>\n",
       "    </tr>\n",
       "    <tr>\n",
       "      <th>616</th>\n",
       "      <td>ID_zhnOomuu</td>\n",
       "      <td>RELATIONSHIPS</td>\n",
       "    </tr>\n",
       "    <tr>\n",
       "      <th>617</th>\n",
       "      <td>ID_zmWHvBJb</td>\n",
       "      <td>LAW/ORDER</td>\n",
       "    </tr>\n",
       "    <tr>\n",
       "      <th>618</th>\n",
       "      <td>ID_zphjdFIb</td>\n",
       "      <td>SOCIAL ISSUES</td>\n",
       "    </tr>\n",
       "    <tr>\n",
       "      <th>619</th>\n",
       "      <td>ID_ztdtrNxt</td>\n",
       "      <td>POLITICS</td>\n",
       "    </tr>\n",
       "  </tbody>\n",
       "</table>\n",
       "<p>620 rows × 2 columns</p>\n",
       "</div>"
      ],
      "text/plain": [
       "              ID          Label\n",
       "0    ID_ADHEtjTi  SOCIAL ISSUES\n",
       "1    ID_AHfJktdQ       RELIGION\n",
       "2    ID_AUJIHpZr  RELATIONSHIPS\n",
       "3    ID_AUKYBbIM  SOCIAL ISSUES\n",
       "4    ID_AZnsVPEi         HEALTH\n",
       "..           ...            ...\n",
       "615  ID_zdpOUWyJ         SOCIAL\n",
       "616  ID_zhnOomuu  RELATIONSHIPS\n",
       "617  ID_zmWHvBJb      LAW/ORDER\n",
       "618  ID_zphjdFIb  SOCIAL ISSUES\n",
       "619  ID_ztdtrNxt       POLITICS\n",
       "\n",
       "[620 rows x 2 columns]"
      ]
     },
     "execution_count": 37,
     "metadata": {},
     "output_type": "execute_result"
    }
   ],
   "source": [
    "submission_binary = submission_binary[['ID']+list(lb.classes_)]\n",
    "submission_binary['Label'] = lb.inverse_transform(submission_binary[list(lb.classes_)].values)\n",
    "submission_b = submission_binary[['ID','Label']]\n",
    "submission_b\n",
    "# lb.classes_\n",
    "# submission_binary"
   ]
  },
  {
   "cell_type": "code",
   "execution_count": 58,
   "metadata": {},
   "outputs": [],
   "source": [
    "train_df['pred_label'] = submission_b['Label']"
   ]
  },
  {
   "cell_type": "code",
   "execution_count": 61,
   "metadata": {},
   "outputs": [
    {
     "data": {
      "text/plain": [
       "array(['POLITICS', 'LAW/ORDER', 'RELIGION', 'HEALTH', 'SOCIAL', 'ECONOMY',\n",
       "       'SOCIAL ISSUES', 'EDUCATION'], dtype=object)"
      ]
     },
     "execution_count": 61,
     "metadata": {},
     "output_type": "execute_result"
    }
   ],
   "source": [
    "train_df.groupby('Label').get_group(cols_target[0]).pred_label.unique()"
   ]
  },
  {
   "cell_type": "code",
   "execution_count": 62,
   "metadata": {},
   "outputs": [
    {
     "data": {
      "text/plain": [
       "array(['HEALTH', 'RELIGION', 'ECONOMY', 'LAW/ORDER', 'POLITICS'],\n",
       "      dtype=object)"
      ]
     },
     "execution_count": 62,
     "metadata": {},
     "output_type": "execute_result"
    }
   ],
   "source": [
    "train_df.groupby('Label').get_group(cols_target[1]).pred_label.unique()"
   ]
  },
  {
   "cell_type": "code",
   "execution_count": 89,
   "metadata": {},
   "outputs": [
    {
     "data": {
      "text/plain": [
       "WITCHCRAFT       13\n",
       "LAW/ORDER         2\n",
       "SOCIAL ISSUES     1\n",
       "Name: pred_label, dtype: int64"
      ]
     },
     "execution_count": 89,
     "metadata": {},
     "output_type": "execute_result"
    }
   ],
   "source": [
    "i = i +1\n",
    "train_df.groupby('Label').get_group(cols_target[i]).pred_label.value_counts()\n"
   ]
  },
  {
   "cell_type": "code",
   "execution_count": null,
   "metadata": {},
   "outputs": [],
   "source": []
  },
  {
   "cell_type": "code",
   "execution_count": 78,
   "metadata": {},
   "outputs": [],
   "source": [
    "# train_df.groupby('Label').get_group(cols_target[3]).pred_label.unique()\n",
    "i=-1"
   ]
  },
  {
   "cell_type": "code",
   "execution_count": 65,
   "metadata": {},
   "outputs": [
    {
     "data": {
      "text/plain": [
       "array(['FARMING', 'POLITICS'], dtype=object)"
      ]
     },
     "execution_count": 65,
     "metadata": {},
     "output_type": "execute_result"
    }
   ],
   "source": [
    "train_df.groupby('Label').get_group(cols_target[4]).pred_label.unique()"
   ]
  },
  {
   "cell_type": "code",
   "execution_count": 38,
   "metadata": {},
   "outputs": [
    {
     "data": {
      "text/plain": [
       "576"
      ]
     },
     "execution_count": 38,
     "metadata": {},
     "output_type": "execute_result"
    }
   ],
   "source": [
    "(pd.read_csv('submission_binary2.csv').Label == submission_b.Label).sum()\n",
    "# logreg.predict(X_test)\n",
    "# y_pred_X.shape\n",
    "# y_test.shape\n",
    "# cols_target.index(cols_target[0])\n",
    "# y_test\n",
    "# accuracy_score(lb.inverse_transform(submission_binary[cols_target].values), lb.inverse_transform(y_test.values))\n",
    "# (submission_binary[cols_target].values.max(axis =1)>0.7).sum()"
   ]
  },
  {
   "cell_type": "code",
   "execution_count": null,
   "metadata": {},
   "outputs": [],
   "source": []
  },
  {
   "cell_type": "code",
   "execution_count": 70,
   "metadata": {},
   "outputs": [
    {
     "data": {
      "text/plain": [
       "'ambuye ziyaye ayamikira aphunzitsi a tilitonse arkiepiskopi wa arkidayosizi ya lilongwe, ambuye tarcizio ziyaye wayamikira mgwirizano omwe ulipo pakati pa amphunzitsi a ana a tilitonse komanso atsogoleri osiyanasiyana a mu mpingo wakatolika. iwo amayakhula izi ku parish ya st. johns msamba pa mwambo wa chaka cha epiphania chomwe arkidayosiziyo imachita loweruka lililonse lotsatira lamulungu la epiphania pa dziko lonse. ambuye ziyaye: aphunzitsi akugwira ntchito yotamandika ambuye ziyaye alimbikitsa ana mdziko muno kuti azilimbikira maphunziro a ku sukulu komanso a tilitonse ndi cholinga choti adzitumikira bwino ngati ana komanso kukhala mzika zodalirika za dziko lino. episkopi ntchito yake ndi kuphunzitsa anthu zinthu za mu mpingo koma ine sindingakwanitse chifukwa sindimakhala ku parishi iliyonse. ntchito imeneyi amandithandiza ndi aphunzitsi amenewa ndipo ndikuti zikomo kwambiri mukugwira ntchito yotamandika, anatero ambuye ziyaye. pothilirapo ndemanga mkulu wa mu ofesi yoona za mabungwe a utumiki wa a papa la pontifical mission societies (pms) mu arkidayosizi ya lilongwe bambo francis lekaleka, anati ofesi yawo ipitiliza kulimbikitsa ana kuti adzilimbikira pa maphunziro awo kudzera munjira zosiyanasiyana zomwe yakonza.'"
      ]
     },
     "execution_count": 70,
     "metadata": {},
     "output_type": "execute_result"
    }
   ],
   "source": [
    "test_X[1]"
   ]
  },
  {
   "cell_type": "code",
   "execution_count": 31,
   "metadata": {},
   "outputs": [
    {
     "data": {
      "text/plain": [
       "(1436, 23)"
      ]
     },
     "execution_count": 31,
     "metadata": {},
     "output_type": "execute_result"
    }
   ],
   "source": [
    "train_df.shape"
   ]
  },
  {
   "cell_type": "markdown",
   "metadata": {
    "_cell_guid": "5d0970eb-bc44-4fad-91b7-e2a23c2f986d",
    "_uuid": "ee6d942b861235107e0d94174a8d21c2bad0e9ea"
   },
   "source": [
    "### Create submission file"
   ]
  },
  {
   "cell_type": "code",
   "execution_count": null,
   "metadata": {
    "_cell_guid": "a2816552-c314-4584-ad49-8464e80b1b29",
    "_uuid": "b89e22016a7b4f282940dc23253cbf343c1fbf83"
   },
   "outputs": [],
   "source": [
    "submission_binary.head()"
   ]
  },
  {
   "cell_type": "code",
   "execution_count": 39,
   "metadata": {
    "_cell_guid": "fb1bef7d-586e-437d-a1d3-b0868e7ac321",
    "_uuid": "75d9571cc77eb1805d897af6ca0d86fd28405c6d"
   },
   "outputs": [],
   "source": [
    "# generate submission file\n",
    "submission_b.to_csv('submission_binary13.csv',index=False)"
   ]
  },
  {
   "cell_type": "markdown",
   "metadata": {
    "_cell_guid": "be8c8e90-f798-46d8-b77c-cd0668292646",
    "_uuid": "18644d484121f3bab7a06207bd7fa739b15feff5"
   },
   "source": [
    "#### Binary Relevance with Logistic Regression classifier scored 0.074 on the public leaderboard."
   ]
  },
  {
   "cell_type": "markdown",
   "metadata": {
    "_cell_guid": "5018c7ea-dd27-4d4c-b9ad-ef2140c773e5",
    "_uuid": "0393cd387f508609c0d068c68fb7dbb0be659383"
   },
   "source": [
    "## Classifier Chains - build a multi-label classifier using Logistic Regression"
   ]
  },
  {
   "cell_type": "code",
   "execution_count": null,
   "metadata": {
    "_cell_guid": "b2172222-42b8-4f0a-8d20-160d52af6f62",
    "_uuid": "f1b4fea94c83661d7bbad5c6bc7a5994643128e2"
   },
   "outputs": [],
   "source": [
    "# create submission file\n",
    "submission_chains = pd.read_csv('../data/SampleSubmission.csv')\n",
    "\n",
    "# create a function to add features\n",
    "def add_feature(X, feature_to_add):\n",
    "    '''\n",
    "    Returns sparse feature matrix with added feature.\n",
    "    feature_to_add can also be a list of features.\n",
    "    '''\n",
    "    from scipy.sparse import csr_matrix, hstack\n",
    "    return hstack([X, csr_matrix(feature_to_add).T], 'csr')"
   ]
  },
  {
   "cell_type": "code",
   "execution_count": null,
   "metadata": {},
   "outputs": [],
   "source": [
    "y.shape"
   ]
  },
  {
   "cell_type": "code",
   "execution_count": null,
   "metadata": {
    "_cell_guid": "20c3ff4a-8925-4c78-a8f1-74f080f0b890",
    "_uuid": "3cdc6de563643c7a86f0c54ecff2f720695fe81d"
   },
   "outputs": [],
   "source": [
    "for label in cols_target:\n",
    "    print('... Processing {}'.format(label))\n",
    "    \n",
    "    \n",
    "    \n",
    "#     print('... Processing {}'.format(label))\n",
    "#     y = y_train[label]\n",
    "#     # train the model using X_dtm & y\n",
    "#     logreg.fit(X_train, y)\n",
    "#     # compute the training accuracy\n",
    "#     y_pred_X = logreg.predict(X_test)\n",
    "#     print('Validation accuracy is {}'.format(accuracy_score(y_test[label], y_pred_X)))\n",
    "#     # compute the predicted probabilities for X_test_dtm\n",
    "#     test_y_prob = logreg.predict_proba(test_X_dtm)[:,1]\n",
    "#     submission_binary[label] = test_y_prob\n",
    "    \n",
    "    \n",
    "    y = y_train[label]\n",
    "    # train the model using X_dtm & y\n",
    "    logreg.fit(X_train,y)\n",
    "    # compute the training accuracy\n",
    "    y_pred_X = logreg.predict(X_test)\n",
    "    print('Validation Accuracy is {}'.format(accuracy_score(y_test[label],y_pred_X)))\n",
    "    # make predictions from test_X\n",
    "    test_y = logreg.predict(test_X_dtm)\n",
    "    test_y_prob = logreg.predict_proba(test_X_dtm)[:,1]\n",
    "    submission_chains[label] = test_y_prob\n",
    "    # chain current label to X_dtm\n",
    "    X_dtm = add_feature(X_train, y)\n",
    "    print('Shape of X_dtm is now {}'.format(X_dtm.shape))\n",
    "    # chain current label predictions to test_X_dtm\n",
    "    test_X_dtm = add_feature(test_X_dtm, test_y)\n",
    "    print('Shape of test_X_dtm is now {}'.format(test_X_dtm.shape))"
   ]
  },
  {
   "cell_type": "markdown",
   "metadata": {
    "_cell_guid": "d917c9c5-5140-4b08-86b3-64e0b566bc1b",
    "_uuid": "a0be9c78f3facd8215c0d83c446dcef61af3fc43"
   },
   "source": [
    "### Create submission file"
   ]
  },
  {
   "cell_type": "code",
   "execution_count": null,
   "metadata": {
    "_cell_guid": "4b7db16c-ca27-4fa8-933c-369711f60ea3",
    "_uuid": "f1d85021f64b145d28a55f65e0d3e806a6c91625"
   },
   "outputs": [],
   "source": [
    "# # submission_chains.head()\n",
    "# # add_feature(X_dtm, y)\n",
    "# from scipy.sparse import csr_matrix, hstack\n",
    "# hstack([X, csr_matrix(feature_to_add).T], 'csr')"
   ]
  },
  {
   "cell_type": "code",
   "execution_count": null,
   "metadata": {
    "_cell_guid": "3e1dfebe-ecb4-4a0e-958c-56a2d27e6a7d",
    "_uuid": "da35f9fd53f310366d0b760eb7573ae1b4e122c4"
   },
   "outputs": [],
   "source": [
    "# generate submission file\n",
    "submission_chains.to_csv('submission_chains.csv', index=False)"
   ]
  },
  {
   "cell_type": "markdown",
   "metadata": {
    "_cell_guid": "6f76bfb5-0ad1-42f3-8481-1dc6226a13b9",
    "_uuid": "ecdadaa139a91703da20aab1f5ee77b25023bab4"
   },
   "source": [
    "## Create a combined submission"
   ]
  },
  {
   "cell_type": "code",
   "execution_count": null,
   "metadata": {
    "_cell_guid": "1a5fd709-81a7-4373-ad8a-45b61d4c1167",
    "_uuid": "b056f497fdcc13a46d5c83d988081dc2e5e99f1d"
   },
   "outputs": [],
   "source": [
    "# create submission file\n",
    "submission_combined = pd.read_csv('../input/sample_submission.csv')"
   ]
  },
  {
   "cell_type": "markdown",
   "metadata": {
    "_cell_guid": "62d78056-24e4-409c-a5dd-221b1c9f3b2b",
    "_uuid": "0bb5e1b109a8b043801e5b6360fb858e233a9f2c"
   },
   "source": [
    "Combine using simple average from Binary Relevance and Classifier Chains."
   ]
  },
  {
   "cell_type": "code",
   "execution_count": null,
   "metadata": {
    "_cell_guid": "650d5945-f32f-49a9-b5ac-e932cf64e0dd",
    "_uuid": "81258bf73f51973d923f2695d81cb8523d21b4a0"
   },
   "outputs": [],
   "source": [
    "# corr_targets = ['obscene','insult','toxic']\n",
    "for label in cols_target:\n",
    "    submission_combined[label] = 0.5*(submission_chains[label]+submission_binary[label])"
   ]
  },
  {
   "cell_type": "code",
   "execution_count": null,
   "metadata": {
    "_cell_guid": "3b7c66fd-d82e-46f1-bb41-004ed63c2569",
    "_uuid": "1aeb3dbed4d2af2e1125edc00d5d699e71745cf4"
   },
   "outputs": [],
   "source": [
    "submission_combined.head()"
   ]
  },
  {
   "cell_type": "code",
   "execution_count": null,
   "metadata": {
    "_cell_guid": "3af7d1e1-1d08-43b8-bdb1-0740dd4bdbbd",
    "_uuid": "eded1209e8bb777308d209c161d18c62c8a0c1ef"
   },
   "outputs": [],
   "source": [
    "# generate submission file\n",
    "submission_combined.to_csv('submission_combined.csv', index=False)"
   ]
  },
  {
   "cell_type": "markdown",
   "metadata": {
    "_cell_guid": "7a012382-ad72-4c76-b53c-1f756544e23e",
    "_uuid": "cbbce014f73f54e9bf3e88e096ad66b89b88fcf4"
   },
   "source": [
    "### Thanks for reading my kernel.\n",
    "### Tips and comments are most welcomed & appreciated.\n",
    "### Please upvote if you find it useful."
   ]
  },
  {
   "cell_type": "code",
   "execution_count": 74,
   "metadata": {
    "_cell_guid": "2b370cff-d22e-4393-94d5-98b4883a32d8",
    "_uuid": "21a21a9ff3c174753c8d48495e058a1782bf7a76"
   },
   "outputs": [
    {
     "name": "stdout",
     "output_type": "stream",
     "text": [
      "Training until validation scores don't improve for 20 rounds\n",
      "[100]\ttraining's multi_logloss: 2.3774\tvalid_1's multi_logloss: 2.42839\n",
      "[200]\ttraining's multi_logloss: 2.19889\tvalid_1's multi_logloss: 2.31716\n",
      "[300]\ttraining's multi_logloss: 2.0455\tvalid_1's multi_logloss: 2.22655\n",
      "[400]\ttraining's multi_logloss: 1.91076\tvalid_1's multi_logloss: 2.15344\n",
      "[500]\ttraining's multi_logloss: 1.79189\tvalid_1's multi_logloss: 2.09068\n",
      "[600]\ttraining's multi_logloss: 1.68425\tvalid_1's multi_logloss: 2.03543\n",
      "[700]\ttraining's multi_logloss: 1.5876\tvalid_1's multi_logloss: 1.98829\n",
      "[800]\ttraining's multi_logloss: 1.49983\tvalid_1's multi_logloss: 1.94916\n",
      "[900]\ttraining's multi_logloss: 1.41979\tvalid_1's multi_logloss: 1.91535\n",
      "[1000]\ttraining's multi_logloss: 1.34701\tvalid_1's multi_logloss: 1.8874\n",
      "[1100]\ttraining's multi_logloss: 1.27951\tvalid_1's multi_logloss: 1.86272\n",
      "[1200]\ttraining's multi_logloss: 1.217\tvalid_1's multi_logloss: 1.84052\n",
      "[1300]\ttraining's multi_logloss: 1.15907\tvalid_1's multi_logloss: 1.82154\n",
      "[1400]\ttraining's multi_logloss: 1.1058\tvalid_1's multi_logloss: 1.80554\n",
      "[1500]\ttraining's multi_logloss: 1.05589\tvalid_1's multi_logloss: 1.79157\n",
      "[1600]\ttraining's multi_logloss: 1.00914\tvalid_1's multi_logloss: 1.77993\n",
      "[1700]\ttraining's multi_logloss: 0.965409\tvalid_1's multi_logloss: 1.7695\n",
      "[1800]\ttraining's multi_logloss: 0.924374\tvalid_1's multi_logloss: 1.76148\n",
      "[1900]\ttraining's multi_logloss: 0.885885\tvalid_1's multi_logloss: 1.75421\n",
      "[2000]\ttraining's multi_logloss: 0.849665\tvalid_1's multi_logloss: 1.74843\n",
      "[2100]\ttraining's multi_logloss: 0.815652\tvalid_1's multi_logloss: 1.74309\n",
      "[2200]\ttraining's multi_logloss: 0.783451\tvalid_1's multi_logloss: 1.7396\n",
      "[2300]\ttraining's multi_logloss: 0.752799\tvalid_1's multi_logloss: 1.73615\n",
      "[2400]\ttraining's multi_logloss: 0.724009\tvalid_1's multi_logloss: 1.73412\n",
      "[2500]\ttraining's multi_logloss: 0.696675\tvalid_1's multi_logloss: 1.73194\n",
      "[2600]\ttraining's multi_logloss: 0.670632\tvalid_1's multi_logloss: 1.73085\n",
      "Early stopping, best iteration is:\n",
      "[2605]\ttraining's multi_logloss: 0.669376\tvalid_1's multi_logloss: 1.7308\n",
      "Training until validation scores don't improve for 20 rounds\n",
      "[100]\ttraining's multi_logloss: 2.37593\tvalid_1's multi_logloss: 2.45689\n",
      "[200]\ttraining's multi_logloss: 2.19737\tvalid_1's multi_logloss: 2.35564\n",
      "[300]\ttraining's multi_logloss: 2.04221\tvalid_1's multi_logloss: 2.27095\n",
      "[400]\ttraining's multi_logloss: 1.90821\tvalid_1's multi_logloss: 2.20074\n",
      "[500]\ttraining's multi_logloss: 1.78795\tvalid_1's multi_logloss: 2.14041\n",
      "[600]\ttraining's multi_logloss: 1.68065\tvalid_1's multi_logloss: 2.08968\n",
      "[700]\ttraining's multi_logloss: 1.58437\tvalid_1's multi_logloss: 2.04766\n",
      "[800]\ttraining's multi_logloss: 1.49713\tvalid_1's multi_logloss: 2.01158\n",
      "[900]\ttraining's multi_logloss: 1.41736\tvalid_1's multi_logloss: 1.97971\n",
      "[1000]\ttraining's multi_logloss: 1.34437\tvalid_1's multi_logloss: 1.95216\n",
      "[1100]\ttraining's multi_logloss: 1.27742\tvalid_1's multi_logloss: 1.92877\n",
      "[1200]\ttraining's multi_logloss: 1.21554\tvalid_1's multi_logloss: 1.90958\n",
      "[1300]\ttraining's multi_logloss: 1.15781\tvalid_1's multi_logloss: 1.89207\n",
      "[1400]\ttraining's multi_logloss: 1.10416\tvalid_1's multi_logloss: 1.876\n",
      "[1500]\ttraining's multi_logloss: 1.05456\tvalid_1's multi_logloss: 1.86323\n",
      "[1600]\ttraining's multi_logloss: 1.00831\tvalid_1's multi_logloss: 1.8523\n",
      "[1700]\ttraining's multi_logloss: 0.964768\tvalid_1's multi_logloss: 1.84269\n",
      "[1800]\ttraining's multi_logloss: 0.924131\tvalid_1's multi_logloss: 1.83374\n",
      "[1900]\ttraining's multi_logloss: 0.885963\tvalid_1's multi_logloss: 1.82731\n",
      "[2000]\ttraining's multi_logloss: 0.849956\tvalid_1's multi_logloss: 1.82152\n",
      "[2100]\ttraining's multi_logloss: 0.816238\tvalid_1's multi_logloss: 1.81784\n",
      "[2200]\ttraining's multi_logloss: 0.784275\tvalid_1's multi_logloss: 1.81398\n",
      "[2300]\ttraining's multi_logloss: 0.75379\tvalid_1's multi_logloss: 1.81039\n",
      "[2400]\ttraining's multi_logloss: 0.725159\tvalid_1's multi_logloss: 1.80834\n",
      "[2500]\ttraining's multi_logloss: 0.698111\tvalid_1's multi_logloss: 1.80663\n",
      "[2600]\ttraining's multi_logloss: 0.672379\tvalid_1's multi_logloss: 1.80539\n",
      "[2700]\ttraining's multi_logloss: 0.647915\tvalid_1's multi_logloss: 1.80451\n",
      "Early stopping, best iteration is:\n",
      "[2685]\ttraining's multi_logloss: 0.651439\tvalid_1's multi_logloss: 1.80435\n",
      "Training until validation scores don't improve for 20 rounds\n",
      "[100]\ttraining's multi_logloss: 2.36955\tvalid_1's multi_logloss: 2.47134\n",
      "[200]\ttraining's multi_logloss: 2.19598\tvalid_1's multi_logloss: 2.35897\n",
      "[300]\ttraining's multi_logloss: 2.04592\tvalid_1's multi_logloss: 2.26848\n",
      "[400]\ttraining's multi_logloss: 1.91261\tvalid_1's multi_logloss: 2.19008\n",
      "[500]\ttraining's multi_logloss: 1.79442\tvalid_1's multi_logloss: 2.12361\n",
      "[600]\ttraining's multi_logloss: 1.68788\tvalid_1's multi_logloss: 2.06666\n",
      "[700]\ttraining's multi_logloss: 1.59261\tvalid_1's multi_logloss: 2.01951\n",
      "[800]\ttraining's multi_logloss: 1.50525\tvalid_1's multi_logloss: 1.97759\n",
      "[900]\ttraining's multi_logloss: 1.42603\tvalid_1's multi_logloss: 1.9426\n",
      "[1000]\ttraining's multi_logloss: 1.353\tvalid_1's multi_logloss: 1.91161\n",
      "[1100]\ttraining's multi_logloss: 1.28581\tvalid_1's multi_logloss: 1.88575\n",
      "[1200]\ttraining's multi_logloss: 1.22369\tvalid_1's multi_logloss: 1.86123\n",
      "[1300]\ttraining's multi_logloss: 1.16581\tvalid_1's multi_logloss: 1.83955\n",
      "[1400]\ttraining's multi_logloss: 1.11186\tvalid_1's multi_logloss: 1.82113\n",
      "[1500]\ttraining's multi_logloss: 1.06159\tvalid_1's multi_logloss: 1.80517\n",
      "[1600]\ttraining's multi_logloss: 1.01449\tvalid_1's multi_logloss: 1.79109\n",
      "[1700]\ttraining's multi_logloss: 0.97065\tvalid_1's multi_logloss: 1.77954\n",
      "[1800]\ttraining's multi_logloss: 0.929674\tvalid_1's multi_logloss: 1.76917\n",
      "[1900]\ttraining's multi_logloss: 0.89083\tvalid_1's multi_logloss: 1.7603\n",
      "[2000]\ttraining's multi_logloss: 0.854274\tvalid_1's multi_logloss: 1.75333\n",
      "[2100]\ttraining's multi_logloss: 0.820039\tvalid_1's multi_logloss: 1.7465\n",
      "[2200]\ttraining's multi_logloss: 0.78741\tvalid_1's multi_logloss: 1.7404\n",
      "[2300]\ttraining's multi_logloss: 0.756709\tvalid_1's multi_logloss: 1.73557\n",
      "[2400]\ttraining's multi_logloss: 0.727628\tvalid_1's multi_logloss: 1.73123\n",
      "[2500]\ttraining's multi_logloss: 0.700096\tvalid_1's multi_logloss: 1.72766\n",
      "[2600]\ttraining's multi_logloss: 0.674148\tvalid_1's multi_logloss: 1.72584\n",
      "[2700]\ttraining's multi_logloss: 0.649475\tvalid_1's multi_logloss: 1.72381\n",
      "[2800]\ttraining's multi_logloss: 0.626086\tvalid_1's multi_logloss: 1.72203\n",
      "Early stopping, best iteration is:\n",
      "[2866]\ttraining's multi_logloss: 0.611042\tvalid_1's multi_logloss: 1.72158\n",
      "Training until validation scores don't improve for 20 rounds\n",
      "[100]\ttraining's multi_logloss: 2.3596\tvalid_1's multi_logloss: 2.53268\n",
      "[200]\ttraining's multi_logloss: 2.1843\tvalid_1's multi_logloss: 2.42161\n",
      "[300]\ttraining's multi_logloss: 2.03498\tvalid_1's multi_logloss: 2.33045\n",
      "[400]\ttraining's multi_logloss: 1.90362\tvalid_1's multi_logloss: 2.25345\n",
      "[500]\ttraining's multi_logloss: 1.78747\tvalid_1's multi_logloss: 2.18949\n",
      "[600]\ttraining's multi_logloss: 1.68336\tvalid_1's multi_logloss: 2.13354\n",
      "[700]\ttraining's multi_logloss: 1.58919\tvalid_1's multi_logloss: 2.08548\n",
      "[800]\ttraining's multi_logloss: 1.5031\tvalid_1's multi_logloss: 2.04351\n",
      "[900]\ttraining's multi_logloss: 1.42451\tvalid_1's multi_logloss: 2.00648\n",
      "[1000]\ttraining's multi_logloss: 1.35259\tvalid_1's multi_logloss: 1.97468\n",
      "[1100]\ttraining's multi_logloss: 1.28641\tvalid_1's multi_logloss: 1.94796\n",
      "[1200]\ttraining's multi_logloss: 1.22422\tvalid_1's multi_logloss: 1.92294\n",
      "[1300]\ttraining's multi_logloss: 1.16729\tvalid_1's multi_logloss: 1.90127\n",
      "[1400]\ttraining's multi_logloss: 1.11423\tvalid_1's multi_logloss: 1.88212\n",
      "[1500]\ttraining's multi_logloss: 1.06431\tvalid_1's multi_logloss: 1.86516\n",
      "[1600]\ttraining's multi_logloss: 1.01844\tvalid_1's multi_logloss: 1.85053\n",
      "[1700]\ttraining's multi_logloss: 0.974834\tvalid_1's multi_logloss: 1.83799\n",
      "[1800]\ttraining's multi_logloss: 0.933932\tvalid_1's multi_logloss: 1.8264\n",
      "[1900]\ttraining's multi_logloss: 0.895363\tvalid_1's multi_logloss: 1.8158\n",
      "[2000]\ttraining's multi_logloss: 0.859509\tvalid_1's multi_logloss: 1.80716\n",
      "[2100]\ttraining's multi_logloss: 0.825335\tvalid_1's multi_logloss: 1.79923\n",
      "[2200]\ttraining's multi_logloss: 0.793194\tvalid_1's multi_logloss: 1.79201\n",
      "[2300]\ttraining's multi_logloss: 0.762743\tvalid_1's multi_logloss: 1.78604\n"
     ]
    },
    {
     "name": "stdout",
     "output_type": "stream",
     "text": [
      "[2400]\ttraining's multi_logloss: 0.73392\tvalid_1's multi_logloss: 1.78133\n",
      "[2500]\ttraining's multi_logloss: 0.706358\tvalid_1's multi_logloss: 1.77695\n",
      "[2600]\ttraining's multi_logloss: 0.680124\tvalid_1's multi_logloss: 1.77346\n",
      "[2700]\ttraining's multi_logloss: 0.655381\tvalid_1's multi_logloss: 1.77093\n",
      "Early stopping, best iteration is:\n",
      "[2710]\ttraining's multi_logloss: 0.653034\tvalid_1's multi_logloss: 1.77077\n",
      "Training until validation scores don't improve for 20 rounds\n",
      "[100]\ttraining's multi_logloss: 2.37665\tvalid_1's multi_logloss: 2.43921\n",
      "[200]\ttraining's multi_logloss: 2.19928\tvalid_1's multi_logloss: 2.32411\n",
      "[300]\ttraining's multi_logloss: 2.04806\tvalid_1's multi_logloss: 2.23466\n",
      "[400]\ttraining's multi_logloss: 1.91345\tvalid_1's multi_logloss: 2.15669\n",
      "[500]\ttraining's multi_logloss: 1.79468\tvalid_1's multi_logloss: 2.0931\n",
      "[600]\ttraining's multi_logloss: 1.6886\tvalid_1's multi_logloss: 2.03813\n",
      "[700]\ttraining's multi_logloss: 1.59264\tvalid_1's multi_logloss: 1.99106\n",
      "[800]\ttraining's multi_logloss: 1.50523\tvalid_1's multi_logloss: 1.9503\n",
      "[900]\ttraining's multi_logloss: 1.42565\tvalid_1's multi_logloss: 1.91562\n",
      "[1000]\ttraining's multi_logloss: 1.35296\tvalid_1's multi_logloss: 1.88526\n",
      "[1100]\ttraining's multi_logloss: 1.28617\tvalid_1's multi_logloss: 1.8592\n",
      "[1200]\ttraining's multi_logloss: 1.22422\tvalid_1's multi_logloss: 1.83597\n",
      "[1300]\ttraining's multi_logloss: 1.16681\tvalid_1's multi_logloss: 1.81563\n",
      "[1400]\ttraining's multi_logloss: 1.11308\tvalid_1's multi_logloss: 1.79725\n",
      "[1500]\ttraining's multi_logloss: 1.06312\tvalid_1's multi_logloss: 1.78193\n",
      "[1600]\ttraining's multi_logloss: 1.01668\tvalid_1's multi_logloss: 1.76817\n",
      "[1700]\ttraining's multi_logloss: 0.972792\tvalid_1's multi_logloss: 1.75573\n",
      "[1800]\ttraining's multi_logloss: 0.931824\tvalid_1's multi_logloss: 1.74612\n",
      "[1900]\ttraining's multi_logloss: 0.893034\tvalid_1's multi_logloss: 1.73706\n",
      "[2000]\ttraining's multi_logloss: 0.856583\tvalid_1's multi_logloss: 1.72964\n",
      "[2100]\ttraining's multi_logloss: 0.822678\tvalid_1's multi_logloss: 1.72292\n",
      "[2200]\ttraining's multi_logloss: 0.790502\tvalid_1's multi_logloss: 1.71668\n",
      "[2300]\ttraining's multi_logloss: 0.76014\tvalid_1's multi_logloss: 1.7121\n",
      "[2400]\ttraining's multi_logloss: 0.731045\tvalid_1's multi_logloss: 1.70739\n",
      "[2500]\ttraining's multi_logloss: 0.703772\tvalid_1's multi_logloss: 1.70395\n",
      "[2600]\ttraining's multi_logloss: 0.678042\tvalid_1's multi_logloss: 1.70103\n",
      "[2700]\ttraining's multi_logloss: 0.653235\tvalid_1's multi_logloss: 1.69907\n",
      "Early stopping, best iteration is:\n",
      "[2716]\ttraining's multi_logloss: 0.64936\tvalid_1's multi_logloss: 1.69863\n",
      "Full validation score/error 0.5822/0.4178\n"
     ]
    }
   ],
   "source": [
    "# with open(\"..\\Vectors\\wiki.ny.bin\", \"r\",encoding = 'latin') as file:\n",
    "#     first_line = file.readline(3)\n",
    "# LGBM\n",
    "\n",
    "import lightgbm as lgb\n",
    "\n",
    "\n",
    "params = {\n",
    "    'max_depth': 40,\n",
    "    'task': 'train',\n",
    "    'boosting_type': 'gbdt',\n",
    "    'objective': 'multiclassova',\n",
    "    'num_class': 20,\n",
    "    'metric': 'multi_logloss',\n",
    "    'num_leaves': 20,\n",
    "    'learning_rate': 0.001,\n",
    "    'feature_fraction': 0.2,\n",
    "    'bagging_fraction': 0.8,\n",
    "    'bagging_freq': 2,\n",
    "    'lambda_l1': 0,\n",
    "    'lambda_l2': 1,\n",
    "    'verbose': -1\n",
    "}\n",
    "\n",
    "len_train = X_dtm.shape[0]\n",
    "num_folds = 5\n",
    "test_x = test_X_dtm.copy()\n",
    "from sklearn.preprocessing import LabelEncoder\n",
    "from sklearn.model_selection import KFold\n",
    "\n",
    "le = LabelEncoder()\n",
    "\n",
    "target2 = le.fit_transform(train_df['Label']) \n",
    "oof_preds = np.zeros([len_train])\n",
    "sub_preds = np.zeros([test_x.shape[0],20])\n",
    "folds = KFold(n_splits=num_folds, shuffle=True, random_state=4564)\n",
    "for n_fold, (train_idx, valid_idx) in enumerate(folds.split(X_dtm)):\n",
    "    lgb_train = lgb.Dataset(X_dtm[train_idx], target2[train_idx])\n",
    "    lgb_valid = lgb.Dataset(X_dtm[valid_idx], target2[valid_idx])\n",
    "        \n",
    "    # train\n",
    "    gbm = lgb.train(params, lgb_train, 10000, valid_sets=[lgb_train, lgb_valid], early_stopping_rounds=20, verbose_eval=100)\n",
    "    pr1 = gbm.predict(X_dtm[valid_idx], num_iteration=gbm.best_iteration)\n",
    "    pr2 = gbm.predict(test_x, num_iteration=gbm.best_iteration)\n",
    "    oof_preds[valid_idx] = pr1.argmax(axis=1)\n",
    "    sub_preds += pr2 / folds.n_splits\n",
    "    valid_idx += 1\n",
    "sub_preds = sub_preds.argmax(axis=1)\n",
    "e = (target2==oof_preds).mean()\n",
    "print('Full validation score/error %.4f/%.4f' %(e,1-e))"
   ]
  },
  {
   "cell_type": "code",
   "execution_count": 75,
   "metadata": {},
   "outputs": [],
   "source": [
    "# first_line\n",
    "# !pip install gzip\n",
    "# import gzip\n",
    "test_df['Label']  = le.inverse_transform(sub_preds)\n",
    "# lb.inverse_transform(sub_preds)"
   ]
  },
  {
   "cell_type": "code",
   "execution_count": 76,
   "metadata": {},
   "outputs": [
    {
     "data": {
      "text/html": [
       "<div>\n",
       "<style scoped>\n",
       "    .dataframe tbody tr th:only-of-type {\n",
       "        vertical-align: middle;\n",
       "    }\n",
       "\n",
       "    .dataframe tbody tr th {\n",
       "        vertical-align: top;\n",
       "    }\n",
       "\n",
       "    .dataframe thead th {\n",
       "        text-align: right;\n",
       "    }\n",
       "</style>\n",
       "<table border=\"1\" class=\"dataframe\">\n",
       "  <thead>\n",
       "    <tr style=\"text-align: right;\">\n",
       "      <th></th>\n",
       "      <th>ID</th>\n",
       "      <th>Label</th>\n",
       "    </tr>\n",
       "  </thead>\n",
       "  <tbody>\n",
       "    <tr>\n",
       "      <th>0</th>\n",
       "      <td>ID_ADHEtjTi</td>\n",
       "      <td>LAW/ORDER</td>\n",
       "    </tr>\n",
       "    <tr>\n",
       "      <th>1</th>\n",
       "      <td>ID_AHfJktdQ</td>\n",
       "      <td>RELIGION</td>\n",
       "    </tr>\n",
       "    <tr>\n",
       "      <th>2</th>\n",
       "      <td>ID_AUJIHpZr</td>\n",
       "      <td>RELATIONSHIPS</td>\n",
       "    </tr>\n",
       "    <tr>\n",
       "      <th>3</th>\n",
       "      <td>ID_AUKYBbIM</td>\n",
       "      <td>LAW/ORDER</td>\n",
       "    </tr>\n",
       "    <tr>\n",
       "      <th>4</th>\n",
       "      <td>ID_AZnsVPEi</td>\n",
       "      <td>FARMING</td>\n",
       "    </tr>\n",
       "    <tr>\n",
       "      <th>...</th>\n",
       "      <td>...</td>\n",
       "      <td>...</td>\n",
       "    </tr>\n",
       "    <tr>\n",
       "      <th>615</th>\n",
       "      <td>ID_zdpOUWyJ</td>\n",
       "      <td>SOCIAL</td>\n",
       "    </tr>\n",
       "    <tr>\n",
       "      <th>616</th>\n",
       "      <td>ID_zhnOomuu</td>\n",
       "      <td>RELATIONSHIPS</td>\n",
       "    </tr>\n",
       "    <tr>\n",
       "      <th>617</th>\n",
       "      <td>ID_zmWHvBJb</td>\n",
       "      <td>LAW/ORDER</td>\n",
       "    </tr>\n",
       "    <tr>\n",
       "      <th>618</th>\n",
       "      <td>ID_zphjdFIb</td>\n",
       "      <td>SOCIAL ISSUES</td>\n",
       "    </tr>\n",
       "    <tr>\n",
       "      <th>619</th>\n",
       "      <td>ID_ztdtrNxt</td>\n",
       "      <td>POLITICS</td>\n",
       "    </tr>\n",
       "  </tbody>\n",
       "</table>\n",
       "<p>620 rows × 2 columns</p>\n",
       "</div>"
      ],
      "text/plain": [
       "              ID          Label\n",
       "0    ID_ADHEtjTi      LAW/ORDER\n",
       "1    ID_AHfJktdQ       RELIGION\n",
       "2    ID_AUJIHpZr  RELATIONSHIPS\n",
       "3    ID_AUKYBbIM      LAW/ORDER\n",
       "4    ID_AZnsVPEi        FARMING\n",
       "..           ...            ...\n",
       "615  ID_zdpOUWyJ         SOCIAL\n",
       "616  ID_zhnOomuu  RELATIONSHIPS\n",
       "617  ID_zmWHvBJb      LAW/ORDER\n",
       "618  ID_zphjdFIb  SOCIAL ISSUES\n",
       "619  ID_ztdtrNxt       POLITICS\n",
       "\n",
       "[620 rows x 2 columns]"
      ]
     },
     "execution_count": 76,
     "metadata": {},
     "output_type": "execute_result"
    }
   ],
   "source": [
    "# with gzip.open(\"..\\Vectors\\en-ny.xml.gz\", mode='rb', compresslevel=9, encoding=None, errors=None, newline=None) as f:\n",
    "#     file_content = f.read()\n",
    "sub = test_df[['ID','Label']]\n",
    "sub\n",
    "# sub_preds"
   ]
  },
  {
   "cell_type": "code",
   "execution_count": 77,
   "metadata": {},
   "outputs": [],
   "source": [
    "# file_content\n",
    "sub.to_csv('lgbm_sub.csv', index = False)"
   ]
  },
  {
   "cell_type": "code",
   "execution_count": 99,
   "metadata": {},
   "outputs": [
    {
     "data": {
      "text/plain": [
       "102"
      ]
     },
     "execution_count": 99,
     "metadata": {},
     "output_type": "execute_result"
    }
   ],
   "source": [
    "(pr2.max(axis = 1)>0.6).sum()"
   ]
  },
  {
   "cell_type": "code",
   "execution_count": 73,
   "metadata": {},
   "outputs": [
    {
     "data": {
      "text/plain": [
       "array(['EDUCATION'], dtype=object)"
      ]
     },
     "execution_count": 73,
     "metadata": {},
     "output_type": "execute_result"
    }
   ],
   "source": [
    "# oof_preds\n",
    "le.inverse_transform([3])"
   ]
  },
  {
   "cell_type": "code",
   "execution_count": null,
   "metadata": {},
   "outputs": [],
   "source": []
  }
 ],
 "metadata": {
  "kernelspec": {
   "display_name": "Python 3",
   "language": "python",
   "name": "python3"
  },
  "language_info": {
   "codemirror_mode": {
    "name": "ipython",
    "version": 3
   },
   "file_extension": ".py",
   "mimetype": "text/x-python",
   "name": "python",
   "nbconvert_exporter": "python",
   "pygments_lexer": "ipython3",
   "version": "3.7.4"
  }
 },
 "nbformat": 4,
 "nbformat_minor": 1
}
