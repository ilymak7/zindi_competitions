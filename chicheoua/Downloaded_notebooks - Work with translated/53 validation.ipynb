{
 "cells": [
  {
   "cell_type": "markdown",
   "metadata": {
    "papermill": {
     "duration": 0.006866,
     "end_time": "2020-09-02T13:03:23.251222",
     "exception": false,
     "start_time": "2020-09-02T13:03:23.244356",
     "status": "completed"
    },
    "tags": []
   },
   "source": [
    "## BBC News Categorization using Keras\n",
    "\n",
    "In this notebook, I am going to train a model to categorize BBC news using embedding technique.\n",
    "\n",
    "The dataset contains 5 news categories namely: business, entertainment, politics, sport, and tech. \n",
    "\n",
    "There are 2225 rows and 4 columns. However, only 2 columns (category and content) are used.\n",
    " \n",
    "![](https://images.spot.im/v1/production/jyzxethffjsr6xwwz0ky)\n",
    "\n",
    "*Image Source: Daily Express*"
   ]
  },
  {
   "cell_type": "code",
   "execution_count": null,
   "metadata": {
    "_cell_guid": "b1076dfc-b9ad-4769-8c92-a6c4dae69d19",
    "_uuid": "8f2839f25d086af736a60e9eeb907d3b93b6e0e5",
    "execution": {
     "iopub.execute_input": "2020-09-02T13:03:23.278823Z",
     "iopub.status.busy": "2020-09-02T13:03:23.277647Z",
     "iopub.status.idle": "2020-09-02T13:03:30.658280Z",
     "shell.execute_reply": "2020-09-02T13:03:30.657573Z"
    },
    "papermill": {
     "duration": 7.401316,
     "end_time": "2020-09-02T13:03:30.658428",
     "exception": false,
     "start_time": "2020-09-02T13:03:23.257112",
     "status": "completed"
    },
    "tags": []
   },
   "outputs": [],
   "source": [
    "import csv\n",
    "import numpy as np\n",
    "import pandas as pd\n",
    "import matplotlib.pyplot as plt\n",
    "\n",
    "\n",
    "from tensorflow import keras\n",
    "from keras import layers\n",
    "from keras.preprocessing.text import Tokenizer\n",
    "from keras.preprocessing.sequence import pad_sequences\n",
    "\n",
    "stopwords = [ \"a\", \"about\", \"above\", \"after\", \"again\", \"against\", \"all\", \"am\", \"an\", \"and\", \"any\", \"are\", \"as\", \"at\", \"be\", \"because\", \"been\", \"before\", \"being\", \"below\", \"between\", \"both\", \"but\", \"by\", \"could\", \"did\", \"do\", \"does\", \"doing\", \"down\", \"during\", \"each\", \"few\", \"for\", \"from\", \"further\", \"had\", \"has\", \"have\", \"having\", \"he\", \"he'd\", \"he'll\", \"he's\", \"her\", \"here\", \"here's\", \"hers\", \"herself\", \"him\", \"himself\", \"his\", \"how\", \"how's\", \"i\", \"i'd\", \"i'll\", \"i'm\", \"i've\", \"if\", \"in\", \"into\", \"is\", \"it\", \"it's\", \"its\", \"itself\", \"let's\", \"me\", \"more\", \"most\", \"my\", \"myself\", \"nor\", \"of\", \"on\", \"once\", \"only\", \"or\", \"other\", \"ought\", \"our\", \"ours\", \"ourselves\", \"out\", \"over\", \"own\", \"same\", \"she\", \"she'd\", \"she'll\", \"she's\", \"should\", \"so\", \"some\", \"such\", \"than\", \"that\", \"that's\", \"the\", \"their\", \"theirs\", \"them\", \"themselves\", \"then\", \"there\", \"there's\", \"these\", \"they\", \"they'd\", \"they'll\", \"they're\", \"they've\", \"this\", \"those\", \"through\", \"to\", \"too\", \"under\", \"until\", \"up\", \"very\", \"was\", \"we\", \"we'd\", \"we'll\", \"we're\", \"we've\", \"were\", \"what\", \"what's\", \"when\", \"when's\", \"where\", \"where's\", \"which\", \"while\", \"who\", \"who's\", \"whom\", \"why\", \"why's\", \"with\", \"would\", \"you\", \"you'd\", \"you'll\", \"you're\", \"you've\", \"your\", \"yours\", \"yourself\", \"yourselves\" ]"
   ]
  },
  {
   "cell_type": "code",
   "execution_count": null,
   "metadata": {
    "execution": {
     "iopub.execute_input": "2020-09-02T13:03:30.682132Z",
     "iopub.status.busy": "2020-09-02T13:03:30.681285Z",
     "iopub.status.idle": "2020-09-02T13:03:31.030744Z",
     "shell.execute_reply": "2020-09-02T13:03:31.030103Z"
    },
    "papermill": {
     "duration": 0.366584,
     "end_time": "2020-09-02T13:03:31.030877",
     "exception": false,
     "start_time": "2020-09-02T13:03:30.664293",
     "status": "completed"
    },
    "tags": []
   },
   "outputs": [],
   "source": [
    "# read the csv file\n",
    "\n",
    "# df = pd.read_csv(\"../input/bbcnewsarchive/bbc-news-data.csv\", sep=\"\\t\")\n",
    "df = pd.read_csv('../Translated/cleaned/train.csv')\n",
    "test = pd.read_csv('../Translated/cleaned/test.csv')\n",
    "trans = pd.read_csv('../Notebooks/corpus_translated.csv')\n",
    "trans = trans.iloc[:,1]\n",
    "# trans\n",
    "df['Text'] = trans[:df.shape[0]]\n",
    "test['Text'] = trans[df.shape[0]:]\n",
    "\n",
    "\n",
    "print(df)\n",
    "\n",
    "df[\"Label\"].hist()"
   ]
  },
  {
   "cell_type": "code",
   "execution_count": null,
   "metadata": {
    "execution": {
     "iopub.execute_input": "2020-09-02T13:03:31.060142Z",
     "iopub.status.busy": "2020-09-02T13:03:31.059233Z",
     "iopub.status.idle": "2020-09-02T13:03:31.071769Z",
     "shell.execute_reply": "2020-09-02T13:03:31.071084Z"
    },
    "papermill": {
     "duration": 0.034988,
     "end_time": "2020-09-02T13:03:31.071897",
     "exception": false,
     "start_time": "2020-09-02T13:03:31.036909",
     "status": "completed"
    },
    "tags": []
   },
   "outputs": [],
   "source": [
    "# shuffle the dataframe to evenly distribute the labels\n",
    "\n",
    "df = df.sample(frac=1).reset_index(drop=True)\n",
    "df"
   ]
  },
  {
   "cell_type": "code",
   "execution_count": null,
   "metadata": {
    "_cell_guid": "79c7e3d0-c299-4dcb-8224-4455121ee9b0",
    "_uuid": "d629ff2d2480ee46fbb7e2d37f6b5fab8052498a",
    "execution": {
     "iopub.execute_input": "2020-09-02T13:03:31.152362Z",
     "iopub.status.busy": "2020-09-02T13:03:31.116145Z",
     "iopub.status.idle": "2020-09-02T13:03:32.634540Z",
     "shell.execute_reply": "2020-09-02T13:03:32.633761Z"
    },
    "papermill": {
     "duration": 1.554779,
     "end_time": "2020-09-02T13:03:32.634682",
     "exception": false,
     "start_time": "2020-09-02T13:03:31.079903",
     "status": "completed"
    },
    "tags": []
   },
   "outputs": [],
   "source": [
    "content = []\n",
    "labels = []\n",
    "\n",
    "for label in df.Label:\n",
    "    labels.append(label)\n",
    "    \n",
    "for con in df.Text:\n",
    "    for word in stopwords:\n",
    "        token = \" \" + word + \" \"\n",
    "        con = con.replace(token, \" \")\n",
    "        con = con.replace(\" \", \" \")\n",
    "    content.append(con)\n",
    "\n",
    "print(len(content))\n",
    "print(len(labels))\n",
    "print(\"\\nContent:\", content[0])\n",
    "print(\"\\nLabel:\", labels[0])"
   ]
  },
  {
   "cell_type": "code",
   "execution_count": null,
   "metadata": {
    "execution": {
     "iopub.execute_input": "2020-09-02T13:03:32.809997Z",
     "iopub.status.busy": "2020-09-02T13:03:32.790181Z",
     "iopub.status.idle": "2020-09-02T13:03:32.814888Z",
     "shell.execute_reply": "2020-09-02T13:03:32.815755Z"
    },
    "papermill": {
     "duration": 0.174891,
     "end_time": "2020-09-02T13:03:32.816001",
     "exception": false,
     "start_time": "2020-09-02T13:03:32.641110",
     "status": "completed"
    },
    "tags": []
   },
   "outputs": [],
   "source": [
    "# split the dataset into training set and test set\n",
    "\n",
    "train_content, test_content = content[:1000], content[1000:]\n",
    "train_labels, test_labels = labels[:1000], labels[1000:]\n",
    "\n",
    "train_content = np.array(train_content)\n",
    "test_content = np.array(test_content)\n",
    "\n",
    "train_labels = np.array(train_labels)\n",
    "test_labels = np.array(test_labels)\n",
    "\n",
    "print(len(train_content))\n",
    "print(len(train_labels))\n",
    "print(len(test_content))\n",
    "print(len(test_labels))"
   ]
  },
  {
   "cell_type": "code",
   "execution_count": null,
   "metadata": {
    "execution": {
     "iopub.execute_input": "2020-09-02T13:03:32.838235Z",
     "iopub.status.busy": "2020-09-02T13:03:32.837098Z",
     "iopub.status.idle": "2020-09-02T13:03:32.843946Z",
     "shell.execute_reply": "2020-09-02T13:03:32.844604Z"
    },
    "papermill": {
     "duration": 0.021382,
     "end_time": "2020-09-02T13:03:32.844779",
     "exception": false,
     "start_time": "2020-09-02T13:03:32.823397",
     "status": "completed"
    },
    "tags": []
   },
   "outputs": [],
   "source": [
    "# check the distribution of labels in the training set and test set\n",
    "\n",
    "unique_train_content, number_train_content = np.unique(train_labels, return_counts=True)\n",
    "\n",
    "print(\"Training set labels:\")\n",
    "print(unique_train_content)\n",
    "print(number_train_content)\n",
    "\n",
    "unique_test_content, number_test_content = np.unique(test_labels, return_counts=True)\n",
    "\n",
    "print(\"\\nTest set labels:\")\n",
    "print(unique_test_content)\n",
    "print(number_test_content)"
   ]
  },
  {
   "cell_type": "code",
   "execution_count": null,
   "metadata": {
    "execution": {
     "iopub.execute_input": "2020-09-02T13:03:32.903736Z",
     "iopub.status.busy": "2020-09-02T13:03:32.866972Z",
     "iopub.status.idle": "2020-09-02T13:03:34.444704Z",
     "shell.execute_reply": "2020-09-02T13:03:34.443976Z"
    },
    "papermill": {
     "duration": 1.593187,
     "end_time": "2020-09-02T13:03:34.444837",
     "exception": false,
     "start_time": "2020-09-02T13:03:32.851650",
     "status": "completed"
    },
    "tags": []
   },
   "outputs": [],
   "source": [
    "# tokenize the content\n",
    "\n",
    "vocab_size = 10000\n",
    "embedding_dim = 32\n",
    "max_len = 200\n",
    "trunc_type = \"post\"\n",
    "oov_tok = \"<OOV>\"\n",
    "\n",
    "tokenizer = Tokenizer(num_words=vocab_size, oov_token=oov_tok)\n",
    "tokenizer.fit_on_texts(train_content)\n",
    "\n",
    "word_index = tokenizer.word_index\n",
    "\n",
    "sequences = tokenizer.texts_to_sequences(train_content)\n",
    "padded = pad_sequences(sequences, maxlen=max_len, truncating=trunc_type)\n",
    "\n",
    "test_sequences = tokenizer.texts_to_sequences(test_content)\n",
    "test_padded = pad_sequences(test_sequences, maxlen=max_len, truncating=trunc_type)\n",
    "\n",
    "print(test_padded.shape)"
   ]
  },
  {
   "cell_type": "code",
   "execution_count": 30,
   "metadata": {},
   "outputs": [],
   "source": [
    "# label_tokenizer.texts_to_sequences(train_labels)\n",
    "# L = (label_tokenizer.texts_to_sequences(train_labels))\n",
    "\n",
    "def unsstack(L):\n",
    "    N = [np.array(item) for item in L]\n",
    "    return np.array(N)"
   ]
  },
  {
   "cell_type": "code",
   "execution_count": 39,
   "metadata": {
    "execution": {
     "iopub.execute_input": "2020-09-02T13:03:34.478055Z",
     "iopub.status.busy": "2020-09-02T13:03:34.472971Z",
     "iopub.status.idle": "2020-09-02T13:03:34.521916Z",
     "shell.execute_reply": "2020-09-02T13:03:34.521218Z"
    },
    "papermill": {
     "duration": 0.070131,
     "end_time": "2020-09-02T13:03:34.522068",
     "exception": false,
     "start_time": "2020-09-02T13:03:34.451937",
     "status": "completed"
    },
    "tags": []
   },
   "outputs": [
    {
     "name": "stdout",
     "output_type": "stream",
     "text": [
      "(1000,)\n",
      "(436,)\n"
     ]
    }
   ],
   "source": [
    "# tokenize the labels\n",
    "from sklearn.preprocessing import LabelEncoder\n",
    "le = LabelEncoder()\n",
    "le.fit(labels)\n",
    "label_sequences = le.transform(train_labels)\n",
    "test_label_sequences = le.transform(test_labels)\n",
    "# label_tokenizer = Tokenizer()\n",
    "# label_tokenizer.fit_on_texts(labels)\n",
    "\n",
    "# label_index = label_tokenizer.word_index\n",
    "\n",
    "# label_sequences = unsstack(label_tokenizer.texts_to_sequences(train_labels))\n",
    "\n",
    "# test_label_sequences = unsstack(label_tokenizer.texts_to_sequences(test_labels))\n",
    "\n",
    "print(label_sequences.shape)\n",
    "print(test_label_sequences.shape)"
   ]
  },
  {
   "cell_type": "code",
   "execution_count": 46,
   "metadata": {
    "execution": {
     "iopub.execute_input": "2020-09-02T13:03:34.545481Z",
     "iopub.status.busy": "2020-09-02T13:03:34.544550Z",
     "iopub.status.idle": "2020-09-02T13:03:35.417333Z",
     "shell.execute_reply": "2020-09-02T13:03:35.416494Z"
    },
    "papermill": {
     "duration": 0.88812,
     "end_time": "2020-09-02T13:03:35.417467",
     "exception": false,
     "start_time": "2020-09-02T13:03:34.529347",
     "status": "completed"
    },
    "tags": []
   },
   "outputs": [
    {
     "name": "stdout",
     "output_type": "stream",
     "text": [
      "Model: \"sequential_5\"\n",
      "_________________________________________________________________\n",
      "Layer (type)                 Output Shape              Param #   \n",
      "=================================================================\n",
      "embedding_5 (Embedding)      (None, 200, 32)           320000    \n",
      "_________________________________________________________________\n",
      "global_average_pooling1d_5 ( (None, 32)                0         \n",
      "_________________________________________________________________\n",
      "dense_10 (Dense)             (None, 512)               16896     \n",
      "_________________________________________________________________\n",
      "dense_11 (Dense)             (None, 20)                10260     \n",
      "=================================================================\n",
      "Total params: 347,156\n",
      "Trainable params: 347,156\n",
      "Non-trainable params: 0\n",
      "_________________________________________________________________\n"
     ]
    },
    {
     "data": {
      "image/png": "[encoded data removed]",
      "text/plain": [
       "<IPython.core.display.Image object>"
      ]
     },
     "execution_count": 46,
     "metadata": {},
     "output_type": "execute_result"
    }
   ],
   "source": [
    "# define an NN model\n",
    "\n",
    "model = keras.Sequential([layers.Embedding(vocab_size, embedding_dim, input_length=max_len),\n",
    "                        \n",
    "                         layers.GlobalAveragePooling1D(), #simpler and faster than Flatten()\n",
    "                         layers.Dense(512, activation=\"relu\"),\n",
    "                         layers.Dense(20, activation=\"softmax\")])\n",
    "\n",
    "model.compile(loss=\"sparse_categorical_crossentropy\", optimizer=\"adam\", metrics=[\"accuracy\"])\n",
    "\n",
    "model.summary()\n",
    "keras.utils.plot_model(model)"
   ]
  },
  {
   "cell_type": "code",
   "execution_count": 47,
   "metadata": {},
   "outputs": [
    {
     "data": {
      "text/plain": [
       "array([[3487, 3488,   58, ...,  115,   30,   41],\n",
       "       [ 271,   38,   11, ...,  263,   42,   83],\n",
       "       [ 797,  798,  320, ...,  320,    3,  942],\n",
       "       ...,\n",
       "       [ 287,  420,  211, ...,   75,    1, 1615],\n",
       "       [   0,    0,    0, ..., 1688,  397, 2784],\n",
       "       [   0,    0,    0, ..., 1859,  658,  875]])"
      ]
     },
     "execution_count": 47,
     "metadata": {},
     "output_type": "execute_result"
    }
   ],
   "source": [
    "padded"
   ]
  },
  {
   "cell_type": "code",
   "execution_count": 48,
   "metadata": {
    "execution": {
     "iopub.execute_input": "2020-09-02T13:03:35.441120Z",
     "iopub.status.busy": "2020-09-02T13:03:35.440272Z",
     "iopub.status.idle": "2020-09-02T13:03:39.685800Z",
     "shell.execute_reply": "2020-09-02T13:03:39.684920Z"
    },
    "papermill": {
     "duration": 4.260464,
     "end_time": "2020-09-02T13:03:39.685944",
     "exception": false,
     "start_time": "2020-09-02T13:03:35.425480",
     "status": "completed"
    },
    "tags": []
   },
   "outputs": [
    {
     "name": "stdout",
     "output_type": "stream",
     "text": [
      "Epoch 1/40\n",
      "32/32 [==============================] - 0s 11ms/step - loss: 2.8971 - accuracy: 0.1930 - val_loss: 2.6878 - val_accuracy: 0.1812\n",
      "Epoch 2/40\n",
      "32/32 [==============================] - 0s 9ms/step - loss: 2.6010 - accuracy: 0.2000 - val_loss: 2.4948 - val_accuracy: 0.1812\n",
      "Epoch 3/40\n",
      "32/32 [==============================] - 0s 9ms/step - loss: 2.5062 - accuracy: 0.2000 - val_loss: 2.4368 - val_accuracy: 0.1812\n",
      "Epoch 4/40\n",
      "32/32 [==============================] - 0s 9ms/step - loss: 2.4192 - accuracy: 0.2090 - val_loss: 2.3634 - val_accuracy: 0.2133\n",
      "Epoch 5/40\n",
      "32/32 [==============================] - 0s 9ms/step - loss: 2.3014 - accuracy: 0.2300 - val_loss: 2.2770 - val_accuracy: 0.2638\n",
      "Epoch 6/40\n",
      "32/32 [==============================] - 0s 10ms/step - loss: 2.1663 - accuracy: 0.2820 - val_loss: 2.2028 - val_accuracy: 0.3050\n",
      "Epoch 7/40\n",
      "32/32 [==============================] - 0s 9ms/step - loss: 2.0294 - accuracy: 0.3420 - val_loss: 2.1304 - val_accuracy: 0.3257\n",
      "Epoch 8/40\n",
      "32/32 [==============================] - 0s 10ms/step - loss: 1.9068 - accuracy: 0.3770 - val_loss: 2.0842 - val_accuracy: 0.3624\n",
      "Epoch 9/40\n",
      "32/32 [==============================] - 0s 9ms/step - loss: 1.7944 - accuracy: 0.4040 - val_loss: 2.0180 - val_accuracy: 0.3532\n",
      "Epoch 10/40\n",
      "32/32 [==============================] - 0s 9ms/step - loss: 1.6736 - accuracy: 0.4410 - val_loss: 1.9838 - val_accuracy: 0.3968\n",
      "Epoch 11/40\n",
      "32/32 [==============================] - 0s 9ms/step - loss: 1.5482 - accuracy: 0.4880 - val_loss: 1.9465 - val_accuracy: 0.4037\n",
      "Epoch 12/40\n",
      "32/32 [==============================] - 0s 11ms/step - loss: 1.4324 - accuracy: 0.5610 - val_loss: 1.9109 - val_accuracy: 0.4197\n",
      "Epoch 13/40\n",
      "32/32 [==============================] - 0s 11ms/step - loss: 1.3139 - accuracy: 0.6080 - val_loss: 1.8807 - val_accuracy: 0.4450\n",
      "Epoch 14/40\n",
      "32/32 [==============================] - 0s 12ms/step - loss: 1.1863 - accuracy: 0.6540 - val_loss: 1.8702 - val_accuracy: 0.4495\n",
      "Epoch 15/40\n",
      "32/32 [==============================] - 0s 10ms/step - loss: 1.0559 - accuracy: 0.7710 - val_loss: 1.8358 - val_accuracy: 0.4450\n",
      "Epoch 16/40\n",
      "32/32 [==============================] - 0s 10ms/step - loss: 0.9261 - accuracy: 0.7650 - val_loss: 1.8231 - val_accuracy: 0.4610\n",
      "Epoch 17/40\n",
      "32/32 [==============================] - 0s 11ms/step - loss: 0.8066 - accuracy: 0.8150 - val_loss: 1.8244 - val_accuracy: 0.4633\n",
      "Epoch 18/40\n",
      "32/32 [==============================] - 0s 11ms/step - loss: 0.7008 - accuracy: 0.8440 - val_loss: 1.8299 - val_accuracy: 0.4931\n",
      "Epoch 19/40\n",
      "32/32 [==============================] - 0s 11ms/step - loss: 0.6045 - accuracy: 0.8610 - val_loss: 1.8390 - val_accuracy: 0.4862\n",
      "Epoch 20/40\n",
      "32/32 [==============================] - 0s 12ms/step - loss: 0.5233 - accuracy: 0.8820 - val_loss: 1.8847 - val_accuracy: 0.4839\n",
      "Epoch 21/40\n",
      "32/32 [==============================] - 0s 11ms/step - loss: 0.4423 - accuracy: 0.9200 - val_loss: 1.8875 - val_accuracy: 0.4954\n",
      "Epoch 22/40\n",
      "32/32 [==============================] - 0s 8ms/step - loss: 0.3766 - accuracy: 0.9330 - val_loss: 1.9185 - val_accuracy: 0.5161\n",
      "Epoch 23/40\n",
      "32/32 [==============================] - 0s 10ms/step - loss: 0.3221 - accuracy: 0.9540 - val_loss: 1.9365 - val_accuracy: 0.5229\n",
      "Epoch 24/40\n",
      "32/32 [==============================] - 0s 9ms/step - loss: 0.2720 - accuracy: 0.9680 - val_loss: 1.9825 - val_accuracy: 0.5298\n",
      "Epoch 25/40\n",
      "32/32 [==============================] - 0s 11ms/step - loss: 0.2293 - accuracy: 0.9720 - val_loss: 1.9966 - val_accuracy: 0.5252\n",
      "Epoch 26/40\n",
      "32/32 [==============================] - 0s 11ms/step - loss: 0.1975 - accuracy: 0.9780 - val_loss: 2.0332 - val_accuracy: 0.5138\n",
      "Epoch 27/40\n",
      "32/32 [==============================] - 0s 9ms/step - loss: 0.1699 - accuracy: 0.9810 - val_loss: 2.0660 - val_accuracy: 0.5344\n",
      "Epoch 28/40\n",
      "32/32 [==============================] - 0s 9ms/step - loss: 0.1462 - accuracy: 0.9820 - val_loss: 2.0881 - val_accuracy: 0.5344\n",
      "Epoch 29/40\n",
      "32/32 [==============================] - 0s 9ms/step - loss: 0.1263 - accuracy: 0.9890 - val_loss: 2.1262 - val_accuracy: 0.5252\n",
      "Epoch 30/40\n",
      "32/32 [==============================] - 0s 9ms/step - loss: 0.1106 - accuracy: 0.9920 - val_loss: 2.1615 - val_accuracy: 0.5298\n",
      "Epoch 31/40\n",
      "32/32 [==============================] - 0s 9ms/step - loss: 0.0953 - accuracy: 0.9960 - val_loss: 2.1758 - val_accuracy: 0.5390\n",
      "Epoch 32/40\n",
      "32/32 [==============================] - 0s 9ms/step - loss: 0.0838 - accuracy: 0.9960 - val_loss: 2.2080 - val_accuracy: 0.5229\n",
      "Epoch 33/40\n",
      "32/32 [==============================] - 0s 9ms/step - loss: 0.0724 - accuracy: 0.9970 - val_loss: 2.2283 - val_accuracy: 0.5321\n",
      "Epoch 34/40\n",
      "32/32 [==============================] - 0s 12ms/step - loss: 0.0649 - accuracy: 0.9970 - val_loss: 2.2748 - val_accuracy: 0.5298\n",
      "Epoch 35/40\n",
      "32/32 [==============================] - 0s 9ms/step - loss: 0.0570 - accuracy: 0.9980 - val_loss: 2.2966 - val_accuracy: 0.5321\n",
      "Epoch 36/40\n",
      "32/32 [==============================] - 0s 10ms/step - loss: 0.0508 - accuracy: 0.9980 - val_loss: 2.3040 - val_accuracy: 0.5321\n",
      "Epoch 37/40\n",
      "32/32 [==============================] - 0s 9ms/step - loss: 0.0447 - accuracy: 0.9970 - val_loss: 2.3416 - val_accuracy: 0.5367\n",
      "Epoch 38/40\n",
      "32/32 [==============================] - 0s 9ms/step - loss: 0.0416 - accuracy: 0.9970 - val_loss: 2.3646 - val_accuracy: 0.5390\n",
      "Epoch 39/40\n",
      "32/32 [==============================] - 0s 9ms/step - loss: 0.0373 - accuracy: 0.9970 - val_loss: 2.3690 - val_accuracy: 0.5390\n",
      "Epoch 40/40\n",
      "32/32 [==============================] - 0s 8ms/step - loss: 0.0333 - accuracy: 0.9980 - val_loss: 2.4043 - val_accuracy: 0.5275\n"
     ]
    }
   ],
   "source": [
    "# train the model\n",
    "\n",
    "num_epochs = 40\n",
    "\n",
    "history = model.fit(padded,\n",
    "                   label_sequences,\n",
    "                   epochs=num_epochs,\n",
    "                   validation_data = (test_padded, test_label_sequences))"
   ]
  },
  {
   "cell_type": "code",
   "execution_count": 16,
   "metadata": {},
   "outputs": [
    {
     "data": {
      "text/plain": [
       "[9]"
      ]
     },
     "execution_count": 16,
     "metadata": {},
     "output_type": "execute_result"
    }
   ],
   "source": [
    "label_sequences[0]"
   ]
  },
  {
   "cell_type": "code",
   "execution_count": 45,
   "metadata": {
    "execution": {
     "iopub.execute_input": "2020-09-02T13:03:39.728220Z",
     "iopub.status.busy": "2020-09-02T13:03:39.721779Z",
     "iopub.status.idle": "2020-09-02T13:03:40.116200Z",
     "shell.execute_reply": "2020-09-02T13:03:40.115562Z"
    },
    "papermill": {
     "duration": 0.417719,
     "end_time": "2020-09-02T13:03:40.116324",
     "exception": false,
     "start_time": "2020-09-02T13:03:39.698605",
     "status": "completed"
    },
    "tags": []
   },
   "outputs": [
    {
     "data": {
      "image/png": "[encoded data removed]",
      "text/plain": [
       "<Figure size 432x288 with 1 Axes>"
      ]
     },
     "metadata": {
      "needs_background": "light"
     },
     "output_type": "display_data"
    },
    {
     "data": {
      "image/png": "[encoded data removed]",
      "text/plain": [
       "<Figure size 432x288 with 1 Axes>"
      ]
     },
     "metadata": {
      "needs_background": "light"
     },
     "output_type": "display_data"
    }
   ],
   "source": [
    "# plot accuracy and loss\n",
    "\n",
    "acc = history.history[\"accuracy\"]\n",
    "val_acc = history.history[\"val_accuracy\"]\n",
    "loss = history.history[\"loss\"]\n",
    "val_loss = history.history[\"val_loss\"]\n",
    "\n",
    "epochs = range(1, len(acc) + 1)\n",
    "\n",
    "# accuracy\n",
    "\n",
    "plt.plot(epochs, acc, \"b\", label=\"Training accuracy\")\n",
    "plt.plot(epochs, val_acc, \"b--\", label=\"Validation accuracy\")\n",
    "plt.title(\"Training and validation accuracy\")\n",
    "plt.legend()\n",
    "plt.show()\n",
    "\n",
    "# loss\n",
    "\n",
    "plt.plot(epochs, loss, \"r\", label=\"Training loss\")\n",
    "plt.plot(epochs, val_loss, \"r--\", label=\"Validation loss\")\n",
    "plt.title(\"Training and validation loss\")\n",
    "plt.legend()\n",
    "plt.show()"
   ]
  },
  {
   "cell_type": "markdown",
   "metadata": {
    "papermill": {
     "duration": 0.012093,
     "end_time": "2020-09-02T13:03:40.141110",
     "exception": false,
     "start_time": "2020-09-02T13:03:40.129017",
     "status": "completed"
    },
    "tags": []
   },
   "source": [
    "### The Result \n",
    "\n",
    "> **After training for 10 epochs, the model was able to reach 100% accuracy on training set and near 100% on the validation set.**"
   ]
  }
 ],
 "metadata": {
  "kernelspec": {
   "display_name": "Python 3",
   "language": "python",
   "name": "python3"
  },
  "language_info": {
   "codemirror_mode": {
    "name": "ipython",
    "version": 3
   },
   "file_extension": ".py",
   "mimetype": "text/x-python",
   "name": "python",
   "nbconvert_exporter": "python",
   "pygments_lexer": "ipython3",
   "version": "3.7.4"
  },
  "papermill": {
   "duration": 22.481396,
   "end_time": "2020-09-02T13:03:40.262624",
   "environment_variables": {},
   "exception": null,
   "input_path": "__notebook__.ipynb",
   "output_path": "__notebook__.ipynb",
   "parameters": {},
   "start_time": "2020-09-02T13:03:17.781228",
   "version": "2.1.0"
  }
 },
 "nbformat": 4,
 "nbformat_minor": 4
}
