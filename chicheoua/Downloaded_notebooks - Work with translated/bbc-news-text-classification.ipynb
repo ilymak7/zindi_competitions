{
 "cells": [
  {
   "cell_type": "markdown",
   "metadata": {},
   "source": [
    "# Text Classification - BBC News Data\n",
    "\n",
    "## Overview\n",
    "\n",
    "The following notebook is created out of inspiration from the source [here](https://colab.research.google.com/github/srushtidhope/bbc-text-classification/blob/master/bbc_text_classification.ipynb#scrollTo=22L7TrqYtFiz) \n"
   ]
  },
  {
   "cell_type": "code",
   "execution_count": 1,
   "metadata": {
    "_cell_guid": "b1076dfc-b9ad-4769-8c92-a6c4dae69d19",
    "_uuid": "8f2839f25d086af736a60e9eeb907d3b93b6e0e5"
   },
   "outputs": [
    {
     "name": "stderr",
     "output_type": "stream",
     "text": [
      "C:\\Users\\amakr\\AppData\\Local\\Continuum\\anaconda3\\lib\\site-packages\\statsmodels\\tools\\_testing.py:19: FutureWarning: pandas.util.testing is deprecated. Use the functions in the public API at pandas.testing instead.\n",
      "  import pandas.util.testing as tm\n",
      "[nltk_data] Downloading package punkt to\n",
      "[nltk_data]     C:\\Users\\amakr\\AppData\\Roaming\\nltk_data...\n",
      "[nltk_data]   Package punkt is already up-to-date!\n",
      "[nltk_data] Downloading package stopwords to\n",
      "[nltk_data]     C:\\Users\\amakr\\AppData\\Roaming\\nltk_data...\n",
      "[nltk_data]   Package stopwords is already up-to-date!\n",
      "[nltk_data] Downloading package wordnet to\n",
      "[nltk_data]     C:\\Users\\amakr\\AppData\\Roaming\\nltk_data...\n",
      "[nltk_data]   Package wordnet is already up-to-date!\n"
     ]
    }
   ],
   "source": [
    "# This Python 3 environment comes with many helpful analytics libraries installed\n",
    "# It is defined by the kaggle/python Docker image: https://github.com/kaggle/docker-python\n",
    "# For example, here's several helpful packages to load\n",
    "\n",
    "import numpy as np # linear algebra\n",
    "import pandas as pd # data processing, CSV file I/O (e.g. pd.read_csv)\n",
    "import matplotlib.pyplot as plt\n",
    "import seaborn as sns\n",
    "import warnings\n",
    "warnings.filterwarnings('ignore')\n",
    "\n",
    "\n",
    "# NLTK modules\n",
    "import nltk\n",
    "nltk.download('punkt')\n",
    "nltk.download('stopwords')\n",
    "nltk.download('wordnet')\n",
    "\n",
    "import re\n",
    "\n",
    "from gensim.models import Word2Vec # Word2Vec module\n",
    "\n",
    "from sklearn.model_selection import GridSearchCV, train_test_split\n",
    "from sklearn.feature_extraction.text import TfidfVectorizer\n",
    "from sklearn.preprocessing import LabelEncoder\n",
    "from sklearn.pipeline import Pipeline\n",
    "from sklearn.naive_bayes import GaussianNB, MultinomialNB\n",
    "from sklearn.svm import SVC\n",
    "from sklearn.tree import DecisionTreeClassifier\n",
    "from sklearn.neural_network import MLPClassifier\n",
    "from sklearn.linear_model import SGDClassifier\n",
    "from sklearn.ensemble import GradientBoostingClassifier\n",
    "from sklearn.metrics import precision_score, recall_score, f1_score, accuracy_score\n",
    "\n",
    "# Input data files are available in the read-only \"../input/\" directory\n",
    "# For example, running this (by clicking run or pressing Shift+Enter) will list all files under the input directory\n",
    "\n",
    "# import os\n",
    "# for dirname, _, filenames in os.walk('/kaggle/input'):\n",
    "#     for filename in filenames:\n",
    "#         print(os.path.join(dirname, filename))\n",
    "\n",
    "# You can write up to 5GB to the current directory (/kaggle/working/) that gets preserved as output when you create a version using \"Save & Run All\" \n",
    "# You can also write temporary files to /kaggle/temp/, but they won't be saved outside of the current session"
   ]
  },
  {
   "cell_type": "markdown",
   "metadata": {
    "_cell_guid": "79c7e3d0-c299-4dcb-8224-4455121ee9b0",
    "_uuid": "d629ff2d2480ee46fbb7e2d37f6b5fab8052498a",
    "collapsed": true
   },
   "source": [
    "## Loading Dataset"
   ]
  },
  {
   "cell_type": "code",
   "execution_count": 3,
   "metadata": {},
   "outputs": [],
   "source": [
    "news_data = pd.read_csv('../Translated/cleaned/train.csv')\n",
    "test = pd.read_csv('../Translated/cleaned/test.csv')\n",
    "trans = pd.read_csv('../Notebooks/corpus_translated.csv')\n",
    "trans = trans.iloc[:,1]\n",
    "# trans\n",
    "news_data['Text'] = trans[:news_data.shape[0]]\n",
    "test['Text'] = trans[news_data.shape[0]:]\n"
   ]
  },
  {
   "cell_type": "code",
   "execution_count": 4,
   "metadata": {},
   "outputs": [
    {
     "name": "stdout",
     "output_type": "stream",
     "text": [
      "Shape : (1436, 3), \n",
      "\n",
      "Columns: Index(['ID', 'Text', 'Label'], dtype='object'), \n",
      "\n",
      "Categories: ['POLITICS' 'HEALTH' 'LAW/ORDER' 'RELIGION' 'FARMING'\n",
      " 'WILDLIFE/ENVIRONMENT' 'SOCIAL ISSUES' 'SOCIAL' 'OPINION/ESSAY'\n",
      " 'LOCALCHIEFS' 'WITCHCRAFT' 'ECONOMY' 'SPORTS' 'RELATIONSHIPS' 'TRANSPORT'\n",
      " 'CULTURE' 'EDUCATION' 'MUSIC' 'ARTS AND CRAFTS' 'FLOODING']\n"
     ]
    },
    {
     "data": {
      "text/html": [
       "<div>\n",
       "<style scoped>\n",
       "    .dataframe tbody tr th:only-of-type {\n",
       "        vertical-align: middle;\n",
       "    }\n",
       "\n",
       "    .dataframe tbody tr th {\n",
       "        vertical-align: top;\n",
       "    }\n",
       "\n",
       "    .dataframe thead th {\n",
       "        text-align: right;\n",
       "    }\n",
       "</style>\n",
       "<table border=\"1\" class=\"dataframe\">\n",
       "  <thead>\n",
       "    <tr style=\"text-align: right;\">\n",
       "      <th></th>\n",
       "      <th>ID</th>\n",
       "      <th>Text</th>\n",
       "      <th>Label</th>\n",
       "    </tr>\n",
       "  </thead>\n",
       "  <tbody>\n",
       "    <tr>\n",
       "      <th>0</th>\n",
       "      <td>ID_AASHwXxg</td>\n",
       "      <td>when a young councilor says that the youth and...</td>\n",
       "      <td>POLITICS</td>\n",
       "    </tr>\n",
       "    <tr>\n",
       "      <th>1</th>\n",
       "      <td>ID_AGoFySzn</td>\n",
       "      <td>mcp is not satisfied with the registration of ...</td>\n",
       "      <td>POLITICS</td>\n",
       "    </tr>\n",
       "    <tr>\n",
       "      <th>2</th>\n",
       "      <td>ID_AGrrkBGP</td>\n",
       "      <td>The Network of Older Persons Organization (AP)...</td>\n",
       "      <td>HEALTH</td>\n",
       "    </tr>\n",
       "    <tr>\n",
       "      <th>3</th>\n",
       "      <td>ID_AIJeigeG</td>\n",
       "      <td>extremist politics are not uncommon to hear th...</td>\n",
       "      <td>POLITICS</td>\n",
       "    </tr>\n",
       "    <tr>\n",
       "      <th>4</th>\n",
       "      <td>ID_APMprMbV</td>\n",
       "      <td>It is not uncommon for a police officer to be ...</td>\n",
       "      <td>LAW/ORDER</td>\n",
       "    </tr>\n",
       "    <tr>\n",
       "      <th>1431</th>\n",
       "      <td>ID_zmTmmEio</td>\n",
       "      <td>minibus owners say they have the right to rais...</td>\n",
       "      <td>TRANSPORT</td>\n",
       "    </tr>\n",
       "    <tr>\n",
       "      <th>1432</th>\n",
       "      <td>ID_znOlIaGQ</td>\n",
       "      <td>Politicians and non-governmental organizations...</td>\n",
       "      <td>POLITICS</td>\n",
       "    </tr>\n",
       "    <tr>\n",
       "      <th>1433</th>\n",
       "      <td>ID_znracTjN</td>\n",
       "      <td>mawu supports non fiction writers the malawi w...</td>\n",
       "      <td>EDUCATION</td>\n",
       "    </tr>\n",
       "    <tr>\n",
       "      <th>1434</th>\n",
       "      <td>ID_ztdsmmva</td>\n",
       "      <td>tame mwawa pwete then his eating drama is dyin...</td>\n",
       "      <td>SOCIAL ISSUES</td>\n",
       "    </tr>\n",
       "    <tr>\n",
       "      <th>1435</th>\n",
       "      <td>ID_zteydTpN</td>\n",
       "      <td>The House of Representatives is meeting in Bla...</td>\n",
       "      <td>POLITICS</td>\n",
       "    </tr>\n",
       "  </tbody>\n",
       "</table>\n",
       "</div>"
      ],
      "text/plain": [
       "               ID                                               Text  \\\n",
       "0     ID_AASHwXxg  when a young councilor says that the youth and...   \n",
       "1     ID_AGoFySzn  mcp is not satisfied with the registration of ...   \n",
       "2     ID_AGrrkBGP  The Network of Older Persons Organization (AP)...   \n",
       "3     ID_AIJeigeG  extremist politics are not uncommon to hear th...   \n",
       "4     ID_APMprMbV  It is not uncommon for a police officer to be ...   \n",
       "1431  ID_zmTmmEio  minibus owners say they have the right to rais...   \n",
       "1432  ID_znOlIaGQ  Politicians and non-governmental organizations...   \n",
       "1433  ID_znracTjN  mawu supports non fiction writers the malawi w...   \n",
       "1434  ID_ztdsmmva  tame mwawa pwete then his eating drama is dyin...   \n",
       "1435  ID_zteydTpN  The House of Representatives is meeting in Bla...   \n",
       "\n",
       "              Label  \n",
       "0          POLITICS  \n",
       "1          POLITICS  \n",
       "2            HEALTH  \n",
       "3          POLITICS  \n",
       "4         LAW/ORDER  \n",
       "1431      TRANSPORT  \n",
       "1432       POLITICS  \n",
       "1433      EDUCATION  \n",
       "1434  SOCIAL ISSUES  \n",
       "1435       POLITICS  "
      ]
     },
     "execution_count": 4,
     "metadata": {},
     "output_type": "execute_result"
    }
   ],
   "source": [
    "print(f\"Shape : {news_data.shape}, \\n\\nColumns: {news_data.columns}, \\n\\nCategories: {news_data.Label.unique()}\")\n",
    "\n",
    "# print sample data\n",
    "news_data.head().append(news_data.tail())"
   ]
  },
  {
   "cell_type": "code",
   "execution_count": 6,
   "metadata": {},
   "outputs": [
    {
     "data": {
      "image/png": "[encoded data removed]",
      "text/plain": [
       "<Figure size 720x432 with 1 Axes>"
      ]
     },
     "metadata": {
      "needs_background": "light"
     },
     "output_type": "display_data"
    }
   ],
   "source": [
    "# Plot category data\n",
    "plt.figure(figsize=(10,6))\n",
    "sns.countplot(news_data.Label)\n",
    "plt.show()"
   ]
  },
  {
   "cell_type": "markdown",
   "metadata": {},
   "source": [
    "## Data Preparation"
   ]
  },
  {
   "cell_type": "code",
   "execution_count": 9,
   "metadata": {},
   "outputs": [],
   "source": [
    "class DataPreparation:\n",
    "    def __init__(self, data, column='Text'):\n",
    "        self.df = data\n",
    "        self.column = column\n",
    "    \n",
    "    def preprocess(self):\n",
    "        self.tokenize()\n",
    "        self.remove_stopwords()\n",
    "        self.remove_non_words()\n",
    "        self.lemmatize_words()\n",
    "        \n",
    "        return self.df\n",
    "    \n",
    "    def tokenize(self):\n",
    "        self.df['clean_text'] = self.df[self.column].apply(nltk.word_tokenize)\n",
    "        print(\"Tokenization is done.\")\n",
    "    \n",
    "    def remove_stopwords(self):\n",
    "        stopword_set = set(nltk.corpus.stopwords.words('english'))\n",
    "        \n",
    "        rem_stopword = lambda words: [item for item in words if item not in stopword_set]\n",
    "        \n",
    "        self.df['clean_text'] = self.df['clean_text'].apply(rem_stopword)\n",
    "        print(\"Remove stopwords done.\")\n",
    "    \n",
    "    def remove_non_words(self):\n",
    "        \"\"\"\n",
    "            Remove all non alpha characters from the text data\n",
    "            :numbers: 0-9\n",
    "            :punctuation: All english punctuations\n",
    "            :special characters: All english special characters\n",
    "        \"\"\"\n",
    "        regpatrn = '[a-z]+'\n",
    "        rem_special_chars = lambda x: [item for item in x if re.match(regpatrn, item)]\n",
    "        self.df['clean_text'] = self.df['clean_text'].apply(rem_special_chars)\n",
    "        print(\"Removed non english characters is done.\")\n",
    "        \n",
    "    def lemmatize_words(self):\n",
    "        lemma = nltk.stem.wordnet.WordNetLemmatizer()\n",
    "        \n",
    "        on_word_lemma = lambda x: [lemma.lemmatize(w, pos='v') for w in x]\n",
    "        \n",
    "        self.df['clean_text'] = self.df['clean_text'].apply(on_word_lemma)\n",
    "        print(\"Lemmatization on the words.\")"
   ]
  },
  {
   "cell_type": "code",
   "execution_count": 10,
   "metadata": {},
   "outputs": [
    {
     "name": "stdout",
     "output_type": "stream",
     "text": [
      "Tokenization is done.\n",
      "Remove stopwords done.\n",
      "Removed non english characters is done.\n",
      "Lemmatization on the words.\n"
     ]
    }
   ],
   "source": [
    "data_prep = DataPreparation(news_data)\n",
    "\n",
    "cleanse_df = data_prep.preprocess()"
   ]
  },
  {
   "cell_type": "code",
   "execution_count": 11,
   "metadata": {},
   "outputs": [
    {
     "data": {
      "text/plain": [
       "0       [young, councilor, say, youth, leaders, tomorr...\n",
       "1       [mcp, satisfy, registration, malawi, congress,...\n",
       "2       [call, government, agencies, provide, better, ...\n",
       "3       [extremist, politics, uncommon, hear, politici...\n",
       "4       [uncommon, police, officer, state, shock, unco...\n",
       "                              ...                        \n",
       "1431    [minibus, owners, say, right, raise, price, on...\n",
       "1432    [non-governmental, organizations, apologize, i...\n",
       "1433    [mawu, support, non, fiction, writers, malawi,...\n",
       "1434    [tame, mwawa, pwete, eat, drama, die, one, gam...\n",
       "1435    [meet, discuss, issue, regional, councils, aus...\n",
       "Name: clean_text, Length: 1436, dtype: object"
      ]
     },
     "execution_count": 11,
     "metadata": {},
     "output_type": "execute_result"
    }
   ],
   "source": [
    "cleanse_df['clean_text']"
   ]
  },
  {
   "cell_type": "markdown",
   "metadata": {},
   "source": [
    "## Feature Engineering"
   ]
  },
  {
   "cell_type": "code",
   "execution_count": 12,
   "metadata": {},
   "outputs": [],
   "source": [
    "vec_model = Word2Vec(cleanse_df['clean_text'])\n",
    "\n",
    "w2v = dict(zip(vec_model.wv.index2word, vec_model.wv.syn0))"
   ]
  },
  {
   "cell_type": "markdown",
   "metadata": {},
   "source": [
    "## Classification with Custom Vectorizer"
   ]
  },
  {
   "cell_type": "code",
   "execution_count": 13,
   "metadata": {},
   "outputs": [],
   "source": [
    "class Vectorizer(object):\n",
    "    def __init__(self, vec):\n",
    "        self.vec = vec\n",
    "        self.dim = len(vec.values())\n",
    "        \n",
    "    def fit(self, X, y):\n",
    "        return self\n",
    "    \n",
    "    def transform(self, X):\n",
    "        return np.array([np.mean([self.vec[w] for w in words if w in self.vec] or [np.zeros(self.dim)], axis=0) for words in X])\n",
    "    \n",
    "\n",
    "    \n",
    "\n",
    "# Classifier class\n",
    "class Classifier(object):\n",
    "    def __init__(self, model, param):\n",
    "        self.model = model\n",
    "        self.param = param\n",
    "        self.gsearch = GridSearchCV(self.model, self.param, cv=5, error_score=0, refit=True)\n",
    "        \n",
    "    def fit(self, X, y):\n",
    "        return self.gsearch.fit(X, y)\n",
    "    \n",
    "    def predict(self, X):\n",
    "        return self.gsearch.predict(X)\n",
    "\n",
    "clf_models = {\n",
    "    'Naive Bayes': GaussianNB(),\n",
    "    'SVC': SVC(),\n",
    "    'Decision Tree': DecisionTreeClassifier(),\n",
    "    'SGD Classifier': SGDClassifier(),\n",
    "    'Perceptron': MLPClassifier()\n",
    "}\n",
    "\n",
    "clf_params = {\n",
    "    'Naive Bayes': {},\n",
    "    'SVC' : {'kernel': ['linear', 'rbf']},\n",
    "    'Decision Tree': {'min_samples_split': [2, 5]},\n",
    "    'SGD Classifier': { 'penalty': ['l2', 'l1', 'elasticnet'] },\n",
    "    'Perceptron': {'activation': ['tanh', 'relu']}\n",
    "}"
   ]
  },
  {
   "cell_type": "markdown",
   "metadata": {},
   "source": [
    "## Split the dataset"
   ]
  },
  {
   "cell_type": "code",
   "execution_count": 14,
   "metadata": {},
   "outputs": [
    {
     "data": {
      "text/html": [
       "<div>\n",
       "<style scoped>\n",
       "    .dataframe tbody tr th:only-of-type {\n",
       "        vertical-align: middle;\n",
       "    }\n",
       "\n",
       "    .dataframe tbody tr th {\n",
       "        vertical-align: top;\n",
       "    }\n",
       "\n",
       "    .dataframe thead th {\n",
       "        text-align: right;\n",
       "    }\n",
       "</style>\n",
       "<table border=\"1\" class=\"dataframe\">\n",
       "  <thead>\n",
       "    <tr style=\"text-align: right;\">\n",
       "      <th></th>\n",
       "      <th>ID</th>\n",
       "      <th>Text</th>\n",
       "      <th>Label</th>\n",
       "      <th>clean_text</th>\n",
       "    </tr>\n",
       "  </thead>\n",
       "  <tbody>\n",
       "    <tr>\n",
       "      <th>0</th>\n",
       "      <td>ID_AASHwXxg</td>\n",
       "      <td>when a young councilor says that the youth and...</td>\n",
       "      <td>POLITICS</td>\n",
       "      <td>[young, councilor, say, youth, leaders, tomorr...</td>\n",
       "    </tr>\n",
       "    <tr>\n",
       "      <th>1</th>\n",
       "      <td>ID_AGoFySzn</td>\n",
       "      <td>mcp is not satisfied with the registration of ...</td>\n",
       "      <td>POLITICS</td>\n",
       "      <td>[mcp, satisfy, registration, malawi, congress,...</td>\n",
       "    </tr>\n",
       "    <tr>\n",
       "      <th>2</th>\n",
       "      <td>ID_AGrrkBGP</td>\n",
       "      <td>The Network of Older Persons Organization (AP)...</td>\n",
       "      <td>HEALTH</td>\n",
       "      <td>[call, government, agencies, provide, better, ...</td>\n",
       "    </tr>\n",
       "    <tr>\n",
       "      <th>3</th>\n",
       "      <td>ID_AIJeigeG</td>\n",
       "      <td>extremist politics are not uncommon to hear th...</td>\n",
       "      <td>POLITICS</td>\n",
       "      <td>[extremist, politics, uncommon, hear, politici...</td>\n",
       "    </tr>\n",
       "    <tr>\n",
       "      <th>4</th>\n",
       "      <td>ID_APMprMbV</td>\n",
       "      <td>It is not uncommon for a police officer to be ...</td>\n",
       "      <td>LAW/ORDER</td>\n",
       "      <td>[uncommon, police, officer, state, shock, unco...</td>\n",
       "    </tr>\n",
       "    <tr>\n",
       "      <th>...</th>\n",
       "      <td>...</td>\n",
       "      <td>...</td>\n",
       "      <td>...</td>\n",
       "      <td>...</td>\n",
       "    </tr>\n",
       "    <tr>\n",
       "      <th>1431</th>\n",
       "      <td>ID_zmTmmEio</td>\n",
       "      <td>minibus owners say they have the right to rais...</td>\n",
       "      <td>TRANSPORT</td>\n",
       "      <td>[minibus, owners, say, right, raise, price, on...</td>\n",
       "    </tr>\n",
       "    <tr>\n",
       "      <th>1432</th>\n",
       "      <td>ID_znOlIaGQ</td>\n",
       "      <td>Politicians and non-governmental organizations...</td>\n",
       "      <td>POLITICS</td>\n",
       "      <td>[non-governmental, organizations, apologize, i...</td>\n",
       "    </tr>\n",
       "    <tr>\n",
       "      <th>1433</th>\n",
       "      <td>ID_znracTjN</td>\n",
       "      <td>mawu supports non fiction writers the malawi w...</td>\n",
       "      <td>EDUCATION</td>\n",
       "      <td>[mawu, support, non, fiction, writers, malawi,...</td>\n",
       "    </tr>\n",
       "    <tr>\n",
       "      <th>1434</th>\n",
       "      <td>ID_ztdsmmva</td>\n",
       "      <td>tame mwawa pwete then his eating drama is dyin...</td>\n",
       "      <td>SOCIAL ISSUES</td>\n",
       "      <td>[tame, mwawa, pwete, eat, drama, die, one, gam...</td>\n",
       "    </tr>\n",
       "    <tr>\n",
       "      <th>1435</th>\n",
       "      <td>ID_zteydTpN</td>\n",
       "      <td>The House of Representatives is meeting in Bla...</td>\n",
       "      <td>POLITICS</td>\n",
       "      <td>[meet, discuss, issue, regional, councils, aus...</td>\n",
       "    </tr>\n",
       "  </tbody>\n",
       "</table>\n",
       "<p>1436 rows × 4 columns</p>\n",
       "</div>"
      ],
      "text/plain": [
       "               ID                                               Text  \\\n",
       "0     ID_AASHwXxg  when a young councilor says that the youth and...   \n",
       "1     ID_AGoFySzn  mcp is not satisfied with the registration of ...   \n",
       "2     ID_AGrrkBGP  The Network of Older Persons Organization (AP)...   \n",
       "3     ID_AIJeigeG  extremist politics are not uncommon to hear th...   \n",
       "4     ID_APMprMbV  It is not uncommon for a police officer to be ...   \n",
       "...           ...                                                ...   \n",
       "1431  ID_zmTmmEio  minibus owners say they have the right to rais...   \n",
       "1432  ID_znOlIaGQ  Politicians and non-governmental organizations...   \n",
       "1433  ID_znracTjN  mawu supports non fiction writers the malawi w...   \n",
       "1434  ID_ztdsmmva  tame mwawa pwete then his eating drama is dyin...   \n",
       "1435  ID_zteydTpN  The House of Representatives is meeting in Bla...   \n",
       "\n",
       "              Label                                         clean_text  \n",
       "0          POLITICS  [young, councilor, say, youth, leaders, tomorr...  \n",
       "1          POLITICS  [mcp, satisfy, registration, malawi, congress,...  \n",
       "2            HEALTH  [call, government, agencies, provide, better, ...  \n",
       "3          POLITICS  [extremist, politics, uncommon, hear, politici...  \n",
       "4         LAW/ORDER  [uncommon, police, officer, state, shock, unco...  \n",
       "...             ...                                                ...  \n",
       "1431      TRANSPORT  [minibus, owners, say, right, raise, price, on...  \n",
       "1432       POLITICS  [non-governmental, organizations, apologize, i...  \n",
       "1433      EDUCATION  [mawu, support, non, fiction, writers, malawi,...  \n",
       "1434  SOCIAL ISSUES  [tame, mwawa, pwete, eat, drama, die, one, gam...  \n",
       "1435       POLITICS  [meet, discuss, issue, regional, councils, aus...  \n",
       "\n",
       "[1436 rows x 4 columns]"
      ]
     },
     "execution_count": 14,
     "metadata": {},
     "output_type": "execute_result"
    }
   ],
   "source": [
    "cleanse_df"
   ]
  },
  {
   "cell_type": "code",
   "execution_count": 15,
   "metadata": {},
   "outputs": [],
   "source": [
    "X_train, X_valid, y_train, y_valid = train_test_split(cleanse_df['clean_text'], cleanse_df['Label'], test_size=0.2, shuffle=True)"
   ]
  },
  {
   "cell_type": "code",
   "execution_count": 16,
   "metadata": {},
   "outputs": [
    {
     "name": "stdout",
     "output_type": "stream",
     "text": [
      "Naive Bayes :\n",
      "Accuracy: 0.188 \tPrecision: 0.220 \tRecall: 0.186 \tF1-Score: 0.137\n",
      "\n",
      "SVC :\n",
      "Accuracy: 0.292 \tPrecision: 0.121 \tRecall: 0.098 \tF1-Score: 0.071\n",
      "\n",
      "Decision Tree :\n",
      "Accuracy: 0.354 \tPrecision: 0.232 \tRecall: 0.224 \tF1-Score: 0.222\n",
      "\n",
      "SGD Classifier :\n",
      "Accuracy: 0.403 \tPrecision: 0.313 \tRecall: 0.203 \tF1-Score: 0.216\n",
      "\n",
      "Perceptron :\n",
      "Accuracy: 0.434 \tPrecision: 0.183 \tRecall: 0.209 \tF1-Score: 0.191\n",
      "\n"
     ]
    }
   ],
   "source": [
    "# Iterate through the model names\n",
    "for key in clf_models.keys():\n",
    "    \n",
    "    clf = Pipeline([('Word2Vec', Vectorizer(w2v)), ('Classifier', Classifier(clf_models[key], clf_params[key]))])\n",
    "    \n",
    "    # Fitting the data\n",
    "    clf.fit(X_train, y_train)\n",
    "    \n",
    "    y_preds = clf.predict(X_valid)\n",
    "    \n",
    "    \n",
    "    print(key, \":\")\n",
    "    print(\"Accuracy: %1.3f \\tPrecision: %1.3f \\tRecall: %1.3f \\tF1-Score: %1.3f\\n\" % (accuracy_score(y_valid, y_preds),\n",
    "                                                                                     precision_score(y_valid, y_preds, average='macro'),\n",
    "                                                                                     recall_score(y_valid, y_preds, average='macro'),\n",
    "                                                                                     f1_score(y_valid, y_preds, average='macro')))"
   ]
  },
  {
   "cell_type": "markdown",
   "metadata": {},
   "source": [
    "## Vectorization using TFIDF"
   ]
  },
  {
   "cell_type": "code",
   "execution_count": 17,
   "metadata": {},
   "outputs": [],
   "source": [
    "def vectorize(vector, X_train, X_test):\n",
    "    vector_fit = vector.fit(X_train)\n",
    "    \n",
    "    X_train_vec = vector_fit.transform(X_train)\n",
    "    X_test_vec = vector_fit.transform(X_test)\n",
    "    \n",
    "    print(\"Vectorization is completed.\")\n",
    "    return X_train_vec, X_test_vec\n",
    "\n",
    "def label_encoding(y_train):\n",
    "    \"\"\"\n",
    "        Encode the given list of class labels\n",
    "        :y_train_enc: returns list of encoded classes\n",
    "        :labels: actual class labels\n",
    "    \"\"\"\n",
    "    lbl_enc = LabelEncoder()\n",
    "    \n",
    "    y_train_enc = lbl_enc.fit_transform(y_train)\n",
    "    labels = lbl_enc.classes_\n",
    "    \n",
    "    return y_train_enc, labels\n",
    "\n",
    "def algorithm_stack(models, params, X_train, X_test, y_train, y_test):\n",
    "    \n",
    "    if not set(models.keys()).issubset(set(params.keys())):\n",
    "        raise ValueError('Keys do not match')\n",
    "        \n",
    "    for key in models.keys():\n",
    "        model = models[key]\n",
    "        param = params[key]\n",
    "        \n",
    "        gs = GridSearchCV(model, param, cv=5, error_score=0, refit=True)\n",
    "        gs.fit(X_train, y_train)\n",
    "        \n",
    "        y_pred = gs.predict(X_test)\n",
    "        \n",
    "        print(key, \":\")\n",
    "        print(\"Accuracy: %1.3f \\tPrecision: %1.3f \\tRecall: %1.3f \\tF1-Score: %1.3f\\n\" % (accuracy_score(y_test, y_pred),\n",
    "                                                                                     precision_score(y_test, y_pred, average='macro'),\n",
    "                                                                                     recall_score(y_test, y_pred, average='macro'),\n",
    "                                                                                     f1_score(y_test, y_pred, average='macro')))\n",
    "    return\n"
   ]
  },
  {
   "cell_type": "code",
   "execution_count": 18,
   "metadata": {},
   "outputs": [
    {
     "name": "stdout",
     "output_type": "stream",
     "text": [
      "Vectorization is completed.\n",
      "(1148, 12564) (288, 12564)\n"
     ]
    }
   ],
   "source": [
    "# Encode the class labels\n",
    "y_enc_train, labels = label_encoding(news_data['Label'])\n",
    "\n",
    "# Split from the loaded dataset\n",
    "X_train, X_valid, y_train, y_test = train_test_split(news_data['Text'], y_enc_train, test_size=0.2, shuffle=True,random_state = 0)\n",
    "\n",
    "# TFIDFVectorizer \n",
    "X_train_vec, X_valid_vec = vectorize(TfidfVectorizer(), X_train, X_valid)\n",
    "\n",
    "print(X_train_vec.shape, X_valid_vec.shape)\n",
    "\n",
    "clf_models = {\n",
    "    'Naive Bayes': MultinomialNB(),\n",
    "    'SVC': SVC(),\n",
    "    'Decision Tree': DecisionTreeClassifier(),\n",
    "    'SGD Classifier': SGDClassifier(),\n",
    "    'Perceptron': MLPClassifier()\n",
    "}\n",
    "\n",
    "\n",
    "# Modified parameters\n",
    "clf_params = {\n",
    "    'Naive Bayes': {'alpha': [0.5, 1], 'fit_prior': [True, False] },\n",
    "    'SVC' : {'kernel': ['linear', 'rbf']},\n",
    "    'Decision Tree': {'min_samples_split': [1, 2, 5]},\n",
    "    'SGD Classifier': { 'penalty': ['l2', 'l1', 'elasticnet'] },\n",
    "    'Perceptron': {'alpha': [0.0001, 0.001], 'activation': ['tanh', 'relu']}\n",
    "}"
   ]
  },
  {
   "cell_type": "code",
   "execution_count": 19,
   "metadata": {},
   "outputs": [
    {
     "data": {
      "text/plain": [
       "array([15,  7,  2, ..., 11,  3, 13])"
      ]
     },
     "execution_count": 19,
     "metadata": {},
     "output_type": "execute_result"
    }
   ],
   "source": [
    "y_train"
   ]
  },
  {
   "cell_type": "code",
   "execution_count": 20,
   "metadata": {},
   "outputs": [
    {
     "name": "stdout",
     "output_type": "stream",
     "text": [
      "Naive Bayes :\n",
      "Accuracy: 0.351 \tPrecision: 0.287 \tRecall: 0.165 \tF1-Score: 0.160\n",
      "\n",
      "SVC :\n",
      "Accuracy: 0.604 \tPrecision: 0.444 \tRecall: 0.409 \tF1-Score: 0.412\n",
      "\n",
      "Decision Tree :\n",
      "Accuracy: 0.403 \tPrecision: 0.294 \tRecall: 0.326 \tF1-Score: 0.294\n",
      "\n",
      "SGD Classifier :\n",
      "Accuracy: 0.562 \tPrecision: 0.480 \tRecall: 0.498 \tF1-Score: 0.461\n",
      "\n",
      "Perceptron :\n",
      "Accuracy: 0.615 \tPrecision: 0.490 \tRecall: 0.429 \tF1-Score: 0.433\n",
      "\n"
     ]
    }
   ],
   "source": [
    "algorithm_stack(clf_models, clf_params, X_train_vec, X_valid_vec, y_train, y_test)"
   ]
  },
  {
   "cell_type": "code",
   "execution_count": null,
   "metadata": {},
   "outputs": [],
   "source": []
  }
 ],
 "metadata": {
  "kernelspec": {
   "display_name": "Python 3",
   "language": "python",
   "name": "python3"
  },
  "language_info": {
   "codemirror_mode": {
    "name": "ipython",
    "version": 3
   },
   "file_extension": ".py",
   "mimetype": "text/x-python",
   "name": "python",
   "nbconvert_exporter": "python",
   "pygments_lexer": "ipython3",
   "version": "3.7.4"
  }
 },
 "nbformat": 4,
 "nbformat_minor": 4
}
