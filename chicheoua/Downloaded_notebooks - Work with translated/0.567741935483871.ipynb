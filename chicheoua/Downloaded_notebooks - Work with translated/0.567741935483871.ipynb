{
 "cells": [
  {
   "cell_type": "code",
   "execution_count": 1,
   "metadata": {
    "_uuid": "6e33d72836cf1df501fe5c7d4df38f8131b72b80",
    "colab": {
     "autoexec": {
      "startup": false,
      "wait_interval": 0
     },
     "base_uri": "https://localhost:8080/",
     "height": 35
    },
    "colab_type": "code",
    "executionInfo": {
     "elapsed": 2118,
     "status": "ok",
     "timestamp": 1529968185252,
     "user": {
      "displayName": "Yufeng Guo",
      "photoUrl": "//lh3.googleusercontent.com/-yh4ovY5HFlY/AAAAAAAAAAI/AAAAAAAAACk/ySd8O1k5o5s/s50-c-k-no/photo.jpg",
      "userId": "112030861868146149303"
     },
     "user_tz": 240
    },
    "id": "ZCXNyqFq7vY8",
    "outputId": "ec7dfb3c-88e1-478b-ec4a-08a667fa5698"
   },
   "outputs": [
    {
     "name": "stdout",
     "output_type": "stream",
     "text": [
      "You have TensorFlow version 2.3.0\n"
     ]
    }
   ],
   "source": [
    "\n",
    "# This Python 3 environment comes with many helpful analytics libraries installed\n",
    "# It is defined by the kaggle/python docker image: https://github.com/kaggle/docker-python\n",
    "# For example, here's several helpful packages to load in \n",
    "\n",
    "import numpy as np # linear algebra\n",
    "import pandas as pd # data processing, CSV file I/O (e.g. pd.read_csv)\n",
    "\n",
    "# Input data files are available in the \"../input/\" directory.\n",
    "# For example, running this (by clicking run or pressing Shift+Enter) will list the files in the input directory\n",
    "\n",
    "import os\n",
    "# print(os.listdir(\"../input\"))\n",
    "\n",
    "# Any results you write to the current directory are saved as output.\n",
    "import itertools\n",
    "import os\n",
    "\n",
    "%matplotlib inline\n",
    "import matplotlib.pyplot as plt\n",
    "import numpy as np\n",
    "import pandas as pd\n",
    "import tensorflow as tf\n",
    "\n",
    "from sklearn.preprocessing import LabelBinarizer, LabelEncoder\n",
    "from sklearn.metrics import confusion_matrix\n",
    "\n",
    "from tensorflow import keras\n",
    "layers = keras.layers\n",
    "models = keras.models\n",
    "\n",
    "\n",
    "# This code was tested with TensorFlow v1.8\n",
    "print(\"You have TensorFlow version\", tf.__version__)"
   ]
  },
  {
   "cell_type": "markdown",
   "metadata": {
    "_uuid": "1a068e9906a1b8c0fc8fc3145b064467135a212f",
    "colab_type": "text",
    "id": "m6si-xluXrW6"
   },
   "source": [
    "## Get the data\n",
    "The data has been exported from BigQuery and is stored on GCS, and can be access directly via \n",
    "\n",
    "  `!gsutil cp gs://dataset-uploader/bbc/bbc-text.csv .`\n",
    "\n",
    "It can also be accessed via https://storage.googleapis.com/dataset-uploader/bbc/bbc-text.csv "
   ]
  },
  {
   "cell_type": "code",
   "execution_count": 3,
   "metadata": {
    "_uuid": "3def70f0527177e1e6fdfd024b79804402e9c088",
    "colab": {
     "autoexec": {
      "startup": false,
      "wait_interval": 0
     },
     "base_uri": "https://localhost:8080/",
     "height": 37
    },
    "colab_type": "code",
    "executionInfo": {
     "elapsed": 891,
     "status": "ok",
     "timestamp": 1529968248939,
     "user": {
      "displayName": "Yufeng Guo",
      "photoUrl": "//lh3.googleusercontent.com/-yh4ovY5HFlY/AAAAAAAAAAI/AAAAAAAAACk/ySd8O1k5o5s/s50-c-k-no/photo.jpg",
      "userId": "112030861868146149303"
     },
     "user_tz": 240
    },
    "id": "PBJ8CTYL7vZD",
    "outputId": "f0cb9078-369b-4f39-d1b5-a2bb4936a392"
   },
   "outputs": [],
   "source": [
    "import re\n",
    "TRAIN_FILEPATH = \"../Translated/cleaned/train.csv\"\n",
    "TEST_FILEPATH = \"../Translated/cleaned/test.csv\"\n",
    "SS_FILEPATH = \"../data/SampleSubmission.csv\"\n",
    "VECTORS_FILEPATH = \"\"\n",
    "data = pd.read_csv(TRAIN_FILEPATH)\n",
    "test2 = pd.read_csv(TEST_FILEPATH)\n",
    "ss = pd.read_csv(SS_FILEPATH)\n",
    "def clean_str(string):\n",
    "    \"\"\"\n",
    "    Tokenization/string cleaning for all datasets except for SST.\n",
    "    Every dataset is lower cased except for TREC\n",
    "    \"\"\"\n",
    "    string = re.sub(r\"[^A-Za-z0-9(),!?\\'\\`]\", \" \", string)     \n",
    "    string = re.sub(r\",\", \" \", string) \n",
    "    string = re.sub(r\"!\", \" \", string) \n",
    "    string = re.sub(r\"\\(\", \" \", string) \n",
    "    string = re.sub(r\"\\)\", \" \", string) \n",
    "    string = re.sub(r\"\\?\", \" \", string) \n",
    "    string = re.sub(r\"\\s{2,}\", \" \", string)   \n",
    "    string = re.sub(\" \\d+\", \" \", string)\n",
    "    return  string.strip().lower()\n",
    "data[\"Text\"] =data.Text.apply(lambda x: clean_str(x))\n",
    "test2[\"Text\"] =test2.Text.apply(lambda x: clean_str(x))"
   ]
  },
  {
   "cell_type": "code",
   "execution_count": 4,
   "metadata": {
    "_uuid": "6e09deecd8c20bb3bd2bb792b0622f6d128410d0",
    "colab": {
     "autoexec": {
      "startup": false,
      "wait_interval": 0
     },
     "base_uri": "https://localhost:8080/",
     "height": 204
    },
    "colab_type": "code",
    "executionInfo": {
     "elapsed": 253,
     "status": "ok",
     "timestamp": 1529968252342,
     "user": {
      "displayName": "Yufeng Guo",
      "photoUrl": "//lh3.googleusercontent.com/-yh4ovY5HFlY/AAAAAAAAAAI/AAAAAAAAACk/ySd8O1k5o5s/s50-c-k-no/photo.jpg",
      "userId": "112030861868146149303"
     },
     "user_tz": 240
    },
    "id": "CBtXsyqr7vZG",
    "outputId": "91407087-b090-414d-8c18-acae82d9a26e"
   },
   "outputs": [
    {
     "data": {
      "text/html": [
       "<div>\n",
       "<style scoped>\n",
       "    .dataframe tbody tr th:only-of-type {\n",
       "        vertical-align: middle;\n",
       "    }\n",
       "\n",
       "    .dataframe tbody tr th {\n",
       "        vertical-align: top;\n",
       "    }\n",
       "\n",
       "    .dataframe thead th {\n",
       "        text-align: right;\n",
       "    }\n",
       "</style>\n",
       "<table border=\"1\" class=\"dataframe\">\n",
       "  <thead>\n",
       "    <tr style=\"text-align: right;\">\n",
       "      <th></th>\n",
       "      <th>ID</th>\n",
       "      <th>Text</th>\n",
       "      <th>Label</th>\n",
       "    </tr>\n",
       "  </thead>\n",
       "  <tbody>\n",
       "    <tr>\n",
       "      <th>0</th>\n",
       "      <td>ID_AASHwXxg</td>\n",
       "      <td>mwangonde khansala wachinyamata akamati achiny...</td>\n",
       "      <td>POLITICS</td>\n",
       "    </tr>\n",
       "    <tr>\n",
       "      <th>1</th>\n",
       "      <td>ID_AGoFySzn</td>\n",
       "      <td>mcp siidakhutire ndi kalembera chipani cha mal...</td>\n",
       "      <td>POLITICS</td>\n",
       "    </tr>\n",
       "    <tr>\n",
       "      <th>2</th>\n",
       "      <td>ID_AGrrkBGP</td>\n",
       "      <td>bungwe la manepo lapempha boma liganizire anth...</td>\n",
       "      <td>HEALTH</td>\n",
       "    </tr>\n",
       "    <tr>\n",
       "      <th>3</th>\n",
       "      <td>ID_AIJeigeG</td>\n",
       "      <td>ndale zogawanitsa miyambo zanyanya si zachilen...</td>\n",
       "      <td>POLITICS</td>\n",
       "    </tr>\n",
       "    <tr>\n",
       "      <th>4</th>\n",
       "      <td>ID_APMprMbV</td>\n",
       "      <td>nanga wapolisi ataphofomoka masiku ano sichikh...</td>\n",
       "      <td>LAW/ORDER</td>\n",
       "    </tr>\n",
       "  </tbody>\n",
       "</table>\n",
       "</div>"
      ],
      "text/plain": [
       "            ID                                               Text      Label\n",
       "0  ID_AASHwXxg  mwangonde khansala wachinyamata akamati achiny...   POLITICS\n",
       "1  ID_AGoFySzn  mcp siidakhutire ndi kalembera chipani cha mal...   POLITICS\n",
       "2  ID_AGrrkBGP  bungwe la manepo lapempha boma liganizire anth...     HEALTH\n",
       "3  ID_AIJeigeG  ndale zogawanitsa miyambo zanyanya si zachilen...   POLITICS\n",
       "4  ID_APMprMbV  nanga wapolisi ataphofomoka masiku ano sichikh...  LAW/ORDER"
      ]
     },
     "execution_count": 4,
     "metadata": {},
     "output_type": "execute_result"
    }
   ],
   "source": [
    "data.head()"
   ]
  },
  {
   "cell_type": "code",
   "execution_count": 5,
   "metadata": {
    "_uuid": "483f40036cdc496a43796b88046874c12c19cb76",
    "colab": {
     "autoexec": {
      "startup": false,
      "wait_interval": 0
     },
     "base_uri": "https://localhost:8080/",
     "height": 119
    },
    "colab_type": "code",
    "executionInfo": {
     "elapsed": 239,
     "status": "ok",
     "timestamp": 1529968259350,
     "user": {
      "displayName": "Yufeng Guo",
      "photoUrl": "//lh3.googleusercontent.com/-yh4ovY5HFlY/AAAAAAAAAAI/AAAAAAAAACk/ySd8O1k5o5s/s50-c-k-no/photo.jpg",
      "userId": "112030861868146149303"
     },
     "user_tz": 240
    },
    "id": "CUw2hqtv7vZK",
    "outputId": "609cf652-d7d3-4d3c-bd0b-3457a1d891c7"
   },
   "outputs": [
    {
     "data": {
      "text/plain": [
       "POLITICS                279\n",
       "SOCIAL                  152\n",
       "RELIGION                147\n",
       "LAW/ORDER               136\n",
       "SOCIAL ISSUES           134\n",
       "HEALTH                  127\n",
       "ECONOMY                  86\n",
       "FARMING                  78\n",
       "SPORTS                   49\n",
       "EDUCATION                43\n",
       "RELATIONSHIPS            39\n",
       "WILDLIFE/ENVIRONMENT     36\n",
       "OPINION/ESSAY            26\n",
       "LOCALCHIEFS              25\n",
       "CULTURE                  23\n",
       "WITCHCRAFT               16\n",
       "MUSIC                    15\n",
       "TRANSPORT                11\n",
       "FLOODING                  7\n",
       "ARTS AND CRAFTS           7\n",
       "Name: Label, dtype: int64"
      ]
     },
     "execution_count": 5,
     "metadata": {},
     "output_type": "execute_result"
    }
   ],
   "source": [
    "data['Label'].value_counts()"
   ]
  },
  {
   "cell_type": "code",
   "execution_count": 6,
   "metadata": {
    "_uuid": "bda23ce14c9e6cc07d459ce4f3295dcacfeb88a9",
    "colab": {
     "autoexec": {
      "startup": false,
      "wait_interval": 0
     },
     "base_uri": "https://localhost:8080/",
     "height": 51
    },
    "colab_type": "code",
    "executionInfo": {
     "elapsed": 432,
     "status": "ok",
     "timestamp": 1529968288460,
     "user": {
      "displayName": "Yufeng Guo",
      "photoUrl": "//lh3.googleusercontent.com/-yh4ovY5HFlY/AAAAAAAAAAI/AAAAAAAAACk/ySd8O1k5o5s/s50-c-k-no/photo.jpg",
      "userId": "112030861868146149303"
     },
     "user_tz": 240
    },
    "id": "Ilatvz9j7vZN",
    "outputId": "44f66230-f029-4008-c1fb-c9c705a6e0ae"
   },
   "outputs": [
    {
     "name": "stdout",
     "output_type": "stream",
     "text": [
      "Train size: 1292\n",
      "Test size: 144\n"
     ]
    }
   ],
   "source": [
    "train_size = int(len(data) * .9)\n",
    "print (\"Train size: %d\" % train_size)\n",
    "print (\"Test size: %d\" % (len(data) - train_size))"
   ]
  },
  {
   "cell_type": "code",
   "execution_count": 7,
   "metadata": {
    "_uuid": "6073c1614a697e0bc09c64e8140228d8e9ccd07c",
    "colab": {
     "autoexec": {
      "startup": false,
      "wait_interval": 0
     },
     "base_uri": "https://localhost:8080/",
     "height": 37
    },
    "colab_type": "code",
    "executionInfo": {
     "elapsed": 261,
     "status": "ok",
     "timestamp": 1529968332817,
     "user": {
      "displayName": "Yufeng Guo",
      "photoUrl": "//lh3.googleusercontent.com/-yh4ovY5HFlY/AAAAAAAAAAI/AAAAAAAAACk/ySd8O1k5o5s/s50-c-k-no/photo.jpg",
      "userId": "112030861868146149303"
     },
     "user_tz": 240
    },
    "id": "_WiJBv3E7vZQ",
    "outputId": "0b13b71e-f63b-4211-d5c4-d8b99a4b0d01"
   },
   "outputs": [],
   "source": [
    "def train_test_split(data, train_size):\n",
    "    train = data[:train_size]\n",
    "    test = data[train_size:]\n",
    "    return train, test"
   ]
  },
  {
   "cell_type": "markdown",
   "metadata": {
    "_uuid": "58e07108e5cb00de0e0a274b2225aa8834c43393",
    "colab_type": "text",
    "id": "5u6HXfm_ciaR"
   },
   "source": [
    "## Data preparation\n",
    "There's some work to be done in order for our data to be ready for training.\n",
    "1. First we'll split the data into training and test sets.\n",
    "1. Then we'll tokenize the words (text), and then convert them to a numbered index. \n",
    "1. Next we'll do the same for the labels (categories), by using the `LabelEncoder` utility.\n",
    "1. Finally, we'll convert the labels to a one-hot representation."
   ]
  },
  {
   "cell_type": "code",
   "execution_count": 26,
   "metadata": {},
   "outputs": [
    {
     "data": {
      "text/plain": [
       "0       mwangonde khansala wachinyamata akamati achiny...\n",
       "1       mcp siidakhutire ndi kalembera chipani cha mal...\n",
       "2       bungwe la manepo lapempha boma liganizire anth...\n",
       "3       ndale zogawanitsa miyambo zanyanya si zachilen...\n",
       "4       nanga wapolisi ataphofomoka masiku ano sichikh...\n",
       "                              ...                        \n",
       "2051    kanyongolo wapempha oyimira milandu kuti atsat...\n",
       "2052    amandimenya zikomo gogo ndine mtsikana wa zaka...\n",
       "2053    apolisi athotha gulu la myp asilikali  a gulu ...\n",
       "2054    mwambo wa ukwati wa chitonga mtundu wina uliwo...\n",
       "2055    mwapasa autsa mapiri pamene pali kusamvana pak...\n",
       "Name: Text, Length: 2056, dtype: object"
      ]
     },
     "execution_count": 26,
     "metadata": {},
     "output_type": "execute_result"
    }
   ],
   "source": []
  },
  {
   "cell_type": "code",
   "execution_count": 8,
   "metadata": {
    "_uuid": "4e83f69f4762d5b64929e06c071989456572ee21",
    "colab": {
     "autoexec": {
      "startup": false,
      "wait_interval": 0
     },
     "base_uri": "https://localhost:8080/",
     "height": 37
    },
    "colab_type": "code",
    "executionInfo": {
     "elapsed": 250,
     "status": "ok",
     "timestamp": 1529968339164,
     "user": {
      "displayName": "Yufeng Guo",
      "photoUrl": "//lh3.googleusercontent.com/-yh4ovY5HFlY/AAAAAAAAAAI/AAAAAAAAACk/ySd8O1k5o5s/s50-c-k-no/photo.jpg",
      "userId": "112030861868146149303"
     },
     "user_tz": 240
    },
    "id": "7gs0Skc67vZU",
    "outputId": "36190a1a-8fc5-4dc0-fe28-a8c230372625"
   },
   "outputs": [],
   "source": [
    "train_cat, test_cat = train_test_split(data['Label'], train_size)\n",
    "train_text, test_text = train_test_split(data['Text'], train_size)"
   ]
  },
  {
   "cell_type": "code",
   "execution_count": 27,
   "metadata": {
    "_uuid": "6dc3604d80e5eccadba1e8a9f54d779bf915015f",
    "colab": {
     "autoexec": {
      "startup": false,
      "wait_interval": 0
     },
     "base_uri": "https://localhost:8080/",
     "height": 37
    },
    "colab_type": "code",
    "executionInfo": {
     "elapsed": 349,
     "status": "ok",
     "timestamp": 1529968392523,
     "user": {
      "displayName": "Yufeng Guo",
      "photoUrl": "//lh3.googleusercontent.com/-yh4ovY5HFlY/AAAAAAAAAAI/AAAAAAAAACk/ySd8O1k5o5s/s50-c-k-no/photo.jpg",
      "userId": "112030861868146149303"
     },
     "user_tz": 240
    },
    "id": "ujAGiFCy7vZW",
    "outputId": "5a276274-4fd6-4812-b417-f50747c1060a"
   },
   "outputs": [],
   "source": [
    "max_words = 65000\n",
    "tokenize = keras.preprocessing.text.Tokenizer(num_words=max_words, \n",
    "                                              char_level=False)"
   ]
  },
  {
   "cell_type": "code",
   "execution_count": 28,
   "metadata": {
    "_uuid": "c6f639eb0d6196ea9b1f0c5605913a47206a4f1e",
    "colab": {
     "autoexec": {
      "startup": false,
      "wait_interval": 0
     },
     "base_uri": "https://localhost:8080/",
     "height": 37
    },
    "colab_type": "code",
    "executionInfo": {
     "elapsed": 1734,
     "status": "ok",
     "timestamp": 1529968412683,
     "user": {
      "displayName": "Yufeng Guo",
      "photoUrl": "//lh3.googleusercontent.com/-yh4ovY5HFlY/AAAAAAAAAAI/AAAAAAAAACk/ySd8O1k5o5s/s50-c-k-no/photo.jpg",
      "userId": "112030861868146149303"
     },
     "user_tz": 240
    },
    "id": "Fc384gXv7vZY",
    "outputId": "a2644f11-121b-4287-be3b-58e8d4b79448"
   },
   "outputs": [],
   "source": [
    "tokenize.fit_on_texts(pd.concat([data['Text'],test2['Text'] ], ignore_index = True)) # fit tokenizer to our training text data\n",
    "x_train = tokenize.texts_to_matrix(train_text)\n",
    "x_test = tokenize.texts_to_matrix(test_text)"
   ]
  },
  {
   "cell_type": "code",
   "execution_count": 35,
   "metadata": {},
   "outputs": [],
   "source": [
    "tesst = tokenize.texts_to_matrix(test2['Text'])"
   ]
  },
  {
   "cell_type": "code",
   "execution_count": 29,
   "metadata": {
    "_uuid": "da89fd94cb271dbe37b2deaf020a1992b15173f3",
    "colab": {
     "autoexec": {
      "startup": false,
      "wait_interval": 0
     },
     "base_uri": "https://localhost:8080/",
     "height": 37
    },
    "colab_type": "code",
    "executionInfo": {
     "elapsed": 224,
     "status": "ok",
     "timestamp": 1529968421345,
     "user": {
      "displayName": "Yufeng Guo",
      "photoUrl": "//lh3.googleusercontent.com/-yh4ovY5HFlY/AAAAAAAAAAI/AAAAAAAAACk/ySd8O1k5o5s/s50-c-k-no/photo.jpg",
      "userId": "112030861868146149303"
     },
     "user_tz": 240
    },
    "id": "lwVzFlWb7vZb",
    "outputId": "40c75810-86da-4cde-dc41-ee74df6f1057"
   },
   "outputs": [],
   "source": [
    "# Use sklearn utility to convert label strings to numbered index\n",
    "encoder = LabelEncoder()\n",
    "encoder.fit(train_cat)\n",
    "y_train = encoder.transform(train_cat)\n",
    "y_test = encoder.transform(test_cat)"
   ]
  },
  {
   "cell_type": "code",
   "execution_count": null,
   "metadata": {},
   "outputs": [],
   "source": []
  },
  {
   "cell_type": "code",
   "execution_count": 30,
   "metadata": {
    "_uuid": "7086e7934f8adeabc505aafa8a745f2fb00f2c7c",
    "colab": {
     "autoexec": {
      "startup": false,
      "wait_interval": 0
     },
     "base_uri": "https://localhost:8080/",
     "height": 37
    },
    "colab_type": "code",
    "executionInfo": {
     "elapsed": 231,
     "status": "ok",
     "timestamp": 1529968446804,
     "user": {
      "displayName": "Yufeng Guo",
      "photoUrl": "//lh3.googleusercontent.com/-yh4ovY5HFlY/AAAAAAAAAAI/AAAAAAAAACk/ySd8O1k5o5s/s50-c-k-no/photo.jpg",
      "userId": "112030861868146149303"
     },
     "user_tz": 240
    },
    "id": "3bFkgysv7vZf",
    "outputId": "524bd41b-9f55-43f8-9f63-f5d2ba3d4e3e"
   },
   "outputs": [],
   "source": [
    "# Converts the labels to a one-hot representation\n",
    "num_classes = np.max(y_train) + 1\n",
    "y_train = keras.utils.to_categorical(y_train, num_classes)\n",
    "y_test = keras.utils.to_categorical(y_test, num_classes)"
   ]
  },
  {
   "cell_type": "code",
   "execution_count": 31,
   "metadata": {
    "_uuid": "76a85d88ebadf911ad3b8acbadea12b6feb8d943",
    "colab": {
     "autoexec": {
      "startup": false,
      "wait_interval": 0
     },
     "base_uri": "https://localhost:8080/",
     "height": 87
    },
    "colab_type": "code",
    "executionInfo": {
     "elapsed": 329,
     "status": "ok",
     "timestamp": 1529968467789,
     "user": {
      "displayName": "Yufeng Guo",
      "photoUrl": "//lh3.googleusercontent.com/-yh4ovY5HFlY/AAAAAAAAAAI/AAAAAAAAACk/ySd8O1k5o5s/s50-c-k-no/photo.jpg",
      "userId": "112030861868146149303"
     },
     "user_tz": 240
    },
    "id": "nbgyZpkn7vZi",
    "outputId": "c2aaa800-ae4f-4b5f-d86a-8a1782808527"
   },
   "outputs": [
    {
     "name": "stdout",
     "output_type": "stream",
     "text": [
      "x_train shape: (1292, 65000)\n",
      "x_test shape: (144, 65000)\n",
      "y_train shape: (1292, 20)\n",
      "y_test shape: (144, 20)\n"
     ]
    }
   ],
   "source": [
    "# Inspect the dimenstions of our training and test data (this is helpful to debug)\n",
    "print('x_train shape:', x_train.shape)\n",
    "print('x_test shape:', x_test.shape)\n",
    "print('y_train shape:', y_train.shape)\n",
    "print('y_test shape:', y_test.shape)"
   ]
  },
  {
   "cell_type": "markdown",
   "metadata": {
    "_uuid": "5838e4d6eb5f04b731d73507ad74c424cbc61e89",
    "colab_type": "text",
    "id": "ms0L4rJidWRh"
   },
   "source": [
    "## Train the model\n",
    "\n",
    "Build the model using Keras layers and hyperparameters of your choosing. Then call `model.fit()`"
   ]
  },
  {
   "cell_type": "code",
   "execution_count": 31,
   "metadata": {},
   "outputs": [
    {
     "name": "stdout",
     "output_type": "stream",
     "text": [
      "Naive Bayes Accuracy Score ->  31.25\n"
     ]
    }
   ],
   "source": [
    "from sklearn import model_selection, naive_bayes, svm\n",
    "from sklearn.metrics import accuracy_score\n",
    "from sklearn.metrics import classification_report\n",
    "from sklearn.metrics import confusion_matrix\n",
    "Naive = naive_bayes.MultinomialNB()\n",
    "Naive.fit(x_train,y_train)\n",
    "# predict the labels on validation dataset\n",
    "predictions_NB = Naive.predict(x_test)\n",
    "# Use accuracy_score function to get the accuracy\n",
    "print(\"Naive Bayes Accuracy Score -> \",accuracy_score(predictions_NB, y_test)*100)"
   ]
  },
  {
   "cell_type": "code",
   "execution_count": 32,
   "metadata": {},
   "outputs": [
    {
     "name": "stdout",
     "output_type": "stream",
     "text": [
      "SVM Accuracy Score ->  54.861111111111114\n"
     ]
    }
   ],
   "source": [
    "SVM = svm.SVC(C=0.5, kernel='linear', degree=3, gamma='auto')\n",
    "SVM.fit(x_train,y_train)\n",
    "# predict the labels on validation dataset\n",
    "predictions_SVM = SVM.predict(x_test)\n",
    "# Use accuracy_score function to get the accuracy\n",
    "print(\"SVM Accuracy Score -> \",accuracy_score(predictions_SVM, y_test)*100)"
   ]
  },
  {
   "cell_type": "code",
   "execution_count": null,
   "metadata": {},
   "outputs": [],
   "source": []
  },
  {
   "cell_type": "code",
   "execution_count": 14,
   "metadata": {
    "_uuid": "337b7d1e899297a868bb9b5a1eae4c4fb246c623",
    "colab": {
     "autoexec": {
      "startup": false,
      "wait_interval": 0
     },
     "base_uri": "https://localhost:8080/",
     "height": 37
    },
    "colab_type": "code",
    "executionInfo": {
     "elapsed": 221,
     "status": "ok",
     "timestamp": 1529968784862,
     "user": {
      "displayName": "Yufeng Guo",
      "photoUrl": "//lh3.googleusercontent.com/-yh4ovY5HFlY/AAAAAAAAAAI/AAAAAAAAACk/ySd8O1k5o5s/s50-c-k-no/photo.jpg",
      "userId": "112030861868146149303"
     },
     "user_tz": 240
    },
    "id": "Z3MmdGtx7vZl",
    "outputId": "d6a745be-61fb-46ee-c791-29ca80140bca"
   },
   "outputs": [],
   "source": [
    "# This model trains very quickly and 2 epochs are already more than enough\n",
    "# Training for more epochs will likely lead to overfitting on this dataset\n",
    "# You can try tweaking these hyperparamaters when using this model with your own data\n",
    "batch_size = 32\n",
    "epochs = 5\n",
    "drop_ratio = 0.5"
   ]
  },
  {
   "cell_type": "code",
   "execution_count": 32,
   "metadata": {
    "_uuid": "a1bbb4b632904850c9028433065f18825ab35d40",
    "colab": {
     "autoexec": {
      "startup": false,
      "wait_interval": 0
     },
     "base_uri": "https://localhost:8080/",
     "height": 37
    },
    "colab_type": "code",
    "executionInfo": {
     "elapsed": 262,
     "status": "ok",
     "timestamp": 1529968787034,
     "user": {
      "displayName": "Yufeng Guo",
      "photoUrl": "//lh3.googleusercontent.com/-yh4ovY5HFlY/AAAAAAAAAAI/AAAAAAAAACk/ySd8O1k5o5s/s50-c-k-no/photo.jpg",
      "userId": "112030861868146149303"
     },
     "user_tz": 240
    },
    "id": "VT6WEGF-7vZq",
    "outputId": "9af614ad-0dd9-43c3-c3a1-225a7cbab986"
   },
   "outputs": [],
   "source": [
    "# Build the model\n",
    "from keras import backend as K \n",
    "\n",
    "# Do some code, e.g. train and save model\n",
    "\n",
    "K.clear_session()\n",
    "seed_value= 0\n",
    "\n",
    "# 1. Set the `PYTHONHASHSEED` environment variable at a fixed value\n",
    "import os\n",
    "os.environ['PYTHONHASHSEED']=str(seed_value)\n",
    "\n",
    "# 2. Set the `python` built-in pseudo-random generator at a fixed value\n",
    "import random\n",
    "random.seed(seed_value)\n",
    "\n",
    "# 3. Set the `numpy` pseudo-random generator at a fixed value\n",
    "import numpy as np\n",
    "np.random.seed(seed_value)\n",
    "\n",
    "# 4. Set the `tensorflow` pseudo-random generator at a fixed value\n",
    "import tensorflow as tf\n",
    "tf.random.set_seed(seed_value)\n",
    "\n",
    "model = models.Sequential()\n",
    "model.add(layers.Dense(4048, input_shape=(max_words,)))\n",
    "# model.add(layers.BatchNormalization())\n",
    "model.add(layers.Activation('relu'))\n",
    "# model.add(layers.Dropout(drop_ratio))\n",
    "model.add(layers.Dense(2048))\n",
    "# model.add(layers.BatchNormalization())\n",
    "model.add(layers.Activation('relu'))\n",
    "# model.add(layers.Dense(512))\n",
    "# # model.add(layers.BatchNormalization())\n",
    "# model.add(layers.Activation('relu'))\n",
    "# model.add(layers.Dense(128))\n",
    "# # model.add(layers.BatchNormalization())\n",
    "# model.add(layers.Activation('relu'))\n",
    "\n",
    "# model.add(layers.Dropout(drop_ratio))\n",
    "model.add(layers.Dense(num_classes))\n",
    "model.add(layers.Activation('softmax'))\n",
    "\n",
    "model.compile(loss='categorical_crossentropy',\n",
    "              optimizer='adam',\n",
    "              metrics=['accuracy'])"
   ]
  },
  {
   "cell_type": "code",
   "execution_count": 33,
   "metadata": {
    "_uuid": "7e47a98aa3fb3fac7d1a66f226dfdbd73f0200af",
    "colab": {
     "autoexec": {
      "startup": false,
      "wait_interval": 0
     },
     "base_uri": "https://localhost:8080/",
     "height": 122
    },
    "colab_type": "code",
    "executionInfo": {
     "elapsed": 1436,
     "status": "ok",
     "timestamp": 1529968901259,
     "user": {
      "displayName": "Yufeng Guo",
      "photoUrl": "//lh3.googleusercontent.com/-yh4ovY5HFlY/AAAAAAAAAAI/AAAAAAAAACk/ySd8O1k5o5s/s50-c-k-no/photo.jpg",
      "userId": "112030861868146149303"
     },
     "user_tz": 240
    },
    "id": "aZi3ZHVn7vZt",
    "outputId": "2a284ea1-dde6-45a0-842c-823d826a2f81"
   },
   "outputs": [
    {
     "name": "stdout",
     "output_type": "stream",
     "text": [
      "Epoch 1/5\n",
      "37/37 [==============================] - 54s 1s/step - loss: 1.8917 - accuracy: 0.4509 - val_loss: 1.5256 - val_accuracy: 0.5538\n",
      "Epoch 2/5\n",
      "37/37 [==============================] - 51s 1s/step - loss: 0.2171 - accuracy: 0.9570 - val_loss: 1.6193 - val_accuracy: 0.6231\n",
      "Epoch 3/5\n",
      "37/37 [==============================] - 51s 1s/step - loss: 0.0253 - accuracy: 0.9974 - val_loss: 1.7997 - val_accuracy: 0.6154\n",
      "Epoch 4/5\n",
      "37/37 [==============================] - 52s 1s/step - loss: 0.0078 - accuracy: 0.9974 - val_loss: 1.7454 - val_accuracy: 0.6000\n",
      "Epoch 5/5\n",
      "37/37 [==============================] - 52s 1s/step - loss: 0.0031 - accuracy: 0.9983 - val_loss: 1.7420 - val_accuracy: 0.6000\n"
     ]
    }
   ],
   "source": [
    "# model.fit trains the model\n",
    "# The validation_split param tells Keras what % of our training data should be used in the validation set\n",
    "# You can see the validation loss decreasing slowly when you run this\n",
    "# Because val_loss is no longer decreasing we stop training to prevent overfitting\n",
    "history = model.fit(x_train, y_train,\n",
    "                    batch_size=batch_size,\n",
    "                    epochs=epochs,\n",
    "                    verbose=1,\n",
    "                    validation_split=0.1)"
   ]
  },
  {
   "cell_type": "markdown",
   "metadata": {
    "_uuid": "43061a58c33a5d5b9a7667cf2dc07e776362cac9",
    "colab_type": "text",
    "id": "KZ-IXqRtdip6"
   },
   "source": [
    "## Evaluate the model\n",
    "Evaluation is easy. Just call `model.evaluate()`."
   ]
  },
  {
   "cell_type": "code",
   "execution_count": 34,
   "metadata": {
    "_uuid": "cbc23de6b6ff62f33a9174dd64a941097672f3be",
    "colab": {
     "autoexec": {
      "startup": false,
      "wait_interval": 0
     },
     "base_uri": "https://localhost:8080/",
     "height": 68
    },
    "colab_type": "code",
    "executionInfo": {
     "elapsed": 256,
     "status": "ok",
     "timestamp": 1529968989028,
     "user": {
      "displayName": "Yufeng Guo",
      "photoUrl": "//lh3.googleusercontent.com/-yh4ovY5HFlY/AAAAAAAAAAI/AAAAAAAAACk/ySd8O1k5o5s/s50-c-k-no/photo.jpg",
      "userId": "112030861868146149303"
     },
     "user_tz": 240
    },
    "id": "Rp7qGXOI7vZx",
    "outputId": "3f97957f-3961-4342-a76b-112069b139ee"
   },
   "outputs": [
    {
     "name": "stdout",
     "output_type": "stream",
     "text": [
      "5/5 [==============================] - 1s 143ms/step - loss: 1.7580 - accuracy: 0.6111\n",
      "Test loss: 1.7580171823501587\n",
      "Test accuracy: 0.6111111044883728\n"
     ]
    }
   ],
   "source": [
    "# Evaluate the accuracy of our trained model\n",
    "score = model.evaluate(x_test, y_test,\n",
    "                       batch_size=batch_size, verbose=1)\n",
    "print('Test loss:', score[0])\n",
    "print('Test accuracy:', score[1])"
   ]
  },
  {
   "cell_type": "code",
   "execution_count": 37,
   "metadata": {},
   "outputs": [],
   "source": [
    "pred = model.predict(tesst)"
   ]
  },
  {
   "cell_type": "code",
   "execution_count": 50,
   "metadata": {},
   "outputs": [],
   "source": [
    "# pred.idxmax(axis = 1)\n",
    "# encoder.classes_\n",
    "test2['Label'] = encoder.inverse_transform(np.argmax(pred,axis = 1))"
   ]
  },
  {
   "cell_type": "code",
   "execution_count": 54,
   "metadata": {},
   "outputs": [],
   "source": [
    "sub = test2[['ID', 'Label']]"
   ]
  },
  {
   "cell_type": "code",
   "execution_count": 55,
   "metadata": {},
   "outputs": [],
   "source": [
    "sub.to_csv('bbdtccopy1.csv', index=False)"
   ]
  },
  {
   "cell_type": "code",
   "execution_count": 44,
   "metadata": {},
   "outputs": [
    {
     "ename": "ValueError",
     "evalue": "y contains previously unseen labels: [0.12125547 0.17021933 0.17812623 0.20617856 0.21131323 0.21309534\n 0.21882989 0.219577   0.22398123 0.22735713 0.23309939 0.23509465\n 0.24311888 0.24525133 0.2535646  0.25413883 0.25433058 0.25569847\n 0.25783992 0.25839826 0.2599425  0.2612511  0.2662768  0.26662397\n 0.2668605  0.26713452 0.2687354  0.27048677 0.27711403 0.27719718\n 0.27995712 0.28075048 0.2855997  0.28704923 0.29062906 0.29099706\n 0.29197454 0.2932048  0.29380363 0.29774266 0.30222556 0.30292076\n 0.3074179  0.30762085 0.3102441  0.31173643 0.3121684  0.31485343\n 0.31811965 0.32010695 0.32030827 0.3277155  0.3284541  0.3295493\n 0.3322034  0.33412695 0.33610868 0.3368298  0.3395701  0.34082395\n 0.3408484  0.34141093 0.34177706 0.34336495 0.34398943 0.3499107\n 0.3524968  0.3554892  0.35627943 0.35825643 0.35872695 0.3612791\n 0.3620189  0.36241445 0.3712053  0.37784177 0.3841387  0.3859275\n 0.38705185 0.38834545 0.38971168 0.3915831  0.395211   0.40200844\n 0.40416992 0.40757036 0.41001302 0.41675434 0.42348203 0.42512733\n 0.42560694 0.42650822 0.42790976 0.42877486 0.42902926 0.4297299\n 0.43221185 0.43253195 0.43415534 0.43436378 0.43448445 0.43616655\n 0.4383025  0.44150582 0.443746   0.4441896  0.44564447 0.44566023\n 0.44696164 0.45112097 0.45390734 0.45402354 0.4589424  0.46144414\n 0.46435004 0.46616483 0.4686782  0.47142383 0.47411764 0.48212808\n 0.4905765  0.49529183 0.49612942 0.49621665 0.50035197 0.5102958\n 0.5113704  0.5129214  0.51841354 0.5185505  0.5197823  0.5199618\n 0.52071077 0.5210208  0.5225875  0.5261062  0.53091866 0.535008\n 0.54248714 0.5449794  0.5452776  0.5460134  0.54686254 0.5481344\n 0.54818666 0.54892004 0.5494918  0.55578876 0.5575324  0.5579046\n 0.55941427 0.5606714  0.560692   0.5609908  0.5610766  0.5630904\n 0.56953    0.5700575  0.57478464 0.5750516  0.57674587 0.5786665\n 0.5809594  0.5837709  0.5839121  0.5849416  0.58546966 0.58732855\n 0.5897159  0.5929441  0.5943623  0.5980689  0.5984709  0.6009694\n 0.60155594 0.6039082  0.6058023  0.6085006  0.60950994 0.6101084\n 0.6125093  0.61277527 0.6131757  0.61382633 0.61547047 0.62000144\n 0.62011653 0.6215442  0.62574595 0.6280896  0.6282642  0.6304456\n 0.6309605  0.63309616 0.643647   0.6478922  0.64925086 0.6545162\n 0.6545473  0.65513635 0.6558189  0.6567124  0.6568134  0.6570422\n 0.65759    0.6621948  0.6638786  0.6667476  0.6686477  0.6727403\n 0.6730121  0.6776894  0.67773    0.67789364 0.6808992  0.6828904\n 0.6837353  0.68572974 0.6890848  0.6900102  0.69132733 0.69162345\n 0.6964253  0.69643295 0.6970806  0.6984373  0.69873154 0.7027168\n 0.70500654 0.7069476  0.71052647 0.7105603  0.71195865 0.71197915\n 0.71412975 0.71625787 0.7170206  0.7171537  0.71754533 0.7188429\n 0.7195315  0.720068   0.72052747 0.7208409  0.72128105 0.72273284\n 0.7259272  0.72664756 0.7335498  0.73537236 0.7487989  0.74902344\n 0.7490334  0.75307554 0.75859296 0.7589042  0.7608541  0.7614123\n 0.7617008  0.7625687  0.76529855 0.7714343  0.7719454  0.7721662\n 0.77292734 0.7815066  0.7840214  0.7848531  0.7849189  0.78760606\n 0.7887111  0.7887328  0.78982663 0.7928088  0.79363    0.7966663\n 0.7967475  0.79820114 0.7997146  0.800188   0.80092305 0.80137014\n 0.80494153 0.80552727 0.808801   0.811022   0.81646746 0.8189535\n 0.8220871  0.8224183  0.8225098  0.824942   0.8249487  0.825841\n 0.82708365 0.8275031  0.82830733 0.8285949  0.8307251  0.83143634\n 0.83184916 0.8319699  0.83752644 0.8384529  0.8411234  0.84216124\n 0.8450902  0.84572864 0.84746903 0.84942544 0.8501869  0.8524912\n 0.8539707  0.8552533  0.8644045  0.8645595  0.86456    0.86620706\n 0.8679413  0.87234044 0.8768618  0.87708825 0.8792115  0.8803188\n 0.88096046 0.8811066  0.881181   0.88212407 0.88362765 0.8840345\n 0.885256   0.88764715 0.88857067 0.8888222  0.89041567 0.8915207\n 0.8915248  0.89514637 0.89610624 0.89693624 0.8972392  0.8974364\n 0.897475   0.90315205 0.90642124 0.9075813  0.9081222  0.9082702\n 0.9089096  0.9132585  0.91355664 0.9140274  0.91672605 0.9190712\n 0.9201156  0.9203677  0.9268743  0.92746043 0.928423   0.92855865\n 0.92861044 0.92936784 0.9299382  0.9301251  0.9314143  0.9320807\n 0.93512666 0.93636346 0.9364376  0.93695176 0.93728185 0.93925565\n 0.9406487  0.94145995 0.94212604 0.9424164  0.94335556 0.9446763\n 0.94553876 0.9457152  0.94632053 0.9469695  0.94855577 0.9489776\n 0.9494533  0.9499538  0.9505324  0.95122147 0.9517303  0.9518717\n 0.9521577  0.95263064 0.95319957 0.95358044 0.9544333  0.95449805\n 0.95574325 0.9563942  0.957725   0.9579526  0.95859396 0.9587308\n 0.95874286 0.9597837  0.96016806 0.9616476  0.9622392  0.96296656\n 0.96315986 0.963621   0.96377677 0.96398973 0.9642642  0.9646396\n 0.964787   0.9651138  0.9657101  0.96625805 0.9663788  0.967533\n 0.96844506 0.96974576 0.96978945 0.9702056  0.97032905 0.9706373\n 0.97064215 0.9719462  0.97230387 0.97510684 0.9751277  0.97547877\n 0.97619593 0.9767677  0.97761256 0.977796   0.9780667  0.9782317\n 0.9786431  0.97895265 0.97912586 0.9794829  0.9795716  0.97982085\n 0.9800521  0.98025197 0.9810539  0.98151946 0.9827194  0.98366284\n 0.98366886 0.98382884 0.98384285 0.983896   0.9841464  0.9842004\n 0.9845671  0.98479927 0.9848149  0.98546785 0.98580223 0.9863042\n 0.9863941  0.9869354  0.98693836 0.986984   0.98716915 0.9872764\n 0.9873908  0.98805565 0.98805827 0.98836493 0.9885202  0.98865557\n 0.98868513 0.9887186  0.98893905 0.98955894 0.9897681  0.9903391\n 0.9904365  0.9909114  0.9913536  0.9916584  0.991865   0.99218434\n 0.992444   0.99252933 0.99279165 0.99298155 0.9930675  0.9931183\n 0.9934189  0.99355525 0.99367636 0.99408203 0.9941955  0.99464595\n 0.99476814 0.9949025  0.99492466 0.9952272  0.99529535 0.9953376\n 0.99538726 0.99550605 0.99555534 0.99573296 0.9960343  0.9962256\n 0.99624866 0.99639183 0.99680126 0.9969207  0.9970091  0.9970161\n 0.99702966 0.9970727  0.99733585 0.99735165 0.9974853  0.99759114\n 0.9976907  0.99770576 0.9977143  0.99775535 0.9979354  0.99793893\n 0.99804914 0.9981933  0.99820626 0.9982324  0.99829215 0.99831426\n 0.9983871  0.9983878  0.9983885  0.998417   0.99845326 0.99847656\n 0.9984836  0.99850875 0.99853444 0.9985732  0.9985757  0.99864393\n 0.99869436 0.9987276  0.99879265 0.9988231  0.9988294  0.9988727\n 0.99902844 0.9991166  0.9991347  0.99922526 0.9992353  0.9992638\n 0.99930644 0.99935323 0.9993724  0.9993849  0.99939716 0.9994124\n 0.9994136  0.9994228  0.9994325  0.9994931  0.9994935  0.9994981\n 0.9995359  0.99954176 0.9995566  0.9995839  0.99958545 0.9996125\n 0.9996722  0.9996737  0.9996904  0.9997106  0.99975413 0.99976104\n 0.99976116 0.9997756  0.9997775  0.9997869  0.9997876  0.9998424\n 0.99987984 0.99987996 0.9998815  0.9999049  0.9999052  0.9999187\n 0.9999232  0.99992585 0.99992657 0.9999428  0.99995446 0.9999665\n 0.9999778  0.99998033 0.99998236 0.99998426 0.9999851  0.9999888\n 0.99999106 0.9999913  0.9999927  0.9999937  0.9999938  0.9999949\n 0.999995   0.99999523 0.99999535 0.9999968  0.99999714 0.9999994\n 0.99999976]",
     "output_type": "error",
     "traceback": [
      "\u001b[1;31m---------------------------------------------------------------------------\u001b[0m",
      "\u001b[1;31mValueError\u001b[0m                                Traceback (most recent call last)",
      "\u001b[1;32m<ipython-input-44-abfb438036d4>\u001b[0m in \u001b[0;36m<module>\u001b[1;34m\u001b[0m\n\u001b[1;32m----> 1\u001b[1;33m \u001b[0mencoder\u001b[0m\u001b[1;33m.\u001b[0m\u001b[0minverse_transform\u001b[0m\u001b[1;33m(\u001b[0m\u001b[0mpred\u001b[0m\u001b[1;33m.\u001b[0m\u001b[0mmax\u001b[0m\u001b[1;33m(\u001b[0m\u001b[0maxis\u001b[0m \u001b[1;33m=\u001b[0m \u001b[1;36m1\u001b[0m\u001b[1;33m)\u001b[0m\u001b[1;33m)\u001b[0m\u001b[1;33m\u001b[0m\u001b[1;33m\u001b[0m\u001b[0m\n\u001b[0m",
      "\u001b[1;32m~\\AppData\\Local\\Continuum\\anaconda3\\lib\\site-packages\\sklearn\\preprocessing\\_label.py\u001b[0m in \u001b[0;36minverse_transform\u001b[1;34m(self, y)\u001b[0m\n\u001b[0;32m    299\u001b[0m         \u001b[1;32mif\u001b[0m \u001b[0mlen\u001b[0m\u001b[1;33m(\u001b[0m\u001b[0mdiff\u001b[0m\u001b[1;33m)\u001b[0m\u001b[1;33m:\u001b[0m\u001b[1;33m\u001b[0m\u001b[1;33m\u001b[0m\u001b[0m\n\u001b[0;32m    300\u001b[0m             raise ValueError(\n\u001b[1;32m--> 301\u001b[1;33m                     \"y contains previously unseen labels: %s\" % str(diff))\n\u001b[0m\u001b[0;32m    302\u001b[0m         \u001b[0my\u001b[0m \u001b[1;33m=\u001b[0m \u001b[0mnp\u001b[0m\u001b[1;33m.\u001b[0m\u001b[0masarray\u001b[0m\u001b[1;33m(\u001b[0m\u001b[0my\u001b[0m\u001b[1;33m)\u001b[0m\u001b[1;33m\u001b[0m\u001b[1;33m\u001b[0m\u001b[0m\n\u001b[0;32m    303\u001b[0m         \u001b[1;32mreturn\u001b[0m \u001b[0mself\u001b[0m\u001b[1;33m.\u001b[0m\u001b[0mclasses_\u001b[0m\u001b[1;33m[\u001b[0m\u001b[0my\u001b[0m\u001b[1;33m]\u001b[0m\u001b[1;33m\u001b[0m\u001b[1;33m\u001b[0m\u001b[0m\n",
      "\u001b[1;31mValueError\u001b[0m: y contains previously unseen labels: [0.12125547 0.17021933 0.17812623 0.20617856 0.21131323 0.21309534\n 0.21882989 0.219577   0.22398123 0.22735713 0.23309939 0.23509465\n 0.24311888 0.24525133 0.2535646  0.25413883 0.25433058 0.25569847\n 0.25783992 0.25839826 0.2599425  0.2612511  0.2662768  0.26662397\n 0.2668605  0.26713452 0.2687354  0.27048677 0.27711403 0.27719718\n 0.27995712 0.28075048 0.2855997  0.28704923 0.29062906 0.29099706\n 0.29197454 0.2932048  0.29380363 0.29774266 0.30222556 0.30292076\n 0.3074179  0.30762085 0.3102441  0.31173643 0.3121684  0.31485343\n 0.31811965 0.32010695 0.32030827 0.3277155  0.3284541  0.3295493\n 0.3322034  0.33412695 0.33610868 0.3368298  0.3395701  0.34082395\n 0.3408484  0.34141093 0.34177706 0.34336495 0.34398943 0.3499107\n 0.3524968  0.3554892  0.35627943 0.35825643 0.35872695 0.3612791\n 0.3620189  0.36241445 0.3712053  0.37784177 0.3841387  0.3859275\n 0.38705185 0.38834545 0.38971168 0.3915831  0.395211   0.40200844\n 0.40416992 0.40757036 0.41001302 0.41675434 0.42348203 0.42512733\n 0.42560694 0.42650822 0.42790976 0.42877486 0.42902926 0.4297299\n 0.43221185 0.43253195 0.43415534 0.43436378 0.43448445 0.43616655\n 0.4383025  0.44150582 0.443746   0.4441896  0.44564447 0.44566023\n 0.44696164 0.45112097 0.45390734 0.45402354 0.4589424  0.46144414\n 0.46435004 0.46616483 0.4686782  0.47142383 0.47411764 0.48212808\n 0.4905765  0.49529183 0.49612942 0.49621665 0.50035197 0.5102958\n 0.5113704  0.5129214  0.51841354 0.5185505  0.5197823  0.5199618\n 0.52071077 0.5210208  0.5225875  0.5261062  0.53091866 0.535008\n 0.54248714 0.5449794  0.5452776  0.5460134  0.54686254 0.5481344\n 0.54818666 0.54892004 0.5494918  0.55578876 0.5575324  0.5579046\n 0.55941427 0.5606714  0.560692   0.5609908  0.5610766  0.5630904\n 0.56953    0.5700575  0.57478464 0.5750516  0.57674587 0.5786665\n 0.5809594  0.5837709  0.5839121  0.5849416  0.58546966 0.58732855\n 0.5897159  0.5929441  0.5943623  0.5980689  0.5984709  0.6009694\n 0.60155594 0.6039082  0.6058023  0.6085006  0.60950994 0.6101084\n 0.6125093  0.61277527 0.6131757  0.61382633 0.61547047 0.62000144\n 0.62011653 0.6215442  0.62574595 0.6280896  0.6282642  0.6304456\n 0.6309605  0.63309616 0.643647   0.6478922  0.64925086 0.6545162\n 0.6545473  0.65513635 0.6558189  0.6567124  0.6568134  0.6570422\n 0.65759    0.6621948  0.6638786  0.6667476  0.6686477  0.6727403\n 0.6730121  0.6776894  0.67773    0.67789364 0.6808992  0.6828904\n 0.6837353  0.68572974 0.6890848  0.6900102  0.69132733 0.69162345\n 0.6964253  0.69643295 0.6970806  0.6984373  0.69873154 0.7027168\n 0.70500654 0.7069476  0.71052647 0.7105603  0.71195865 0.71197915\n 0.71412975 0.71625787 0.7170206  0.7171537  0.71754533 0.7188429\n 0.7195315  0.720068   0.72052747 0.7208409  0.72128105 0.72273284\n 0.7259272  0.72664756 0.7335498  0.73537236 0.7487989  0.74902344\n 0.7490334  0.75307554 0.75859296 0.7589042  0.7608541  0.7614123\n 0.7617008  0.7625687  0.76529855 0.7714343  0.7719454  0.7721662\n 0.77292734 0.7815066  0.7840214  0.7848531  0.7849189  0.78760606\n 0.7887111  0.7887328  0.78982663 0.7928088  0.79363    0.7966663\n 0.7967475  0.79820114 0.7997146  0.800188   0.80092305 0.80137014\n 0.80494153 0.80552727 0.808801   0.811022   0.81646746 0.8189535\n 0.8220871  0.8224183  0.8225098  0.824942   0.8249487  0.825841\n 0.82708365 0.8275031  0.82830733 0.8285949  0.8307251  0.83143634\n 0.83184916 0.8319699  0.83752644 0.8384529  0.8411234  0.84216124\n 0.8450902  0.84572864 0.84746903 0.84942544 0.8501869  0.8524912\n 0.8539707  0.8552533  0.8644045  0.8645595  0.86456    0.86620706\n 0.8679413  0.87234044 0.8768618  0.87708825 0.8792115  0.8803188\n 0.88096046 0.8811066  0.881181   0.88212407 0.88362765 0.8840345\n 0.885256   0.88764715 0.88857067 0.8888222  0.89041567 0.8915207\n 0.8915248  0.89514637 0.89610624 0.89693624 0.8972392  0.8974364\n 0.897475   0.90315205 0.90642124 0.9075813  0.9081222  0.9082702\n 0.9089096  0.9132585  0.91355664 0.9140274  0.91672605 0.9190712\n 0.9201156  0.9203677  0.9268743  0.92746043 0.928423   0.92855865\n 0.92861044 0.92936784 0.9299382  0.9301251  0.9314143  0.9320807\n 0.93512666 0.93636346 0.9364376  0.93695176 0.93728185 0.93925565\n 0.9406487  0.94145995 0.94212604 0.9424164  0.94335556 0.9446763\n 0.94553876 0.9457152  0.94632053 0.9469695  0.94855577 0.9489776\n 0.9494533  0.9499538  0.9505324  0.95122147 0.9517303  0.9518717\n 0.9521577  0.95263064 0.95319957 0.95358044 0.9544333  0.95449805\n 0.95574325 0.9563942  0.957725   0.9579526  0.95859396 0.9587308\n 0.95874286 0.9597837  0.96016806 0.9616476  0.9622392  0.96296656\n 0.96315986 0.963621   0.96377677 0.96398973 0.9642642  0.9646396\n 0.964787   0.9651138  0.9657101  0.96625805 0.9663788  0.967533\n 0.96844506 0.96974576 0.96978945 0.9702056  0.97032905 0.9706373\n 0.97064215 0.9719462  0.97230387 0.97510684 0.9751277  0.97547877\n 0.97619593 0.9767677  0.97761256 0.977796   0.9780667  0.9782317\n 0.9786431  0.97895265 0.97912586 0.9794829  0.9795716  0.97982085\n 0.9800521  0.98025197 0.9810539  0.98151946 0.9827194  0.98366284\n 0.98366886 0.98382884 0.98384285 0.983896   0.9841464  0.9842004\n 0.9845671  0.98479927 0.9848149  0.98546785 0.98580223 0.9863042\n 0.9863941  0.9869354  0.98693836 0.986984   0.98716915 0.9872764\n 0.9873908  0.98805565 0.98805827 0.98836493 0.9885202  0.98865557\n 0.98868513 0.9887186  0.98893905 0.98955894 0.9897681  0.9903391\n 0.9904365  0.9909114  0.9913536  0.9916584  0.991865   0.99218434\n 0.992444   0.99252933 0.99279165 0.99298155 0.9930675  0.9931183\n 0.9934189  0.99355525 0.99367636 0.99408203 0.9941955  0.99464595\n 0.99476814 0.9949025  0.99492466 0.9952272  0.99529535 0.9953376\n 0.99538726 0.99550605 0.99555534 0.99573296 0.9960343  0.9962256\n 0.99624866 0.99639183 0.99680126 0.9969207  0.9970091  0.9970161\n 0.99702966 0.9970727  0.99733585 0.99735165 0.9974853  0.99759114\n 0.9976907  0.99770576 0.9977143  0.99775535 0.9979354  0.99793893\n 0.99804914 0.9981933  0.99820626 0.9982324  0.99829215 0.99831426\n 0.9983871  0.9983878  0.9983885  0.998417   0.99845326 0.99847656\n 0.9984836  0.99850875 0.99853444 0.9985732  0.9985757  0.99864393\n 0.99869436 0.9987276  0.99879265 0.9988231  0.9988294  0.9988727\n 0.99902844 0.9991166  0.9991347  0.99922526 0.9992353  0.9992638\n 0.99930644 0.99935323 0.9993724  0.9993849  0.99939716 0.9994124\n 0.9994136  0.9994228  0.9994325  0.9994931  0.9994935  0.9994981\n 0.9995359  0.99954176 0.9995566  0.9995839  0.99958545 0.9996125\n 0.9996722  0.9996737  0.9996904  0.9997106  0.99975413 0.99976104\n 0.99976116 0.9997756  0.9997775  0.9997869  0.9997876  0.9998424\n 0.99987984 0.99987996 0.9998815  0.9999049  0.9999052  0.9999187\n 0.9999232  0.99992585 0.99992657 0.9999428  0.99995446 0.9999665\n 0.9999778  0.99998033 0.99998236 0.99998426 0.9999851  0.9999888\n 0.99999106 0.9999913  0.9999927  0.9999937  0.9999938  0.9999949\n 0.999995   0.99999523 0.99999535 0.9999968  0.99999714 0.9999994\n 0.99999976]"
     ]
    }
   ],
   "source": [
    "encoder.inverse_transform(pred.max(axis = 1))"
   ]
  },
  {
   "cell_type": "markdown",
   "metadata": {
    "_uuid": "7f2b44f49bbcdaabad53a3fadb12a92722d65aaf",
    "colab_type": "text",
    "id": "28xNG3mVeFIT"
   },
   "source": [
    "## Hyperparameter tuning"
   ]
  },
  {
   "cell_type": "markdown",
   "metadata": {
    "_uuid": "5e57f531af533325c1184bd0bcf1ff6cf4edc4d0",
    "colab_type": "text",
    "id": "YxoYLyHzeHPu"
   },
   "source": [
    "This is a good time to go back and tweak some parameters such as `epoch`, `batch size`, `dropout ratio`, network structure, activation function, and others, to see if you can improve the accuracy.\n",
    "\n",
    "In this particular case, to make it more challenging, I recommend reducing the max words of the call to `keras.preprocessing.text.Tokenizer`. This will reduce the number of words for each input sample, thus making it more challenging to accurately predict the category. (Notice that not all hyperparameters are necessarily inside the model. This is one such example.)\n",
    "\n",
    "The default was up to 1000 words per article. See what happens when you reduce that number to 200 words, or 50 words, or even fewer. As the evaluation accuracy drops, the effects of your hyperparameter tuning will be more pronounced, with successful adjustments making meaningful improvements to the model performance.\n",
    "\n",
    "To make this process easier to manage, I've encapulated the model definition and training and evaluation calls into one function call. You can add additional parameters as needed."
   ]
  },
  {
   "cell_type": "code",
   "execution_count": null,
   "metadata": {
    "_uuid": "bccfaad25ec2a6db799d5276bcdbc7993a1179ad",
    "colab": {
     "autoexec": {
      "startup": false,
      "wait_interval": 0
     }
    },
    "colab_type": "code",
    "id": "QaOlQpLteGr8"
   },
   "outputs": [],
   "source": [
    "def run_experiment(batch_size, epochs, drop_ratio):\n",
    "  print('batch size: {}, epochs: {}, drop_ratio: {}'.format(\n",
    "      batch_size, epochs, drop_ratio))\n",
    "  model = models.Sequential()\n",
    "  model.add(layers.Dense(2512, input_shape=(max_words,)))\n",
    "  model.add(layers.Activation('relu'))\n",
    "#   model.add(layers.Dropout(drop_ratio))\n",
    "#   model.add(layers.Dense(512))\n",
    "#   model.add(layers.Activation('relu'))\n",
    "#   model.add(layers.Dropout(drop_ratio))\n",
    "  model.add(layers.Dense(num_classes))\n",
    "  model.add(layers.Activation('softmax'))\n",
    "\n",
    "  model.compile(loss='categorical_crossentropy',\n",
    "                optimizer='adam',\n",
    "                metrics=['accuracy'])\n",
    "  history = model.fit(x_train, y_train,\n",
    "                    batch_size=batch_size,\n",
    "                    epochs=epochs,\n",
    "                    verbose=0,\n",
    "                    validation_split=0.1)\n",
    "  score = model.evaluate(x_test, y_test,\n",
    "                       batch_size=batch_size, verbose=0)\n",
    "  print('\\tTest loss:', score[0])\n",
    "  print('\\tTest accuracy:', score[1])"
   ]
  },
  {
   "cell_type": "code",
   "execution_count": null,
   "metadata": {
    "_uuid": "f75ddec1c39edbd391edc2be623361c6b45fc48d",
    "colab": {
     "autoexec": {
      "startup": false,
      "wait_interval": 0
     },
     "base_uri": "https://localhost:8080/",
     "height": 67
    },
    "colab_type": "code",
    "executionInfo": {
     "elapsed": 3431,
     "status": "ok",
     "timestamp": 1528446977868,
     "user": {
      "displayName": "Yufeng Guo",
      "photoUrl": "//lh3.googleusercontent.com/-yh4ovY5HFlY/AAAAAAAAAAI/AAAAAAAAACk/ySd8O1k5o5s/s50-c-k-no/photo.jpg",
      "userId": "112030861868146149303"
     },
     "user_tz": 240
    },
    "id": "pf1q6A6RfUOA",
    "outputId": "f116fdb9-27fa-4a59-dcb4-2c40f77dbc34"
   },
   "outputs": [],
   "source": [
    "batch_size = 32\n",
    "epochs = 2\n",
    "drop_ratio = 0.2\n",
    "run_experiment(batch_size, epochs, drop_ratio)"
   ]
  },
  {
   "cell_type": "markdown",
   "metadata": {
    "_uuid": "9e0aa1e7f4e713903b23dbf567c3d035511924e8",
    "colab_type": "text",
    "id": "7X5sF8ZtgFRY"
   },
   "source": [
    "###Hyperparameter Search\n",
    "\n",
    "You can also automate this process using for-loops and more sophiscated methods of deciding which combinations of hyperparameter values to try out.\n",
    "\n",
    "Exhaustive search is generally not the most elegant way, this is mostly just for illustrative purposes."
   ]
  },
  {
   "cell_type": "code",
   "execution_count": null,
   "metadata": {
    "_uuid": "7cd75fbb89b5c79cc7dea56dc8499ce25604b9a0",
    "colab": {
     "autoexec": {
      "startup": false,
      "wait_interval": 0
     },
     "base_uri": "https://localhost:8080/",
     "height": 1378
    },
    "colab_type": "code",
    "executionInfo": {
     "elapsed": 148484,
     "status": "ok",
     "timestamp": 1528447417461,
     "user": {
      "displayName": "Yufeng Guo",
      "photoUrl": "//lh3.googleusercontent.com/-yh4ovY5HFlY/AAAAAAAAAAI/AAAAAAAAACk/ySd8O1k5o5s/s50-c-k-no/photo.jpg",
      "userId": "112030861868146149303"
     },
     "user_tz": 240
    },
    "id": "fM6eCxpDf-hO",
    "outputId": "1eb2d479-9e5b-47c5-d0fe-59afc41d1eb6"
   },
   "outputs": [],
   "source": [
    "# Note: The data processed for this output had the max text length set to 400.\n",
    "# for batch_size in range(10,31,10):\n",
    "#   for epochs in range(3,15,5):\n",
    "#     for drop_ratio in np.linspace(0.1, 0.5, 3):\n",
    "#       run_experiment(batch_size, epochs, drop_ratio)"
   ]
  },
  {
   "cell_type": "markdown",
   "metadata": {
    "_uuid": "5ebd9f0d1120bb2ac6a65b9239f84431bdc1b181",
    "colab_type": "text",
    "id": "5Kwg1HISdvbJ"
   },
   "source": [
    "## Make some predictions\n",
    "Take some samples from the test dataset and inspect some individual predictions, to ensure that things are sensible.\n"
   ]
  },
  {
   "cell_type": "code",
   "execution_count": null,
   "metadata": {
    "_uuid": "92df624844b469e2464738e1538ec2688c29c8b8",
    "colab": {
     "autoexec": {
      "startup": false,
      "wait_interval": 0
     },
     "base_uri": "https://localhost:8080/",
     "height": 689
    },
    "colab_type": "code",
    "executionInfo": {
     "elapsed": 247,
     "status": "ok",
     "timestamp": 1528444366463,
     "user": {
      "displayName": "Yufeng Guo",
      "photoUrl": "//lh3.googleusercontent.com/-yh4ovY5HFlY/AAAAAAAAAAI/AAAAAAAAACk/ySd8O1k5o5s/s50-c-k-no/photo.jpg",
      "userId": "112030861868146149303"
     },
     "user_tz": 240
    },
    "id": "cZX08a8b7vZz",
    "outputId": "a424c2e3-7d17-4bc8-9d66-45e5b5e55c25"
   },
   "outputs": [],
   "source": [
    "# Here's how to generate a prediction on individual examples\n",
    "text_labels = encoder.classes_ \n",
    "\n",
    "for i in range(10):\n",
    "    prediction = model.predict(np.array([x_test[i]]))\n",
    "    predicted_label = text_labels[np.argmax(prediction)]\n",
    "    print(test_text.iloc[i][:50], \"...\")\n",
    "    print('Actual label:' + test_cat.iloc[i])\n",
    "    print(\"Predicted label: \" + predicted_label + \"\\n\")  "
   ]
  },
  {
   "cell_type": "markdown",
   "metadata": {
    "_uuid": "cffc52f2cf377c9e3b446e8b60c9f1616f5859df",
    "colab_type": "text",
    "id": "9fVPKqatd4wT"
   },
   "source": [
    "## (optional) Extra extra! Visualize the confusion matrix\n",
    "This can help identify which areas were a challenge to get right, if the model is performing poorly."
   ]
  },
  {
   "cell_type": "code",
   "execution_count": null,
   "metadata": {
    "_uuid": "f0ac86d025cc57f48849d33f664bc6f355f196a2",
    "colab": {
     "autoexec": {
      "startup": false,
      "wait_interval": 0
     }
    },
    "colab_type": "code",
    "id": "5iwjnls-7vZ6"
   },
   "outputs": [],
   "source": [
    "y_softmax = model.predict(x_test)\n",
    "\n",
    "y_test_1d = []\n",
    "y_pred_1d = []\n",
    "\n",
    "for i in range(len(y_test)):\n",
    "    probs = y_test[i]\n",
    "    index_arr = np.nonzero(probs)\n",
    "    one_hot_index = index_arr[0].item(0)\n",
    "    y_test_1d.append(one_hot_index)\n",
    "\n",
    "for i in range(0, len(y_softmax)):\n",
    "    probs = y_softmax[i]\n",
    "    predicted_index = np.argmax(probs)\n",
    "    y_pred_1d.append(predicted_index)"
   ]
  },
  {
   "cell_type": "code",
   "execution_count": null,
   "metadata": {
    "_uuid": "a289402f4815e8bc322b12194c1b1b3acdd80931",
    "colab": {
     "autoexec": {
      "startup": false,
      "wait_interval": 0
     }
    },
    "colab_type": "code",
    "id": "7ljbbrdu7vZ9"
   },
   "outputs": [],
   "source": [
    "# This utility function is from the sklearn docs: http://scikit-learn.org/stable/auto_examples/model_selection/plot_confusion_matrix.html\n",
    "def plot_confusion_matrix(cm, classes,\n",
    "                          title='Confusion matrix',\n",
    "                          cmap=plt.cm.Blues):\n",
    "    \"\"\"\n",
    "    This function prints and plots the confusion matrix.\n",
    "    Normalization can be applied by setting `normalize=True`.\n",
    "    \"\"\"\n",
    "\n",
    "    cm = cm.astype('float') / cm.sum(axis=1)[:, np.newaxis]\n",
    "\n",
    "    plt.imshow(cm, interpolation='nearest', cmap=cmap)\n",
    "    plt.title(title, fontsize=30)\n",
    "    plt.colorbar()\n",
    "    tick_marks = np.arange(len(classes))\n",
    "    plt.xticks(tick_marks, classes, rotation=45, fontsize=22)\n",
    "    plt.yticks(tick_marks, classes, fontsize=22)\n",
    "\n",
    "    fmt = '.2f'\n",
    "    thresh = cm.max() / 2.\n",
    "    for i, j in itertools.product(range(cm.shape[0]), range(cm.shape[1])):\n",
    "        plt.text(j, i, format(cm[i, j], fmt),\n",
    "                 horizontalalignment=\"center\",\n",
    "                 color=\"white\" if cm[i, j] > thresh else \"black\")\n",
    "\n",
    "    plt.ylabel('True label', fontsize=25)\n",
    "    plt.xlabel('Predicted label', fontsize=25)"
   ]
  },
  {
   "cell_type": "code",
   "execution_count": null,
   "metadata": {
    "_uuid": "9e0238c7efd8b90aa654f67c258c6513c99fc9ef",
    "colab": {
     "autoexec": {
      "startup": false,
      "wait_interval": 0
     },
     "base_uri": "https://localhost:8080/",
     "height": 1295
    },
    "colab_type": "code",
    "executionInfo": {
     "elapsed": 1000,
     "status": "ok",
     "timestamp": 1528444377842,
     "user": {
      "displayName": "Yufeng Guo",
      "photoUrl": "//lh3.googleusercontent.com/-yh4ovY5HFlY/AAAAAAAAAAI/AAAAAAAAACk/ySd8O1k5o5s/s50-c-k-no/photo.jpg",
      "userId": "112030861868146149303"
     },
     "user_tz": 240
    },
    "id": "53JHPfCB7vZ_",
    "outputId": "9a940bfd-04a2-4ed2-cd7a-9ae4d2521941"
   },
   "outputs": [],
   "source": [
    "cnf_matrix = confusion_matrix(y_test_1d, y_pred_1d)\n",
    "plt.figure(figsize=(24,20))\n",
    "plot_confusion_matrix(cnf_matrix, classes=text_labels, title=\"Confusion matrix\")\n",
    "plt.show()"
   ]
  },
  {
   "cell_type": "code",
   "execution_count": null,
   "metadata": {
    "_uuid": "6c286179093db65f3c0638a92bb5823f46544098",
    "colab": {
     "autoexec": {
      "startup": false,
      "wait_interval": 0
     }
    },
    "colab_type": "code",
    "id": "0H1KIsy77vaC"
   },
   "outputs": [],
   "source": []
  }
 ],
 "metadata": {
  "colab": {
   "collapsed_sections": [],
   "default_view": {},
   "name": "Published BBC text BOW",
   "provenance": [
    {
     "file_id": "1IlP-4XDM1_5NRdR5g_6DbIT-YvdwKGvn",
     "timestamp": 1528444855450
    }
   ],
   "version": "0.3.2",
   "views": {}
  },
  "kernelspec": {
   "display_name": "Python 3",
   "language": "python",
   "name": "python3"
  },
  "language_info": {
   "codemirror_mode": {
    "name": "ipython",
    "version": 3
   },
   "file_extension": ".py",
   "mimetype": "text/x-python",
   "name": "python",
   "nbconvert_exporter": "python",
   "pygments_lexer": "ipython3",
   "version": "3.7.4"
  }
 },
 "nbformat": 4,
 "nbformat_minor": 1
}
