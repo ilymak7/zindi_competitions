{
 "cells": [
  {
   "cell_type": "code",
   "execution_count": 1,
   "metadata": {},
   "outputs": [],
   "source": [
    "import pandas as pd"
   ]
  },
  {
   "cell_type": "code",
   "execution_count": 2,
   "metadata": {},
   "outputs": [],
   "source": [
    "TRAIN_FILEPATH = \"../Translated/cleaned/train.csv\"\n",
    "TEST_FILEPATH = \"../Translated/cleaned/test.csv\"\n",
    "SS_FILEPATH = \"../data/SampleSubmission.csv\"\n",
    "VECTORS_FILEPATH = \"\"\n",
    "train = pd.read_csv(TRAIN_FILEPATH)\n",
    "test = pd.read_csv(TEST_FILEPATH)\n",
    "ss = pd.read_csv(SS_FILEPATH)"
   ]
  },
  {
   "cell_type": "code",
   "execution_count": 3,
   "metadata": {},
   "outputs": [],
   "source": [
    "trans = pd.read_csv('corpus_translated.csv')"
   ]
  },
  {
   "cell_type": "code",
   "execution_count": 7,
   "metadata": {},
   "outputs": [],
   "source": [
    "trans.drop(['Unnamed: 0'],axis = 1, inplace= True)"
   ]
  },
  {
   "cell_type": "code",
   "execution_count": 12,
   "metadata": {},
   "outputs": [],
   "source": [
    "trans['ID'] = pd.concat([train.ID, test.ID], ignore_index = True)"
   ]
  },
  {
   "cell_type": "code",
   "execution_count": 15,
   "metadata": {},
   "outputs": [],
   "source": [
    "trans2 = pd.DataFrame(trans.values, columns = ['Text_translated', 'ID'])"
   ]
  },
  {
   "cell_type": "code",
   "execution_count": 18,
   "metadata": {},
   "outputs": [],
   "source": [
    "trans2 = trans2[['ID', 'Text_translated']]"
   ]
  },
  {
   "cell_type": "code",
   "execution_count": 23,
   "metadata": {},
   "outputs": [],
   "source": [
    "train2 = trans2[:train.shape[0]]\n",
    "test2 = trans2[train.shape[0]:]"
   ]
  },
  {
   "cell_type": "code",
   "execution_count": 33,
   "metadata": {},
   "outputs": [
    {
     "data": {
      "text/plain": [
       "'Prosecution is rampant. Police surveillance in the country has shown that men are the most likely to commit suicide by anyone who takes their lives by suicide or other forms of suicide. Police spokeswoman Maurice Chapola said many men who commit domestic violence run to kill themselves instead of complaining to the victim support unit. vsu chapola says ten men complain to vsu of all people kondwani machano who is a father of two said men are afraid to go to the police when they are worried for fear of being attacked and because most of them do not know how to talk and psychiatrist rist who is also the director of st john of god hospital in mzuzu charles masulani mwale said many men when they have mental problems do not share their concerns with others for fear of looking stupid men are afraid to look pale when they tell others their problems He said research has shown that although many women have suicidal thoughts, most of them do not commit suicide because they follow the cold methods of suicide, while men who are suicidal use dangerous methods to end their lives. He said the problem of suicide was a major one in developed countries where, because people do not know where to go when they have mental problems, we are not used to having a fever or depression. \"At St. John\\'s God\\'s Hospital, more women are in need of help than free men,\" he said, adding that more women are suffering from depression and poverty. Poverty has reached a critical juncture and everything he has tried has not been successful, he said'"
      ]
     },
     "execution_count": 33,
     "metadata": {},
     "output_type": "execute_result"
    }
   ],
   "source": [
    "test2.Text_translated[1436]"
   ]
  },
  {
   "cell_type": "code",
   "execution_count": 34,
   "metadata": {},
   "outputs": [
    {
     "data": {
      "text/plain": [
       "' Abambo odzikhweza akuchuluka Kafukufuku wa apolisi mdziko muno waonetsa kuti abambo 90 ndiwo amadzipha pa anthu 100 alionse amene amatenga miyoyo yawo podzikhweza kapena kudzipha mnjira zina.\\n  Pa Wenela pasintha zedi  ANatchereza  Tidakumana ku sukulu ku Chiradzulu Malinga ndi mneneri kulikulu la polisi, Nicholas Gondwa, abambo ambiri amalimba mtima ndi kudzipha kusiyana ndi amayi.\\n Koma amayi ndi olimba mtima, amakumana ndi nkhanza zambiri, koma ndi ochepa omwe amadzichotsera moyo, iye adatero pocheza ndi Msangulutso.\\n Polankhulapo, mneneri wa apolisi mchigawo cha kumpoto, Maurice Chapola, adati abambo ambiri akakumana ndi nkhaza za mbanja amathamangira kudzipha mmalo mokadandaula kunthambi ya polisi ya Victim Support Unit (VSU).\\n Chapola adati abambo khumi ndiwo amakadandaula ku VSU mwa anthu 100 alionse.\\n Kondwani Machano yemwe ndi bambo wa ana awiri, adati abambo amaopa kupita kupolisi akakhala ndi nkhawa kuopa kuukiridwa komanso chifukwa ambiri mwa iwo sadziwa kulankhula.\\n Ndipo katswiri woona zakaganizidwe (psychiatrist), yemwenso ndi mkulu wa chipatala cha St John of God mmzinda wa Mzuzu, Charles Masulani Mwale, adati abambo ambiri akakhala ndi mavuto a mmaganizo, sagawira anzawo za nkhawazo kuopa kuoneka opusa.\\n Abambo amaopa kuoneka opepera akauza ena za mavuto awo ndipo amawasunga mmaganizo, pomwe amayi amagawana nkhawa zawo, Masulani adatero.\\n Iye adati abambowa amakakamira kuthana nawo okha mavuto omwe ali nawo.\\n Masulani adati kafukufuku waonetsa kuti ngakhale amayi ambiri ndiwo amalingalira zodzipha, ambiri mwa iwo sadzipha kaamba koti amatsatira njira zozizira zodziphera pomwe abambo omwe amalingalira zodzipha amagwiritsa ntchito njira zoopsa pochotsa miyoyo yawo.\\n Tinene kuti amayi amangoopseza kuti adzipha kusiyana ndi abambo omwe akalingalira, amachotsadi moyo wawo mnjira zoopsa, Masulani adatero.\\n Iye adati vuto lodzipha ndi lalikulu mmaiko otukuka kumene ati kaamba koti anthu sadziwa kopita akakhala ndi mavuto a mmaganizo.\\n Sitidazolowere kuti tikakhala ndi nthenthe kapena kupanikizika mmaganizo tiyenera kupita nazo kuchipatala, koma izi zimafunika thandizo lamsanga la akatswiri odziwa za kaganizidwe, Masulani adatero.\\n Iye adati pachipatala cha St John of God amayi ambiri ndiwo amafuna thandizo kusiyana ndi abambo.\\n Masulani adati ambiri mwa amayiwa amavutika mmaganizo chifukwa cha mavuto a mbanja komanso umphawi.\\n Ambiri amati mwina angodzipha chifukwa umphawi wafika povuta ndipo chilichonse chomwe ayesa sichikuyenda, Masulani adatero.\\n'"
      ]
     },
     "execution_count": 34,
     "metadata": {},
     "output_type": "execute_result"
    }
   ],
   "source": [
    "test.Text[0]"
   ]
  }
 ],
 "metadata": {
  "kernelspec": {
   "display_name": "Python 3",
   "language": "python",
   "name": "python3"
  },
  "language_info": {
   "codemirror_mode": {
    "name": "ipython",
    "version": 3
   },
   "file_extension": ".py",
   "mimetype": "text/x-python",
   "name": "python",
   "nbconvert_exporter": "python",
   "pygments_lexer": "ipython3",
   "version": "3.7.4"
  }
 },
 "nbformat": 4,
 "nbformat_minor": 4
}
