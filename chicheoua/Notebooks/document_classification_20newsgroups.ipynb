{
 "cells": [
  {
   "cell_type": "code",
   "execution_count": 29,
   "metadata": {},
   "outputs": [],
   "source": [
    "# %matplotlib inline\n",
    "from __future__ import print_function\n",
    "\n",
    "import logging\n",
    "import numpy as np\n",
    "from optparse import OptionParser\n",
    "import sys\n",
    "from time import time\n",
    "import matplotlib.pyplot as plt\n",
    "\n",
    "from sklearn.datasets import fetch_20newsgroups\n",
    "from sklearn.feature_extraction.text import TfidfVectorizer\n",
    "from sklearn.feature_extraction.text import HashingVectorizer\n",
    "from sklearn.feature_selection import SelectFromModel\n",
    "from sklearn.feature_selection import SelectKBest, chi2\n",
    "from sklearn.linear_model import RidgeClassifier\n",
    "from sklearn.pipeline import Pipeline\n",
    "from sklearn.svm import LinearSVC\n",
    "from sklearn.linear_model import SGDClassifier,LogisticRegression\n",
    "from sklearn.linear_model import Perceptron\n",
    "from sklearn.linear_model import PassiveAggressiveClassifier\n",
    "from sklearn.naive_bayes import BernoulliNB, MultinomialNB, ComplementNB\n",
    "from sklearn.neighbors import KNeighborsClassifier\n",
    "from sklearn.neighbors import NearestCentroid\n",
    "from sklearn.ensemble import RandomForestClassifier\n",
    "from sklearn.utils.extmath import density\n",
    "from sklearn import metrics\n",
    "import pandas as pd\n",
    "from sklearn.model_selection import train_test_split"
   ]
  },
  {
   "cell_type": "markdown",
   "metadata": {},
   "source": [
    "\n",
    "# Classification of text documents using sparse features\n",
    "\n",
    "\n",
    "This is an example showing how scikit-learn can be used to classify documents\n",
    "by topics using a bag-of-words approach. This example uses a scipy.sparse\n",
    "matrix to store the features and demonstrates various classifiers that can\n",
    "efficiently handle sparse matrices.\n",
    "\n",
    "The dataset used in this example is the 20 newsgroups dataset. It will be\n",
    "automatically downloaded, then cached.\n",
    "\n",
    "The bar plot indicates the accuracy, training time (normalized) and test time\n",
    "(normalized) of each classifier.\n",
    "\n",
    "\n"
   ]
  },
  {
   "cell_type": "code",
   "execution_count": 33,
   "metadata": {},
   "outputs": [
    {
     "name": "stdout",
     "output_type": "stream",
     "text": [
      "Automatically created module for IPython interactive environment\n",
      "Usage: ipykernel_launcher.py [options]\n",
      "\n",
      "Options:\n",
      "  -h, --help            show this help message and exit\n",
      "  --report              Print a detailed classification report.\n",
      "  --chi2_select=SELECT_CHI2\n",
      "                        Select some number of features using a chi-squared\n",
      "                        test\n",
      "  --confusion_matrix    Print the confusion matrix.\n",
      "  --top10               Print ten most discriminative terms per class for\n",
      "                        every classifier.\n",
      "  --all_categories      Whether to use all categories or not.\n",
      "  --use_hashing         Use a hashing vectorizer.\n",
      "  --n_features=N_FEATURES\n",
      "                        n_features when using the hashing vectorizer.\n",
      "  --filtered            Remove newsgroup information that is easily overfit:\n",
      "                        headers, signatures, and quoting.\n",
      "\n",
      "Loading 20 newsgroups dataset for categories:\n",
      "['POLITICS', 'HEALTH', 'LAW/ORDER', 'RELIGION', 'FARMING', 'WILDLIFE/ENVIRONMENT', 'SOCIAL ISSUES', 'SOCIAL', 'OPINION/ESSAY', 'LOCALCHIEFS', 'WITCHCRAFT', 'ECONOMY', 'SPORTS', 'RELATIONSHIPS', 'TRANSPORT', 'CULTURE', 'EDUCATION', 'MUSIC', 'ARTS AND CRAFTS', 'FLOODING']\n",
      "data loaded\n",
      "1148 documents - 2.477MB (training set)\n",
      "288 documents - 0.645MB (test set)\n",
      "20 categories\n",
      "\n",
      "Extracting features from the training data using a sparse vectorizer\n",
      "done in 0.420917s at 5.885MB/s\n",
      "n_samples: 1148, n_features: 43690\n",
      "\n",
      "Extracting features from the test data using the same vectorizer\n",
      "done in 0.088562s at 7.288MB/s\n",
      "n_samples: 288, n_features: 43690\n",
      "\n",
      "================================================================================\n",
      "Logistic Classifier\n",
      "________________________________________________________________________________\n",
      "Training: \n",
      "LogisticRegression(C=12, solver='liblinear', tol=0.001)\n",
      "train time: 1.394s\n",
      "test time:  0.000s\n",
      "accuracy:   0.701\n",
      "RELIGION\n",
      "dimensionality: 43690\n",
      "density: 1.000000\n",
      "\n",
      "\n",
      "================================================================================\n",
      "Perceptron\n",
      "________________________________________________________________________________\n",
      "Training: \n",
      "Perceptron()\n",
      "train time: 0.105s\n",
      "test time:  0.000s\n",
      "accuracy:   0.611\n",
      "RELIGION\n",
      "dimensionality: 43690\n",
      "density: 0.148643\n",
      "\n",
      "\n",
      "================================================================================\n",
      "Passive-Aggressive\n",
      "________________________________________________________________________________\n",
      "Training: \n",
      "PassiveAggressiveClassifier()\n",
      "train time: 0.265s\n",
      "test time:  0.000s\n",
      "accuracy:   0.694\n",
      "RELIGION\n",
      "dimensionality: 43690\n",
      "density: 0.519301\n",
      "\n",
      "\n",
      "================================================================================\n",
      "kNN\n",
      "________________________________________________________________________________\n",
      "Training: \n",
      "KNeighborsClassifier(n_neighbors=40)\n",
      "train time: 0.008s\n",
      "test time:  0.000s\n",
      "accuracy:   0.601\n",
      "RELIGION\n",
      "\n",
      "================================================================================\n",
      "Random forest\n",
      "________________________________________________________________________________\n",
      "Training: \n",
      "RandomForestClassifier()\n",
      "train time: 2.023s\n",
      "test time:  0.000s\n",
      "accuracy:   0.628\n",
      "RELIGION\n",
      "\n",
      "================================================================================\n",
      "ComplementNB\n",
      "________________________________________________________________________________\n",
      "Training: \n",
      "ComplementNB()\n",
      "train time: 0.072s\n",
      "test time:  0.000s\n",
      "accuracy:   0.552\n",
      "RELIGION\n",
      "dimensionality: 43690\n",
      "density: 1.000000\n",
      "\n",
      "\n",
      "================================================================================\n",
      "L2 penalty\n",
      "________________________________________________________________________________\n",
      "Training: \n",
      "LinearSVC(dual=False, tol=0.001)\n",
      "train time: 1.291s\n",
      "test time:  0.000s\n",
      "accuracy:   0.705\n",
      "RELIGION\n",
      "dimensionality: 43690\n",
      "density: 1.000000\n",
      "\n",
      "\n",
      "________________________________________________________________________________\n",
      "Training: \n",
      "SGDClassifier(max_iter=200)\n",
      "train time: 0.137s\n",
      "test time:  0.000s\n",
      "accuracy:   0.694\n",
      "RELIGION\n",
      "dimensionality: 43690\n",
      "density: 0.261313\n",
      "\n",
      "\n",
      "================================================================================\n",
      "L1 penalty\n",
      "________________________________________________________________________________\n",
      "Training: \n",
      "LinearSVC(dual=False, penalty='l1', tol=0.001)\n",
      "train time: 0.675s\n",
      "test time:  0.000s\n",
      "accuracy:   0.674\n",
      "RELIGION\n",
      "dimensionality: 43690\n",
      "density: 0.001064\n",
      "\n",
      "\n",
      "________________________________________________________________________________\n",
      "Training: \n",
      "SGDClassifier(max_iter=200, penalty='l1')\n",
      "train time: 0.675s\n",
      "test time:  0.000s\n",
      "accuracy:   0.635\n",
      "RELIGION\n",
      "dimensionality: 43690\n",
      "density: 0.007291\n",
      "\n",
      "\n",
      "================================================================================\n",
      "Elastic-Net penalty\n",
      "________________________________________________________________________________\n",
      "Training: \n",
      "SGDClassifier(max_iter=200, penalty='elasticnet')\n",
      "train time: 0.866s\n",
      "test time:  0.000s\n",
      "accuracy:   0.681\n",
      "RELIGION\n",
      "dimensionality: 43690\n",
      "density: 0.080806\n",
      "\n",
      "\n",
      "================================================================================\n",
      "NearestCentroid (aka Rocchio classifier)\n",
      "________________________________________________________________________________\n",
      "Training: \n",
      "NearestCentroid()\n",
      "train time: 0.032s\n",
      "test time:  0.000s\n",
      "accuracy:   0.677\n",
      "RELIGION\n",
      "\n",
      "================================================================================\n",
      "================================================================================\n",
      "LinearSVC with L1-based feature selection\n",
      "________________________________________________________________________________\n",
      "Training: \n",
      "Pipeline(steps=[('feature_selection',\n",
      "                 SelectFromModel(estimator=LinearSVC(dual=False, penalty='l1',\n",
      "                                                     tol=0.001))),\n",
      "                ('classification', LinearSVC())])\n",
      "train time: 0.758s\n",
      "test time:  0.000s\n",
      "accuracy:   0.684\n",
      "RELIGION\n",
      "\n"
     ]
    },
    {
     "name": "stderr",
     "output_type": "stream",
     "text": [
      "C:\\Users\\amakr\\AppData\\Roaming\\Python\\Python37\\site-packages\\ipykernel_launcher.py:263: RuntimeWarning: invalid value encountered in true_divide\n"
     ]
    },
    {
     "data": {
      "image/png": "[encoded data removed]",
      "text/plain": [
       "<Figure size 864x576 with 1 Axes>"
      ]
     },
     "metadata": {
      "needs_background": "light"
     },
     "output_type": "display_data"
    }
   ],
   "source": [
    "# Author: Peter Prettenhofer <pet\n",
    "from sklearn.decomposition import PCA\n",
    "\n",
    "# Display progress logs on stdout\n",
    "logging.basicConfig(level=logging.INFO,\n",
    "                    format='%(asctime)s %(levelname)s %(message)s')\n",
    "\n",
    "\n",
    "# parse commandline arguments\n",
    "op = OptionParser()\n",
    "op.add_option(\"--report\",\n",
    "              action=\"store_true\", dest=\"print_report\",\n",
    "              help=\"Print a detailed classification report.\")\n",
    "op.add_option(\"--chi2_select\",\n",
    "              action=\"store\", type=\"int\", dest=\"select_chi2\",\n",
    "              help=\"Select some number of features using a chi-squared test\")\n",
    "op.add_option(\"--confusion_matrix\",\n",
    "              action=\"store_true\", dest=\"print_cm\",\n",
    "              help=\"Print the confusion matrix.\")\n",
    "op.add_option(\"--top10\",\n",
    "              action=\"store_true\", dest=\"print_top10\",\n",
    "              help=\"Print ten most discriminative terms per class\"\n",
    "                   \" for every classifier.\")\n",
    "op.add_option(\"--all_categories\",\n",
    "              action=\"store_true\", dest=\"all_categories\",\n",
    "              help=\"Whether to use all categories or not.\")\n",
    "op.add_option(\"--use_hashing\",\n",
    "              action=\"store_true\",\n",
    "              help=\"Use a hashing vectorizer.\")\n",
    "op.add_option(\"--n_features\",\n",
    "              action=\"store\", type=int, default=2 ** 16,\n",
    "              help=\"n_features when using the hashing vectorizer.\")\n",
    "op.add_option(\"--filtered\",\n",
    "              action=\"store_true\",\n",
    "              help=\"Remove newsgroup information that is easily overfit: \"\n",
    "                   \"headers, signatures, and quoting.\")\n",
    "\n",
    "\n",
    "def is_interactive():\n",
    "    return not hasattr(sys.modules['__main__'], '__file__')\n",
    "\n",
    "# work-around for Jupyter notebook and IPython console\n",
    "argv = [] if is_interactive() else sys.argv[1:]\n",
    "(opts, args) = op.parse_args(argv)\n",
    "if len(args) > 0:\n",
    "    op.error(\"this script takes no arguments.\")\n",
    "    sys.exit(1)\n",
    "\n",
    "print(__doc__)\n",
    "op.print_help()\n",
    "print()\n",
    "\n",
    "train = pd.read_csv('../data/Train.csv')\n",
    "test = pd.read_csv('../data/Test.csv')\n",
    "\n",
    "# #############################################################################\n",
    "# Load some categories from the training set\n",
    "if opts.all_categories:\n",
    "    categories = None\n",
    "else:\n",
    "    categories = train.Label.unique().tolist()\n",
    "\n",
    "if opts.filtered:\n",
    "    remove = ('headers', 'footers', 'quotes')\n",
    "else:\n",
    "    remove = ()\n",
    "\n",
    "print(\"Loading 20 newsgroups dataset for categories:\")\n",
    "print(categories if categories else \"all\")\n",
    "\n",
    "# data_train = train\n",
    "# data_test = test\n",
    "data_train, data_test = train_test_split(train, test_size=0.2, random_state = 42, stratify = train['Label'])\n",
    "print('data loaded')\n",
    "\n",
    "# order of labels in `target_names` can be different from `categories`\n",
    "target_names = data_train.Label.unique().tolist()\n",
    "\n",
    "\n",
    "def size_mb(docs):\n",
    "    return sum(len(s.encode('utf-8')) for s in docs) / 1e6\n",
    "\n",
    "data_train_size_mb = size_mb(data_train.Text)\n",
    "data_test_size_mb = size_mb(data_test.Text)\n",
    "\n",
    "print(\"%d documents - %0.3fMB (training set)\" % (\n",
    "    len(data_train.Text), data_train_size_mb))\n",
    "print(\"%d documents - %0.3fMB (test set)\" % (\n",
    "    len(data_test.Text), data_test_size_mb))\n",
    "print(\"%d categories\" % len(categories))\n",
    "print()\n",
    "\n",
    "# split a training set and a test set\n",
    "y_train, y_test = data_train.Label, data_test.Label\n",
    "\n",
    "print(\"Extracting features from the training data using a sparse vectorizer\")\n",
    "t0 = time()\n",
    "if opts.use_hashing:\n",
    "    vectorizer = HashingVectorizer(stop_words='english', alternate_sign=False,\n",
    "                                   n_features=opts.n_features)\n",
    "    X_train = vectorizer.transform(data_train.Text)\n",
    "else:\n",
    "    vectorizer = TfidfVectorizer()\n",
    "    X_train = vectorizer.fit_transform(data_train.Text)\n",
    "#     pca  = PCA(n_components = 0.995)\n",
    "#     X_train = pca.fit_transform(X_train.toarray())\n",
    "duration = time() - t0\n",
    "print(\"done in %fs at %0.3fMB/s\" % (duration, data_train_size_mb / duration))\n",
    "print(\"n_samples: %d, n_features: %d\" % X_train.shape)\n",
    "print()\n",
    "\n",
    "print(\"Extracting features from the test data using the same vectorizer\")\n",
    "t0 = time()\n",
    "X_test = vectorizer.transform(data_test.Text)\n",
    "# X_test = pca.transform(X_test.toarray())\n",
    "duration = time() - t0\n",
    "print(\"done in %fs at %0.3fMB/s\" % (duration, data_test_size_mb / duration))\n",
    "print(\"n_samples: %d, n_features: %d\" % X_test.shape)\n",
    "print()\n",
    "\n",
    "# mapping from integer feature name to original token string\n",
    "if opts.use_hashing:\n",
    "    feature_names = None\n",
    "else:\n",
    "    feature_names = vectorizer.get_feature_names()\n",
    "# opts.select_chi2 = 5000\n",
    "if opts.select_chi2:\n",
    "    print(\"Extracting %d best features by a chi-squared test\" %\n",
    "          opts.select_chi2)\n",
    "    t0 = time()\n",
    "    ch2 = SelectKBest(chi2, k=opts.select_chi2)\n",
    "    X_train = ch2.fit_transform(X_train, y_train)\n",
    "    X_test = ch2.transform(X_test)\n",
    "    if feature_names:\n",
    "        # keep selected feature names\n",
    "        feature_names = [feature_names[i] for i\n",
    "                         in ch2.get_support(indices=True)]\n",
    "    print(\"done in %fs\" % (time() - t0))\n",
    "    print()\n",
    "\n",
    "if feature_names:\n",
    "    feature_names = np.asarray(feature_names)\n",
    "\n",
    "\n",
    "def trim(s):\n",
    "    \"\"\"Trim string to fit on terminal (assuming 80-column display)\"\"\"\n",
    "    return s if len(s) <= 80 else s[:77] + \"...\"\n",
    "\n",
    "from sklearn.model_selection import cross_val_score\n",
    "\n",
    "# #############################################################################\n",
    "# Benchmark classifiers\n",
    "def benchmark(clf):\n",
    "    print('_' * 80)\n",
    "    print(\"Training: \")\n",
    "    print(clf)\n",
    "    t0 = time()\n",
    "#     skf = StratifiedKFold(n_splits=5, random_state=0)\n",
    "#     models, preds = [], []\n",
    "#     for train, test in skf.split(X_train, y_train):\n",
    "#     print(train, test)\n",
    "#     clf = LogisticRegression(penalty='l1')\n",
    "#         clf.fit(X_train[train], y_train.loc[train])\n",
    "#         preds.append(clf.predict(X_test))\n",
    "#         models.append(clf)\n",
    "#         coefs.append(clf.coef_[0])\n",
    "    clf.fit(X_train, y_train)\n",
    "    train_time = time() - t0\n",
    "    print(\"train time: %0.3fs\" % train_time)\n",
    "    test_00 = vectorizer.transform(test.Text)\n",
    "#     test_00 = pca.transform(test_00.toarray())\n",
    "    t0 = time()\n",
    "#     pred = clf.predict(X_test)\n",
    "    test_time = time() - t0\n",
    "    print(\"test time:  %0.3fs\" % test_time)\n",
    "    pred = clf.predict(X_test)#pd.DataFrame(preds).mean().values\n",
    "    score = metrics.accuracy_score(y_test,pred )\n",
    "    print(\"accuracy:   %0.3f\" % score)\n",
    "    pred_00 = clf.predict(test_00)\n",
    "    print(pred_00[1])\n",
    "    if hasattr(clf, 'coef_'):\n",
    "        print(\"dimensionality: %d\" % clf.coef_.shape[1])\n",
    "        print(\"density: %f\" % density(clf.coef_))\n",
    "\n",
    "        if opts.print_top10 and feature_names is not None:\n",
    "            print(\"top 10 keywords per class:\")\n",
    "            for i, label in enumerate(target_names):\n",
    "                top10 = np.argsort(clf.coef_[i])[-10:]\n",
    "                print(trim(\"%s: %s\" % (label, \" \".join(feature_names[top10]))))\n",
    "        print()\n",
    "\n",
    "    if opts.print_report:\n",
    "        print(\"classification report:\")\n",
    "        print(metrics.classification_report(y_test, pred,\n",
    "                                            target_names=target_names))\n",
    "\n",
    "    if opts.print_cm:\n",
    "        print(\"confusion matrix:\")\n",
    "        print(metrics.confusion_matrix(y_test, pred))\n",
    "\n",
    "    print()\n",
    "    clf_descr = str(clf).split('(')[0]\n",
    "    return clf_descr, score, train_time, test_time, clf\n",
    "\n",
    "\n",
    "results = []\n",
    "for clf, name in (\n",
    "        (LogisticRegression(tol=1e-3, solver=\"liblinear\",C = 12), \"Logistic Classifier\"),\n",
    "        (Perceptron(), \"Perceptron\"),\n",
    "        (PassiveAggressiveClassifier(), \"Passive-Aggressive\"),\n",
    "        (KNeighborsClassifier(n_neighbors=40), \"kNN\"),\n",
    "        (RandomForestClassifier(n_estimators=100), \"Random forest\"),\n",
    "        (ComplementNB(), \"ComplementNB\")):\n",
    "    print('=' * 80)\n",
    "    print(name)\n",
    "    results.append(benchmark(clf))\n",
    "\n",
    "for penalty in [\"l2\", \"l1\"]:\n",
    "    print('=' * 80)\n",
    "    print(\"%s penalty\" % penalty.upper())\n",
    "    # Train Liblinear model\n",
    "    results.append(benchmark(LinearSVC(penalty=penalty, dual=False,\n",
    "                                       tol=1e-3)))\n",
    "\n",
    "    # Train SGD model\n",
    "    results.append(benchmark(SGDClassifier(alpha=.0001, max_iter=200,\n",
    "                                           penalty=penalty)))\n",
    "\n",
    "# Train SGD with Elastic Net penalty\n",
    "print('=' * 80)\n",
    "print(\"Elastic-Net penalty\")\n",
    "results.append(benchmark(SGDClassifier(alpha=.0001, max_iter=200,\n",
    "                                       penalty=\"elasticnet\")))\n",
    "\n",
    "# Train NearestCentroid without threshold\n",
    "print('=' * 80)\n",
    "print(\"NearestCentroid (aka Rocchio classifier)\")\n",
    "results.append(benchmark(NearestCentroid()))\n",
    "\n",
    "# Train sparse Naive Bayes classifiers\n",
    "print('=' * 80)\n",
    "# print(\"Naive Bayes\")\n",
    "# results.append(benchmark(MultinomialNB(alpha=.01)))\n",
    "# results.append(benchmark(BernoulliNB(alpha=.01)))\n",
    "\n",
    "print('=' * 80)\n",
    "print(\"LinearSVC with L1-based feature selection\")\n",
    "# The smaller C, the stronger the regularization.\n",
    "# The more regularization, the more sparsity.\n",
    "results.append(benchmark(Pipeline([\n",
    "  ('feature_selection', SelectFromModel(LinearSVC(penalty=\"l1\", dual=False,\n",
    "                                                  tol=1e-3))),\n",
    "  ('classification', LinearSVC(penalty=\"l2\"))])))\n",
    "\n",
    "# make some plots\n",
    "\n",
    "indices = np.arange(len(results))\n",
    "\n",
    "results = [[x[i] for x in results] for i in range(5)]\n",
    "\n",
    "clf_names, score, training_time, test_time, clfs = results\n",
    "training_time = np.array(training_time) / np.max(training_time)\n",
    "test_time = np.array(test_time) / np.max(test_time)\n",
    "\n",
    "plt.figure(figsize=(12, 8))\n",
    "plt.title(\"Score\")\n",
    "plt.barh(indices, score, .2, label=\"score\", color='navy')\n",
    "plt.barh(indices + .3, training_time, .2, label=\"training time\",\n",
    "         color='c')\n",
    "plt.barh(indices + .6, test_time, .2, label=\"test time\", color='darkorange')\n",
    "plt.yticks(())\n",
    "plt.legend(loc='best')\n",
    "plt.subplots_adjust(left=.25)\n",
    "plt.subplots_adjust(top=.95)\n",
    "plt.subplots_adjust(bottom=.05)\n",
    "\n",
    "for i, c in zip(indices, clf_names):\n",
    "    plt.text(-.3, i, c)\n",
    "\n",
    "plt.show()"
   ]
  },
  {
   "cell_type": "code",
   "execution_count": 27,
   "metadata": {},
   "outputs": [
    {
     "data": {
      "text/plain": [
       "5365"
      ]
     },
     "execution_count": 27,
     "metadata": {},
     "output_type": "execute_result"
    }
   ],
   "source": [
    "# y_train.loc[2]\n",
    "import gc \n",
    "gc.collect()"
   ]
  },
  {
   "cell_type": "code",
   "execution_count": 67,
   "metadata": {},
   "outputs": [
    {
     "data": {
      "text/plain": [
       "['LogisticRegression',\n",
       " 'Perceptron',\n",
       " 'PassiveAggressiveClassifier',\n",
       " 'KNeighborsClassifier',\n",
       " 'RandomForestClassifier',\n",
       " 'LinearSVC',\n",
       " 'SGDClassifier',\n",
       " 'LinearSVC_1',\n",
       " 'SGDClassifier_1',\n",
       " 'SGDClassifier_2',\n",
       " 'NearestCentroid',\n",
       " 'Pipeline']"
      ]
     },
     "execution_count": 67,
     "metadata": {},
     "output_type": "execute_result"
    }
   ],
   "source": [
    "# list(zip(results[0],results[4]))\n",
    "names = results[0]\n",
    "names[7] = 'LinearSVC_1'\n",
    "names[8] = 'SGDClassifier_1'\n",
    "names[9] = 'SGDClassifier_2'\n",
    "names\n"
   ]
  },
  {
   "cell_type": "code",
   "execution_count": 68,
   "metadata": {},
   "outputs": [],
   "source": [
    "class_i = list(zip(names,results[4]))\n",
    "# hasattr(class_i[0][1],'predict_proba')\n",
    "new_clf=[]\n",
    "for item in class_i:\n",
    "    if hasattr(item[1],'predict_proba'):\n",
    "        new_clf.append(item)"
   ]
  },
  {
   "cell_type": "code",
   "execution_count": 69,
   "metadata": {},
   "outputs": [
    {
     "data": {
      "text/plain": [
       "[('LogisticRegression',\n",
       "  LogisticRegression(C=12, solver='liblinear', tol=0.001)),\n",
       " ('KNeighborsClassifier', KNeighborsClassifier(n_neighbors=20)),\n",
       " ('RandomForestClassifier', RandomForestClassifier())]"
      ]
     },
     "execution_count": 69,
     "metadata": {},
     "output_type": "execute_result"
    }
   ],
   "source": [
    "new_clf"
   ]
  },
  {
   "cell_type": "code",
   "execution_count": 73,
   "metadata": {},
   "outputs": [],
   "source": [
    "from sklearn.ensemble import VotingClassifier,StackingClassifier\n",
    "voting_clf = VotingClassifier(class_i,voting = 'hard')"
   ]
  },
  {
   "cell_type": "code",
   "execution_count": 74,
   "metadata": {},
   "outputs": [
    {
     "data": {
      "text/plain": [
       "VotingClassifier(estimators=[('LogisticRegression',\n",
       "                              LogisticRegression(C=12, solver='liblinear',\n",
       "                                                 tol=0.001)),\n",
       "                             ('Perceptron', Perceptron()),\n",
       "                             ('PassiveAggressiveClassifier',\n",
       "                              PassiveAggressiveClassifier()),\n",
       "                             ('KNeighborsClassifier',\n",
       "                              KNeighborsClassifier(n_neighbors=20)),\n",
       "                             ('RandomForestClassifier',\n",
       "                              RandomForestClassifier()),\n",
       "                             ('LinearSVC', LinearSVC(dual=False, tol=0....\n",
       "                              LinearSVC(dual=False, penalty='l1', tol=0.001)),\n",
       "                             ('SGDClassifier_1',\n",
       "                              SGDClassifier(max_iter=200, penalty='l1')),\n",
       "                             ('SGDClassifier_2',\n",
       "                              SGDClassifier(max_iter=200,\n",
       "                                            penalty='elasticnet')),\n",
       "                             ('NearestCentroid', NearestCentroid()),\n",
       "                             ('Pipeline',\n",
       "                              Pipeline(steps=[('feature_selection',\n",
       "                                               SelectFromModel(estimator=LinearSVC(dual=False,\n",
       "                                                                                   penalty='l1',\n",
       "                                                                                   tol=0.001))),\n",
       "                                              ('classification',\n",
       "                                               LinearSVC())]))])"
      ]
     },
     "execution_count": 74,
     "metadata": {},
     "output_type": "execute_result"
    }
   ],
   "source": [
    "# str(clf)\n",
    "# clf_vote =\n",
    "voting_clf.fit(X_train, y_train)"
   ]
  },
  {
   "cell_type": "code",
   "execution_count": 75,
   "metadata": {},
   "outputs": [
    {
     "data": {
      "text/plain": [
       "0.7083333333333334"
      ]
     },
     "execution_count": 75,
     "metadata": {},
     "output_type": "execute_result"
    }
   ],
   "source": [
    "voting_clf.score(X_test,y_test)\n",
    "# class_i[2][1].score(X_test,y_test)\n",
    "# y_test"
   ]
  },
  {
   "cell_type": "code",
   "execution_count": 127,
   "metadata": {},
   "outputs": [],
   "source": [
    "# class_i[::2]\n",
    "X_test_2 = vectorizer.transform(test.Text)"
   ]
  },
  {
   "cell_type": "code",
   "execution_count": 137,
   "metadata": {},
   "outputs": [],
   "source": [
    "test['Label'] = voting_clf.predict(X_test_2)"
   ]
  },
  {
   "cell_type": "code",
   "execution_count": 138,
   "metadata": {},
   "outputs": [],
   "source": [
    "sub = test[['ID','Label']]"
   ]
  },
  {
   "cell_type": "code",
   "execution_count": 139,
   "metadata": {},
   "outputs": [],
   "source": [
    "sub.to_csv('democ.csv', index = False)"
   ]
  },
  {
   "cell_type": "code",
   "execution_count": 20,
   "metadata": {},
   "outputs": [
    {
     "data": {
      "text/plain": [
       "ExtraTreesClassifier(n_estimators=10000)"
      ]
     },
     "execution_count": 20,
     "metadata": {},
     "output_type": "execute_result"
    }
   ],
   "source": [
    "# from sklearn.discriminant_analysis import LinearDiscriminantAnalysis\n",
    "from sklearn.ensemble import ExtraTreesClassifier\n",
    "clf_3 =  ExtraTreesClassifier(n_estimators = 10000) #,criterion = 'entropy' \n",
    "clf_3.fit(X_train,y_train)"
   ]
  },
  {
   "cell_type": "code",
   "execution_count": 27,
   "metadata": {},
   "outputs": [
    {
     "name": "stdout",
     "output_type": "stream",
     "text": [
      "Best roc_auc: 0.6331, with best C: {'C': 20}\n"
     ]
    }
   ],
   "source": [
    "# clf_3.score(X_test,y_test)\n",
    "# from sklearn.metrics import confusion_matrix, roc_auc_score ,roc_curve,auc\n",
    "# from sklearn.model_selection import GridSearchCV,StratifiedKFold\n",
    "# logreg = LogisticRegression(class_weight='balanced',multi_class = 'ovr')\n",
    "# param = {'C':[0.001,0.005,0.01,0.05,0.1,0.5,1,2,3,3,4,5,10,20]}\n",
    "# clf = GridSearchCV(logreg,param,scoring='accuracy',refit=True,cv=6)\n",
    "# clf.fit(X_train,y_train)\n",
    "# print('Best roc_auc: {:.4}, with best C: {}'.format(clf.best_score_, clf.best_params_))\n"
   ]
  },
  {
   "cell_type": "code",
   "execution_count": 28,
   "metadata": {},
   "outputs": [],
   "source": [
    "\n"
   ]
  },
  {
   "cell_type": "code",
   "execution_count": 31,
   "metadata": {},
   "outputs": [],
   "source": [
    "# X_train.toarray().shape\n",
    "new_train_1 = vectorizer.transform(train.Text).toarray()"
   ]
  },
  {
   "cell_type": "code",
   "execution_count": 55,
   "metadata": {},
   "outputs": [],
   "source": [
    "# (new_train_1[0] == 0).all()\n",
    "# new_train_1.shape\n",
    "from sklearn.preprocessing import LabelEncoder\n",
    "le = LabelEncoder()\n",
    "# exper = np.concatenate((new_train_1, le.fit_transform(train.Label).reshape(-1,1)), axis = 1)"
   ]
  },
  {
   "cell_type": "code",
   "execution_count": 56,
   "metadata": {},
   "outputs": [],
   "source": [
    "# le.fit_transform(train.Label).shape"
   ]
  },
  {
   "cell_type": "code",
   "execution_count": 59,
   "metadata": {},
   "outputs": [],
   "source": [
    "pca = PCA(n_components = 0.99)"
   ]
  },
  {
   "cell_type": "code",
   "execution_count": 60,
   "metadata": {},
   "outputs": [],
   "source": [
    "exper_train = pca.fit_transform(new_train_1)"
   ]
  },
  {
   "cell_type": "code",
   "execution_count": 62,
   "metadata": {},
   "outputs": [
    {
     "data": {
      "text/plain": [
       "(1436, 1389)"
      ]
     },
     "execution_count": 62,
     "metadata": {},
     "output_type": "execute_result"
    }
   ],
   "source": [
    "# type(exper)\n",
    "# exper\n",
    "exper_train.shape"
   ]
  },
  {
   "cell_type": "code",
   "execution_count": 98,
   "metadata": {},
   "outputs": [
    {
     "ename": "AttributeError",
     "evalue": "iloc not found",
     "output_type": "error",
     "traceback": [
      "\u001b[1;31m---------------------------------------------------------------------------\u001b[0m",
      "\u001b[1;31mAttributeError\u001b[0m                            Traceback (most recent call last)",
      "\u001b[1;32m<ipython-input-98-1312e99b0f38>\u001b[0m in \u001b[0;36m<module>\u001b[1;34m\u001b[0m\n\u001b[1;32m----> 1\u001b[1;33m \u001b[0mX_train\u001b[0m\u001b[1;33m.\u001b[0m\u001b[0miloc\u001b[0m\u001b[1;33m[\u001b[0m\u001b[1;36m0\u001b[0m\u001b[1;33m]\u001b[0m\u001b[1;33m\u001b[0m\u001b[1;33m\u001b[0m\u001b[0m\n\u001b[0m",
      "\u001b[1;32m~\\AppData\\Roaming\\Python\\Python37\\site-packages\\scipy\\sparse\\base.py\u001b[0m in \u001b[0;36m__getattr__\u001b[1;34m(self, attr)\u001b[0m\n\u001b[0;32m    689\u001b[0m             \u001b[1;32mreturn\u001b[0m \u001b[0mself\u001b[0m\u001b[1;33m.\u001b[0m\u001b[0mgetnnz\u001b[0m\u001b[1;33m(\u001b[0m\u001b[1;33m)\u001b[0m\u001b[1;33m\u001b[0m\u001b[1;33m\u001b[0m\u001b[0m\n\u001b[0;32m    690\u001b[0m         \u001b[1;32melse\u001b[0m\u001b[1;33m:\u001b[0m\u001b[1;33m\u001b[0m\u001b[1;33m\u001b[0m\u001b[0m\n\u001b[1;32m--> 691\u001b[1;33m             \u001b[1;32mraise\u001b[0m \u001b[0mAttributeError\u001b[0m\u001b[1;33m(\u001b[0m\u001b[0mattr\u001b[0m \u001b[1;33m+\u001b[0m \u001b[1;34m\" not found\"\u001b[0m\u001b[1;33m)\u001b[0m\u001b[1;33m\u001b[0m\u001b[1;33m\u001b[0m\u001b[0m\n\u001b[0m\u001b[0;32m    692\u001b[0m \u001b[1;33m\u001b[0m\u001b[0m\n\u001b[0;32m    693\u001b[0m     \u001b[1;32mdef\u001b[0m \u001b[0mtranspose\u001b[0m\u001b[1;33m(\u001b[0m\u001b[0mself\u001b[0m\u001b[1;33m,\u001b[0m \u001b[0maxes\u001b[0m\u001b[1;33m=\u001b[0m\u001b[1;32mNone\u001b[0m\u001b[1;33m,\u001b[0m \u001b[0mcopy\u001b[0m\u001b[1;33m=\u001b[0m\u001b[1;32mFalse\u001b[0m\u001b[1;33m)\u001b[0m\u001b[1;33m:\u001b[0m\u001b[1;33m\u001b[0m\u001b[1;33m\u001b[0m\u001b[0m\n",
      "\u001b[1;31mAttributeError\u001b[0m: iloc not found"
     ]
    }
   ],
   "source": [
    "X_train.iloc[0]"
   ]
  },
  {
   "cell_type": "code",
   "execution_count": 1,
   "metadata": {},
   "outputs": [],
   "source": [
    "import os"
   ]
  },
  {
   "cell_type": "code",
   "execution_count": 77,
   "metadata": {},
   "outputs": [],
   "source": [
    "import pandas as pd\n",
    "import glob\n",
    "files = glob.glob(\"C:/Users/amakr/Downloads/*.csv\")\n",
    "\n",
    "df = pd.DataFrame()\n",
    "for f in files:\n",
    "    csv = pd.read_csv(f)\n",
    "    df.append(csv)"
   ]
  },
  {
   "cell_type": "code",
   "execution_count": 78,
   "metadata": {},
   "outputs": [],
   "source": [
    "i = 0"
   ]
  },
  {
   "cell_type": "code",
   "execution_count": 127,
   "metadata": {},
   "outputs": [
    {
     "ename": "IndexError",
     "evalue": "list index out of range",
     "output_type": "error",
     "traceback": [
      "\u001b[1;31m---------------------------------------------------------------------------\u001b[0m",
      "\u001b[1;31mIndexError\u001b[0m                                Traceback (most recent call last)",
      "\u001b[1;32m<ipython-input-127-4917bf474d05>\u001b[0m in \u001b[0;36m<module>\u001b[1;34m\u001b[0m\n\u001b[1;32m----> 1\u001b[1;33m \u001b[0mcsv\u001b[0m \u001b[1;33m=\u001b[0m \u001b[0mpd\u001b[0m\u001b[1;33m.\u001b[0m\u001b[0mread_csv\u001b[0m\u001b[1;33m(\u001b[0m\u001b[0mfiles\u001b[0m\u001b[1;33m[\u001b[0m\u001b[0mi\u001b[0m\u001b[1;33m]\u001b[0m\u001b[1;33m)\u001b[0m\u001b[1;33m\u001b[0m\u001b[1;33m\u001b[0m\u001b[0m\n\u001b[0m\u001b[0;32m      2\u001b[0m \u001b[0mi\u001b[0m \u001b[1;33m=\u001b[0m \u001b[0mi\u001b[0m\u001b[1;33m+\u001b[0m\u001b[1;36m1\u001b[0m\u001b[1;33m\u001b[0m\u001b[1;33m\u001b[0m\u001b[0m\n\u001b[0;32m      3\u001b[0m \u001b[0mcsv\u001b[0m\u001b[1;33m\u001b[0m\u001b[1;33m\u001b[0m\u001b[0m\n",
      "\u001b[1;31mIndexError\u001b[0m: list index out of range"
     ]
    }
   ],
   "source": [
    "\n",
    "csv = pd.read_csv(files[i])\n",
    "i = i+1\n",
    "csv"
   ]
  },
  {
   "cell_type": "code",
   "execution_count": 81,
   "metadata": {},
   "outputs": [
    {
     "data": {
      "text/plain": [
       "['C:/Users/amakr/Downloads\\\\acimcombinedrates.csv',\n",
       " 'C:/Users/amakr/Downloads\\\\bbc-text.csv',\n",
       " 'C:/Users/amakr/Downloads\\\\CCG_1_20_I01971_D.csv',\n",
       " 'C:/Users/amakr/Downloads\\\\NGD_bymonth.csv',\n",
       " 'C:/Users/amakr/Downloads\\\\NGD_bymonth10.csv',\n",
       " 'C:/Users/amakr/Downloads\\\\NGD_bymonth11.csv',\n",
       " 'C:/Users/amakr/Downloads\\\\NGD_bymonth12.csv',\n",
       " 'C:/Users/amakr/Downloads\\\\NGD_bymonth13.csv',\n",
       " 'C:/Users/amakr/Downloads\\\\NGD_bymonth14.csv',\n",
       " 'C:/Users/amakr/Downloads\\\\NGD_bymonth15.csv',\n",
       " 'C:/Users/amakr/Downloads\\\\NGD_bymonth16.csv',\n",
       " 'C:/Users/amakr/Downloads\\\\NGD_bymonth17.csv',\n",
       " 'C:/Users/amakr/Downloads\\\\NGD_bymonth2.csv',\n",
       " 'C:/Users/amakr/Downloads\\\\NGD_bymonth3.csv',\n",
       " 'C:/Users/amakr/Downloads\\\\NGD_bymonth4.csv',\n",
       " 'C:/Users/amakr/Downloads\\\\NGD_bymonth5.csv',\n",
       " 'C:/Users/amakr/Downloads\\\\NGD_bymonth6.csv',\n",
       " 'C:/Users/amakr/Downloads\\\\NGD_bymonth7.csv',\n",
       " 'C:/Users/amakr/Downloads\\\\NGD_bymonth8.csv',\n",
       " 'C:/Users/amakr/Downloads\\\\NGD_bymonth9.csv',\n",
       " 'C:/Users/amakr/Downloads\\\\SampleSubmission (1).csv',\n",
       " 'C:/Users/amakr/Downloads\\\\SampleSubmission.csv',\n",
       " 'C:/Users/amakr/Downloads\\\\submission_keras_stack003A_reg10 (1).csv',\n",
       " 'C:/Users/amakr/Downloads\\\\submission_keras_stack003A_reg10 (2).csv',\n",
       " 'C:/Users/amakr/Downloads\\\\submission_keras_stack003A_reg10 (3).csv',\n",
       " 'C:/Users/amakr/Downloads\\\\submission_keras_stack003A_reg10 (4).csv',\n",
       " 'C:/Users/amakr/Downloads\\\\submission_keras_stack003A_reg10 (5).csv',\n",
       " 'C:/Users/amakr/Downloads\\\\submission_keras_stack003A_reg10.csv',\n",
       " 'C:/Users/amakr/Downloads\\\\submission_keras_stack003A_reg11.csv',\n",
       " 'C:/Users/amakr/Downloads\\\\submission_keras_stack003A_reg12 (1).csv',\n",
       " 'C:/Users/amakr/Downloads\\\\submission_keras_stack003A_reg12.csv',\n",
       " 'C:/Users/amakr/Downloads\\\\submission_keras_stack003A_reg13.csv',\n",
       " 'C:/Users/amakr/Downloads\\\\submission_keras_stack003A_reg14.csv',\n",
       " 'C:/Users/amakr/Downloads\\\\submission_keras_stack003A_reg15.csv',\n",
       " 'C:/Users/amakr/Downloads\\\\submission_keras_stack003A_reg16.csv',\n",
       " 'C:/Users/amakr/Downloads\\\\submission_keras_stack003A_reg17.csv',\n",
       " 'C:/Users/amakr/Downloads\\\\submission_keras_stack003A_reg18.csv',\n",
       " 'C:/Users/amakr/Downloads\\\\submission_keras_stack003A_reg19.csv',\n",
       " 'C:/Users/amakr/Downloads\\\\submission_keras_stack003A_reg20.csv',\n",
       " 'C:/Users/amakr/Downloads\\\\submission_keras_stack003A_reg21 (1).csv',\n",
       " 'C:/Users/amakr/Downloads\\\\submission_keras_stack003A_reg21.csv',\n",
       " 'C:/Users/amakr/Downloads\\\\submission_keras_stack003A_reg7 (1).csv',\n",
       " 'C:/Users/amakr/Downloads\\\\submission_keras_stack003A_reg7.csv',\n",
       " 'C:/Users/amakr/Downloads\\\\submission_keras_stack003A_reg9.csv',\n",
       " 'C:/Users/amakr/Downloads\\\\Test.csv',\n",
       " 'C:/Users/amakr/Downloads\\\\Train (1).csv',\n",
       " 'C:/Users/amakr/Downloads\\\\Train.csv']"
      ]
     },
     "execution_count": 81,
     "metadata": {},
     "output_type": "execute_result"
    }
   ],
   "source": [
    "files"
   ]
  },
  {
   "cell_type": "code",
   "execution_count": null,
   "metadata": {},
   "outputs": [],
   "source": []
  }
 ],
 "metadata": {
  "kernelspec": {
   "display_name": "Python 3",
   "language": "python",
   "name": "python3"
  },
  "language_info": {
   "codemirror_mode": {
    "name": "ipython",
    "version": 3
   },
   "file_extension": ".py",
   "mimetype": "text/x-python",
   "name": "python",
   "nbconvert_exporter": "python",
   "pygments_lexer": "ipython3",
   "version": "3.7.4"
  }
 },
 "nbformat": 4,
 "nbformat_minor": 1
}
