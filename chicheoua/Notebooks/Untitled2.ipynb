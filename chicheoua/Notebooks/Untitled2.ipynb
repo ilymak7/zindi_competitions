{
 "cells": [
  {
   "cell_type": "code",
   "execution_count": 17,
   "metadata": {},
   "outputs": [],
   "source": [
    "import pandas as pd \n",
    "train = pd.read_csv('../Translated/cleaned/train.csv')\n",
    "test = pd.read_csv('../Translated/cleaned/test.csv')\n",
    "trans = pd.read_csv('../Notebooks/corpus_translated.csv')\n",
    "trans = trans.iloc[:,1]\n",
    "# trans\n",
    "train['Text'] = trans[:train.shape[0]]\n",
    "test['Text'] = trans[train.shape[0]:].values"
   ]
  },
  {
   "cell_type": "code",
   "execution_count": 22,
   "metadata": {},
   "outputs": [
    {
     "data": {
      "text/plain": [
       "array(['POLITICS', 'HEALTH', 'LAW/ORDER', 'RELIGION', 'FARMING',\n",
       "       'WILDLIFE/ENVIRONMENT', 'SOCIAL ISSUES', 'SOCIAL', 'OPINION/ESSAY',\n",
       "       'LOCALCHIEFS', 'WITCHCRAFT', 'ECONOMY', 'SPORTS', 'RELATIONSHIPS',\n",
       "       'TRANSPORT', 'CULTURE', 'EDUCATION', 'MUSIC', 'ARTS AND CRAFTS',\n",
       "       'FLOODING'], dtype=object)"
      ]
     },
     "execution_count": 22,
     "metadata": {},
     "output_type": "execute_result"
    }
   ],
   "source": [
    "train.Label.unique()"
   ]
  },
  {
   "cell_type": "code",
   "execution_count": 20,
   "metadata": {},
   "outputs": [],
   "source": [
    "# test['Text'] = \n",
    "# trans[train.shape[0]:].values\n",
    "Labels = []"
   ]
  },
  {
   "cell_type": "code",
   "execution_count": 27,
   "metadata": {},
   "outputs": [
    {
     "data": {
      "text/plain": [
       "['SOCIAL ISSUES', 'RELIGION']"
      ]
     },
     "execution_count": 27,
     "metadata": {},
     "output_type": "execute_result"
    }
   ],
   "source": [
    "Labels"
   ]
  },
  {
   "cell_type": "code",
   "execution_count": 31,
   "metadata": {},
   "outputs": [],
   "source": [
    "Labels.append('SOCIAL')"
   ]
  },
  {
   "cell_type": "code",
   "execution_count": 32,
   "metadata": {},
   "outputs": [
    {
     "data": {
      "text/plain": [
       "'locusts taste but since ancient times during the journey of the children of Israel from Egypt to the promised land of Canaan and even during the time of yohave baptists people have been eating locusts a grasshopper which many boast has no other side in terms of taste on wenela has changed so much we met at school in chiradzulu In Malawi, locusts are not uncommon and people have been talking about poisoning even in the fall of the country. Locusts destroy plants and other plants in the country. They are a blessing in disguise because they are good for the human body because they are high in protein and zinc and iron. helps to build the body according to a study by the food and agriculture organization fao despite the ban locusts are being sold in markets in limbe and blantyre as it was reported in july this year that locusts have landed at the nyamu scheme in jealous district and are flooding Banglasa experts say that the stinging nettle is said to be the poorest of the poor and the worst of the two states could not help but thank God for sending locusts to destroy them and that many of them are still weak and some have already died warning messages. Senior Chief Malema of Jealousy and the head of the Chamber of Commerce\\'s Security Committee, Mike, have confirmed the news of the incident. He has gone everywhere to stop us from eating the locusts because he is spraying them but some of them still pick them up and wash them and then eat them with great danger but we are still trying to advise them to stop eating the locusts. be careful not to eat locusts when they have no means but they should not do so it is better to die of starvation than to die with drugs. \"People say that following the government\\'s ban in jealousy, people have stopped selling locusts, but some are still selling them illegally. No one can sell them in public. Some may be selling in secret, but they should stop because they have harmed the people,\" said Erica Maganga. He appealed to the public to refrain from eating the locusts, saying that they could endanger their lives as well. We have also banned people from eating locusts because they could face problems if the government spoke out and then saw the harm that people could face. \"If they eat locusts that have died of poisonous poisoning, they may eat them, but they may not be affected, but they should stop asking the media and us to spread the word so that people do not intentionally ruin their lives because of locust swarms,\" \\u200b\\u200bhe said. in the southern region because it is close to the governments of the swarms and jealousy that are affected by the locust collapse. The problem is that it is flying objects and sometimes you will find it has reached the plateau until it enters the district.'"
      ]
     },
     "execution_count": 32,
     "metadata": {},
     "output_type": "execute_result"
    }
   ],
   "source": [
    "test['Text'][4]\n"
   ]
  },
  {
   "cell_type": "code",
   "execution_count": null,
   "metadata": {},
   "outputs": [],
   "source": []
  }
 ],
 "metadata": {
  "kernelspec": {
   "display_name": "Python 3",
   "language": "python",
   "name": "python3"
  },
  "language_info": {
   "codemirror_mode": {
    "name": "ipython",
    "version": 3
   },
   "file_extension": ".py",
   "mimetype": "text/x-python",
   "name": "python",
   "nbconvert_exporter": "python",
   "pygments_lexer": "ipython3",
   "version": "3.7.4"
  }
 },
 "nbformat": 4,
 "nbformat_minor": 4
}
