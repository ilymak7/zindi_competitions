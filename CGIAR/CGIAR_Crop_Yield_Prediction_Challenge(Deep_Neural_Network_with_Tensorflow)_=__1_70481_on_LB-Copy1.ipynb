{
 "cells": [
  {
   "cell_type": "markdown",
   "metadata": {
    "id": "tew30NMA0aEb"
   },
   "source": [
    "# Introduction\n",
    "\n",
    "This notebook is a 'quick-start' for the [CGIAR Crop Yield Prediction Challenge](https://zindi.africa/competitions/cgiar-crop-yield-prediction-challenge). We'll take a look at the data, fit a quick model and make a submission, with hints at each stage for extra options to investigate.\n",
    "\n",
    "Let's dive in!"
   ]
  },
  {
   "cell_type": "code",
   "execution_count": 1,
   "metadata": {
    "id": "bIbTz23G5mmE"
   },
   "outputs": [],
   "source": [
    "import numpy as np\n",
    "import pandas as pd\n",
    "import random\n",
    "seed = 2891  \n",
    "random.seed(seed)\n",
    "np.random.seed(seed)"
   ]
  },
  {
   "cell_type": "code",
   "execution_count": 2,
   "metadata": {
    "colab": {
     "base_uri": "https://localhost:8080/"
    },
    "id": "Ksv64oOJ6WtU",
    "outputId": "7335dfe2-da3b-4ebc-887c-8525e72a1b65"
   },
   "outputs": [],
   "source": [
    "# from google.colab import drive\n",
    "# drive.mount(\"/content/drive/\")"
   ]
  },
  {
   "cell_type": "code",
   "execution_count": 3,
   "metadata": {
    "id": "KUPfiZYP0V9j"
   },
   "outputs": [],
   "source": [
    "# # Copying in the zip files from Google Drive (alternately just upload them)\n",
    "# !cp 'drive/My Drive/image_arrays_train.zip' .\n",
    "# !cp 'drive/My Drive/image_arrays_test.zip' ."
   ]
  },
  {
   "cell_type": "code",
   "execution_count": 4,
   "metadata": {
    "colab": {
     "base_uri": "https://localhost:8080/"
    },
    "id": "hBJflFRl01eb",
    "outputId": "db4e1e92-e2c8-48f3-8a54-8a391c13f3d8"
   },
   "outputs": [],
   "source": [
    "# Extract\n",
    "# !unzip -q image_arrays_train.zip\n",
    "# !unzip -q image_arrays_test.zip"
   ]
  },
  {
   "cell_type": "code",
   "execution_count": 5,
   "metadata": {
    "colab": {
     "base_uri": "https://localhost:8080/"
    },
    "id": "CMJopyhk04j0",
    "outputId": "6ce9b66e-63da-4a5c-b1f5-4059cb675feb"
   },
   "outputs": [],
   "source": [
    "# Check the CSV files are present\n",
    "# !ls *.csv # Upload through the files menu"
   ]
  },
  {
   "cell_type": "code",
   "execution_count": 6,
   "metadata": {
    "colab": {
     "base_uri": "https://localhost:8080/"
    },
    "id": "-eUeUdHwKyZd",
    "outputId": "636e14b9-9a08-4604-9687-b54be4eb2918"
   },
   "outputs": [],
   "source": [
    "# Check for bandnames.txt\n",
    "# !ls *.txt"
   ]
  },
  {
   "cell_type": "markdown",
   "metadata": {
    "id": "2jJ52BFS1Gxn"
   },
   "source": [
    "# Loading the data\n",
    "\n",
    "The data isn't a simple table - instead we must read the inputs from individual .npy files. Here we'll load the dataframes, open a file or two and take a look at the format."
   ]
  },
  {
   "cell_type": "code",
   "execution_count": 7,
   "metadata": {
    "id": "TTWgteym1IMD"
   },
   "outputs": [],
   "source": [
    "import pandas as pd\n",
    "import numpy as np\n",
    "from matplotlib import pyplot as plt"
   ]
  },
  {
   "cell_type": "code",
   "execution_count": 8,
   "metadata": {
    "colab": {
     "base_uri": "https://localhost:8080/",
     "height": 221
    },
    "id": "9zX6spSW1Na1",
    "outputId": "d1d2d684-ad8a-4225-99de-324bee83ae0d"
   },
   "outputs": [
    {
     "name": "stdout",
     "output_type": "stream",
     "text": [
      "(2977, 4)\n"
     ]
    },
    {
     "data": {
      "text/html": [
       "<div>\n",
       "<style scoped>\n",
       "    .dataframe tbody tr th:only-of-type {\n",
       "        vertical-align: middle;\n",
       "    }\n",
       "\n",
       "    .dataframe tbody tr th {\n",
       "        vertical-align: top;\n",
       "    }\n",
       "\n",
       "    .dataframe thead th {\n",
       "        text-align: right;\n",
       "    }\n",
       "</style>\n",
       "<table border=\"1\" class=\"dataframe\">\n",
       "  <thead>\n",
       "    <tr style=\"text-align: right;\">\n",
       "      <th></th>\n",
       "      <th>Field_ID</th>\n",
       "      <th>Year</th>\n",
       "      <th>Quality</th>\n",
       "      <th>Yield</th>\n",
       "    </tr>\n",
       "  </thead>\n",
       "  <tbody>\n",
       "    <tr>\n",
       "      <th>0</th>\n",
       "      <td>MH2O0YH</td>\n",
       "      <td>2019</td>\n",
       "      <td>3</td>\n",
       "      <td>3.686</td>\n",
       "    </tr>\n",
       "    <tr>\n",
       "      <th>1</th>\n",
       "      <td>O9TURWL</td>\n",
       "      <td>2019</td>\n",
       "      <td>2</td>\n",
       "      <td>5.657</td>\n",
       "    </tr>\n",
       "    <tr>\n",
       "      <th>2</th>\n",
       "      <td>35AFSDD</td>\n",
       "      <td>2019</td>\n",
       "      <td>3</td>\n",
       "      <td>3.082</td>\n",
       "    </tr>\n",
       "    <tr>\n",
       "      <th>3</th>\n",
       "      <td>PM05EG9</td>\n",
       "      <td>2019</td>\n",
       "      <td>2</td>\n",
       "      <td>2.707</td>\n",
       "    </tr>\n",
       "    <tr>\n",
       "      <th>4</th>\n",
       "      <td>V7PZBCG</td>\n",
       "      <td>2019</td>\n",
       "      <td>2</td>\n",
       "      <td>2.679</td>\n",
       "    </tr>\n",
       "  </tbody>\n",
       "</table>\n",
       "</div>"
      ],
      "text/plain": [
       "  Field_ID  Year  Quality  Yield\n",
       "0  MH2O0YH  2019        3  3.686\n",
       "1  O9TURWL  2019        2  5.657\n",
       "2  35AFSDD  2019        3  3.082\n",
       "3  PM05EG9  2019        2  2.707\n",
       "4  V7PZBCG  2019        2  2.679"
      ]
     },
     "execution_count": 8,
     "metadata": {},
     "output_type": "execute_result"
    }
   ],
   "source": [
    "# Train.csv has the Field_IDs needed to find the npy files\n",
    "train_new = pd.read_csv('Train.csv')\n",
    "print(train_new.shape)\n",
    "train_new.head()"
   ]
  },
  {
   "cell_type": "code",
   "execution_count": 9,
   "metadata": {
    "colab": {
     "base_uri": "https://localhost:8080/"
    },
    "id": "yGUJuwQXYSjV",
    "outputId": "338b2a40-d324-496f-a105-104363c03613"
   },
   "outputs": [
    {
     "data": {
      "text/plain": [
       "3    1321\n",
       "2    1231\n",
       "1     425\n",
       "Name: Quality, dtype: int64"
      ]
     },
     "execution_count": 9,
     "metadata": {},
     "output_type": "execute_result"
    }
   ],
   "source": [
    "train_new['Quality'].value_counts()"
   ]
  },
  {
   "cell_type": "code",
   "execution_count": 10,
   "metadata": {
    "colab": {
     "base_uri": "https://localhost:8080/"
    },
    "id": "zQlqY-ouYyT6",
    "outputId": "270b6cb5-c981-4c13-f371-02ec48a18507"
   },
   "outputs": [
    {
     "data": {
      "text/plain": [
       "2017    1203\n",
       "2016    1024\n",
       "2019     569\n",
       "2018     181\n",
       "Name: Year, dtype: int64"
      ]
     },
     "execution_count": 10,
     "metadata": {},
     "output_type": "execute_result"
    }
   ],
   "source": [
    "train_new['Year'].value_counts()"
   ]
  },
  {
   "cell_type": "code",
   "execution_count": 11,
   "metadata": {
    "id": "01yrpz1kdi7I"
   },
   "outputs": [],
   "source": [
    "ss = pd.read_csv('SampleSubmission.csv')"
   ]
  },
  {
   "cell_type": "code",
   "execution_count": 12,
   "metadata": {
    "colab": {
     "base_uri": "https://localhost:8080/",
     "height": 318
    },
    "id": "aNf1PvDm1D_C",
    "outputId": "f91008e1-12a5-4874-f34d-7703a18aea2a"
   },
   "outputs": [
    {
     "name": "stdout",
     "output_type": "stream",
     "text": [
      "Loading image_arrays_train/8AZ490K.npy as an array\n",
      "Array shape: (360, 41, 40)\n"
     ]
    },
    {
     "data": {
      "text/plain": [
       "<matplotlib.image.AxesImage at 0x2021f12d4c8>"
      ]
     },
     "execution_count": 12,
     "metadata": {},
     "output_type": "execute_result"
    },
    {
     "data": {
      "image/png": "[encoded data removed]",
      "text/plain": [
       "<Figure size 432x288 with 1 Axes>"
      ]
     },
     "metadata": {
      "needs_background": "light"
     },
     "output_type": "display_data"
    }
   ],
   "source": [
    "# Look at a sample:\n",
    "fid = train_new['Field_ID'].sample().values[0]\n",
    "fn = f'image_arrays_train/{fid}.npy' # File name based on Field_ID\n",
    "print(f'Loading {fn} as an array')\n",
    "arr = np.load(fn) # Loading the data with numpy\n",
    "print('Array shape:', arr.shape) # 360 bands, images 40 or 41px a side\n",
    "rgb_jan = np.stack([arr[4], arr[3], arr[2]], axis=-1) # Combine three bands for viewing\n",
    "rgb_jan = rgb_jan / np.max(rgb_jan) # Scale band values to (0, 1) for easy image display\n",
    "plt.imshow(rgb_jan) # View with matplotlib"
   ]
  },
  {
   "cell_type": "code",
   "execution_count": 13,
   "metadata": {
    "colab": {
     "base_uri": "https://localhost:8080/",
     "height": 499
    },
    "id": "TK-yAAnq2CHn",
    "outputId": "b5b93da8-fd8c-4827-ee07-7d183ac6d5fa"
   },
   "outputs": [
    {
     "data": {
      "image/png": "[encoded data removed]",
      "text/plain": [
       "<Figure size 864x576 with 12 Axes>"
      ]
     },
     "metadata": {},
     "output_type": "display_data"
    }
   ],
   "source": [
    "# View false colour images from each month in the year:\n",
    "fig, axs = plt.subplots(3, 4, figsize=(12, 8), facecolor='w', edgecolor='k')\n",
    "fig.subplots_adjust(hspace = .5, wspace=.001)\n",
    "axs = axs.ravel()\n",
    "for i in range(12):\n",
    "  rgb = np.stack([arr[i*30 + 8], arr[i*30 + 4], arr[i*30 + 3]], axis=-1) # False colour (band 8, 4 and 3)\n",
    "  rgb = rgb / 4000 # Scaling consistently \n",
    "  axs[i].imshow(rgb.clip(0, 1))\n",
    "  axs[i].set_title(str(i+1))"
   ]
  },
  {
   "cell_type": "markdown",
   "metadata": {
    "id": "gMmd84DTR07r"
   },
   "source": [
    "What's with the white fluffy stuff? These are clouds - the bane of all remote sensing analysts..."
   ]
  },
  {
   "cell_type": "code",
   "execution_count": 14,
   "metadata": {
    "colab": {
     "base_uri": "https://localhost:8080/",
     "height": 499
    },
    "id": "dDdXl1xz3gkM",
    "outputId": "2a90b7d5-ef15-4663-8bde-3db1a7f76322"
   },
   "outputs": [
    {
     "data": {
      "image/png": "[encoded data removed]",
      "text/plain": [
       "<Figure size 864x576 with 12 Axes>"
      ]
     },
     "metadata": {},
     "output_type": "display_data"
    }
   ],
   "source": [
    "# Show the SWIR band (B12) where clouds have a high reflectance\n",
    "fig, axs = plt.subplots(3, 4, figsize=(12, 8), facecolor='w', edgecolor='k')\n",
    "fig.subplots_adjust(hspace = .5, wspace=.001)\n",
    "axs = axs.ravel()\n",
    "for i in range(12):\n",
    "  cloud = arr[i*30 + 11]\n",
    "  axs[i].imshow(cloud, vmin=0, vmax=4000)\n",
    "  axs[i].set_title(str(i+1))"
   ]
  },
  {
   "cell_type": "markdown",
   "metadata": {
    "id": "PwQs-Nw753Cx"
   },
   "source": [
    "# Sampling from the images\n",
    "\n",
    "There are some hard-coded band indexes in the examples above that won't have made sense - how did we know which bands were which?\n",
    "There are 30 bands for each month. You can see the full list of bands with:"
   ]
  },
  {
   "cell_type": "code",
   "execution_count": 15,
   "metadata": {
    "colab": {
     "base_uri": "https://localhost:8080/"
    },
    "id": "q02RjjC3ETIF",
    "outputId": "f82975f1-eea0-405d-9f81-8694e63b1026"
   },
   "outputs": [
    {
     "name": "stdout",
     "output_type": "stream",
     "text": [
      "['0_S2_B1', '0_S2_B2', '0_S2_B3', '0_S2_B4', '0_S2_B5', '0_S2_B6', '0_S2_B7', '0_S2_B8', '0_S2_B8A', '0_S2_B9', '0_S2_B10', '0_S2_B11', '0_S2_B12', '0_S2_QA10', '0_S2_QA20', '0_S2_QA60', '0_CLIM_aet', '0_CLIM_def', '0_CLIM_pdsi', '0_CLIM_pet', '0_CLIM_pr', '0_CLIM_ro', '0_CLIM_soil', '0_CLIM_srad', '0_CLIM_swe', '0_CLIM_tmmn', '0_CLIM_tmmx', '0_CLIM_vap', '0_CLIM_vpd', '0_CLIM_vs', '1_S2_B1', '1_S2_B2', '1_S2_B3', '1_S2_B4', '1_S2_B5', '1_S2_B6', '1_S2_B7', '1_S2_B8', '1_S2_B8A', '1_S2_B9', '1_S2_B10', '1_S2_B11', '1_S2_B12', '1_S2_QA10', '1_S2_QA20', '1_S2_QA60', '1_CLIM_aet', '1_CLIM_def', '1_CLIM_pdsi', '1_CLIM_pet', '1_CLIM_pr', '1_CLIM_ro', '1_CLIM_soil', '1_CLIM_srad', '1_CLIM_swe', '1_CLIM_tmmn', '1_CLIM_tmmx', '1_CLIM_vap', '1_CLIM_vpd', '1_CLIM_vs', '2_S2_B1', '2_S2_B2', '2_S2_B3', '2_S2_B4', '2_S2_B5', '2_S2_B6', '2_S2_B7', '2_S2_B8', '2_S2_B8A', '2_S2_B9', '2_S2_B10', '2_S2_B11', '2_S2_B12', '2_S2_QA10', '2_S2_QA20', '2_S2_QA60', '2_CLIM_aet', '2_CLIM_def', '2_CLIM_pdsi', '2_CLIM_pet', '2_CLIM_pr', '2_CLIM_ro', '2_CLIM_soil', '2_CLIM_srad', '2_CLIM_swe', '2_CLIM_tmmn', '2_CLIM_tmmx', '2_CLIM_vap', '2_CLIM_vpd', '2_CLIM_vs', '3_S2_B1', '3_S2_B2', '3_S2_B3', '3_S2_B4', '3_S2_B5', '3_S2_B6', '3_S2_B7', '3_S2_B8', '3_S2_B8A', '3_S2_B9', '3_S2_B10', '3_S2_B11', '3_S2_B12', '3_S2_QA10', '3_S2_QA20', '3_S2_QA60', '3_CLIM_aet', '3_CLIM_def', '3_CLIM_pdsi', '3_CLIM_pet', '3_CLIM_pr', '3_CLIM_ro', '3_CLIM_soil', '3_CLIM_srad', '3_CLIM_swe', '3_CLIM_tmmn', '3_CLIM_tmmx', '3_CLIM_vap', '3_CLIM_vpd', '3_CLIM_vs', '4_S2_B1', '4_S2_B2', '4_S2_B3', '4_S2_B4', '4_S2_B5', '4_S2_B6', '4_S2_B7', '4_S2_B8', '4_S2_B8A', '4_S2_B9', '4_S2_B10', '4_S2_B11', '4_S2_B12', '4_S2_QA10', '4_S2_QA20', '4_S2_QA60', '4_CLIM_aet', '4_CLIM_def', '4_CLIM_pdsi', '4_CLIM_pet', '4_CLIM_pr', '4_CLIM_ro', '4_CLIM_soil', '4_CLIM_srad', '4_CLIM_swe', '4_CLIM_tmmn', '4_CLIM_tmmx', '4_CLIM_vap', '4_CLIM_vpd', '4_CLIM_vs', '5_S2_B1', '5_S2_B2', '5_S2_B3', '5_S2_B4', '5_S2_B5', '5_S2_B6', '5_S2_B7', '5_S2_B8', '5_S2_B8A', '5_S2_B9', '5_S2_B10', '5_S2_B11', '5_S2_B12', '5_S2_QA10', '5_S2_QA20', '5_S2_QA60', '5_CLIM_aet', '5_CLIM_def', '5_CLIM_pdsi', '5_CLIM_pet', '5_CLIM_pr', '5_CLIM_ro', '5_CLIM_soil', '5_CLIM_srad', '5_CLIM_swe', '5_CLIM_tmmn', '5_CLIM_tmmx', '5_CLIM_vap', '5_CLIM_vpd', '5_CLIM_vs', '6_S2_B1', '6_S2_B2', '6_S2_B3', '6_S2_B4', '6_S2_B5', '6_S2_B6', '6_S2_B7', '6_S2_B8', '6_S2_B8A', '6_S2_B9', '6_S2_B10', '6_S2_B11', '6_S2_B12', '6_S2_QA10', '6_S2_QA20', '6_S2_QA60', '6_CLIM_aet', '6_CLIM_def', '6_CLIM_pdsi', '6_CLIM_pet', '6_CLIM_pr', '6_CLIM_ro', '6_CLIM_soil', '6_CLIM_srad', '6_CLIM_swe', '6_CLIM_tmmn', '6_CLIM_tmmx', '6_CLIM_vap', '6_CLIM_vpd', '6_CLIM_vs', '7_S2_B1', '7_S2_B2', '7_S2_B3', '7_S2_B4', '7_S2_B5', '7_S2_B6', '7_S2_B7', '7_S2_B8', '7_S2_B8A', '7_S2_B9', '7_S2_B10', '7_S2_B11', '7_S2_B12', '7_S2_QA10', '7_S2_QA20', '7_S2_QA60', '7_CLIM_aet', '7_CLIM_def', '7_CLIM_pdsi', '7_CLIM_pet', '7_CLIM_pr', '7_CLIM_ro', '7_CLIM_soil', '7_CLIM_srad', '7_CLIM_swe', '7_CLIM_tmmn', '7_CLIM_tmmx', '7_CLIM_vap', '7_CLIM_vpd', '7_CLIM_vs', '8_S2_B1', '8_S2_B2', '8_S2_B3', '8_S2_B4', '8_S2_B5', '8_S2_B6', '8_S2_B7', '8_S2_B8', '8_S2_B8A', '8_S2_B9', '8_S2_B10', '8_S2_B11', '8_S2_B12', '8_S2_QA10', '8_S2_QA20', '8_S2_QA60', '8_CLIM_aet', '8_CLIM_def', '8_CLIM_pdsi', '8_CLIM_pet', '8_CLIM_pr', '8_CLIM_ro', '8_CLIM_soil', '8_CLIM_srad', '8_CLIM_swe', '8_CLIM_tmmn', '8_CLIM_tmmx', '8_CLIM_vap', '8_CLIM_vpd', '8_CLIM_vs', '9_S2_B1', '9_S2_B2', '9_S2_B3', '9_S2_B4', '9_S2_B5', '9_S2_B6', '9_S2_B7', '9_S2_B8', '9_S2_B8A', '9_S2_B9', '9_S2_B10', '9_S2_B11', '9_S2_B12', '9_S2_QA10', '9_S2_QA20', '9_S2_QA60', '9_CLIM_aet', '9_CLIM_def', '9_CLIM_pdsi', '9_CLIM_pet', '9_CLIM_pr', '9_CLIM_ro', '9_CLIM_soil', '9_CLIM_srad', '9_CLIM_swe', '9_CLIM_tmmn', '9_CLIM_tmmx', '9_CLIM_vap', '9_CLIM_vpd', '9_CLIM_vs', '10_S2_B1', '10_S2_B2', '10_S2_B3', '10_S2_B4', '10_S2_B5', '10_S2_B6', '10_S2_B7', '10_S2_B8', '10_S2_B8A', '10_S2_B9', '10_S2_B10', '10_S2_B11', '10_S2_B12', '10_S2_QA10', '10_S2_QA20', '10_S2_QA60', '10_CLIM_aet', '10_CLIM_def', '10_CLIM_pdsi', '10_CLIM_pet', '10_CLIM_pr', '10_CLIM_ro', '10_CLIM_soil', '10_CLIM_srad', '10_CLIM_swe', '10_CLIM_tmmn', '10_CLIM_tmmx', '10_CLIM_vap', '10_CLIM_vpd', '10_CLIM_vs', '11_S2_B1', '11_S2_B2', '11_S2_B3', '11_S2_B4', '11_S2_B5', '11_S2_B6', '11_S2_B7', '11_S2_B8', '11_S2_B8A', '11_S2_B9', '11_S2_B10', '11_S2_B11', '11_S2_B12', '11_S2_QA10', '11_S2_QA20', '11_S2_QA60', '11_CLIM_aet', '11_CLIM_def', '11_CLIM_pdsi', '11_CLIM_pet', '11_CLIM_pr', '11_CLIM_ro', '11_CLIM_soil', '11_CLIM_srad', '11_CLIM_swe', '11_CLIM_tmmn', '11_CLIM_tmmx', '11_CLIM_vap', '11_CLIM_vpd', '11_CLIM_vs']\n"
     ]
    }
   ],
   "source": [
    "band_names = [l.strip() for l in open('bandnames.txt', 'r').readlines()]\n",
    "print(band_names)"
   ]
  },
  {
   "cell_type": "markdown",
   "metadata": {
    "id": "HQ3M6O2QLivY"
   },
   "source": [
    "0_S2_B1 is band one from the Sentinel 2 image for January (month 0). They're ordered, so we know that the first image band in the array is 0_S2_B1...\n",
    "\n",
    "You'll likely want to examine specific bands. Here's an example where we create a function to sample the center point (20, 20) for specified bands from each month:"
   ]
  },
  {
   "cell_type": "code",
   "execution_count": 16,
   "metadata": {
    "id": "ercQTzbA4VAI"
   },
   "outputs": [],
   "source": [
    "def process_im(fid, folder='image_arrays_train'):\n",
    "  fn = f'{folder}/{fid}.npy'\n",
    "  arr = np.load(fn)\n",
    "  bands_of_interest = ['S2_B1','S2_B2',\n",
    "'S2_B3',\n",
    "'S2_B4',\n",
    "'S2_B5',\n",
    "'S2_B6',\n",
    "'S2_B7',\n",
    "'S2_B8',\n",
    "'S2_B8A',\n",
    "'S2_B9',\n",
    "'S2_B10',\n",
    "'S2_B11',\n",
    "'S2_B12',\n",
    "'S2_QA10',\n",
    "'S2_QA20' ,\n",
    "'S2_QA60',\n",
    "'CLIM_aet',\n",
    "'CLIM_def' ,\n",
    "'CLIM_pdsi',\n",
    "'CLIM_pet' , \n",
    "'CLIM_pr' , \n",
    "'CLIM_ro' , \n",
    "'CLIM_soil' , \n",
    "'CLIM_srad' , \n",
    "'CLIM_swe' , \n",
    "'CLIM_tmmn' , \n",
    "'CLIM_tmmx' , \n",
    "'CLIM_vap' , \n",
    "'CLIM_vpd',\n",
    "'CLIM_vs']\n",
    "  \n",
    "  values = {}\n",
    "  for month in range(12):\n",
    "    bns = [str(month) + '_' + b for b in bands_of_interest] # Bands of interest for this month \n",
    "    idxs = np.where(np.isin(band_names, bns)) # Index of these bands\n",
    "    vs = arr[idxs, 20, 20] # Sample the im at the center point\n",
    "    for bn, v in zip(bns, vs[0]):\n",
    "      values[bn] = v\n",
    "  return values\n",
    "\n",
    "# Example\n",
    "# process_im('35AFSDD')"
   ]
  },
  {
   "cell_type": "markdown",
   "metadata": {
    "id": "H54JvdaYMGMC"
   },
   "source": [
    "With this, we can sample the inputs for each field in train and use that to build a dataframe of input features:"
   ]
  },
  {
   "cell_type": "code",
   "execution_count": 17,
   "metadata": {
    "colab": {
     "base_uri": "https://localhost:8080/",
     "height": 224
    },
    "id": "ARy0RY98L65B",
    "outputId": "6ab3f140-0d74-4f60-e04d-11cfe0138d8b"
   },
   "outputs": [
    {
     "data": {
      "text/html": [
       "<div>\n",
       "<style scoped>\n",
       "    .dataframe tbody tr th:only-of-type {\n",
       "        vertical-align: middle;\n",
       "    }\n",
       "\n",
       "    .dataframe tbody tr th {\n",
       "        vertical-align: top;\n",
       "    }\n",
       "\n",
       "    .dataframe thead th {\n",
       "        text-align: right;\n",
       "    }\n",
       "</style>\n",
       "<table border=\"1\" class=\"dataframe\">\n",
       "  <thead>\n",
       "    <tr style=\"text-align: right;\">\n",
       "      <th></th>\n",
       "      <th>0_S2_B1</th>\n",
       "      <th>0_S2_B2</th>\n",
       "      <th>0_S2_B3</th>\n",
       "      <th>0_S2_B4</th>\n",
       "      <th>0_S2_B5</th>\n",
       "      <th>0_S2_B6</th>\n",
       "      <th>0_S2_B7</th>\n",
       "      <th>0_S2_B8</th>\n",
       "      <th>0_S2_B8A</th>\n",
       "      <th>0_S2_B9</th>\n",
       "      <th>...</th>\n",
       "      <th>11_CLIM_soil</th>\n",
       "      <th>11_CLIM_srad</th>\n",
       "      <th>11_CLIM_swe</th>\n",
       "      <th>11_CLIM_tmmn</th>\n",
       "      <th>11_CLIM_tmmx</th>\n",
       "      <th>11_CLIM_vap</th>\n",
       "      <th>11_CLIM_vpd</th>\n",
       "      <th>11_CLIM_vs</th>\n",
       "      <th>Field_ID</th>\n",
       "      <th>Yield</th>\n",
       "    </tr>\n",
       "  </thead>\n",
       "  <tbody>\n",
       "    <tr>\n",
       "      <th>0</th>\n",
       "      <td>1024</td>\n",
       "      <td>934</td>\n",
       "      <td>932</td>\n",
       "      <td>1173</td>\n",
       "      <td>1392</td>\n",
       "      <td>1798</td>\n",
       "      <td>2044</td>\n",
       "      <td>2038</td>\n",
       "      <td>2327</td>\n",
       "      <td>1072</td>\n",
       "      <td>...</td>\n",
       "      <td>215</td>\n",
       "      <td>1880</td>\n",
       "      <td>0</td>\n",
       "      <td>100</td>\n",
       "      <td>267</td>\n",
       "      <td>1680</td>\n",
       "      <td>69</td>\n",
       "      <td>210</td>\n",
       "      <td>MH2O0YH</td>\n",
       "      <td>3.686</td>\n",
       "    </tr>\n",
       "    <tr>\n",
       "      <th>1</th>\n",
       "      <td>1023</td>\n",
       "      <td>880</td>\n",
       "      <td>821</td>\n",
       "      <td>924</td>\n",
       "      <td>1116</td>\n",
       "      <td>1630</td>\n",
       "      <td>1870</td>\n",
       "      <td>1951</td>\n",
       "      <td>2040</td>\n",
       "      <td>929</td>\n",
       "      <td>...</td>\n",
       "      <td>215</td>\n",
       "      <td>1883</td>\n",
       "      <td>0</td>\n",
       "      <td>99</td>\n",
       "      <td>273</td>\n",
       "      <td>1682</td>\n",
       "      <td>75</td>\n",
       "      <td>190</td>\n",
       "      <td>O9TURWL</td>\n",
       "      <td>5.657</td>\n",
       "    </tr>\n",
       "    <tr>\n",
       "      <th>2</th>\n",
       "      <td>1095</td>\n",
       "      <td>1016</td>\n",
       "      <td>1070</td>\n",
       "      <td>1357</td>\n",
       "      <td>1632</td>\n",
       "      <td>1972</td>\n",
       "      <td>2256</td>\n",
       "      <td>2137</td>\n",
       "      <td>2588</td>\n",
       "      <td>957</td>\n",
       "      <td>...</td>\n",
       "      <td>289</td>\n",
       "      <td>1875</td>\n",
       "      <td>0</td>\n",
       "      <td>100</td>\n",
       "      <td>274</td>\n",
       "      <td>1690</td>\n",
       "      <td>76</td>\n",
       "      <td>200</td>\n",
       "      <td>35AFSDD</td>\n",
       "      <td>3.082</td>\n",
       "    </tr>\n",
       "    <tr>\n",
       "      <th>3</th>\n",
       "      <td>976</td>\n",
       "      <td>777</td>\n",
       "      <td>784</td>\n",
       "      <td>639</td>\n",
       "      <td>1064</td>\n",
       "      <td>2014</td>\n",
       "      <td>2561</td>\n",
       "      <td>2588</td>\n",
       "      <td>2921</td>\n",
       "      <td>1300</td>\n",
       "      <td>...</td>\n",
       "      <td>189</td>\n",
       "      <td>1898</td>\n",
       "      <td>0</td>\n",
       "      <td>98</td>\n",
       "      <td>263</td>\n",
       "      <td>1688</td>\n",
       "      <td>64</td>\n",
       "      <td>210</td>\n",
       "      <td>PM05EG9</td>\n",
       "      <td>2.707</td>\n",
       "    </tr>\n",
       "    <tr>\n",
       "      <th>4</th>\n",
       "      <td>1300</td>\n",
       "      <td>1081</td>\n",
       "      <td>1122</td>\n",
       "      <td>1162</td>\n",
       "      <td>1487</td>\n",
       "      <td>2336</td>\n",
       "      <td>2698</td>\n",
       "      <td>2603</td>\n",
       "      <td>2984</td>\n",
       "      <td>710</td>\n",
       "      <td>...</td>\n",
       "      <td>1214</td>\n",
       "      <td>1930</td>\n",
       "      <td>0</td>\n",
       "      <td>143</td>\n",
       "      <td>291</td>\n",
       "      <td>1972</td>\n",
       "      <td>87</td>\n",
       "      <td>270</td>\n",
       "      <td>V7PZBCG</td>\n",
       "      <td>2.679</td>\n",
       "    </tr>\n",
       "  </tbody>\n",
       "</table>\n",
       "<p>5 rows × 362 columns</p>\n",
       "</div>"
      ],
      "text/plain": [
       "   0_S2_B1  0_S2_B2  0_S2_B3  0_S2_B4  0_S2_B5  0_S2_B6  0_S2_B7  0_S2_B8  \\\n",
       "0     1024      934      932     1173     1392     1798     2044     2038   \n",
       "1     1023      880      821      924     1116     1630     1870     1951   \n",
       "2     1095     1016     1070     1357     1632     1972     2256     2137   \n",
       "3      976      777      784      639     1064     2014     2561     2588   \n",
       "4     1300     1081     1122     1162     1487     2336     2698     2603   \n",
       "\n",
       "   0_S2_B8A  0_S2_B9  ...  11_CLIM_soil  11_CLIM_srad  11_CLIM_swe  \\\n",
       "0      2327     1072  ...           215          1880            0   \n",
       "1      2040      929  ...           215          1883            0   \n",
       "2      2588      957  ...           289          1875            0   \n",
       "3      2921     1300  ...           189          1898            0   \n",
       "4      2984      710  ...          1214          1930            0   \n",
       "\n",
       "   11_CLIM_tmmn  11_CLIM_tmmx  11_CLIM_vap  11_CLIM_vpd  11_CLIM_vs  Field_ID  \\\n",
       "0           100           267         1680           69         210   MH2O0YH   \n",
       "1            99           273         1682           75         190   O9TURWL   \n",
       "2           100           274         1690           76         200   35AFSDD   \n",
       "3            98           263         1688           64         210   PM05EG9   \n",
       "4           143           291         1972           87         270   V7PZBCG   \n",
       "\n",
       "   Yield  \n",
       "0  3.686  \n",
       "1  5.657  \n",
       "2  3.082  \n",
       "3  2.707  \n",
       "4  2.679  \n",
       "\n",
       "[5 rows x 362 columns]"
      ]
     },
     "execution_count": 17,
     "metadata": {},
     "output_type": "execute_result"
    }
   ],
   "source": [
    "# Make a new DF with the sampled values from each field \n",
    "train_sampled = pd.DataFrame([process_im(fid) for fid in train_new['Field_ID'].values])\n",
    "\n",
    "# Add in the field ID and yield\n",
    "train_sampled['Field_ID'] = train_new['Field_ID'].values\n",
    "train_sampled['Yield'] = train_new['Yield'].values\n",
    "train_sampled.head()"
   ]
  },
  {
   "cell_type": "code",
   "execution_count": 18,
   "metadata": {
    "id": "C4O1DGzgpeCq"
   },
   "outputs": [],
   "source": [
    "train_sampled.to_csv(\"train_df_cust.csv\", index = False) # Saving train dataset"
   ]
  },
  {
   "cell_type": "code",
   "execution_count": 19,
   "metadata": {
    "id": "v_S1kRI4phxk"
   },
   "outputs": [],
   "source": [
    "train_sampled = pd.read_csv(\"train_df_cust.csv\") # Reading back train dataset"
   ]
  },
  {
   "cell_type": "code",
   "execution_count": 20,
   "metadata": {
    "colab": {
     "base_uri": "https://localhost:8080/",
     "height": 224
    },
    "id": "Bxzk5Z00UaB_",
    "outputId": "33d7bade-887b-4fbd-ffd2-48a601719e2b"
   },
   "outputs": [
    {
     "data": {
      "text/html": [
       "<div>\n",
       "<style scoped>\n",
       "    .dataframe tbody tr th:only-of-type {\n",
       "        vertical-align: middle;\n",
       "    }\n",
       "\n",
       "    .dataframe tbody tr th {\n",
       "        vertical-align: top;\n",
       "    }\n",
       "\n",
       "    .dataframe thead th {\n",
       "        text-align: right;\n",
       "    }\n",
       "</style>\n",
       "<table border=\"1\" class=\"dataframe\">\n",
       "  <thead>\n",
       "    <tr style=\"text-align: right;\">\n",
       "      <th></th>\n",
       "      <th>0_S2_B1</th>\n",
       "      <th>0_S2_B2</th>\n",
       "      <th>0_S2_B3</th>\n",
       "      <th>0_S2_B4</th>\n",
       "      <th>0_S2_B5</th>\n",
       "      <th>0_S2_B6</th>\n",
       "      <th>0_S2_B7</th>\n",
       "      <th>0_S2_B8</th>\n",
       "      <th>0_S2_B8A</th>\n",
       "      <th>0_S2_B9</th>\n",
       "      <th>...</th>\n",
       "      <th>11_CLIM_pr</th>\n",
       "      <th>11_CLIM_ro</th>\n",
       "      <th>11_CLIM_soil</th>\n",
       "      <th>11_CLIM_srad</th>\n",
       "      <th>11_CLIM_swe</th>\n",
       "      <th>11_CLIM_tmmn</th>\n",
       "      <th>11_CLIM_tmmx</th>\n",
       "      <th>11_CLIM_vap</th>\n",
       "      <th>11_CLIM_vpd</th>\n",
       "      <th>11_CLIM_vs</th>\n",
       "    </tr>\n",
       "  </thead>\n",
       "  <tbody>\n",
       "    <tr>\n",
       "      <th>0</th>\n",
       "      <td>1133</td>\n",
       "      <td>920</td>\n",
       "      <td>987</td>\n",
       "      <td>781</td>\n",
       "      <td>1252</td>\n",
       "      <td>2551</td>\n",
       "      <td>3132</td>\n",
       "      <td>2926</td>\n",
       "      <td>3226</td>\n",
       "      <td>769</td>\n",
       "      <td>...</td>\n",
       "      <td>157</td>\n",
       "      <td>8</td>\n",
       "      <td>618</td>\n",
       "      <td>1990</td>\n",
       "      <td>0</td>\n",
       "      <td>147</td>\n",
       "      <td>296</td>\n",
       "      <td>1811</td>\n",
       "      <td>111</td>\n",
       "      <td>270</td>\n",
       "    </tr>\n",
       "    <tr>\n",
       "      <th>1</th>\n",
       "      <td>1140</td>\n",
       "      <td>899</td>\n",
       "      <td>928</td>\n",
       "      <td>696</td>\n",
       "      <td>1129</td>\n",
       "      <td>2604</td>\n",
       "      <td>2995</td>\n",
       "      <td>2951</td>\n",
       "      <td>3368</td>\n",
       "      <td>716</td>\n",
       "      <td>...</td>\n",
       "      <td>157</td>\n",
       "      <td>8</td>\n",
       "      <td>618</td>\n",
       "      <td>1990</td>\n",
       "      <td>0</td>\n",
       "      <td>147</td>\n",
       "      <td>296</td>\n",
       "      <td>1811</td>\n",
       "      <td>111</td>\n",
       "      <td>270</td>\n",
       "    </tr>\n",
       "    <tr>\n",
       "      <th>2</th>\n",
       "      <td>1117</td>\n",
       "      <td>966</td>\n",
       "      <td>1019</td>\n",
       "      <td>960</td>\n",
       "      <td>1299</td>\n",
       "      <td>2152</td>\n",
       "      <td>2422</td>\n",
       "      <td>2351</td>\n",
       "      <td>2749</td>\n",
       "      <td>688</td>\n",
       "      <td>...</td>\n",
       "      <td>153</td>\n",
       "      <td>8</td>\n",
       "      <td>583</td>\n",
       "      <td>2002</td>\n",
       "      <td>0</td>\n",
       "      <td>150</td>\n",
       "      <td>297</td>\n",
       "      <td>1829</td>\n",
       "      <td>112</td>\n",
       "      <td>270</td>\n",
       "    </tr>\n",
       "    <tr>\n",
       "      <th>3</th>\n",
       "      <td>1147</td>\n",
       "      <td>923</td>\n",
       "      <td>1032</td>\n",
       "      <td>672</td>\n",
       "      <td>1191</td>\n",
       "      <td>2609</td>\n",
       "      <td>3211</td>\n",
       "      <td>3450</td>\n",
       "      <td>3380</td>\n",
       "      <td>762</td>\n",
       "      <td>...</td>\n",
       "      <td>153</td>\n",
       "      <td>8</td>\n",
       "      <td>583</td>\n",
       "      <td>2002</td>\n",
       "      <td>0</td>\n",
       "      <td>150</td>\n",
       "      <td>297</td>\n",
       "      <td>1829</td>\n",
       "      <td>112</td>\n",
       "      <td>270</td>\n",
       "    </tr>\n",
       "    <tr>\n",
       "      <th>4</th>\n",
       "      <td>1141</td>\n",
       "      <td>987</td>\n",
       "      <td>1047</td>\n",
       "      <td>1343</td>\n",
       "      <td>1441</td>\n",
       "      <td>2055</td>\n",
       "      <td>2415</td>\n",
       "      <td>2097</td>\n",
       "      <td>2575</td>\n",
       "      <td>718</td>\n",
       "      <td>...</td>\n",
       "      <td>153</td>\n",
       "      <td>8</td>\n",
       "      <td>583</td>\n",
       "      <td>2002</td>\n",
       "      <td>0</td>\n",
       "      <td>150</td>\n",
       "      <td>297</td>\n",
       "      <td>1829</td>\n",
       "      <td>112</td>\n",
       "      <td>270</td>\n",
       "    </tr>\n",
       "  </tbody>\n",
       "</table>\n",
       "<p>5 rows × 360 columns</p>\n",
       "</div>"
      ],
      "text/plain": [
       "   0_S2_B1  0_S2_B2  0_S2_B3  0_S2_B4  0_S2_B5  0_S2_B6  0_S2_B7  0_S2_B8  \\\n",
       "0     1133      920      987      781     1252     2551     3132     2926   \n",
       "1     1140      899      928      696     1129     2604     2995     2951   \n",
       "2     1117      966     1019      960     1299     2152     2422     2351   \n",
       "3     1147      923     1032      672     1191     2609     3211     3450   \n",
       "4     1141      987     1047     1343     1441     2055     2415     2097   \n",
       "\n",
       "   0_S2_B8A  0_S2_B9  ...  11_CLIM_pr  11_CLIM_ro  11_CLIM_soil  11_CLIM_srad  \\\n",
       "0      3226      769  ...         157           8           618          1990   \n",
       "1      3368      716  ...         157           8           618          1990   \n",
       "2      2749      688  ...         153           8           583          2002   \n",
       "3      3380      762  ...         153           8           583          2002   \n",
       "4      2575      718  ...         153           8           583          2002   \n",
       "\n",
       "   11_CLIM_swe  11_CLIM_tmmn  11_CLIM_tmmx  11_CLIM_vap  11_CLIM_vpd  \\\n",
       "0            0           147           296         1811          111   \n",
       "1            0           147           296         1811          111   \n",
       "2            0           150           297         1829          112   \n",
       "3            0           150           297         1829          112   \n",
       "4            0           150           297         1829          112   \n",
       "\n",
       "   11_CLIM_vs  \n",
       "0         270  \n",
       "1         270  \n",
       "2         270  \n",
       "3         270  \n",
       "4         270  \n",
       "\n",
       "[5 rows x 360 columns]"
      ]
     },
     "execution_count": 20,
     "metadata": {},
     "output_type": "execute_result"
    }
   ],
   "source": [
    "# Prep the data, using the same method we did for train\n",
    "test_sampled = pd.DataFrame([process_im(fid, folder='image_arrays_test') for fid in ss['Field_ID'].values])\n",
    "test_sampled.head()"
   ]
  },
  {
   "cell_type": "code",
   "execution_count": 21,
   "metadata": {
    "id": "BT9gEBffjvo8"
   },
   "outputs": [],
   "source": [
    "test_sampled.to_csv(\"test_df_cust.csv\", index = False) # Saving test dataset"
   ]
  },
  {
   "cell_type": "code",
   "execution_count": 22,
   "metadata": {
    "colab": {
     "base_uri": "https://localhost:8080/",
     "height": 224
    },
    "id": "XjwO8QgZkmDx",
    "outputId": "2006e428-d7b3-4aa3-e863-3a9be1818824"
   },
   "outputs": [
    {
     "data": {
      "text/html": [
       "<div>\n",
       "<style scoped>\n",
       "    .dataframe tbody tr th:only-of-type {\n",
       "        vertical-align: middle;\n",
       "    }\n",
       "\n",
       "    .dataframe tbody tr th {\n",
       "        vertical-align: top;\n",
       "    }\n",
       "\n",
       "    .dataframe thead th {\n",
       "        text-align: right;\n",
       "    }\n",
       "</style>\n",
       "<table border=\"1\" class=\"dataframe\">\n",
       "  <thead>\n",
       "    <tr style=\"text-align: right;\">\n",
       "      <th></th>\n",
       "      <th>0_S2_B1</th>\n",
       "      <th>0_S2_B2</th>\n",
       "      <th>0_S2_B3</th>\n",
       "      <th>0_S2_B4</th>\n",
       "      <th>0_S2_B5</th>\n",
       "      <th>0_S2_B6</th>\n",
       "      <th>0_S2_B7</th>\n",
       "      <th>0_S2_B8</th>\n",
       "      <th>0_S2_B8A</th>\n",
       "      <th>0_S2_B9</th>\n",
       "      <th>...</th>\n",
       "      <th>11_CLIM_pr</th>\n",
       "      <th>11_CLIM_ro</th>\n",
       "      <th>11_CLIM_soil</th>\n",
       "      <th>11_CLIM_srad</th>\n",
       "      <th>11_CLIM_swe</th>\n",
       "      <th>11_CLIM_tmmn</th>\n",
       "      <th>11_CLIM_tmmx</th>\n",
       "      <th>11_CLIM_vap</th>\n",
       "      <th>11_CLIM_vpd</th>\n",
       "      <th>11_CLIM_vs</th>\n",
       "    </tr>\n",
       "  </thead>\n",
       "  <tbody>\n",
       "    <tr>\n",
       "      <th>0</th>\n",
       "      <td>1133</td>\n",
       "      <td>920</td>\n",
       "      <td>987</td>\n",
       "      <td>781</td>\n",
       "      <td>1252</td>\n",
       "      <td>2551</td>\n",
       "      <td>3132</td>\n",
       "      <td>2926</td>\n",
       "      <td>3226</td>\n",
       "      <td>769</td>\n",
       "      <td>...</td>\n",
       "      <td>157</td>\n",
       "      <td>8</td>\n",
       "      <td>618</td>\n",
       "      <td>1990</td>\n",
       "      <td>0</td>\n",
       "      <td>147</td>\n",
       "      <td>296</td>\n",
       "      <td>1811</td>\n",
       "      <td>111</td>\n",
       "      <td>270</td>\n",
       "    </tr>\n",
       "    <tr>\n",
       "      <th>1</th>\n",
       "      <td>1140</td>\n",
       "      <td>899</td>\n",
       "      <td>928</td>\n",
       "      <td>696</td>\n",
       "      <td>1129</td>\n",
       "      <td>2604</td>\n",
       "      <td>2995</td>\n",
       "      <td>2951</td>\n",
       "      <td>3368</td>\n",
       "      <td>716</td>\n",
       "      <td>...</td>\n",
       "      <td>157</td>\n",
       "      <td>8</td>\n",
       "      <td>618</td>\n",
       "      <td>1990</td>\n",
       "      <td>0</td>\n",
       "      <td>147</td>\n",
       "      <td>296</td>\n",
       "      <td>1811</td>\n",
       "      <td>111</td>\n",
       "      <td>270</td>\n",
       "    </tr>\n",
       "    <tr>\n",
       "      <th>2</th>\n",
       "      <td>1117</td>\n",
       "      <td>966</td>\n",
       "      <td>1019</td>\n",
       "      <td>960</td>\n",
       "      <td>1299</td>\n",
       "      <td>2152</td>\n",
       "      <td>2422</td>\n",
       "      <td>2351</td>\n",
       "      <td>2749</td>\n",
       "      <td>688</td>\n",
       "      <td>...</td>\n",
       "      <td>153</td>\n",
       "      <td>8</td>\n",
       "      <td>583</td>\n",
       "      <td>2002</td>\n",
       "      <td>0</td>\n",
       "      <td>150</td>\n",
       "      <td>297</td>\n",
       "      <td>1829</td>\n",
       "      <td>112</td>\n",
       "      <td>270</td>\n",
       "    </tr>\n",
       "    <tr>\n",
       "      <th>3</th>\n",
       "      <td>1147</td>\n",
       "      <td>923</td>\n",
       "      <td>1032</td>\n",
       "      <td>672</td>\n",
       "      <td>1191</td>\n",
       "      <td>2609</td>\n",
       "      <td>3211</td>\n",
       "      <td>3450</td>\n",
       "      <td>3380</td>\n",
       "      <td>762</td>\n",
       "      <td>...</td>\n",
       "      <td>153</td>\n",
       "      <td>8</td>\n",
       "      <td>583</td>\n",
       "      <td>2002</td>\n",
       "      <td>0</td>\n",
       "      <td>150</td>\n",
       "      <td>297</td>\n",
       "      <td>1829</td>\n",
       "      <td>112</td>\n",
       "      <td>270</td>\n",
       "    </tr>\n",
       "    <tr>\n",
       "      <th>4</th>\n",
       "      <td>1141</td>\n",
       "      <td>987</td>\n",
       "      <td>1047</td>\n",
       "      <td>1343</td>\n",
       "      <td>1441</td>\n",
       "      <td>2055</td>\n",
       "      <td>2415</td>\n",
       "      <td>2097</td>\n",
       "      <td>2575</td>\n",
       "      <td>718</td>\n",
       "      <td>...</td>\n",
       "      <td>153</td>\n",
       "      <td>8</td>\n",
       "      <td>583</td>\n",
       "      <td>2002</td>\n",
       "      <td>0</td>\n",
       "      <td>150</td>\n",
       "      <td>297</td>\n",
       "      <td>1829</td>\n",
       "      <td>112</td>\n",
       "      <td>270</td>\n",
       "    </tr>\n",
       "  </tbody>\n",
       "</table>\n",
       "<p>5 rows × 360 columns</p>\n",
       "</div>"
      ],
      "text/plain": [
       "   0_S2_B1  0_S2_B2  0_S2_B3  0_S2_B4  0_S2_B5  0_S2_B6  0_S2_B7  0_S2_B8  \\\n",
       "0     1133      920      987      781     1252     2551     3132     2926   \n",
       "1     1140      899      928      696     1129     2604     2995     2951   \n",
       "2     1117      966     1019      960     1299     2152     2422     2351   \n",
       "3     1147      923     1032      672     1191     2609     3211     3450   \n",
       "4     1141      987     1047     1343     1441     2055     2415     2097   \n",
       "\n",
       "   0_S2_B8A  0_S2_B9  ...  11_CLIM_pr  11_CLIM_ro  11_CLIM_soil  11_CLIM_srad  \\\n",
       "0      3226      769  ...         157           8           618          1990   \n",
       "1      3368      716  ...         157           8           618          1990   \n",
       "2      2749      688  ...         153           8           583          2002   \n",
       "3      3380      762  ...         153           8           583          2002   \n",
       "4      2575      718  ...         153           8           583          2002   \n",
       "\n",
       "   11_CLIM_swe  11_CLIM_tmmn  11_CLIM_tmmx  11_CLIM_vap  11_CLIM_vpd  \\\n",
       "0            0           147           296         1811          111   \n",
       "1            0           147           296         1811          111   \n",
       "2            0           150           297         1829          112   \n",
       "3            0           150           297         1829          112   \n",
       "4            0           150           297         1829          112   \n",
       "\n",
       "   11_CLIM_vs  \n",
       "0         270  \n",
       "1         270  \n",
       "2         270  \n",
       "3         270  \n",
       "4         270  \n",
       "\n",
       "[5 rows x 360 columns]"
      ]
     },
     "execution_count": 22,
     "metadata": {},
     "output_type": "execute_result"
    }
   ],
   "source": [
    "test_sampled1 = pd.read_csv(\"test_df_cust.csv\") # Reading back test dataset\n",
    "test_sampled1.head()"
   ]
  },
  {
   "cell_type": "code",
   "execution_count": 23,
   "metadata": {
    "colab": {
     "base_uri": "https://localhost:8080/"
    },
    "id": "s5n2W_y6Ut5J",
    "outputId": "3dfed661-8c69-47ef-ba14-e63eef5cd060"
   },
   "outputs": [
    {
     "data": {
      "text/plain": [
       "((2977, 362), (1055, 360), (1055, 2))"
      ]
     },
     "execution_count": 23,
     "metadata": {},
     "output_type": "execute_result"
    }
   ],
   "source": [
    "train_sampled.shape, test_sampled1.shape, ss.shape"
   ]
  },
  {
   "cell_type": "markdown",
   "metadata": {
    "id": "oOqULERlbcg4"
   },
   "source": [
    "#Application of Deep Neural Network with Tensorflow on \"Zindi -CGIAR Crop Yield Prediction Challenge\""
   ]
  },
  {
   "cell_type": "markdown",
   "metadata": {
    "id": "13AUl0v4jP1l"
   },
   "source": [
    "The purpose of this notebook is to build a model (Deep Neural Network) with Tensorflow. We will see the differents steps to do that. This notebook is split in several parts:\n",
    "\n",
    "I. Importation & Devices Available\n",
    "\n",
    "II. Outliers\n",
    "\n",
    "III. Preprocessing\n",
    "\n",
    "IV. DNNRegressor for Contiunuous features\n",
    "\n",
    "V. Predictions\n",
    "\n",
    "VI. Example with Leaky Relu\n",
    "\n",
    "VII. DNNRegressor for Continuous and Categorial\n",
    "\n",
    "VIII. Predictions bis\n",
    "\n",
    "IX. Shallow Neural Network\n",
    "\n",
    "X. Conclusion\n",
    "\n",
    "We will expose 3 models. The first one will use just the continuous features, the second one we will add the categorical features and finally we will use a Neural Network with just one layer.\n",
    "\n",
    "Theey are no tuning and we will use DNNRegressor with Relu for all activations functions and the number of units by layer are: [100, 75, 50, 25, 12]. So we have 5 layers.\n",
    "\n",
    "In the part VI I show how to use another activation function with the example of Leaky Relu. Finally I will try to use a Shallow Neural Network (just with one Hidden Layer) just for fun.\n",
    "\n",
    "If you have an idea to improve the performance of the model: Share it ! Fork it ! And play with it !"
   ]
  },
  {
   "cell_type": "code",
   "execution_count": 23,
   "metadata": {
    "colab": {
     "base_uri": "https://localhost:8080/"
    },
    "id": "roahWuMfjT0e",
    "outputId": "3e2424c7-3e50-4263-f618-ec9fee1088a6"
   },
   "outputs": [
    {
     "name": "stdout",
     "output_type": "stream",
     "text": [
      "Shape of the train data with all features: (2977, 362)\n",
      "\n",
      "Shape of the train data with numerical features: (2977, 361)\n",
      "\n",
      "List of features contained our dataset: ['0_S2_B1', '0_S2_B2', '0_S2_B3', '0_S2_B4', '0_S2_B5', '0_S2_B6', '0_S2_B7', '0_S2_B8', '0_S2_B8A', '0_S2_B9', '0_S2_B10', '0_S2_B11', '0_S2_B12', '0_S2_QA10', '0_S2_QA20', '0_S2_QA60', '0_CLIM_aet', '0_CLIM_def', '0_CLIM_pdsi', '0_CLIM_pet', '0_CLIM_pr', '0_CLIM_ro', '0_CLIM_soil', '0_CLIM_srad', '0_CLIM_swe', '0_CLIM_tmmn', '0_CLIM_tmmx', '0_CLIM_vap', '0_CLIM_vpd', '0_CLIM_vs', '1_S2_B1', '1_S2_B2', '1_S2_B3', '1_S2_B4', '1_S2_B5', '1_S2_B6', '1_S2_B7', '1_S2_B8', '1_S2_B8A', '1_S2_B9', '1_S2_B10', '1_S2_B11', '1_S2_B12', '1_S2_QA10', '1_S2_QA20', '1_S2_QA60', '1_CLIM_aet', '1_CLIM_def', '1_CLIM_pdsi', '1_CLIM_pet', '1_CLIM_pr', '1_CLIM_ro', '1_CLIM_soil', '1_CLIM_srad', '1_CLIM_swe', '1_CLIM_tmmn', '1_CLIM_tmmx', '1_CLIM_vap', '1_CLIM_vpd', '1_CLIM_vs', '2_S2_B1', '2_S2_B2', '2_S2_B3', '2_S2_B4', '2_S2_B5', '2_S2_B6', '2_S2_B7', '2_S2_B8', '2_S2_B8A', '2_S2_B9', '2_S2_B10', '2_S2_B11', '2_S2_B12', '2_S2_QA10', '2_S2_QA20', '2_S2_QA60', '2_CLIM_aet', '2_CLIM_def', '2_CLIM_pdsi', '2_CLIM_pet', '2_CLIM_pr', '2_CLIM_ro', '2_CLIM_soil', '2_CLIM_srad', '2_CLIM_swe', '2_CLIM_tmmn', '2_CLIM_tmmx', '2_CLIM_vap', '2_CLIM_vpd', '2_CLIM_vs', '3_S2_B1', '3_S2_B2', '3_S2_B3', '3_S2_B4', '3_S2_B5', '3_S2_B6', '3_S2_B7', '3_S2_B8', '3_S2_B8A', '3_S2_B9', '3_S2_B10', '3_S2_B11', '3_S2_B12', '3_S2_QA10', '3_S2_QA20', '3_S2_QA60', '3_CLIM_aet', '3_CLIM_def', '3_CLIM_pdsi', '3_CLIM_pet', '3_CLIM_pr', '3_CLIM_ro', '3_CLIM_soil', '3_CLIM_srad', '3_CLIM_swe', '3_CLIM_tmmn', '3_CLIM_tmmx', '3_CLIM_vap', '3_CLIM_vpd', '3_CLIM_vs', '4_S2_B1', '4_S2_B2', '4_S2_B3', '4_S2_B4', '4_S2_B5', '4_S2_B6', '4_S2_B7', '4_S2_B8', '4_S2_B8A', '4_S2_B9', '4_S2_B10', '4_S2_B11', '4_S2_B12', '4_S2_QA10', '4_S2_QA20', '4_S2_QA60', '4_CLIM_aet', '4_CLIM_def', '4_CLIM_pdsi', '4_CLIM_pet', '4_CLIM_pr', '4_CLIM_ro', '4_CLIM_soil', '4_CLIM_srad', '4_CLIM_swe', '4_CLIM_tmmn', '4_CLIM_tmmx', '4_CLIM_vap', '4_CLIM_vpd', '4_CLIM_vs', '5_S2_B1', '5_S2_B2', '5_S2_B3', '5_S2_B4', '5_S2_B5', '5_S2_B6', '5_S2_B7', '5_S2_B8', '5_S2_B8A', '5_S2_B9', '5_S2_B10', '5_S2_B11', '5_S2_B12', '5_S2_QA10', '5_S2_QA20', '5_S2_QA60', '5_CLIM_aet', '5_CLIM_def', '5_CLIM_pdsi', '5_CLIM_pet', '5_CLIM_pr', '5_CLIM_ro', '5_CLIM_soil', '5_CLIM_srad', '5_CLIM_swe', '5_CLIM_tmmn', '5_CLIM_tmmx', '5_CLIM_vap', '5_CLIM_vpd', '5_CLIM_vs', '6_S2_B1', '6_S2_B2', '6_S2_B3', '6_S2_B4', '6_S2_B5', '6_S2_B6', '6_S2_B7', '6_S2_B8', '6_S2_B8A', '6_S2_B9', '6_S2_B10', '6_S2_B11', '6_S2_B12', '6_S2_QA10', '6_S2_QA20', '6_S2_QA60', '6_CLIM_aet', '6_CLIM_def', '6_CLIM_pdsi', '6_CLIM_pet', '6_CLIM_pr', '6_CLIM_ro', '6_CLIM_soil', '6_CLIM_srad', '6_CLIM_swe', '6_CLIM_tmmn', '6_CLIM_tmmx', '6_CLIM_vap', '6_CLIM_vpd', '6_CLIM_vs', '7_S2_B1', '7_S2_B2', '7_S2_B3', '7_S2_B4', '7_S2_B5', '7_S2_B6', '7_S2_B7', '7_S2_B8', '7_S2_B8A', '7_S2_B9', '7_S2_B10', '7_S2_B11', '7_S2_B12', '7_S2_QA10', '7_S2_QA20', '7_S2_QA60', '7_CLIM_aet', '7_CLIM_def', '7_CLIM_pdsi', '7_CLIM_pet', '7_CLIM_pr', '7_CLIM_ro', '7_CLIM_soil', '7_CLIM_srad', '7_CLIM_swe', '7_CLIM_tmmn', '7_CLIM_tmmx', '7_CLIM_vap', '7_CLIM_vpd', '7_CLIM_vs', '8_S2_B1', '8_S2_B2', '8_S2_B3', '8_S2_B4', '8_S2_B5', '8_S2_B6', '8_S2_B7', '8_S2_B8', '8_S2_B8A', '8_S2_B9', '8_S2_B10', '8_S2_B11', '8_S2_B12', '8_S2_QA10', '8_S2_QA20', '8_S2_QA60', '8_CLIM_aet', '8_CLIM_def', '8_CLIM_pdsi', '8_CLIM_pet', '8_CLIM_pr', '8_CLIM_ro', '8_CLIM_soil', '8_CLIM_srad', '8_CLIM_swe', '8_CLIM_tmmn', '8_CLIM_tmmx', '8_CLIM_vap', '8_CLIM_vpd', '8_CLIM_vs', '9_S2_B1', '9_S2_B2', '9_S2_B3', '9_S2_B4', '9_S2_B5', '9_S2_B6', '9_S2_B7', '9_S2_B8', '9_S2_B8A', '9_S2_B9', '9_S2_B10', '9_S2_B11', '9_S2_B12', '9_S2_QA10', '9_S2_QA20', '9_S2_QA60', '9_CLIM_aet', '9_CLIM_def', '9_CLIM_pdsi', '9_CLIM_pet', '9_CLIM_pr', '9_CLIM_ro', '9_CLIM_soil', '9_CLIM_srad', '9_CLIM_swe', '9_CLIM_tmmn', '9_CLIM_tmmx', '9_CLIM_vap', '9_CLIM_vpd', '9_CLIM_vs', '10_S2_B1', '10_S2_B2', '10_S2_B3', '10_S2_B4', '10_S2_B5', '10_S2_B6', '10_S2_B7', '10_S2_B8', '10_S2_B8A', '10_S2_B9', '10_S2_B10', '10_S2_B11', '10_S2_B12', '10_S2_QA10', '10_S2_QA20', '10_S2_QA60', '10_CLIM_aet', '10_CLIM_def', '10_CLIM_pdsi', '10_CLIM_pet', '10_CLIM_pr', '10_CLIM_ro', '10_CLIM_soil', '10_CLIM_srad', '10_CLIM_swe', '10_CLIM_tmmn', '10_CLIM_tmmx', '10_CLIM_vap', '10_CLIM_vpd', '10_CLIM_vs', '11_S2_B1', '11_S2_B2', '11_S2_B3', '11_S2_B4', '11_S2_B5', '11_S2_B6', '11_S2_B7', '11_S2_B8', '11_S2_B8A', '11_S2_B9', '11_S2_B10', '11_S2_B11', '11_S2_B12', '11_S2_QA10', '11_S2_QA20', '11_S2_QA60', '11_CLIM_aet', '11_CLIM_def', '11_CLIM_pdsi', '11_CLIM_pet', '11_CLIM_pr', '11_CLIM_ro', '11_CLIM_soil', '11_CLIM_srad', '11_CLIM_swe', '11_CLIM_tmmn', '11_CLIM_tmmx', '11_CLIM_vap', '11_CLIM_vpd', '11_CLIM_vs', 'Yield']\n"
     ]
    }
   ],
   "source": [
    "from __future__ import absolute_import\n",
    "from __future__ import division\n",
    "from __future__ import print_function\n",
    "import itertools\n",
    "import pandas as pd\n",
    "import numpy as np\n",
    "import matplotlib.pyplot as plt\n",
    "from pylab import rcParams\n",
    "import matplotlib\n",
    "from sklearn.model_selection import train_test_split\n",
    "from sklearn.preprocessing import MinMaxScaler\n",
    "\n",
    "train = pd.read_csv('train_df_cust.csv')\n",
    "print('Shape of the train data with all features:', train.shape)\n",
    "train = train.select_dtypes(exclude=['object'])\n",
    "print(\"\")\n",
    "print('Shape of the train data with numerical features:', train.shape)\n",
    "\n",
    "test = pd.read_csv('test_df_cust.csv')\n",
    "test = test.select_dtypes(exclude=['object'])\n",
    "\n",
    "print(\"\")\n",
    "print(\"List of features contained our dataset:\",list(train.columns))"
   ]
  },
  {
   "cell_type": "code",
   "execution_count": 24,
   "metadata": {
    "colab": {
     "base_uri": "https://localhost:8080/"
    },
    "id": "RmGf4vvUqqum",
    "outputId": "4dbda932-b09e-4fb7-bd49-974d2bcd41f6"
   },
   "outputs": [
    {
     "data": {
      "text/plain": [
       "((2977, 361), (1055, 360))"
      ]
     },
     "execution_count": 24,
     "metadata": {},
     "output_type": "execute_result"
    }
   ],
   "source": [
    "train.shape, test.shape"
   ]
  },
  {
   "cell_type": "markdown",
   "metadata": {
    "id": "cRdCNUigrLG1"
   },
   "source": [
    "#Outliers"
   ]
  },
  {
   "cell_type": "code",
   "execution_count": 25,
   "metadata": {
    "colab": {
     "base_uri": "https://localhost:8080/"
    },
    "id": "jI9N1RHOjZSg",
    "outputId": "b9a32962-58c2-4747-c5cf-eab08e2bc224"
   },
   "outputs": [
    {
     "name": "stdout",
     "output_type": "stream",
     "text": [
      "Number of Outliers: 335\n",
      "Number of rows without outliers: 2642\n"
     ]
    }
   ],
   "source": [
    "from sklearn.ensemble import IsolationForest\n",
    "\n",
    "clf = IsolationForest(max_samples = 100, random_state = 42)\n",
    "clf.fit(train)\n",
    "y_noano = clf.predict(train)\n",
    "y_noano = pd.DataFrame(y_noano, columns = ['Top'])\n",
    "y_noano[y_noano['Top'] == 1].index.values\n",
    "\n",
    "train = train.iloc[y_noano[y_noano['Top'] == 1].index.values]\n",
    "train.reset_index(drop = True, inplace = True)\n",
    "print(\"Number of Outliers:\", y_noano[y_noano['Top'] == -1].shape[0])\n",
    "print(\"Number of rows without outliers:\", train.shape[0])"
   ]
  },
  {
   "cell_type": "code",
   "execution_count": 26,
   "metadata": {
    "colab": {
     "base_uri": "https://localhost:8080/",
     "height": 379
    },
    "id": "EOLi5SKYjZK6",
    "outputId": "c2d60cae-7d3b-4a7a-854c-fc3d6367bc5a"
   },
   "outputs": [],
   "source": [
    "# train.head(10)\n",
    "# a = train.corr()\n",
    "# a['Yield'].sort_values(ascending = False)[:40]\n",
    "# train.isna().sum().sum()"
   ]
  },
  {
   "cell_type": "markdown",
   "metadata": {
    "id": "1JiIfJltrh81"
   },
   "source": [
    "#Preprocessing"
   ]
  },
  {
   "cell_type": "code",
   "execution_count": 27,
   "metadata": {
    "colab": {
     "base_uri": "https://localhost:8080/",
     "height": 224
    },
    "id": "7ZdSEnGTjZHY",
    "outputId": "dbb7ac97-5a47-48a0-e32e-b21e8e75f806"
   },
   "outputs": [
    {
     "data": {
      "text/html": [
       "<div>\n",
       "<style scoped>\n",
       "    .dataframe tbody tr th:only-of-type {\n",
       "        vertical-align: middle;\n",
       "    }\n",
       "\n",
       "    .dataframe tbody tr th {\n",
       "        vertical-align: top;\n",
       "    }\n",
       "\n",
       "    .dataframe thead th {\n",
       "        text-align: right;\n",
       "    }\n",
       "</style>\n",
       "<table border=\"1\" class=\"dataframe\">\n",
       "  <thead>\n",
       "    <tr style=\"text-align: right;\">\n",
       "      <th></th>\n",
       "      <th>0_S2_B1</th>\n",
       "      <th>0_S2_B2</th>\n",
       "      <th>0_S2_B3</th>\n",
       "      <th>0_S2_B4</th>\n",
       "      <th>0_S2_B5</th>\n",
       "      <th>0_S2_B6</th>\n",
       "      <th>0_S2_B7</th>\n",
       "      <th>0_S2_B8</th>\n",
       "      <th>0_S2_B8A</th>\n",
       "      <th>0_S2_B9</th>\n",
       "      <th>...</th>\n",
       "      <th>11_CLIM_ro</th>\n",
       "      <th>11_CLIM_soil</th>\n",
       "      <th>11_CLIM_srad</th>\n",
       "      <th>11_CLIM_swe</th>\n",
       "      <th>11_CLIM_tmmn</th>\n",
       "      <th>11_CLIM_tmmx</th>\n",
       "      <th>11_CLIM_vap</th>\n",
       "      <th>11_CLIM_vpd</th>\n",
       "      <th>11_CLIM_vs</th>\n",
       "      <th>Yield</th>\n",
       "    </tr>\n",
       "  </thead>\n",
       "  <tbody>\n",
       "    <tr>\n",
       "      <th>0</th>\n",
       "      <td>0.136416</td>\n",
       "      <td>0.106016</td>\n",
       "      <td>0.137090</td>\n",
       "      <td>0.232233</td>\n",
       "      <td>0.340037</td>\n",
       "      <td>0.314738</td>\n",
       "      <td>0.272562</td>\n",
       "      <td>0.321037</td>\n",
       "      <td>0.287724</td>\n",
       "      <td>0.387002</td>\n",
       "      <td>...</td>\n",
       "      <td>0.036585</td>\n",
       "      <td>0.085096</td>\n",
       "      <td>0.249465</td>\n",
       "      <td>0.0</td>\n",
       "      <td>0.142857</td>\n",
       "      <td>0.288136</td>\n",
       "      <td>0.490446</td>\n",
       "      <td>0.231481</td>\n",
       "      <td>0.211640</td>\n",
       "      <td>0.391488</td>\n",
       "    </tr>\n",
       "    <tr>\n",
       "      <th>1</th>\n",
       "      <td>0.456647</td>\n",
       "      <td>0.205128</td>\n",
       "      <td>0.270630</td>\n",
       "      <td>0.324660</td>\n",
       "      <td>0.513564</td>\n",
       "      <td>0.580852</td>\n",
       "      <td>0.523319</td>\n",
       "      <td>0.508934</td>\n",
       "      <td>0.548138</td>\n",
       "      <td>0.258782</td>\n",
       "      <td>...</td>\n",
       "      <td>0.402439</td>\n",
       "      <td>0.565385</td>\n",
       "      <td>0.299786</td>\n",
       "      <td>0.0</td>\n",
       "      <td>0.626374</td>\n",
       "      <td>0.593220</td>\n",
       "      <td>0.798301</td>\n",
       "      <td>0.342593</td>\n",
       "      <td>0.634921</td>\n",
       "      <td>0.185398</td>\n",
       "    </tr>\n",
       "    <tr>\n",
       "      <th>2</th>\n",
       "      <td>0.327168</td>\n",
       "      <td>0.138067</td>\n",
       "      <td>0.193878</td>\n",
       "      <td>0.231068</td>\n",
       "      <td>0.456501</td>\n",
       "      <td>0.529589</td>\n",
       "      <td>0.477589</td>\n",
       "      <td>0.486455</td>\n",
       "      <td>0.501517</td>\n",
       "      <td>0.262295</td>\n",
       "      <td>...</td>\n",
       "      <td>0.378049</td>\n",
       "      <td>0.583654</td>\n",
       "      <td>0.280514</td>\n",
       "      <td>0.0</td>\n",
       "      <td>0.439560</td>\n",
       "      <td>0.440678</td>\n",
       "      <td>0.705945</td>\n",
       "      <td>0.250000</td>\n",
       "      <td>0.529101</td>\n",
       "      <td>0.298754</td>\n",
       "    </tr>\n",
       "    <tr>\n",
       "      <th>3</th>\n",
       "      <td>0.320231</td>\n",
       "      <td>0.146943</td>\n",
       "      <td>0.192103</td>\n",
       "      <td>0.245437</td>\n",
       "      <td>0.425631</td>\n",
       "      <td>0.489634</td>\n",
       "      <td>0.443671</td>\n",
       "      <td>0.434582</td>\n",
       "      <td>0.486897</td>\n",
       "      <td>0.253513</td>\n",
       "      <td>...</td>\n",
       "      <td>0.378049</td>\n",
       "      <td>0.583654</td>\n",
       "      <td>0.280514</td>\n",
       "      <td>0.0</td>\n",
       "      <td>0.439560</td>\n",
       "      <td>0.440678</td>\n",
       "      <td>0.705945</td>\n",
       "      <td>0.250000</td>\n",
       "      <td>0.529101</td>\n",
       "      <td>0.207543</td>\n",
       "    </tr>\n",
       "    <tr>\n",
       "      <th>4</th>\n",
       "      <td>0.454335</td>\n",
       "      <td>0.186391</td>\n",
       "      <td>0.255546</td>\n",
       "      <td>0.300583</td>\n",
       "      <td>0.433583</td>\n",
       "      <td>0.559744</td>\n",
       "      <td>0.504846</td>\n",
       "      <td>0.531700</td>\n",
       "      <td>0.537931</td>\n",
       "      <td>0.250585</td>\n",
       "      <td>...</td>\n",
       "      <td>0.402439</td>\n",
       "      <td>0.565385</td>\n",
       "      <td>0.299786</td>\n",
       "      <td>0.0</td>\n",
       "      <td>0.626374</td>\n",
       "      <td>0.593220</td>\n",
       "      <td>0.798301</td>\n",
       "      <td>0.342593</td>\n",
       "      <td>0.634921</td>\n",
       "      <td>0.290588</td>\n",
       "    </tr>\n",
       "  </tbody>\n",
       "</table>\n",
       "<p>5 rows × 361 columns</p>\n",
       "</div>"
      ],
      "text/plain": [
       "    0_S2_B1   0_S2_B2   0_S2_B3   0_S2_B4   0_S2_B5   0_S2_B6   0_S2_B7  \\\n",
       "0  0.136416  0.106016  0.137090  0.232233  0.340037  0.314738  0.272562   \n",
       "1  0.456647  0.205128  0.270630  0.324660  0.513564  0.580852  0.523319   \n",
       "2  0.327168  0.138067  0.193878  0.231068  0.456501  0.529589  0.477589   \n",
       "3  0.320231  0.146943  0.192103  0.245437  0.425631  0.489634  0.443671   \n",
       "4  0.454335  0.186391  0.255546  0.300583  0.433583  0.559744  0.504846   \n",
       "\n",
       "    0_S2_B8  0_S2_B8A   0_S2_B9  ...  11_CLIM_ro  11_CLIM_soil  11_CLIM_srad  \\\n",
       "0  0.321037  0.287724  0.387002  ...    0.036585      0.085096      0.249465   \n",
       "1  0.508934  0.548138  0.258782  ...    0.402439      0.565385      0.299786   \n",
       "2  0.486455  0.501517  0.262295  ...    0.378049      0.583654      0.280514   \n",
       "3  0.434582  0.486897  0.253513  ...    0.378049      0.583654      0.280514   \n",
       "4  0.531700  0.537931  0.250585  ...    0.402439      0.565385      0.299786   \n",
       "\n",
       "   11_CLIM_swe  11_CLIM_tmmn  11_CLIM_tmmx  11_CLIM_vap  11_CLIM_vpd  \\\n",
       "0          0.0      0.142857      0.288136     0.490446     0.231481   \n",
       "1          0.0      0.626374      0.593220     0.798301     0.342593   \n",
       "2          0.0      0.439560      0.440678     0.705945     0.250000   \n",
       "3          0.0      0.439560      0.440678     0.705945     0.250000   \n",
       "4          0.0      0.626374      0.593220     0.798301     0.342593   \n",
       "\n",
       "   11_CLIM_vs     Yield  \n",
       "0    0.211640  0.391488  \n",
       "1    0.634921  0.185398  \n",
       "2    0.529101  0.298754  \n",
       "3    0.529101  0.207543  \n",
       "4    0.634921  0.290588  \n",
       "\n",
       "[5 rows x 361 columns]"
      ]
     },
     "execution_count": 27,
     "metadata": {},
     "output_type": "execute_result"
    }
   ],
   "source": [
    "import warnings\n",
    "warnings.filterwarnings('ignore')\n",
    "\n",
    "col_train = list(train.columns)\n",
    "col_train_bis = list(train.columns)\n",
    "\n",
    "col_train_bis.remove('Yield')\n",
    "\n",
    "mat_train = np.matrix(train)\n",
    "mat_test  = np.matrix(test)\n",
    "mat_new = np.matrix(train.drop('Yield',axis = 1))\n",
    "mat_y = np.array(train.Yield).reshape((-1,1))\n",
    "\n",
    "prepro_y = MinMaxScaler()\n",
    "prepro_y.fit(mat_y)\n",
    "\n",
    "prepro = MinMaxScaler()\n",
    "prepro.fit(mat_train)\n",
    "\n",
    "prepro_test = MinMaxScaler()\n",
    "prepro_test.fit(mat_new)\n",
    "\n",
    "train = pd.DataFrame(prepro.transform(mat_train),columns = col_train)\n",
    "test  = pd.DataFrame(prepro_test.transform(mat_test),columns = col_train_bis)\n",
    "train.head()"
   ]
  },
  {
   "cell_type": "markdown",
   "metadata": {
    "id": "U1gFHO6nsAtX"
   },
   "source": [
    "\n",
    "To use Tensorflow we need to transform our data (features) in a special format. As a reminder we have just the continuous features. So the first function used is: tf.contrib.layers.real_valued_column. More information here: https://www.tensorflow.org/api_docs/python/tf/contrib/layers/real_valued_column\n",
    "\n",
    "The others cells allowed to us to create a train set and test set with our training data set."
   ]
  },
  {
   "cell_type": "code",
   "execution_count": 28,
   "metadata": {
    "colab": {
     "base_uri": "https://localhost:8080/"
    },
    "id": "vuxETMKztHNw",
    "outputId": "79c55a07-698a-4bf9-df56-7d15e1a4ff5b"
   },
   "outputs": [
    {
     "name": "stdout",
     "output_type": "stream",
     "text": [
      "2.3.0\n"
     ]
    }
   ],
   "source": [
    "import tensorflow\n",
    "print(tensorflow.__version__)"
   ]
  },
  {
   "cell_type": "code",
   "execution_count": 29,
   "metadata": {
    "id": "JhWP6foWPAx8"
   },
   "outputs": [],
   "source": [
    "import tensorflow as tf"
   ]
  },
  {
   "cell_type": "code",
   "execution_count": 30,
   "metadata": {},
   "outputs": [],
   "source": [
    "# col_train == col_train_bis + 'Yeild'"
   ]
  },
  {
   "cell_type": "code",
   "execution_count": 31,
   "metadata": {
    "colab": {
     "base_uri": "https://localhost:8080/"
    },
    "id": "qO7N_g5GrNXE",
    "outputId": "62d55f99-cd01-4d8d-d9b3-1fecd1e4b90e"
   },
   "outputs": [],
   "source": [
    "# List of features\n",
    "COLUMNS = col_train\n",
    "FEATURES = col_train_bis\n",
    "LABEL = \"Yield\"\n",
    "\n",
    "# Columns for tensorflow\n",
    "# feature_cols = [tf.contrib.layers.real_valued_column(k) for k in FEATURES]\n",
    "\n",
    "# Training set and Prediction set with the features to predict\n",
    "training_set = train[COLUMNS]\n",
    "prediction_set = train.Yield\n",
    "\n",
    "# Train and Test \n",
    "x_train, x_test, y_train, y_test = train_test_split(training_set[FEATURES] , prediction_set, test_size=0.20, random_state=42)\n",
    "y_train = pd.DataFrame(y_train, columns = [LABEL])\n",
    "training_set = pd.DataFrame(x_train, columns = FEATURES).merge(y_train, left_index = True, right_index = True)\n",
    "training_set.head()\n",
    "\n",
    "# Training for submission\n",
    "training_sub = training_set[col_train]"
   ]
  },
  {
   "cell_type": "code",
   "execution_count": 32,
   "metadata": {
    "colab": {
     "base_uri": "https://localhost:8080/",
     "height": 224
    },
    "id": "uSoNW480rZ-S",
    "outputId": "7550fdaf-dc7c-4d17-e043-92483dab71f9"
   },
   "outputs": [
    {
     "data": {
      "text/html": [
       "<div>\n",
       "<style scoped>\n",
       "    .dataframe tbody tr th:only-of-type {\n",
       "        vertical-align: middle;\n",
       "    }\n",
       "\n",
       "    .dataframe tbody tr th {\n",
       "        vertical-align: top;\n",
       "    }\n",
       "\n",
       "    .dataframe thead th {\n",
       "        text-align: right;\n",
       "    }\n",
       "</style>\n",
       "<table border=\"1\" class=\"dataframe\">\n",
       "  <thead>\n",
       "    <tr style=\"text-align: right;\">\n",
       "      <th></th>\n",
       "      <th>0_S2_B1</th>\n",
       "      <th>0_S2_B2</th>\n",
       "      <th>0_S2_B3</th>\n",
       "      <th>0_S2_B4</th>\n",
       "      <th>0_S2_B5</th>\n",
       "      <th>0_S2_B6</th>\n",
       "      <th>0_S2_B7</th>\n",
       "      <th>0_S2_B8</th>\n",
       "      <th>0_S2_B8A</th>\n",
       "      <th>0_S2_B9</th>\n",
       "      <th>...</th>\n",
       "      <th>11_CLIM_ro</th>\n",
       "      <th>11_CLIM_soil</th>\n",
       "      <th>11_CLIM_srad</th>\n",
       "      <th>11_CLIM_swe</th>\n",
       "      <th>11_CLIM_tmmn</th>\n",
       "      <th>11_CLIM_tmmx</th>\n",
       "      <th>11_CLIM_vap</th>\n",
       "      <th>11_CLIM_vpd</th>\n",
       "      <th>11_CLIM_vs</th>\n",
       "      <th>Yield</th>\n",
       "    </tr>\n",
       "  </thead>\n",
       "  <tbody>\n",
       "    <tr>\n",
       "      <th>1598</th>\n",
       "      <td>0.314451</td>\n",
       "      <td>0.255424</td>\n",
       "      <td>0.357587</td>\n",
       "      <td>0.551456</td>\n",
       "      <td>0.694107</td>\n",
       "      <td>0.664154</td>\n",
       "      <td>0.578740</td>\n",
       "      <td>0.629683</td>\n",
       "      <td>0.626207</td>\n",
       "      <td>0.643443</td>\n",
       "      <td>...</td>\n",
       "      <td>0.006098</td>\n",
       "      <td>0.022115</td>\n",
       "      <td>0.891863</td>\n",
       "      <td>0.0</td>\n",
       "      <td>0.802198</td>\n",
       "      <td>0.796610</td>\n",
       "      <td>0.504246</td>\n",
       "      <td>0.824074</td>\n",
       "      <td>0.952381</td>\n",
       "      <td>0.108997</td>\n",
       "    </tr>\n",
       "    <tr>\n",
       "      <th>2308</th>\n",
       "      <td>0.264740</td>\n",
       "      <td>0.144477</td>\n",
       "      <td>0.240461</td>\n",
       "      <td>0.251650</td>\n",
       "      <td>0.449018</td>\n",
       "      <td>0.554090</td>\n",
       "      <td>0.490309</td>\n",
       "      <td>0.538617</td>\n",
       "      <td>0.541793</td>\n",
       "      <td>0.301522</td>\n",
       "      <td>...</td>\n",
       "      <td>0.006098</td>\n",
       "      <td>0.067788</td>\n",
       "      <td>0.892934</td>\n",
       "      <td>0.0</td>\n",
       "      <td>0.439560</td>\n",
       "      <td>0.694915</td>\n",
       "      <td>0.200637</td>\n",
       "      <td>0.851852</td>\n",
       "      <td>0.523810</td>\n",
       "      <td>0.220623</td>\n",
       "    </tr>\n",
       "    <tr>\n",
       "      <th>2386</th>\n",
       "      <td>0.375723</td>\n",
       "      <td>0.123767</td>\n",
       "      <td>0.210736</td>\n",
       "      <td>0.163495</td>\n",
       "      <td>0.481291</td>\n",
       "      <td>0.647569</td>\n",
       "      <td>0.579346</td>\n",
       "      <td>0.566282</td>\n",
       "      <td>0.622069</td>\n",
       "      <td>0.216042</td>\n",
       "      <td>...</td>\n",
       "      <td>0.006098</td>\n",
       "      <td>0.023077</td>\n",
       "      <td>1.000000</td>\n",
       "      <td>0.0</td>\n",
       "      <td>0.956044</td>\n",
       "      <td>0.864407</td>\n",
       "      <td>0.588110</td>\n",
       "      <td>0.870370</td>\n",
       "      <td>1.000000</td>\n",
       "      <td>0.050173</td>\n",
       "    </tr>\n",
       "    <tr>\n",
       "      <th>978</th>\n",
       "      <td>0.367630</td>\n",
       "      <td>0.127219</td>\n",
       "      <td>0.188997</td>\n",
       "      <td>0.241942</td>\n",
       "      <td>0.530870</td>\n",
       "      <td>0.466642</td>\n",
       "      <td>0.423985</td>\n",
       "      <td>0.374928</td>\n",
       "      <td>0.462069</td>\n",
       "      <td>0.710773</td>\n",
       "      <td>...</td>\n",
       "      <td>0.006098</td>\n",
       "      <td>0.021154</td>\n",
       "      <td>0.873662</td>\n",
       "      <td>0.0</td>\n",
       "      <td>0.637363</td>\n",
       "      <td>0.813559</td>\n",
       "      <td>0.385350</td>\n",
       "      <td>0.851852</td>\n",
       "      <td>0.873016</td>\n",
       "      <td>0.217993</td>\n",
       "    </tr>\n",
       "    <tr>\n",
       "      <th>368</th>\n",
       "      <td>0.320231</td>\n",
       "      <td>0.177515</td>\n",
       "      <td>0.289707</td>\n",
       "      <td>0.272621</td>\n",
       "      <td>0.468195</td>\n",
       "      <td>0.661892</td>\n",
       "      <td>0.658389</td>\n",
       "      <td>0.721326</td>\n",
       "      <td>0.627586</td>\n",
       "      <td>0.239461</td>\n",
       "      <td>...</td>\n",
       "      <td>0.048780</td>\n",
       "      <td>0.259615</td>\n",
       "      <td>0.380086</td>\n",
       "      <td>0.0</td>\n",
       "      <td>0.736264</td>\n",
       "      <td>0.677966</td>\n",
       "      <td>0.673036</td>\n",
       "      <td>0.555556</td>\n",
       "      <td>0.582011</td>\n",
       "      <td>0.190242</td>\n",
       "    </tr>\n",
       "  </tbody>\n",
       "</table>\n",
       "<p>5 rows × 361 columns</p>\n",
       "</div>"
      ],
      "text/plain": [
       "       0_S2_B1   0_S2_B2   0_S2_B3   0_S2_B4   0_S2_B5   0_S2_B6   0_S2_B7  \\\n",
       "1598  0.314451  0.255424  0.357587  0.551456  0.694107  0.664154  0.578740   \n",
       "2308  0.264740  0.144477  0.240461  0.251650  0.449018  0.554090  0.490309   \n",
       "2386  0.375723  0.123767  0.210736  0.163495  0.481291  0.647569  0.579346   \n",
       "978   0.367630  0.127219  0.188997  0.241942  0.530870  0.466642  0.423985   \n",
       "368   0.320231  0.177515  0.289707  0.272621  0.468195  0.661892  0.658389   \n",
       "\n",
       "       0_S2_B8  0_S2_B8A   0_S2_B9  ...  11_CLIM_ro  11_CLIM_soil  \\\n",
       "1598  0.629683  0.626207  0.643443  ...    0.006098      0.022115   \n",
       "2308  0.538617  0.541793  0.301522  ...    0.006098      0.067788   \n",
       "2386  0.566282  0.622069  0.216042  ...    0.006098      0.023077   \n",
       "978   0.374928  0.462069  0.710773  ...    0.006098      0.021154   \n",
       "368   0.721326  0.627586  0.239461  ...    0.048780      0.259615   \n",
       "\n",
       "      11_CLIM_srad  11_CLIM_swe  11_CLIM_tmmn  11_CLIM_tmmx  11_CLIM_vap  \\\n",
       "1598      0.891863          0.0      0.802198      0.796610     0.504246   \n",
       "2308      0.892934          0.0      0.439560      0.694915     0.200637   \n",
       "2386      1.000000          0.0      0.956044      0.864407     0.588110   \n",
       "978       0.873662          0.0      0.637363      0.813559     0.385350   \n",
       "368       0.380086          0.0      0.736264      0.677966     0.673036   \n",
       "\n",
       "      11_CLIM_vpd  11_CLIM_vs     Yield  \n",
       "1598     0.824074    0.952381  0.108997  \n",
       "2308     0.851852    0.523810  0.220623  \n",
       "2386     0.870370    1.000000  0.050173  \n",
       "978      0.851852    0.873016  0.217993  \n",
       "368      0.555556    0.582011  0.190242  \n",
       "\n",
       "[5 rows x 361 columns]"
      ]
     },
     "execution_count": 32,
     "metadata": {},
     "output_type": "execute_result"
    }
   ],
   "source": [
    "# Same thing but for the test set\n",
    "y_test = pd.DataFrame(y_test, columns = [LABEL])\n",
    "testing_set = pd.DataFrame(x_test, columns = FEATURES).merge(y_test, left_index = True, right_index = True)\n",
    "testing_set.head()"
   ]
  },
  {
   "cell_type": "markdown",
   "metadata": {
    "id": "kFfincbSyrlA"
   },
   "source": [
    "# Deep Neural Network for continuous features\n",
    "With tf.contrib.learn it is very easy to implement a Deep Neural Network. In our example we will have 5 hidden layers with repsectly 100, 75, 50, 25 and 12 units and the function of activation will be Relu.\n",
    "\n",
    "The optimizer used in our case is an Adagrad optimizer (by default)."
   ]
  },
  {
   "cell_type": "code",
   "execution_count": 55,
   "metadata": {},
   "outputs": [],
   "source": [
    "from keras.layers import Dense\n",
    "from keras.models import Sequential\n",
    "from keras.regularizers import l1\n",
    "from keras.layers.normalization import BatchNormalization\n",
    "from keras import backend as K\n",
    "from keras.callbacks import EarlyStopping, ModelCheckpoint, ReduceLROnPlateau\n"
   ]
  },
  {
   "cell_type": "code",
   "execution_count": 56,
   "metadata": {},
   "outputs": [],
   "source": [
    "model = Sequential()\n",
    "BatchNormalization()\n",
    "model.add(Dense(1028,input_dim=len(FEATURES),activation='relu'))\n",
    "# BatchNormalization()\n",
    "# model.add(Dense(256,activation='relu'))\n",
    "# BatchNormalization()\n",
    "# #Dropout(0.2)\n",
    "# model.add(Dense(128,activation='relu'))\n",
    "# BatchNormalization()\n",
    "# #Dropout(0.2)\n",
    "# model.add(Dense(64,activation = 'relu'))\n",
    "# BatchNormalization()\n",
    "# model.add(Dense(32,activation = 'relu'))\n",
    "# BatchNormalization()\n",
    "model.add(Dense(1,activation = 'linear'))\n",
    "model.compile(optimizer='adam',loss='mse',metrics=['mean_squared_error'])\n",
    "early_stopping = EarlyStopping(monitor='val_loss', patience=5, mode='min',restore_best_weights=True)\n",
    "save_best = ModelCheckpoint('checkpoint', save_best_only=True, \n",
    "                               monitor='val_loss', mode='min')"
   ]
  },
  {
   "cell_type": "code",
   "execution_count": 57,
   "metadata": {
    "id": "BT61c02xrZwo"
   },
   "outputs": [],
   "source": [
    "# Reset the index of training\n",
    "training_set.reset_index(drop = True, inplace =True)"
   ]
  },
  {
   "cell_type": "code",
   "execution_count": null,
   "metadata": {},
   "outputs": [],
   "source": []
  },
  {
   "cell_type": "code",
   "execution_count": 58,
   "metadata": {
    "colab": {
     "base_uri": "https://localhost:8080/"
    },
    "id": "mbX6n0ExrZo7",
    "outputId": "0620eac2-8103-4d49-9e0b-5ef4052cd045"
   },
   "outputs": [
    {
     "ename": "ValueError",
     "evalue": "Failed to convert a NumPy array to a Tensor (Unsupported object type float).",
     "output_type": "error",
     "traceback": [
      "\u001b[1;31m---------------------------------------------------------------------------\u001b[0m",
      "\u001b[1;31mTypeError\u001b[0m                                 Traceback (most recent call last)",
      "\u001b[1;32m~\\AppData\\Roaming\\Python\\Python37\\site-packages\\tensorflow\\python\\data\\util\\structure.py\u001b[0m in \u001b[0;36mnormalize_element\u001b[1;34m(element)\u001b[0m\n\u001b[0;32m     92\u001b[0m       \u001b[1;32mtry\u001b[0m\u001b[1;33m:\u001b[0m\u001b[1;33m\u001b[0m\u001b[1;33m\u001b[0m\u001b[0m\n\u001b[1;32m---> 93\u001b[1;33m         \u001b[0mspec\u001b[0m \u001b[1;33m=\u001b[0m \u001b[0mtype_spec_from_value\u001b[0m\u001b[1;33m(\u001b[0m\u001b[0mt\u001b[0m\u001b[1;33m,\u001b[0m \u001b[0muse_fallback\u001b[0m\u001b[1;33m=\u001b[0m\u001b[1;32mFalse\u001b[0m\u001b[1;33m)\u001b[0m\u001b[1;33m\u001b[0m\u001b[1;33m\u001b[0m\u001b[0m\n\u001b[0m\u001b[0;32m     94\u001b[0m       \u001b[1;32mexcept\u001b[0m \u001b[0mTypeError\u001b[0m\u001b[1;33m:\u001b[0m\u001b[1;33m\u001b[0m\u001b[1;33m\u001b[0m\u001b[0m\n",
      "\u001b[1;32m~\\AppData\\Roaming\\Python\\Python37\\site-packages\\tensorflow\\python\\data\\util\\structure.py\u001b[0m in \u001b[0;36mtype_spec_from_value\u001b[1;34m(element, use_fallback)\u001b[0m\n\u001b[0;32m    465\u001b[0m   raise TypeError(\"Could not build a TypeSpec for %r with type %s\" %\n\u001b[1;32m--> 466\u001b[1;33m                   (element, type(element).__name__))\n\u001b[0m\u001b[0;32m    467\u001b[0m \u001b[1;33m\u001b[0m\u001b[0m\n",
      "\u001b[1;31mTypeError\u001b[0m: Could not build a TypeSpec for        0_S2_B1   0_S2_B2   0_S2_B3   0_S2_B4   0_S2_B5   0_S2_B6   0_S2_B7  \\\n1286  0.289017  0.145957  0.199645  0.277670  0.442470  0.551451  0.496063   \n13    0.398844  0.193294  0.248447  0.335534  0.471469  0.539012  0.519988   \n873   0.283237  0.136588  0.209849  0.298252  0.559869  0.545043  0.486069   \n1089  0.381503  0.212525  0.293700  0.341748  0.497194  0.628722  0.576620   \n808   0.297110  0.162229  0.242680  0.333204  0.461179  0.557859  0.476681   \n...        ...       ...       ...       ...       ...       ...       ...   \n1638  0.358382  0.127712  0.195652  0.178252  0.385875  0.583490  0.562992   \n1095  0.365318  0.163708  0.222272  0.331262  0.540692  0.445910  0.366747   \n1130  0.361850  0.201677  0.307453  0.387184  0.628625  0.589521  0.517262   \n1294  0.243931  0.158777  0.244454  0.332816  0.538354  0.513758  0.463658   \n860   0.334104  0.142998  0.212067  0.308738  0.454630  0.512627  0.460933   \n\n       0_S2_B8  0_S2_B8A   0_S2_B9  ...  11_CLIM_ro  11_CLIM_soil  \\\n1286  0.470893  0.508966  0.597775  ...    0.006098      0.021635   \n13    0.524496  0.568552  0.254684  ...    0.402439      0.565385   \n873   0.458790  0.498759  0.588993  ...    0.006098      0.026923   \n1089  0.586744  0.580690  0.577869  ...    0.006098      0.083173   \n808   0.494813  0.504000  0.653981  ...    0.006098      0.020192   \n...        ...       ...       ...  ...         ...           ...   \n1638  0.573775  0.604690  0.250585  ...    0.006098      0.048558   \n1095  0.379539  0.407172  0.488290  ...    0.006098      0.071154   \n1130  0.547262  0.547586  0.692623  ...    0.006098      0.032212   \n1294  0.534870  0.485517  0.553864  ...    0.006098      0.021635   \n860   0.439193  0.498207  0.599532  ...    0.006098      0.037500   \n\n      11_CLIM_srad  11_CLIM_swe  11_CLIM_tmmn  11_CLIM_tmmx  11_CLIM_vap  \\\n1286      0.862955          0.0      0.780220      0.779661     0.503185   \n13        0.299786          0.0      0.626374      0.593220     0.798301   \n873       0.895075          0.0      0.824176      0.779661     0.527601   \n1089      0.891863          0.0      0.868132      0.745763     0.547771   \n808       0.888651          0.0      0.747253      0.796610     0.458599   \n...            ...          ...           ...           ...          ...   \n1638      0.929336          0.0      0.725275      0.847458     0.367304   \n1095      0.892934          0.0      0.868132      0.762712     0.541401   \n1130      0.857602          0.0      0.494505      0.728814     0.283439   \n1294      0.862955          0.0      0.780220      0.779661     0.503185   \n860       0.901499          0.0      0.824176      0.745763     0.527601   \n\n      11_CLIM_vpd  11_CLIM_vs  Field_ID  \n1286     0.796296    0.862434   BNFNPN0  \n13       0.342593    0.634921   RBBNFVL  \n873      0.796296    0.936508   T7M1XTR  \n1089     0.777778    0.904762   BJN8BZA  \n808      0.833333    0.894180   KXYSA62  \n...           ...         ...       ...  \n1638     0.935185    0.708995   Y2WD1HK  \n1095     0.796296    0.894180   I4SIEXC  \n1130     0.824074    0.724868   NROW1ON  \n1294     0.796296    0.862434   881ENJL  \n860      0.768519    0.878307   09B11R8  \n\n[1770 rows x 361 columns] with type DataFrame",
      "\nDuring handling of the above exception, another exception occurred:\n",
      "\u001b[1;31mValueError\u001b[0m                                Traceback (most recent call last)",
      "\u001b[1;32m<ipython-input-58-f0064ac594e2>\u001b[0m in \u001b[0;36m<module>\u001b[1;34m\u001b[0m\n\u001b[0;32m      2\u001b[0m \u001b[1;31m# regressor.fit(input_fn=lambda: input_fn(training_set), steps=2000)\u001b[0m\u001b[1;33m\u001b[0m\u001b[1;33m\u001b[0m\u001b[1;33m\u001b[0m\u001b[0m\n\u001b[0;32m      3\u001b[0m model.fit(x_train, y_train, validation_data = (x_test, y_test),epochs=30,batch_size=100,verbose=1 , \n\u001b[1;32m----> 4\u001b[1;33m                  callbacks=[early_stopping,save_best])\n\u001b[0m",
      "\u001b[1;32m~\\AppData\\Roaming\\Python\\Python37\\site-packages\\tensorflow\\python\\keras\\engine\\training.py\u001b[0m in \u001b[0;36m_method_wrapper\u001b[1;34m(self, *args, **kwargs)\u001b[0m\n\u001b[0;32m    106\u001b[0m   \u001b[1;32mdef\u001b[0m \u001b[0m_method_wrapper\u001b[0m\u001b[1;33m(\u001b[0m\u001b[0mself\u001b[0m\u001b[1;33m,\u001b[0m \u001b[1;33m*\u001b[0m\u001b[0margs\u001b[0m\u001b[1;33m,\u001b[0m \u001b[1;33m**\u001b[0m\u001b[0mkwargs\u001b[0m\u001b[1;33m)\u001b[0m\u001b[1;33m:\u001b[0m\u001b[1;33m\u001b[0m\u001b[1;33m\u001b[0m\u001b[0m\n\u001b[0;32m    107\u001b[0m     \u001b[1;32mif\u001b[0m \u001b[1;32mnot\u001b[0m \u001b[0mself\u001b[0m\u001b[1;33m.\u001b[0m\u001b[0m_in_multi_worker_mode\u001b[0m\u001b[1;33m(\u001b[0m\u001b[1;33m)\u001b[0m\u001b[1;33m:\u001b[0m  \u001b[1;31m# pylint: disable=protected-access\u001b[0m\u001b[1;33m\u001b[0m\u001b[1;33m\u001b[0m\u001b[0m\n\u001b[1;32m--> 108\u001b[1;33m       \u001b[1;32mreturn\u001b[0m \u001b[0mmethod\u001b[0m\u001b[1;33m(\u001b[0m\u001b[0mself\u001b[0m\u001b[1;33m,\u001b[0m \u001b[1;33m*\u001b[0m\u001b[0margs\u001b[0m\u001b[1;33m,\u001b[0m \u001b[1;33m**\u001b[0m\u001b[0mkwargs\u001b[0m\u001b[1;33m)\u001b[0m\u001b[1;33m\u001b[0m\u001b[1;33m\u001b[0m\u001b[0m\n\u001b[0m\u001b[0;32m    109\u001b[0m \u001b[1;33m\u001b[0m\u001b[0m\n\u001b[0;32m    110\u001b[0m     \u001b[1;31m# Running inside `run_distribute_coordinator` already.\u001b[0m\u001b[1;33m\u001b[0m\u001b[1;33m\u001b[0m\u001b[1;33m\u001b[0m\u001b[0m\n",
      "\u001b[1;32m~\\AppData\\Roaming\\Python\\Python37\\site-packages\\tensorflow\\python\\keras\\engine\\training.py\u001b[0m in \u001b[0;36mfit\u001b[1;34m(self, x, y, batch_size, epochs, verbose, callbacks, validation_split, validation_data, shuffle, class_weight, sample_weight, initial_epoch, steps_per_epoch, validation_steps, validation_batch_size, validation_freq, max_queue_size, workers, use_multiprocessing)\u001b[0m\n\u001b[0;32m   1061\u001b[0m           \u001b[0muse_multiprocessing\u001b[0m\u001b[1;33m=\u001b[0m\u001b[0muse_multiprocessing\u001b[0m\u001b[1;33m,\u001b[0m\u001b[1;33m\u001b[0m\u001b[1;33m\u001b[0m\u001b[0m\n\u001b[0;32m   1062\u001b[0m           \u001b[0mmodel\u001b[0m\u001b[1;33m=\u001b[0m\u001b[0mself\u001b[0m\u001b[1;33m,\u001b[0m\u001b[1;33m\u001b[0m\u001b[1;33m\u001b[0m\u001b[0m\n\u001b[1;32m-> 1063\u001b[1;33m           steps_per_execution=self._steps_per_execution)\n\u001b[0m\u001b[0;32m   1064\u001b[0m \u001b[1;33m\u001b[0m\u001b[0m\n\u001b[0;32m   1065\u001b[0m       \u001b[1;31m# Container that configures and calls `tf.keras.Callback`s.\u001b[0m\u001b[1;33m\u001b[0m\u001b[1;33m\u001b[0m\u001b[1;33m\u001b[0m\u001b[0m\n",
      "\u001b[1;32m~\\AppData\\Roaming\\Python\\Python37\\site-packages\\tensorflow\\python\\keras\\engine\\data_adapter.py\u001b[0m in \u001b[0;36m__init__\u001b[1;34m(self, x, y, sample_weight, batch_size, steps_per_epoch, initial_epoch, epochs, shuffle, class_weight, max_queue_size, workers, use_multiprocessing, model, steps_per_execution)\u001b[0m\n\u001b[0;32m   1115\u001b[0m         \u001b[0muse_multiprocessing\u001b[0m\u001b[1;33m=\u001b[0m\u001b[0muse_multiprocessing\u001b[0m\u001b[1;33m,\u001b[0m\u001b[1;33m\u001b[0m\u001b[1;33m\u001b[0m\u001b[0m\n\u001b[0;32m   1116\u001b[0m         \u001b[0mdistribution_strategy\u001b[0m\u001b[1;33m=\u001b[0m\u001b[0mds_context\u001b[0m\u001b[1;33m.\u001b[0m\u001b[0mget_strategy\u001b[0m\u001b[1;33m(\u001b[0m\u001b[1;33m)\u001b[0m\u001b[1;33m,\u001b[0m\u001b[1;33m\u001b[0m\u001b[1;33m\u001b[0m\u001b[0m\n\u001b[1;32m-> 1117\u001b[1;33m         model=model)\n\u001b[0m\u001b[0;32m   1118\u001b[0m \u001b[1;33m\u001b[0m\u001b[0m\n\u001b[0;32m   1119\u001b[0m     \u001b[0mstrategy\u001b[0m \u001b[1;33m=\u001b[0m \u001b[0mds_context\u001b[0m\u001b[1;33m.\u001b[0m\u001b[0mget_strategy\u001b[0m\u001b[1;33m(\u001b[0m\u001b[1;33m)\u001b[0m\u001b[1;33m\u001b[0m\u001b[1;33m\u001b[0m\u001b[0m\n",
      "\u001b[1;32m~\\AppData\\Roaming\\Python\\Python37\\site-packages\\tensorflow\\python\\keras\\engine\\data_adapter.py\u001b[0m in \u001b[0;36m__init__\u001b[1;34m(self, x, y, sample_weights, sample_weight_modes, batch_size, epochs, steps, shuffle, **kwargs)\u001b[0m\n\u001b[0;32m    362\u001b[0m     \u001b[0mindices_dataset\u001b[0m \u001b[1;33m=\u001b[0m \u001b[0mindices_dataset\u001b[0m\u001b[1;33m.\u001b[0m\u001b[0mflat_map\u001b[0m\u001b[1;33m(\u001b[0m\u001b[0mslice_batch_indices\u001b[0m\u001b[1;33m)\u001b[0m\u001b[1;33m\u001b[0m\u001b[1;33m\u001b[0m\u001b[0m\n\u001b[0;32m    363\u001b[0m \u001b[1;33m\u001b[0m\u001b[0m\n\u001b[1;32m--> 364\u001b[1;33m     \u001b[0mdataset\u001b[0m \u001b[1;33m=\u001b[0m \u001b[0mself\u001b[0m\u001b[1;33m.\u001b[0m\u001b[0mslice_inputs\u001b[0m\u001b[1;33m(\u001b[0m\u001b[0mindices_dataset\u001b[0m\u001b[1;33m,\u001b[0m \u001b[0minputs\u001b[0m\u001b[1;33m)\u001b[0m\u001b[1;33m\u001b[0m\u001b[1;33m\u001b[0m\u001b[0m\n\u001b[0m\u001b[0;32m    365\u001b[0m \u001b[1;33m\u001b[0m\u001b[0m\n\u001b[0;32m    366\u001b[0m     \u001b[1;32mif\u001b[0m \u001b[0mshuffle\u001b[0m \u001b[1;33m==\u001b[0m \u001b[1;34m\"batch\"\u001b[0m\u001b[1;33m:\u001b[0m\u001b[1;33m\u001b[0m\u001b[1;33m\u001b[0m\u001b[0m\n",
      "\u001b[1;32m~\\AppData\\Roaming\\Python\\Python37\\site-packages\\tensorflow\\python\\keras\\engine\\data_adapter.py\u001b[0m in \u001b[0;36mslice_inputs\u001b[1;34m(self, indices_dataset, inputs)\u001b[0m\n\u001b[0;32m    388\u001b[0m     dataset = dataset_ops.DatasetV2.zip((\n\u001b[0;32m    389\u001b[0m         \u001b[0mindices_dataset\u001b[0m\u001b[1;33m,\u001b[0m\u001b[1;33m\u001b[0m\u001b[1;33m\u001b[0m\u001b[0m\n\u001b[1;32m--> 390\u001b[1;33m         \u001b[0mdataset_ops\u001b[0m\u001b[1;33m.\u001b[0m\u001b[0mDatasetV2\u001b[0m\u001b[1;33m.\u001b[0m\u001b[0mfrom_tensors\u001b[0m\u001b[1;33m(\u001b[0m\u001b[0minputs\u001b[0m\u001b[1;33m)\u001b[0m\u001b[1;33m.\u001b[0m\u001b[0mrepeat\u001b[0m\u001b[1;33m(\u001b[0m\u001b[1;33m)\u001b[0m\u001b[1;33m\u001b[0m\u001b[1;33m\u001b[0m\u001b[0m\n\u001b[0m\u001b[0;32m    391\u001b[0m     ))\n\u001b[0;32m    392\u001b[0m \u001b[1;33m\u001b[0m\u001b[0m\n",
      "\u001b[1;32m~\\AppData\\Roaming\\Python\\Python37\\site-packages\\tensorflow\\python\\data\\ops\\dataset_ops.py\u001b[0m in \u001b[0;36mfrom_tensors\u001b[1;34m(tensors)\u001b[0m\n\u001b[0;32m    602\u001b[0m       \u001b[0mDataset\u001b[0m\u001b[1;33m:\u001b[0m \u001b[0mA\u001b[0m\u001b[0;31m \u001b[0m\u001b[0;31m`\u001b[0m\u001b[0mDataset\u001b[0m\u001b[0;31m`\u001b[0m\u001b[1;33m.\u001b[0m\u001b[1;33m\u001b[0m\u001b[1;33m\u001b[0m\u001b[0m\n\u001b[0;32m    603\u001b[0m     \"\"\"\n\u001b[1;32m--> 604\u001b[1;33m     \u001b[1;32mreturn\u001b[0m \u001b[0mTensorDataset\u001b[0m\u001b[1;33m(\u001b[0m\u001b[0mtensors\u001b[0m\u001b[1;33m)\u001b[0m\u001b[1;33m\u001b[0m\u001b[1;33m\u001b[0m\u001b[0m\n\u001b[0m\u001b[0;32m    605\u001b[0m \u001b[1;33m\u001b[0m\u001b[0m\n\u001b[0;32m    606\u001b[0m   \u001b[1;33m@\u001b[0m\u001b[0mstaticmethod\u001b[0m\u001b[1;33m\u001b[0m\u001b[1;33m\u001b[0m\u001b[0m\n",
      "\u001b[1;32m~\\AppData\\Roaming\\Python\\Python37\\site-packages\\tensorflow\\python\\data\\ops\\dataset_ops.py\u001b[0m in \u001b[0;36m__init__\u001b[1;34m(self, element)\u001b[0m\n\u001b[0;32m   2980\u001b[0m   \u001b[1;32mdef\u001b[0m \u001b[0m__init__\u001b[0m\u001b[1;33m(\u001b[0m\u001b[0mself\u001b[0m\u001b[1;33m,\u001b[0m \u001b[0melement\u001b[0m\u001b[1;33m)\u001b[0m\u001b[1;33m:\u001b[0m\u001b[1;33m\u001b[0m\u001b[1;33m\u001b[0m\u001b[0m\n\u001b[0;32m   2981\u001b[0m     \u001b[1;34m\"\"\"See `Dataset.from_tensors()` for details.\"\"\"\u001b[0m\u001b[1;33m\u001b[0m\u001b[1;33m\u001b[0m\u001b[0m\n\u001b[1;32m-> 2982\u001b[1;33m     \u001b[0melement\u001b[0m \u001b[1;33m=\u001b[0m \u001b[0mstructure\u001b[0m\u001b[1;33m.\u001b[0m\u001b[0mnormalize_element\u001b[0m\u001b[1;33m(\u001b[0m\u001b[0melement\u001b[0m\u001b[1;33m)\u001b[0m\u001b[1;33m\u001b[0m\u001b[1;33m\u001b[0m\u001b[0m\n\u001b[0m\u001b[0;32m   2983\u001b[0m     \u001b[0mself\u001b[0m\u001b[1;33m.\u001b[0m\u001b[0m_structure\u001b[0m \u001b[1;33m=\u001b[0m \u001b[0mstructure\u001b[0m\u001b[1;33m.\u001b[0m\u001b[0mtype_spec_from_value\u001b[0m\u001b[1;33m(\u001b[0m\u001b[0melement\u001b[0m\u001b[1;33m)\u001b[0m\u001b[1;33m\u001b[0m\u001b[1;33m\u001b[0m\u001b[0m\n\u001b[0;32m   2984\u001b[0m     \u001b[0mself\u001b[0m\u001b[1;33m.\u001b[0m\u001b[0m_tensors\u001b[0m \u001b[1;33m=\u001b[0m \u001b[0mstructure\u001b[0m\u001b[1;33m.\u001b[0m\u001b[0mto_tensor_list\u001b[0m\u001b[1;33m(\u001b[0m\u001b[0mself\u001b[0m\u001b[1;33m.\u001b[0m\u001b[0m_structure\u001b[0m\u001b[1;33m,\u001b[0m \u001b[0melement\u001b[0m\u001b[1;33m)\u001b[0m\u001b[1;33m\u001b[0m\u001b[1;33m\u001b[0m\u001b[0m\n",
      "\u001b[1;32m~\\AppData\\Roaming\\Python\\Python37\\site-packages\\tensorflow\\python\\data\\util\\structure.py\u001b[0m in \u001b[0;36mnormalize_element\u001b[1;34m(element)\u001b[0m\n\u001b[0;32m     96\u001b[0m         \u001b[1;31m# the value. As a fallback try converting the value to a tensor.\u001b[0m\u001b[1;33m\u001b[0m\u001b[1;33m\u001b[0m\u001b[1;33m\u001b[0m\u001b[0m\n\u001b[0;32m     97\u001b[0m         normalized_components.append(\n\u001b[1;32m---> 98\u001b[1;33m             ops.convert_to_tensor(t, name=\"component_%d\" % i))\n\u001b[0m\u001b[0;32m     99\u001b[0m       \u001b[1;32melse\u001b[0m\u001b[1;33m:\u001b[0m\u001b[1;33m\u001b[0m\u001b[1;33m\u001b[0m\u001b[0m\n\u001b[0;32m    100\u001b[0m         \u001b[1;32mif\u001b[0m \u001b[0misinstance\u001b[0m\u001b[1;33m(\u001b[0m\u001b[0mspec\u001b[0m\u001b[1;33m,\u001b[0m \u001b[0msparse_tensor\u001b[0m\u001b[1;33m.\u001b[0m\u001b[0mSparseTensorSpec\u001b[0m\u001b[1;33m)\u001b[0m\u001b[1;33m:\u001b[0m\u001b[1;33m\u001b[0m\u001b[1;33m\u001b[0m\u001b[0m\n",
      "\u001b[1;32m~\\AppData\\Roaming\\Python\\Python37\\site-packages\\tensorflow\\python\\framework\\ops.py\u001b[0m in \u001b[0;36mconvert_to_tensor\u001b[1;34m(value, dtype, name, as_ref, preferred_dtype, dtype_hint, ctx, accepted_result_types)\u001b[0m\n\u001b[0;32m   1497\u001b[0m \u001b[1;33m\u001b[0m\u001b[0m\n\u001b[0;32m   1498\u001b[0m     \u001b[1;32mif\u001b[0m \u001b[0mret\u001b[0m \u001b[1;32mis\u001b[0m \u001b[1;32mNone\u001b[0m\u001b[1;33m:\u001b[0m\u001b[1;33m\u001b[0m\u001b[1;33m\u001b[0m\u001b[0m\n\u001b[1;32m-> 1499\u001b[1;33m       \u001b[0mret\u001b[0m \u001b[1;33m=\u001b[0m \u001b[0mconversion_func\u001b[0m\u001b[1;33m(\u001b[0m\u001b[0mvalue\u001b[0m\u001b[1;33m,\u001b[0m \u001b[0mdtype\u001b[0m\u001b[1;33m=\u001b[0m\u001b[0mdtype\u001b[0m\u001b[1;33m,\u001b[0m \u001b[0mname\u001b[0m\u001b[1;33m=\u001b[0m\u001b[0mname\u001b[0m\u001b[1;33m,\u001b[0m \u001b[0mas_ref\u001b[0m\u001b[1;33m=\u001b[0m\u001b[0mas_ref\u001b[0m\u001b[1;33m)\u001b[0m\u001b[1;33m\u001b[0m\u001b[1;33m\u001b[0m\u001b[0m\n\u001b[0m\u001b[0;32m   1500\u001b[0m \u001b[1;33m\u001b[0m\u001b[0m\n\u001b[0;32m   1501\u001b[0m     \u001b[1;32mif\u001b[0m \u001b[0mret\u001b[0m \u001b[1;32mis\u001b[0m \u001b[0mNotImplemented\u001b[0m\u001b[1;33m:\u001b[0m\u001b[1;33m\u001b[0m\u001b[1;33m\u001b[0m\u001b[0m\n",
      "\u001b[1;32m~\\AppData\\Roaming\\Python\\Python37\\site-packages\\tensorflow\\python\\framework\\constant_op.py\u001b[0m in \u001b[0;36m_constant_tensor_conversion_function\u001b[1;34m(v, dtype, name, as_ref)\u001b[0m\n\u001b[0;32m    336\u001b[0m                                          as_ref=False):\n\u001b[0;32m    337\u001b[0m   \u001b[0m_\u001b[0m \u001b[1;33m=\u001b[0m \u001b[0mas_ref\u001b[0m\u001b[1;33m\u001b[0m\u001b[1;33m\u001b[0m\u001b[0m\n\u001b[1;32m--> 338\u001b[1;33m   \u001b[1;32mreturn\u001b[0m \u001b[0mconstant\u001b[0m\u001b[1;33m(\u001b[0m\u001b[0mv\u001b[0m\u001b[1;33m,\u001b[0m \u001b[0mdtype\u001b[0m\u001b[1;33m=\u001b[0m\u001b[0mdtype\u001b[0m\u001b[1;33m,\u001b[0m \u001b[0mname\u001b[0m\u001b[1;33m=\u001b[0m\u001b[0mname\u001b[0m\u001b[1;33m)\u001b[0m\u001b[1;33m\u001b[0m\u001b[1;33m\u001b[0m\u001b[0m\n\u001b[0m\u001b[0;32m    339\u001b[0m \u001b[1;33m\u001b[0m\u001b[0m\n\u001b[0;32m    340\u001b[0m \u001b[1;33m\u001b[0m\u001b[0m\n",
      "\u001b[1;32m~\\AppData\\Roaming\\Python\\Python37\\site-packages\\tensorflow\\python\\framework\\constant_op.py\u001b[0m in \u001b[0;36mconstant\u001b[1;34m(value, dtype, shape, name)\u001b[0m\n\u001b[0;32m    262\u001b[0m   \"\"\"\n\u001b[0;32m    263\u001b[0m   return _constant_impl(value, dtype, shape, name, verify_shape=False,\n\u001b[1;32m--> 264\u001b[1;33m                         allow_broadcast=True)\n\u001b[0m\u001b[0;32m    265\u001b[0m \u001b[1;33m\u001b[0m\u001b[0m\n\u001b[0;32m    266\u001b[0m \u001b[1;33m\u001b[0m\u001b[0m\n",
      "\u001b[1;32m~\\AppData\\Roaming\\Python\\Python37\\site-packages\\tensorflow\\python\\framework\\constant_op.py\u001b[0m in \u001b[0;36m_constant_impl\u001b[1;34m(value, dtype, shape, name, verify_shape, allow_broadcast)\u001b[0m\n\u001b[0;32m    273\u001b[0m       \u001b[1;32mwith\u001b[0m \u001b[0mtrace\u001b[0m\u001b[1;33m.\u001b[0m\u001b[0mTrace\u001b[0m\u001b[1;33m(\u001b[0m\u001b[1;34m\"tf.constant\"\u001b[0m\u001b[1;33m)\u001b[0m\u001b[1;33m:\u001b[0m\u001b[1;33m\u001b[0m\u001b[1;33m\u001b[0m\u001b[0m\n\u001b[0;32m    274\u001b[0m         \u001b[1;32mreturn\u001b[0m \u001b[0m_constant_eager_impl\u001b[0m\u001b[1;33m(\u001b[0m\u001b[0mctx\u001b[0m\u001b[1;33m,\u001b[0m \u001b[0mvalue\u001b[0m\u001b[1;33m,\u001b[0m \u001b[0mdtype\u001b[0m\u001b[1;33m,\u001b[0m \u001b[0mshape\u001b[0m\u001b[1;33m,\u001b[0m \u001b[0mverify_shape\u001b[0m\u001b[1;33m)\u001b[0m\u001b[1;33m\u001b[0m\u001b[1;33m\u001b[0m\u001b[0m\n\u001b[1;32m--> 275\u001b[1;33m     \u001b[1;32mreturn\u001b[0m \u001b[0m_constant_eager_impl\u001b[0m\u001b[1;33m(\u001b[0m\u001b[0mctx\u001b[0m\u001b[1;33m,\u001b[0m \u001b[0mvalue\u001b[0m\u001b[1;33m,\u001b[0m \u001b[0mdtype\u001b[0m\u001b[1;33m,\u001b[0m \u001b[0mshape\u001b[0m\u001b[1;33m,\u001b[0m \u001b[0mverify_shape\u001b[0m\u001b[1;33m)\u001b[0m\u001b[1;33m\u001b[0m\u001b[1;33m\u001b[0m\u001b[0m\n\u001b[0m\u001b[0;32m    276\u001b[0m \u001b[1;33m\u001b[0m\u001b[0m\n\u001b[0;32m    277\u001b[0m   \u001b[0mg\u001b[0m \u001b[1;33m=\u001b[0m \u001b[0mops\u001b[0m\u001b[1;33m.\u001b[0m\u001b[0mget_default_graph\u001b[0m\u001b[1;33m(\u001b[0m\u001b[1;33m)\u001b[0m\u001b[1;33m\u001b[0m\u001b[1;33m\u001b[0m\u001b[0m\n",
      "\u001b[1;32m~\\AppData\\Roaming\\Python\\Python37\\site-packages\\tensorflow\\python\\framework\\constant_op.py\u001b[0m in \u001b[0;36m_constant_eager_impl\u001b[1;34m(ctx, value, dtype, shape, verify_shape)\u001b[0m\n\u001b[0;32m    298\u001b[0m \u001b[1;32mdef\u001b[0m \u001b[0m_constant_eager_impl\u001b[0m\u001b[1;33m(\u001b[0m\u001b[0mctx\u001b[0m\u001b[1;33m,\u001b[0m \u001b[0mvalue\u001b[0m\u001b[1;33m,\u001b[0m \u001b[0mdtype\u001b[0m\u001b[1;33m,\u001b[0m \u001b[0mshape\u001b[0m\u001b[1;33m,\u001b[0m \u001b[0mverify_shape\u001b[0m\u001b[1;33m)\u001b[0m\u001b[1;33m:\u001b[0m\u001b[1;33m\u001b[0m\u001b[1;33m\u001b[0m\u001b[0m\n\u001b[0;32m    299\u001b[0m   \u001b[1;34m\"\"\"Implementation of eager constant.\"\"\"\u001b[0m\u001b[1;33m\u001b[0m\u001b[1;33m\u001b[0m\u001b[0m\n\u001b[1;32m--> 300\u001b[1;33m   \u001b[0mt\u001b[0m \u001b[1;33m=\u001b[0m \u001b[0mconvert_to_eager_tensor\u001b[0m\u001b[1;33m(\u001b[0m\u001b[0mvalue\u001b[0m\u001b[1;33m,\u001b[0m \u001b[0mctx\u001b[0m\u001b[1;33m,\u001b[0m \u001b[0mdtype\u001b[0m\u001b[1;33m)\u001b[0m\u001b[1;33m\u001b[0m\u001b[1;33m\u001b[0m\u001b[0m\n\u001b[0m\u001b[0;32m    301\u001b[0m   \u001b[1;32mif\u001b[0m \u001b[0mshape\u001b[0m \u001b[1;32mis\u001b[0m \u001b[1;32mNone\u001b[0m\u001b[1;33m:\u001b[0m\u001b[1;33m\u001b[0m\u001b[1;33m\u001b[0m\u001b[0m\n\u001b[0;32m    302\u001b[0m     \u001b[1;32mreturn\u001b[0m \u001b[0mt\u001b[0m\u001b[1;33m\u001b[0m\u001b[1;33m\u001b[0m\u001b[0m\n",
      "\u001b[1;32m~\\AppData\\Roaming\\Python\\Python37\\site-packages\\tensorflow\\python\\framework\\constant_op.py\u001b[0m in \u001b[0;36mconvert_to_eager_tensor\u001b[1;34m(value, ctx, dtype)\u001b[0m\n\u001b[0;32m     96\u001b[0m       \u001b[0mdtype\u001b[0m \u001b[1;33m=\u001b[0m \u001b[0mdtypes\u001b[0m\u001b[1;33m.\u001b[0m\u001b[0mas_dtype\u001b[0m\u001b[1;33m(\u001b[0m\u001b[0mdtype\u001b[0m\u001b[1;33m)\u001b[0m\u001b[1;33m.\u001b[0m\u001b[0mas_datatype_enum\u001b[0m\u001b[1;33m\u001b[0m\u001b[1;33m\u001b[0m\u001b[0m\n\u001b[0;32m     97\u001b[0m   \u001b[0mctx\u001b[0m\u001b[1;33m.\u001b[0m\u001b[0mensure_initialized\u001b[0m\u001b[1;33m(\u001b[0m\u001b[1;33m)\u001b[0m\u001b[1;33m\u001b[0m\u001b[1;33m\u001b[0m\u001b[0m\n\u001b[1;32m---> 98\u001b[1;33m   \u001b[1;32mreturn\u001b[0m \u001b[0mops\u001b[0m\u001b[1;33m.\u001b[0m\u001b[0mEagerTensor\u001b[0m\u001b[1;33m(\u001b[0m\u001b[0mvalue\u001b[0m\u001b[1;33m,\u001b[0m \u001b[0mctx\u001b[0m\u001b[1;33m.\u001b[0m\u001b[0mdevice_name\u001b[0m\u001b[1;33m,\u001b[0m \u001b[0mdtype\u001b[0m\u001b[1;33m)\u001b[0m\u001b[1;33m\u001b[0m\u001b[1;33m\u001b[0m\u001b[0m\n\u001b[0m\u001b[0;32m     99\u001b[0m \u001b[1;33m\u001b[0m\u001b[0m\n\u001b[0;32m    100\u001b[0m \u001b[1;33m\u001b[0m\u001b[0m\n",
      "\u001b[1;31mValueError\u001b[0m: Failed to convert a NumPy array to a Tensor (Unsupported object type float)."
     ]
    }
   ],
   "source": [
    "# Deep Neural Network Regressor with the training set which contain the data split by train test split\n",
    "# regressor.fit(input_fn=lambda: input_fn(training_set), steps=2000)\n",
    "model.fit(x_train, y_train, validation_data = (x_test, y_test),epochs=30,batch_size=100,verbose=1 , \n",
    "                 callbacks=[early_stopping,save_best])\n"
   ]
  },
  {
   "cell_type": "code",
   "execution_count": 37,
   "metadata": {
    "id": "IMsee_5c0hbu"
   },
   "outputs": [],
   "source": [
    "ss = pd.read_csv('SampleSubmission.csv')"
   ]
  },
  {
   "cell_type": "code",
   "execution_count": 38,
   "metadata": {
    "id": "pSZt0wYy3SaU"
   },
   "outputs": [],
   "source": [
    "t = ss.Field_ID"
   ]
  },
  {
   "cell_type": "code",
   "execution_count": 39,
   "metadata": {
    "id": "k-pJgiAgylhb"
   },
   "outputs": [],
   "source": [
    "y_predict = model.predict(test[FEATURES])\n",
    "\n",
    "def to_submit(pred_y,name_out):\n",
    "    y_predict = list(itertools.islice(pred_y, test.shape[0]))\n",
    "    y_predict = pd.DataFrame(prepro_y.inverse_transform(np.array(y_predict).reshape(len(y_predict),1)), columns = ['Yield'])\n",
    "    y_predict = y_predict.join(t)   #Field_ID\n",
    "    y_predic = y_predict[['Field_ID', 'Yield']]\n",
    "    y_predic.to_csv(name_out + '.csv',index=False)\n",
    "    \n",
    "to_submit(y_predict, \"submission_continuous5\")"
   ]
  },
  {
   "cell_type": "code",
   "execution_count": 42,
   "metadata": {},
   "outputs": [],
   "source": [
    "# Import and split\n",
    "train = pd.read_csv('train_df_cust.csv')\n",
    "train_numerical = train.select_dtypes(exclude=['object'])\n",
    "train_categoric = train.select_dtypes(include=['object'])\n",
    "train = train_numerical.merge(train_categoric, left_index = True, right_index = True) \n",
    "\n",
    "test = pd.read_csv('test_df_cust.csv')\n",
    "Yield_ID = ss.Field_ID\n",
    "test_numerical = test.select_dtypes(exclude=['object'])\n",
    "test_categoric = test.select_dtypes(include=['object'])\n",
    "test = test_numerical.merge(test_categoric, left_index = True, right_index = True) \n",
    "# Removie the outliers\n",
    "from sklearn.ensemble import IsolationForest\n",
    "\n",
    "clf = IsolationForest(max_samples = 100, random_state = 42)\n",
    "clf.fit(train_numerical)\n",
    "y_noano = clf.predict(train_numerical)\n",
    "y_noano = pd.DataFrame(y_noano, columns = ['Top'])\n",
    "y_noano[y_noano['Top'] == 1].index.values\n",
    "\n",
    "train_numerical = train_numerical.iloc[y_noano[y_noano['Top'] == 1].index.values]\n",
    "train_numerical.reset_index(drop = True, inplace = True)\n",
    "\n",
    "train_categoric = train_categoric.iloc[y_noano[y_noano['Top'] == 1].index.values]\n",
    "train_categoric.reset_index(drop = True, inplace = True)\n",
    "\n",
    "train = train.iloc[y_noano[y_noano['Top'] == 1].index.values]\n",
    "train.reset_index(drop = True, inplace = True)"
   ]
  },
  {
   "cell_type": "code",
   "execution_count": 43,
   "metadata": {
    "id": "kkqCZqK35OX9"
   },
   "outputs": [],
   "source": [
    "col_train_num = list(train_numerical.columns)\n",
    "col_train_num_bis = list(train_numerical.columns)\n",
    "\n",
    "col_train_cat = list(train_categoric.columns)\n",
    "\n",
    "col_train_num_bis.remove('Yield')\n",
    "\n",
    "mat_train = np.matrix(train_numerical)\n",
    "mat_test  = np.matrix(test_numerical)\n",
    "mat_new = np.matrix(train_numerical.drop('Yield',axis = 1))\n",
    "mat_y = np.array(train.Yield)\n",
    "\n",
    "prepro_y = MinMaxScaler()\n",
    "prepro_y.fit(mat_y.reshape(2642,1))\n",
    "\n",
    "prepro = MinMaxScaler()\n",
    "prepro.fit(mat_train)\n",
    "\n",
    "prepro_test = MinMaxScaler()\n",
    "prepro_test.fit(mat_new)\n",
    "\n",
    "train_num_scale = pd.DataFrame(prepro.transform(mat_train),columns = col_train)\n",
    "test_num_scale  = pd.DataFrame(prepro_test.transform(mat_test),columns = col_train_bis)"
   ]
  },
  {
   "cell_type": "code",
   "execution_count": 44,
   "metadata": {
    "id": "1m21mJfF5OT6"
   },
   "outputs": [],
   "source": [
    "train[col_train_num] = pd.DataFrame(prepro.transform(mat_train),columns = col_train_num)\n",
    "test[col_train_num_bis]  = test_num_scale"
   ]
  },
  {
   "cell_type": "code",
   "execution_count": 92,
   "metadata": {},
   "outputs": [
    {
     "data": {
      "text/plain": [
       "True"
      ]
     },
     "execution_count": 92,
     "metadata": {},
     "output_type": "execute_result"
    }
   ],
   "source": [
    "col_train == col_train_num"
   ]
  },
  {
   "cell_type": "markdown",
   "metadata": {
    "id": "-3vZC3Vu-U2H"
   },
   "source": [
    "Note: The principal changements are here with the lines beginning by for categorical_features... It is possible to use other function to prepare your categorical data."
   ]
  },
  {
   "cell_type": "code",
   "execution_count": 49,
   "metadata": {
    "id": "CzpI41x15OOU"
   },
   "outputs": [],
   "source": [
    "# List of features\n",
    "COLUMNS = col_train_num\n",
    "FEATURES = col_train_num_bis\n",
    "LABEL = \"Yield\"\n",
    "\n",
    "FEATURES_CAT = col_train_cat\n",
    "\n",
    "engineered_features = []\n",
    "\n",
    "for continuous_feature in FEATURES:\n",
    "    engineered_features.append(\n",
    "        tf.feature_column.numeric_column(continuous_feature))\n",
    "\n",
    "for categorical_feature in FEATURES_CAT:\n",
    "    sparse_column = tf.feature_column.categorical_column_with_hash_bucket(\n",
    "        categorical_feature, hash_bucket_size=1000)\n",
    "\n",
    "    engineered_features.append(tf.feature_column.embedding_column(categorical_column=sparse_column, dimension=16,combiner=\"sum\"))\n",
    "                                 \n",
    "# Training set and Prediction set with the features to predict\n",
    "training_set = train[FEATURES + FEATURES_CAT]\n",
    "prediction_set = train.Yield\n",
    "\n",
    "# Train and Test \n",
    "x_train, x_test, y_train, y_test = train_test_split(training_set[FEATURES + FEATURES_CAT] ,\n",
    "                                                    prediction_set, test_size=0.33, random_state=42)\n",
    "y_train = pd.DataFrame(y_train, columns = [LABEL])\n",
    "training_set = pd.DataFrame(x_train, columns = FEATURES + FEATURES_CAT).merge(y_train, left_index = True, right_index = True)\n",
    "\n",
    "# Training for submission\n",
    "training_sub = training_set[FEATURES] # + FEATURES_CAT]\n",
    "testing_sub = test[FEATURES] # + FEATURES_CAT]"
   ]
  },
  {
   "cell_type": "code",
   "execution_count": 73,
   "metadata": {},
   "outputs": [
    {
     "data": {
      "text/plain": [
       "361"
      ]
     },
     "execution_count": 73,
     "metadata": {},
     "output_type": "execute_result"
    }
   ],
   "source": [
    "len(engineered_features)"
   ]
  },
  {
   "cell_type": "code",
   "execution_count": 65,
   "metadata": {},
   "outputs": [],
   "source": [
    "# tf.feature_column\n",
    "# engineered_features\n",
    "def input_fn_new(data_set, training = True):\n",
    "    continuous_cols = {k: tf.constant(data_set[k].values) for k in FEATURES}\n",
    "    \n",
    "    categorical_cols = {k: tf.SparseTensor(\n",
    "        indices=[[i, 0] for i in range(data_set[k].size)], values = data_set[k].values, dense_shape = [data_set[k].size, 1]) for k in FEATURES_CAT}\n",
    "\n",
    "    # Merges the two dictionaries into one.\n",
    "    feature_cols = dict(list(continuous_cols.items()) + list(categorical_cols.items()))\n",
    "    \n",
    "    if training == True:\n",
    "        # Converts the label column into a constant Tensor.\n",
    "        label = tf.constant(data_set[LABEL].values)\n",
    "\n",
    "        # Returns the feature columns and the label.\n",
    "        return feature_cols, label\n",
    "    \n",
    "    return feature_cols\n",
    "training_set1 = input_fn_new(training_set)"
   ]
  },
  {
   "cell_type": "code",
   "execution_count": 88,
   "metadata": {},
   "outputs": [
    {
     "ename": "TypeError",
     "evalue": "'SparseTensor' object is not iterable",
     "output_type": "error",
     "traceback": [
      "\u001b[1;31m---------------------------------------------------------------------------\u001b[0m",
      "\u001b[1;31mTypeError\u001b[0m                                 Traceback (most recent call last)",
      "\u001b[1;32m<ipython-input-88-b56aec267028>\u001b[0m in \u001b[0;36m<module>\u001b[1;34m\u001b[0m\n\u001b[1;32m----> 1\u001b[1;33m \u001b[0mdf\u001b[0m\u001b[1;33m=\u001b[0m\u001b[0mpd\u001b[0m\u001b[1;33m.\u001b[0m\u001b[0mDataFrame\u001b[0m\u001b[1;33m.\u001b[0m\u001b[0mfrom_dict\u001b[0m\u001b[1;33m(\u001b[0m\u001b[0mtraining_set1\u001b[0m\u001b[1;33m[\u001b[0m\u001b[1;36m0\u001b[0m\u001b[1;33m]\u001b[0m\u001b[1;33m,\u001b[0m\u001b[0morient\u001b[0m\u001b[1;33m=\u001b[0m\u001b[1;34m'index'\u001b[0m\u001b[1;33m)\u001b[0m\u001b[1;33m.\u001b[0m\u001b[0mtranspose\u001b[0m\u001b[1;33m(\u001b[0m\u001b[1;33m)\u001b[0m\u001b[1;33m\u001b[0m\u001b[1;33m\u001b[0m\u001b[0m\n\u001b[0m",
      "\u001b[1;32m~\\AppData\\Local\\Continuum\\anaconda3\\lib\\site-packages\\pandas\\core\\frame.py\u001b[0m in \u001b[0;36mfrom_dict\u001b[1;34m(cls, data, orient, dtype, columns)\u001b[0m\n\u001b[0;32m   1245\u001b[0m             \u001b[1;32mraise\u001b[0m \u001b[0mValueError\u001b[0m\u001b[1;33m(\u001b[0m\u001b[1;34m\"only recognize index or columns for orient\"\u001b[0m\u001b[1;33m)\u001b[0m\u001b[1;33m\u001b[0m\u001b[1;33m\u001b[0m\u001b[0m\n\u001b[0;32m   1246\u001b[0m \u001b[1;33m\u001b[0m\u001b[0m\n\u001b[1;32m-> 1247\u001b[1;33m         \u001b[1;32mreturn\u001b[0m \u001b[0mcls\u001b[0m\u001b[1;33m(\u001b[0m\u001b[0mdata\u001b[0m\u001b[1;33m,\u001b[0m \u001b[0mindex\u001b[0m\u001b[1;33m=\u001b[0m\u001b[0mindex\u001b[0m\u001b[1;33m,\u001b[0m \u001b[0mcolumns\u001b[0m\u001b[1;33m=\u001b[0m\u001b[0mcolumns\u001b[0m\u001b[1;33m,\u001b[0m \u001b[0mdtype\u001b[0m\u001b[1;33m=\u001b[0m\u001b[0mdtype\u001b[0m\u001b[1;33m)\u001b[0m\u001b[1;33m\u001b[0m\u001b[1;33m\u001b[0m\u001b[0m\n\u001b[0m\u001b[0;32m   1248\u001b[0m \u001b[1;33m\u001b[0m\u001b[0m\n\u001b[0;32m   1249\u001b[0m     \u001b[1;32mdef\u001b[0m \u001b[0mto_numpy\u001b[0m\u001b[1;33m(\u001b[0m\u001b[0mself\u001b[0m\u001b[1;33m,\u001b[0m \u001b[0mdtype\u001b[0m\u001b[1;33m=\u001b[0m\u001b[1;32mNone\u001b[0m\u001b[1;33m,\u001b[0m \u001b[0mcopy\u001b[0m\u001b[1;33m=\u001b[0m\u001b[1;32mFalse\u001b[0m\u001b[1;33m)\u001b[0m \u001b[1;33m->\u001b[0m \u001b[0mnp\u001b[0m\u001b[1;33m.\u001b[0m\u001b[0mndarray\u001b[0m\u001b[1;33m:\u001b[0m\u001b[1;33m\u001b[0m\u001b[1;33m\u001b[0m\u001b[0m\n",
      "\u001b[1;32m~\\AppData\\Local\\Continuum\\anaconda3\\lib\\site-packages\\pandas\\core\\frame.py\u001b[0m in \u001b[0;36m__init__\u001b[1;34m(self, data, index, columns, dtype, copy)\u001b[0m\n\u001b[0;32m    472\u001b[0m                     \u001b[1;32mif\u001b[0m \u001b[0mis_named_tuple\u001b[0m\u001b[1;33m(\u001b[0m\u001b[0mdata\u001b[0m\u001b[1;33m[\u001b[0m\u001b[1;36m0\u001b[0m\u001b[1;33m]\u001b[0m\u001b[1;33m)\u001b[0m \u001b[1;32mand\u001b[0m \u001b[0mcolumns\u001b[0m \u001b[1;32mis\u001b[0m \u001b[1;32mNone\u001b[0m\u001b[1;33m:\u001b[0m\u001b[1;33m\u001b[0m\u001b[1;33m\u001b[0m\u001b[0m\n\u001b[0;32m    473\u001b[0m                         \u001b[0mcolumns\u001b[0m \u001b[1;33m=\u001b[0m \u001b[0mdata\u001b[0m\u001b[1;33m[\u001b[0m\u001b[1;36m0\u001b[0m\u001b[1;33m]\u001b[0m\u001b[1;33m.\u001b[0m\u001b[0m_fields\u001b[0m\u001b[1;33m\u001b[0m\u001b[1;33m\u001b[0m\u001b[0m\n\u001b[1;32m--> 474\u001b[1;33m                     \u001b[0marrays\u001b[0m\u001b[1;33m,\u001b[0m \u001b[0mcolumns\u001b[0m \u001b[1;33m=\u001b[0m \u001b[0mto_arrays\u001b[0m\u001b[1;33m(\u001b[0m\u001b[0mdata\u001b[0m\u001b[1;33m,\u001b[0m \u001b[0mcolumns\u001b[0m\u001b[1;33m,\u001b[0m \u001b[0mdtype\u001b[0m\u001b[1;33m=\u001b[0m\u001b[0mdtype\u001b[0m\u001b[1;33m)\u001b[0m\u001b[1;33m\u001b[0m\u001b[1;33m\u001b[0m\u001b[0m\n\u001b[0m\u001b[0;32m    475\u001b[0m                     \u001b[0mcolumns\u001b[0m \u001b[1;33m=\u001b[0m \u001b[0mensure_index\u001b[0m\u001b[1;33m(\u001b[0m\u001b[0mcolumns\u001b[0m\u001b[1;33m)\u001b[0m\u001b[1;33m\u001b[0m\u001b[1;33m\u001b[0m\u001b[0m\n\u001b[0;32m    476\u001b[0m \u001b[1;33m\u001b[0m\u001b[0m\n",
      "\u001b[1;32m~\\AppData\\Local\\Continuum\\anaconda3\\lib\\site-packages\\pandas\\core\\internals\\construction.py\u001b[0m in \u001b[0;36mto_arrays\u001b[1;34m(data, columns, coerce_float, dtype)\u001b[0m\n\u001b[0;32m    482\u001b[0m     \u001b[1;32melse\u001b[0m\u001b[1;33m:\u001b[0m\u001b[1;33m\u001b[0m\u001b[1;33m\u001b[0m\u001b[0m\n\u001b[0;32m    483\u001b[0m         \u001b[1;31m# last ditch effort\u001b[0m\u001b[1;33m\u001b[0m\u001b[1;33m\u001b[0m\u001b[1;33m\u001b[0m\u001b[0m\n\u001b[1;32m--> 484\u001b[1;33m         \u001b[0mdata\u001b[0m \u001b[1;33m=\u001b[0m \u001b[1;33m[\u001b[0m\u001b[0mtuple\u001b[0m\u001b[1;33m(\u001b[0m\u001b[0mx\u001b[0m\u001b[1;33m)\u001b[0m \u001b[1;32mfor\u001b[0m \u001b[0mx\u001b[0m \u001b[1;32min\u001b[0m \u001b[0mdata\u001b[0m\u001b[1;33m]\u001b[0m\u001b[1;33m\u001b[0m\u001b[1;33m\u001b[0m\u001b[0m\n\u001b[0m\u001b[0;32m    485\u001b[0m         \u001b[1;32mreturn\u001b[0m \u001b[0m_list_to_arrays\u001b[0m\u001b[1;33m(\u001b[0m\u001b[0mdata\u001b[0m\u001b[1;33m,\u001b[0m \u001b[0mcolumns\u001b[0m\u001b[1;33m,\u001b[0m \u001b[0mcoerce_float\u001b[0m\u001b[1;33m=\u001b[0m\u001b[0mcoerce_float\u001b[0m\u001b[1;33m,\u001b[0m \u001b[0mdtype\u001b[0m\u001b[1;33m=\u001b[0m\u001b[0mdtype\u001b[0m\u001b[1;33m)\u001b[0m\u001b[1;33m\u001b[0m\u001b[1;33m\u001b[0m\u001b[0m\n\u001b[0;32m    486\u001b[0m \u001b[1;33m\u001b[0m\u001b[0m\n",
      "\u001b[1;32m~\\AppData\\Local\\Continuum\\anaconda3\\lib\\site-packages\\pandas\\core\\internals\\construction.py\u001b[0m in \u001b[0;36m<listcomp>\u001b[1;34m(.0)\u001b[0m\n\u001b[0;32m    482\u001b[0m     \u001b[1;32melse\u001b[0m\u001b[1;33m:\u001b[0m\u001b[1;33m\u001b[0m\u001b[1;33m\u001b[0m\u001b[0m\n\u001b[0;32m    483\u001b[0m         \u001b[1;31m# last ditch effort\u001b[0m\u001b[1;33m\u001b[0m\u001b[1;33m\u001b[0m\u001b[1;33m\u001b[0m\u001b[0m\n\u001b[1;32m--> 484\u001b[1;33m         \u001b[0mdata\u001b[0m \u001b[1;33m=\u001b[0m \u001b[1;33m[\u001b[0m\u001b[0mtuple\u001b[0m\u001b[1;33m(\u001b[0m\u001b[0mx\u001b[0m\u001b[1;33m)\u001b[0m \u001b[1;32mfor\u001b[0m \u001b[0mx\u001b[0m \u001b[1;32min\u001b[0m \u001b[0mdata\u001b[0m\u001b[1;33m]\u001b[0m\u001b[1;33m\u001b[0m\u001b[1;33m\u001b[0m\u001b[0m\n\u001b[0m\u001b[0;32m    485\u001b[0m         \u001b[1;32mreturn\u001b[0m \u001b[0m_list_to_arrays\u001b[0m\u001b[1;33m(\u001b[0m\u001b[0mdata\u001b[0m\u001b[1;33m,\u001b[0m \u001b[0mcolumns\u001b[0m\u001b[1;33m,\u001b[0m \u001b[0mcoerce_float\u001b[0m\u001b[1;33m=\u001b[0m\u001b[0mcoerce_float\u001b[0m\u001b[1;33m,\u001b[0m \u001b[0mdtype\u001b[0m\u001b[1;33m=\u001b[0m\u001b[0mdtype\u001b[0m\u001b[1;33m)\u001b[0m\u001b[1;33m\u001b[0m\u001b[1;33m\u001b[0m\u001b[0m\n\u001b[0;32m    486\u001b[0m \u001b[1;33m\u001b[0m\u001b[0m\n",
      "\u001b[1;31mTypeError\u001b[0m: 'SparseTensor' object is not iterable"
     ]
    }
   ],
   "source": [
    "df=pd.DataFrame.from_dict(training_set1[0],orient='index').transpose()"
   ]
  },
  {
   "cell_type": "code",
   "execution_count": null,
   "metadata": {},
   "outputs": [],
   "source": [
    "# training_set1[0]['Field_ID']\n",
    "df"
   ]
  },
  {
   "cell_type": "code",
   "execution_count": 50,
   "metadata": {
    "id": "6vUC45L7-MEP"
   },
   "outputs": [],
   "source": [
    "# Same thing but for the test set\n",
    "y_test = pd.DataFrame(y_test, columns = [LABEL])\n",
    "testing_set = pd.DataFrame(x_test, columns = FEATURES + FEATURES_CAT).merge(y_test, left_index = True, right_index = True)"
   ]
  },
  {
   "cell_type": "code",
   "execution_count": 51,
   "metadata": {
    "id": "0W09_K6u-L_6"
   },
   "outputs": [],
   "source": [
    "training_set[FEATURES_CAT] = training_set[FEATURES_CAT].applymap(str)\n",
    "testing_set[FEATURES_CAT] = testing_set[FEATURES_CAT].applymap(str)\n",
    "\n"
   ]
  },
  {
   "cell_type": "code",
   "execution_count": 61,
   "metadata": {
    "id": "bu-CVGjo-L8Y"
   },
   "outputs": [],
   "source": [
    "categorical_cols = {k: tf.SparseTensor(indices=[[i, 0] for i in range(training_set[k].size)], values = training_set[k].values, dense_shape = [training_set[k].size, 1]) for k in FEATURES_CAT}"
   ]
  },
  {
   "cell_type": "code",
   "execution_count": 53,
   "metadata": {
    "colab": {
     "base_uri": "https://localhost:8080/"
    },
    "id": "HUEGMHpA_34J",
    "outputId": "9f7de0e6-5028-4aa4-eef3-18c4a5c2f25f"
   },
   "outputs": [
    {
     "name": "stdout",
     "output_type": "stream",
     "text": [
      "Processing c:\\users\\amakr\\appdata\\local\\pip\\cache\\wheels\\5c\\2e\\7e\\a1d4d4fcebe6c381f378ce7743a3ced3699feb89bcfbdadadd\\gast-0.2.2-cp37-none-any.whl\n",
      "Installing collected packages: gast\n",
      "  Attempting uninstall: gast\n",
      "    Found existing installation: gast 0.3.3\n",
      "    Uninstalling gast-0.3.3:\n",
      "      Successfully uninstalled gast-0.3.3\n",
      "Successfully installed gast-0.2.2\n",
      "Note: you may need to restart the kernel to use updated packages.\n"
     ]
    },
    {
     "name": "stderr",
     "output_type": "stream",
     "text": [
      "ERROR: tensorflow 2.3.0 has requirement gast==0.3.3, but you'll have gast 0.2.2 which is incompatible.\n"
     ]
    }
   ],
   "source": [
    "pip install gast==0.2.2"
   ]
  },
  {
   "cell_type": "code",
   "execution_count": 54,
   "metadata": {
    "colab": {
     "base_uri": "https://localhost:8080/"
    },
    "id": "cxT9L5Yh-L2j",
    "outputId": "91b15009-c4e6-4028-e3f9-8896ff5f6ab2"
   },
   "outputs": [
    {
     "data": {
      "text/html": [
       "<div>\n",
       "<style scoped>\n",
       "    .dataframe tbody tr th:only-of-type {\n",
       "        vertical-align: middle;\n",
       "    }\n",
       "\n",
       "    .dataframe tbody tr th {\n",
       "        vertical-align: top;\n",
       "    }\n",
       "\n",
       "    .dataframe thead th {\n",
       "        text-align: right;\n",
       "    }\n",
       "</style>\n",
       "<table border=\"1\" class=\"dataframe\">\n",
       "  <thead>\n",
       "    <tr style=\"text-align: right;\">\n",
       "      <th></th>\n",
       "      <th>0_S2_B1</th>\n",
       "      <th>0_S2_B2</th>\n",
       "      <th>0_S2_B3</th>\n",
       "      <th>0_S2_B4</th>\n",
       "      <th>0_S2_B5</th>\n",
       "      <th>0_S2_B6</th>\n",
       "      <th>0_S2_B7</th>\n",
       "      <th>0_S2_B8</th>\n",
       "      <th>0_S2_B8A</th>\n",
       "      <th>0_S2_B9</th>\n",
       "      <th>...</th>\n",
       "      <th>11_CLIM_soil</th>\n",
       "      <th>11_CLIM_srad</th>\n",
       "      <th>11_CLIM_swe</th>\n",
       "      <th>11_CLIM_tmmn</th>\n",
       "      <th>11_CLIM_tmmx</th>\n",
       "      <th>11_CLIM_vap</th>\n",
       "      <th>11_CLIM_vpd</th>\n",
       "      <th>11_CLIM_vs</th>\n",
       "      <th>Field_ID</th>\n",
       "      <th>Yield</th>\n",
       "    </tr>\n",
       "  </thead>\n",
       "  <tbody>\n",
       "    <tr>\n",
       "      <th>1286</th>\n",
       "      <td>0.289017</td>\n",
       "      <td>0.145957</td>\n",
       "      <td>0.199645</td>\n",
       "      <td>0.277670</td>\n",
       "      <td>0.442470</td>\n",
       "      <td>0.551451</td>\n",
       "      <td>0.496063</td>\n",
       "      <td>0.470893</td>\n",
       "      <td>0.508966</td>\n",
       "      <td>0.597775</td>\n",
       "      <td>...</td>\n",
       "      <td>0.021635</td>\n",
       "      <td>0.862955</td>\n",
       "      <td>0.0</td>\n",
       "      <td>0.780220</td>\n",
       "      <td>0.779661</td>\n",
       "      <td>0.503185</td>\n",
       "      <td>0.796296</td>\n",
       "      <td>0.862434</td>\n",
       "      <td>BNFNPN0</td>\n",
       "      <td>0.192474</td>\n",
       "    </tr>\n",
       "    <tr>\n",
       "      <th>13</th>\n",
       "      <td>0.398844</td>\n",
       "      <td>0.193294</td>\n",
       "      <td>0.248447</td>\n",
       "      <td>0.335534</td>\n",
       "      <td>0.471469</td>\n",
       "      <td>0.539012</td>\n",
       "      <td>0.519988</td>\n",
       "      <td>0.524496</td>\n",
       "      <td>0.568552</td>\n",
       "      <td>0.254684</td>\n",
       "      <td>...</td>\n",
       "      <td>0.565385</td>\n",
       "      <td>0.299786</td>\n",
       "      <td>0.0</td>\n",
       "      <td>0.626374</td>\n",
       "      <td>0.593220</td>\n",
       "      <td>0.798301</td>\n",
       "      <td>0.342593</td>\n",
       "      <td>0.634921</td>\n",
       "      <td>RBBNFVL</td>\n",
       "      <td>0.193080</td>\n",
       "    </tr>\n",
       "    <tr>\n",
       "      <th>873</th>\n",
       "      <td>0.283237</td>\n",
       "      <td>0.136588</td>\n",
       "      <td>0.209849</td>\n",
       "      <td>0.298252</td>\n",
       "      <td>0.559869</td>\n",
       "      <td>0.545043</td>\n",
       "      <td>0.486069</td>\n",
       "      <td>0.458790</td>\n",
       "      <td>0.498759</td>\n",
       "      <td>0.588993</td>\n",
       "      <td>...</td>\n",
       "      <td>0.026923</td>\n",
       "      <td>0.895075</td>\n",
       "      <td>0.0</td>\n",
       "      <td>0.824176</td>\n",
       "      <td>0.779661</td>\n",
       "      <td>0.527601</td>\n",
       "      <td>0.796296</td>\n",
       "      <td>0.936508</td>\n",
       "      <td>T7M1XTR</td>\n",
       "      <td>0.116090</td>\n",
       "    </tr>\n",
       "    <tr>\n",
       "      <th>1089</th>\n",
       "      <td>0.381503</td>\n",
       "      <td>0.212525</td>\n",
       "      <td>0.293700</td>\n",
       "      <td>0.341748</td>\n",
       "      <td>0.497194</td>\n",
       "      <td>0.628722</td>\n",
       "      <td>0.576620</td>\n",
       "      <td>0.586744</td>\n",
       "      <td>0.580690</td>\n",
       "      <td>0.577869</td>\n",
       "      <td>...</td>\n",
       "      <td>0.083173</td>\n",
       "      <td>0.891863</td>\n",
       "      <td>0.0</td>\n",
       "      <td>0.868132</td>\n",
       "      <td>0.745763</td>\n",
       "      <td>0.547771</td>\n",
       "      <td>0.777778</td>\n",
       "      <td>0.904762</td>\n",
       "      <td>BJN8BZA</td>\n",
       "      <td>0.257785</td>\n",
       "    </tr>\n",
       "    <tr>\n",
       "      <th>808</th>\n",
       "      <td>0.297110</td>\n",
       "      <td>0.162229</td>\n",
       "      <td>0.242680</td>\n",
       "      <td>0.333204</td>\n",
       "      <td>0.461179</td>\n",
       "      <td>0.557859</td>\n",
       "      <td>0.476681</td>\n",
       "      <td>0.494813</td>\n",
       "      <td>0.504000</td>\n",
       "      <td>0.653981</td>\n",
       "      <td>...</td>\n",
       "      <td>0.020192</td>\n",
       "      <td>0.888651</td>\n",
       "      <td>0.0</td>\n",
       "      <td>0.747253</td>\n",
       "      <td>0.796610</td>\n",
       "      <td>0.458599</td>\n",
       "      <td>0.833333</td>\n",
       "      <td>0.894180</td>\n",
       "      <td>KXYSA62</td>\n",
       "      <td>0.074827</td>\n",
       "    </tr>\n",
       "    <tr>\n",
       "      <th>...</th>\n",
       "      <td>...</td>\n",
       "      <td>...</td>\n",
       "      <td>...</td>\n",
       "      <td>...</td>\n",
       "      <td>...</td>\n",
       "      <td>...</td>\n",
       "      <td>...</td>\n",
       "      <td>...</td>\n",
       "      <td>...</td>\n",
       "      <td>...</td>\n",
       "      <td>...</td>\n",
       "      <td>...</td>\n",
       "      <td>...</td>\n",
       "      <td>...</td>\n",
       "      <td>...</td>\n",
       "      <td>...</td>\n",
       "      <td>...</td>\n",
       "      <td>...</td>\n",
       "      <td>...</td>\n",
       "      <td>...</td>\n",
       "      <td>...</td>\n",
       "    </tr>\n",
       "    <tr>\n",
       "      <th>1638</th>\n",
       "      <td>0.358382</td>\n",
       "      <td>0.127712</td>\n",
       "      <td>0.195652</td>\n",
       "      <td>0.178252</td>\n",
       "      <td>0.385875</td>\n",
       "      <td>0.583490</td>\n",
       "      <td>0.562992</td>\n",
       "      <td>0.573775</td>\n",
       "      <td>0.604690</td>\n",
       "      <td>0.250585</td>\n",
       "      <td>...</td>\n",
       "      <td>0.048558</td>\n",
       "      <td>0.929336</td>\n",
       "      <td>0.0</td>\n",
       "      <td>0.725275</td>\n",
       "      <td>0.847458</td>\n",
       "      <td>0.367304</td>\n",
       "      <td>0.935185</td>\n",
       "      <td>0.708995</td>\n",
       "      <td>Y2WD1HK</td>\n",
       "      <td>0.253495</td>\n",
       "    </tr>\n",
       "    <tr>\n",
       "      <th>1095</th>\n",
       "      <td>0.365318</td>\n",
       "      <td>0.163708</td>\n",
       "      <td>0.222272</td>\n",
       "      <td>0.331262</td>\n",
       "      <td>0.540692</td>\n",
       "      <td>0.445910</td>\n",
       "      <td>0.366747</td>\n",
       "      <td>0.379539</td>\n",
       "      <td>0.407172</td>\n",
       "      <td>0.488290</td>\n",
       "      <td>...</td>\n",
       "      <td>0.071154</td>\n",
       "      <td>0.892934</td>\n",
       "      <td>0.0</td>\n",
       "      <td>0.868132</td>\n",
       "      <td>0.762712</td>\n",
       "      <td>0.541401</td>\n",
       "      <td>0.796296</td>\n",
       "      <td>0.894180</td>\n",
       "      <td>I4SIEXC</td>\n",
       "      <td>0.214533</td>\n",
       "    </tr>\n",
       "    <tr>\n",
       "      <th>1130</th>\n",
       "      <td>0.361850</td>\n",
       "      <td>0.201677</td>\n",
       "      <td>0.307453</td>\n",
       "      <td>0.387184</td>\n",
       "      <td>0.628625</td>\n",
       "      <td>0.589521</td>\n",
       "      <td>0.517262</td>\n",
       "      <td>0.547262</td>\n",
       "      <td>0.547586</td>\n",
       "      <td>0.692623</td>\n",
       "      <td>...</td>\n",
       "      <td>0.032212</td>\n",
       "      <td>0.857602</td>\n",
       "      <td>0.0</td>\n",
       "      <td>0.494505</td>\n",
       "      <td>0.728814</td>\n",
       "      <td>0.283439</td>\n",
       "      <td>0.824074</td>\n",
       "      <td>0.724868</td>\n",
       "      <td>NROW1ON</td>\n",
       "      <td>0.032007</td>\n",
       "    </tr>\n",
       "    <tr>\n",
       "      <th>1294</th>\n",
       "      <td>0.243931</td>\n",
       "      <td>0.158777</td>\n",
       "      <td>0.244454</td>\n",
       "      <td>0.332816</td>\n",
       "      <td>0.538354</td>\n",
       "      <td>0.513758</td>\n",
       "      <td>0.463658</td>\n",
       "      <td>0.534870</td>\n",
       "      <td>0.485517</td>\n",
       "      <td>0.553864</td>\n",
       "      <td>...</td>\n",
       "      <td>0.021635</td>\n",
       "      <td>0.862955</td>\n",
       "      <td>0.0</td>\n",
       "      <td>0.780220</td>\n",
       "      <td>0.779661</td>\n",
       "      <td>0.503185</td>\n",
       "      <td>0.796296</td>\n",
       "      <td>0.862434</td>\n",
       "      <td>881ENJL</td>\n",
       "      <td>0.089965</td>\n",
       "    </tr>\n",
       "    <tr>\n",
       "      <th>860</th>\n",
       "      <td>0.334104</td>\n",
       "      <td>0.142998</td>\n",
       "      <td>0.212067</td>\n",
       "      <td>0.308738</td>\n",
       "      <td>0.454630</td>\n",
       "      <td>0.512627</td>\n",
       "      <td>0.460933</td>\n",
       "      <td>0.439193</td>\n",
       "      <td>0.498207</td>\n",
       "      <td>0.599532</td>\n",
       "      <td>...</td>\n",
       "      <td>0.037500</td>\n",
       "      <td>0.901499</td>\n",
       "      <td>0.0</td>\n",
       "      <td>0.824176</td>\n",
       "      <td>0.745763</td>\n",
       "      <td>0.527601</td>\n",
       "      <td>0.768519</td>\n",
       "      <td>0.878307</td>\n",
       "      <td>09B11R8</td>\n",
       "      <td>0.249567</td>\n",
       "    </tr>\n",
       "  </tbody>\n",
       "</table>\n",
       "<p>1770 rows × 362 columns</p>\n",
       "</div>"
      ],
      "text/plain": [
       "       0_S2_B1   0_S2_B2   0_S2_B3   0_S2_B4   0_S2_B5   0_S2_B6   0_S2_B7  \\\n",
       "1286  0.289017  0.145957  0.199645  0.277670  0.442470  0.551451  0.496063   \n",
       "13    0.398844  0.193294  0.248447  0.335534  0.471469  0.539012  0.519988   \n",
       "873   0.283237  0.136588  0.209849  0.298252  0.559869  0.545043  0.486069   \n",
       "1089  0.381503  0.212525  0.293700  0.341748  0.497194  0.628722  0.576620   \n",
       "808   0.297110  0.162229  0.242680  0.333204  0.461179  0.557859  0.476681   \n",
       "...        ...       ...       ...       ...       ...       ...       ...   \n",
       "1638  0.358382  0.127712  0.195652  0.178252  0.385875  0.583490  0.562992   \n",
       "1095  0.365318  0.163708  0.222272  0.331262  0.540692  0.445910  0.366747   \n",
       "1130  0.361850  0.201677  0.307453  0.387184  0.628625  0.589521  0.517262   \n",
       "1294  0.243931  0.158777  0.244454  0.332816  0.538354  0.513758  0.463658   \n",
       "860   0.334104  0.142998  0.212067  0.308738  0.454630  0.512627  0.460933   \n",
       "\n",
       "       0_S2_B8  0_S2_B8A   0_S2_B9  ...  11_CLIM_soil  11_CLIM_srad  \\\n",
       "1286  0.470893  0.508966  0.597775  ...      0.021635      0.862955   \n",
       "13    0.524496  0.568552  0.254684  ...      0.565385      0.299786   \n",
       "873   0.458790  0.498759  0.588993  ...      0.026923      0.895075   \n",
       "1089  0.586744  0.580690  0.577869  ...      0.083173      0.891863   \n",
       "808   0.494813  0.504000  0.653981  ...      0.020192      0.888651   \n",
       "...        ...       ...       ...  ...           ...           ...   \n",
       "1638  0.573775  0.604690  0.250585  ...      0.048558      0.929336   \n",
       "1095  0.379539  0.407172  0.488290  ...      0.071154      0.892934   \n",
       "1130  0.547262  0.547586  0.692623  ...      0.032212      0.857602   \n",
       "1294  0.534870  0.485517  0.553864  ...      0.021635      0.862955   \n",
       "860   0.439193  0.498207  0.599532  ...      0.037500      0.901499   \n",
       "\n",
       "      11_CLIM_swe  11_CLIM_tmmn  11_CLIM_tmmx  11_CLIM_vap  11_CLIM_vpd  \\\n",
       "1286          0.0      0.780220      0.779661     0.503185     0.796296   \n",
       "13            0.0      0.626374      0.593220     0.798301     0.342593   \n",
       "873           0.0      0.824176      0.779661     0.527601     0.796296   \n",
       "1089          0.0      0.868132      0.745763     0.547771     0.777778   \n",
       "808           0.0      0.747253      0.796610     0.458599     0.833333   \n",
       "...           ...           ...           ...          ...          ...   \n",
       "1638          0.0      0.725275      0.847458     0.367304     0.935185   \n",
       "1095          0.0      0.868132      0.762712     0.541401     0.796296   \n",
       "1130          0.0      0.494505      0.728814     0.283439     0.824074   \n",
       "1294          0.0      0.780220      0.779661     0.503185     0.796296   \n",
       "860           0.0      0.824176      0.745763     0.527601     0.768519   \n",
       "\n",
       "      11_CLIM_vs  Field_ID     Yield  \n",
       "1286    0.862434   BNFNPN0  0.192474  \n",
       "13      0.634921   RBBNFVL  0.193080  \n",
       "873     0.936508   T7M1XTR  0.116090  \n",
       "1089    0.904762   BJN8BZA  0.257785  \n",
       "808     0.894180   KXYSA62  0.074827  \n",
       "...          ...       ...       ...  \n",
       "1638    0.708995   Y2WD1HK  0.253495  \n",
       "1095    0.894180   I4SIEXC  0.214533  \n",
       "1130    0.724868   NROW1ON  0.032007  \n",
       "1294    0.862434   881ENJL  0.089965  \n",
       "860     0.878307   09B11R8  0.249567  \n",
       "\n",
       "[1770 rows x 362 columns]"
      ]
     },
     "execution_count": 54,
     "metadata": {},
     "output_type": "execute_result"
    }
   ],
   "source": [
    "# Deep Neural Network Regressor with the training set which contain the data split by train test split\n",
    "# regressor.fit(input_fn = lambda: input_fn_new(training_set) , steps=2000)\n",
    "training_set"
   ]
  },
  {
   "cell_type": "code",
   "execution_count": 62,
   "metadata": {
    "id": "sXxXIus0_PjV"
   },
   "outputs": [],
   "source": [
    "model = Sequential()\n",
    "BatchNormalization()\n",
    "model.add(Dense(1028,input_dim=len(FEATURES),activation='relu'))\n",
    "# BatchNormalization()\n",
    "# model.add(Dense(256,activation='relu'))\n",
    "# BatchNormalization()\n",
    "# #Dropout(0.2)\n",
    "# model.add(Dense(128,activation='relu'))\n",
    "# BatchNormalization()\n",
    "# #Dropout(0.2)\n",
    "# model.add(Dense(64,activation = 'relu'))\n",
    "# BatchNormalization()\n",
    "# model.add(Dense(32,activation = 'relu'))\n",
    "# BatchNormalization()\n",
    "model.add(Dense(1,activation = 'linear'))\n",
    "model.compile(optimizer='adam',loss='mse',metrics=['mean_squared_error'])\n",
    "early_stopping = EarlyStopping(monitor='val_loss', patience=5, mode='min',restore_best_weights=True)\n",
    "save_best = ModelCheckpoint('checkpoint', save_best_only=True, \n",
    "                               monitor='val_loss', mode='min')"
   ]
  },
  {
   "cell_type": "code",
   "execution_count": 60,
   "metadata": {},
   "outputs": [
    {
     "data": {
      "text/html": [
       "<div>\n",
       "<style scoped>\n",
       "    .dataframe tbody tr th:only-of-type {\n",
       "        vertical-align: middle;\n",
       "    }\n",
       "\n",
       "    .dataframe tbody tr th {\n",
       "        vertical-align: top;\n",
       "    }\n",
       "\n",
       "    .dataframe thead th {\n",
       "        text-align: right;\n",
       "    }\n",
       "</style>\n",
       "<table border=\"1\" class=\"dataframe\">\n",
       "  <thead>\n",
       "    <tr style=\"text-align: right;\">\n",
       "      <th></th>\n",
       "      <th>0_S2_B1</th>\n",
       "      <th>0_S2_B2</th>\n",
       "      <th>0_S2_B3</th>\n",
       "      <th>0_S2_B4</th>\n",
       "      <th>0_S2_B5</th>\n",
       "      <th>0_S2_B6</th>\n",
       "      <th>0_S2_B7</th>\n",
       "      <th>0_S2_B8</th>\n",
       "      <th>0_S2_B8A</th>\n",
       "      <th>0_S2_B9</th>\n",
       "      <th>...</th>\n",
       "      <th>11_CLIM_ro</th>\n",
       "      <th>11_CLIM_soil</th>\n",
       "      <th>11_CLIM_srad</th>\n",
       "      <th>11_CLIM_swe</th>\n",
       "      <th>11_CLIM_tmmn</th>\n",
       "      <th>11_CLIM_tmmx</th>\n",
       "      <th>11_CLIM_vap</th>\n",
       "      <th>11_CLIM_vpd</th>\n",
       "      <th>11_CLIM_vs</th>\n",
       "      <th>Field_ID</th>\n",
       "    </tr>\n",
       "  </thead>\n",
       "  <tbody>\n",
       "    <tr>\n",
       "      <th>1286</th>\n",
       "      <td>0.289017</td>\n",
       "      <td>0.145957</td>\n",
       "      <td>0.199645</td>\n",
       "      <td>0.277670</td>\n",
       "      <td>0.442470</td>\n",
       "      <td>0.551451</td>\n",
       "      <td>0.496063</td>\n",
       "      <td>0.470893</td>\n",
       "      <td>0.508966</td>\n",
       "      <td>0.597775</td>\n",
       "      <td>...</td>\n",
       "      <td>0.006098</td>\n",
       "      <td>0.021635</td>\n",
       "      <td>0.862955</td>\n",
       "      <td>0.0</td>\n",
       "      <td>0.780220</td>\n",
       "      <td>0.779661</td>\n",
       "      <td>0.503185</td>\n",
       "      <td>0.796296</td>\n",
       "      <td>0.862434</td>\n",
       "      <td>BNFNPN0</td>\n",
       "    </tr>\n",
       "    <tr>\n",
       "      <th>13</th>\n",
       "      <td>0.398844</td>\n",
       "      <td>0.193294</td>\n",
       "      <td>0.248447</td>\n",
       "      <td>0.335534</td>\n",
       "      <td>0.471469</td>\n",
       "      <td>0.539012</td>\n",
       "      <td>0.519988</td>\n",
       "      <td>0.524496</td>\n",
       "      <td>0.568552</td>\n",
       "      <td>0.254684</td>\n",
       "      <td>...</td>\n",
       "      <td>0.402439</td>\n",
       "      <td>0.565385</td>\n",
       "      <td>0.299786</td>\n",
       "      <td>0.0</td>\n",
       "      <td>0.626374</td>\n",
       "      <td>0.593220</td>\n",
       "      <td>0.798301</td>\n",
       "      <td>0.342593</td>\n",
       "      <td>0.634921</td>\n",
       "      <td>RBBNFVL</td>\n",
       "    </tr>\n",
       "    <tr>\n",
       "      <th>873</th>\n",
       "      <td>0.283237</td>\n",
       "      <td>0.136588</td>\n",
       "      <td>0.209849</td>\n",
       "      <td>0.298252</td>\n",
       "      <td>0.559869</td>\n",
       "      <td>0.545043</td>\n",
       "      <td>0.486069</td>\n",
       "      <td>0.458790</td>\n",
       "      <td>0.498759</td>\n",
       "      <td>0.588993</td>\n",
       "      <td>...</td>\n",
       "      <td>0.006098</td>\n",
       "      <td>0.026923</td>\n",
       "      <td>0.895075</td>\n",
       "      <td>0.0</td>\n",
       "      <td>0.824176</td>\n",
       "      <td>0.779661</td>\n",
       "      <td>0.527601</td>\n",
       "      <td>0.796296</td>\n",
       "      <td>0.936508</td>\n",
       "      <td>T7M1XTR</td>\n",
       "    </tr>\n",
       "    <tr>\n",
       "      <th>1089</th>\n",
       "      <td>0.381503</td>\n",
       "      <td>0.212525</td>\n",
       "      <td>0.293700</td>\n",
       "      <td>0.341748</td>\n",
       "      <td>0.497194</td>\n",
       "      <td>0.628722</td>\n",
       "      <td>0.576620</td>\n",
       "      <td>0.586744</td>\n",
       "      <td>0.580690</td>\n",
       "      <td>0.577869</td>\n",
       "      <td>...</td>\n",
       "      <td>0.006098</td>\n",
       "      <td>0.083173</td>\n",
       "      <td>0.891863</td>\n",
       "      <td>0.0</td>\n",
       "      <td>0.868132</td>\n",
       "      <td>0.745763</td>\n",
       "      <td>0.547771</td>\n",
       "      <td>0.777778</td>\n",
       "      <td>0.904762</td>\n",
       "      <td>BJN8BZA</td>\n",
       "    </tr>\n",
       "    <tr>\n",
       "      <th>808</th>\n",
       "      <td>0.297110</td>\n",
       "      <td>0.162229</td>\n",
       "      <td>0.242680</td>\n",
       "      <td>0.333204</td>\n",
       "      <td>0.461179</td>\n",
       "      <td>0.557859</td>\n",
       "      <td>0.476681</td>\n",
       "      <td>0.494813</td>\n",
       "      <td>0.504000</td>\n",
       "      <td>0.653981</td>\n",
       "      <td>...</td>\n",
       "      <td>0.006098</td>\n",
       "      <td>0.020192</td>\n",
       "      <td>0.888651</td>\n",
       "      <td>0.0</td>\n",
       "      <td>0.747253</td>\n",
       "      <td>0.796610</td>\n",
       "      <td>0.458599</td>\n",
       "      <td>0.833333</td>\n",
       "      <td>0.894180</td>\n",
       "      <td>KXYSA62</td>\n",
       "    </tr>\n",
       "    <tr>\n",
       "      <th>...</th>\n",
       "      <td>...</td>\n",
       "      <td>...</td>\n",
       "      <td>...</td>\n",
       "      <td>...</td>\n",
       "      <td>...</td>\n",
       "      <td>...</td>\n",
       "      <td>...</td>\n",
       "      <td>...</td>\n",
       "      <td>...</td>\n",
       "      <td>...</td>\n",
       "      <td>...</td>\n",
       "      <td>...</td>\n",
       "      <td>...</td>\n",
       "      <td>...</td>\n",
       "      <td>...</td>\n",
       "      <td>...</td>\n",
       "      <td>...</td>\n",
       "      <td>...</td>\n",
       "      <td>...</td>\n",
       "      <td>...</td>\n",
       "      <td>...</td>\n",
       "    </tr>\n",
       "    <tr>\n",
       "      <th>1638</th>\n",
       "      <td>0.358382</td>\n",
       "      <td>0.127712</td>\n",
       "      <td>0.195652</td>\n",
       "      <td>0.178252</td>\n",
       "      <td>0.385875</td>\n",
       "      <td>0.583490</td>\n",
       "      <td>0.562992</td>\n",
       "      <td>0.573775</td>\n",
       "      <td>0.604690</td>\n",
       "      <td>0.250585</td>\n",
       "      <td>...</td>\n",
       "      <td>0.006098</td>\n",
       "      <td>0.048558</td>\n",
       "      <td>0.929336</td>\n",
       "      <td>0.0</td>\n",
       "      <td>0.725275</td>\n",
       "      <td>0.847458</td>\n",
       "      <td>0.367304</td>\n",
       "      <td>0.935185</td>\n",
       "      <td>0.708995</td>\n",
       "      <td>Y2WD1HK</td>\n",
       "    </tr>\n",
       "    <tr>\n",
       "      <th>1095</th>\n",
       "      <td>0.365318</td>\n",
       "      <td>0.163708</td>\n",
       "      <td>0.222272</td>\n",
       "      <td>0.331262</td>\n",
       "      <td>0.540692</td>\n",
       "      <td>0.445910</td>\n",
       "      <td>0.366747</td>\n",
       "      <td>0.379539</td>\n",
       "      <td>0.407172</td>\n",
       "      <td>0.488290</td>\n",
       "      <td>...</td>\n",
       "      <td>0.006098</td>\n",
       "      <td>0.071154</td>\n",
       "      <td>0.892934</td>\n",
       "      <td>0.0</td>\n",
       "      <td>0.868132</td>\n",
       "      <td>0.762712</td>\n",
       "      <td>0.541401</td>\n",
       "      <td>0.796296</td>\n",
       "      <td>0.894180</td>\n",
       "      <td>I4SIEXC</td>\n",
       "    </tr>\n",
       "    <tr>\n",
       "      <th>1130</th>\n",
       "      <td>0.361850</td>\n",
       "      <td>0.201677</td>\n",
       "      <td>0.307453</td>\n",
       "      <td>0.387184</td>\n",
       "      <td>0.628625</td>\n",
       "      <td>0.589521</td>\n",
       "      <td>0.517262</td>\n",
       "      <td>0.547262</td>\n",
       "      <td>0.547586</td>\n",
       "      <td>0.692623</td>\n",
       "      <td>...</td>\n",
       "      <td>0.006098</td>\n",
       "      <td>0.032212</td>\n",
       "      <td>0.857602</td>\n",
       "      <td>0.0</td>\n",
       "      <td>0.494505</td>\n",
       "      <td>0.728814</td>\n",
       "      <td>0.283439</td>\n",
       "      <td>0.824074</td>\n",
       "      <td>0.724868</td>\n",
       "      <td>NROW1ON</td>\n",
       "    </tr>\n",
       "    <tr>\n",
       "      <th>1294</th>\n",
       "      <td>0.243931</td>\n",
       "      <td>0.158777</td>\n",
       "      <td>0.244454</td>\n",
       "      <td>0.332816</td>\n",
       "      <td>0.538354</td>\n",
       "      <td>0.513758</td>\n",
       "      <td>0.463658</td>\n",
       "      <td>0.534870</td>\n",
       "      <td>0.485517</td>\n",
       "      <td>0.553864</td>\n",
       "      <td>...</td>\n",
       "      <td>0.006098</td>\n",
       "      <td>0.021635</td>\n",
       "      <td>0.862955</td>\n",
       "      <td>0.0</td>\n",
       "      <td>0.780220</td>\n",
       "      <td>0.779661</td>\n",
       "      <td>0.503185</td>\n",
       "      <td>0.796296</td>\n",
       "      <td>0.862434</td>\n",
       "      <td>881ENJL</td>\n",
       "    </tr>\n",
       "    <tr>\n",
       "      <th>860</th>\n",
       "      <td>0.334104</td>\n",
       "      <td>0.142998</td>\n",
       "      <td>0.212067</td>\n",
       "      <td>0.308738</td>\n",
       "      <td>0.454630</td>\n",
       "      <td>0.512627</td>\n",
       "      <td>0.460933</td>\n",
       "      <td>0.439193</td>\n",
       "      <td>0.498207</td>\n",
       "      <td>0.599532</td>\n",
       "      <td>...</td>\n",
       "      <td>0.006098</td>\n",
       "      <td>0.037500</td>\n",
       "      <td>0.901499</td>\n",
       "      <td>0.0</td>\n",
       "      <td>0.824176</td>\n",
       "      <td>0.745763</td>\n",
       "      <td>0.527601</td>\n",
       "      <td>0.768519</td>\n",
       "      <td>0.878307</td>\n",
       "      <td>09B11R8</td>\n",
       "    </tr>\n",
       "  </tbody>\n",
       "</table>\n",
       "<p>1770 rows × 361 columns</p>\n",
       "</div>"
      ],
      "text/plain": [
       "       0_S2_B1   0_S2_B2   0_S2_B3   0_S2_B4   0_S2_B5   0_S2_B6   0_S2_B7  \\\n",
       "1286  0.289017  0.145957  0.199645  0.277670  0.442470  0.551451  0.496063   \n",
       "13    0.398844  0.193294  0.248447  0.335534  0.471469  0.539012  0.519988   \n",
       "873   0.283237  0.136588  0.209849  0.298252  0.559869  0.545043  0.486069   \n",
       "1089  0.381503  0.212525  0.293700  0.341748  0.497194  0.628722  0.576620   \n",
       "808   0.297110  0.162229  0.242680  0.333204  0.461179  0.557859  0.476681   \n",
       "...        ...       ...       ...       ...       ...       ...       ...   \n",
       "1638  0.358382  0.127712  0.195652  0.178252  0.385875  0.583490  0.562992   \n",
       "1095  0.365318  0.163708  0.222272  0.331262  0.540692  0.445910  0.366747   \n",
       "1130  0.361850  0.201677  0.307453  0.387184  0.628625  0.589521  0.517262   \n",
       "1294  0.243931  0.158777  0.244454  0.332816  0.538354  0.513758  0.463658   \n",
       "860   0.334104  0.142998  0.212067  0.308738  0.454630  0.512627  0.460933   \n",
       "\n",
       "       0_S2_B8  0_S2_B8A   0_S2_B9  ...  11_CLIM_ro  11_CLIM_soil  \\\n",
       "1286  0.470893  0.508966  0.597775  ...    0.006098      0.021635   \n",
       "13    0.524496  0.568552  0.254684  ...    0.402439      0.565385   \n",
       "873   0.458790  0.498759  0.588993  ...    0.006098      0.026923   \n",
       "1089  0.586744  0.580690  0.577869  ...    0.006098      0.083173   \n",
       "808   0.494813  0.504000  0.653981  ...    0.006098      0.020192   \n",
       "...        ...       ...       ...  ...         ...           ...   \n",
       "1638  0.573775  0.604690  0.250585  ...    0.006098      0.048558   \n",
       "1095  0.379539  0.407172  0.488290  ...    0.006098      0.071154   \n",
       "1130  0.547262  0.547586  0.692623  ...    0.006098      0.032212   \n",
       "1294  0.534870  0.485517  0.553864  ...    0.006098      0.021635   \n",
       "860   0.439193  0.498207  0.599532  ...    0.006098      0.037500   \n",
       "\n",
       "      11_CLIM_srad  11_CLIM_swe  11_CLIM_tmmn  11_CLIM_tmmx  11_CLIM_vap  \\\n",
       "1286      0.862955          0.0      0.780220      0.779661     0.503185   \n",
       "13        0.299786          0.0      0.626374      0.593220     0.798301   \n",
       "873       0.895075          0.0      0.824176      0.779661     0.527601   \n",
       "1089      0.891863          0.0      0.868132      0.745763     0.547771   \n",
       "808       0.888651          0.0      0.747253      0.796610     0.458599   \n",
       "...            ...          ...           ...           ...          ...   \n",
       "1638      0.929336          0.0      0.725275      0.847458     0.367304   \n",
       "1095      0.892934          0.0      0.868132      0.762712     0.541401   \n",
       "1130      0.857602          0.0      0.494505      0.728814     0.283439   \n",
       "1294      0.862955          0.0      0.780220      0.779661     0.503185   \n",
       "860       0.901499          0.0      0.824176      0.745763     0.527601   \n",
       "\n",
       "      11_CLIM_vpd  11_CLIM_vs  Field_ID  \n",
       "1286     0.796296    0.862434   BNFNPN0  \n",
       "13       0.342593    0.634921   RBBNFVL  \n",
       "873      0.796296    0.936508   T7M1XTR  \n",
       "1089     0.777778    0.904762   BJN8BZA  \n",
       "808      0.833333    0.894180   KXYSA62  \n",
       "...           ...         ...       ...  \n",
       "1638     0.935185    0.708995   Y2WD1HK  \n",
       "1095     0.796296    0.894180   I4SIEXC  \n",
       "1130     0.824074    0.724868   NROW1ON  \n",
       "1294     0.796296    0.862434   881ENJL  \n",
       "860      0.768519    0.878307   09B11R8  \n",
       "\n",
       "[1770 rows x 361 columns]"
      ]
     },
     "execution_count": 60,
     "metadata": {},
     "output_type": "execute_result"
    }
   ],
   "source": [
    "x_train"
   ]
  },
  {
   "cell_type": "code",
   "execution_count": null,
   "metadata": {},
   "outputs": [],
   "source": [
    "\n",
    "training_set.reset_index(drop = True, inplace =True)\n",
    "model.fit(training_set1[engineeered_features], validation_split= 0.2,epochs=30,batch_size=100,verbose=1 , \n",
    "                 callbacks=[early_stopping,save_best])"
   ]
  },
  {
   "cell_type": "code",
   "execution_count": 80,
   "metadata": {},
   "outputs": [
    {
     "ename": "TypeError",
     "evalue": "unhashable type: 'list'",
     "output_type": "error",
     "traceback": [
      "\u001b[1;31m---------------------------------------------------------------------------\u001b[0m",
      "\u001b[1;31mTypeError\u001b[0m                                 Traceback (most recent call last)",
      "\u001b[1;32m<ipython-input-80-1f25c8b3bf9d>\u001b[0m in \u001b[0;36m<module>\u001b[1;34m\u001b[0m\n\u001b[0;32m      1\u001b[0m \u001b[1;31m# input_fn_new(x_train)\u001b[0m\u001b[1;33m\u001b[0m\u001b[1;33m\u001b[0m\u001b[1;33m\u001b[0m\u001b[0m\n\u001b[1;32m----> 2\u001b[1;33m \u001b[0mtraining_set1\u001b[0m\u001b[1;33m[\u001b[0m\u001b[1;36m0\u001b[0m\u001b[1;33m]\u001b[0m\u001b[1;33m[\u001b[0m\u001b[0mengineered_features\u001b[0m\u001b[1;33m]\u001b[0m\u001b[1;33m\u001b[0m\u001b[1;33m\u001b[0m\u001b[0m\n\u001b[0m",
      "\u001b[1;31mTypeError\u001b[0m: unhashable type: 'list'"
     ]
    }
   ],
   "source": [
    "# input_fn_new(x_train)\n",
    "training_set1[0][engineered_features]"
   ]
  },
  {
   "cell_type": "code",
   "execution_count": null,
   "metadata": {},
   "outputs": [],
   "source": []
  }
 ],
 "metadata": {
  "accelerator": "GPU",
  "colab": {
   "collapsed_sections": [],
   "name": " CGIAR Crop Yield Prediction Challenge(Deep Neural Network with Tensorflow) => 1.70481 on LB.ipynb",
   "provenance": [],
   "toc_visible": true
  },
  "kernelspec": {
   "display_name": "Python 3",
   "language": "python",
   "name": "python3"
  },
  "language_info": {
   "codemirror_mode": {
    "name": "ipython",
    "version": 3
   },
   "file_extension": ".py",
   "mimetype": "text/x-python",
   "name": "python",
   "nbconvert_exporter": "python",
   "pygments_lexer": "ipython3",
   "version": "3.7.4"
  }
 },
 "nbformat": 4,
 "nbformat_minor": 1
}
