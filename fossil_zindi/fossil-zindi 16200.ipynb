{
 "cells": [
  {
   "cell_type": "code",
   "execution_count": 2,
   "metadata": {
    "_cell_guid": "b1076dfc-b9ad-4769-8c92-a6c4dae69d19",
    "_uuid": "8f2839f25d086af736a60e9eeb907d3b93b6e0e5",
    "execution": {
     "iopub.execute_input": "2022-08-14T15:42:41.693557Z",
     "iopub.status.busy": "2022-08-14T15:42:41.693043Z",
     "iopub.status.idle": "2022-08-14T15:42:41.714578Z",
     "shell.execute_reply": "2022-08-14T15:42:41.713474Z",
     "shell.execute_reply.started": "2022-08-14T15:42:41.693518Z"
    }
   },
   "outputs": [
    {
     "data": {
      "text/html": [
       "<style type='text/css'>\n",
       ".datatable table.frame { margin-bottom: 0; }\n",
       ".datatable table.frame thead { border-bottom: none; }\n",
       ".datatable table.frame tr.coltypes td {  color: #FFFFFF;  line-height: 6px;  padding: 0 0.5em;}\n",
       ".datatable .bool    { background: #DDDD99; }\n",
       ".datatable .object  { background: #565656; }\n",
       ".datatable .int     { background: #5D9E5D; }\n",
       ".datatable .float   { background: #4040CC; }\n",
       ".datatable .str     { background: #CC4040; }\n",
       ".datatable .time    { background: #40CC40; }\n",
       ".datatable .row_index {  background: var(--jp-border-color3);  border-right: 1px solid var(--jp-border-color0);  color: var(--jp-ui-font-color3);  font-size: 9px;}\n",
       ".datatable .frame tbody td { text-align: left; }\n",
       ".datatable .frame tr.coltypes .row_index {  background: var(--jp-border-color0);}\n",
       ".datatable th:nth-child(2) { padding-left: 12px; }\n",
       ".datatable .hellipsis {  color: var(--jp-cell-editor-border-color);}\n",
       ".datatable .vellipsis {  background: var(--jp-layout-color0);  color: var(--jp-cell-editor-border-color);}\n",
       ".datatable .na {  color: var(--jp-cell-editor-border-color);  font-size: 80%;}\n",
       ".datatable .sp {  opacity: 0.25;}\n",
       ".datatable .footer { font-size: 9px; }\n",
       ".datatable .frame_dimensions {  background: var(--jp-border-color3);  border-top: 1px solid var(--jp-border-color0);  color: var(--jp-ui-font-color3);  display: inline-block;  opacity: 0.6;  padding: 1px 10px 1px 5px;}\n",
       "</style>\n"
      ],
      "text/plain": [
       "<IPython.core.display.HTML object>"
      ]
     },
     "metadata": {},
     "output_type": "display_data"
    }
   ],
   "source": [
    "# This Python 3 environment comes with many helpful analytics libraries installed\n",
    "# It is defined by the kaggle/python Docker image: https://github.com/kaggle/docker-python\n",
    "# For example, here's several helpful packages to load\n",
    "\n",
    "import numpy as np # linear algebra\n",
    "import pandas as pd # data processing, CSV file I/O (e.g. pd.read_csv)\n",
    "from sklearn.model_selection import KFold\n",
    "import lightgbm as lgbm# .loc[df_test.sku_name == new_id_test[0]]\n",
    "from sklearn.preprocessing import LabelEncoder as LE\n",
    "import seaborn as sns\n",
    "import scipy.stats as ss\n",
    "# Input data files are available in the read-only \"../input/\" directory\n",
    "# For example, running this (by clicking run or pressing Shift+Enter) will list all files under the input directory\n",
    "import matplotlib.pyplot as plt\n",
    "import os\n",
    "# for dirname, _, filenames in os.walk('/kaggle/input'):\n",
    "#     for filename in filenames:\n",
    "#         print(os.path.join(dirname, filename))\n",
    "import seaborn as sns\n",
    "from matplotlib import pyplot as plt\n",
    "def display_importances(feature_importance_df_):\n",
    "    cols = feature_importance_df_[[\"Feature\", \"Importance\"]].groupby(\"Feature\").mean().sort_values(by=\"Importance\", ascending=False)[:10].index\n",
    "    best_features = feature_importance_df_[[\"Feature\", \"Importance\"]].groupby(\"Feature\").mean().sort_values(by=\"Importance\", ascending=False)[:50]\n",
    "    best_features.reset_index(inplace=True)\n",
    "    print(best_features.dtypes)\n",
    "    plt.figure(figsize=(8, 10))\n",
    "    sns.barplot(x=\"Importance\", y=\"Feature\", data=best_features)\n",
    "    plt.title('LightGBM Features (avg over folds)')\n",
    "    plt.tight_layout()\n",
    "# You can write up to 20GB to the current directory (/kaggle/working/) that gets preserved as output when you create a version using \"Save & Run All\" \n",
    "# You can also write temporary files to /kaggle/temp/, but they won't be saved outside of the current session"
   ]
  },
  {
   "cell_type": "code",
   "execution_count": 3,
   "metadata": {
    "execution": {
     "iopub.execute_input": "2022-08-14T15:42:52.303461Z",
     "iopub.status.busy": "2022-08-14T15:42:52.303016Z",
     "iopub.status.idle": "2022-08-14T15:42:52.470653Z",
     "shell.execute_reply": "2022-08-14T15:42:52.469631Z",
     "shell.execute_reply.started": "2022-08-14T15:42:52.303428Z"
    }
   },
   "outputs": [],
   "source": [
    "train = pd.read_csv('Train.csv')\n",
    "test = pd.read_csv('Test.csv')\n",
    "ss = pd.read_csv('SampleSubmission.csv')\n",
    "dict_s = pd.read_csv('DataDictionary.csv')"
   ]
  },
  {
   "cell_type": "code",
   "execution_count": 307,
   "metadata": {
    "execution": {
     "iopub.execute_input": "2022-08-14T15:42:53.775326Z",
     "iopub.status.busy": "2022-08-14T15:42:53.774862Z",
     "iopub.status.idle": "2022-08-14T15:42:53.781757Z",
     "shell.execute_reply": "2022-08-14T15:42:53.780808Z",
     "shell.execute_reply.started": "2022-08-14T15:42:53.775288Z"
    }
   },
   "outputs": [],
   "source": [
    "# test\n",
    "import calendar\n",
    "def count_weekends(m,y):\n",
    "    day_to_count = calendar.SUNDAY\n",
    "\n",
    "    matrix = calendar.monthcalendar(y,m)\n",
    "\n",
    "    num_days = sum(1 for x in matrix if x[day_to_count] != 0)\n",
    "    return num_days%4"
   ]
  },
  {
   "cell_type": "code",
   "execution_count": 308,
   "metadata": {
    "execution": {
     "iopub.execute_input": "2022-08-14T15:42:57.891807Z",
     "iopub.status.busy": "2022-08-14T15:42:57.891422Z",
     "iopub.status.idle": "2022-08-14T15:42:57.896088Z",
     "shell.execute_reply": "2022-08-14T15:42:57.895213Z",
     "shell.execute_reply.started": "2022-08-14T15:42:57.891777Z"
    }
   },
   "outputs": [],
   "source": [
    "# test['Weeks'] = test.apply(lambda x: count_weekends(x.month, x.year), axis=1)\n",
    "# train"
   ]
  },
  {
   "cell_type": "code",
   "execution_count": null,
   "metadata": {},
   "outputs": [],
   "source": []
  },
  {
   "cell_type": "markdown",
   "metadata": {},
   "source": [
    "#Tests"
   ]
  },
  {
   "cell_type": "code",
   "execution_count": 309,
   "metadata": {
    "execution": {
     "iopub.execute_input": "2022-08-14T15:43:00.720509Z",
     "iopub.status.busy": "2022-08-14T15:43:00.719835Z",
     "iopub.status.idle": "2022-08-14T15:43:00.725940Z",
     "shell.execute_reply": "2022-08-14T15:43:00.724217Z",
     "shell.execute_reply.started": "2022-08-14T15:43:00.720462Z"
    }
   },
   "outputs": [],
   "source": [
    "# test\n",
    "# exp = (train.groupby(['sku_name','year','month'])['price'].mean()//10).astype('int16').reset_index()\n",
    "# exp = exp.groupby(['sku_name'])['price'].nunique().reset_index()"
   ]
  },
  {
   "cell_type": "code",
   "execution_count": 310,
   "metadata": {
    "execution": {
     "iopub.execute_input": "2022-08-14T15:43:02.129629Z",
     "iopub.status.busy": "2022-08-14T15:43:02.129196Z",
     "iopub.status.idle": "2022-08-14T15:43:02.134827Z",
     "shell.execute_reply": "2022-08-14T15:43:02.133593Z",
     "shell.execute_reply.started": "2022-08-14T15:43:02.129592Z"
    }
   },
   "outputs": [],
   "source": [
    "# exp[exp.price == 3].sku_name.isin(test.sku_name)\n",
    "# i = 12\n",
    "# train.groupby('sku_name').get_group(test.sku_name.unique()[i]).sort_values(by = ['year','month'])[['price','cum_disc']]"
   ]
  },
  {
   "cell_type": "code",
   "execution_count": 311,
   "metadata": {
    "execution": {
     "iopub.execute_input": "2022-08-14T15:43:04.218263Z",
     "iopub.status.busy": "2022-08-14T15:43:04.217850Z",
     "iopub.status.idle": "2022-08-14T15:43:04.223782Z",
     "shell.execute_reply": "2022-08-14T15:43:04.222663Z",
     "shell.execute_reply.started": "2022-08-14T15:43:04.218231Z"
    }
   },
   "outputs": [],
   "source": [
    "# train.columns\n",
    "# test['cum_disc'] =1"
   ]
  },
  {
   "cell_type": "code",
   "execution_count": 312,
   "metadata": {
    "execution": {
     "iopub.execute_input": "2022-08-14T15:43:05.654549Z",
     "iopub.status.busy": "2022-08-14T15:43:05.654079Z",
     "iopub.status.idle": "2022-08-14T15:43:05.659764Z",
     "shell.execute_reply": "2022-08-14T15:43:05.658452Z",
     "shell.execute_reply.started": "2022-08-14T15:43:05.654509Z"
    }
   },
   "outputs": [],
   "source": [
    "# train.groupby(['sku_name','year','month'])['disc_month'].sum().idxmax()\n"
   ]
  },
  {
   "cell_type": "code",
   "execution_count": 313,
   "metadata": {
    "execution": {
     "iopub.execute_input": "2022-08-14T15:43:07.078804Z",
     "iopub.status.busy": "2022-08-14T15:43:07.078381Z",
     "iopub.status.idle": "2022-08-14T15:43:07.083451Z",
     "shell.execute_reply": "2022-08-14T15:43:07.082361Z",
     "shell.execute_reply.started": "2022-08-14T15:43:07.078770Z"
    }
   },
   "outputs": [],
   "source": [
    "# exp.groupby('sku_name').(.sort_values(by = ['year','month'])['price'].diff())"
   ]
  },
  {
   "cell_type": "code",
   "execution_count": 314,
   "metadata": {
    "execution": {
     "iopub.execute_input": "2022-08-14T15:43:08.629833Z",
     "iopub.status.busy": "2022-08-14T15:43:08.629428Z",
     "iopub.status.idle": "2022-08-14T15:43:08.635241Z",
     "shell.execute_reply": "2022-08-14T15:43:08.634099Z",
     "shell.execute_reply.started": "2022-08-14T15:43:08.629799Z"
    }
   },
   "outputs": [],
   "source": [
    "# train.columns"
   ]
  },
  {
   "cell_type": "code",
   "execution_count": 315,
   "metadata": {
    "execution": {
     "iopub.execute_input": "2022-08-14T15:43:10.101260Z",
     "iopub.status.busy": "2022-08-14T15:43:10.100834Z",
     "iopub.status.idle": "2022-08-14T15:43:10.106657Z",
     "shell.execute_reply": "2022-08-14T15:43:10.105372Z",
     "shell.execute_reply.started": "2022-08-14T15:43:10.101227Z"
    }
   },
   "outputs": [],
   "source": [
    "# train.groupby('sku_name').get_group('ALONRTIEARLE').sort_values(by = ['year','month'])[['year','month','price','cum_disc']]"
   ]
  },
  {
   "cell_type": "code",
   "execution_count": 316,
   "metadata": {
    "execution": {
     "iopub.execute_input": "2022-08-14T15:43:11.554594Z",
     "iopub.status.busy": "2022-08-14T15:43:11.554168Z",
     "iopub.status.idle": "2022-08-14T15:43:11.560382Z",
     "shell.execute_reply": "2022-08-14T15:43:11.559189Z",
     "shell.execute_reply.started": "2022-08-14T15:43:11.554559Z"
    }
   },
   "outputs": [],
   "source": [
    "# test.shape[0]/train.shape[0]"
   ]
  },
  {
   "cell_type": "code",
   "execution_count": 317,
   "metadata": {
    "execution": {
     "iopub.execute_input": "2022-08-14T15:43:15.288835Z",
     "iopub.status.busy": "2022-08-14T15:43:15.288449Z",
     "iopub.status.idle": "2022-08-14T15:43:15.293975Z",
     "shell.execute_reply": "2022-08-14T15:43:15.293066Z",
     "shell.execute_reply.started": "2022-08-14T15:43:15.288806Z"
    }
   },
   "outputs": [],
   "source": [
    "\n",
    "target = 'sellin'\n",
    "prediction_columns = test.columns.tolist()\n",
    "encoding_columns = [t for t in train.columns if t not in prediction_columns]"
   ]
  },
  {
   "cell_type": "code",
   "execution_count": 318,
   "metadata": {
    "execution": {
     "iopub.execute_input": "2022-08-14T15:43:18.986801Z",
     "iopub.status.busy": "2022-08-14T15:43:18.986325Z",
     "iopub.status.idle": "2022-08-14T15:43:18.991860Z",
     "shell.execute_reply": "2022-08-14T15:43:18.990919Z",
     "shell.execute_reply.started": "2022-08-14T15:43:18.986749Z"
    }
   },
   "outputs": [],
   "source": [
    "# # encoding_columns\n",
    "# new_id_test = [idd for idd in test.sku_name.unique().tolist() if idd not in train.sku_name.unique().tolist()]\n",
    "# # encoding_columns\n",
    "# new_id_train = [idd for idd in train.sku_name.unique().tolist() if idd not in test.sku_name.unique().tolist()]"
   ]
  },
  {
   "cell_type": "code",
   "execution_count": 319,
   "metadata": {
    "execution": {
     "iopub.execute_input": "2022-08-14T15:43:20.741538Z",
     "iopub.status.busy": "2022-08-14T15:43:20.741118Z",
     "iopub.status.idle": "2022-08-14T15:43:20.747994Z",
     "shell.execute_reply": "2022-08-14T15:43:20.747145Z",
     "shell.execute_reply.started": "2022-08-14T15:43:20.741504Z"
    }
   },
   "outputs": [],
   "source": [
    "sellin = ['sellin','sellin_channel_1','sellin_channel_2','sellin_channel_3','sellin_channel_4',\n",
    "         'sellin_channel_5','sellin_channel_6','sellin_channel_7','sellin_channel_8']\n",
    "sellout = ['sellout','sellout_channel_1','sellout_channel_2','sellout_channel_3','sellout_channel_4',\n",
    "         'sellout_channel_5','sellout_channel_6','sellout_channel_7','sellout_channel_8','sellout_channel_9',\n",
    "           'sellout_channel_10']\n",
    "onhand= ['onhand_inventory','onhand_inventory_channel_1','onhand_inventory_channel_2','onhand_inventory_channel_3','onhand_inventory_channel_4',\n",
    "         'onhand_inventory_channel_5','onhand_inventory_channel_6','onhand_inventory_channel_7','onhand_inventory_channel_8','onhand_inventory_channel_9',\n",
    "           'onhand_inventory_channel_10']"
   ]
  },
  {
   "cell_type": "code",
   "execution_count": 320,
   "metadata": {
    "execution": {
     "iopub.execute_input": "2022-08-14T15:43:22.310694Z",
     "iopub.status.busy": "2022-08-14T15:43:22.310333Z",
     "iopub.status.idle": "2022-08-14T15:43:22.315086Z",
     "shell.execute_reply": "2022-08-14T15:43:22.314216Z",
     "shell.execute_reply.started": "2022-08-14T15:43:22.310665Z"
    }
   },
   "outputs": [],
   "source": [
    "# train.groupby('sku_name')[sellin[1:]].max().idxmax(axis=1) # other encoding\n",
    "# train.groupby('sku_name')[sellin[1:]].min().idxmin(axis=1) # other encoding\n",
    "\n",
    "# train.groupby(['sku_name','month'])[sellin[0]].sum().reset_index().pivot(index='sku_name', columns='month',values = 'sellin').idxmin(axis = 1).reset_index() # other encoding"
   ]
  },
  {
   "cell_type": "code",
   "execution_count": 321,
   "metadata": {
    "execution": {
     "iopub.execute_input": "2022-08-14T15:43:23.707802Z",
     "iopub.status.busy": "2022-08-14T15:43:23.706834Z",
     "iopub.status.idle": "2022-08-14T15:43:23.797012Z",
     "shell.execute_reply": "2022-08-14T15:43:23.795785Z",
     "shell.execute_reply.started": "2022-08-14T15:43:23.707761Z"
    }
   },
   "outputs": [],
   "source": [
    "df_train = train.copy()\n",
    "df_test = test.copy()\n",
    "df_train[sellin+sellout+onhand+['leftover_inventory','starting_inventory']] = df_train[sellin+sellout+onhand+['leftover_inventory','starting_inventory']]/1013"
   ]
  },
  {
   "cell_type": "code",
   "execution_count": 322,
   "metadata": {
    "execution": {
     "iopub.execute_input": "2022-08-14T15:43:25.227034Z",
     "iopub.status.busy": "2022-08-14T15:43:25.226621Z",
     "iopub.status.idle": "2022-08-14T15:43:25.231966Z",
     "shell.execute_reply": "2022-08-14T15:43:25.230632Z",
     "shell.execute_reply.started": "2022-08-14T15:43:25.227000Z"
    }
   },
   "outputs": [],
   "source": [
    "# df_train.columns"
   ]
  },
  {
   "cell_type": "code",
   "execution_count": 323,
   "metadata": {
    "execution": {
     "iopub.execute_input": "2022-08-14T15:43:26.713993Z",
     "iopub.status.busy": "2022-08-14T15:43:26.713594Z",
     "iopub.status.idle": "2022-08-14T15:43:26.726035Z",
     "shell.execute_reply": "2022-08-14T15:43:26.725009Z",
     "shell.execute_reply.started": "2022-08-14T15:43:26.713960Z"
    }
   },
   "outputs": [],
   "source": [
    "df_train['price0'] = df_train['price']//100\n",
    "df_train['price1'] = (df_train['price']//10)%10\n",
    "df_train['price2'] = df_train['price']%10\n",
    "df_train['price3'] = df_train['price']//10"
   ]
  },
  {
   "cell_type": "code",
   "execution_count": 324,
   "metadata": {
    "execution": {
     "iopub.execute_input": "2022-08-14T15:43:28.342177Z",
     "iopub.status.busy": "2022-08-14T15:43:28.341461Z",
     "iopub.status.idle": "2022-08-14T15:43:28.347171Z",
     "shell.execute_reply": "2022-08-14T15:43:28.346201Z",
     "shell.execute_reply.started": "2022-08-14T15:43:28.342129Z"
    }
   },
   "outputs": [],
   "source": [
    "# Drop duplicated months\n",
    "# Add last flag\n",
    "## add weeks "
   ]
  },
  {
   "cell_type": "code",
   "execution_count": 325,
   "metadata": {
    "execution": {
     "iopub.execute_input": "2022-08-14T15:43:29.702312Z",
     "iopub.status.busy": "2022-08-14T15:43:29.701620Z",
     "iopub.status.idle": "2022-08-14T15:43:29.707272Z",
     "shell.execute_reply": "2022-08-14T15:43:29.706392Z",
     "shell.execute_reply.started": "2022-08-14T15:43:29.702274Z"
    }
   },
   "outputs": [],
   "source": [
    "add_pivotal_sum = False\n",
    "add_pivotal_max = False\n",
    "encode_channels = False\n",
    "add_pivotal_min = False\n",
    "add_kmeans = False\n",
    "# enode_channels = False\n",
    "add_similar_month = False"
   ]
  },
  {
   "cell_type": "code",
   "execution_count": 326,
   "metadata": {
    "execution": {
     "iopub.execute_input": "2022-08-14T15:43:31.882429Z",
     "iopub.status.busy": "2022-08-14T15:43:31.881729Z",
     "iopub.status.idle": "2022-08-14T15:43:31.891576Z",
     "shell.execute_reply": "2022-08-14T15:43:31.890448Z",
     "shell.execute_reply.started": "2022-08-14T15:43:31.882392Z"
    }
   },
   "outputs": [],
   "source": [
    "if encode_channels:\n",
    "        sku_name_channel_enc = df_train.groupby('sku_name')[sellin[1:]].max().idxmax(axis=1) # other encoding\n",
    "        sku_name_channel_enc1 = df_train.groupby('sku_name')[sellin[1:]].min().idxmin(axis=1)# train.groupby('sku_name')[sellin[1:]].min().idxmin(axis=1) # other encoding\n",
    "        df_train['sku_name_channel_enc'] = df_train['sku_name'].map(sku_name_channel_enc)\n",
    "        df_train['sku_name_channel_enc1'] = df_train['sku_name'].map(sku_name_channel_enc1)\n",
    "        df_test['sku_name_channel_enc'] = df_test['sku_name'].map(sku_name_channel_enc)\n",
    "        df_test['sku_name_channel_enc1'] = df_test['sku_name'].map(sku_name_channel_enc1)\n",
    "        df_test['sku_name_channel_enc1'].fillna('sellin_channel_1', inplace=True)\n",
    "        df_test['sku_name_channel_enc'].fillna('sellin_channel_4', inplace=True)\n",
    "        le = LE()\n",
    "        df_train['sku_name_channel_enc1'] = le.fit_transform(df_train['sku_name_channel_enc1'])\n",
    "        df_test['sku_name_channel_enc1'] = le.transform(df_test['sku_name_channel_enc1'])\n",
    "        le = LE()\n",
    "        df_train['sku_name_channel_enc'] = le.fit_transform(df_train['sku_name_channel_enc'])\n",
    "        df_test['sku_name_channel_enc'] = le.transform(df_test['sku_name_channel_enc'])\n",
    "        "
   ]
  },
  {
   "cell_type": "code",
   "execution_count": 327,
   "metadata": {
    "execution": {
     "iopub.execute_input": "2022-08-14T15:43:56.122658Z",
     "iopub.status.busy": "2022-08-14T15:43:56.122239Z",
     "iopub.status.idle": "2022-08-14T15:43:56.148673Z",
     "shell.execute_reply": "2022-08-14T15:43:56.147726Z",
     "shell.execute_reply.started": "2022-08-14T15:43:56.122623Z"
    }
   },
   "outputs": [],
   "source": [
    "if add_pivotal_sum:\n",
    "        cols = ['month_'+str(i+1) for i in range(12) ]\n",
    "        exp = df_train.groupby(['sku_name','month'])[sellin[0]].sum().reset_index().pivot(index='sku_name', columns='month',values = 'sellin').reset_index()\n",
    "        exp.columns = ['sku_name']+ cols\n",
    "        from sklearn.impute import KNNImputer\n",
    "#         imputer = KNNImputer(n_neighbors=5)\n",
    "#         exp[cols] = imputer.fit_transform(exp[cols])\n",
    "        exp.fillna(0,inplace = True)\n",
    "        exp.set_index('sku_name',inplace = True)\n",
    "        for c in cols:\n",
    "            df_test['sku_name_target_enc_sum_'+c] = df_test['sku_name'].map(exp[c])\n",
    "            tmp = np.repeat(np.nan, df_train.shape[0])\n",
    "            kf = KFold(n_splits = 5, shuffle=True,random_state = 1991032)\n",
    "            for idx_1, idx_2 in kf.split(df_train):\n",
    "                exp2 = df_train.iloc[idx_1].groupby(['sku_name','month'])[sellin[0]].sum().reset_index().pivot(index='sku_name', columns='month',values = 'sellin').reset_index()\n",
    "                exp2.columns = ['sku_name']+ cols\n",
    "                imputer = KNNImputer(n_neighbors=20)\n",
    "                exp2[cols] = imputer.fit_transform(exp2[cols])\n",
    "                exp2.set_index('sku_name',inplace = True)\n",
    "\n",
    "                tmp[idx_2] = df_train['sku_name'].iloc[idx_2].map(exp2[c])\n",
    "                df_train['sku_name_target_enc_sum_'+c] = tmp\n",
    "        imputer = KNNImputer(n_neighbors=20)\n",
    "        df_train[['sku_name_target_enc_sum_'+j for j in cols]] = imputer.fit_transform(df_train[['sku_name_target_enc_sum_'+j for j in cols]])\n",
    "if add_pivotal_min:\n",
    "        cols = ['month_'+str(i+1) for i in range(12) ]\n",
    "        exp = df_train.groupby(['sku_name','month'])[sellin[0]].min().reset_index().pivot(index='sku_name', columns='month',values = 'sellin').reset_index()\n",
    "        exp.columns = ['sku_name']+ cols\n",
    "        from sklearn.impute import KNNImputer\n",
    "#         imputer = KNNImputer(n_neighbors=5)\n",
    "#         exp[cols] = imputer.fit_transform(exp[cols])\n",
    "        exp.fillna(0,inplace = True)\n",
    "    \n",
    "        \n",
    "        exp.set_index('sku_name',inplace = True)\n",
    "        for c in cols:\n",
    "            df_test['sku_name_target_enc_min_'+c] = df_test['sku_name'].map(exp[c])\n",
    "            tmp = np.repeat(np.nan, df_train.shape[0])\n",
    "            kf = KFold(n_splits = 5, shuffle=True,random_state = 1910325)\n",
    "            for idx_1, idx_2 in kf.split(df_train):\n",
    "                exp2 = df_train.iloc[idx_1].groupby(['sku_name','month'])[sellin[0]].min().reset_index().pivot(index='sku_name', columns='month',values = 'sellin').reset_index()\n",
    "                exp2.columns = ['sku_name']+ cols\n",
    "#                 imputer = KNNImputer(n_neighbors=5)\n",
    "#                 exp2[cols] = imputer.fit_transform(exp2[cols])\n",
    "                exp2.set_index('sku_name',inplace = True)\n",
    "\n",
    "                tmp[idx_2] = df_train['sku_name'].iloc[idx_2].map(exp2[c])\n",
    "                df_train['sku_name_target_enc_min_'+c] = tmp\n",
    "        imputer = KNNImputer(n_neighbors=20)\n",
    "        df_train[['sku_name_target_enc_min_'+j for j in cols]] = imputer.fit_transform(df_train[['sku_name_target_enc_min_'+j for j in cols]])\n",
    "if add_pivotal_max:\n",
    "        cols = ['month_'+str(i+1) for i in range(12) ]\n",
    "        exp = df_train.groupby(['sku_name','month'])[sellin[0]].max().reset_index().pivot(index='sku_name', columns='month',values = 'sellin').reset_index()\n",
    "        exp.columns = ['sku_name']+ cols\n",
    "        from sklearn.impute import KNNImputer\n",
    "#         imputer = KNNImputer(n_neighbors=5)\n",
    "#         exp[cols] = imputer.fit_transform(exp[cols])\n",
    "        exp.fillna(0,inplace = True)\n",
    "\n",
    "        exp.set_index('sku_name',inplace = True)\n",
    "        for c in cols:\n",
    "            df_test['sku_name_target_enc_max_'+c] = df_test['sku_name'].map(exp[c])\n",
    "            tmp = np.repeat(np.nan, df_train.shape[0])\n",
    "            kf = KFold(n_splits = 5, shuffle=True,random_state = 9910325)\n",
    "            for idx_1, idx_2 in kf.split(df_train):\n",
    "                exp2 = df_train.iloc[idx_1].groupby(['sku_name','month'])[sellin[0]].max().reset_index().pivot(index='sku_name', columns='month',values = 'sellin').reset_index()\n",
    "                exp2.columns = ['sku_name']+ cols\n",
    "#                 imputer = KNNImputer(n_neighbors=5)\n",
    "#                 exp2[cols] = imputer.fit_transform(exp2[cols])\n",
    "                exp2.set_index('sku_name',inplace = True)\n",
    "\n",
    "                tmp[idx_2] = df_train['sku_name'].iloc[idx_2].map(exp2[c])\n",
    "                df_train['sku_name_target_enc_max_'+c] = tmp\n",
    "        imputer = KNNImputer(n_neighbors=20)\n",
    "        df_train[['sku_name_target_enc_max_'+j for j in cols]] = imputer.fit_transform(df_train[['sku_name_target_enc_max_'+j for j in cols]])\n"
   ]
  },
  {
   "cell_type": "code",
   "execution_count": 328,
   "metadata": {
    "execution": {
     "iopub.execute_input": "2022-08-14T15:43:57.871759Z",
     "iopub.status.busy": "2022-08-14T15:43:57.871333Z",
     "iopub.status.idle": "2022-08-14T15:43:57.876709Z",
     "shell.execute_reply": "2022-08-14T15:43:57.875590Z",
     "shell.execute_reply.started": "2022-08-14T15:43:57.871724Z"
    }
   },
   "outputs": [],
   "source": [
    "# cols = ['month_'+str(i+1) for i in range(12) ]\n",
    "# exp = df_train.groupby(['sku_name','month'])[sellin[0]].sum().reset_index().pivot(index='sku_name', columns='month',values = 'sellin').reset_index()\n",
    "# exp.columns = ['sku_name']+ cols\n",
    "# from sklearn.impute import KNNImputer\n",
    "# imputer = KNNImputer(n_neighbors=20)\n",
    "# exp[cols] = imputer.fit_transform(exp[cols])\n",
    "# train['onhand_inventory']"
   ]
  },
  {
   "cell_type": "code",
   "execution_count": 329,
   "metadata": {
    "execution": {
     "iopub.execute_input": "2022-08-14T15:43:59.381272Z",
     "iopub.status.busy": "2022-08-14T15:43:59.380615Z",
     "iopub.status.idle": "2022-08-14T15:43:59.389731Z",
     "shell.execute_reply": "2022-08-14T15:43:59.388558Z",
     "shell.execute_reply.started": "2022-08-14T15:43:59.381235Z"
    }
   },
   "outputs": [],
   "source": [
    "# sns.displot(\n",
    "# exp[exp.isna().sum(axis = 1)==6]\n",
    "#     .drop('sku_name',axis = 1).mean(axis = 1))\n",
    "pivotal_sum_fea = ['sku_name_target_enc_sum_month_'+str(i+1) for i in range(12) ]\n",
    "pivotal_min_fea = ['sku_name_target_enc_min_month_'+str(i+1) for i in range(12) ]\n",
    "pivotal_max_fea = ['sku_name_target_enc_max_month_'+str(i+1) for i in range(12) ]\n",
    "pivot_fea = pivotal_sum_fea + pivotal_max_fea + pivotal_min_fea\n",
    "# new_fea = [f for f in X_train.columns if f not in pivot_fea ]\n",
    "price_enc =  ['sku_namepriceenc6','sku_namepriceenc5','sku_namepriceenc4','sku_namepriceenc','sku_namepriceenc1','sku_namepriceenc2','sku_namepriceenc3']\n",
    "sellin_enc =  ['sku_namesellinenc6','sku_namesellinenc5','sku_namesellinenc4','sku_namesellinenc','sku_namesellinenc1','sku_namesellinenc2','sku_namesellinenc3']\n",
    "sellout_enc =  ['sku_nameselloutenc6','sku_nameselloutenc5','sku_nameselloutenc4','sku_nameselloutenc','sku_nameselloutenc1','sku_nameselloutenc2','sku_nameselloutenc3']\n",
    "onhand_inventory_enc =  ['sku_nameonhand_inventoryenc6','sku_nameonhand_inventoryenc5','sku_nameonhand_inventoryenc4','sku_nameonhand_inventoryenc','sku_nameonhand_inventoryenc1','sku_nameonhand_inventoryenc2','sku_nameonhand_inventoryenc3']\n",
    "starting_inventory_enc =  ['sku_namestarting_inventoryenc6','sku_namestarting_inventoryenc5','sku_namestarting_inventoryenc4','sku_namestarting_inventoryenc','sku_namestarting_inventoryenc1','sku_namestarting_inventoryenc2','sku_namestarting_inventoryenc3']\n",
    "enc_features = price_enc + sellin_enc + sellout_enc + onhand_inventory_enc + starting_inventory_enc "
   ]
  },
  {
   "cell_type": "code",
   "execution_count": 330,
   "metadata": {
    "execution": {
     "iopub.execute_input": "2022-08-14T15:44:01.002488Z",
     "iopub.status.busy": "2022-08-14T15:44:01.002046Z",
     "iopub.status.idle": "2022-08-14T15:44:01.007147Z",
     "shell.execute_reply": "2022-08-14T15:44:01.006284Z",
     "shell.execute_reply.started": "2022-08-14T15:44:01.002450Z"
    }
   },
   "outputs": [],
   "source": [
    "# new_fea = [f for f in X_train.columns if f not in pivot_fea+enc_features ]\n"
   ]
  },
  {
   "cell_type": "code",
   "execution_count": 331,
   "metadata": {
    "execution": {
     "iopub.execute_input": "2022-08-14T15:44:02.447512Z",
     "iopub.status.busy": "2022-08-14T15:44:02.446248Z",
     "iopub.status.idle": "2022-08-14T15:44:02.452759Z",
     "shell.execute_reply": "2022-08-14T15:44:02.451953Z",
     "shell.execute_reply.started": "2022-08-14T15:44:02.447467Z"
    }
   },
   "outputs": [],
   "source": [
    "# new_fea"
   ]
  },
  {
   "cell_type": "code",
   "execution_count": 332,
   "metadata": {
    "execution": {
     "iopub.execute_input": "2022-08-14T15:44:03.994497Z",
     "iopub.status.busy": "2022-08-14T15:44:03.993460Z",
     "iopub.status.idle": "2022-08-14T15:44:03.999093Z",
     "shell.execute_reply": "2022-08-14T15:44:03.998333Z",
     "shell.execute_reply.started": "2022-08-14T15:44:03.994453Z"
    }
   },
   "outputs": [],
   "source": [
    "# # # def quantile_encode(df1,df2):\n",
    "# # # np.quantile(x,0.95)\n",
    "# # # df_train.groupby(['sku_name','month'])[sellin[0]].apply(lambda x : np.quantile(x,0.95))\n",
    "\n",
    "# # if add_similar_month:\n",
    "# #         df_train['new_index'] = df_train['sku_name']+'_'+df_train['month'].astype(str)\n",
    "#         df_test['new_index'] = df_test['sku_name']+'_'+df_test['month'].astype(str)\n",
    "# #         new_df = df_train.groupby('new_index')['sellin'].mean()\n",
    "# #         df_test['sku_name_target_enc_overfit'] = df_test['new_index'].map(new_df)\n",
    "# #         df_test['sku_name_target_enc_overfit'].fillna((df_test['sku_name_target_enc_overfit'].mean()), inplace=True)\n",
    "# #         tmp = np.repeat(np.nan, df_train.shape[0])\n",
    "# #         kf = KFold(n_splits = 5, shuffle=True,random_state = 29910325)\n",
    "# #         for idx_1, idx_2 in kf.split(df_train):\n",
    "# #             target_mean = df_train.iloc[idx_1].groupby('new_index')['sellin'].mean()\n",
    "\n",
    "# #             tmp[idx_2] = df_train['new_index'].iloc[idx_2].map(target_mean)\n",
    "# #         df_train['sku_name_target_enc_overfit'] = tmp\n",
    "# #         df_train['sku_name_target_enc_overfit'].fillna((df_train['sku_name_target_enc_overfit'].mean()), inplace=True)\n",
    "# #         df_train.drop('new_index',axis = 1, inplace = True)\n",
    "# #         df_test.drop('new_index',axis = 1, inplace = True)"
   ]
  },
  {
   "cell_type": "code",
   "execution_count": 333,
   "metadata": {
    "execution": {
     "iopub.execute_input": "2022-08-14T15:44:05.570369Z",
     "iopub.status.busy": "2022-08-14T15:44:05.569699Z",
     "iopub.status.idle": "2022-08-14T15:44:05.602473Z",
     "shell.execute_reply": "2022-08-14T15:44:05.601469Z",
     "shell.execute_reply.started": "2022-08-14T15:44:05.570331Z"
    }
   },
   "outputs": [],
   "source": [
    "def target_encode(df_train,df_test,target):\n",
    "    sku_name_target_mean = df_train.groupby('sku_name')[target].mean()\n",
    "    sku_name_target_max = df_train.groupby('sku_name')[target].max()\n",
    "    sku_name_target_min = df_train.groupby('sku_name')[target].min()\n",
    "    sku_name_target_std = df_train.groupby('sku_name')[target].std()\n",
    "    sku_name_target_median = df_train.groupby('sku_name')[target].apply(lambda x : np.median(x))\n",
    "    sku_name_target_q95 = df_train.groupby('sku_name')[target].apply(lambda x : np.quantile(x,0.95))\n",
    "    sku_name_target_q05 = df_train.groupby('sku_name')[target].apply(lambda x : np.quantile(x,0.05))\n",
    "    # sku_name_target_mean = df_train.groupby('sku_name')[target].mean()\n",
    "    df_test['sku_name'+target+'enc'] = df_test['sku_name'].map(sku_name_target_mean)\n",
    "    df_test['sku_name'+target+'enc'].fillna((df_test['sku_name'+target+'enc'].mean()), inplace=True)\n",
    "    df_test['sku_name'+target+'enc1'] = df_test['sku_name'].map(sku_name_target_max)\n",
    "    df_test['sku_name'+target+'enc1'].fillna((df_test['sku_name'+target+'enc1'].mean()), inplace=True)\n",
    "    df_test['sku_name'+target+'enc2'] = df_test['sku_name'].map(sku_name_target_min)\n",
    "    df_test['sku_name'+target+'enc2'].fillna((df_test['sku_name'+target+'enc2'].mean()), inplace=True)\n",
    "    df_test['sku_name'+target+'enc3'] = df_test['sku_name'].map(sku_name_target_std)\n",
    "    df_test['sku_name'+target+'enc3'].fillna((df_test['sku_name'+target+'enc3'].mean()), inplace=True)\n",
    "    df_test['sku_name'+target+'enc4'] = df_test['sku_name'].map(sku_name_target_median)\n",
    "    df_test['sku_name'+target+'enc4'].fillna((df_test['sku_name'+target+'enc4'].mean()), inplace=True)\n",
    "    df_test['sku_name'+target+'enc5'] = df_test['sku_name'].map(sku_name_target_q95)\n",
    "    df_test['sku_name'+target+'enc5'].fillna((df_test['sku_name'+target+'enc5'].mean()), inplace=True)\n",
    "    df_test['sku_name'+target+'enc6'] = df_test['sku_name'].map(sku_name_target_q05)\n",
    "    df_test['sku_name'+target+'enc6'].fillna((df_test['sku_name'+target+'enc6'].mean()), inplace=True)\n",
    "    tmp =np.repeat(np.nan, df_train.shape[0])\n",
    "    kf = KFold(n_splits = 5, shuffle=True,random_state = 19910325)\n",
    "    for idx_1, idx_2 in kf.split(df_train):\n",
    "        target_mean = df_train.iloc[idx_1].groupby('sku_name')[target].apply(lambda x : np.quantile(x,0.05))\n",
    "\n",
    "        tmp[idx_2] = df_train['sku_name'].iloc[idx_2].map(target_mean)\n",
    "    df_train['sku_name'+target+'enc6'] = tmp\n",
    "    # from sklearn.model_selection import KFold\n",
    "    tmp = np.repeat(np.nan, df_train.shape[0])\n",
    "    kf = KFold(n_splits = 5, shuffle=True,random_state = 1991032)\n",
    "    for idx_1, idx_2 in kf.split(df_train):\n",
    "        target_mean = df_train.iloc[idx_1].groupby('sku_name')[target].apply(lambda x : np.quantile(x,0.95))\n",
    "\n",
    "        tmp[idx_2] = df_train['sku_name'].iloc[idx_2].map(target_mean)\n",
    "    df_train['sku_name'+target+'enc5'] = tmp\n",
    "\n",
    "\n",
    "\n",
    "    # from sklearn.model_selection import KFold\n",
    "    tmp = np.repeat(np.nan, df_train.shape[0])\n",
    "    kf = KFold(n_splits = 5, shuffle=True,random_state = 1991035)\n",
    "    for idx_1, idx_2 in kf.split(df_train):\n",
    "        target_mean = df_train.iloc[idx_1].groupby('sku_name')[target].apply(lambda x : np.median(x))\n",
    "\n",
    "        tmp[idx_2] = df_train['sku_name'].iloc[idx_2].map(target_mean)\n",
    "    df_train['sku_name'+target+'enc4'] = tmp\n",
    "\n",
    "\n",
    "\n",
    "    # from sklearn.model_selection import KFold\n",
    "    tmp = np.repeat(np.nan, df_train.shape[0])\n",
    "    kf = KFold(n_splits = 5, shuffle=True,random_state = 1910325)\n",
    "    for idx_1, idx_2 in kf.split(df_train):\n",
    "        target_mean = df_train.iloc[idx_1].groupby('sku_name')[target].mean()\n",
    "\n",
    "        tmp[idx_2] = df_train['sku_name'].iloc[idx_2].map(target_mean)\n",
    "    df_train['sku_name'+target+'enc'] = tmp\n",
    "\n",
    "\n",
    "\n",
    "    # from sklearn.model_selection import KFold\n",
    "    tmp = np.repeat(np.nan, df_train.shape[0])\n",
    "    kf = KFold(n_splits = 5, shuffle=True,random_state = 1991025)\n",
    "    for idx_1, idx_2 in kf.split(df_train):\n",
    "        target_max = df_train.iloc[idx_1].groupby('sku_name')[target].max()\n",
    "\n",
    "        tmp[idx_2] = df_train['sku_name'].iloc[idx_2].map(target_max)\n",
    "    df_train['sku_name'+target+'enc1'] = tmp\n",
    "    # from sklearn.model_selection import KFold/\n",
    "    tmp = np.repeat(np.nan, df_train.shape[0])\n",
    "    kf = KFold(n_splits = 5, shuffle=True,random_state = 1990325)\n",
    "    for idx_1, idx_2 in kf.split(df_train):\n",
    "        target_min = df_train.iloc[idx_1].groupby('sku_name')[target].min()\n",
    "\n",
    "        tmp[idx_2] = df_train['sku_name'].iloc[idx_2].map(target_min)\n",
    "    df_train['sku_name'+target+'enc2'] = tmp\n",
    "    # from sklearn.model_selection import KFold\n",
    "    tmp = np.repeat(np.nan, df_train.shape[0])\n",
    "    kf = KFold(n_splits = 5, shuffle=True,random_state = 19910325)\n",
    "    for idx_1, idx_2 in kf.split(df_train):\n",
    "        target_std = df_train.iloc[idx_1].groupby('sku_name')[target].std()\n",
    "\n",
    "        tmp[idx_2] = df_train['sku_name'].iloc[idx_2].map(target_std)\n",
    "    df_train['sku_name'+target+'enc3'] = tmp\n",
    "    df_train['sku_name'+target+'enc'].fillna((df_train['sku_name'+target+'enc'].mean()), inplace=True)\n",
    "    df_train['sku_name'+target+'enc1'].fillna((df_train['sku_name'+target+'enc1'].mean()), inplace=True)\n",
    "    df_train['sku_name'+target+'enc2'].fillna((df_train['sku_name'+target+'enc2'].mean()), inplace=True)\n",
    "    df_train['sku_name'+target+'enc3'].fillna((df_train['sku_name'+target+'enc3'].mean()), inplace=True)\n",
    "    df_train['sku_name'+target+'enc4'].fillna((df_train['sku_name'+target+'enc4'].mean()), inplace=True)\n",
    "    df_train['sku_name'+target+'enc5'].fillna((df_train['sku_name'+target+'enc5'].mean()), inplace=True)\n",
    "    df_train['sku_name'+target+'enc6'].fillna((df_train['sku_name'+target+'enc6'].mean()), inplace=True)\n",
    "    return df_train, df_test\n",
    "# train.groupby(['sku_name','month'])[sellin[0]].sum().reset_index().pivot(index='sku_name', columns='month',values = 'sellin').idxmax(axis = 1) # other encoding\n",
    "# train.groupby(['sku_name','month'])[sellin[0]].sum().reset_index().pivot(index='sku_name', columns='month',values = 'sellin').idxmin(axis = 1).reset_index() # other encoding\n",
    "    "
   ]
  },
  {
   "cell_type": "code",
   "execution_count": 334,
   "metadata": {
    "execution": {
     "iopub.execute_input": "2022-08-14T15:44:07.227902Z",
     "iopub.status.busy": "2022-08-14T15:44:07.227116Z",
     "iopub.status.idle": "2022-08-14T15:44:07.263651Z",
     "shell.execute_reply": "2022-08-14T15:44:07.262443Z",
     "shell.execute_reply.started": "2022-08-14T15:44:07.227863Z"
    }
   },
   "outputs": [],
   "source": [
    "def target_encode_p(df_train,df_test,target):\n",
    "    sku_name_target_mean = df_train.groupby('sku_name')[target].mean().round().astype('int16')\n",
    "    sku_name_target_max = df_train.groupby('sku_name')[target].max().round().astype('int16')\n",
    "    sku_name_target_min = df_train.groupby('sku_name')[target].min().round().astype('int16')\n",
    "    sku_name_target_std = df_train.groupby('sku_name')[target].std()\n",
    "    sku_name_target_median = df_train.groupby('sku_name')[target].apply(lambda x : np.median(x).round().astype('int16'))\n",
    "    sku_name_target_q95 = df_train.groupby('sku_name')[target].apply(lambda x : np.quantile(x,0.95).round().astype('int16'))\n",
    "    sku_name_target_q05 = df_train.groupby('sku_name')[target].apply(lambda x : np.quantile(x,0.05).round().astype('int16'))\n",
    "    # sku_name_target_mean = df_train.groupby('sku_name')[target].mean()\n",
    "    df_test['sku_name'+target+'enc'] = df_test['sku_name'].map(sku_name_target_mean)\n",
    "    df_test['sku_name'+target+'enc'].fillna((df_test['sku_name'+target+'enc'].mean().round().astype('int16')), inplace=True)\n",
    "    df_test['sku_name'+target+'enc1'] = df_test['sku_name'].map(sku_name_target_max)\n",
    "    df_test['sku_name'+target+'enc1'].fillna((df_test['sku_name'+target+'enc1'].mean().round().astype('int16')), inplace=True)\n",
    "    df_test['sku_name'+target+'enc2'] = df_test['sku_name'].map(sku_name_target_min)\n",
    "    df_test['sku_name'+target+'enc2'].fillna((df_test['sku_name'+target+'enc2'].mean().round().astype('int16')), inplace=True)\n",
    "    df_test['sku_name'+target+'enc3'] = df_test['sku_name'].map(sku_name_target_std)\n",
    "    df_test['sku_name'+target+'enc3'].fillna((df_test['sku_name'+target+'enc3']), inplace=True)\n",
    "    df_test['sku_name'+target+'enc4'] = df_test['sku_name'].map(sku_name_target_median)\n",
    "    df_test['sku_name'+target+'enc4'].fillna((df_test['sku_name'+target+'enc4'].mean().round().astype('int16')), inplace=True)\n",
    "    df_test['sku_name'+target+'enc5'] = df_test['sku_name'].map(sku_name_target_q95)\n",
    "    df_test['sku_name'+target+'enc5'].fillna((df_test['sku_name'+target+'enc5'].mean().round().astype('int16')), inplace=True)\n",
    "    df_test['sku_name'+target+'enc6'] = df_test['sku_name'].map(sku_name_target_q05)\n",
    "    df_test['sku_name'+target+'enc6'].fillna((df_test['sku_name'+target+'enc6'].mean().round().astype('int16')), inplace=True)\n",
    "    tmp =np.repeat(np.nan, df_train.shape[0])\n",
    "    kf = KFold(n_splits = 5, shuffle=True,random_state = 19910325)\n",
    "    for idx_1, idx_2 in kf.split(df_train):\n",
    "        target_mean = df_train.iloc[idx_1].groupby('sku_name')[target].apply(lambda x : np.quantile(x,0.05).round().astype('int16'))\n",
    "\n",
    "        tmp[idx_2] = df_train['sku_name'].iloc[idx_2].map(target_mean)\n",
    "    df_train['sku_name'+target+'enc6'] = tmp\n",
    "    # from sklearn.model_selection import KFold\n",
    "    tmp = np.repeat(np.nan, df_train.shape[0])\n",
    "    kf = KFold(n_splits = 5, shuffle=True,random_state = 1991032)\n",
    "    for idx_1, idx_2 in kf.split(df_train):\n",
    "        target_mean = df_train.iloc[idx_1].groupby('sku_name')[target].apply(lambda x : np.quantile(x,0.95).round().astype('int16'))\n",
    "\n",
    "        tmp[idx_2] = df_train['sku_name'].iloc[idx_2].map(target_mean)\n",
    "    df_train['sku_name'+target+'enc5'] = tmp\n",
    "\n",
    "\n",
    "\n",
    "    # from sklearn.model_selection import KFold\n",
    "    tmp = np.repeat(np.nan, df_train.shape[0])\n",
    "    kf = KFold(n_splits = 5, shuffle=True,random_state = 1991035)\n",
    "    for idx_1, idx_2 in kf.split(df_train):\n",
    "        target_mean = df_train.iloc[idx_1].groupby('sku_name')[target].apply(lambda x : np.median(x).round().astype('int16'))\n",
    "\n",
    "        tmp[idx_2] = df_train['sku_name'].iloc[idx_2].map(target_mean)\n",
    "    df_train['sku_name'+target+'enc4'] = tmp\n",
    "\n",
    "\n",
    "\n",
    "    # from sklearn.model_selection import KFold\n",
    "    tmp = np.repeat(np.nan, df_train.shape[0])\n",
    "    kf = KFold(n_splits = 5, shuffle=True,random_state = 1910325)\n",
    "    for idx_1, idx_2 in kf.split(df_train):\n",
    "        target_mean = df_train.iloc[idx_1].groupby('sku_name')[target].mean().round().astype('int16')\n",
    "\n",
    "        tmp[idx_2] = df_train['sku_name'].iloc[idx_2].map(target_mean)\n",
    "    df_train['sku_name'+target+'enc'] = tmp\n",
    "\n",
    "\n",
    "\n",
    "    # from sklearn.model_selection import KFold\n",
    "    tmp = np.repeat(np.nan, df_train.shape[0])\n",
    "    kf = KFold(n_splits = 5, shuffle=True,random_state = 1991025)\n",
    "    for idx_1, idx_2 in kf.split(df_train):\n",
    "        target_max = df_train.iloc[idx_1].groupby('sku_name')[target].max().round().astype('int16')\n",
    "\n",
    "        tmp[idx_2] = df_train['sku_name'].iloc[idx_2].map(target_max)\n",
    "    df_train['sku_name'+target+'enc1'] = tmp\n",
    "    # from sklearn.model_selection import KFold/\n",
    "    tmp = np.repeat(np.nan, df_train.shape[0])\n",
    "    kf = KFold(n_splits = 5, shuffle=True,random_state = 1990325)\n",
    "    for idx_1, idx_2 in kf.split(df_train):\n",
    "        target_min = df_train.iloc[idx_1].groupby('sku_name')[target].min().round().astype('int16')\n",
    "\n",
    "        tmp[idx_2] = df_train['sku_name'].iloc[idx_2].map(target_min)\n",
    "    df_train['sku_name'+target+'enc2'] = tmp\n",
    "    # from sklearn.model_selection import KFold\n",
    "    tmp = np.repeat(np.nan, df_train.shape[0])\n",
    "    kf = KFold(n_splits = 5, shuffle=True,random_state = 19910325)\n",
    "    for idx_1, idx_2 in kf.split(df_train):\n",
    "        target_std = df_train.iloc[idx_1].groupby('sku_name')[target].std()\n",
    "\n",
    "        tmp[idx_2] = df_train['sku_name'].iloc[idx_2].map(target_std)\n",
    "    df_train['sku_name'+target+'enc3'] = tmp\n",
    "    df_train['sku_name'+target+'enc'].fillna((df_train['sku_name'+target+'enc'].mean().round().astype('int16')), inplace=True)\n",
    "    df_train['sku_name'+target+'enc1'].fillna((df_train['sku_name'+target+'enc1'].mean().round().astype('int16')), inplace=True)\n",
    "    df_train['sku_name'+target+'enc2'].fillna((df_train['sku_name'+target+'enc2'].mean().round().astype('int16')), inplace=True)\n",
    "    df_train['sku_name'+target+'enc3'].fillna((df_train['sku_name'+target+'enc3'].mean()), inplace=True)\n",
    "    df_train['sku_name'+target+'enc4'].fillna((df_train['sku_name'+target+'enc4'].mean().round().astype('int16').round().astype('int16')), inplace=True)\n",
    "    df_train['sku_name'+target+'enc5'].fillna((df_train['sku_name'+target+'enc5'].mean().round().astype('int16')), inplace=True)\n",
    "    df_train['sku_name'+target+'enc6'].fillna((df_train['sku_name'+target+'enc6'].mean().round().astype('int16')), inplace=True)\n",
    "    return df_train, df_test\n",
    "# train.groupby(['sku_name','month'])[sellin[0]].sum().reset_index().pivot(index='sku_name', columns='month',values = 'sellin').idxmax(axis = 1) # other encoding\n",
    "# train.groupby(['sku_name','month'])[sellin[0]].sum().reset_index().pivot(index='sku_name', columns='month',values = 'sellin').idxmin(axis = 1).reset_index() # other encoding\n",
    "    "
   ]
  },
  {
   "cell_type": "code",
   "execution_count": 335,
   "metadata": {
    "execution": {
     "iopub.execute_input": "2022-08-14T15:44:08.648886Z",
     "iopub.status.busy": "2022-08-14T15:44:08.648152Z",
     "iopub.status.idle": "2022-08-14T15:44:33.851935Z",
     "shell.execute_reply": "2022-08-14T15:44:33.850624Z",
     "shell.execute_reply.started": "2022-08-14T15:44:08.648850Z"
    }
   },
   "outputs": [],
   "source": [
    "df_train,df_test = target_encode(df_train,df_test,'sellin')\n",
    "df_train,df_test = target_encode(df_train,df_test,'sellout')\n",
    "# df_train,df_test = target_encode_p(df_train,df_test,'price0')\n",
    "# df_train,df_test = target_encode_p(df_train,df_test,'price1')\n",
    "# df_train,df_test = target_encode_p(df_train,df_test,'price2')\n",
    "# df_train,df_test = target_encode_p(df_train,df_test,'price3')\n",
    "df_train,df_test = target_encode(df_train,df_test,'price')\n",
    "\n",
    "# df_train,df_test = target_encode(df_train,df_test,'starting_inventory')\n",
    "# df_train,df_test = target_encode(df_train,df_test,'leftover_inventory')\n",
    "pcl = df_train.groupby(['sku_name','year','month'])['product_lifecycle_stage'].apply(lambda x : x.unique()[0]).reset_index()\n",
    "pcl_test = df_train.groupby('sku_name')['product_lifecycle_stage'].apply(lambda x:x.values[-1])\n",
    "df_train.drop('product_lifecycle_stage',axis = 1,inplace = True)\n",
    "new_target = df_train.groupby(['sku_name','year','month'])['sellin'].sum().reset_index()\n",
    "df_train = df_train.merge(pcl,on = ['sku_name','year','month'],how = 'left')\n",
    "df_test['product_lifecycle_stage'] = df_test['sku_name'].map(pcl_test)\n",
    "target = 'sellin'\n",
    "prediction_columns = df_test.columns.tolist()\n",
    "encoding_columns = [t for t in df_train.columns if t not in prediction_columns]\n",
    "# X = df_train.drop(encoding_columns+[target],axis=1)\n",
    "# y = df_train[target]\n",
    "df_train = df_train.drop(encoding_columns+[target],axis=1).merge(new_target,on = ['sku_name','year','month'],how = 'left').drop_duplicates()"
   ]
  },
  {
   "cell_type": "code",
   "execution_count": null,
   "metadata": {},
   "outputs": [],
   "source": []
  },
  {
   "cell_type": "code",
   "execution_count": 336,
   "metadata": {
    "execution": {
     "iopub.execute_input": "2022-08-14T15:44:33.854286Z",
     "iopub.status.busy": "2022-08-14T15:44:33.853918Z",
     "iopub.status.idle": "2022-08-14T15:44:33.871606Z",
     "shell.execute_reply": "2022-08-14T15:44:33.870672Z",
     "shell.execute_reply.started": "2022-08-14T15:44:33.854253Z"
    }
   },
   "outputs": [],
   "source": [
    "all_data = pd.concat([df_train[prediction_columns],df_test[prediction_columns]])"
   ]
  },
  {
   "cell_type": "code",
   "execution_count": 337,
   "metadata": {
    "execution": {
     "iopub.execute_input": "2022-08-14T15:44:33.873631Z",
     "iopub.status.busy": "2022-08-14T15:44:33.873029Z",
     "iopub.status.idle": "2022-08-14T15:44:33.916257Z",
     "shell.execute_reply": "2022-08-14T15:44:33.915300Z",
     "shell.execute_reply.started": "2022-08-14T15:44:33.873597Z"
    }
   },
   "outputs": [],
   "source": [
    "\n",
    "le = LE()\n",
    "all_data['enc_sku'] = le.fit_transform(all_data['sku_name'])\n",
    "df_train['enc_sku'] = all_data.iloc[:df_train.shape[0]]['enc_sku']\n",
    "df_test['enc_sku'] = all_data.iloc[df_train.shape[0]:]['enc_sku']\n",
    "\n",
    "le = LE()\n",
    "all_data['product_lifecycle_stage'] = le.fit_transform(all_data['product_lifecycle_stage'])\n",
    "df_train['product_lifecycle_stage'] = all_data.iloc[:df_train.shape[0]]['product_lifecycle_stage']\n",
    "df_test['product_lifecycle_stage'] = all_data.iloc[df_train.shape[0]:]['product_lifecycle_stage']\n",
    "# df_test['enc_sku'] = le.transform(df_test['sku_name'])"
   ]
  },
  {
   "cell_type": "code",
   "execution_count": 338,
   "metadata": {
    "execution": {
     "iopub.execute_input": "2022-08-14T15:44:33.919030Z",
     "iopub.status.busy": "2022-08-14T15:44:33.918415Z",
     "iopub.status.idle": "2022-08-14T15:44:33.923167Z",
     "shell.execute_reply": "2022-08-14T15:44:33.922043Z",
     "shell.execute_reply.started": "2022-08-14T15:44:33.918996Z"
    }
   },
   "outputs": [],
   "source": [
    "# df_train.info()"
   ]
  },
  {
   "cell_type": "code",
   "execution_count": 339,
   "metadata": {
    "execution": {
     "iopub.execute_input": "2022-08-14T15:44:33.925497Z",
     "iopub.status.busy": "2022-08-14T15:44:33.924355Z",
     "iopub.status.idle": "2022-08-14T15:44:33.936241Z",
     "shell.execute_reply": "2022-08-14T15:44:33.935397Z",
     "shell.execute_reply.started": "2022-08-14T15:44:33.925445Z"
    }
   },
   "outputs": [],
   "source": [
    "add_similar_products = True\n",
    "if add_similar_month:\n",
    "        df_train['new_index'] = df_train['sku_name']+'_'+df_train['month'].astype(str)\n",
    "        df_test['new_index'] = df_test['sku_name']+'_'+df_test['month'].astype(str)\n",
    "        new_df = df_train.groupby('new_index')['sellin'].mean()\n",
    "        df_test['sku_name_target_enc_overfit'] = df_test['new_index'].map(new_df)\n",
    "        df_test['sku_name_target_enc_overfit'].fillna((df_test['sku_name_target_enc_overfit'].mean()), inplace=True)\n",
    "        tmp = np.repeat(np.nan, df_train.shape[0])\n",
    "        kf = KFold(n_splits = 5, shuffle=True,random_state = 29910325)\n",
    "        for idx_1, idx_2 in kf.split(df_train):\n",
    "            target_mean = df_train.iloc[idx_1].groupby('new_index')['sellin'].mean()\n",
    "\n",
    "            tmp[idx_2] = df_train['new_index'].iloc[idx_2].map(target_mean)\n",
    "        df_train['sku_name_target_enc_overfit'] = tmp\n",
    "        df_train['sku_name_target_enc_overfit'].fillna((df_train['sku_name_target_enc_overfit'].mean()), inplace=True)\n",
    "        df_train.drop('new_index',axis = 1, inplace = True)\n",
    "        df_test.drop('new_index',axis = 1, inplace = True)\n",
    "# What i suppose is similar products\n",
    "\n"
   ]
  },
  {
   "cell_type": "code",
   "execution_count": 340,
   "metadata": {
    "execution": {
     "iopub.execute_input": "2022-08-14T15:44:36.056847Z",
     "iopub.status.busy": "2022-08-14T15:44:36.056086Z",
     "iopub.status.idle": "2022-08-14T15:44:36.063102Z",
     "shell.execute_reply": "2022-08-14T15:44:36.062015Z",
     "shell.execute_reply.started": "2022-08-14T15:44:36.056810Z"
    }
   },
   "outputs": [],
   "source": [
    "price_cols = ['sku_nameprice0enc',\n",
    " 'sku_nameprice0enc1',\n",
    " 'sku_nameprice0enc2',\n",
    " 'sku_nameprice0enc3',\n",
    " 'sku_nameprice0enc4',\n",
    " 'sku_nameprice0enc5',\n",
    " 'sku_nameprice0enc6',\n",
    " 'sku_nameprice1enc',\n",
    " 'sku_nameprice1enc1',\n",
    " 'sku_nameprice1enc2',\n",
    " 'sku_nameprice1enc3',\n",
    " 'sku_nameprice1enc4',\n",
    " 'sku_nameprice1enc5',\n",
    " 'sku_nameprice1enc6',\n",
    " 'sku_nameprice2enc',\n",
    " 'sku_nameprice2enc1',\n",
    " 'sku_nameprice2enc2',\n",
    " 'sku_nameprice2enc3',\n",
    " 'sku_nameprice2enc4',\n",
    " 'sku_nameprice2enc5',\n",
    " 'sku_nameprice2enc6',\n",
    " 'sku_nameprice3enc',\n",
    " 'sku_nameprice3enc1',\n",
    " 'sku_nameprice3enc2',\n",
    " 'sku_nameprice3enc3',\n",
    " 'sku_nameprice3enc4',\n",
    " 'sku_nameprice3enc5',\n",
    " 'sku_nameprice3enc6']"
   ]
  },
  {
   "cell_type": "code",
   "execution_count": 233,
   "metadata": {
    "execution": {
     "iopub.execute_input": "2022-08-14T14:52:20.534920Z",
     "iopub.status.busy": "2022-08-14T14:52:20.534542Z",
     "iopub.status.idle": "2022-08-14T14:52:20.608300Z",
     "shell.execute_reply": "2022-08-14T14:52:20.607328Z",
     "shell.execute_reply.started": "2022-08-14T14:52:20.534890Z"
    }
   },
   "outputs": [],
   "source": [
    "# sc = (df_train.select_dtypes(exclude = 'object')%1 == 0).all()\n",
    "\n",
    "# df_train.select_dtypes(include = 'int')"
   ]
  },
  {
   "cell_type": "code",
   "execution_count": 341,
   "metadata": {
    "execution": {
     "iopub.execute_input": "2022-08-14T15:44:55.609928Z",
     "iopub.status.busy": "2022-08-14T15:44:55.609487Z",
     "iopub.status.idle": "2022-08-14T15:44:55.615366Z",
     "shell.execute_reply": "2022-08-14T15:44:55.614427Z",
     "shell.execute_reply.started": "2022-08-14T15:44:55.609894Z"
    }
   },
   "outputs": [],
   "source": [
    "# df_train.loc[:,sc[sc==1].index] = df_train[sc[sc==1].index].astype('int')\n",
    "# df_test.loc[:,df_test.columns.isin(sc[sc==1].index)] = df_test.loc[:,df_test.columns.isin(sc[sc==1].index)].astype('int')"
   ]
  },
  {
   "cell_type": "code",
   "execution_count": 342,
   "metadata": {
    "execution": {
     "iopub.execute_input": "2022-08-14T15:44:56.991787Z",
     "iopub.status.busy": "2022-08-14T15:44:56.991404Z",
     "iopub.status.idle": "2022-08-14T15:44:56.999438Z",
     "shell.execute_reply": "2022-08-14T15:44:56.998079Z",
     "shell.execute_reply.started": "2022-08-14T15:44:56.991756Z"
    }
   },
   "outputs": [],
   "source": [
    "scale = df_test.select_dtypes(include = 'float64').columns.tolist()"
   ]
  },
  {
   "cell_type": "code",
   "execution_count": 343,
   "metadata": {
    "execution": {
     "iopub.execute_input": "2022-08-14T15:44:58.248816Z",
     "iopub.status.busy": "2022-08-14T15:44:58.248423Z",
     "iopub.status.idle": "2022-08-14T15:44:58.253880Z",
     "shell.execute_reply": "2022-08-14T15:44:58.252465Z",
     "shell.execute_reply.started": "2022-08-14T15:44:58.248785Z"
    }
   },
   "outputs": [],
   "source": [
    "# df_train"
   ]
  },
  {
   "cell_type": "code",
   "execution_count": 344,
   "metadata": {
    "execution": {
     "iopub.execute_input": "2022-08-14T15:45:00.719562Z",
     "iopub.status.busy": "2022-08-14T15:45:00.719161Z",
     "iopub.status.idle": "2022-08-14T15:45:00.774084Z",
     "shell.execute_reply": "2022-08-14T15:45:00.772630Z",
     "shell.execute_reply.started": "2022-08-14T15:45:00.719530Z"
    }
   },
   "outputs": [],
   "source": [
    "from sklearn.preprocessing import RobustScaler\n",
    "rs = RobustScaler()\n",
    "for s in scale:\n",
    "    df_train[s] = rs.fit_transform(df_train[s].values.reshape(-1, 1))\n",
    "    df_test[s] = rs.transform(df_test[s].values.reshape(-1, 1))"
   ]
  },
  {
   "cell_type": "code",
   "execution_count": 345,
   "metadata": {
    "execution": {
     "iopub.execute_input": "2022-08-14T15:45:02.915065Z",
     "iopub.status.busy": "2022-08-14T15:45:02.913988Z",
     "iopub.status.idle": "2022-08-14T15:45:02.919822Z",
     "shell.execute_reply": "2022-08-14T15:45:02.919005Z",
     "shell.execute_reply.started": "2022-08-14T15:45:02.915010Z"
    }
   },
   "outputs": [],
   "source": [
    "# # df_train['sellin'].min()\n",
    "# # df_test.shape\n",
    "# # df_train\n",
    "# target = 'sellin'\n",
    "# prediction_columns = df_test.columns.tolist()\n",
    "# encoding_columns = [t for t in df_train.columns if t not in prediction_columns]\n",
    "# X = df_train.drop(encoding_columns+[target,'sku_name'],axis=1)\n",
    "# y = df_train[target]\n",
    "# # max_ = X['sku_name_target_enc1']"
   ]
  },
  {
   "cell_type": "code",
   "execution_count": 346,
   "metadata": {
    "execution": {
     "iopub.execute_input": "2022-08-14T15:45:04.635506Z",
     "iopub.status.busy": "2022-08-14T15:45:04.634410Z",
     "iopub.status.idle": "2022-08-14T15:45:04.639936Z",
     "shell.execute_reply": "2022-08-14T15:45:04.638953Z",
     "shell.execute_reply.started": "2022-08-14T15:45:04.635452Z"
    }
   },
   "outputs": [],
   "source": [
    "# target = 'sellin'\n",
    "# prediction_columns = df_test.columns.tolist()\n",
    "# encoding_columns = [t for t in df_train.columns if t not in prediction_columns]\n",
    "# X = df_train.drop(encoding_columns+[target],axis=1)\n",
    "# y = df_train[target]\n",
    "# # max_ = X['sku_name_target_enc1']\n"
   ]
  },
  {
   "cell_type": "code",
   "execution_count": 347,
   "metadata": {
    "execution": {
     "iopub.execute_input": "2022-08-14T15:45:05.850058Z",
     "iopub.status.busy": "2022-08-14T15:45:05.849296Z",
     "iopub.status.idle": "2022-08-14T15:45:05.855683Z",
     "shell.execute_reply": "2022-08-14T15:45:05.854603Z",
     "shell.execute_reply.started": "2022-08-14T15:45:05.850021Z"
    }
   },
   "outputs": [],
   "source": [
    "# cats"
   ]
  },
  {
   "cell_type": "code",
   "execution_count": null,
   "metadata": {},
   "outputs": [],
   "source": []
  },
  {
   "cell_type": "code",
   "execution_count": 348,
   "metadata": {
    "execution": {
     "iopub.execute_input": "2022-08-14T15:45:08.042707Z",
     "iopub.status.busy": "2022-08-14T15:45:08.042269Z",
     "iopub.status.idle": "2022-08-14T15:45:08.050016Z",
     "shell.execute_reply": "2022-08-14T15:45:08.048680Z",
     "shell.execute_reply.started": "2022-08-14T15:45:08.042675Z"
    }
   },
   "outputs": [],
   "source": [
    "def rmspe(y_true, y_pred):\n",
    "    return  np.mean(np.abs(y_true - y_pred))*1013#(np.sqrt(np.mean(np.square((y_true - y_pred) / (y_true+2)))))\n",
    "\n",
    "def feval_RMSPE(preds, lgbm_train):\n",
    "    labels = lgbm_train.get_label()\n",
    "    return 'RMSPE', round(rmspe(y_true = labels, y_pred = preds),0), False\n",
    "\n",
    "params = {\n",
    "      \"objective\": \"mae\", \n",
    "      \"metric\": \"mae\", \n",
    "      \"boosting_type\": \"gbdt\",\n",
    "      'early_stopping_rounds': 30,\n",
    "      'learning_rate': 0.01,\n",
    "#       'lambda_l1': 1,\n",
    "#       'lambda_l2': 1,\n",
    "#       'feature_fraction': 0.8,\n",
    "#       'bagging_fraction': 0.8,\n",
    "  }"
   ]
  },
  {
   "cell_type": "code",
   "execution_count": 349,
   "metadata": {
    "execution": {
     "iopub.execute_input": "2022-08-14T15:45:10.297189Z",
     "iopub.status.busy": "2022-08-14T15:45:10.296753Z",
     "iopub.status.idle": "2022-08-14T15:45:10.441314Z",
     "shell.execute_reply": "2022-08-14T15:45:10.440039Z",
     "shell.execute_reply.started": "2022-08-14T15:45:10.297124Z"
    }
   },
   "outputs": [],
   "source": [
    "kfolds = 10\n",
    "from sklearn.model_selection import KFold\n",
    "kf = KFold(n_splits=kfolds, random_state=19901028, shuffle=True)\n",
    "oof = pd.DataFrame()                 # out-of-fold result\n",
    "models = []                          # models\n",
    "scores = 0.0   \n",
    "\n",
    "features_importance= pd.DataFrame({'Feature':[], 'Importance':[]})\n",
    "# validation score"
   ]
  },
  {
   "cell_type": "code",
   "execution_count": 350,
   "metadata": {
    "execution": {
     "iopub.execute_input": "2022-08-14T15:45:12.274672Z",
     "iopub.status.busy": "2022-08-14T15:45:12.273913Z",
     "iopub.status.idle": "2022-08-14T15:45:12.285767Z",
     "shell.execute_reply": "2022-08-14T15:45:12.284554Z",
     "shell.execute_reply.started": "2022-08-14T15:45:12.274634Z"
    }
   },
   "outputs": [],
   "source": [
    "target = 'sellin'\n",
    "prediction_columns = df_test.columns.tolist()\n",
    "encoding_columns = [t for t in df_train.columns if t not in prediction_columns]\n",
    "X = df_train.drop(encoding_columns+[target,'sku_name'],axis=1)\n",
    "y = df_train[target]\n",
    "# max_ = X['sku_name_target_enc1']"
   ]
  },
  {
   "cell_type": "code",
   "execution_count": 351,
   "metadata": {
    "execution": {
     "iopub.execute_input": "2022-08-14T15:45:25.417956Z",
     "iopub.status.busy": "2022-08-14T15:45:25.417513Z",
     "iopub.status.idle": "2022-08-14T15:45:25.423933Z",
     "shell.execute_reply": "2022-08-14T15:45:25.422378Z",
     "shell.execute_reply.started": "2022-08-14T15:45:25.417924Z"
    }
   },
   "outputs": [],
   "source": [
    "cats =[]\n",
    "# for c in X.columns:\n",
    "#     if X[c].dtype == 'int':\n",
    "#         cats.append(X.columns.get_loc(c))"
   ]
  },
  {
   "cell_type": "code",
   "execution_count": 352,
   "metadata": {
    "execution": {
     "iopub.execute_input": "2022-08-14T15:45:26.802070Z",
     "iopub.status.busy": "2022-08-14T15:45:26.800804Z",
     "iopub.status.idle": "2022-08-14T15:48:05.452767Z",
     "shell.execute_reply": "2022-08-14T15:48:05.451801Z",
     "shell.execute_reply.started": "2022-08-14T15:45:26.802018Z"
    }
   },
   "outputs": [],
   "source": [
    "%%time\n",
    "for fold, (trn_idx, val_idx) in enumerate(kf.split(X, y)):\n",
    "\n",
    "    print(\"Fold :\", fold+1)\n",
    "    \n",
    "    # create dataset\n",
    "    X_train, y_train = X.loc[trn_idx], y[trn_idx]\n",
    "    X_valid, y_valid = X.loc[val_idx], y[val_idx]\n",
    "    \n",
    "    #RMSPE weight\n",
    "#     weights = 1/(w_train)\n",
    "    lgbm_train = lgbm.Dataset(X_train,y_train)#,weight = weights)\n",
    "\n",
    "#     weights = 1/(w_valid)\n",
    "    lgbm_valid = lgbm.Dataset(X_valid,y_valid,reference = lgbm_train)#,weight = weights)\n",
    "    \n",
    "    # model \n",
    "    model = lgbm.train(params=params,\n",
    "                      train_set=lgbm_train,\n",
    "                      valid_sets=[lgbm_train, lgbm_valid],\n",
    "                      num_boost_round=15000,         \n",
    "#                       feval='mae',\n",
    "                      verbose_eval=100,\n",
    "                      categorical_feature = cats                \n",
    "                     )\n",
    "    \n",
    "    # validation \n",
    "    y_pred = model.predict(X_valid, num_iteration=model.best_iteration)\n",
    "    features = X_train.columns\n",
    "    RMSPE = round(rmspe(y_true = y_valid, y_pred = y_pred),3)\n",
    "    print(f'Performance of the　prediction: , RMSPE: {RMSPE}')\n",
    "    fold_importance_df= pd.DataFrame({'Feature':[], 'Importance':[]})\n",
    "    fold_importance_df['Feature']= features\n",
    "    fold_importance_df['Importance']= model.feature_importance()\n",
    "    fold_importance_df[\"fold\"] = fold + 1\n",
    "    features_importance = pd.concat([features_importance, fold_importance_df], axis=0)\n",
    "    #keep scores and models\n",
    "    scores += RMSPE / kfolds\n",
    "    models.append(model)\n",
    "    print(\"*\" * 100)"
   ]
  },
  {
   "cell_type": "code",
   "execution_count": 353,
   "metadata": {
    "execution": {
     "iopub.execute_input": "2022-08-14T15:48:11.773755Z",
     "iopub.status.busy": "2022-08-14T15:48:11.773330Z",
     "iopub.status.idle": "2022-08-14T15:48:12.174688Z",
     "shell.execute_reply": "2022-08-14T15:48:12.173430Z",
     "shell.execute_reply.started": "2022-08-14T15:48:11.773722Z"
    }
   },
   "outputs": [],
   "source": [
    "display_importances(features_importance)\n"
   ]
  },
  {
   "cell_type": "code",
   "execution_count": 355,
   "metadata": {
    "execution": {
     "iopub.execute_input": "2022-08-14T15:48:27.456677Z",
     "iopub.status.busy": "2022-08-14T15:48:27.456296Z",
     "iopub.status.idle": "2022-08-14T15:48:27.462905Z",
     "shell.execute_reply": "2022-08-14T15:48:27.461588Z",
     "shell.execute_reply.started": "2022-08-14T15:48:27.456645Z"
    }
   },
   "outputs": [],
   "source": [
    "X_test = df_test[X_train.columns.tolist()].copy()\n",
    "# X_train\n",
    "# len(models)"
   ]
  },
  {
   "cell_type": "code",
   "execution_count": 356,
   "metadata": {
    "execution": {
     "iopub.execute_input": "2022-08-14T15:48:30.439067Z",
     "iopub.status.busy": "2022-08-14T15:48:30.438439Z",
     "iopub.status.idle": "2022-08-14T15:48:31.657025Z",
     "shell.execute_reply": "2022-08-14T15:48:31.656085Z",
     "shell.execute_reply.started": "2022-08-14T15:48:30.439026Z"
    }
   },
   "outputs": [],
   "source": [
    "df_test['Item_ID'] = df_test['sku_name'] +'_'+ df_test['month'].astype(str)+ '_'+df_test['year'].astype(str)\n",
    "y_pred = df_test[['Item_ID']]\n",
    "target = np.zeros(len(X_test))\n",
    "target2 = np.zeros(len(X_test))\n",
    "#light gbm models\n",
    "for model in models:\n",
    "    pred = model.predict(X_test[X_valid.columns], num_iteration=model.best_iteration)\n",
    "    target += pred / len(models)\n",
    "# X_test['cum_disc'] = 0\n",
    "# for model in models:\n",
    "#     pred = model.predict(X_test[X_valid.columns], num_iteration=model.best_iteration)\n",
    "#     target2 += pred / len(models)\n",
    "# target = (target+target2)/2\n",
    "y_pred = y_pred.assign(target_y= target)\n",
    "sub = ss.merge(y_pred,on = 'Item_ID')\n",
    "sub['target'] = sub['target_y']*1013\n",
    "sub['target'] = (sub['target'].astype('int') )\n",
    "sub = sub[['Item_ID','target']]"
   ]
  },
  {
   "cell_type": "code",
   "execution_count": 291,
   "metadata": {
    "execution": {
     "iopub.execute_input": "2022-08-14T15:23:39.162151Z",
     "iopub.status.busy": "2022-08-14T15:23:39.160919Z",
     "iopub.status.idle": "2022-08-14T15:23:39.166082Z",
     "shell.execute_reply": "2022-08-14T15:23:39.165195Z",
     "shell.execute_reply.started": "2022-08-14T15:23:39.162086Z"
    }
   },
   "outputs": [],
   "source": [
    "# models[5].predict(X_test[X_valid.columns], num_iteration=model.best_iteration)*1013\n",
    "# sns.distplot(df_train.sellin)\n",
    "# sns.distplot(sub.target)"
   ]
  },
  {
   "cell_type": "code",
   "execution_count": 357,
   "metadata": {
    "execution": {
     "iopub.execute_input": "2022-08-14T15:48:34.665683Z",
     "iopub.status.busy": "2022-08-14T15:48:34.665286Z",
     "iopub.status.idle": "2022-08-14T15:48:34.680400Z",
     "shell.execute_reply": "2022-08-14T15:48:34.679039Z",
     "shell.execute_reply.started": "2022-08-14T15:48:34.665652Z"
    }
   },
   "outputs": [],
   "source": [
    "sub"
   ]
  },
  {
   "cell_type": "code",
   "execution_count": 358,
   "metadata": {
    "execution": {
     "iopub.execute_input": "2022-08-14T15:48:50.457603Z",
     "iopub.status.busy": "2022-08-14T15:48:50.457183Z",
     "iopub.status.idle": "2022-08-14T15:48:50.468189Z",
     "shell.execute_reply": "2022-08-14T15:48:50.467249Z",
     "shell.execute_reply.started": "2022-08-14T15:48:50.457566Z"
    }
   },
   "outputs": [],
   "source": [
    "sub.to_csv('submission_41_neg.csv',index = False)"
   ]
  },
  {
   "cell_type": "code",
   "execution_count": null,
   "metadata": {},
   "outputs": [],
   "source": [
    "# len(models)\n",
    "ss['sku_month'] = ss['Item_ID'].apply(lambda x: x.split('_')[0])+'_'+ss['Item_ID'].apply(lambda x: x.split('_')[1])"
   ]
  },
  {
   "cell_type": "code",
   "execution_count": null,
   "metadata": {},
   "outputs": [],
   "source": [
    "df_train['sku_month'] = df_train['sku_name']+'_'+df_train['month'].astype(str)"
   ]
  },
  {
   "cell_type": "code",
   "execution_count": null,
   "metadata": {},
   "outputs": [],
   "source": [
    "# ss.loc[ss.sku_month.isin(df_train.sku_month)]\n",
    "plt.plot(np.log(df_train['sellin'].sort_values().values[3:-301]))"
   ]
  },
  {
   "cell_type": "code",
   "execution_count": null,
   "metadata": {},
   "outputs": [],
   "source": [
    "ss.shape[0]"
   ]
  },
  {
   "cell_type": "code",
   "execution_count": null,
   "metadata": {},
   "outputs": [],
   "source": [
    "# df_test.apply(lambda x: '_'.join(x['sku_name'],x['month']))\n"
   ]
  },
  {
   "cell_type": "markdown",
   "metadata": {},
   "source": [
    "# Clusters"
   ]
  },
  {
   "cell_type": "code",
   "execution_count": null,
   "metadata": {},
   "outputs": [],
   "source": [
    "\n",
    "cluster_range = range(1,15)\n",
    "cluster_errors = []\n",
    "for num_clusters in cluster_range:\n",
    "    clusters = KMeans(num_clusters, n_init = 5)\n",
    "    clusters.fit(df_train[sellin+sellout+onhand+['month','year']])\n",
    "    labels = clusters.labels_\n",
    "    centroids = clusters.cluster_centers_\n",
    "    cluster_errors.append(clusters.inertia_)\n",
    "\n",
    "clusters_df = pd.DataFrame({\"num_clusters\": cluster_range, \"cluster_errors\": cluster_errors})\n",
    "# clusters_df\n",
    "from matplotlib import cm\n",
    "\n",
    "plt.figure(figsize=(12,6))\n",
    "plt.plot( clusters_df.num_clusters, clusters_df.cluster_errors, marker = \"o\" )"
   ]
  },
  {
   "cell_type": "code",
   "execution_count": null,
   "metadata": {},
   "outputs": [],
   "source": []
  },
  {
   "cell_type": "code",
   "execution_count": null,
   "metadata": {},
   "outputs": [],
   "source": [
    "# np.unique(labels)"
   ]
  },
  {
   "cell_type": "code",
   "execution_count": 133,
   "metadata": {
    "execution": {
     "iopub.execute_input": "2022-08-14T09:53:08.696502Z",
     "iopub.status.busy": "2022-08-14T09:53:08.695403Z",
     "iopub.status.idle": "2022-08-14T09:53:21.919397Z",
     "shell.execute_reply": "2022-08-14T09:53:21.918187Z",
     "shell.execute_reply.started": "2022-08-14T09:53:08.696460Z"
    }
   },
   "outputs": [],
   "source": [
    "!pip install flaml"
   ]
  },
  {
   "cell_type": "code",
   "execution_count": 134,
   "metadata": {
    "execution": {
     "iopub.execute_input": "2022-08-14T09:53:24.328113Z",
     "iopub.status.busy": "2022-08-14T09:53:24.327657Z",
     "iopub.status.idle": "2022-08-14T09:53:25.839127Z",
     "shell.execute_reply": "2022-08-14T09:53:25.837798Z",
     "shell.execute_reply.started": "2022-08-14T09:53:24.328072Z"
    }
   },
   "outputs": [],
   "source": [
    "from sklearn.model_selection import train_test_split\n",
    "X_train, X_test, y_train, y_test = train_test_split( X, y, test_size=0.2, random_state=42)\n",
    "from flaml import AutoML\n",
    "automl = AutoML()"
   ]
  },
  {
   "cell_type": "code",
   "execution_count": null,
   "metadata": {
    "execution": {
     "iopub.execute_input": "2022-08-14T09:53:27.147178Z",
     "iopub.status.busy": "2022-08-14T09:53:27.146435Z"
    }
   },
   "outputs": [],
   "source": [
    "automl.fit(X_train, y_train, task=\"regression\",metric='mae',time_budget=898)"
   ]
  },
  {
   "cell_type": "code",
   "execution_count": 155,
   "metadata": {
    "execution": {
     "iopub.execute_input": "2022-08-11T00:43:20.940440Z",
     "iopub.status.busy": "2022-08-11T00:43:20.939967Z",
     "iopub.status.idle": "2022-08-11T00:43:20.947011Z",
     "shell.execute_reply": "2022-08-11T00:43:20.946109Z",
     "shell.execute_reply.started": "2022-08-11T00:43:20.940389Z"
    }
   },
   "outputs": [],
   "source": [
    "print('Best ML learner:', automl.best_estimator)\n",
    "print('Best hyperparmeter config:', automl.best_config)\n",
    "print('Best mae on validation data: {0:.4g}'.format(automl.best_loss))\n",
    "print('Training duration of best run: {0:.4g} s'.format(automl.best_config_train_time))"
   ]
  },
  {
   "cell_type": "code",
   "execution_count": 158,
   "metadata": {
    "execution": {
     "iopub.execute_input": "2022-08-11T00:45:46.294252Z",
     "iopub.status.busy": "2022-08-11T00:45:46.293822Z",
     "iopub.status.idle": "2022-08-11T00:45:46.369245Z",
     "shell.execute_reply": "2022-08-11T00:45:46.368311Z",
     "shell.execute_reply.started": "2022-08-11T00:45:46.294217Z"
    }
   },
   "outputs": [],
   "source": [
    "df_test['Item_ID'] = df_test['sku_name'] +'_'+ df_test['month'].astype(str)+ '_'+df_test['year'].astype(str)\n",
    "y_pred = df_test[['Item_ID']]\n",
    "target = np.zeros(len(X_test))\n",
    "\n",
    "#light gbm models\n",
    "\n",
    "pred = automl.predict(df_test[X_train.columns])\n",
    "target = pred \n",
    "y_pred = y_pred.assign(target_y= target)\n",
    "sub = ss.merge(y_pred,on = 'Item_ID')\n",
    "sub['target'] = sub['target_y']*1013\n",
    "sub['target'] = sub['target'].astype('int') \n",
    "sub = sub[['Item_ID','target']]"
   ]
  },
  {
   "cell_type": "code",
   "execution_count": 160,
   "metadata": {
    "execution": {
     "iopub.execute_input": "2022-08-11T00:46:22.871627Z",
     "iopub.status.busy": "2022-08-11T00:46:22.870513Z",
     "iopub.status.idle": "2022-08-11T00:46:22.882219Z",
     "shell.execute_reply": "2022-08-11T00:46:22.881334Z",
     "shell.execute_reply.started": "2022-08-11T00:46:22.871582Z"
    }
   },
   "outputs": [],
   "source": [
    "sub.to_csv('submission_21.csv',index = False)"
   ]
  },
  {
   "cell_type": "code",
   "execution_count": null,
   "metadata": {},
   "outputs": [],
   "source": []
  }
 ],
 "metadata": {
  "kernelspec": {
   "display_name": "Python 3 (ipykernel)",
   "language": "python",
   "name": "python3"
  },
  "language_info": {
   "codemirror_mode": {
    "name": "ipython",
    "version": 3
   },
   "file_extension": ".py",
   "mimetype": "text/x-python",
   "name": "python",
   "nbconvert_exporter": "python",
   "pygments_lexer": "ipython3",
   "version": "3.7.4"
  }
 },
 "nbformat": 4,
 "nbformat_minor": 4
}
