{
 "cells": [
  {
   "cell_type": "code",
   "execution_count": 265,
   "metadata": {
    "_cell_guid": "b1076dfc-b9ad-4769-8c92-a6c4dae69d19",
    "_uuid": "8f2839f25d086af736a60e9eeb907d3b93b6e0e5",
    "execution": {
     "iopub.execute_input": "2022-08-17T01:10:32.515206Z",
     "iopub.status.busy": "2022-08-17T01:10:32.514367Z",
     "iopub.status.idle": "2022-08-17T01:10:35.286122Z",
     "shell.execute_reply": "2022-08-17T01:10:35.284667Z",
     "shell.execute_reply.started": "2022-08-17T01:10:32.515106Z"
    }
   },
   "outputs": [],
   "source": [
    "\n",
    "import numpy as np # linear algebra\n",
    "import pandas as pd # data processing, CSV file I/O (e.g. pd.read_csv)\n",
    "from sklearn.model_selection import KFold\n",
    "import lightgbm as lgbm# .loc[df_test.sku_name == new_id_test[0]]\n",
    "from sklearn.preprocessing import LabelEncoder as LE\n",
    "import seaborn as sns\n",
    "import scipy.stats as ss\n",
    "# Input data files are available in the read-only \"../input/\" directory\n",
    "# For example, running this (by clicking run or pressing Shift+Enter) will list all files under the input directory\n",
    "import matplotlib.pyplot as plt\n",
    "import os\n",
    "# for dirname, _, filenames in os.walk('/kaggle/input'):\n",
    "#     for filename in filenames:\n",
    "#         print(os.path.join(dirname, filename))\n",
    "import seaborn as sns\n",
    "from matplotlib import pyplot as plt\n",
    "def display_importances(feature_importance_df_):\n",
    "    cols = feature_importance_df_[[\"Feature\", \"Importance\"]].groupby(\"Feature\").mean().sort_values(by=\"Importance\", ascending=False)[:10].index\n",
    "    best_features = feature_importance_df_[[\"Feature\", \"Importance\"]].groupby(\"Feature\").mean().sort_values(by=\"Importance\", ascending=False)[:50]\n",
    "    best_features.reset_index(inplace=True)\n",
    "    print(best_features.dtypes)\n",
    "    plt.figure(figsize=(8, 10))\n",
    "    sns.barplot(x=\"Importance\", y=\"Feature\", data=best_features)\n",
    "    plt.title('LightGBM Features (avg over folds)')\n",
    "    plt.tight_layout()"
   ]
  },
  {
   "cell_type": "code",
   "execution_count": 266,
   "metadata": {
    "execution": {
     "iopub.execute_input": "2022-08-17T02:49:20.345758Z",
     "iopub.status.busy": "2022-08-17T02:49:20.345340Z",
     "iopub.status.idle": "2022-08-17T02:49:20.578913Z",
     "shell.execute_reply": "2022-08-17T02:49:20.577791Z",
     "shell.execute_reply.started": "2022-08-17T02:49:20.345726Z"
    }
   },
   "outputs": [],
   "source": [
    "train = pd.read_csv('Train.csv')\n",
    "test = pd.read_csv('Test.csv')\n",
    "ss = pd.read_csv('SampleSubmission.csv')\n",
    "dict_s = pd.read_csv('DataDictionary.csv')\n"
   ]
  },
  {
   "cell_type": "code",
   "execution_count": 267,
   "metadata": {
    "execution": {
     "iopub.execute_input": "2022-08-17T02:49:20.721009Z",
     "iopub.status.busy": "2022-08-17T02:49:20.720577Z",
     "iopub.status.idle": "2022-08-17T02:49:20.730020Z",
     "shell.execute_reply": "2022-08-17T02:49:20.728465Z",
     "shell.execute_reply.started": "2022-08-17T02:49:20.720978Z"
    }
   },
   "outputs": [],
   "source": [
    "# test\n",
    "add_weeks = False\n",
    "add_pivotal_sum = False\n",
    "add_pivotal_max = False\n",
    "encode_channels = False\n",
    "add_pivotal_min = False\n",
    "add_kmeans = False\n",
    "# enode_channels = False\n",
    "add_similar_month = False\n",
    "import calendar\n",
    "def count_weekends(m,y):\n",
    "    day_to_count = calendar.SUNDAY\n",
    "\n",
    "    matrix = calendar.monthcalendar(y,m)\n",
    "\n",
    "    num_days = sum(1 for x in matrix if x[day_to_count] != 0)\n",
    "    return num_days%4\n",
    "if add_weeks:\n",
    "    test['Weeks'] = test.apply(lambda x: count_weekends(x.month, x.year), axis=1)\n"
   ]
  },
  {
   "cell_type": "code",
   "execution_count": 268,
   "metadata": {
    "execution": {
     "iopub.execute_input": "2022-08-17T02:49:23.155179Z",
     "iopub.status.busy": "2022-08-17T02:49:23.154743Z",
     "iopub.status.idle": "2022-08-17T02:49:23.290809Z",
     "shell.execute_reply": "2022-08-17T02:49:23.289937Z",
     "shell.execute_reply.started": "2022-08-17T02:49:23.155144Z"
    }
   },
   "outputs": [],
   "source": [
    "df_train = train.copy()\n",
    "df_test = test.copy()\n",
    "target = 'sellin'\n",
    "prediction_columns = test.columns.tolist()\n",
    "encoding_columns = [t for t in train.columns if t not in prediction_columns]\n",
    "sellin = ['sellin','sellin_channel_1','sellin_channel_2','sellin_channel_3','sellin_channel_4',\n",
    "         'sellin_channel_5','sellin_channel_6','sellin_channel_7','sellin_channel_8']\n",
    "sellout = ['sellout','sellout_channel_1','sellout_channel_2','sellout_channel_3','sellout_channel_4',\n",
    "         'sellout_channel_5','sellout_channel_6','sellout_channel_7','sellout_channel_8','sellout_channel_9',\n",
    "           'sellout_channel_10']\n",
    "onhand= ['onhand_inventory','onhand_inventory_channel_1','onhand_inventory_channel_2','onhand_inventory_channel_3','onhand_inventory_channel_4',\n",
    "         'onhand_inventory_channel_5','onhand_inventory_channel_6','onhand_inventory_channel_7','onhand_inventory_channel_8','onhand_inventory_channel_9',\n",
    "           'onhand_inventory_channel_10']\n",
    "pivotal_sum_fea = ['sku_name_target_enc_sum_month_'+str(i+1) for i in range(12) ]\n",
    "pivotal_min_fea = ['sku_name_target_enc_min_month_'+str(i+1) for i in range(12) ]\n",
    "pivotal_max_fea = ['sku_name_target_enc_max_month_'+str(i+1) for i in range(12) ]\n",
    "pivot_fea = pivotal_sum_fea + pivotal_max_fea + pivotal_min_fea\n",
    "# new_fea = [f for f in X_train.columns if f not in pivot_fea ]\n",
    "price_enc =  ['sku_namepriceenc6','sku_namepriceenc5','sku_namepriceenc4','sku_namepriceenc','sku_namepriceenc1','sku_namepriceenc2','sku_namepriceenc3']\n",
    "sellin_enc =  ['sku_namesellinenc6','sku_namesellinenc5','sku_namesellinenc4','sku_namesellinenc','sku_namesellinenc1','sku_namesellinenc2','sku_namesellinenc3']\n",
    "sellout_enc =  ['sku_nameselloutenc6','sku_nameselloutenc5','sku_nameselloutenc4','sku_nameselloutenc','sku_nameselloutenc1','sku_nameselloutenc2','sku_nameselloutenc3']\n",
    "onhand_inventory_enc =  ['sku_nameonhand_inventoryenc6','sku_nameonhand_inventoryenc5','sku_nameonhand_inventoryenc4','sku_nameonhand_inventoryenc','sku_nameonhand_inventoryenc1','sku_nameonhand_inventoryenc2','sku_nameonhand_inventoryenc3']\n",
    "starting_inventory_enc =  ['sku_namestarting_inventoryenc6','sku_namestarting_inventoryenc5','sku_namestarting_inventoryenc4','sku_namestarting_inventoryenc','sku_namestarting_inventoryenc1','sku_namestarting_inventoryenc2','sku_namestarting_inventoryenc3']\n",
    "enc_features = price_enc + sellin_enc + sellout_enc + onhand_inventory_enc + starting_inventory_enc \n",
    "df_train['price0'] = df_train['price']//100\n",
    "df_train['price1'] = (df_train['price']//10)%10\n",
    "df_train['price2'] = df_train['price']%10\n",
    "df_train['price3'] = df_train['price']//10\n",
    "df_train[sellin+sellout+onhand+['leftover_inventory','starting_inventory']] = df_train[sellin+sellout+onhand+['leftover_inventory','starting_inventory']]/1013\n"
   ]
  },
  {
   "cell_type": "code",
   "execution_count": 269,
   "metadata": {
    "execution": {
     "iopub.execute_input": "2022-08-17T02:49:23.599284Z",
     "iopub.status.busy": "2022-08-17T02:49:23.598736Z",
     "iopub.status.idle": "2022-08-17T02:49:23.632036Z",
     "shell.execute_reply": "2022-08-17T02:49:23.631211Z",
     "shell.execute_reply.started": "2022-08-17T02:49:23.599247Z"
    }
   },
   "outputs": [],
   "source": [
    "def target_encode(df_train,df_test,target):\n",
    "    sku_name_target_mean = df_train.groupby('sku_name')[target].mean()\n",
    "    sku_name_target_max = df_train.groupby('sku_name')[target].max()\n",
    "    sku_name_target_min = df_train.groupby('sku_name')[target].min()\n",
    "    sku_name_target_std = df_train.groupby('sku_name')[target].std()\n",
    "    sku_name_target_median = df_train.groupby('sku_name')[target].apply(lambda x : np.median(x))\n",
    "    sku_name_target_q95 = df_train.groupby('sku_name')[target].apply(lambda x : np.quantile(x,0.95))\n",
    "    sku_name_target_q05 = df_train.groupby('sku_name')[target].apply(lambda x : np.quantile(x,0.05))\n",
    "    # sku_name_target_mean = df_train.groupby('sku_name')[target].mean()\n",
    "    df_test['sku_name'+target+'enc'] = df_test['sku_name'].map(sku_name_target_mean)\n",
    "    df_test['sku_name'+target+'enc'].fillna((df_test['sku_name'+target+'enc'].mean()), inplace=True)\n",
    "    df_test['sku_name'+target+'enc1'] = df_test['sku_name'].map(sku_name_target_max)\n",
    "    df_test['sku_name'+target+'enc1'].fillna((df_test['sku_name'+target+'enc1'].mean()), inplace=True)\n",
    "    df_test['sku_name'+target+'enc2'] = df_test['sku_name'].map(sku_name_target_min)\n",
    "    df_test['sku_name'+target+'enc2'].fillna((df_test['sku_name'+target+'enc2'].mean()), inplace=True)\n",
    "    df_test['sku_name'+target+'enc3'] = df_test['sku_name'].map(sku_name_target_std)\n",
    "    df_test['sku_name'+target+'enc3'].fillna((df_test['sku_name'+target+'enc3'].mean()), inplace=True)\n",
    "    df_test['sku_name'+target+'enc4'] = df_test['sku_name'].map(sku_name_target_median)\n",
    "    df_test['sku_name'+target+'enc4'].fillna((df_test['sku_name'+target+'enc4'].mean()), inplace=True)\n",
    "    df_test['sku_name'+target+'enc5'] = df_test['sku_name'].map(sku_name_target_q95)\n",
    "    df_test['sku_name'+target+'enc5'].fillna((df_test['sku_name'+target+'enc5'].mean()), inplace=True)\n",
    "    df_test['sku_name'+target+'enc6'] = df_test['sku_name'].map(sku_name_target_q05)\n",
    "    df_test['sku_name'+target+'enc6'].fillna((df_test['sku_name'+target+'enc6'].mean()), inplace=True)\n",
    "    tmp =np.repeat(np.nan, df_train.shape[0])\n",
    "    kf = KFold(n_splits = 5, shuffle=True,random_state = 19910325)\n",
    "    for idx_1, idx_2 in kf.split(df_train):\n",
    "        target_mean = df_train.iloc[idx_1].groupby('sku_name')[target].apply(lambda x : np.quantile(x,0.05))\n",
    "\n",
    "        tmp[idx_2] = df_train['sku_name'].iloc[idx_2].map(target_mean)\n",
    "    df_train['sku_name'+target+'enc6'] = tmp\n",
    "    # from sklearn.model_selection import KFold\n",
    "    tmp = np.repeat(np.nan, df_train.shape[0])\n",
    "    kf = KFold(n_splits = 5, shuffle=True,random_state = 1991032)\n",
    "    for idx_1, idx_2 in kf.split(df_train):\n",
    "        target_mean = df_train.iloc[idx_1].groupby('sku_name')[target].apply(lambda x : np.quantile(x,0.95))\n",
    "\n",
    "        tmp[idx_2] = df_train['sku_name'].iloc[idx_2].map(target_mean)\n",
    "    df_train['sku_name'+target+'enc5'] = tmp\n",
    "\n",
    "\n",
    "\n",
    "    # from sklearn.model_selection import KFold\n",
    "    tmp = np.repeat(np.nan, df_train.shape[0])\n",
    "    kf = KFold(n_splits = 5, shuffle=True,random_state = 1991035)\n",
    "    for idx_1, idx_2 in kf.split(df_train):\n",
    "        target_mean = df_train.iloc[idx_1].groupby('sku_name')[target].apply(lambda x : np.median(x))\n",
    "\n",
    "        tmp[idx_2] = df_train['sku_name'].iloc[idx_2].map(target_mean)\n",
    "    df_train['sku_name'+target+'enc4'] = tmp\n",
    "\n",
    "\n",
    "\n",
    "    # from sklearn.model_selection import KFold\n",
    "    tmp = np.repeat(np.nan, df_train.shape[0])\n",
    "    kf = KFold(n_splits = 5, shuffle=True,random_state = 1910325)\n",
    "    for idx_1, idx_2 in kf.split(df_train):\n",
    "        target_mean = df_train.iloc[idx_1].groupby('sku_name')[target].mean()\n",
    "\n",
    "        tmp[idx_2] = df_train['sku_name'].iloc[idx_2].map(target_mean)\n",
    "    df_train['sku_name'+target+'enc'] = tmp\n",
    "\n",
    "\n",
    "\n",
    "    # from sklearn.model_selection import KFold\n",
    "    tmp = np.repeat(np.nan, df_train.shape[0])\n",
    "    kf = KFold(n_splits = 5, shuffle=True,random_state = 1991025)\n",
    "    for idx_1, idx_2 in kf.split(df_train):\n",
    "        target_max = df_train.iloc[idx_1].groupby('sku_name')[target].max()\n",
    "\n",
    "        tmp[idx_2] = df_train['sku_name'].iloc[idx_2].map(target_max)\n",
    "    df_train['sku_name'+target+'enc1'] = tmp\n",
    "    # from sklearn.model_selection import KFold/\n",
    "    tmp = np.repeat(np.nan, df_train.shape[0])\n",
    "    kf = KFold(n_splits = 5, shuffle=True,random_state = 1990325)\n",
    "    for idx_1, idx_2 in kf.split(df_train):\n",
    "        target_min = df_train.iloc[idx_1].groupby('sku_name')[target].min()\n",
    "\n",
    "        tmp[idx_2] = df_train['sku_name'].iloc[idx_2].map(target_min)\n",
    "    df_train['sku_name'+target+'enc2'] = tmp\n",
    "    # from sklearn.model_selection import KFold\n",
    "    tmp = np.repeat(np.nan, df_train.shape[0])\n",
    "    kf = KFold(n_splits = 5, shuffle=True,random_state = 19910325)\n",
    "    for idx_1, idx_2 in kf.split(df_train):\n",
    "        target_std = df_train.iloc[idx_1].groupby('sku_name')[target].std()\n",
    "\n",
    "        tmp[idx_2] = df_train['sku_name'].iloc[idx_2].map(target_std)\n",
    "    df_train['sku_name'+target+'enc3'] = tmp\n",
    "    df_train['sku_name'+target+'enc'].fillna((df_train['sku_name'+target+'enc'].mean()), inplace=True)\n",
    "    df_train['sku_name'+target+'enc1'].fillna((df_train['sku_name'+target+'enc1'].mean()), inplace=True)\n",
    "    df_train['sku_name'+target+'enc2'].fillna((df_train['sku_name'+target+'enc2'].mean()), inplace=True)\n",
    "    df_train['sku_name'+target+'enc3'].fillna((df_train['sku_name'+target+'enc3'].mean()), inplace=True)\n",
    "    df_train['sku_name'+target+'enc4'].fillna((df_train['sku_name'+target+'enc4'].mean()), inplace=True)\n",
    "    df_train['sku_name'+target+'enc5'].fillna((df_train['sku_name'+target+'enc5'].mean()), inplace=True)\n",
    "    df_train['sku_name'+target+'enc6'].fillna((df_train['sku_name'+target+'enc6'].mean()), inplace=True)\n",
    "    return df_train, df_test\n",
    "# train.groupby(['sku_name','month'])[sellin[0]].sum().reset_index().pivot(index='sku_name', columns='month',values = 'sellin').idxmax(axis = 1) # other encoding\n",
    "# train.groupby(['sku_name','month'])[sellin[0]].sum().reset_index().pivot(index='sku_name', columns='month',values = 'sellin').idxmin(axis = 1).reset_index() # other encoding\n",
    "    "
   ]
  },
  {
   "cell_type": "code",
   "execution_count": 270,
   "metadata": {
    "execution": {
     "iopub.execute_input": "2022-08-17T02:49:25.561088Z",
     "iopub.status.busy": "2022-08-17T02:49:25.560316Z",
     "iopub.status.idle": "2022-08-17T02:49:25.596504Z",
     "shell.execute_reply": "2022-08-17T02:49:25.595281Z",
     "shell.execute_reply.started": "2022-08-17T02:49:25.561049Z"
    }
   },
   "outputs": [],
   "source": [
    "def target_encode_p(df_train,df_test,target):\n",
    "    sku_name_target_mean = df_train.groupby('sku_name')[target].mean().round().astype('int16')\n",
    "    sku_name_target_max = df_train.groupby('sku_name')[target].max().round().astype('int16')\n",
    "    sku_name_target_min = df_train.groupby('sku_name')[target].min().round().astype('int16')\n",
    "    sku_name_target_std = df_train.groupby('sku_name')[target].std()\n",
    "    sku_name_target_median = df_train.groupby('sku_name')[target].apply(lambda x : np.median(x).round().astype('int16'))\n",
    "    sku_name_target_q95 = df_train.groupby('sku_name')[target].apply(lambda x : np.quantile(x,0.95).round().astype('int16'))\n",
    "    sku_name_target_q05 = df_train.groupby('sku_name')[target].apply(lambda x : np.quantile(x,0.05).round().astype('int16'))\n",
    "    # sku_name_target_mean = df_train.groupby('sku_name')[target].mean()\n",
    "    df_test['sku_name'+target+'enc'] = df_test['sku_name'].map(sku_name_target_mean)\n",
    "    df_test['sku_name'+target+'enc'].fillna((df_test['sku_name'+target+'enc'].mean().round().astype('int16')), inplace=True)\n",
    "    df_test['sku_name'+target+'enc1'] = df_test['sku_name'].map(sku_name_target_max)\n",
    "    df_test['sku_name'+target+'enc1'].fillna((df_test['sku_name'+target+'enc1'].mean().round().astype('int16')), inplace=True)\n",
    "    df_test['sku_name'+target+'enc2'] = df_test['sku_name'].map(sku_name_target_min)\n",
    "    df_test['sku_name'+target+'enc2'].fillna((df_test['sku_name'+target+'enc2'].mean().round().astype('int16')), inplace=True)\n",
    "    df_test['sku_name'+target+'enc3'] = df_test['sku_name'].map(sku_name_target_std)\n",
    "    df_test['sku_name'+target+'enc3'].fillna((df_test['sku_name'+target+'enc3']), inplace=True)\n",
    "    df_test['sku_name'+target+'enc4'] = df_test['sku_name'].map(sku_name_target_median)\n",
    "    df_test['sku_name'+target+'enc4'].fillna((df_test['sku_name'+target+'enc4'].mean().round().astype('int16')), inplace=True)\n",
    "    df_test['sku_name'+target+'enc5'] = df_test['sku_name'].map(sku_name_target_q95)\n",
    "    df_test['sku_name'+target+'enc5'].fillna((df_test['sku_name'+target+'enc5'].mean().round().astype('int16')), inplace=True)\n",
    "    df_test['sku_name'+target+'enc6'] = df_test['sku_name'].map(sku_name_target_q05)\n",
    "    df_test['sku_name'+target+'enc6'].fillna((df_test['sku_name'+target+'enc6'].mean().round().astype('int16')), inplace=True)\n",
    "    tmp =np.repeat(np.nan, df_train.shape[0])\n",
    "    kf = KFold(n_splits = 5, shuffle=True,random_state = 19910325)\n",
    "    for idx_1, idx_2 in kf.split(df_train):\n",
    "        target_mean = df_train.iloc[idx_1].groupby('sku_name')[target].apply(lambda x : np.quantile(x,0.05).round().astype('int16'))\n",
    "\n",
    "        tmp[idx_2] = df_train['sku_name'].iloc[idx_2].map(target_mean)\n",
    "    df_train['sku_name'+target+'enc6'] = tmp\n",
    "    # from sklearn.model_selection import KFold\n",
    "    tmp = np.repeat(np.nan, df_train.shape[0])\n",
    "    kf = KFold(n_splits = 5, shuffle=True,random_state = 1991032)\n",
    "    for idx_1, idx_2 in kf.split(df_train):\n",
    "        target_mean = df_train.iloc[idx_1].groupby('sku_name')[target].apply(lambda x : np.quantile(x,0.95).round().astype('int16'))\n",
    "\n",
    "        tmp[idx_2] = df_train['sku_name'].iloc[idx_2].map(target_mean)\n",
    "    df_train['sku_name'+target+'enc5'] = tmp\n",
    "\n",
    "\n",
    "\n",
    "    # from sklearn.model_selection import KFold\n",
    "    tmp = np.repeat(np.nan, df_train.shape[0])\n",
    "    kf = KFold(n_splits = 5, shuffle=True,random_state = 1991035)\n",
    "    for idx_1, idx_2 in kf.split(df_train):\n",
    "        target_mean = df_train.iloc[idx_1].groupby('sku_name')[target].apply(lambda x : np.median(x).round().astype('int16'))\n",
    "\n",
    "        tmp[idx_2] = df_train['sku_name'].iloc[idx_2].map(target_mean)\n",
    "    df_train['sku_name'+target+'enc4'] = tmp\n",
    "\n",
    "\n",
    "\n",
    "    # from sklearn.model_selection import KFold\n",
    "    tmp = np.repeat(np.nan, df_train.shape[0])\n",
    "    kf = KFold(n_splits = 5, shuffle=True,random_state = 1910325)\n",
    "    for idx_1, idx_2 in kf.split(df_train):\n",
    "        target_mean = df_train.iloc[idx_1].groupby('sku_name')[target].mean().round().astype('int16')\n",
    "\n",
    "        tmp[idx_2] = df_train['sku_name'].iloc[idx_2].map(target_mean)\n",
    "    df_train['sku_name'+target+'enc'] = tmp\n",
    "\n",
    "\n",
    "\n",
    "    # from sklearn.model_selection import KFold\n",
    "    tmp = np.repeat(np.nan, df_train.shape[0])\n",
    "    kf = KFold(n_splits = 5, shuffle=True,random_state = 1991025)\n",
    "    for idx_1, idx_2 in kf.split(df_train):\n",
    "        target_max = df_train.iloc[idx_1].groupby('sku_name')[target].max().round().astype('int16')\n",
    "\n",
    "        tmp[idx_2] = df_train['sku_name'].iloc[idx_2].map(target_max)\n",
    "    df_train['sku_name'+target+'enc1'] = tmp\n",
    "    # from sklearn.model_selection import KFold/\n",
    "    tmp = np.repeat(np.nan, df_train.shape[0])\n",
    "    kf = KFold(n_splits = 5, shuffle=True,random_state = 1990325)\n",
    "    for idx_1, idx_2 in kf.split(df_train):\n",
    "        target_min = df_train.iloc[idx_1].groupby('sku_name')[target].min().round().astype('int16')\n",
    "\n",
    "        tmp[idx_2] = df_train['sku_name'].iloc[idx_2].map(target_min)\n",
    "    df_train['sku_name'+target+'enc2'] = tmp\n",
    "    # from sklearn.model_selection import KFold\n",
    "    tmp = np.repeat(np.nan, df_train.shape[0])\n",
    "    kf = KFold(n_splits = 5, shuffle=True,random_state = 19910325)\n",
    "    for idx_1, idx_2 in kf.split(df_train):\n",
    "        target_std = df_train.iloc[idx_1].groupby('sku_name')[target].std()\n",
    "\n",
    "        tmp[idx_2] = df_train['sku_name'].iloc[idx_2].map(target_std)\n",
    "    df_train['sku_name'+target+'enc3'] = tmp\n",
    "    df_train['sku_name'+target+'enc'].fillna((df_train['sku_name'+target+'enc'].mean().round().astype('int16')), inplace=True)\n",
    "    df_train['sku_name'+target+'enc1'].fillna((df_train['sku_name'+target+'enc1'].mean().round().astype('int16')), inplace=True)\n",
    "    df_train['sku_name'+target+'enc2'].fillna((df_train['sku_name'+target+'enc2'].mean().round().astype('int16')), inplace=True)\n",
    "    df_train['sku_name'+target+'enc3'].fillna((df_train['sku_name'+target+'enc3'].mean()), inplace=True)\n",
    "    df_train['sku_name'+target+'enc4'].fillna((df_train['sku_name'+target+'enc4'].mean().round().astype('int16').round().astype('int16')), inplace=True)\n",
    "    df_train['sku_name'+target+'enc5'].fillna((df_train['sku_name'+target+'enc5'].mean().round().astype('int16')), inplace=True)\n",
    "    df_train['sku_name'+target+'enc6'].fillna((df_train['sku_name'+target+'enc6'].mean().round().astype('int16')), inplace=True)\n",
    "    return df_train, df_test\n",
    "# train.groupby(['sku_name','month'])[sellin[0]].sum().reset_index().pivot(index='sku_name', columns='month',values = 'sellin').idxmax(axis = 1) # other encoding\n",
    "# train.groupby(['sku_name','month'])[sellin[0]].sum().reset_index().pivot(index='sku_name', columns='month',values = 'sellin').idxmin(axis = 1).reset_index() # other encoding\n",
    "    "
   ]
  },
  {
   "cell_type": "code",
   "execution_count": 271,
   "metadata": {
    "execution": {
     "iopub.execute_input": "2022-08-17T02:49:26.719519Z",
     "iopub.status.busy": "2022-08-17T02:49:26.718639Z",
     "iopub.status.idle": "2022-08-17T02:49:59.763580Z",
     "shell.execute_reply": "2022-08-17T02:49:59.762291Z",
     "shell.execute_reply.started": "2022-08-17T02:49:26.719479Z"
    }
   },
   "outputs": [],
   "source": [
    "df_train,df_test = target_encode(df_train,df_test,'sellin')\n",
    "df_train,df_test = target_encode(df_train,df_test,'sellout')\n",
    "# df_train,df_test = target_encode_p(df_train,df_test,'price0')\n",
    "# df_train,df_test = target_encode_p(df_train,df_test,'price1')\n",
    "# df_train,df_test = target_encode_p(df_train,df_test,'price2')\n",
    "# df_train,df_test = target_encode_p(df_train,df_test,'price3')\n",
    "df_train,df_test = target_encode(df_train,df_test,'price')\n",
    "\n",
    "# df_train,df_test = target_encode(df_train,df_test,'starting_inventory')\n",
    "df_train,df_test = target_encode(df_train,df_test,'leftover_inventory')\n",
    "pcl = df_train.groupby(['sku_name','year','month'])['product_lifecycle_stage'].apply(lambda x : x.unique()[0]).reset_index()\n",
    "pcl_test = df_train.groupby('sku_name')['product_lifecycle_stage'].apply(lambda x:x.values[-1])\n",
    "df_train.drop('product_lifecycle_stage',axis = 1,inplace = True)\n",
    "new_target = df_train.groupby(['sku_name','year','month'])['sellin'].sum().reset_index()\n",
    "df_train = df_train.merge(pcl,on = ['sku_name','year','month'],how = 'left')\n",
    "df_test['product_lifecycle_stage'] = df_test['sku_name'].map(pcl_test)\n",
    "target = 'sellin'\n",
    "prediction_columns = df_test.columns.tolist()\n",
    "encoding_columns = [t for t in df_train.columns if t not in prediction_columns]\n",
    "# X = df_train.drop(encoding_columns+[target],axis=1)\n",
    "# y = df_train[target]\n",
    "df_train = df_train.drop([target],axis=1).merge(new_target,on = ['sku_name','year','month'],how = 'left').drop_duplicates()"
   ]
  },
  {
   "cell_type": "code",
   "execution_count": null,
   "metadata": {},
   "outputs": [],
   "source": []
  },
  {
   "cell_type": "code",
   "execution_count": null,
   "metadata": {},
   "outputs": [],
   "source": []
  },
  {
   "cell_type": "code",
   "execution_count": 272,
   "metadata": {
    "execution": {
     "iopub.execute_input": "2022-08-17T02:49:59.765966Z",
     "iopub.status.busy": "2022-08-17T02:49:59.765561Z",
     "iopub.status.idle": "2022-08-17T02:49:59.778565Z",
     "shell.execute_reply": "2022-08-17T02:49:59.777400Z",
     "shell.execute_reply.started": "2022-08-17T02:49:59.765933Z"
    }
   },
   "outputs": [],
   "source": [
    "# df_test\n",
    "# def rowIndex(row):\n",
    "#     return row.name\n",
    "def last_known_sellin(df_train,df_test):\n",
    "#     months_train = \n",
    "# df_train.iloc[1:].apply(rowIndex,axis= 1)-1\n",
    "    ma = df_train.groupby('sku_name').apply(lambda x : np.median(x))\n",
    "    df_train['medians'] = df_train['sku_name'].map(ma)\n",
    "    a = df_train.merge(df_train.shift(1)[['sku_name','year','month','sellin']] ,left_index = True,right_index = True,suffixes = (None,'_old'))\n",
    "    b = df_test.merge(df_train.loc[df_train.sku_name.isin(df_test.sku_name)].groupby('sku_name').apply(lambda x:x.iloc[-1])[['year','month','sellin']].reset_index(),\n",
    "                 on = 'sku_name',how = 'left', suffixes = (None,'_old'))\n",
    "    a['sellin_old'] = np.where(a['sku_name'] == a['sku_name_old'], a['sellin_old'] , np.nan)\n",
    "    a['month_old'] = np.where(a['sku_name'] == a['sku_name_old'], a['month_old'] , np.nan)\n",
    "    a['year_old'] = np.where(a['sku_name'] == a['sku_name_old'], a['year_old'] , np.nan)\n",
    "    a['period_old'] = np.where(a['sku_name'] == a['sku_name_old'], (a['year']-a['year_old'])*12 + (a['month']-a['month_old']) , np.nan)\n",
    "    b['period_old'] = (b['year']-b['year_old'])*12 + (b['month']-b['month_old'])\n",
    "    b['sellin_old'] = b['sellin']\n",
    "    a['sellin_old'] = a['sellin_old'].fillna(a['medians'])\n",
    "    b['sellin_old'] = b['sellin_old'].fillna(np.median(a['medians'].values))\n",
    "    a.drop(['sku_name_old','medians'],axis = 1,inplace = True)\n",
    "    b.drop(['sellin'],axis = 1,inplace = True)\n",
    "    return a,b\n",
    "# df_train.shift(1)[['sku_name','year','month','sellin']] "
   ]
  },
  {
   "cell_type": "code",
   "execution_count": null,
   "metadata": {},
   "outputs": [],
   "source": []
  },
  {
   "cell_type": "code",
   "execution_count": 273,
   "metadata": {
    "execution": {
     "iopub.execute_input": "2022-08-17T02:49:59.780683Z",
     "iopub.status.busy": "2022-08-17T02:49:59.780125Z",
     "iopub.status.idle": "2022-08-17T02:49:59.841439Z",
     "shell.execute_reply": "2022-08-17T02:49:59.840416Z",
     "shell.execute_reply.started": "2022-08-17T02:49:59.780648Z"
    }
   },
   "outputs": [],
   "source": [
    "all_data = pd.concat([df_train[prediction_columns],df_test[prediction_columns]])\n",
    "le = LE()\n",
    "all_data['enc_sku'] = le.fit_transform(all_data['sku_name'])\n",
    "df_train['enc_sku'] = all_data.iloc[:df_train.shape[0]]['enc_sku']\n",
    "df_test['enc_sku'] = all_data.iloc[df_train.shape[0]:]['enc_sku']\n",
    "all_data['product_lifecycle_stage'] = all_data['product_lifecycle_stage'].fillna('U')\n",
    "le = LE()\n",
    "all_data['product_lifecycle_stage'] = le.fit_transform(all_data['product_lifecycle_stage'])\n",
    "df_train['product_lifecycle_stage'] = all_data.iloc[:df_train.shape[0]]['product_lifecycle_stage']\n",
    "df_test['product_lifecycle_stage'] = all_data.iloc[df_train.shape[0]:]['product_lifecycle_stage']"
   ]
  },
  {
   "cell_type": "code",
   "execution_count": 274,
   "metadata": {
    "execution": {
     "iopub.execute_input": "2022-08-17T02:49:59.844291Z",
     "iopub.status.busy": "2022-08-17T02:49:59.843908Z",
     "iopub.status.idle": "2022-08-17T02:50:00.045283Z",
     "shell.execute_reply": "2022-08-17T02:50:00.044145Z",
     "shell.execute_reply.started": "2022-08-17T02:49:59.844259Z"
    }
   },
   "outputs": [],
   "source": [
    "df_train = df_train.groupby(['sku_name','year','month']).mean().reset_index()"
   ]
  },
  {
   "cell_type": "code",
   "execution_count": 275,
   "metadata": {
    "execution": {
     "iopub.execute_input": "2022-08-17T02:50:00.046819Z",
     "iopub.status.busy": "2022-08-17T02:50:00.046475Z",
     "iopub.status.idle": "2022-08-17T02:50:00.868872Z",
     "shell.execute_reply": "2022-08-17T02:50:00.867888Z",
     "shell.execute_reply.started": "2022-08-17T02:50:00.046790Z"
    }
   },
   "outputs": [],
   "source": [
    "df_train,df_test = last_known_sellin(df_train,df_test)"
   ]
  },
  {
   "cell_type": "code",
   "execution_count": null,
   "metadata": {},
   "outputs": [],
   "source": []
  },
  {
   "cell_type": "code",
   "execution_count": 276,
   "metadata": {
    "execution": {
     "iopub.execute_input": "2022-08-17T02:50:00.871007Z",
     "iopub.status.busy": "2022-08-17T02:50:00.870642Z",
     "iopub.status.idle": "2022-08-17T02:50:00.905513Z",
     "shell.execute_reply": "2022-08-17T02:50:00.904051Z",
     "shell.execute_reply.started": "2022-08-17T02:50:00.870976Z"
    }
   },
   "outputs": [],
   "source": [
    "# df_train1/\n",
    "add_similar_products = True\n",
    "if encode_channels:\n",
    "        sku_name_channel_enc = df_train.groupby('sku_name')[sellin[1:]].max().idxmax(axis=1) # other encoding\n",
    "        sku_name_channel_enc1 = df_train.groupby('sku_name')[sellin[1:]].min().idxmin(axis=1)# train.groupby('sku_name')[sellin[1:]].min().idxmin(axis=1) # other encoding\n",
    "        df_train['sku_name_channel_enc'] = df_train['sku_name'].map(sku_name_channel_enc)\n",
    "        df_train['sku_name_channel_enc1'] = df_train['sku_name'].map(sku_name_channel_enc1)\n",
    "        df_test['sku_name_channel_enc'] = df_test['sku_name'].map(sku_name_channel_enc)\n",
    "        df_test['sku_name_channel_enc1'] = df_test['sku_name'].map(sku_name_channel_enc1)\n",
    "        df_test['sku_name_channel_enc1'].fillna('sellin_channel_1', inplace=True)\n",
    "        df_test['sku_name_channel_enc'].fillna('sellin_channel_4', inplace=True)\n",
    "        le = LE()\n",
    "        df_train['sku_name_channel_enc1'] = le.fit_transform(df_train['sku_name_channel_enc1'])\n",
    "        df_test['sku_name_channel_enc1'] = le.transform(df_test['sku_name_channel_enc1'])\n",
    "        le = LE()\n",
    "        df_train['sku_name_channel_enc'] = le.fit_transform(df_train['sku_name_channel_enc'])\n",
    "        df_test['sku_name_channel_enc'] = le.transform(df_test['sku_name_channel_enc'])\n",
    "if add_pivotal_sum:\n",
    "        cols = ['month_'+str(i+1) for i in range(12) ]\n",
    "        exp = df_train.groupby(['sku_name','month'])[sellin[0]].sum().reset_index().pivot(index='sku_name', columns='month',values = 'sellin').reset_index()\n",
    "        exp.columns = ['sku_name']+ cols\n",
    "        from sklearn.impute import KNNImputer\n",
    "#         imputer = KNNImputer(n_neighbors=5)\n",
    "#         exp[cols] = imputer.fit_transform(exp[cols])\n",
    "#         exp.fillna(0,inplace = True)\n",
    "        exp.set_index('sku_name',inplace = True)\n",
    "        for c in cols:\n",
    "            df_test['sku_name_target_enc_sum_'+c] = df_test['sku_name'].map(exp[c])\n",
    "            tmp = np.repeat(np.nan, df_train.shape[0])\n",
    "            kf = KFold(n_splits = 5, shuffle=True,random_state = 1991032)\n",
    "            for idx_1, idx_2 in kf.split(df_train):\n",
    "                exp2 = df_train.iloc[idx_1].groupby(['sku_name','month'])[sellin[0]].sum().reset_index().pivot(index='sku_name', columns='month',values = 'sellin').reset_index()\n",
    "                exp2.columns = ['sku_name']+ cols\n",
    "#                 imputer = KNNImputer(n_neighbors=20)\n",
    "#                 exp2[cols] = imputer.fit_transform(exp2[cols])\n",
    "                exp2.set_index('sku_name',inplace = True)\n",
    "\n",
    "                tmp[idx_2] = df_train['sku_name'].iloc[idx_2].map(exp2[c])\n",
    "                df_train['sku_name_target_enc_sum_'+c] = tmp\n",
    "        imputer = KNNImputer(n_neighbors=20)\n",
    "        df_train[['sku_name_target_enc_sum_'+j for j in cols]] = imputer.fit_transform(df_train[['sku_name_target_enc_sum_'+j for j in cols]])\n",
    "if add_pivotal_min:\n",
    "        cols = ['month_'+str(i+1) for i in range(12) ]\n",
    "        exp = df_train.groupby(['sku_name','month'])[sellin[0]].min().reset_index().pivot(index='sku_name', columns='month',values = 'sellin').reset_index()\n",
    "        exp.columns = ['sku_name']+ cols\n",
    "        from sklearn.impute import KNNImputer\n",
    "#         imputer = KNNImputer(n_neighbors=5)\n",
    "#         exp[cols] = imputer.fit_transform(exp[cols])\n",
    "#         exp.fillna(0,inplace = True)\n",
    "    \n",
    "        \n",
    "        exp.set_index('sku_name',inplace = True)\n",
    "        for c in cols:\n",
    "            df_test['sku_name_target_enc_min_'+c] = df_test['sku_name'].map(exp[c])\n",
    "            tmp = np.repeat(np.nan, df_train.shape[0])\n",
    "            kf = KFold(n_splits = 5, shuffle=True,random_state = 1910325)\n",
    "            for idx_1, idx_2 in kf.split(df_train):\n",
    "                exp2 = df_train.iloc[idx_1].groupby(['sku_name','month'])[sellin[0]].min().reset_index().pivot(index='sku_name', columns='month',values = 'sellin').reset_index()\n",
    "                exp2.columns = ['sku_name']+ cols\n",
    "#                 imputer = KNNImputer(n_neighbors=5)\n",
    "#                 exp2[cols] = imputer.fit_transform(exp2[cols])\n",
    "                exp2.set_index('sku_name',inplace = True)\n",
    "\n",
    "                tmp[idx_2] = df_train['sku_name'].iloc[idx_2].map(exp2[c])\n",
    "                df_train['sku_name_target_enc_min_'+c] = tmp\n",
    "        imputer = KNNImputer(n_neighbors=20)\n",
    "        df_train[['sku_name_target_enc_min_'+j for j in cols]] = imputer.fit_transform(df_train[['sku_name_target_enc_min_'+j for j in cols]])\n",
    "if add_pivotal_max:\n",
    "        cols = ['month_'+str(i+1) for i in range(12) ]\n",
    "        exp = df_train.groupby(['sku_name','month'])[sellin[0]].max().reset_index().pivot(index='sku_name', columns='month',values = 'sellin').reset_index()\n",
    "        exp.columns = ['sku_name']+ cols\n",
    "        from sklearn.impute import KNNImputer\n",
    "#         exp.fillna(0,inplace = True)\n",
    "\n",
    "        exp.set_index('sku_name',inplace = True)\n",
    "        for c in cols:\n",
    "            df_test['sku_name_target_enc_max_'+c] = df_test['sku_name'].map(exp[c])\n",
    "            tmp = np.repeat(np.nan, df_train.shape[0])\n",
    "            kf = KFold(n_splits = 5, shuffle=True,random_state = 9910325)\n",
    "            for idx_1, idx_2 in kf.split(df_train):\n",
    "                exp2 = df_train.iloc[idx_1].groupby(['sku_name','month'])[sellin[0]].max().reset_index().pivot(index='sku_name', columns='month',values = 'sellin').reset_index()\n",
    "                exp2.columns = ['sku_name']+ cols\n",
    "#                 imputer = KNNImputer(n_neighbors=5)\n",
    "#                 exp2[cols] = imputer.fit_transform(exp2[cols])\n",
    "                exp2.set_index('sku_name',inplace = True)\n",
    "\n",
    "                tmp[idx_2] = df_train['sku_name'].iloc[idx_2].map(exp2[c])\n",
    "                df_train['sku_name_target_enc_max_'+c] = tmp\n",
    "        imputer = KNNImputer(n_neighbors=20)\n",
    "        df_train[['sku_name_target_enc_max_'+j for j in cols]] = imputer.fit_transform(df_train[['sku_name_target_enc_max_'+j for j in cols]])\n",
    "\n",
    "if add_similar_month:\n",
    "        df_train['new_index'] = df_train['sku_name']+'_'+df_train['month'].astype(str)\n",
    "        df_test['new_index'] = df_test['sku_name']+'_'+df_test['month'].astype(str)\n",
    "        new_df = df_train.groupby('new_index')['sellin'].mean()\n",
    "        df_test['sku_name_target_enc_overfit'] = df_test['new_index'].map(new_df)\n",
    "        df_test['sku_name_target_enc_overfit'].fillna((df_test['sku_name_target_enc_overfit'].mean()), inplace=True)\n",
    "        tmp = np.repeat(np.nan, df_train.shape[0])\n",
    "        kf = KFold(n_splits = 5, shuffle=True,random_state = 29910325)\n",
    "        for idx_1, idx_2 in kf.split(df_train):\n",
    "            target_mean = df_train.iloc[idx_1].groupby('new_index')['sellin'].mean()\n",
    "\n",
    "            tmp[idx_2] = df_train['new_index'].iloc[idx_2].map(target_mean)\n",
    "        df_train['sku_name_target_enc_overfit'] = tmp\n",
    "        df_train['sku_name_target_enc_overfit'].fillna((df_train['sku_name_target_enc_overfit'].mean()), inplace=True)\n",
    "        df_train.drop('new_index',axis = 1, inplace = True)\n",
    "        df_test.drop('new_index',axis = 1, inplace = True)\n",
    "# What i suppose is similar products\n",
    "\n",
    "def interpolate(Serie,strat = 'linear',c = 0):\n",
    "    missing_months = Serie['missing'][1]\n",
    "    missing_years = Serie['missing'][0]\n",
    "    flag = Serie['missing'][2]\n",
    "    if flag:\n",
    "        power = 1\n",
    "    else:\n",
    "        power = -1\n",
    "    bm = Serie['best_month']\n",
    "    if len(missing_years)>1:\n",
    "        yearly_fact = (y_fact.loc[(y_fact.best_month == bm)& (y_fact.year.isin(missing_years[1:])),'pct_change_year']+1).prod()\n",
    "    else:\n",
    "        yearly_fact = 1\n",
    "    if len(missing_months)>0:\n",
    "        monthly_fact = (fact.loc[(fact.best_month == bm)& (fact.month.isin(missing_months)),'pct_change_sellin']+1).prod()\n",
    "    else:\n",
    "        monthly_fact = 1\n",
    "    if strat == 'linear':\n",
    "        return ((monthly_fact)**power)*yearly_fact*Serie['sellin_old']\n",
    "    if strat == 'constant':\n",
    "        return c*Serie['sellin_old']\n",
    "def missing_years(y,m,y_o,m_o):\n",
    "    flag = True\n",
    "    if (m_o>m )and not ((m_o == 12) & (m ==1 )):\n",
    "        flag = False\n",
    "    flag2 = False\n",
    "    if ((m_o == 12) & (m ==1 )) & (y_o+1 == y):\n",
    "        flag2 = True\n",
    "    missing_y = []\n",
    "    while y>y_o:\n",
    "        missing_y.append(y_o)\n",
    "        y_o=y_o+1\n",
    "    missing_m = []\n",
    "    if flag:\n",
    "        while m>m_o+1:\n",
    "            m_o=m_o+1\n",
    "            missing_m.append(m_o)\n",
    "            \n",
    "    else:\n",
    "            while m<m_o and not ((m_o == 12) & (m ==1 )):\n",
    "                m_o=m_o-1\n",
    "                missing_m.append(m_o-1)\n",
    "    if (len(missing_y)==0) & (len(missing_m)==0):\n",
    "        return np.nan\n",
    "    elif flag2:\n",
    "        return 0\n",
    "    else:\n",
    "        return np.array(missing_y),np.array(missing_m),flag"
   ]
  },
  {
   "cell_type": "code",
   "execution_count": 277,
   "metadata": {
    "execution": {
     "iopub.execute_input": "2022-08-17T02:50:00.907293Z",
     "iopub.status.busy": "2022-08-17T02:50:00.906904Z",
     "iopub.status.idle": "2022-08-17T02:50:00.954411Z",
     "shell.execute_reply": "2022-08-17T02:50:00.952965Z",
     "shell.execute_reply.started": "2022-08-17T02:50:00.907265Z"
    }
   },
   "outputs": [],
   "source": [
    "groups = df_train.groupby(['sku_name','month'])['sellin'].sum().reset_index().pivot(index = 'sku_name',columns = 'month', values = 'sellin').idxmax(axis = 1)"
   ]
  },
  {
   "cell_type": "code",
   "execution_count": 278,
   "metadata": {
    "execution": {
     "iopub.execute_input": "2022-08-17T02:50:00.956344Z",
     "iopub.status.busy": "2022-08-17T02:50:00.956004Z",
     "iopub.status.idle": "2022-08-17T02:50:00.984404Z",
     "shell.execute_reply": "2022-08-17T02:50:00.983509Z",
     "shell.execute_reply.started": "2022-08-17T02:50:00.956315Z"
    }
   },
   "outputs": [],
   "source": [
    "df_test['best_month'] = df_test['sku_name'].map(groups)\n",
    "df_train['best_month'] = df_train['sku_name'].map(groups).astype('int')\n",
    "df_test['best_month'].fillna(10,inplace = True)\n",
    "df_test['best_month'] = df_test['best_month'].astype('int')\n",
    "df_test['period_old'] = df_test['period_old'].fillna(0).astype('int')\n",
    "df_train['period_old'] = df_train['period_old'].fillna(0).astype('int')\n",
    "\n",
    "# groups.shape"
   ]
  },
  {
   "cell_type": "code",
   "execution_count": null,
   "metadata": {},
   "outputs": [],
   "source": []
  },
  {
   "cell_type": "code",
   "execution_count": null,
   "metadata": {},
   "outputs": [],
   "source": []
  },
  {
   "cell_type": "code",
   "execution_count": 279,
   "metadata": {
    "execution": {
     "iopub.execute_input": "2022-08-17T02:50:00.986022Z",
     "iopub.status.busy": "2022-08-17T02:50:00.985691Z",
     "iopub.status.idle": "2022-08-17T02:50:01.005680Z",
     "shell.execute_reply": "2022-08-17T02:50:01.004402Z",
     "shell.execute_reply.started": "2022-08-17T02:50:00.985991Z"
    }
   },
   "outputs": [],
   "source": [
    "\n",
    "df_train1 = df_train.copy()\n",
    "df_test1 = df_test.copy()\n",
    "df_train1['pct_change_sellin'] = df_train1.groupby('sku_name')['sellin'].pct_change().fillna(0)\n",
    "fact = df_train1[['sku_name','month','year','best_month','pct_change_sellin']].groupby(['best_month','month'])['pct_change_sellin'].mean().reset_index()\n",
    "for m in [11,12,1]:\n",
    "    for bm in range(1,13):\n",
    "        if m==12:\n",
    "            M = 1\n",
    "        else:\n",
    "            M = m+1\n",
    "        df_test.loc[(df_test.best_month == bm)& (df_test.month == M),'sellin_old' ] = df_test.loc[(df_test.best_month == bm)& (df_test.month == M),'sellin_old' ]* (fact.loc[(fact.best_month == bm)& (fact.month == m),'pct_change_sellin'].values+1)\n",
    "a = df_train1[df_train1.year<2021].groupby(['sku_name','year'])['sellin'].mean().reset_index()\n",
    "b = a.groupby('sku_name')['sellin'].pct_change().fillna(0)/a.groupby('sku_name')['year'].diff().fillna(0)\n",
    "a['pct_change_year'] = b.fillna(0)\n",
    "df_train1 = df_train1.merge(a[['sku_name','year','pct_change_year']], on = ['sku_name','year'],how = 'left')\n",
    "y_fact = df_train1[df_train1.year<2021].groupby(['best_month','year'])['pct_change_year'].mean().reset_index().fillna(0)\n",
    "c = df_train1.apply(lambda x : missing_years(x['year'],x['month'],x['year_old'],x['month_old']),axis = 1)\n",
    "df_train1['missing'] = c\n",
    "pct_ch = []\n",
    "for m in range(1,13):\n",
    "    pct_ch.append(((y_fact.loc[(y_fact.best_month == m)& (y_fact.year == 2019) ,'pct_change_year'].values - y_fact.loc[(y_fact.best_month == m)& (y_fact.year == 2018) ,'pct_change_year'].values)*2 + y_fact.loc[(y_fact.best_month == m)& (y_fact.year == 2018) ,'pct_change_year'].values)[0]) \n",
    "new_2020 = pd.DataFrame({'best_month' : list(range(1,13)) ,\n",
    "                         'pct_change_year' : np.array(pct_ch),\n",
    "                        'year' : 2020})\n",
    "y_fact = pd.concat([new_2020,y_fact]).sort_values(by = ['best_month','year']).reset_index(drop = True)\n",
    "df_train1.loc[(df_train1.missing.notna())&(df_train1.missing!=0),'sellin_old'] = df_train1.loc[(df_train1.missing.notna())&(df_train1.missing!=0)].apply(lambda x : interpolate(x,strat = 'constant'),axis = 1)\n",
    "df_train = df_train1.drop(['year_old','month_old','pct_change_sellin','pct_change_year','missing'],axis = 1)"
   ]
  },
  {
   "cell_type": "code",
   "execution_count": 254,
   "metadata": {
    "execution": {
     "iopub.execute_input": "2022-08-17T02:39:28.897528Z",
     "iopub.status.busy": "2022-08-17T02:39:28.896656Z",
     "iopub.status.idle": "2022-08-17T02:39:28.908663Z",
     "shell.execute_reply": "2022-08-17T02:39:28.907575Z",
     "shell.execute_reply.started": "2022-08-17T02:39:28.897485Z"
    }
   },
   "outputs": [],
   "source": [
    "# # df\n",
    "# # c# df_train1.iloc[43231][['year','month','year_old','month_old','period_old']]\n",
    "# # df_train1.loc[df_train1.period_old==3]\n",
    "# def interpolate(Serie):\n",
    "#     missing_months = Serie['missing'][1]\n",
    "#     missing_years = Serie['missing'][0]\n",
    "#     flag = Serie['missing'][2]\n",
    "#     if flag:\n",
    "#         power = 1\n",
    "#     else:\n",
    "#         power = -1\n",
    "#     bm = Serie['best_month']\n",
    "#     if len(missing_years)>1:\n",
    "#         yearly_fact = (y_fact.loc[(y_fact.best_month == bm)& (y_fact.year.isin(missing_years[1:])),'pct_change_year']+1).prod()\n",
    "#     else:\n",
    "#         yearly_fact = 1\n",
    "#     if len(missing_months)>0:\n",
    "#         monthly_fact = (fact.loc[(fact.best_month == bm)& (fact.month.isin(missing_months)),'pct_change_sellin']+1).prod()\n",
    "#     else:\n",
    "#         monthly_fact = 1\n",
    "    \n",
    "#     return ((monthly_fact)**power)*yearly_fact*Serie['sellin_old']"
   ]
  },
  {
   "cell_type": "code",
   "execution_count": 280,
   "metadata": {},
   "outputs": [],
   "source": [
    "df_test.drop(['year_old','month_old'],axis = 1,inplace= True)"
   ]
  },
  {
   "cell_type": "code",
   "execution_count": 281,
   "metadata": {
    "execution": {
     "iopub.execute_input": "2022-08-17T02:50:19.928578Z",
     "iopub.status.busy": "2022-08-17T02:50:19.928142Z",
     "iopub.status.idle": "2022-08-17T02:50:20.002218Z",
     "shell.execute_reply": "2022-08-17T02:50:20.000891Z",
     "shell.execute_reply.started": "2022-08-17T02:50:19.928520Z"
    }
   },
   "outputs": [],
   "source": [
    "scale = df_test.select_dtypes(include = 'float64').columns.tolist()\n",
    "from sklearn.preprocessing import RobustScaler\n",
    "rs = RobustScaler()\n",
    "for s in scale:\n",
    "    df_train[s] = rs.fit_transform(df_train[s].values.reshape(-1, 1))\n",
    "    df_test[s] = rs.transform(df_test[s].values.reshape(-1, 1))"
   ]
  },
  {
   "cell_type": "code",
   "execution_count": 133,
   "metadata": {},
   "outputs": [],
   "source": [
    "sku_names = df_train.sku_name.unique()"
   ]
  },
  {
   "cell_type": "code",
   "execution_count": 126,
   "metadata": {},
   "outputs": [
    {
     "data": {
      "text/plain": [
       "[<matplotlib.lines.Line2D at 0x2190e565908>]"
      ]
     },
     "execution_count": 126,
     "metadata": {},
     "output_type": "execute_result"
    },
    {
     "data": {
      "image/png": "[encoded data removed]",
      "text/plain": [
       "<Figure size 432x288 with 1 Axes>"
      ]
     },
     "metadata": {
      "needs_background": "light"
     },
     "output_type": "display_data"
    }
   ],
   "source": [
    "i = 3\n",
    "x = df_train[df_train.sku_name == df_test.sku_name.unique()[i]]['sellin'].reset_index(drop =True)\n",
    "y = x.index\n",
    "x1 = df_test[df_test.sku_name == df_test.sku_name.unique()[i]]['sellin_old'].reset_index(drop =True)\n",
    "y1 = range(x.index.stop-1, x.index.stop+x1.shape[0]-1)\n",
    "# y = df_train[df_train.sku_name == df_test.sku_name.unique()[i]]['sellin_old'].reset_index(drop =True)\n",
    "# plt.plot()\n",
    "plt.plot(y,x)\n",
    "plt.plot(y1,x1)\n",
    "# df_train"
   ]
  },
  {
   "cell_type": "code",
   "execution_count": 182,
   "metadata": {},
   "outputs": [],
   "source": [
    "# df_test[df_test.sku_name == df_test.sku_name.unique()[i]][['year','month','sellin_old']]\n",
    "def generate_matrix_cluster(dataframe, n = 300, seed = 42):\n",
    "    \"\"\" Clustering of time series based on dynamic time warp \"\"\"\n",
    "    \n",
    "    np.random.seed(seed)\n",
    "    matrix = []\n",
    "\n",
    "    for sku_name in tqdm(sku_names):\n",
    "        df_ = dataframe.loc[dataframe.sku_name == sku_name, ['time_step', 'sellin']]\n",
    "        matrix.append(np.array(pd.Series(df_.sellin.values, index=df_.time_step.values)))\n",
    "        \n",
    "    matrix = np.matrix(matrix)[:,:,np.newaxis]\n",
    "    \n",
    "    return matrix\n"
   ]
  },
  {
   "cell_type": "code",
   "execution_count": 150,
   "metadata": {},
   "outputs": [],
   "source": [
    "years = list(range(2016,2022))\n",
    "ids = df_train.sku_name.unique().tolist()\n",
    "months = list(range(1,13))"
   ]
  },
  {
   "cell_type": "code",
   "execution_count": 176,
   "metadata": {},
   "outputs": [],
   "source": [
    "new_frame = pd.DataFrame({'sku_name':np.repeat(ids,len(years)*len(months)),\n",
    "                         'month':months*len(ids)*len(years),\n",
    "                         'year':np.repeat(years,len(months)).tolist()*len(ids),\n",
    "                         'time_step': list(range(len(years)*len(months)))*len(ids)})"
   ]
  },
  {
   "cell_type": "code",
   "execution_count": 170,
   "metadata": {},
   "outputs": [],
   "source": [
    "# np.repeat(years,len(months)).tolist()"
   ]
  },
  {
   "cell_type": "code",
   "execution_count": 173,
   "metadata": {},
   "outputs": [],
   "source": [
    "# new_frame.loc[new_frame.sku_name == new_frame.sku_name.unique()[1]]"
   ]
  },
  {
   "cell_type": "code",
   "execution_count": 180,
   "metadata": {},
   "outputs": [],
   "source": [
    "new_frame = new_frame.sort_values(by = ['sku_name','year','month']).reset_index(drop =True).merge(df_train[['sku_name','year','month','sellin']],how = 'left', on = ['sku_name','year','month']).fillna(0)"
   ]
  },
  {
   "cell_type": "code",
   "execution_count": 183,
   "metadata": {},
   "outputs": [
    {
     "name": "stderr",
     "output_type": "stream",
     "text": [
      "100%|██████████████████████████████████████████████████████████████████████████████| 3868/3868 [01:24<00:00, 45.97it/s]\n"
     ]
    }
   ],
   "source": [
    "# import warnings\n",
    "# warnings.filterwarnings('ignore')\n",
    "\n",
    "# from tqdm import tqdm\n",
    "# import pandas as pd\n",
    "# import numpy as np\n",
    "# import itertools\n",
    "# import pprint\n",
    "# import random\n",
    "# import os\n",
    "\n",
    "# from plotly.offline import iplot, init_notebook_mode\n",
    "# from plotly.subplots import make_subplots\n",
    "# import plotly.graph_objects as go\n",
    "# import matplotlib.pyplot as plt\n",
    "# import plotly.express as px\n",
    "# from plotly import tools\n",
    "# import plotly.io as pio\n",
    "\n",
    "# !pip install tslearn\n",
    "# from tslearn.clustering import TimeSeriesKMeans\n",
    "# from sklearn.model_selection import KFold\n",
    "\n",
    "# pp = pprint.PrettyPrinter(indent=4)\n",
    "# pio.templates.default = \"plotly_white\"\n",
    "\n",
    "# from tqdm import tqdm\n",
    "def run_clustering(matrix):\n",
    "    \"\"\" Perform KMeans on matrix of time series \"\"\"\n",
    "    \n",
    "    model = TimeSeriesKMeans(n_clusters=3, metric=\"dtw\", max_iter=10)\n",
    "    model.fit(matrix.squeeze())\n",
    "    \n",
    "    return model\n",
    "\n",
    "matrix = generate_matrix_cluster(new_frame)\n",
    "cluster_p_model = run_clustering(matrix)"
   ]
  },
  {
   "cell_type": "code",
   "execution_count": 148,
   "metadata": {},
   "outputs": [
    {
     "ename": "ValueError",
     "evalue": "setting an array element with a sequence.",
     "output_type": "error",
     "traceback": [
      "\u001b[1;31m---------------------------------------------------------------------------\u001b[0m",
      "\u001b[1;31mTypeError\u001b[0m                                 Traceback (most recent call last)",
      "\u001b[1;31mTypeError\u001b[0m: only size-1 arrays can be converted to Python scalars",
      "\nThe above exception was the direct cause of the following exception:\n",
      "\u001b[1;31mValueError\u001b[0m                                Traceback (most recent call last)",
      "\u001b[1;32m<ipython-input-148-37f06ab39e5b>\u001b[0m in \u001b[0;36m<module>\u001b[1;34m\u001b[0m\n\u001b[0;32m      1\u001b[0m \u001b[1;31m# matrix.squeeze().squeeze().shape\u001b[0m\u001b[1;33m\u001b[0m\u001b[1;33m\u001b[0m\u001b[1;33m\u001b[0m\u001b[0m\n\u001b[0;32m      2\u001b[0m \u001b[0mmodel\u001b[0m \u001b[1;33m=\u001b[0m \u001b[0mTimeSeriesKMeans\u001b[0m\u001b[1;33m(\u001b[0m\u001b[0mn_clusters\u001b[0m\u001b[1;33m=\u001b[0m\u001b[1;36m3\u001b[0m\u001b[1;33m,\u001b[0m \u001b[0mmetric\u001b[0m\u001b[1;33m=\u001b[0m\u001b[1;34m\"dtw\"\u001b[0m\u001b[1;33m,\u001b[0m \u001b[0mmax_iter\u001b[0m\u001b[1;33m=\u001b[0m\u001b[1;36m10\u001b[0m\u001b[1;33m)\u001b[0m\u001b[1;33m\u001b[0m\u001b[1;33m\u001b[0m\u001b[0m\n\u001b[1;32m----> 3\u001b[1;33m \u001b[0mmodel\u001b[0m\u001b[1;33m.\u001b[0m\u001b[0mfit\u001b[0m\u001b[1;33m(\u001b[0m\u001b[0mmatrix\u001b[0m\u001b[1;33m)\u001b[0m\u001b[1;33m\u001b[0m\u001b[1;33m\u001b[0m\u001b[0m\n\u001b[0m",
      "\u001b[1;32m~\\AppData\\Local\\Continuum\\anaconda3\\lib\\site-packages\\tslearn\\clustering\\kmeans.py\u001b[0m in \u001b[0;36mfit\u001b[1;34m(self, X, y)\u001b[0m\n\u001b[0;32m    739\u001b[0m         \"\"\"\n\u001b[0;32m    740\u001b[0m \u001b[1;33m\u001b[0m\u001b[0m\n\u001b[1;32m--> 741\u001b[1;33m         \u001b[0mX\u001b[0m \u001b[1;33m=\u001b[0m \u001b[0mcheck_array\u001b[0m\u001b[1;33m(\u001b[0m\u001b[0mX\u001b[0m\u001b[1;33m,\u001b[0m \u001b[0mallow_nd\u001b[0m\u001b[1;33m=\u001b[0m\u001b[1;32mTrue\u001b[0m\u001b[1;33m,\u001b[0m \u001b[0mforce_all_finite\u001b[0m\u001b[1;33m=\u001b[0m\u001b[1;34m'allow-nan'\u001b[0m\u001b[1;33m)\u001b[0m\u001b[1;33m\u001b[0m\u001b[1;33m\u001b[0m\u001b[0m\n\u001b[0m\u001b[0;32m    742\u001b[0m \u001b[1;33m\u001b[0m\u001b[0m\n\u001b[0;32m    743\u001b[0m         \u001b[1;32mif\u001b[0m \u001b[0mhasattr\u001b[0m\u001b[1;33m(\u001b[0m\u001b[0mself\u001b[0m\u001b[1;33m.\u001b[0m\u001b[0minit\u001b[0m\u001b[1;33m,\u001b[0m \u001b[1;34m'__array__'\u001b[0m\u001b[1;33m)\u001b[0m\u001b[1;33m:\u001b[0m\u001b[1;33m\u001b[0m\u001b[1;33m\u001b[0m\u001b[0m\n",
      "\u001b[1;32m~\\AppData\\Local\\Continuum\\anaconda3\\lib\\site-packages\\sklearn\\utils\\validation.py\u001b[0m in \u001b[0;36minner_f\u001b[1;34m(*args, **kwargs)\u001b[0m\n\u001b[0;32m     71\u001b[0m                           FutureWarning)\n\u001b[0;32m     72\u001b[0m         \u001b[0mkwargs\u001b[0m\u001b[1;33m.\u001b[0m\u001b[0mupdate\u001b[0m\u001b[1;33m(\u001b[0m\u001b[1;33m{\u001b[0m\u001b[0mk\u001b[0m\u001b[1;33m:\u001b[0m \u001b[0marg\u001b[0m \u001b[1;32mfor\u001b[0m \u001b[0mk\u001b[0m\u001b[1;33m,\u001b[0m \u001b[0marg\u001b[0m \u001b[1;32min\u001b[0m \u001b[0mzip\u001b[0m\u001b[1;33m(\u001b[0m\u001b[0msig\u001b[0m\u001b[1;33m.\u001b[0m\u001b[0mparameters\u001b[0m\u001b[1;33m,\u001b[0m \u001b[0margs\u001b[0m\u001b[1;33m)\u001b[0m\u001b[1;33m}\u001b[0m\u001b[1;33m)\u001b[0m\u001b[1;33m\u001b[0m\u001b[1;33m\u001b[0m\u001b[0m\n\u001b[1;32m---> 73\u001b[1;33m         \u001b[1;32mreturn\u001b[0m \u001b[0mf\u001b[0m\u001b[1;33m(\u001b[0m\u001b[1;33m**\u001b[0m\u001b[0mkwargs\u001b[0m\u001b[1;33m)\u001b[0m\u001b[1;33m\u001b[0m\u001b[1;33m\u001b[0m\u001b[0m\n\u001b[0m\u001b[0;32m     74\u001b[0m     \u001b[1;32mreturn\u001b[0m \u001b[0minner_f\u001b[0m\u001b[1;33m\u001b[0m\u001b[1;33m\u001b[0m\u001b[0m\n\u001b[0;32m     75\u001b[0m \u001b[1;33m\u001b[0m\u001b[0m\n",
      "\u001b[1;32m~\\AppData\\Local\\Continuum\\anaconda3\\lib\\site-packages\\sklearn\\utils\\validation.py\u001b[0m in \u001b[0;36mcheck_array\u001b[1;34m(array, accept_sparse, accept_large_sparse, dtype, order, copy, force_all_finite, ensure_2d, allow_nd, ensure_min_samples, ensure_min_features, estimator)\u001b[0m\n\u001b[0;32m    597\u001b[0m                     \u001b[0marray\u001b[0m \u001b[1;33m=\u001b[0m \u001b[0marray\u001b[0m\u001b[1;33m.\u001b[0m\u001b[0mastype\u001b[0m\u001b[1;33m(\u001b[0m\u001b[0mdtype\u001b[0m\u001b[1;33m,\u001b[0m \u001b[0mcasting\u001b[0m\u001b[1;33m=\u001b[0m\u001b[1;34m\"unsafe\"\u001b[0m\u001b[1;33m,\u001b[0m \u001b[0mcopy\u001b[0m\u001b[1;33m=\u001b[0m\u001b[1;32mFalse\u001b[0m\u001b[1;33m)\u001b[0m\u001b[1;33m\u001b[0m\u001b[1;33m\u001b[0m\u001b[0m\n\u001b[0;32m    598\u001b[0m                 \u001b[1;32melse\u001b[0m\u001b[1;33m:\u001b[0m\u001b[1;33m\u001b[0m\u001b[1;33m\u001b[0m\u001b[0m\n\u001b[1;32m--> 599\u001b[1;33m                     \u001b[0marray\u001b[0m \u001b[1;33m=\u001b[0m \u001b[0mnp\u001b[0m\u001b[1;33m.\u001b[0m\u001b[0masarray\u001b[0m\u001b[1;33m(\u001b[0m\u001b[0marray\u001b[0m\u001b[1;33m,\u001b[0m \u001b[0morder\u001b[0m\u001b[1;33m=\u001b[0m\u001b[0morder\u001b[0m\u001b[1;33m,\u001b[0m \u001b[0mdtype\u001b[0m\u001b[1;33m=\u001b[0m\u001b[0mdtype\u001b[0m\u001b[1;33m)\u001b[0m\u001b[1;33m\u001b[0m\u001b[1;33m\u001b[0m\u001b[0m\n\u001b[0m\u001b[0;32m    600\u001b[0m             \u001b[1;32mexcept\u001b[0m \u001b[0mComplexWarning\u001b[0m\u001b[1;33m:\u001b[0m\u001b[1;33m\u001b[0m\u001b[1;33m\u001b[0m\u001b[0m\n\u001b[0;32m    601\u001b[0m                 raise ValueError(\"Complex data not supported\\n\"\n",
      "\u001b[1;32m~\\AppData\\Local\\Continuum\\anaconda3\\lib\\site-packages\\numpy\\core\\_asarray.py\u001b[0m in \u001b[0;36masarray\u001b[1;34m(a, dtype, order)\u001b[0m\n\u001b[0;32m     83\u001b[0m \u001b[1;33m\u001b[0m\u001b[0m\n\u001b[0;32m     84\u001b[0m     \"\"\"\n\u001b[1;32m---> 85\u001b[1;33m     \u001b[1;32mreturn\u001b[0m \u001b[0marray\u001b[0m\u001b[1;33m(\u001b[0m\u001b[0ma\u001b[0m\u001b[1;33m,\u001b[0m \u001b[0mdtype\u001b[0m\u001b[1;33m,\u001b[0m \u001b[0mcopy\u001b[0m\u001b[1;33m=\u001b[0m\u001b[1;32mFalse\u001b[0m\u001b[1;33m,\u001b[0m \u001b[0morder\u001b[0m\u001b[1;33m=\u001b[0m\u001b[0morder\u001b[0m\u001b[1;33m)\u001b[0m\u001b[1;33m\u001b[0m\u001b[1;33m\u001b[0m\u001b[0m\n\u001b[0m\u001b[0;32m     86\u001b[0m \u001b[1;33m\u001b[0m\u001b[0m\n\u001b[0;32m     87\u001b[0m \u001b[1;33m\u001b[0m\u001b[0m\n",
      "\u001b[1;31mValueError\u001b[0m: setting an array element with a sequence."
     ]
    }
   ],
   "source": [
    "# matrix.squeeze().squeeze().shape\n",
    "model = TimeSeriesKMeans(n_clusters=3, metric=\"dtw\", max_iter=10)\n",
    "model.fit(matrix)"
   ]
  },
  {
   "cell_type": "code",
   "execution_count": 184,
   "metadata": {},
   "outputs": [
    {
     "data": {
      "image/png": "[encoded data removed]",
      "text/plain": [
       "<Figure size 864x864 with 3 Axes>"
      ]
     },
     "metadata": {
      "needs_background": "light"
     },
     "output_type": "display_data"
    }
   ],
   "source": [
    "def display_ts_clusters(model, n_clusters=3):\n",
    "    \n",
    "    # plot first few images\n",
    "    plt.figure(figsize=(12,12))\n",
    "    \n",
    "    for graph_index in range(n_clusters):\n",
    "                \n",
    "        # define subplot\n",
    "        plt.subplot(330 + 1 + graph_index)\n",
    "        plt.title('Cluster No: %s \\n'%graph_index,\n",
    "                 fontsize=18)\n",
    "        \n",
    "        # plot raw pixel data\n",
    "        array_cluster = model.cluster_centers_[graph_index]\n",
    "        pd.Series(array_cluster.ravel()).plot()\n",
    "        \n",
    "    plt.subplots_adjust(bottom = 0.001)\n",
    "    plt.subplots_adjust(top = 1.25)\n",
    "    plt.show()\n",
    "    \n",
    "display_ts_clusters(cluster_p_model)\n"
   ]
  },
  {
   "cell_type": "code",
   "execution_count": 202,
   "metadata": {},
   "outputs": [
    {
     "data": {
      "text/plain": [
       "[<matplotlib.lines.Line2D at 0x219114c6a88>]"
      ]
     },
     "execution_count": 202,
     "metadata": {},
     "output_type": "execute_result"
    },
    {
     "data": {
      "image/png": "[encoded data removed]",
      "text/plain": [
       "<Figure size 432x288 with 1 Axes>"
      ]
     },
     "metadata": {
      "needs_background": "light"
     },
     "output_type": "display_data"
    }
   ],
   "source": [
    "# df_train[df_train.sku_name == df_test.sku_name.unique()[i]][['year','month','sellin','sellin_old']]\n",
    "# clust =  cluster_p_model.predict(matrix)\n",
    "# clust = pd.Series(index = ids,data = clust)\n",
    "new_frame['cluster'] = new_frame['sku_name'].map(clust)\n",
    "plt.plot(new_frame.loc[new_frame.sku_name == ids[0],'sellin'].values)\n",
    "plt.plot(new_frame.loc[new_frame.sku_name == ids[2],'sellin'].values)"
   ]
  },
  {
   "cell_type": "code",
   "execution_count": 223,
   "metadata": {},
   "outputs": [
    {
     "data": {
      "text/plain": [
       "<matplotlib.collections.PathCollection at 0x21934147248>"
      ]
     },
     "execution_count": 223,
     "metadata": {},
     "output_type": "execute_result"
    },
    {
     "data": {
      "image/png": "[encoded data removed]",
      "text/plain": [
       "<Figure size 432x288 with 1 Axes>"
      ]
     },
     "metadata": {
      "needs_background": "light"
     },
     "output_type": "display_data"
    }
   ],
   "source": [
    "# sns.distplot(new_frame.loc[new_frame.cluster == 2,'sellin'])\n",
    "# sns.distplot(new_frame.loc[new_frame.cluster == 0,'sellin'])\n",
    "plt.scatter(#x = df_train.groupby('sku_name').size().values,\n",
    "           y = df_train.groupby('sku_name')['sellin'].sum().values,\n",
    "           x = df_train.groupby('sku_name')['price'].mean().values)"
   ]
  },
  {
   "cell_type": "code",
   "execution_count": 282,
   "metadata": {
    "execution": {
     "iopub.execute_input": "2022-08-17T02:58:09.189125Z",
     "iopub.status.busy": "2022-08-17T02:58:09.187990Z",
     "iopub.status.idle": "2022-08-17T02:58:09.197199Z",
     "shell.execute_reply": "2022-08-17T02:58:09.195874Z",
     "shell.execute_reply.started": "2022-08-17T02:58:09.189071Z"
    }
   },
   "outputs": [],
   "source": [
    "def rmspe(y_true, y_pred):\n",
    "    return  np.mean(np.abs(y_true - y_pred))*1013#(np.sqrt(np.mean(np.square((y_true - y_pred) / (y_true+2)))))\n",
    "\n",
    "def feval_RMSPE(preds, lgbm_train):\n",
    "    labels = lgbm_train.get_label()\n",
    "    return 'RMSPE', round(rmspe(y_true = labels, y_pred = preds),0), False\n",
    "\n",
    "params = {\n",
    "      \"objective\": \"mae\", \n",
    "      \"metric\": \"mae\", \n",
    "      \"boosting_type\": \"gbdt\",\n",
    "      'early_stopping_rounds': 30,\n",
    "      'learning_rate': 0.01,\n",
    "#     'num_leaves': 170,\n",
    "#     'min_data_in_leaf': 10, \n",
    "#     'min_child_weight': 0.066978276178616,\n",
    "#     'max_depth': 83, \n",
    "#     'bagging_fraction': 0.6277904572518515, \n",
    "#     'feature_fraction': 0.6965518420559522, \n",
    "#     'lambda_l1': 1.6347289329468329, \n",
    "#     'lambda_l2': 0.1374430845238362 \n",
    "}"
   ]
  },
  {
   "cell_type": "code",
   "execution_count": 283,
   "metadata": {
    "execution": {
     "iopub.execute_input": "2022-08-17T02:58:09.983883Z",
     "iopub.status.busy": "2022-08-17T02:58:09.983124Z",
     "iopub.status.idle": "2022-08-17T02:58:09.989212Z",
     "shell.execute_reply": "2022-08-17T02:58:09.987976Z",
     "shell.execute_reply.started": "2022-08-17T02:58:09.983844Z"
    }
   },
   "outputs": [],
   "source": [
    "# df_train1.loc[df_train1.sku_name == df_test.sku_name.values[2]]"
   ]
  },
  {
   "cell_type": "code",
   "execution_count": 284,
   "metadata": {
    "execution": {
     "iopub.execute_input": "2022-08-17T02:58:10.521180Z",
     "iopub.status.busy": "2022-08-17T02:58:10.520577Z",
     "iopub.status.idle": "2022-08-17T02:58:10.525443Z",
     "shell.execute_reply": "2022-08-17T02:58:10.524482Z",
     "shell.execute_reply.started": "2022-08-17T02:58:10.521145Z"
    }
   },
   "outputs": [],
   "source": [
    "# df_test.loc[df_test.sku_name == df_test.sku_name.values[-1]]\n",
    "# df_test.loc[df_test.period_old.isna(),'period_old'] #= np.array([0,1,2,3])\n",
    "# df_test['period_old']"
   ]
  },
  {
   "cell_type": "code",
   "execution_count": 327,
   "metadata": {
    "execution": {
     "iopub.execute_input": "2022-08-17T02:58:11.312263Z",
     "iopub.status.busy": "2022-08-17T02:58:11.311507Z",
     "iopub.status.idle": "2022-08-17T02:58:11.381301Z",
     "shell.execute_reply": "2022-08-17T02:58:11.380337Z",
     "shell.execute_reply.started": "2022-08-17T02:58:11.312224Z"
    }
   },
   "outputs": [],
   "source": [
    "kfolds = 10\n",
    "from sklearn.model_selection import KFold,GroupKFold\n",
    "kf = KFold(n_splits=kfolds, random_state=1991028, shuffle=True)\n",
    "oof = pd.DataFrame()                 # out-of-fold result\n",
    "models = []                          # models\n",
    "scores = 0.0   \n",
    "\n",
    "features_importance= pd.DataFrame({'Feature':[], 'Importance':[]})"
   ]
  },
  {
   "cell_type": "code",
   "execution_count": 328,
   "metadata": {},
   "outputs": [],
   "source": [
    "# df_test"
   ]
  },
  {
   "cell_type": "code",
   "execution_count": 329,
   "metadata": {
    "execution": {
     "iopub.execute_input": "2022-08-17T02:58:14.682292Z",
     "iopub.status.busy": "2022-08-17T02:58:14.681119Z",
     "iopub.status.idle": "2022-08-17T02:58:14.692952Z",
     "shell.execute_reply": "2022-08-17T02:58:14.691217Z",
     "shell.execute_reply.started": "2022-08-17T02:58:14.682248Z"
    }
   },
   "outputs": [],
   "source": [
    "target = 'sellin'\n",
    "prediction_columns = df_test.columns.tolist()\n",
    "encoding_columns = [t for t in df_train.columns if t not in prediction_columns]\n",
    "X = df_train.drop(encoding_columns+[target,'sku_name',\n",
    "                                    'enc_sku','period_old','product_lifecycle_stage', 'sku_namepriceenc6', 'sku_namepriceenc5', 'sku_namepriceenc4',\n",
    "       'sku_namepriceenc', 'sku_namepriceenc1', 'sku_namepriceenc2',\n",
    "       'sku_namepriceenc3', 'sku_nameleftover_inventoryenc6',\n",
    "       'sku_nameleftover_inventoryenc5', 'sku_nameleftover_inventoryenc4',\n",
    "       'sku_nameleftover_inventoryenc', 'sku_nameleftover_inventoryenc1',\n",
    "       'sku_nameleftover_inventoryenc2', 'sku_nameleftover_inventoryenc3',\n",
    "                                    'sku_namesellinenc6', 'sku_namesellinenc5',\n",
    "       'sku_namesellinenc4', 'sku_namesellinenc', 'sku_namesellinenc1',\n",
    "       'sku_namesellinenc2', 'sku_namesellinenc3', 'sku_nameselloutenc6',\n",
    "       'sku_nameselloutenc5', 'sku_nameselloutenc4', 'sku_nameselloutenc',\n",
    "       'sku_nameselloutenc1', 'sku_nameselloutenc2', 'sku_nameselloutenc3',],axis=1)\n",
    "y = df_train[target]"
   ]
  },
  {
   "cell_type": "code",
   "execution_count": 330,
   "metadata": {
    "execution": {
     "iopub.execute_input": "2022-08-17T02:58:15.749761Z",
     "iopub.status.busy": "2022-08-17T02:58:15.749354Z",
     "iopub.status.idle": "2022-08-17T02:58:15.754679Z",
     "shell.execute_reply": "2022-08-17T02:58:15.753378Z",
     "shell.execute_reply.started": "2022-08-17T02:58:15.749727Z"
    }
   },
   "outputs": [],
   "source": [
    "# X.columns.tolist()"
   ]
  },
  {
   "cell_type": "code",
   "execution_count": 331,
   "metadata": {
    "execution": {
     "iopub.execute_input": "2022-08-17T02:58:16.839261Z",
     "iopub.status.busy": "2022-08-17T02:58:16.838836Z",
     "iopub.status.idle": "2022-08-17T03:00:51.191405Z",
     "shell.execute_reply": "2022-08-17T03:00:51.190036Z",
     "shell.execute_reply.started": "2022-08-17T02:58:16.839228Z"
    }
   },
   "outputs": [
    {
     "name": "stdout",
     "output_type": "stream",
     "text": [
      "Fold : 1\n",
      "Training until validation scores don't improve for 30 rounds\n",
      "[100]\ttraining's l1: 173.406\tvalid_1's l1: 164.993\n",
      "[200]\ttraining's l1: 152.716\tvalid_1's l1: 146.962\n",
      "[300]\ttraining's l1: 144.822\tvalid_1's l1: 140.543\n",
      "[400]\ttraining's l1: 140.556\tvalid_1's l1: 137.293\n",
      "[500]\ttraining's l1: 139.325\tvalid_1's l1: 136.514\n",
      "Early stopping, best iteration is:\n",
      "[541]\ttraining's l1: 139.231\tvalid_1's l1: 136.458\n",
      "Performance of the　prediction: , RMSPE: 138232.303\n",
      "****************************************************************************************************\n",
      "Fold : 2\n",
      "Training until validation scores don't improve for 30 rounds\n",
      "[100]\ttraining's l1: 173.337\tvalid_1's l1: 166.804\n",
      "[200]\ttraining's l1: 153.006\tvalid_1's l1: 146.621\n",
      "[300]\ttraining's l1: 145.308\tvalid_1's l1: 138.782\n",
      "[400]\ttraining's l1: 141.367\tvalid_1's l1: 135.114\n",
      "[500]\ttraining's l1: 138.655\tvalid_1's l1: 132.986\n",
      "[600]\ttraining's l1: 138.31\tvalid_1's l1: 132.699\n",
      "Early stopping, best iteration is:\n",
      "[570]\ttraining's l1: 138.318\tvalid_1's l1: 132.698\n",
      "Performance of the　prediction: , RMSPE: 134423.291\n",
      "****************************************************************************************************\n",
      "Fold : 3\n",
      "Training until validation scores don't improve for 30 rounds\n",
      "[100]\ttraining's l1: 173.438\tvalid_1's l1: 166.267\n",
      "[200]\ttraining's l1: 153.048\tvalid_1's l1: 145.796\n",
      "[300]\ttraining's l1: 145.561\tvalid_1's l1: 138.046\n",
      "[400]\ttraining's l1: 141.443\tvalid_1's l1: 133.852\n",
      "[500]\ttraining's l1: 139.84\tvalid_1's l1: 132.323\n",
      "[600]\ttraining's l1: 139.28\tvalid_1's l1: 131.819\n",
      "[700]\ttraining's l1: 139.152\tvalid_1's l1: 131.686\n",
      "[800]\ttraining's l1: 138.643\tvalid_1's l1: 131.213\n",
      "[900]\ttraining's l1: 138.473\tvalid_1's l1: 131.049\n",
      "[1000]\ttraining's l1: 136.804\tvalid_1's l1: 129.686\n",
      "[1100]\ttraining's l1: 133.299\tvalid_1's l1: 126.382\n",
      "[1200]\ttraining's l1: 131.843\tvalid_1's l1: 125.337\n",
      "[1300]\ttraining's l1: 131.248\tvalid_1's l1: 124.944\n",
      "[1400]\ttraining's l1: 130.417\tvalid_1's l1: 124.365\n",
      "Early stopping, best iteration is:\n",
      "[1449]\ttraining's l1: 130.274\tvalid_1's l1: 124.31\n",
      "Performance of the　prediction: , RMSPE: 125925.916\n",
      "****************************************************************************************************\n",
      "Fold : 4\n",
      "Training until validation scores don't improve for 30 rounds\n",
      "[100]\ttraining's l1: 171.945\tvalid_1's l1: 179.36\n",
      "[200]\ttraining's l1: 151.506\tvalid_1's l1: 159.9\n",
      "[300]\ttraining's l1: 143.625\tvalid_1's l1: 152.622\n",
      "[400]\ttraining's l1: 139.032\tvalid_1's l1: 148.772\n",
      "[500]\ttraining's l1: 137.794\tvalid_1's l1: 147.613\n",
      "[600]\ttraining's l1: 137.156\tvalid_1's l1: 147.029\n",
      "[700]\ttraining's l1: 136.837\tvalid_1's l1: 146.678\n",
      "[800]\ttraining's l1: 136.281\tvalid_1's l1: 146.175\n",
      "[900]\ttraining's l1: 135.355\tvalid_1's l1: 145.4\n",
      "[1000]\ttraining's l1: 133.612\tvalid_1's l1: 143.973\n",
      "[1100]\ttraining's l1: 131.902\tvalid_1's l1: 142.412\n",
      "[1200]\ttraining's l1: 130.719\tvalid_1's l1: 141.28\n",
      "[1300]\ttraining's l1: 130.209\tvalid_1's l1: 140.995\n",
      "[1400]\ttraining's l1: 129.777\tvalid_1's l1: 140.519\n",
      "[1500]\ttraining's l1: 129.098\tvalid_1's l1: 139.977\n",
      "[1600]\ttraining's l1: 128.194\tvalid_1's l1: 139.319\n",
      "[1700]\ttraining's l1: 127.961\tvalid_1's l1: 139.084\n",
      "[1800]\ttraining's l1: 127.7\tvalid_1's l1: 138.756\n",
      "[1900]\ttraining's l1: 127.397\tvalid_1's l1: 138.589\n",
      "[2000]\ttraining's l1: 127.228\tvalid_1's l1: 138.524\n",
      "[2100]\ttraining's l1: 126.946\tvalid_1's l1: 138.381\n",
      "[2200]\ttraining's l1: 126.655\tvalid_1's l1: 138.177\n",
      "[2300]\ttraining's l1: 126.352\tvalid_1's l1: 137.996\n",
      "[2400]\ttraining's l1: 126.204\tvalid_1's l1: 137.902\n",
      "[2500]\ttraining's l1: 126.071\tvalid_1's l1: 137.816\n",
      "[2600]\ttraining's l1: 125.911\tvalid_1's l1: 137.717\n",
      "Early stopping, best iteration is:\n",
      "[2661]\ttraining's l1: 125.74\tvalid_1's l1: 137.585\n",
      "Performance of the　prediction: , RMSPE: 139374.036\n",
      "****************************************************************************************************\n",
      "Fold : 5\n",
      "Training until validation scores don't improve for 30 rounds\n",
      "[100]\ttraining's l1: 172.558\tvalid_1's l1: 172.453\n",
      "[200]\ttraining's l1: 152.644\tvalid_1's l1: 151.944\n",
      "[300]\ttraining's l1: 144.55\tvalid_1's l1: 144.889\n",
      "[400]\ttraining's l1: 140.378\tvalid_1's l1: 141.825\n",
      "[500]\ttraining's l1: 137.748\tvalid_1's l1: 139.798\n",
      "[600]\ttraining's l1: 137.33\tvalid_1's l1: 139.436\n",
      "[700]\ttraining's l1: 137.074\tvalid_1's l1: 139.258\n",
      "Early stopping, best iteration is:\n",
      "[677]\ttraining's l1: 137.085\tvalid_1's l1: 139.253\n",
      "Performance of the　prediction: , RMSPE: 141063.702\n",
      "****************************************************************************************************\n",
      "Fold : 6\n",
      "Training until validation scores don't improve for 30 rounds\n",
      "[100]\ttraining's l1: 171.937\tvalid_1's l1: 181.08\n",
      "[200]\ttraining's l1: 151.493\tvalid_1's l1: 160.312\n",
      "[300]\ttraining's l1: 143.861\tvalid_1's l1: 153.424\n",
      "[400]\ttraining's l1: 139.959\tvalid_1's l1: 149.386\n",
      "[500]\ttraining's l1: 137.183\tvalid_1's l1: 146.81\n",
      "[600]\ttraining's l1: 136.799\tvalid_1's l1: 146.407\n",
      "[700]\ttraining's l1: 136.607\tvalid_1's l1: 146.228\n",
      "[800]\ttraining's l1: 136.137\tvalid_1's l1: 145.801\n",
      "[900]\ttraining's l1: 135.644\tvalid_1's l1: 145.277\n",
      "[1000]\ttraining's l1: 134.264\tvalid_1's l1: 144.004\n",
      "[1100]\ttraining's l1: 132.761\tvalid_1's l1: 142.725\n",
      "[1200]\ttraining's l1: 131.255\tvalid_1's l1: 141.251\n",
      "[1300]\ttraining's l1: 130.592\tvalid_1's l1: 140.716\n",
      "[1400]\ttraining's l1: 129.812\tvalid_1's l1: 139.851\n",
      "[1500]\ttraining's l1: 129.254\tvalid_1's l1: 139.268\n",
      "[1600]\ttraining's l1: 128.872\tvalid_1's l1: 139.07\n",
      "[1700]\ttraining's l1: 128.456\tvalid_1's l1: 138.785\n",
      "[1800]\ttraining's l1: 128.135\tvalid_1's l1: 138.649\n",
      "[1900]\ttraining's l1: 127.651\tvalid_1's l1: 138.171\n",
      "Early stopping, best iteration is:\n",
      "[1902]\ttraining's l1: 127.648\tvalid_1's l1: 138.168\n",
      "Performance of the　prediction: , RMSPE: 139964.039\n",
      "****************************************************************************************************\n",
      "Fold : 7\n",
      "Training until validation scores don't improve for 30 rounds\n",
      "[100]\ttraining's l1: 173.218\tvalid_1's l1: 167.421\n",
      "[200]\ttraining's l1: 152.313\tvalid_1's l1: 147.248\n",
      "[300]\ttraining's l1: 144.43\tvalid_1's l1: 139.532\n",
      "[400]\ttraining's l1: 141.038\tvalid_1's l1: 136.519\n",
      "[500]\ttraining's l1: 139.059\tvalid_1's l1: 134.796\n",
      "[600]\ttraining's l1: 138.587\tvalid_1's l1: 134.46\n",
      "Early stopping, best iteration is:\n",
      "[598]\ttraining's l1: 138.592\tvalid_1's l1: 134.456\n",
      "Performance of the　prediction: , RMSPE: 136204.044\n",
      "****************************************************************************************************\n",
      "Fold : 8\n",
      "Training until validation scores don't improve for 30 rounds\n",
      "[100]\ttraining's l1: 172.281\tvalid_1's l1: 177.214\n",
      "[200]\ttraining's l1: 151.89\tvalid_1's l1: 156.205\n",
      "[300]\ttraining's l1: 144.22\tvalid_1's l1: 148.948\n",
      "[400]\ttraining's l1: 140.636\tvalid_1's l1: 145.942\n",
      "[500]\ttraining's l1: 138.565\tvalid_1's l1: 144.064\n",
      "[600]\ttraining's l1: 137.705\tvalid_1's l1: 143.183\n",
      "Early stopping, best iteration is:\n",
      "[572]\ttraining's l1: 137.734\tvalid_1's l1: 143.18\n",
      "Performance of the　prediction: , RMSPE: 145041.413\n",
      "****************************************************************************************************\n",
      "Fold : 9\n",
      "Training until validation scores don't improve for 30 rounds\n",
      "[100]\ttraining's l1: 172.981\tvalid_1's l1: 173.172\n",
      "[200]\ttraining's l1: 152.519\tvalid_1's l1: 154.037\n",
      "[300]\ttraining's l1: 144.277\tvalid_1's l1: 146.855\n",
      "[400]\ttraining's l1: 139.442\tvalid_1's l1: 142.778\n",
      "[500]\ttraining's l1: 137.311\tvalid_1's l1: 140.976\n",
      "[600]\ttraining's l1: 136.93\tvalid_1's l1: 140.785\n",
      "Early stopping, best iteration is:\n",
      "[648]\ttraining's l1: 136.926\tvalid_1's l1: 140.784\n",
      "Performance of the　prediction: , RMSPE: 142614.145\n",
      "****************************************************************************************************\n",
      "Fold : 10\n",
      "Training until validation scores don't improve for 30 rounds\n",
      "[100]\ttraining's l1: 171.369\tvalid_1's l1: 182.256\n",
      "[200]\ttraining's l1: 151.533\tvalid_1's l1: 163.323\n",
      "[300]\ttraining's l1: 143.496\tvalid_1's l1: 154.863\n",
      "[400]\ttraining's l1: 139.555\tvalid_1's l1: 150.299\n",
      "[500]\ttraining's l1: 137.531\tvalid_1's l1: 148.093\n",
      "[600]\ttraining's l1: 137.154\tvalid_1's l1: 147.698\n",
      "[700]\ttraining's l1: 137.132\tvalid_1's l1: 147.64\n",
      "[800]\ttraining's l1: 136.764\tvalid_1's l1: 147.038\n",
      "Early stopping, best iteration is:\n",
      "[781]\ttraining's l1: 136.767\tvalid_1's l1: 147.038\n",
      "Performance of the　prediction: , RMSPE: 148949.673\n",
      "****************************************************************************************************\n",
      "Wall time: 41 s\n"
     ]
    }
   ],
   "source": [
    "%%time\n",
    "for fold, (trn_idx, val_idx) in enumerate(kf.split(X, y)):#, groups=X[\"best_month\"])):\n",
    "\n",
    "    print(\"Fold :\", fold+1)\n",
    "    \n",
    "    # create dataset\n",
    "    X_train, y_train = X.loc[trn_idx], y[trn_idx]\n",
    "    X_valid, y_valid = X.loc[val_idx], y[val_idx]\n",
    "    \n",
    "    #RMSPE weight\n",
    "#     weights = 1/(w_train)\n",
    "    lgbm_train = lgbm.Dataset(X_train,y_train)#,weight = weights)\n",
    "\n",
    "#     weights = 1/(w_valid)\n",
    "    lgbm_valid = lgbm.Dataset(X_valid,y_valid,reference = lgbm_train)#,weight = weights)\n",
    "    \n",
    "    # model \n",
    "    model = lgbm.train(params=params,\n",
    "                      train_set=lgbm_train,\n",
    "                      valid_sets=[lgbm_train, lgbm_valid],\n",
    "                      num_boost_round=15000,         \n",
    "#                       feval='mae',\n",
    "#                     feval=lambda preds, lgbm_train: [feval_RMSE(preds, lgbm_train), \n",
    "#                                                   feval_MAPE(preds, lgbm_train),\n",
    "#                                                      mae(preds, lgbm_train.get_label())\n",
    "#                                                     ],\n",
    "                      verbose_eval=100,\n",
    "#                       categorical_feature = cats                \n",
    "                     )\n",
    "    \n",
    "    # validation \n",
    "    y_pred = model.predict(X_valid, num_iteration=model.best_iteration)\n",
    "    oof[val_idx] = y_pred\n",
    "    features = X_train.columns\n",
    "    RMSPE = round(rmspe(y_true = y_valid, y_pred = y_pred),3)\n",
    "    print(f'Performance of the　prediction: , RMSPE: {RMSPE}')\n",
    "    fold_importance_df= pd.DataFrame({'Feature':[], 'Importance':[]})\n",
    "    fold_importance_df['Feature']= features\n",
    "    fold_importance_df['Importance']= model.feature_importance()\n",
    "    fold_importance_df[\"fold\"] = fold + 1\n",
    "    features_importance = pd.concat([features_importance, fold_importance_df], axis=0)\n",
    "    #keep scores and models\n",
    "    scores += RMSPE / kfolds\n",
    "    models.append(model)\n",
    "    print(\"*\" * 100)"
   ]
  },
  {
   "cell_type": "code",
   "execution_count": 332,
   "metadata": {
    "execution": {
     "iopub.execute_input": "2022-08-17T03:00:56.698517Z",
     "iopub.status.busy": "2022-08-17T03:00:56.697566Z",
     "iopub.status.idle": "2022-08-17T03:00:56.702981Z",
     "shell.execute_reply": "2022-08-17T03:00:56.701986Z",
     "shell.execute_reply.started": "2022-08-17T03:00:56.698475Z"
    }
   },
   "outputs": [],
   "source": [
    "# models = models[10:]\n",
    "# X.columns"
   ]
  },
  {
   "cell_type": "code",
   "execution_count": 333,
   "metadata": {
    "execution": {
     "iopub.execute_input": "2022-08-17T03:00:58.109627Z",
     "iopub.status.busy": "2022-08-17T03:00:58.108673Z",
     "iopub.status.idle": "2022-08-17T03:00:59.579100Z",
     "shell.execute_reply": "2022-08-17T03:00:59.577897Z",
     "shell.execute_reply.started": "2022-08-17T03:00:58.109532Z"
    }
   },
   "outputs": [
    {
     "name": "stdout",
     "output_type": "stream",
     "text": [
      "Feature        object\n",
      "Importance    float64\n",
      "dtype: object\n"
     ]
    },
    {
     "data": {
      "image/png": "[encoded data removed]",
      "text/plain": [
       "<Figure size 576x720 with 1 Axes>"
      ]
     },
     "metadata": {
      "needs_background": "light"
     },
     "output_type": "display_data"
    }
   ],
   "source": [
    "# df_train.best_month.mode()\n",
    "# from sklearn.model_selection import GroupKFold\n",
    "# cv = list(GroupKFold(n_splits=10).split(df_train, df_train[\"sellin\"], groups=df_train[\"best_month\"]))\n",
    "X_test = df_test[X.columns.tolist()].copy()\n",
    "df_test['Item_ID'] = df_test['sku_name'] +'_'+ df_test['month'].astype(str)+ '_'+df_test['year'].astype(str)\n",
    "y_pred = df_test[['Item_ID']]\n",
    "target = np.zeros(len(X_test))\n",
    "target2 = np.zeros(len(X_test))\n",
    "#light gbm models\n",
    "for model in models:\n",
    "    pred = model.predict(X_test[X_valid.columns], num_iteration=model.best_iteration)\n",
    "    target += pred / len(models)\n",
    "y_pred = y_pred.assign(target_y= target)\n",
    "sub = ss.merge(y_pred,on = 'Item_ID')\n",
    "sub['target'] = sub['target_y'].round()*1013\n",
    "# sub['target'] = (sub['target'].astype('int') )\n",
    "sub = sub[['Item_ID','target']]\n",
    "display_importances(features_importance)\n"
   ]
  },
  {
   "cell_type": "code",
   "execution_count": 334,
   "metadata": {},
   "outputs": [
    {
     "data": {
      "text/html": [
       "<div>\n",
       "<style scoped>\n",
       "    .dataframe tbody tr th:only-of-type {\n",
       "        vertical-align: middle;\n",
       "    }\n",
       "\n",
       "    .dataframe tbody tr th {\n",
       "        vertical-align: top;\n",
       "    }\n",
       "\n",
       "    .dataframe thead th {\n",
       "        text-align: right;\n",
       "    }\n",
       "</style>\n",
       "<table border=\"1\" class=\"dataframe\">\n",
       "  <thead>\n",
       "    <tr style=\"text-align: right;\">\n",
       "      <th></th>\n",
       "      <th>Item_ID</th>\n",
       "      <th>target</th>\n",
       "    </tr>\n",
       "  </thead>\n",
       "  <tbody>\n",
       "    <tr>\n",
       "      <th>0</th>\n",
       "      <td>YOSHTLYNYOSHZZ_11_2021</td>\n",
       "      <td>95222.0</td>\n",
       "    </tr>\n",
       "    <tr>\n",
       "      <th>1</th>\n",
       "      <td>YOSHTLYNYOSHZZ_12_2021</td>\n",
       "      <td>208678.0</td>\n",
       "    </tr>\n",
       "    <tr>\n",
       "      <th>2</th>\n",
       "      <td>YOSHTLYNYOSHZZ_1_2022</td>\n",
       "      <td>255276.0</td>\n",
       "    </tr>\n",
       "    <tr>\n",
       "      <th>3</th>\n",
       "      <td>YOSHTLYNYOSHZZ_2_2022</td>\n",
       "      <td>731386.0</td>\n",
       "    </tr>\n",
       "    <tr>\n",
       "      <th>4</th>\n",
       "      <td>YOSHRENECARL_11_2021</td>\n",
       "      <td>174236.0</td>\n",
       "    </tr>\n",
       "    <tr>\n",
       "      <th>...</th>\n",
       "      <td>...</td>\n",
       "      <td>...</td>\n",
       "    </tr>\n",
       "    <tr>\n",
       "      <th>1523</th>\n",
       "      <td>ABEENNEARMAZZ_2_2022</td>\n",
       "      <td>668580.0</td>\n",
       "    </tr>\n",
       "    <tr>\n",
       "      <th>1524</th>\n",
       "      <td>ABEAHAMASHL_11_2021</td>\n",
       "      <td>15195.0</td>\n",
       "    </tr>\n",
       "    <tr>\n",
       "      <th>1525</th>\n",
       "      <td>ABEAHAMASHL_12_2021</td>\n",
       "      <td>95222.0</td>\n",
       "    </tr>\n",
       "    <tr>\n",
       "      <th>1526</th>\n",
       "      <td>ABEAHAMASHL_1_2022</td>\n",
       "      <td>54702.0</td>\n",
       "    </tr>\n",
       "    <tr>\n",
       "      <th>1527</th>\n",
       "      <td>ABEAHAMASHL_2_2022</td>\n",
       "      <td>13169.0</td>\n",
       "    </tr>\n",
       "  </tbody>\n",
       "</table>\n",
       "<p>1528 rows × 2 columns</p>\n",
       "</div>"
      ],
      "text/plain": [
       "                     Item_ID    target\n",
       "0     YOSHTLYNYOSHZZ_11_2021   95222.0\n",
       "1     YOSHTLYNYOSHZZ_12_2021  208678.0\n",
       "2      YOSHTLYNYOSHZZ_1_2022  255276.0\n",
       "3      YOSHTLYNYOSHZZ_2_2022  731386.0\n",
       "4       YOSHRENECARL_11_2021  174236.0\n",
       "...                      ...       ...\n",
       "1523    ABEENNEARMAZZ_2_2022  668580.0\n",
       "1524     ABEAHAMASHL_11_2021   15195.0\n",
       "1525     ABEAHAMASHL_12_2021   95222.0\n",
       "1526      ABEAHAMASHL_1_2022   54702.0\n",
       "1527      ABEAHAMASHL_2_2022   13169.0\n",
       "\n",
       "[1528 rows x 2 columns]"
      ]
     },
     "execution_count": 334,
     "metadata": {},
     "output_type": "execute_result"
    }
   ],
   "source": [
    "sub"
   ]
  },
  {
   "cell_type": "code",
   "execution_count": 335,
   "metadata": {
    "execution": {
     "iopub.execute_input": "2022-08-17T03:01:10.732114Z",
     "iopub.status.busy": "2022-08-17T03:01:10.730601Z",
     "iopub.status.idle": "2022-08-17T03:01:10.745804Z",
     "shell.execute_reply": "2022-08-17T03:01:10.744153Z",
     "shell.execute_reply.started": "2022-08-17T03:01:10.732044Z"
    }
   },
   "outputs": [],
   "source": [
    "sub.to_csv('submission_70.csv',index = False)"
   ]
  },
  {
   "cell_type": "code",
   "execution_count": null,
   "metadata": {
    "execution": {
     "iopub.execute_input": "2022-08-16T01:47:33.487496Z",
     "iopub.status.busy": "2022-08-16T01:47:33.486625Z",
     "iopub.status.idle": "2022-08-16T01:47:33.493445Z",
     "shell.execute_reply": "2022-08-16T01:47:33.492451Z",
     "shell.execute_reply.started": "2022-08-16T01:47:33.487452Z"
    }
   },
   "outputs": [],
   "source": [
    "X_test = df_test[X.columns.tolist()].copy()"
   ]
  },
  {
   "cell_type": "code",
   "execution_count": 320,
   "metadata": {},
   "outputs": [
    {
     "data": {
      "text/plain": [
       "191.5"
      ]
     },
     "execution_count": 320,
     "metadata": {},
     "output_type": "execute_result"
    }
   ],
   "source": [
    "193989.5/1013"
   ]
  },
  {
   "cell_type": "code",
   "execution_count": null,
   "metadata": {
    "execution": {
     "iopub.execute_input": "2022-08-16T01:49:01.601047Z",
     "iopub.status.busy": "2022-08-16T01:49:01.599832Z",
     "iopub.status.idle": "2022-08-16T01:49:01.615977Z",
     "shell.execute_reply": "2022-08-16T01:49:01.614803Z",
     "shell.execute_reply.started": "2022-08-16T01:49:01.601003Z"
    }
   },
   "outputs": [],
   "source": [
    "import lightgbm as lgb\n",
    "# from sklearn.model selection import \n",
    "def fit_predict(n_splits, params, x_train = X, y_train = y, x_test = X_test):\n",
    "    \n",
    "    oof = np.zeros(x_train.shape[0])\n",
    "    \n",
    "    y_preds = []\n",
    "    \n",
    "    cv = KFold(n_splits=n_splits, shuffle=True, random_state=1991028)\n",
    "    for train_idx, valid_idx in cv.split(x_train, y_train):\n",
    "        \n",
    "        x_train_train = x_train.iloc[train_idx]\n",
    "        y_train_train = y_train.iloc[train_idx]\n",
    "        x_train_valid = x_train.iloc[valid_idx]\n",
    "        y_train_valid = y_train.iloc[valid_idx]\n",
    "\n",
    "        lgb_train = lgb.Dataset(data=x_train_train.astype('float32'), label=y_train_train.astype('float32'))\n",
    "        lgb_valid = lgb.Dataset(data=x_train_valid.astype('float32'), label=y_train_valid.astype('float32'))\n",
    "\n",
    "        estimator = lgb.train(params, lgb_train, 15000, valid_sets=lgb_valid,\n",
    "                              early_stopping_rounds=30, verbose_eval=-1)\n",
    "\n",
    "        oof_part = estimator.predict(x_train_valid, num_iteration=estimator.best_iteration)\n",
    "        oof[valid_idx] = oof_part\n",
    "        \n",
    "        if x_test is not None:\n",
    "            y_part = estimator.predict(x_test, num_iteration=estimator.best_iteration)\n",
    "            y_preds.append(y_part)\n",
    "        \n",
    "    score = rmspe(y_train, oof)\n",
    "    print('Score:', score)\n",
    "    \n",
    "    y_pred = np.mean(y_preds, axis=0)\n",
    "    \n",
    "    return y_pred, oof, score\n",
    "## Optuna\n",
    "import optuna\n",
    "\n",
    "\n",
    "columns_to_try = ['sellin']\n",
    "\n",
    "def objective(trial):\n",
    "    \n",
    "    params = {\n",
    "        'objective': 'regression',\n",
    "        'metric': 'mae',\n",
    "        'boosting_type': 'gbdt',\n",
    "#         'boost_from_average': True,\n",
    "        'num_threads': 4,\n",
    "        'random_state': 25031991,\n",
    "        'learning_rate': 0.025,\n",
    "        'verbose': -1,\n",
    "        'num_leaves': trial.suggest_int('num_leaves', 10, 1000),\n",
    "        'min_data_in_leaf': trial.suggest_int('min_data_in_leaf', 10, 200),\n",
    "        'min_child_weight': trial.suggest_loguniform('min_child_weight', 0.001, 0.1),\n",
    "        'max_depth': trial.suggest_int('max_depth', 1, 100),\n",
    "        'bagging_fraction': trial.suggest_loguniform('bagging_fraction', .5, .99),\n",
    "        'feature_fraction': trial.suggest_loguniform('feature_fraction', .5, .99),\n",
    "        'lambda_l1': trial.suggest_loguniform('lambda_l1', 0.1, 2),\n",
    "        'lambda_l2': trial.suggest_loguniform('lambda_l2', 0.1, 2)\n",
    "    }\n",
    "    \n",
    "#     scores = []\n",
    "#     for column in columns_to_try:\n",
    "    _ ,_ , score = fit_predict(10, params, X, y, X_test)\n",
    "#         scores.append(score)\n",
    "    \n",
    "    return score\n",
    "\n"
   ]
  },
  {
   "cell_type": "code",
   "execution_count": null,
   "metadata": {
    "execution": {
     "iopub.execute_input": "2022-08-16T01:49:02.844831Z",
     "iopub.status.busy": "2022-08-16T01:49:02.844122Z",
     "iopub.status.idle": "2022-08-16T03:26:38.133192Z",
     "shell.execute_reply": "2022-08-16T03:26:38.131945Z",
     "shell.execute_reply.started": "2022-08-16T01:49:02.844787Z"
    }
   },
   "outputs": [],
   "source": [
    "study = optuna.create_study(direction='minimize')\n",
    "study.optimize(objective, n_trials=50)"
   ]
  },
  {
   "cell_type": "code",
   "execution_count": null,
   "metadata": {},
   "outputs": [],
   "source": [
    "# {'num_leaves': 170, 'min_data_in_leaf': 10, 'min_child_weight': 0.066978276178616, 'max_depth': 83, 'bagging_fraction': 0.6277904572518515, 'feature_fraction': 0.6965518420559522, 'lambda_l1': 1.6347289329468329, 'lambda_l2': 0.1374430845238362}"
   ]
  }
 ],
 "metadata": {
  "kernelspec": {
   "display_name": "Python 3 (ipykernel)",
   "language": "python",
   "name": "python3"
  },
  "language_info": {
   "codemirror_mode": {
    "name": "ipython",
    "version": 3
   },
   "file_extension": ".py",
   "mimetype": "text/x-python",
   "name": "python",
   "nbconvert_exporter": "python",
   "pygments_lexer": "ipython3",
   "version": "3.7.4"
  }
 },
 "nbformat": 4,
 "nbformat_minor": 4
}
